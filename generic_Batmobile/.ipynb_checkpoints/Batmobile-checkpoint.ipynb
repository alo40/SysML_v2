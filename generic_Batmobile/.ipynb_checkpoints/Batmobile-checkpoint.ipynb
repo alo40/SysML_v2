{
 "cells": [
  {
   "cell_type": "code",
   "execution_count": 7,
   "id": "d0d6d036-62c6-40fc-90ce-4bfd8f3cc75e",
   "metadata": {
    "collapsed": true,
    "jupyter": {
     "outputs_hidden": true
    },
    "scrolled": true
   },
   "outputs": [
    {
     "data": {
      "text/plain": [
       "The following SysML v2 magic commands are available.\n",
       "For help on a specific command, use \"%help <COMMAND>\" or \"%<cmd> -h\".\n",
       "\n",
       "%eval\t\tEvaluate a given expression.\n",
       "%export\t\tSave a file of the JSON representation of the abstract syntax tree rooted in the named element.\n",
       "%help\t\tGet a list of available commands or help on a specific command\n",
       "%list\t\tList loaded library packages or the results of a given query\n",
       "%show\t\tPrint the abstract syntax tree rooted in a named element\n",
       "%publish\tPublish to the repository the modele elements rooted in a named element\n",
       "%view\t\tRender the view specified by the named view usage\n",
       "%viz\t\tVisualize the name model elements\n"
      ]
     },
     "execution_count": 7,
     "metadata": {},
     "output_type": "execute_result"
    }
   ],
   "source": [
    "%help"
   ]
  },
  {
   "cell_type": "code",
   "execution_count": 5,
   "id": "9a0f293b-87a6-4850-9fda-14d960c0964c",
   "metadata": {},
   "outputs": [
    {
     "data": {
      "text/plain": [
       "Usage: %viz [--view=<VIEW>] [--style=<STYLE>...] <NAME> [<NAME>...]\n",
       "\n",
       "Visualize model elements of <NAME>(s). <NAME>s must be fully qualified.\n",
       "\n",
       "<VIEW> is case insensitive and possible candidates are:\n",
       "   DEFAULT\t\tAutomatically choose an appropriate view from the given model element names\n",
       "   TREE\t\t\tShow a tree-structural view, like a Block Definition Diagram (BDD)\n",
       "   INTERCONNECTION\tShow an interconnection view, like an Internal Block Diagram (IBD)\n",
       "   STATE\t\tShow state machines\n",
       "   ACTION\t\tShow actions like an activity diagram\n",
       "   SEQUENCE\t\tShow events and messages in a sequence diagram\n",
       "   MIXED\t\tShow multiple views\n",
       "\n",
       "<STYLE> is also case insensitive. Multiple --style options are allowed.  The possible style names are:\n",
       "  DEFAULT\t\tStandard B&&W\n",
       "  STDCOLOR\t\tStandard style with colors\n",
       "  PLANTUML\t\tPlantUML Style\n",
       "  TB\t\t\tTop-to-Bottom orientation\n",
       "  LR\t\t\tLeft-to-Right orientation\n",
       "  POLYLINE\t\tPolyline style\n",
       "  ORTHOLINE\t\tOrthogonal line style\n",
       "  SHOWLIB\t\tShow elements of the standard libraries\n",
       "  SHOWINHERITED\t\tShow inherited members\n",
       "  COMPMOST\t\tShow as many memberships in a compartment as possible\n",
       "  COMPTREE\t\tShow nested ports in a compartment\n",
       "  SHOWIMPORTED\t\tShow imported elements\n",
       "  HIDEMETADATA\t\tHide metadata\n",
       "  SHOWMETACLASS\t\tShow metaclasses of metaobjects\n",
       "  EVAL\t\tEvaluate expressions\n",
       "  NODEMULTIPLICITY\t\tShow multiplicities in nodes\n",
       "  EDGEMULTIPLICITY\t\tShow multiplicities on edges\n",
       "  IMPLICITMULTIPLICITY\t\tShow implicit multiplicities\n",
       "\n",
       "Example:\n",
       "\t%viz --view Tree --style LR --style ortholine Pkg1::PartDef Pkg1::Pkg2::partUsage\n",
       "should visualize Pkg1::PartDef and Pkg1::Pkg2::partUsage with a tree view ordered in the left-to-right direction with orthogonal lines.\n"
      ]
     },
     "execution_count": 5,
     "metadata": {},
     "output_type": "execute_result"
    }
   ],
   "source": [
    "%help %viz"
   ]
  },
  {
   "cell_type": "code",
   "execution_count": 882,
   "id": "89c5bc03-2024-4beb-b996-593ed326bcb9",
   "metadata": {},
   "outputs": [
    {
     "data": {
      "text/plain": [
       "Package Metamodel (cb4ba114-43f1-4708-a948-ec3a1ecdcf3c)\n"
      ]
     },
     "execution_count": 882,
     "metadata": {},
     "output_type": "execute_result"
    }
   ],
   "source": [
    "package Metamodel {\n",
    "    part def System {\n",
    "        doc /* Represents an engineered system ... */\n",
    "        attribute problemStatement : ScalarValues::String {\n",
    "            doc /* The problem is solved by the system. */\n",
    "        }\n",
    "        attribute systemIdea : ScalarValues::String {\n",
    "            doc /* The elevator pitch of how the system solves the problem. */\n",
    "        }\n",
    "    }\n",
    "    part systems[*] : System; // represents the set of all usages of the concept\n",
    "    metadata def <system> SystemDSM specializes Metaobjects::SemanticMetadata {\n",
    "        redefines baseType = systems meta SysML::Usage;\n",
    "    }\n",
    "}"
   ]
  },
  {
   "cell_type": "code",
   "execution_count": 884,
   "id": "9afff2d7-9375-4dd1-b309-f2517e89a6a9",
   "metadata": {},
   "outputs": [
    {
     "data": {
      "image/svg+xml": [
       "<?xml version=\"1.0\" encoding=\"UTF-8\" standalone=\"no\"?><svg xmlns=\"http://www.w3.org/2000/svg\" xmlns:xlink=\"http://www.w3.org/1999/xlink\" contentStyleType=\"text/css\" height=\"356px\" preserveAspectRatio=\"none\" style=\"width:491px;height:356px;background:#FFFFFF;\" version=\"1.1\" viewBox=\"0 0 491 356\" width=\"491px\" zoomAndPan=\"magnify\"><defs/><g><!--MD5=[fbc87193dbaf4d95561dea2c320d4a47]\n",
       "cluster E1--><g id=\"cluster_E1\"><a href=\"psysml:cb4ba114-43f1-4708-a948-ec3a1ecdcf3c\" target=\"_top\" title=\"psysml:cb4ba114-43f1-4708-a948-ec3a1ecdcf3c\" xlink:actuate=\"onRequest\" xlink:href=\"psysml:cb4ba114-43f1-4708-a948-ec3a1ecdcf3c\" xlink:show=\"new\" xlink:title=\"psysml:cb4ba114-43f1-4708-a948-ec3a1ecdcf3c\" xlink:type=\"simple\"><polygon fill=\"none\" points=\"16,6,100,6,107,29.6094,474,29.6094,474,349,16,349,16,6\" style=\"stroke:#000000;stroke-width:1.5;\"/><line style=\"stroke:#000000;stroke-width:1.5;\" x1=\"16\" x2=\"107\" y1=\"29.6094\" y2=\"29.6094\"/><text fill=\"#000000\" font-family=\"sans-serif\" font-size=\"14\" font-weight=\"bold\" lengthAdjust=\"spacing\" textLength=\"78\" x=\"20\" y=\"22.5332\">Metamodel</text></a></g><!--MD5=[b4997ac47864f28c2f74865a473b2911]\n",
       "class E2--><a href=\"psysml:b53bf1c1-97b6-437a-afb0-f7532735f552\" target=\"_top\" title=\"psysml:b53bf1c1-97b6-437a-afb0-f7532735f552\" xlink:actuate=\"onRequest\" xlink:href=\"psysml:b53bf1c1-97b6-437a-afb0-f7532735f552\" xlink:show=\"new\" xlink:title=\"psysml:b53bf1c1-97b6-437a-afb0-f7532735f552\" xlink:type=\"simple\"><g id=\"elem_E2\"><rect fill=\"#FFFFFF\" height=\"133.6188\" id=\"E2\" style=\"stroke:#181818;stroke-width:0.5;\" width=\"245\" x=\"212.5\" y=\"199\"/><text fill=\"#000000\" font-family=\"sans-serif\" font-size=\"12\" font-style=\"italic\" lengthAdjust=\"spacing\" textLength=\"58\" x=\"306\" y=\"216.457\">«part  def»</text><text fill=\"#000000\" font-family=\"sans-serif\" font-size=\"14\" lengthAdjust=\"spacing\" textLength=\"46\" x=\"312\" y=\"233.627\">System</text><line style=\"stroke:#181818;stroke-width:0.5;\" x1=\"213.5\" x2=\"456.5\" y1=\"241.7031\" y2=\"241.7031\"/><text fill=\"#000000\" font-family=\"sans-serif\" font-size=\"14\" lengthAdjust=\"spacing\" textLength=\"233\" x=\"218.5\" y=\"271.2801\">Represents an engineered system ...</text><text fill=\"#000000\" font-family=\"sans-serif\" font-size=\"14\" font-style=\"italic\" lengthAdjust=\"spacing\" textLength=\"23\" x=\"323.5\" y=\"254.9316\">doc</text><line style=\"stroke:#181818;stroke-width:1.0;\" x1=\"213.5\" x2=\"456.5\" y1=\"278.3563\" y2=\"278.3563\"/><text fill=\"#000000\" font-family=\"sans-serif\" font-size=\"14\" lengthAdjust=\"spacing\" textLength=\"160\" x=\"218.5\" y=\"307.9332\">problemStatement: String</text><text fill=\"#000000\" font-family=\"sans-serif\" font-size=\"14\" lengthAdjust=\"spacing\" textLength=\"116\" x=\"218.5\" y=\"325.5426\">systemIdea: String</text><text fill=\"#000000\" font-family=\"sans-serif\" font-size=\"14\" font-style=\"italic\" lengthAdjust=\"spacing\" textLength=\"59\" x=\"305.5\" y=\"291.5848\">attributes</text></g></a><!--MD5=[09b614a08d8cba4a07c9adeb5e0fee81]\n",
       "class E3--><a href=\"psysml:b64024f3-835f-49f9-a8f7-13bb4d5ee718\" target=\"_top\" title=\"psysml:b64024f3-835f-49f9-a8f7-13bb4d5ee718\" xlink:actuate=\"onRequest\" xlink:href=\"psysml:b64024f3-835f-49f9-a8f7-13bb4d5ee718\" xlink:show=\"new\" xlink:title=\"psysml:b64024f3-835f-49f9-a8f7-13bb4d5ee718\" xlink:type=\"simple\"><g id=\"elem_E3\"><rect fill=\"#FFFFFF\" height=\"50.7031\" id=\"E3\" rx=\"10\" ry=\"10\" style=\"stroke:#181818;stroke-width:0.5;\" width=\"119\" x=\"338.5\" y=\"65\"/><text fill=\"#000000\" font-family=\"sans-serif\" font-size=\"12\" font-style=\"italic\" lengthAdjust=\"spacing\" textLength=\"35\" x=\"380.5\" y=\"82.457\">«part»</text><text fill=\"#000000\" font-family=\"sans-serif\" font-size=\"14\" lengthAdjust=\"spacing\" textLength=\"105\" x=\"341.5\" y=\"99.627\">systems: System</text><line style=\"stroke:#181818;stroke-width:0.5;\" x1=\"339.5\" x2=\"456.5\" y1=\"107.7031\" y2=\"107.7031\"/></g></a><!--MD5=[ebbe1d658d1005bcc118a6aa81145e00]\n",
       "class E4--><a href=\"psysml:98dcbaf6-f0fc-4764-bd39-9caf6e6cacd0\" target=\"_top\" title=\"psysml:98dcbaf6-f0fc-4764-bd39-9caf6e6cacd0\" xlink:actuate=\"onRequest\" xlink:href=\"psysml:98dcbaf6-f0fc-4764-bd39-9caf6e6cacd0\" xlink:show=\"new\" xlink:title=\"psysml:98dcbaf6-f0fc-4764-bd39-9caf6e6cacd0\" xlink:type=\"simple\"><g id=\"elem_E4\"><rect fill=\"#FFFFFF\" height=\"96.9656\" id=\"E4\" style=\"stroke:#181818;stroke-width:0.5;\" width=\"271\" x=\"32.5\" y=\"42\"/><text fill=\"#000000\" font-family=\"sans-serif\" font-size=\"12\" font-style=\"italic\" lengthAdjust=\"spacing\" textLength=\"89\" x=\"123.5\" y=\"59.457\">«metadata  def»</text><text fill=\"#000000\" font-family=\"sans-serif\" font-size=\"14\" lengthAdjust=\"spacing\" textLength=\"140\" x=\"98\" y=\"76.627\">&lt;system&gt; SystemDSM</text><line style=\"stroke:#181818;stroke-width:0.5;\" x1=\"33.5\" x2=\"302.5\" y1=\"84.7031\" y2=\"84.7031\"/><text fill=\"#000000\" font-family=\"sans-serif\" font-size=\"14\" lengthAdjust=\"spacing\" textLength=\"259\" x=\"38.5\" y=\"114.2801\">baseType = systems meta SysML::Usage</text><text fill=\"#000000\" font-family=\"sans-serif\" font-size=\"14\" font-style=\"italic\" lengthAdjust=\"spacing\" textLength=\"209\" x=\"38.5\" y=\"131.8895\">:&gt;&gt;SemanticMetadata::baseType</text><text fill=\"#000000\" font-family=\"sans-serif\" font-size=\"14\" font-style=\"italic\" lengthAdjust=\"spacing\" textLength=\"68\" x=\"134\" y=\"97.9316\">references</text></g></a><!--MD5=[05d275557350bfb9b23a4ef7222b4c39]\n",
       "link E3 to E2--><g id=\"link_E3_E2\"><a href=\"psysml:e358ce66-3bfe-4f8e-9b9f-cd7aa51cc030\" target=\"_top\" title=\"psysml:e358ce66-3bfe-4f8e-9b9f-cd7aa51cc030\" xlink:actuate=\"onRequest\" xlink:href=\"psysml:e358ce66-3bfe-4f8e-9b9f-cd7aa51cc030\" xlink:show=\"new\" xlink:title=\"psysml:e358ce66-3bfe-4f8e-9b9f-cd7aa51cc030\" xlink:type=\"simple\"><path d=\"M388.97,116.36 C382.86,133.21 374.38,156.55 365.95,179.75 \" fill=\"none\" id=\"E3-to-E2\" style=\"stroke:#181818;stroke-width:1.0;\"/><polygon fill=\"#FFFFFF\" points=\"359.1,198.63,359.0072,178.3818,372.166,183.1613,359.1,198.63\" style=\"stroke:#181818;stroke-width:1.0;\"/><ellipse cx=\"362.833\" cy=\"173.707\" fill=\"#181818\" rx=\"2\" ry=\"2\" style=\"stroke:#181818;stroke-width:1.0;\"/><ellipse cx=\"372.2321\" cy=\"177.121\" fill=\"#181818\" rx=\"2\" ry=\"2\" style=\"stroke:#181818;stroke-width:1.0;\"/></a></g><!--MD5=[61ba535ffa45f15e4bce5426eb635f78]\n",
       "@startuml\r\n",
       "skin sysmlbw\r\n",
       "skinparam monochrome true\r\n",
       "skinparam wrapWidth 300\r\n",
       "hide circle\r\n",
       "\r\n",
       "package \"Metamodel\" as E1  [[psysml:cb4ba114-43f1-4708-a948-ec3a1ecdcf3c ]]  {\r\n",
       "comp def \"System\" as E2  <<(T,blue) part  def>> [[psysml:b53bf1c1-97b6-437a-afb0-f7532735f552 ]] {\r\n",
       "##//doc//##\r\n",
       "Represents an engineered system ...\r\n",
       "- -\r\n",
       "##//attributes//##\r\n",
       "problemStatement: String\r\n",
       "systemIdea: String\r\n",
       "}\r\n",
       "comp usage \"systems: System  \" as E3  <<(T,blue) part>> [[psysml:b64024f3-835f-49f9-a8f7-13bb4d5ee718 ]] {\r\n",
       "}\r\n",
       "comp def \"~<system> SystemDSM\" as E4  <<(T,blue) metadata  def>> [[psysml:98dcbaf6-f0fc-4764-bd39-9caf6e6cacd0 ]] {\r\n",
       "##//references//##\r\n",
       "baseType <U+003D> systems meta SysML::Usage\\n//:>>SemanticMetadata::baseType// \r\n",
       "}\r\n",
       "}\r\n",
       "E3 - -:|> E2 [[psysml:e358ce66-3bfe-4f8e-9b9f-cd7aa51cc030 ]] \r\n",
       "@enduml\r\n",
       "\n",
       "PlantUML version 1.2022.7(Mon Aug 22 11:01:30 GMT-06:00 2022)\n",
       "(EPL source distribution)\n",
       "Java Runtime: OpenJDK Runtime Environment\n",
       "JVM: OpenJDK 64-Bit Server VM\n",
       "Default Encoding: UTF-8\n",
       "Language: en\n",
       "Country: US\n",
       "--></g></svg>"
      ]
     },
     "execution_count": 884,
     "metadata": {},
     "output_type": "execute_result"
    }
   ],
   "source": [
    "%viz Metamodel"
   ]
  },
  {
   "cell_type": "code",
   "execution_count": 850,
   "id": "87b32751-296d-4c40-b104-e004dd7161a1",
   "metadata": {
    "jupyter": {
     "source_hidden": true
    }
   },
   "outputs": [
    {
     "data": {
      "text/plain": [
       "Package Requirements (7a13d9ed-044c-4ffc-8108-3a0e6cef827d)\n"
      ]
     },
     "execution_count": 850,
     "metadata": {},
     "output_type": "execute_result"
    }
   ],
   "source": [
    "package Requirements {\n",
    "    private import Definitions::*;\n",
    "    requirement def VehicleMaxSpeed {\n",
    "        doc /* The actual speed of the vehicle shall be less than the maximun speed. */\n",
    "        // stakeholder pm : ProductManagement;\n",
    "        subject vehicle : Vehicle;\n",
    "        attribute maxSpeed : SI::SpeedUnit;\n",
    "    }\n",
    "    requirement batmobileSpecification {\n",
    "        requirement <'REQ42'>\n",
    "            batmobileMaxSpeed : VehicleMaxSpeed {\n",
    "                redefines maxSpeed = 230 [SI::'km/h'];\n",
    "            }\n",
    "        requirement <'REQ43'>\n",
    "            batmobileAcceleration;\n",
    "    }\n",
    "}"
   ]
  },
  {
   "cell_type": "code",
   "execution_count": 852,
   "id": "d9894260-deef-4c01-8d2d-940521ae4d37",
   "metadata": {
    "collapsed": true,
    "jupyter": {
     "outputs_hidden": true
    }
   },
   "outputs": [
    {
     "data": {
      "image/svg+xml": [
       "<?xml version=\"1.0\" encoding=\"UTF-8\" standalone=\"no\"?><svg xmlns=\"http://www.w3.org/2000/svg\" xmlns:xlink=\"http://www.w3.org/1999/xlink\" contentStyleType=\"text/css\" height=\"754px\" preserveAspectRatio=\"none\" style=\"width:1000px;height:754px;background:#FFFFFF;\" version=\"1.1\" viewBox=\"0 0 1000 754\" width=\"1000px\" zoomAndPan=\"magnify\"><defs/><g><!--MD5=[fbc87193dbaf4d95561dea2c320d4a47]\n",
       "cluster E1--><g id=\"cluster_E1\"><a href=\"psysml:e548bb99-db4e-4fd9-851f-b3e54a205fd3\" target=\"_top\" title=\"psysml:e548bb99-db4e-4fd9-851f-b3e54a205fd3\" xlink:actuate=\"onRequest\" xlink:href=\"psysml:e548bb99-db4e-4fd9-851f-b3e54a205fd3\" xlink:show=\"new\" xlink:title=\"psysml:e548bb99-db4e-4fd9-851f-b3e54a205fd3\" xlink:type=\"simple\"><polygon fill=\"none\" points=\"16,6,197,6,204,29.6094,983,29.6094,983,747,16,747,16,6\" style=\"stroke:#000000;stroke-width:1.5;\"/><line style=\"stroke:#000000;stroke-width:1.5;\" x1=\"16\" x2=\"204\" y1=\"29.6094\" y2=\"29.6094\"/><text fill=\"#000000\" font-family=\"sans-serif\" font-size=\"14\" font-weight=\"bold\" lengthAdjust=\"spacing\" textLength=\"175\" x=\"20\" y=\"22.5332\">Requirements_Definition</text></a></g><!--MD5=[b4997ac47864f28c2f74865a473b2911]\n",
       "class E2--><a href=\"psysml:7595f945-cf92-4a42-8008-9dd5273735f0\" target=\"_top\" title=\"psysml:7595f945-cf92-4a42-8008-9dd5273735f0\" xlink:actuate=\"onRequest\" xlink:href=\"psysml:7595f945-cf92-4a42-8008-9dd5273735f0\" xlink:show=\"new\" xlink:title=\"psysml:7595f945-cf92-4a42-8008-9dd5273735f0\" xlink:type=\"simple\"><g id=\"elem_E2\"><rect fill=\"#FFFFFF\" height=\"133.6188\" id=\"E2\" style=\"stroke:#181818;stroke-width:0.5;\" width=\"296\" x=\"222\" y=\"347\"/><text fill=\"#000000\" font-family=\"sans-serif\" font-size=\"12\" font-style=\"italic\" lengthAdjust=\"spacing\" textLength=\"104\" x=\"318\" y=\"364.457\">«requirement  def»</text><text fill=\"#000000\" font-family=\"sans-serif\" font-size=\"14\" lengthAdjust=\"spacing\" textLength=\"112\" x=\"314\" y=\"381.627\">VehicleMaxSpeed</text><line style=\"stroke:#181818;stroke-width:0.5;\" x1=\"223\" x2=\"517\" y1=\"389.7031\" y2=\"389.7031\"/><text fill=\"#000000\" font-family=\"sans-serif\" font-size=\"14\" lengthAdjust=\"spacing\" textLength=\"280\" x=\"228\" y=\"419.2801\">The actual speed of the vehicle shall be less</text><text fill=\"#000000\" font-family=\"sans-serif\" font-size=\"14\" lengthAdjust=\"spacing\" textLength=\"158\" x=\"228\" y=\"436.8895\">than the maximun speed.</text><text fill=\"#000000\" font-family=\"sans-serif\" font-size=\"14\" font-style=\"italic\" lengthAdjust=\"spacing\" textLength=\"23\" x=\"358.5\" y=\"402.9316\">doc</text><line style=\"stroke:#181818;stroke-width:1.0;\" x1=\"223\" x2=\"517\" y1=\"443.9656\" y2=\"443.9656\"/><text fill=\"#000000\" font-family=\"sans-serif\" font-size=\"14\" lengthAdjust=\"spacing\" textLength=\"139\" x=\"228\" y=\"473.5426\">maxSpeed: SpeedUnit</text><text fill=\"#000000\" font-family=\"sans-serif\" font-size=\"14\" font-style=\"italic\" lengthAdjust=\"spacing\" textLength=\"59\" x=\"340.5\" y=\"457.1941\">attributes</text></g></a><!--MD5=[09b614a08d8cba4a07c9adeb5e0fee81]\n",
       "class E3--><a href=\"psysml:b5ca7772-b108-4821-b34d-9558cade0aa1\" target=\"_top\" title=\"psysml:b5ca7772-b108-4821-b34d-9558cade0aa1\" xlink:actuate=\"onRequest\" xlink:href=\"psysml:b5ca7772-b108-4821-b34d-9558cade0aa1\" xlink:show=\"new\" xlink:title=\"psysml:b5ca7772-b108-4821-b34d-9558cade0aa1\" xlink:type=\"simple\"><g id=\"elem_E3\"><rect fill=\"#FFFFFF\" height=\"79.3563\" id=\"E3\" rx=\"10\" ry=\"10\" style=\"stroke:#181818;stroke-width:0.5;\" width=\"169\" x=\"285.5\" y=\"541\"/><text fill=\"#000000\" font-family=\"sans-serif\" font-size=\"12\" font-style=\"italic\" lengthAdjust=\"spacing\" textLength=\"54\" x=\"343\" y=\"558.457\">«subject»</text><text fill=\"#000000\" font-family=\"sans-serif\" font-size=\"14\" lengthAdjust=\"spacing\" textLength=\"44\" x=\"348\" y=\"575.627\">vehicle</text><line style=\"stroke:#181818;stroke-width:0.5;\" x1=\"286.5\" x2=\"453.5\" y1=\"583.7031\" y2=\"583.7031\"/><text fill=\"#000000\" font-family=\"sans-serif\" font-size=\"14\" lengthAdjust=\"spacing\" textLength=\"157\" x=\"291.5\" y=\"613.2801\">^actualSpeed: SpeedUnit</text><text fill=\"#000000\" font-family=\"sans-serif\" font-size=\"14\" font-style=\"italic\" lengthAdjust=\"spacing\" textLength=\"59\" x=\"340.5\" y=\"596.9316\">attributes</text></g></a><!--MD5=[ebbe1d658d1005bcc118a6aa81145e00]\n",
       "class E4--><a href=\"psysml:f4735f64-c801-42cf-abef-dbb74d44c414\" target=\"_top\" title=\"psysml:f4735f64-c801-42cf-abef-dbb74d44c414\" xlink:actuate=\"onRequest\" xlink:href=\"psysml:f4735f64-c801-42cf-abef-dbb74d44c414\" xlink:show=\"new\" xlink:title=\"psysml:f4735f64-c801-42cf-abef-dbb74d44c414\" xlink:type=\"simple\"><g id=\"elem_E4\"><rect fill=\"#FFFFFF\" height=\"50.7031\" id=\"E4\" rx=\"10\" ry=\"10\" style=\"stroke:#181818;stroke-width:0.5;\" width=\"55\" x=\"295.5\" y=\"680\"/><text fill=\"#000000\" font-family=\"sans-serif\" font-size=\"12\" font-style=\"italic\" lengthAdjust=\"spacing\" textLength=\"38\" x=\"304\" y=\"697.457\">«item»</text><text fill=\"#000000\" font-family=\"sans-serif\" font-size=\"14\" lengthAdjust=\"spacing\" textLength=\"41\" x=\"298.5\" y=\"714.627\">^driver</text><line style=\"stroke:#181818;stroke-width:0.5;\" x1=\"296.5\" x2=\"349.5\" y1=\"722.7031\" y2=\"722.7031\"/></g></a><!--MD5=[270fce915f116d4de14055a7c1d9a0f3]\n",
       "class E5--><a href=\"psysml:c8ae15b1-c4a1-402f-837c-a126dd46f560\" target=\"_top\" title=\"psysml:c8ae15b1-c4a1-402f-837c-a126dd46f560\" xlink:actuate=\"onRequest\" xlink:href=\"psysml:c8ae15b1-c4a1-402f-837c-a126dd46f560\" xlink:show=\"new\" xlink:title=\"psysml:c8ae15b1-c4a1-402f-837c-a126dd46f560\" xlink:type=\"simple\"><g id=\"elem_E5\"><rect fill=\"#FFFFFF\" height=\"50.7031\" id=\"E5\" rx=\"10\" ry=\"10\" style=\"stroke:#181818;stroke-width:0.5;\" width=\"62\" x=\"386\" y=\"680\"/><text fill=\"#000000\" font-family=\"sans-serif\" font-size=\"12\" font-style=\"italic\" lengthAdjust=\"spacing\" textLength=\"35\" x=\"399.5\" y=\"697.457\">«part»</text><text fill=\"#000000\" font-family=\"sans-serif\" font-size=\"14\" lengthAdjust=\"spacing\" textLength=\"48\" x=\"389\" y=\"714.627\">^engine</text><line style=\"stroke:#181818;stroke-width:0.5;\" x1=\"387\" x2=\"447\" y1=\"722.7031\" y2=\"722.7031\"/></g></a><!--MD5=[60a26617385b1d2d0262a64233df1f8d]\n",
       "class E6--><a href=\"psysml:88ab5370-7896-4f27-8751-bfd67c4f29ca\" target=\"_top\" title=\"psysml:88ab5370-7896-4f27-8751-bfd67c4f29ca\" xlink:actuate=\"onRequest\" xlink:href=\"psysml:88ab5370-7896-4f27-8751-bfd67c4f29ca\" xlink:show=\"new\" xlink:title=\"psysml:88ab5370-7896-4f27-8751-bfd67c4f29ca\" xlink:type=\"simple\"><g id=\"elem_E6\"><rect fill=\"#FFFFFF\" height=\"50.7031\" id=\"E6\" rx=\"10\" ry=\"10\" style=\"stroke:#181818;stroke-width:0.5;\" width=\"155\" x=\"625.5\" y=\"42\"/><text fill=\"#000000\" font-family=\"sans-serif\" font-size=\"12\" font-style=\"italic\" lengthAdjust=\"spacing\" textLength=\"81\" x=\"662.5\" y=\"59.457\">«requirement»</text><text fill=\"#000000\" font-family=\"sans-serif\" font-size=\"14\" lengthAdjust=\"spacing\" textLength=\"141\" x=\"628.5\" y=\"76.627\">batmobileSpecification</text><line style=\"stroke:#181818;stroke-width:0.5;\" x1=\"626.5\" x2=\"779.5\" y1=\"84.7031\" y2=\"84.7031\"/></g></a><!--MD5=[2156ba9850f5573cc1fc38a6a4b2f02b]\n",
       "class E7--><a href=\"psysml:602d6a70-f278-4812-991c-98496d3aac69\" target=\"_top\" title=\"psysml:602d6a70-f278-4812-991c-98496d3aac69\" xlink:actuate=\"onRequest\" xlink:href=\"psysml:602d6a70-f278-4812-991c-98496d3aac69\" xlink:show=\"new\" xlink:title=\"psysml:602d6a70-f278-4812-991c-98496d3aac69\" xlink:type=\"simple\"><g id=\"elem_E7\"><rect fill=\"#FFFFFF\" height=\"133.6188\" id=\"E7\" rx=\"10\" ry=\"10\" style=\"stroke:#181818;stroke-width:0.5;\" width=\"327\" x=\"385.5\" y=\"153\"/><text fill=\"#000000\" font-family=\"sans-serif\" font-size=\"12\" font-style=\"italic\" lengthAdjust=\"spacing\" textLength=\"81\" x=\"508.5\" y=\"170.457\">«requirement»</text><text fill=\"#000000\" font-family=\"sans-serif\" font-size=\"14\" lengthAdjust=\"spacing\" textLength=\"313\" x=\"388.5\" y=\"187.627\">&lt;REQ42&gt; batmobileMaxSpeed: VehicleMaxSpeed</text><line style=\"stroke:#181818;stroke-width:0.5;\" x1=\"386.5\" x2=\"711.5\" y1=\"195.7031\" y2=\"195.7031\"/><text fill=\"#000000\" font-family=\"sans-serif\" font-size=\"14\" lengthAdjust=\"spacing\" textLength=\"174\" x=\"391.5\" y=\"225.2801\">maxSpeed = 230 [SI::'km/h']</text><text fill=\"#000000\" font-family=\"sans-serif\" font-size=\"14\" font-style=\"italic\" lengthAdjust=\"spacing\" textLength=\"207\" x=\"391.5\" y=\"242.8895\">:&gt;&gt;VehicleMaxSpeed::maxSpeed</text><text fill=\"#000000\" font-family=\"sans-serif\" font-size=\"14\" font-style=\"italic\" lengthAdjust=\"spacing\" textLength=\"68\" x=\"515\" y=\"208.9316\">references</text><line style=\"stroke:#181818;stroke-width:1.0;\" x1=\"386.5\" x2=\"711.5\" y1=\"249.9656\" y2=\"249.9656\"/><text fill=\"#000000\" font-family=\"sans-serif\" font-size=\"14\" lengthAdjust=\"spacing\" textLength=\"44\" x=\"391.5\" y=\"279.5426\">vehicle</text><text fill=\"#000000\" font-family=\"sans-serif\" font-size=\"14\" font-style=\"italic\" lengthAdjust=\"spacing\" textLength=\"45\" x=\"526.5\" y=\"263.1941\">subject</text></g></a><!--MD5=[fd4143e9d270a159db93a4ea2a975926]\n",
       "class E9--><a href=\"psysml:36b45827-3aab-429d-ac92-7624097e69b7\" target=\"_top\" title=\"psysml:36b45827-3aab-429d-ac92-7624097e69b7\" xlink:actuate=\"onRequest\" xlink:href=\"psysml:36b45827-3aab-429d-ac92-7624097e69b7\" xlink:show=\"new\" xlink:title=\"psysml:36b45827-3aab-429d-ac92-7624097e69b7\" xlink:type=\"simple\"><g id=\"elem_E9\"><rect fill=\"#FFFFFF\" height=\"50.7031\" id=\"E9\" rx=\"10\" ry=\"10\" style=\"stroke:#181818;stroke-width:0.5;\" width=\"219\" x=\"747.5\" y=\"194.5\"/><text fill=\"#000000\" font-family=\"sans-serif\" font-size=\"12\" font-style=\"italic\" lengthAdjust=\"spacing\" textLength=\"81\" x=\"816.5\" y=\"211.957\">«requirement»</text><text fill=\"#000000\" font-family=\"sans-serif\" font-size=\"14\" lengthAdjust=\"spacing\" textLength=\"205\" x=\"750.5\" y=\"229.127\">&lt;REQ43&gt; batmobileAcceleration</text><line style=\"stroke:#181818;stroke-width:0.5;\" x1=\"748.5\" x2=\"965.5\" y1=\"237.2031\" y2=\"237.2031\"/></g></a><g id=\"elem_E8\"><path d=\"M32,198.5 L32,241.2031 A0,0 0 0 0 32,241.2031 L206.16,241.2031 L308.19,346.71 L214.16,241.2031 L350,241.2031 A0,0 0 0 0 350,241.2031 L350,208.5 L340,198.5 L32,198.5 A0,0 0 0 0 32,198.5 \" fill=\"#FAFAFA\" style=\"stroke:#181818;stroke-width:0.5;\"/><path d=\"M340,198.5 L340,208.5 L350,208.5 L340,198.5 \" fill=\"#FAFAFA\" style=\"stroke:#181818;stroke-width:0.5;\"/><a href=\"psysml:50cc3169-ea16-48f0-b5ac-10aa006413a3\" target=\"_top\" title=\"psysml:50cc3169-ea16-48f0-b5ac-10aa006413a3\" xlink:actuate=\"onRequest\" xlink:href=\"psysml:50cc3169-ea16-48f0-b5ac-10aa006413a3\" xlink:show=\"new\" xlink:title=\"psysml:50cc3169-ea16-48f0-b5ac-10aa006413a3\" xlink:type=\"simple\"><text fill=\"#000000\" font-family=\"sans-serif\" font-size=\"13\" lengthAdjust=\"spacing\" text-decoration=\"underline\" textLength=\"13\" x=\"38\" y=\"216.9951\">@</text></a><text fill=\"#000000\" font-family=\"sans-serif\" font-size=\"13\" lengthAdjust=\"spacing\" textLength=\"284\" x=\"51\" y=\"216.9951\">The actual speed of the vehicle shall be less than</text><text fill=\"#000000\" font-family=\"sans-serif\" font-size=\"13\" lengthAdjust=\"spacing\" textLength=\"118\" x=\"38\" y=\"233.3467\">the maximun speed.</text></g><!--MD5=[209b3feb70ccb6233bfe1053d122c12c]\n",
       "reverse link E2 to E3--><g id=\"link_E2_E3\"><a href=\"psysml:5865ff62-6217-42ec-a3f4-d1860d6c7c77\" target=\"_top\" title=\"psysml:5865ff62-6217-42ec-a3f4-d1860d6c7c77\" xlink:actuate=\"onRequest\" xlink:href=\"psysml:5865ff62-6217-42ec-a3f4-d1860d6c7c77\" xlink:show=\"new\" xlink:title=\"psysml:5865ff62-6217-42ec-a3f4-d1860d6c7c77\" xlink:type=\"simple\"><path d=\"M370,494.79 C370,510.8 370,526.93 370,540.75 \" fill=\"none\" id=\"E2-backto-E3\" style=\"stroke:#181818;stroke-width:1.0;\"/><polygon fill=\"none\" points=\"370,481.43,366,487.43,370,493.43,374,487.43,370,481.43\" style=\"stroke:#181818;stroke-width:1.0;\"/></a></g><!--MD5=[4672eba38e49728da53d11aeb285b987]\n",
       "reverse link E3 to E4--><g id=\"link_E3_E4\"><a href=\"psysml:281d48d7-8f56-4544-85b1-5a5bfdaaff2c\" target=\"_top\" title=\"psysml:281d48d7-8f56-4544-85b1-5a5bfdaaff2c\" xlink:actuate=\"onRequest\" xlink:href=\"psysml:281d48d7-8f56-4544-85b1-5a5bfdaaff2c\" xlink:show=\"new\" xlink:title=\"psysml:281d48d7-8f56-4544-85b1-5a5bfdaaff2c\" xlink:type=\"simple\"><path d=\"M350.56,632.38 C344.27,648.84 337.58,666.35 332.37,679.99 \" fill=\"none\" id=\"E3-backto-E4\" style=\"stroke:#181818;stroke-width:1.0;\"/><polygon fill=\"#181818\" points=\"355.26,620.08,349.381,624.2558,350.9744,631.2886,356.8534,627.1129,355.26,620.08\" style=\"stroke:#181818;stroke-width:1.0;\"/></a></g><!--MD5=[191cde3d490a3f6d7bb551fe3ddca469]\n",
       "reverse link E3 to E5--><g id=\"link_E3_E5\"><a href=\"psysml:eab3578a-c573-4023-87ea-9d58ba95d7c2\" target=\"_top\" title=\"psysml:eab3578a-c573-4023-87ea-9d58ba95d7c2\" xlink:actuate=\"onRequest\" xlink:href=\"psysml:eab3578a-c573-4023-87ea-9d58ba95d7c2\" xlink:show=\"new\" xlink:title=\"psysml:eab3578a-c573-4023-87ea-9d58ba95d7c2\" xlink:type=\"simple\"><path d=\"M389.44,632.38 C395.73,648.84 402.42,666.35 407.63,679.99 \" fill=\"none\" id=\"E3-backto-E5\" style=\"stroke:#181818;stroke-width:1.0;\"/><polygon fill=\"#181818\" points=\"384.74,620.08,383.1466,627.1129,389.0256,631.2886,390.619,624.2558,384.74,620.08\" style=\"stroke:#181818;stroke-width:1.0;\"/></a></g><!--MD5=[3f50a3473f1dfb74d3f76443e03635af]\n",
       "reverse link E6 to E7--><g id=\"link_E6_E7\"><a href=\"psysml:3121ca91-1227-49f9-bf06-4468506ae10e\" target=\"_top\" title=\"psysml:3121ca91-1227-49f9-bf06-4468506ae10e\" xlink:actuate=\"onRequest\" xlink:href=\"psysml:3121ca91-1227-49f9-bf06-4468506ae10e\" xlink:show=\"new\" xlink:title=\"psysml:3121ca91-1227-49f9-bf06-4468506ae10e\" xlink:type=\"simple\"><path d=\"M668.36,102.35 C653.05,117.32 634.49,135.46 616.61,152.92 \" fill=\"none\" id=\"E6-backto-E7\" style=\"stroke:#181818;stroke-width:1.0;\"/><polygon fill=\"#181818\" points=\"677.91,93.02,670.8229,94.3517,669.3264,101.4058,676.4135,100.0741,677.91,93.02\" style=\"stroke:#181818;stroke-width:1.0;\"/></a></g><!--MD5=[583832df87f4419a098336a29a52fa00]\n",
       "link E7 to E2--><g id=\"link_E7_E2\"><a href=\"psysml:3e8c869b-3bae-41c5-8add-c0625b987850\" target=\"_top\" title=\"psysml:3e8c869b-3bae-41c5-8add-c0625b987850\" xlink:actuate=\"onRequest\" xlink:href=\"psysml:3e8c869b-3bae-41c5-8add-c0625b987850\" xlink:show=\"new\" xlink:title=\"psysml:3e8c869b-3bae-41c5-8add-c0625b987850\" xlink:type=\"simple\"><path d=\"M487.4,287.08 C473.9,301.56 459.46,317.05 445.48,332.04 \" fill=\"none\" id=\"E7-to-E2\" style=\"stroke:#181818;stroke-width:1.0;\"/><polygon fill=\"#FFFFFF\" points=\"431.72,346.8,439.5595,328.1307,449.7979,337.6793,431.72,346.8\" style=\"stroke:#181818;stroke-width:1.0;\"/><ellipse cx=\"444.9098\" cy=\"325.3263\" fill=\"#181818\" rx=\"2\" ry=\"2\" style=\"stroke:#181818;stroke-width:1.0;\"/><ellipse cx=\"452.2229\" cy=\"332.1467\" fill=\"#181818\" rx=\"2\" ry=\"2\" style=\"stroke:#181818;stroke-width:1.0;\"/></a></g><!--MD5=[e88d06e5a652d73a6b19930eefe025a8]\n",
       "reverse link E6 to E9--><g id=\"link_E6_E9\"><a href=\"psysml:cfe1f01b-9020-4087-bd34-d4e387f15bea\" target=\"_top\" title=\"psysml:cfe1f01b-9020-4087-bd34-d4e387f15bea\" xlink:actuate=\"onRequest\" xlink:href=\"psysml:cfe1f01b-9020-4087-bd34-d4e387f15bea\" xlink:show=\"new\" xlink:title=\"psysml:cfe1f01b-9020-4087-bd34-d4e387f15bea\" xlink:type=\"simple\"><path d=\"M737.7,102.41 C766.35,130.41 806.31,169.46 831.93,194.5 \" fill=\"none\" id=\"E6-backto-E9\" style=\"stroke:#181818;stroke-width:1.0;\"/><polygon fill=\"#181818\" points=\"728.09,93.02,729.5865,100.0741,736.6736,101.4058,735.1771,94.3517,728.09,93.02\" style=\"stroke:#181818;stroke-width:1.0;\"/></a></g><!--MD5=[e9ff5920af3b1bcc036276d58acb79b7]\n",
       "@startuml\r\n",
       "skin sysmlbw\r\n",
       "skinparam monochrome true\r\n",
       "skinparam wrapWidth 300\r\n",
       "hide circle\r\n",
       " \r\n",
       "package \"Requirements_Definition\" as E1  [[psysml:e548bb99-db4e-4fd9-851f-b3e54a205fd3 ]]  {\r\n",
       "comp def \"VehicleMaxSpeed\" as E2  <<(T,blue) requirement  def>> [[psysml:7595f945-cf92-4a42-8008-9dd5273735f0 ]] {\r\n",
       "##//doc//##\r\n",
       "The actual speed of the vehicle shall be less than the maximun speed.\r\n",
       "- -\r\n",
       "##//attributes//##\r\n",
       "maxSpeed: SpeedUnit\r\n",
       "}\r\n",
       "comp usage \"vehicle\" as E3 <<subject>>[[psysml:b5ca7772-b108-4821-b34d-9558cade0aa1 ]] {\r\n",
       "##//attributes//##\r\n",
       "^actualSpeed: SpeedUnit\r\n",
       "}\r\n",
       "comp usage \"^driver  \" as E4  <<(T,blue) item>> [[psysml:f4735f64-c801-42cf-abef-dbb74d44c414 ]] {\r\n",
       "}\r\n",
       "comp usage \"^engine  \" as E5  <<(T,blue) part>> [[psysml:c8ae15b1-c4a1-402f-837c-a126dd46f560 ]] {\r\n",
       "}\r\n",
       "comp usage \"batmobileSpecification  \" as E6  <<(T,blue) requirement>> [[psysml:88ab5370-7896-4f27-8751-bfd67c4f29ca ]] {\r\n",
       "}\r\n",
       "comp usage \"~<REQ42> batmobileMaxSpeed: VehicleMaxSpeed  \" as E7  <<(T,blue) requirement>> [[psysml:602d6a70-f278-4812-991c-98496d3aac69 ]] {\r\n",
       "##//references//##\r\n",
       "maxSpeed <U+003D> 230 [SI::<U+0027>km<U+002F>h<U+0027>]\\n//:>>VehicleMaxSpeed::maxSpeed// \r\n",
       "- -\r\n",
       "##//subject//##\r\n",
       "vehicle\r\n",
       "}\r\n",
       "comp usage \"~<REQ43> batmobileAcceleration  \" as E9  <<(T,blue) requirement>> [[psysml:36b45827-3aab-429d-ac92-7624097e69b7 ]] {\r\n",
       "}\r\n",
       "note as E8\r\n",
       "[[psysml:50cc3169-ea16-48f0-b5ac-10aa006413a3 @]]The actual speed of the vehicle shall be less than the maximun speed.\r\n",
       "end note \r\n",
       "}\r\n",
       "E2 o- - E3 [[psysml:5865ff62-6217-42ec-a3f4-d1860d6c7c77 ]] \r\n",
       "E3 *- - E4 [[psysml:281d48d7-8f56-4544-85b1-5a5bfdaaff2c ]] \r\n",
       "E3 *- - E5 [[psysml:eab3578a-c573-4023-87ea-9d58ba95d7c2 ]] \r\n",
       "E6 *- - E7 [[psysml:3121ca91-1227-49f9-bf06-4468506ae10e ]] \r\n",
       "E7 - -:|> E2 [[psysml:3e8c869b-3bae-41c5-8add-c0625b987850 ]] \r\n",
       "E8 .. E2 [[psysml:50cc3169-ea16-48f0-b5ac-10aa006413a3 ]] \r\n",
       "E6 *- - E9 [[psysml:cfe1f01b-9020-4087-bd34-d4e387f15bea ]] \r\n",
       "@enduml\r\n",
       "\n",
       "PlantUML version 1.2022.7(Mon Aug 22 11:01:30 GMT-06:00 2022)\n",
       "(EPL source distribution)\n",
       "Java Runtime: OpenJDK Runtime Environment\n",
       "JVM: OpenJDK 64-Bit Server VM\n",
       "Default Encoding: UTF-8\n",
       "Language: en\n",
       "Country: US\n",
       "--></g></svg>"
      ]
     },
     "execution_count": 852,
     "metadata": {},
     "output_type": "execute_result"
    }
   ],
   "source": [
    "%viz --style=SHOWINHERITED Requirements_Definition"
   ]
  },
  {
   "cell_type": "code",
   "execution_count": 676,
   "id": "d933dac4-5912-4d65-885a-6dc227798b70",
   "metadata": {
    "jupyter": {
     "source_hidden": true
    }
   },
   "outputs": [
    {
     "data": {
      "text/plain": [
       "Package Definitions (098f52f5-6d26-4503-a148-5de7730ab062)\n"
      ]
     },
     "execution_count": 676,
     "metadata": {},
     "output_type": "execute_result"
    }
   ],
   "source": [
    "package Definitions {\n",
    "            item def Hero;\n",
    "            part def Vehicle {\n",
    "                item driver;\n",
    "                part engine;\n",
    "                attribute actualSpeed : SI::SpeedUnit;\n",
    "            }\n",
    "            part def Batmobile specializes Vehicle {\n",
    "                part batmobileEngine redefines engine {\n",
    "                    port enginePort : ~PowerIP;\n",
    "                } \n",
    "                part seat[2];\n",
    "                part body;\n",
    "                part wheels[4] : Wheel;\n",
    "                part frontLeftWheel subsets wheels;\n",
    "                part frontRightWheel subsets wheels;\n",
    "                part battery {\n",
    "                    port powerPort : PowerIP;\n",
    "                    attribute capacity;\n",
    "                }\n",
    "                interface battery2engine : PowerInterface connect \n",
    "                    battery.powerPort to batmobileEngine.enginePort;\n",
    "            }\n",
    "            part def BatmobileNG specializes Batmobile {\n",
    "                part bulletProofWheels[4] redefines wheels;\n",
    "            }\n",
    "            part def Wheel {\n",
    "                attribute pressure;\n",
    "                item boundingBox : ShapeItems::Box[1] subsets boundingShapes {\n",
    "                    redefines length : ISQ::LengthUnit = 80 [SI::cm];\n",
    "                    redefines width : ISQ::LengthUnit = 26 [SI::cm];\n",
    "                    redefines height : ISQ::LengthUnit = 80 [SI::cm];\n",
    "                }\n",
    "            }\n",
    "            part def Engine {\n",
    "                perform action rocketBoost {\n",
    "                    in cmd : EngineCommand = engineControl.cmd;\n",
    "                }\n",
    "                port engineControl {\n",
    "                    in item cmd : EngineCommand;\n",
    "                }\n",
    "            }\n",
    "            item def EngineCommand;\n",
    "            port def PowerIP {\n",
    "                out item power : Power;\n",
    "            }\n",
    "            item def Power {\n",
    "                attribute value;\n",
    "            }\n",
    "            interface def PowerInterface {\n",
    "                end supplierPort : PowerIP;\n",
    "                end consumerPort : ~PowerIP;\n",
    "                flow of Power from supplierPort.power to consumerPort.power;\n",
    "            }\n",
    "            enum def StatusKind {\n",
    "                enum safe;\n",
    "                enum alert;\n",
    "            }\n",
    "        }"
   ]
  },
  {
   "cell_type": "code",
   "execution_count": 680,
   "id": "ede36329-aea6-4794-b1fe-32d2124d0a04",
   "metadata": {
    "collapsed": true,
    "jupyter": {
     "outputs_hidden": true
    }
   },
   "outputs": [
    {
     "data": {
      "image/svg+xml": [
       "<?xml version=\"1.0\" encoding=\"UTF-8\" standalone=\"no\"?><svg xmlns=\"http://www.w3.org/2000/svg\" xmlns:xlink=\"http://www.w3.org/1999/xlink\" contentStyleType=\"text/css\" height=\"746px\" preserveAspectRatio=\"none\" style=\"width:1494px;height:746px;background:#FFFFFF;\" version=\"1.1\" viewBox=\"0 0 1494 746\" width=\"1494px\" zoomAndPan=\"magnify\"><defs/><g><!--MD5=[fbc87193dbaf4d95561dea2c320d4a47]\n",
       "cluster E1--><g id=\"cluster_E1\"><a href=\"psysml:098f52f5-6d26-4503-a148-5de7730ab062\" target=\"_top\" title=\"psysml:098f52f5-6d26-4503-a148-5de7730ab062\" xlink:actuate=\"onRequest\" xlink:href=\"psysml:098f52f5-6d26-4503-a148-5de7730ab062\" xlink:show=\"new\" xlink:title=\"psysml:098f52f5-6d26-4503-a148-5de7730ab062\" xlink:type=\"simple\"><polygon fill=\"none\" points=\"16,6,98,6,105,29.6094,1477,29.6094,1477,739,16,739,16,6\" style=\"stroke:#000000;stroke-width:1.5;\"/><line style=\"stroke:#000000;stroke-width:1.5;\" x1=\"16\" x2=\"105\" y1=\"29.6094\" y2=\"29.6094\"/><text fill=\"#000000\" font-family=\"sans-serif\" font-size=\"14\" font-weight=\"bold\" lengthAdjust=\"spacing\" textLength=\"76\" x=\"20\" y=\"22.5332\">Definitions</text></a></g><!--MD5=[b4997ac47864f28c2f74865a473b2911]\n",
       "class E2--><a href=\"psysml:bee2d1d4-4cba-4cf2-9a78-57ea0f7e37fe\" target=\"_top\" title=\"psysml:bee2d1d4-4cba-4cf2-9a78-57ea0f7e37fe\" xlink:actuate=\"onRequest\" xlink:href=\"psysml:bee2d1d4-4cba-4cf2-9a78-57ea0f7e37fe\" xlink:show=\"new\" xlink:title=\"psysml:bee2d1d4-4cba-4cf2-9a78-57ea0f7e37fe\" xlink:type=\"simple\"><g id=\"elem_E2\"><rect fill=\"#FFFFFF\" height=\"50.7031\" id=\"E2\" style=\"stroke:#181818;stroke-width:0.5;\" width=\"63\" x=\"1397.5\" y=\"83.5\"/><text fill=\"#000000\" font-family=\"sans-serif\" font-size=\"12\" font-style=\"italic\" lengthAdjust=\"spacing\" textLength=\"61\" x=\"1398.5\" y=\"100.957\">«item  def»</text><text fill=\"#000000\" font-family=\"sans-serif\" font-size=\"14\" lengthAdjust=\"spacing\" textLength=\"30\" x=\"1414\" y=\"118.127\">Hero</text><line style=\"stroke:#181818;stroke-width:0.5;\" x1=\"1398.5\" x2=\"1459.5\" y1=\"126.2031\" y2=\"126.2031\"/></g></a><!--MD5=[09b614a08d8cba4a07c9adeb5e0fee81]\n",
       "class E3--><a href=\"psysml:b7c41ecf-4245-481e-8a4f-e44a929b52b2\" target=\"_top\" title=\"psysml:b7c41ecf-4245-481e-8a4f-e44a929b52b2\" xlink:actuate=\"onRequest\" xlink:href=\"psysml:b7c41ecf-4245-481e-8a4f-e44a929b52b2\" xlink:show=\"new\" xlink:title=\"psysml:b7c41ecf-4245-481e-8a4f-e44a929b52b2\" xlink:type=\"simple\"><g id=\"elem_E3\"><rect fill=\"#FFFFFF\" height=\"152.6625\" id=\"E3\" style=\"stroke:#181818;stroke-width:0.5;\" width=\"164\" x=\"1208\" y=\"570\"/><text fill=\"#000000\" font-family=\"sans-serif\" font-size=\"12\" font-style=\"italic\" lengthAdjust=\"spacing\" textLength=\"58\" x=\"1261\" y=\"587.457\">«part  def»</text><text fill=\"#000000\" font-family=\"sans-serif\" font-size=\"14\" lengthAdjust=\"spacing\" textLength=\"46\" x=\"1267\" y=\"604.627\">Vehicle</text><line style=\"stroke:#181818;stroke-width:0.5;\" x1=\"1209\" x2=\"1371\" y1=\"612.7031\" y2=\"612.7031\"/><text fill=\"#000000\" font-family=\"sans-serif\" font-size=\"14\" lengthAdjust=\"spacing\" textLength=\"152\" x=\"1214\" y=\"642.2801\">actualSpeed: SpeedUnit</text><text fill=\"#000000\" font-family=\"sans-serif\" font-size=\"14\" font-style=\"italic\" lengthAdjust=\"spacing\" textLength=\"59\" x=\"1260.5\" y=\"625.9316\">attributes</text><line style=\"stroke:#181818;stroke-width:1.0;\" x1=\"1209\" x2=\"1371\" y1=\"649.3563\" y2=\"649.3563\"/><text fill=\"#000000\" font-family=\"sans-serif\" font-size=\"14\" lengthAdjust=\"spacing\" textLength=\"36\" x=\"1214\" y=\"678.9332\">driver</text><text fill=\"#000000\" font-family=\"sans-serif\" font-size=\"14\" font-style=\"italic\" lengthAdjust=\"spacing\" textLength=\"33\" x=\"1273.5\" y=\"662.5848\">items</text><line style=\"stroke:#181818;stroke-width:1.0;\" x1=\"1209\" x2=\"1371\" y1=\"686.0094\" y2=\"686.0094\"/><text fill=\"#000000\" font-family=\"sans-serif\" font-size=\"14\" lengthAdjust=\"spacing\" textLength=\"43\" x=\"1214\" y=\"715.5863\">engine</text><text fill=\"#000000\" font-family=\"sans-serif\" font-size=\"14\" font-style=\"italic\" lengthAdjust=\"spacing\" textLength=\"32\" x=\"1274\" y=\"699.2379\">parts</text></g></a><!--MD5=[ebbe1d658d1005bcc118a6aa81145e00]\n",
       "class E4--><a href=\"psysml:cdb8cb30-8a39-4ab6-8f13-ca8a6a840925\" target=\"_top\" title=\"psysml:cdb8cb30-8a39-4ab6-8f13-ca8a6a840925\" xlink:actuate=\"onRequest\" xlink:href=\"psysml:cdb8cb30-8a39-4ab6-8f13-ca8a6a840925\" xlink:show=\"new\" xlink:title=\"psysml:cdb8cb30-8a39-4ab6-8f13-ca8a6a840925\" xlink:type=\"simple\"><g id=\"elem_E4\"><rect fill=\"#FFFFFF\" height=\"274.4938\" id=\"E4\" style=\"stroke:#181818;stroke-width:0.5;\" width=\"267\" x=\"1156.5\" y=\"236\"/><text fill=\"#000000\" font-family=\"sans-serif\" font-size=\"12\" font-style=\"italic\" lengthAdjust=\"spacing\" textLength=\"58\" x=\"1261\" y=\"253.457\">«part  def»</text><text fill=\"#000000\" font-family=\"sans-serif\" font-size=\"14\" lengthAdjust=\"spacing\" textLength=\"62\" x=\"1259\" y=\"270.627\">Batmobile</text><line style=\"stroke:#181818;stroke-width:0.5;\" x1=\"1157.5\" x2=\"1422.5\" y1=\"278.7031\" y2=\"278.7031\"/><text fill=\"#000000\" font-family=\"sans-serif\" font-size=\"14\" lengthAdjust=\"spacing\" textLength=\"251\" x=\"1162.5\" y=\"308.2801\">battery2engine: PowerInterface connect</text><text fill=\"#000000\" font-family=\"sans-serif\" font-size=\"14\" lengthAdjust=\"spacing\" textLength=\"128\" x=\"1162.5\" y=\"325.8895\">battery.powerPort to</text><text fill=\"#000000\" font-family=\"sans-serif\" font-size=\"14\" lengthAdjust=\"spacing\" textLength=\"178\" x=\"1162.5\" y=\"343.4988\">batmobileEngine.enginePort</text><text fill=\"#000000\" font-family=\"sans-serif\" font-size=\"14\" font-style=\"italic\" lengthAdjust=\"spacing\" textLength=\"62\" x=\"1259\" y=\"291.9316\">interfaces</text><line style=\"stroke:#181818;stroke-width:1.0;\" x1=\"1157.5\" x2=\"1422.5\" y1=\"350.575\" y2=\"350.575\"/><text fill=\"#000000\" font-family=\"sans-serif\" font-size=\"14\" lengthAdjust=\"spacing\" textLength=\"105\" x=\"1162.5\" y=\"380.152\">batmobileEngine</text><text fill=\"#000000\" font-family=\"sans-serif\" font-size=\"14\" font-style=\"italic\" lengthAdjust=\"spacing\" textLength=\"117\" x=\"1162.5\" y=\"397.7613\">:&gt;&gt;Vehicle::engine</text><text fill=\"#000000\" font-family=\"sans-serif\" font-size=\"14\" lengthAdjust=\"spacing\" textLength=\"44\" x=\"1162.5\" y=\"415.3707\">battery</text><text fill=\"#000000\" font-family=\"sans-serif\" font-size=\"14\" lengthAdjust=\"spacing\" textLength=\"31\" x=\"1162.5\" y=\"432.9801\">body</text><text fill=\"#000000\" font-family=\"sans-serif\" font-size=\"14\" lengthAdjust=\"spacing\" textLength=\"148\" x=\"1162.5\" y=\"450.5895\">frontLeftWheel:&gt;wheels</text><text fill=\"#000000\" font-family=\"sans-serif\" font-size=\"14\" lengthAdjust=\"spacing\" textLength=\"157\" x=\"1162.5\" y=\"468.1988\">frontRightWheel:&gt;wheels</text><text fill=\"#000000\" font-family=\"sans-serif\" font-size=\"14\" lengthAdjust=\"spacing\" textLength=\"27\" x=\"1162.5\" y=\"485.8082\">seat</text><text fill=\"#000000\" font-family=\"sans-serif\" font-size=\"14\" lengthAdjust=\"spacing\" textLength=\"91\" x=\"1162.5\" y=\"503.4176\">wheels: Wheel</text><text fill=\"#000000\" font-family=\"sans-serif\" font-size=\"14\" font-style=\"italic\" lengthAdjust=\"spacing\" textLength=\"32\" x=\"1274\" y=\"363.8035\">parts</text></g></a><!--MD5=[270fce915f116d4de14055a7c1d9a0f3]\n",
       "class E5--><a href=\"psysml:c3705418-55db-4b54-a7d7-0723aee206a5\" target=\"_top\" title=\"psysml:c3705418-55db-4b54-a7d7-0723aee206a5\" xlink:actuate=\"onRequest\" xlink:href=\"psysml:c3705418-55db-4b54-a7d7-0723aee206a5\" xlink:show=\"new\" xlink:title=\"psysml:c3705418-55db-4b54-a7d7-0723aee206a5\" xlink:type=\"simple\"><g id=\"elem_E5\"><rect fill=\"#FFFFFF\" height=\"96.9656\" id=\"E5\" style=\"stroke:#181818;stroke-width:0.5;\" width=\"145\" x=\"1217.5\" y=\"60.5\"/><text fill=\"#000000\" font-family=\"sans-serif\" font-size=\"12\" font-style=\"italic\" lengthAdjust=\"spacing\" textLength=\"58\" x=\"1261\" y=\"77.957\">«part  def»</text><text fill=\"#000000\" font-family=\"sans-serif\" font-size=\"14\" lengthAdjust=\"spacing\" textLength=\"82\" x=\"1249\" y=\"95.127\">BatmobileNG</text><line style=\"stroke:#181818;stroke-width:0.5;\" x1=\"1218.5\" x2=\"1361.5\" y1=\"103.2031\" y2=\"103.2031\"/><text fill=\"#000000\" font-family=\"sans-serif\" font-size=\"14\" lengthAdjust=\"spacing\" textLength=\"115\" x=\"1223.5\" y=\"132.7801\">bulletProofWheels</text><text fill=\"#000000\" font-family=\"sans-serif\" font-size=\"14\" font-style=\"italic\" lengthAdjust=\"spacing\" textLength=\"133\" x=\"1223.5\" y=\"150.3895\">:&gt;&gt;Batmobile::wheels</text><text fill=\"#000000\" font-family=\"sans-serif\" font-size=\"14\" font-style=\"italic\" lengthAdjust=\"spacing\" textLength=\"32\" x=\"1274\" y=\"116.4316\">parts</text></g></a><!--MD5=[60a26617385b1d2d0262a64233df1f8d]\n",
       "class E6--><a href=\"psysml:072ca148-c4d3-4061-8822-adc50948658a\" target=\"_top\" title=\"psysml:072ca148-c4d3-4061-8822-adc50948658a\" xlink:actuate=\"onRequest\" xlink:href=\"psysml:072ca148-c4d3-4061-8822-adc50948658a\" xlink:show=\"new\" xlink:title=\"psysml:072ca148-c4d3-4061-8822-adc50948658a\" xlink:type=\"simple\"><g id=\"elem_E6\"><rect fill=\"#FFFFFF\" height=\"133.6188\" id=\"E6\" style=\"stroke:#181818;stroke-width:0.5;\" width=\"287\" x=\"895.5\" y=\"42\"/><text fill=\"#000000\" font-family=\"sans-serif\" font-size=\"12\" font-style=\"italic\" lengthAdjust=\"spacing\" textLength=\"58\" x=\"1010\" y=\"59.457\">«part  def»</text><text fill=\"#000000\" font-family=\"sans-serif\" font-size=\"14\" lengthAdjust=\"spacing\" textLength=\"40\" x=\"1019\" y=\"76.627\">Wheel</text><line style=\"stroke:#181818;stroke-width:0.5;\" x1=\"896.5\" x2=\"1181.5\" y1=\"84.7031\" y2=\"84.7031\"/><text fill=\"#000000\" font-family=\"sans-serif\" font-size=\"14\" lengthAdjust=\"spacing\" textLength=\"56\" x=\"901.5\" y=\"114.2801\">pressure</text><text fill=\"#000000\" font-family=\"sans-serif\" font-size=\"14\" font-style=\"italic\" lengthAdjust=\"spacing\" textLength=\"59\" x=\"1009.5\" y=\"97.9316\">attributes</text><line style=\"stroke:#181818;stroke-width:1.0;\" x1=\"896.5\" x2=\"1181.5\" y1=\"121.3563\" y2=\"121.3563\"/><text fill=\"#000000\" font-family=\"sans-serif\" font-size=\"14\" lengthAdjust=\"spacing\" textLength=\"86\" x=\"901.5\" y=\"150.9332\">boundingBox:</text><text fill=\"#000000\" font-family=\"sans-serif\" font-size=\"14\" lengthAdjust=\"spacing\" textLength=\"275\" x=\"901.5\" y=\"168.5426\">RectangularCuboid:&gt;Item::boundingShapes</text><text fill=\"#000000\" font-family=\"sans-serif\" font-size=\"14\" font-style=\"italic\" lengthAdjust=\"spacing\" textLength=\"33\" x=\"1022.5\" y=\"134.5848\">items</text></g></a><!--MD5=[2156ba9850f5573cc1fc38a6a4b2f02b]\n",
       "class E7--><a href=\"psysml:e55396a6-ee14-4892-ab00-47e0e255fb8f\" target=\"_top\" title=\"psysml:e55396a6-ee14-4892-ab00-47e0e255fb8f\" xlink:actuate=\"onRequest\" xlink:href=\"psysml:e55396a6-ee14-4892-ab00-47e0e255fb8f\" xlink:show=\"new\" xlink:title=\"psysml:e55396a6-ee14-4892-ab00-47e0e255fb8f\" xlink:type=\"simple\"><g id=\"elem_E7\"><rect fill=\"#FFFFFF\" height=\"116.0094\" id=\"E7\" style=\"stroke:#181818;stroke-width:0.5;\" width=\"106\" x=\"754\" y=\"51\"/><text fill=\"#000000\" font-family=\"sans-serif\" font-size=\"12\" font-style=\"italic\" lengthAdjust=\"spacing\" textLength=\"58\" x=\"778\" y=\"68.457\">«part  def»</text><text fill=\"#000000\" font-family=\"sans-serif\" font-size=\"14\" lengthAdjust=\"spacing\" textLength=\"44\" x=\"785\" y=\"85.627\">Engine</text><line style=\"stroke:#181818;stroke-width:0.5;\" x1=\"755\" x2=\"859\" y1=\"93.7031\" y2=\"93.7031\"/><text fill=\"#000000\" font-family=\"sans-serif\" font-size=\"14\" lengthAdjust=\"spacing\" textLength=\"75\" x=\"760\" y=\"123.2801\">rocketBoost</text><text fill=\"#000000\" font-family=\"sans-serif\" font-size=\"14\" font-style=\"italic\" lengthAdjust=\"spacing\" textLength=\"98\" x=\"758\" y=\"106.9316\">perform actions</text><line style=\"stroke:#181818;stroke-width:1.0;\" x1=\"755\" x2=\"859\" y1=\"130.3563\" y2=\"130.3563\"/><text fill=\"#000000\" font-family=\"sans-serif\" font-size=\"14\" lengthAdjust=\"spacing\" textLength=\"89\" x=\"760\" y=\"159.9332\">engineControl</text><text fill=\"#000000\" font-family=\"sans-serif\" font-size=\"14\" font-style=\"italic\" lengthAdjust=\"spacing\" textLength=\"32\" x=\"791\" y=\"143.5848\">ports</text></g></a><!--MD5=[b9389687b975829384b498ac4b7476b2]\n",
       "class E8--><a href=\"psysml:9b169436-0e20-4494-b099-6e0acf57d8dd\" target=\"_top\" title=\"psysml:9b169436-0e20-4494-b099-6e0acf57d8dd\" xlink:actuate=\"onRequest\" xlink:href=\"psysml:9b169436-0e20-4494-b099-6e0acf57d8dd\" xlink:show=\"new\" xlink:title=\"psysml:9b169436-0e20-4494-b099-6e0acf57d8dd\" xlink:type=\"simple\"><g id=\"elem_E8\"><rect fill=\"#FFFFFF\" height=\"50.7031\" id=\"E8\" style=\"stroke:#181818;stroke-width:0.5;\" width=\"114\" x=\"605\" y=\"83.5\"/><text fill=\"#000000\" font-family=\"sans-serif\" font-size=\"12\" font-style=\"italic\" lengthAdjust=\"spacing\" textLength=\"61\" x=\"631.5\" y=\"100.957\">«item  def»</text><text fill=\"#000000\" font-family=\"sans-serif\" font-size=\"14\" lengthAdjust=\"spacing\" textLength=\"108\" x=\"608\" y=\"118.127\">EngineCommand</text><line style=\"stroke:#181818;stroke-width:0.5;\" x1=\"606\" x2=\"718\" y1=\"126.2031\" y2=\"126.2031\"/></g></a><!--MD5=[fd4143e9d270a159db93a4ea2a975926]\n",
       "class E9--><a href=\"psysml:05210308-36ff-4b46-a06e-69fb27a18eb3\" target=\"_top\" title=\"psysml:05210308-36ff-4b46-a06e-69fb27a18eb3\" xlink:actuate=\"onRequest\" xlink:href=\"psysml:05210308-36ff-4b46-a06e-69fb27a18eb3\" xlink:show=\"new\" xlink:title=\"psysml:05210308-36ff-4b46-a06e-69fb27a18eb3\" xlink:type=\"simple\"><g id=\"elem_E9\"><rect fill=\"#FFFFFF\" height=\"79.3563\" id=\"E9\" style=\"stroke:#181818;stroke-width:0.5;\" width=\"124\" x=\"446\" y=\"69.5\"/><text fill=\"#000000\" font-family=\"sans-serif\" font-size=\"12\" font-style=\"italic\" lengthAdjust=\"spacing\" textLength=\"58\" x=\"479\" y=\"86.957\">«port  def»</text><text fill=\"#000000\" font-family=\"sans-serif\" font-size=\"14\" lengthAdjust=\"spacing\" textLength=\"51\" x=\"482.5\" y=\"104.127\">PowerIP</text><line style=\"stroke:#181818;stroke-width:0.5;\" x1=\"447\" x2=\"569\" y1=\"112.2031\" y2=\"112.2031\"/><text fill=\"#000000\" font-family=\"sans-serif\" font-size=\"14\" font-weight=\"bold\" lengthAdjust=\"spacing\" textLength=\"23\" x=\"452\" y=\"141.7801\">out</text><text fill=\"#000000\" font-family=\"sans-serif\" font-size=\"14\" lengthAdjust=\"spacing\" textLength=\"85\" x=\"479\" y=\"141.7801\">power: Power</text><text fill=\"#000000\" font-family=\"sans-serif\" font-size=\"14\" font-style=\"italic\" lengthAdjust=\"spacing\" textLength=\"72\" x=\"472\" y=\"125.4316\">parameters</text></g></a><!--MD5=[96f4274e9e20536e775497830990834d]\n",
       "class E10--><a href=\"psysml:4d7020ee-5aa7-4570-bc7f-be2d6079d0cb\" target=\"_top\" title=\"psysml:4d7020ee-5aa7-4570-bc7f-be2d6079d0cb\" xlink:actuate=\"onRequest\" xlink:href=\"psysml:4d7020ee-5aa7-4570-bc7f-be2d6079d0cb\" xlink:show=\"new\" xlink:title=\"psysml:4d7020ee-5aa7-4570-bc7f-be2d6079d0cb\" xlink:type=\"simple\"><g id=\"elem_E10\"><rect fill=\"#FFFFFF\" height=\"79.3563\" id=\"E10\" style=\"stroke:#181818;stroke-width:0.5;\" width=\"67\" x=\"343.5\" y=\"69.5\"/><text fill=\"#000000\" font-family=\"sans-serif\" font-size=\"12\" font-style=\"italic\" lengthAdjust=\"spacing\" textLength=\"61\" x=\"346.5\" y=\"86.957\">«item  def»</text><text fill=\"#000000\" font-family=\"sans-serif\" font-size=\"14\" lengthAdjust=\"spacing\" textLength=\"39\" x=\"357.5\" y=\"104.127\">Power</text><line style=\"stroke:#181818;stroke-width:0.5;\" x1=\"344.5\" x2=\"409.5\" y1=\"112.2031\" y2=\"112.2031\"/><text fill=\"#000000\" font-family=\"sans-serif\" font-size=\"14\" lengthAdjust=\"spacing\" textLength=\"34\" x=\"349.5\" y=\"141.7801\">value</text><text fill=\"#000000\" font-family=\"sans-serif\" font-size=\"14\" font-style=\"italic\" lengthAdjust=\"spacing\" textLength=\"59\" x=\"347.5\" y=\"125.4316\">attributes</text></g></a><!--MD5=[1dd1bfd58a279cf63c5f349dbc8fc6a1]\n",
       "class E11--><a href=\"psysml:f50bc97f-49f5-4956-8c57-5a832a677e22\" target=\"_top\" title=\"psysml:f50bc97f-49f5-4956-8c57-5a832a677e22\" xlink:actuate=\"onRequest\" xlink:href=\"psysml:f50bc97f-49f5-4956-8c57-5a832a677e22\" xlink:show=\"new\" xlink:title=\"psysml:f50bc97f-49f5-4956-8c57-5a832a677e22\" xlink:type=\"simple\"><g id=\"elem_E11\"><rect fill=\"#FFFFFF\" height=\"96.9656\" id=\"E11\" style=\"stroke:#181818;stroke-width:0.5;\" width=\"167\" x=\"141.5\" y=\"60.5\"/><text fill=\"#000000\" font-family=\"sans-serif\" font-size=\"12\" font-style=\"italic\" lengthAdjust=\"spacing\" textLength=\"84\" x=\"183\" y=\"77.957\">«interface  def»</text><text fill=\"#000000\" font-family=\"sans-serif\" font-size=\"14\" lengthAdjust=\"spacing\" textLength=\"94\" x=\"178\" y=\"95.127\">PowerInterface</text><line style=\"stroke:#181818;stroke-width:0.5;\" x1=\"142.5\" x2=\"307.5\" y1=\"103.2031\" y2=\"103.2031\"/><text fill=\"#000000\" font-family=\"sans-serif\" font-size=\"14\" lengthAdjust=\"spacing\" textLength=\"155\" x=\"147.5\" y=\"132.7801\">consumerPort: ~PowerIP</text><text fill=\"#000000\" font-family=\"sans-serif\" font-size=\"14\" lengthAdjust=\"spacing\" textLength=\"135\" x=\"147.5\" y=\"150.3895\">supplierPort: PowerIP</text><text fill=\"#000000\" font-family=\"sans-serif\" font-size=\"14\" font-style=\"italic\" lengthAdjust=\"spacing\" textLength=\"32\" x=\"209\" y=\"116.4316\">ports</text></g></a><!--MD5=[49a0ec8f00dab7302a31f22d0f0fe584]\n",
       "class E12--><a href=\"psysml:39b252df-3f57-4b6a-87f0-aaf9a4dbca64\" target=\"_top\" title=\"psysml:39b252df-3f57-4b6a-87f0-aaf9a4dbca64\" xlink:actuate=\"onRequest\" xlink:href=\"psysml:39b252df-3f57-4b6a-87f0-aaf9a4dbca64\" xlink:show=\"new\" xlink:title=\"psysml:39b252df-3f57-4b6a-87f0-aaf9a4dbca64\" xlink:type=\"simple\"><g id=\"elem_E12\"><rect fill=\"#FFFFFF\" height=\"112.0594\" id=\"E12\" style=\"stroke:#181818;stroke-width:0.5;\" width=\"74\" x=\"32\" y=\"53\"/><text fill=\"#000000\" font-family=\"sans-serif\" font-size=\"12\" font-style=\"italic\" lengthAdjust=\"spacing\" textLength=\"61\" x=\"38.5\" y=\"70.457\">«variation»</text><text fill=\"#000000\" font-family=\"sans-serif\" font-size=\"12\" font-style=\"italic\" lengthAdjust=\"spacing\" textLength=\"69\" x=\"34.5\" y=\"85.5508\">«enum  def»</text><text fill=\"#000000\" font-family=\"sans-serif\" font-size=\"14\" font-style=\"italic\" lengthAdjust=\"spacing\" textLength=\"68\" x=\"35\" y=\"102.7207\">StatusKind</text><line style=\"stroke:#181818;stroke-width:0.5;\" x1=\"33\" x2=\"105\" y1=\"110.7969\" y2=\"110.7969\"/><text fill=\"#000000\" font-family=\"sans-serif\" font-size=\"14\" lengthAdjust=\"spacing\" textLength=\"27\" x=\"38\" y=\"140.3738\">safe</text><text fill=\"#000000\" font-family=\"sans-serif\" font-size=\"14\" lengthAdjust=\"spacing\" textLength=\"28\" x=\"38\" y=\"157.9832\">alert</text><text fill=\"#000000\" font-family=\"sans-serif\" font-size=\"14\" font-style=\"italic\" lengthAdjust=\"spacing\" textLength=\"42\" x=\"48\" y=\"124.0254\">enums</text></g></a><!--MD5=[f0cdf4548168e5211fb3a02bf679d63a]\n",
       "link E4 to E3--><g id=\"link_E4_E3\"><a href=\"psysml:fc1a122c-eef1-4ea7-926b-cce6fe8ed3ad\" target=\"_top\" title=\"psysml:fc1a122c-eef1-4ea7-926b-cce6fe8ed3ad\" xlink:actuate=\"onRequest\" xlink:href=\"psysml:fc1a122c-eef1-4ea7-926b-cce6fe8ed3ad\" xlink:show=\"new\" xlink:title=\"psysml:fc1a122c-eef1-4ea7-926b-cce6fe8ed3ad\" xlink:type=\"simple\"><path d=\"M1290,510.15 C1290,523.45 1290,536.74 1290,549.52 \" fill=\"none\" id=\"E4-to-E3\" style=\"stroke:#181818;stroke-width:1.0;\"/><polygon fill=\"none\" points=\"1297,549.76,1290,569.76,1283,549.76,1297,549.76\" style=\"stroke:#181818;stroke-width:1.0;\"/></a></g><!--MD5=[1c62de2aa5b76f0fb657ff8443a1a700]\n",
       "link E5 to E4--><g id=\"link_E5_E4\"><a href=\"psysml:473e802c-6a61-4925-b5d0-3e33ad58d02b\" target=\"_top\" title=\"psysml:473e802c-6a61-4925-b5d0-3e33ad58d02b\" xlink:actuate=\"onRequest\" xlink:href=\"psysml:473e802c-6a61-4925-b5d0-3e33ad58d02b\" xlink:show=\"new\" xlink:title=\"psysml:473e802c-6a61-4925-b5d0-3e33ad58d02b\" xlink:type=\"simple\"><path d=\"M1290,157.75 C1290,174.64 1290,194.68 1290,215.62 \" fill=\"none\" id=\"E5-to-E4\" style=\"stroke:#181818;stroke-width:1.0;\"/><polygon fill=\"none\" points=\"1297,215.9,1290,235.9,1283,215.9,1297,215.9\" style=\"stroke:#181818;stroke-width:1.0;\"/></a></g><!--MD5=[23631d515200779d4f82c59b6ade2966]\n",
       "@startuml\r\n",
       "skin sysmlbw\r\n",
       "skinparam monochrome true\r\n",
       "skinparam wrapWidth 300\r\n",
       "hide circle\r\n",
       "top to bottom direction\r\n",
       " \r\n",
       "package \"Definitions\" as E1  [[psysml:098f52f5-6d26-4503-a148-5de7730ab062 ]]  {\r\n",
       "comp def \"Hero\" as E2  <<(T,blue) item  def>> [[psysml:bee2d1d4-4cba-4cf2-9a78-57ea0f7e37fe ]] {\r\n",
       "}\r\n",
       "comp def \"Vehicle\" as E3  <<(T,blue) part  def>> [[psysml:b7c41ecf-4245-481e-8a4f-e44a929b52b2 ]] {\r\n",
       "##//attributes//##\r\n",
       "actualSpeed: SpeedUnit\r\n",
       "- -\r\n",
       "##//items//##\r\n",
       "driver\r\n",
       "- -\r\n",
       "##//parts//##\r\n",
       "engine\r\n",
       "}\r\n",
       "comp def \"Batmobile\" as E4  <<(T,blue) part  def>> [[psysml:cdb8cb30-8a39-4ab6-8f13-ca8a6a840925 ]] {\r\n",
       "##//interfaces//##\r\n",
       "battery2engine: PowerInterface connect battery.powerPort to batmobileEngine.enginePort\r\n",
       "- -\r\n",
       "##//parts//##\r\n",
       "batmobileEngine\\n//:>>Vehicle::engine// \r\n",
       "battery\r\n",
       "body\r\n",
       "frontLeftWheel:>wheels\r\n",
       "frontRightWheel:>wheels\r\n",
       "seat\r\n",
       "wheels: Wheel\r\n",
       "}\r\n",
       "comp def \"BatmobileNG\" as E5  <<(T,blue) part  def>> [[psysml:c3705418-55db-4b54-a7d7-0723aee206a5 ]] {\r\n",
       "##//parts//##\r\n",
       "bulletProofWheels\\n//:>>Batmobile::wheels// \r\n",
       "}\r\n",
       "comp def \"Wheel\" as E6  <<(T,blue) part  def>> [[psysml:072ca148-c4d3-4061-8822-adc50948658a ]] {\r\n",
       "##//attributes//##\r\n",
       "pressure\r\n",
       "- -\r\n",
       "##//items//##\r\n",
       "boundingBox: RectangularCuboid:>Item::boundingShapes\r\n",
       "}\r\n",
       "comp def \"Engine\" as E7  <<(T,blue) part  def>> [[psysml:e55396a6-ee14-4892-ab00-47e0e255fb8f ]] {\r\n",
       "##//perform actions//##\r\n",
       "rocketBoost\r\n",
       "- -\r\n",
       "##//ports//##\r\n",
       "engineControl\r\n",
       "}\r\n",
       "comp def \"EngineCommand\" as E8  <<(T,blue) item  def>> [[psysml:9b169436-0e20-4494-b099-6e0acf57d8dd ]] {\r\n",
       "}\r\n",
       "comp def \"PowerIP\" as E9  <<(T,blue) port  def>> [[psysml:05210308-36ff-4b46-a06e-69fb27a18eb3 ]] {\r\n",
       "##//parameters//##\r\n",
       "<b>out</b> power: Power\r\n",
       "}\r\n",
       "comp def \"Power\" as E10  <<(T,blue) item  def>> [[psysml:4d7020ee-5aa7-4570-bc7f-be2d6079d0cb ]] {\r\n",
       "##//attributes//##\r\n",
       "value\r\n",
       "}\r\n",
       "comp def \"PowerInterface\" as E11  <<(T,blue) interface  def>> [[psysml:f50bc97f-49f5-4956-8c57-5a832a677e22 ]] {\r\n",
       "##//ports//##\r\n",
       "consumerPort: ~PowerIP\r\n",
       "supplierPort: PowerIP\r\n",
       "}\r\n",
       "comp def \"<i>StatusKind</i>\" as E12  <<variation>>\\n <<(T,blue) enum  def>> [[psysml:39b252df-3f57-4b6a-87f0-aaf9a4dbca64 ]] {\r\n",
       "##//enums//##\r\n",
       "safe\r\n",
       "alert\r\n",
       "}\r\n",
       "}\r\n",
       "E4 - -|> E3 [[psysml:fc1a122c-eef1-4ea7-926b-cce6fe8ed3ad ]] \r\n",
       "E5 - -|> E4 [[psysml:473e802c-6a61-4925-b5d0-3e33ad58d02b ]] \r\n",
       "@enduml\r\n",
       "\n",
       "PlantUML version 1.2022.7(Mon Aug 22 11:01:30 GMT-06:00 2022)\n",
       "(EPL source distribution)\n",
       "Java Runtime: OpenJDK Runtime Environment\n",
       "JVM: OpenJDK 64-Bit Server VM\n",
       "Default Encoding: UTF-8\n",
       "Language: en\n",
       "Country: US\n",
       "--></g></svg>"
      ]
     },
     "execution_count": 680,
     "metadata": {},
     "output_type": "execute_result"
    }
   ],
   "source": [
    "%viz --view=TREE --style=TB --style=COMPMOST Definitions"
   ]
  },
  {
   "cell_type": "code",
   "execution_count": 551,
   "id": "d43a968a-ac67-428b-8939-4cbc74a068a7",
   "metadata": {
    "collapsed": true,
    "jupyter": {
     "outputs_hidden": true
    }
   },
   "outputs": [
    {
     "data": {
      "image/svg+xml": [
       "<?xml version=\"1.0\" encoding=\"UTF-8\" standalone=\"no\"?><svg xmlns=\"http://www.w3.org/2000/svg\" xmlns:xlink=\"http://www.w3.org/1999/xlink\" contentStyleType=\"text/css\" height=\"851px\" preserveAspectRatio=\"none\" style=\"width:1731px;height:851px;background:#FFFFFF;\" version=\"1.1\" viewBox=\"0 0 1731 851\" width=\"1731px\" zoomAndPan=\"magnify\"><defs/><g><!--MD5=[fbc87193dbaf4d95561dea2c320d4a47]\n",
       "cluster E1--><g id=\"cluster_E1\"><a href=\"psysml:842c835e-538a-4605-9984-10a6c92c3831\" target=\"_top\" title=\"psysml:842c835e-538a-4605-9984-10a6c92c3831\" xlink:actuate=\"onRequest\" xlink:href=\"psysml:842c835e-538a-4605-9984-10a6c92c3831\" xlink:show=\"new\" xlink:title=\"psysml:842c835e-538a-4605-9984-10a6c92c3831\" xlink:type=\"simple\"><polygon fill=\"none\" points=\"16,6,98,6,105,29.6094,1714,29.6094,1714,844,16,844,16,6\" style=\"stroke:#000000;stroke-width:1.5;\"/><line style=\"stroke:#000000;stroke-width:1.5;\" x1=\"16\" x2=\"105\" y1=\"29.6094\" y2=\"29.6094\"/><text fill=\"#000000\" font-family=\"sans-serif\" font-size=\"14\" font-weight=\"bold\" lengthAdjust=\"spacing\" textLength=\"76\" x=\"20\" y=\"22.5332\">Definitions</text></a></g><!--MD5=[b4997ac47864f28c2f74865a473b2911]\n",
       "class E2--><a href=\"psysml:e31b8ba4-9798-4a93-980b-d9eee28ba0f6\" target=\"_top\" title=\"psysml:e31b8ba4-9798-4a93-980b-d9eee28ba0f6\" xlink:actuate=\"onRequest\" xlink:href=\"psysml:e31b8ba4-9798-4a93-980b-d9eee28ba0f6\" xlink:show=\"new\" xlink:title=\"psysml:e31b8ba4-9798-4a93-980b-d9eee28ba0f6\" xlink:type=\"simple\"><g id=\"elem_E2\"><rect fill=\"#FFFFFF\" height=\"50.7031\" id=\"E2\" style=\"stroke:#181818;stroke-width:0.5;\" width=\"63\" x=\"44.5\" y=\"96.5\"/><text fill=\"#000000\" font-family=\"sans-serif\" font-size=\"12\" font-style=\"italic\" lengthAdjust=\"spacing\" textLength=\"61\" x=\"45.5\" y=\"113.957\">«item  def»</text><text fill=\"#000000\" font-family=\"sans-serif\" font-size=\"14\" lengthAdjust=\"spacing\" textLength=\"30\" x=\"61\" y=\"131.127\">Hero</text><line style=\"stroke:#181818;stroke-width:0.5;\" x1=\"45.5\" x2=\"106.5\" y1=\"139.2031\" y2=\"139.2031\"/></g></a><!--MD5=[09b614a08d8cba4a07c9adeb5e0fee81]\n",
       "class E3--><a href=\"psysml:4aa5f7ac-4c63-4489-8144-06877107bc63\" target=\"_top\" title=\"psysml:4aa5f7ac-4c63-4489-8144-06877107bc63\" xlink:actuate=\"onRequest\" xlink:href=\"psysml:4aa5f7ac-4c63-4489-8144-06877107bc63\" xlink:show=\"new\" xlink:title=\"psysml:4aa5f7ac-4c63-4489-8144-06877107bc63\" xlink:type=\"simple\"><g id=\"elem_E3\"><rect fill=\"#FFFFFF\" height=\"79.3563\" id=\"E3\" style=\"stroke:#181818;stroke-width:0.5;\" width=\"164\" x=\"510.5\" y=\"128.5\"/><text fill=\"#000000\" font-family=\"sans-serif\" font-size=\"12\" font-style=\"italic\" lengthAdjust=\"spacing\" textLength=\"58\" x=\"563.5\" y=\"145.957\">«part  def»</text><text fill=\"#000000\" font-family=\"sans-serif\" font-size=\"14\" lengthAdjust=\"spacing\" textLength=\"46\" x=\"569.5\" y=\"163.127\">Vehicle</text><line style=\"stroke:#181818;stroke-width:0.5;\" x1=\"511.5\" x2=\"673.5\" y1=\"171.2031\" y2=\"171.2031\"/><text fill=\"#000000\" font-family=\"sans-serif\" font-size=\"14\" lengthAdjust=\"spacing\" textLength=\"152\" x=\"516.5\" y=\"200.7801\">actualSpeed: SpeedUnit</text><text fill=\"#000000\" font-family=\"sans-serif\" font-size=\"14\" font-style=\"italic\" lengthAdjust=\"spacing\" textLength=\"59\" x=\"563\" y=\"184.4316\">attributes</text></g></a><!--MD5=[ebbe1d658d1005bcc118a6aa81145e00]\n",
       "class E4--><a href=\"psysml:f5dbe14f-e71e-4f8d-b24a-8ec55f5012ea\" target=\"_top\" title=\"psysml:f5dbe14f-e71e-4f8d-b24a-8ec55f5012ea\" xlink:actuate=\"onRequest\" xlink:href=\"psysml:f5dbe14f-e71e-4f8d-b24a-8ec55f5012ea\" xlink:show=\"new\" xlink:title=\"psysml:f5dbe14f-e71e-4f8d-b24a-8ec55f5012ea\" xlink:type=\"simple\"><g id=\"elem_E4\"><rect fill=\"#FFFFFF\" height=\"50.7031\" id=\"E4\" rx=\"10\" ry=\"10\" style=\"stroke:#181818;stroke-width:0.5;\" width=\"50\" x=\"787.5\" y=\"190.5\"/><text fill=\"#000000\" font-family=\"sans-serif\" font-size=\"12\" font-style=\"italic\" lengthAdjust=\"spacing\" textLength=\"38\" x=\"793.5\" y=\"207.957\">«item»</text><text fill=\"#000000\" font-family=\"sans-serif\" font-size=\"14\" lengthAdjust=\"spacing\" textLength=\"36\" x=\"790.5\" y=\"225.127\">driver</text><line style=\"stroke:#181818;stroke-width:0.5;\" x1=\"788.5\" x2=\"836.5\" y1=\"233.2031\" y2=\"233.2031\"/></g></a><!--MD5=[270fce915f116d4de14055a7c1d9a0f3]\n",
       "class E5--><a href=\"psysml:680e8c07-b50d-4248-8c4d-9ee9f3f66c6f\" target=\"_top\" title=\"psysml:680e8c07-b50d-4248-8c4d-9ee9f3f66c6f\" xlink:actuate=\"onRequest\" xlink:href=\"psysml:680e8c07-b50d-4248-8c4d-9ee9f3f66c6f\" xlink:show=\"new\" xlink:title=\"psysml:680e8c07-b50d-4248-8c4d-9ee9f3f66c6f\" xlink:type=\"simple\"><g id=\"elem_E5\"><rect fill=\"#FFFFFF\" height=\"50.7031\" id=\"E5\" rx=\"10\" ry=\"10\" style=\"stroke:#181818;stroke-width:0.5;\" width=\"57\" x=\"784\" y=\"104.5\"/><text fill=\"#000000\" font-family=\"sans-serif\" font-size=\"12\" font-style=\"italic\" lengthAdjust=\"spacing\" textLength=\"35\" x=\"795\" y=\"121.957\">«part»</text><text fill=\"#000000\" font-family=\"sans-serif\" font-size=\"14\" lengthAdjust=\"spacing\" textLength=\"43\" x=\"787\" y=\"139.127\">engine</text><line style=\"stroke:#181818;stroke-width:0.5;\" x1=\"785\" x2=\"840\" y1=\"147.2031\" y2=\"147.2031\"/></g></a><!--MD5=[60a26617385b1d2d0262a64233df1f8d]\n",
       "class E6--><a href=\"psysml:deddc36a-888b-4c3e-a4b4-2e0e96b24885\" target=\"_top\" title=\"psysml:deddc36a-888b-4c3e-a4b4-2e0e96b24885\" xlink:actuate=\"onRequest\" xlink:href=\"psysml:deddc36a-888b-4c3e-a4b4-2e0e96b24885\" xlink:show=\"new\" xlink:title=\"psysml:deddc36a-888b-4c3e-a4b4-2e0e96b24885\" xlink:type=\"simple\"><g id=\"elem_E6\"><rect fill=\"#FFFFFF\" height=\"114.575\" id=\"E6\" style=\"stroke:#181818;stroke-width:0.5;\" width=\"267\" x=\"180\" y=\"310.5\"/><text fill=\"#000000\" font-family=\"sans-serif\" font-size=\"12\" font-style=\"italic\" lengthAdjust=\"spacing\" textLength=\"58\" x=\"284.5\" y=\"327.957\">«part  def»</text><text fill=\"#000000\" font-family=\"sans-serif\" font-size=\"14\" lengthAdjust=\"spacing\" textLength=\"62\" x=\"282.5\" y=\"345.127\">Batmobile</text><line style=\"stroke:#181818;stroke-width:0.5;\" x1=\"181\" x2=\"446\" y1=\"353.2031\" y2=\"353.2031\"/><text fill=\"#000000\" font-family=\"sans-serif\" font-size=\"14\" lengthAdjust=\"spacing\" textLength=\"251\" x=\"186\" y=\"382.7801\">battery2engine: PowerInterface connect</text><text fill=\"#000000\" font-family=\"sans-serif\" font-size=\"14\" lengthAdjust=\"spacing\" textLength=\"128\" x=\"186\" y=\"400.3895\">battery.powerPort to</text><text fill=\"#000000\" font-family=\"sans-serif\" font-size=\"14\" lengthAdjust=\"spacing\" textLength=\"178\" x=\"186\" y=\"417.9988\">batmobileEngine.enginePort</text><text fill=\"#000000\" font-family=\"sans-serif\" font-size=\"14\" font-style=\"italic\" lengthAdjust=\"spacing\" textLength=\"62\" x=\"282.5\" y=\"366.4316\">interfaces</text></g></a><!--MD5=[2156ba9850f5573cc1fc38a6a4b2f02b]\n",
       "class E7--><a href=\"psysml:de5c3b00-5a59-4f85-a781-79ef204e0e0f\" target=\"_top\" title=\"psysml:de5c3b00-5a59-4f85-a781-79ef204e0e0f\" xlink:actuate=\"onRequest\" xlink:href=\"psysml:de5c3b00-5a59-4f85-a781-79ef204e0e0f\" xlink:show=\"new\" xlink:title=\"psysml:de5c3b00-5a59-4f85-a781-79ef204e0e0f\" xlink:type=\"simple\"><g id=\"elem_E7\"><rect fill=\"#FFFFFF\" height=\"50.7031\" id=\"E7\" rx=\"10\" ry=\"10\" style=\"stroke:#181818;stroke-width:0.5;\" width=\"119\" x=\"533\" y=\"42.5\"/><text fill=\"#000000\" font-family=\"sans-serif\" font-size=\"12\" font-style=\"italic\" lengthAdjust=\"spacing\" textLength=\"35\" x=\"575\" y=\"59.957\">«part»</text><text fill=\"#000000\" font-family=\"sans-serif\" font-size=\"14\" lengthAdjust=\"spacing\" textLength=\"105\" x=\"536\" y=\"77.127\">batmobileEngine</text><line style=\"stroke:#181818;stroke-width:0.5;\" x1=\"534\" x2=\"651\" y1=\"85.2031\" y2=\"85.2031\"/></g></a><!--MD5=[b9389687b975829384b498ac4b7476b2]\n",
       "class E8--><a href=\"psysml:3390072d-b832-43c6-9999-15e13f7e1703\" target=\"_top\" title=\"psysml:3390072d-b832-43c6-9999-15e13f7e1703\" xlink:actuate=\"onRequest\" xlink:href=\"psysml:3390072d-b832-43c6-9999-15e13f7e1703\" xlink:show=\"new\" xlink:title=\"psysml:3390072d-b832-43c6-9999-15e13f7e1703\" xlink:type=\"simple\"><g id=\"elem_E8\"><rect fill=\"#FFFFFF\" height=\"50.7031\" id=\"E8\" rx=\"10\" ry=\"10\" style=\"stroke:#181818;stroke-width:0.5;\" width=\"150\" x=\"956.5\" y=\"111.5\"/><text fill=\"#000000\" font-family=\"sans-serif\" font-size=\"12\" font-style=\"italic\" lengthAdjust=\"spacing\" textLength=\"35\" x=\"1014\" y=\"128.957\">«port»</text><text fill=\"#000000\" font-family=\"sans-serif\" font-size=\"14\" lengthAdjust=\"spacing\" textLength=\"136\" x=\"959.5\" y=\"146.127\">enginePort: ~PowerIP</text><line style=\"stroke:#181818;stroke-width:0.5;\" x1=\"957.5\" x2=\"1105.5\" y1=\"154.2031\" y2=\"154.2031\"/></g></a><!--MD5=[fd4143e9d270a159db93a4ea2a975926]\n",
       "class E9--><a href=\"psysml:e0af43df-5ded-48e9-adfa-8d4b8612df5b\" target=\"_top\" title=\"psysml:e0af43df-5ded-48e9-adfa-8d4b8612df5b\" xlink:actuate=\"onRequest\" xlink:href=\"psysml:e0af43df-5ded-48e9-adfa-8d4b8612df5b\" xlink:show=\"new\" xlink:title=\"psysml:e0af43df-5ded-48e9-adfa-8d4b8612df5b\" xlink:type=\"simple\"><g id=\"elem_E9\"><rect fill=\"#FFFFFF\" height=\"50.7031\" id=\"E9\" rx=\"10\" ry=\"10\" style=\"stroke:#181818;stroke-width:0.5;\" width=\"57\" x=\"564\" y=\"690.5\"/><text fill=\"#000000\" font-family=\"sans-serif\" font-size=\"12\" font-style=\"italic\" lengthAdjust=\"spacing\" textLength=\"35\" x=\"575\" y=\"707.957\">«part»</text><text fill=\"#000000\" font-family=\"sans-serif\" font-size=\"14\" lengthAdjust=\"spacing\" textLength=\"43\" x=\"567\" y=\"725.127\">seat[2]</text><line style=\"stroke:#181818;stroke-width:0.5;\" x1=\"565\" x2=\"620\" y1=\"733.2031\" y2=\"733.2031\"/></g></a><!--MD5=[96f4274e9e20536e775497830990834d]\n",
       "class E10--><a href=\"psysml:77e3ff5b-40ff-4c67-b9bb-b20f0fd51700\" target=\"_top\" title=\"psysml:77e3ff5b-40ff-4c67-b9bb-b20f0fd51700\" xlink:actuate=\"onRequest\" xlink:href=\"psysml:77e3ff5b-40ff-4c67-b9bb-b20f0fd51700\" xlink:show=\"new\" xlink:title=\"psysml:77e3ff5b-40ff-4c67-b9bb-b20f0fd51700\" xlink:type=\"simple\"><g id=\"elem_E10\"><rect fill=\"#FFFFFF\" height=\"50.7031\" id=\"E10\" rx=\"10\" ry=\"10\" style=\"stroke:#181818;stroke-width:0.5;\" width=\"45\" x=\"570\" y=\"604.5\"/><text fill=\"#000000\" font-family=\"sans-serif\" font-size=\"12\" font-style=\"italic\" lengthAdjust=\"spacing\" textLength=\"35\" x=\"575\" y=\"621.957\">«part»</text><text fill=\"#000000\" font-family=\"sans-serif\" font-size=\"14\" lengthAdjust=\"spacing\" textLength=\"31\" x=\"573\" y=\"639.127\">body</text><line style=\"stroke:#181818;stroke-width:0.5;\" x1=\"571\" x2=\"614\" y1=\"647.2031\" y2=\"647.2031\"/></g></a><!--MD5=[1dd1bfd58a279cf63c5f349dbc8fc6a1]\n",
       "class E11--><a href=\"psysml:5b71d5ed-7bd8-4b50-a64f-c0e587475742\" target=\"_top\" title=\"psysml:5b71d5ed-7bd8-4b50-a64f-c0e587475742\" xlink:actuate=\"onRequest\" xlink:href=\"psysml:5b71d5ed-7bd8-4b50-a64f-c0e587475742\" xlink:show=\"new\" xlink:title=\"psysml:5b71d5ed-7bd8-4b50-a64f-c0e587475742\" xlink:type=\"simple\"><g id=\"elem_E11\"><rect fill=\"#FFFFFF\" height=\"50.7031\" id=\"E11\" rx=\"10\" ry=\"10\" style=\"stroke:#181818;stroke-width:0.5;\" width=\"121\" x=\"752\" y=\"311.5\"/><text fill=\"#000000\" font-family=\"sans-serif\" font-size=\"12\" font-style=\"italic\" lengthAdjust=\"spacing\" textLength=\"35\" x=\"795\" y=\"328.957\">«part»</text><text fill=\"#000000\" font-family=\"sans-serif\" font-size=\"14\" lengthAdjust=\"spacing\" textLength=\"107\" x=\"755\" y=\"346.127\">wheels: Wheel[4]</text><line style=\"stroke:#181818;stroke-width:0.5;\" x1=\"753\" x2=\"872\" y1=\"354.2031\" y2=\"354.2031\"/></g></a><!--MD5=[49a0ec8f00dab7302a31f22d0f0fe584]\n",
       "class E12--><a href=\"psysml:79573f7d-5143-4de0-bfef-1581340469e5\" target=\"_top\" title=\"psysml:79573f7d-5143-4de0-bfef-1581340469e5\" xlink:actuate=\"onRequest\" xlink:href=\"psysml:79573f7d-5143-4de0-bfef-1581340469e5\" xlink:show=\"new\" xlink:title=\"psysml:79573f7d-5143-4de0-bfef-1581340469e5\" xlink:type=\"simple\"><g id=\"elem_E12\"><rect fill=\"#FFFFFF\" height=\"50.7031\" id=\"E12\" rx=\"10\" ry=\"10\" style=\"stroke:#181818;stroke-width:0.5;\" width=\"162\" x=\"511.5\" y=\"280.5\"/><text fill=\"#000000\" font-family=\"sans-serif\" font-size=\"12\" font-style=\"italic\" lengthAdjust=\"spacing\" textLength=\"35\" x=\"575\" y=\"297.957\">«part»</text><text fill=\"#000000\" font-family=\"sans-serif\" font-size=\"14\" lengthAdjust=\"spacing\" textLength=\"152\" x=\"514.5\" y=\"315.127\">frontLeftWheel :&gt;wheels</text><line style=\"stroke:#181818;stroke-width:0.5;\" x1=\"512.5\" x2=\"672.5\" y1=\"323.2031\" y2=\"323.2031\"/></g></a><!--MD5=[ee3c913d1a06f366521f9ef512b67efe]\n",
       "class E13--><a href=\"psysml:7c2c87a6-fcee-4d9b-bbf0-59d771dcc08e\" target=\"_top\" title=\"psysml:7c2c87a6-fcee-4d9b-bbf0-59d771dcc08e\" xlink:actuate=\"onRequest\" xlink:href=\"psysml:7c2c87a6-fcee-4d9b-bbf0-59d771dcc08e\" xlink:show=\"new\" xlink:title=\"psysml:7c2c87a6-fcee-4d9b-bbf0-59d771dcc08e\" xlink:type=\"simple\"><g id=\"elem_E13\"><rect fill=\"#FFFFFF\" height=\"50.7031\" id=\"E13\" rx=\"10\" ry=\"10\" style=\"stroke:#181818;stroke-width:0.5;\" width=\"171\" x=\"507\" y=\"404.5\"/><text fill=\"#000000\" font-family=\"sans-serif\" font-size=\"12\" font-style=\"italic\" lengthAdjust=\"spacing\" textLength=\"35\" x=\"575\" y=\"421.957\">«part»</text><text fill=\"#000000\" font-family=\"sans-serif\" font-size=\"14\" lengthAdjust=\"spacing\" textLength=\"161\" x=\"510\" y=\"439.127\">frontRightWheel :&gt;wheels</text><line style=\"stroke:#181818;stroke-width:0.5;\" x1=\"508\" x2=\"677\" y1=\"447.2031\" y2=\"447.2031\"/></g></a><!--MD5=[bee11217b2f71d958a27249dc326068c]\n",
       "class E14--><a href=\"psysml:bee0b474-016b-4281-9f66-ec338ef16370\" target=\"_top\" title=\"psysml:bee0b474-016b-4281-9f66-ec338ef16370\" xlink:actuate=\"onRequest\" xlink:href=\"psysml:bee0b474-016b-4281-9f66-ec338ef16370\" xlink:show=\"new\" xlink:title=\"psysml:bee0b474-016b-4281-9f66-ec338ef16370\" xlink:type=\"simple\"><g id=\"elem_E14\"><rect fill=\"#FFFFFF\" height=\"79.3563\" id=\"E14\" rx=\"10\" ry=\"10\" style=\"stroke:#181818;stroke-width:0.5;\" width=\"67\" x=\"559\" y=\"490.5\"/><text fill=\"#000000\" font-family=\"sans-serif\" font-size=\"12\" font-style=\"italic\" lengthAdjust=\"spacing\" textLength=\"35\" x=\"575\" y=\"507.957\">«part»</text><text fill=\"#000000\" font-family=\"sans-serif\" font-size=\"14\" lengthAdjust=\"spacing\" textLength=\"44\" x=\"566.5\" y=\"525.127\">battery</text><line style=\"stroke:#181818;stroke-width:0.5;\" x1=\"560\" x2=\"625\" y1=\"533.2031\" y2=\"533.2031\"/><text fill=\"#000000\" font-family=\"sans-serif\" font-size=\"14\" lengthAdjust=\"spacing\" textLength=\"52\" x=\"565\" y=\"562.7801\">capacity</text><text fill=\"#000000\" font-family=\"sans-serif\" font-size=\"14\" font-style=\"italic\" lengthAdjust=\"spacing\" textLength=\"59\" x=\"563\" y=\"546.4316\">attributes</text></g></a><!--MD5=[0c48fb7552dae8cbbef69381101a84c8]\n",
       "class E15--><a href=\"psysml:728b616b-2244-4b94-9362-2438dfe53376\" target=\"_top\" title=\"psysml:728b616b-2244-4b94-9362-2438dfe53376\" xlink:actuate=\"onRequest\" xlink:href=\"psysml:728b616b-2244-4b94-9362-2438dfe53376\" xlink:show=\"new\" xlink:title=\"psysml:728b616b-2244-4b94-9362-2438dfe53376\" xlink:type=\"simple\"><g id=\"elem_E15\"><rect fill=\"#FFFFFF\" height=\"50.7031\" id=\"E15\" rx=\"10\" ry=\"10\" style=\"stroke:#181818;stroke-width:0.5;\" width=\"137\" x=\"744\" y=\"504.5\"/><text fill=\"#000000\" font-family=\"sans-serif\" font-size=\"12\" font-style=\"italic\" lengthAdjust=\"spacing\" textLength=\"35\" x=\"795\" y=\"521.957\">«port»</text><text fill=\"#000000\" font-family=\"sans-serif\" font-size=\"14\" lengthAdjust=\"spacing\" textLength=\"123\" x=\"747\" y=\"539.127\">powerPort: PowerIP</text><line style=\"stroke:#181818;stroke-width:0.5;\" x1=\"745\" x2=\"880\" y1=\"547.2031\" y2=\"547.2031\"/></g></a><!--MD5=[35f0587eaee8d5bb9a02e25b63afc23b]\n",
       "class E16--><a href=\"psysml:ef9eecb6-3fa3-46eb-a3b5-59a5620c5d11\" target=\"_top\" title=\"psysml:ef9eecb6-3fa3-46eb-a3b5-59a5620c5d11\" xlink:actuate=\"onRequest\" xlink:href=\"psysml:ef9eecb6-3fa3-46eb-a3b5-59a5620c5d11\" xlink:show=\"new\" xlink:title=\"psysml:ef9eecb6-3fa3-46eb-a3b5-59a5620c5d11\" xlink:type=\"simple\"><g id=\"elem_E16\"><rect fill=\"#FFFFFF\" height=\"50.7031\" id=\"E16\" style=\"stroke:#181818;stroke-width:0.5;\" width=\"88\" x=\"32\" y=\"289.5\"/><text fill=\"#000000\" font-family=\"sans-serif\" font-size=\"12\" font-style=\"italic\" lengthAdjust=\"spacing\" textLength=\"58\" x=\"47\" y=\"306.957\">«part  def»</text><text fill=\"#000000\" font-family=\"sans-serif\" font-size=\"14\" lengthAdjust=\"spacing\" textLength=\"82\" x=\"35\" y=\"324.127\">BatmobileNG</text><line style=\"stroke:#181818;stroke-width:0.5;\" x1=\"33\" x2=\"119\" y1=\"332.2031\" y2=\"332.2031\"/></g></a><!--MD5=[60e55a4a9b2f0dc0a36787c5a2095786]\n",
       "class E17--><a href=\"psysml:aea09405-0683-496a-bba8-ac9bc3c1053d\" target=\"_top\" title=\"psysml:aea09405-0683-496a-bba8-ac9bc3c1053d\" xlink:actuate=\"onRequest\" xlink:href=\"psysml:aea09405-0683-496a-bba8-ac9bc3c1053d\" xlink:show=\"new\" xlink:title=\"psysml:aea09405-0683-496a-bba8-ac9bc3c1053d\" xlink:type=\"simple\"><g id=\"elem_E17\"><rect fill=\"#FFFFFF\" height=\"50.7031\" id=\"E17\" rx=\"10\" ry=\"10\" style=\"stroke:#181818;stroke-width:0.5;\" width=\"145\" x=\"241\" y=\"221.5\"/><text fill=\"#000000\" font-family=\"sans-serif\" font-size=\"12\" font-style=\"italic\" lengthAdjust=\"spacing\" textLength=\"35\" x=\"296\" y=\"238.957\">«part»</text><text fill=\"#000000\" font-family=\"sans-serif\" font-size=\"14\" lengthAdjust=\"spacing\" textLength=\"131\" x=\"244\" y=\"256.127\">bulletProofWheels[4]</text><line style=\"stroke:#181818;stroke-width:0.5;\" x1=\"242\" x2=\"385\" y1=\"264.2031\" y2=\"264.2031\"/></g></a><!--MD5=[e3af68e2095dcd46cf4beab32f25c64b]\n",
       "class E18--><a href=\"psysml:3d6c80e1-2d88-4d8f-bfbc-68b815991e7e\" target=\"_top\" title=\"psysml:3d6c80e1-2d88-4d8f-bfbc-68b815991e7e\" xlink:actuate=\"onRequest\" xlink:href=\"psysml:3d6c80e1-2d88-4d8f-bfbc-68b815991e7e\" xlink:show=\"new\" xlink:title=\"psysml:3d6c80e1-2d88-4d8f-bfbc-68b815991e7e\" xlink:type=\"simple\"><g id=\"elem_E18\"><rect fill=\"#FFFFFF\" height=\"79.3563\" id=\"E18\" style=\"stroke:#181818;stroke-width:0.5;\" width=\"68\" x=\"997.5\" y=\"297.5\"/><text fill=\"#000000\" font-family=\"sans-serif\" font-size=\"12\" font-style=\"italic\" lengthAdjust=\"spacing\" textLength=\"58\" x=\"1002.5\" y=\"314.957\">«part  def»</text><text fill=\"#000000\" font-family=\"sans-serif\" font-size=\"14\" lengthAdjust=\"spacing\" textLength=\"40\" x=\"1011.5\" y=\"332.127\">Wheel</text><line style=\"stroke:#181818;stroke-width:0.5;\" x1=\"998.5\" x2=\"1064.5\" y1=\"340.2031\" y2=\"340.2031\"/><text fill=\"#000000\" font-family=\"sans-serif\" font-size=\"14\" lengthAdjust=\"spacing\" textLength=\"56\" x=\"1003.5\" y=\"369.7801\">pressure</text><text fill=\"#000000\" font-family=\"sans-serif\" font-size=\"14\" font-style=\"italic\" lengthAdjust=\"spacing\" textLength=\"59\" x=\"1002\" y=\"353.4316\">attributes</text></g></a><!--MD5=[2afd267d199484aabbd2f23ded056bb0]\n",
       "class E19--><a href=\"psysml:6ed6dbd1-dc3d-401c-a2f5-41e3116092b9\" target=\"_top\" title=\"psysml:6ed6dbd1-dc3d-401c-a2f5-41e3116092b9\" xlink:actuate=\"onRequest\" xlink:href=\"psysml:6ed6dbd1-dc3d-401c-a2f5-41e3116092b9\" xlink:show=\"new\" xlink:title=\"psysml:6ed6dbd1-dc3d-401c-a2f5-41e3116092b9\" xlink:type=\"simple\"><g id=\"elem_E19\"><rect fill=\"#FFFFFF\" height=\"50.7031\" id=\"E19\" rx=\"10\" ry=\"10\" style=\"stroke:#181818;stroke-width:0.5;\" width=\"395\" x=\"1176\" y=\"311.5\"/><text fill=\"#000000\" font-family=\"sans-serif\" font-size=\"12\" font-style=\"italic\" lengthAdjust=\"spacing\" textLength=\"38\" x=\"1354.5\" y=\"328.957\">«item»</text><text fill=\"#000000\" font-family=\"sans-serif\" font-size=\"14\" lengthAdjust=\"spacing\" textLength=\"385\" x=\"1179\" y=\"346.127\">boundingBox: RectangularCuboid[1] :&gt;Item::boundingShapes</text><line style=\"stroke:#181818;stroke-width:0.5;\" x1=\"1177\" x2=\"1570\" y1=\"354.2031\" y2=\"354.2031\"/></g></a><!--MD5=[98c62f1084e4f84a692d89b659ad1ae4]\n",
       "class E20--><a href=\"psysml:7ca81ccf-ed66-419c-ac79-15e8ac7a3dd7\" target=\"_top\" title=\"psysml:7ca81ccf-ed66-419c-ac79-15e8ac7a3dd7\" xlink:actuate=\"onRequest\" xlink:href=\"psysml:7ca81ccf-ed66-419c-ac79-15e8ac7a3dd7\" xlink:show=\"new\" xlink:title=\"psysml:7ca81ccf-ed66-419c-ac79-15e8ac7a3dd7\" xlink:type=\"simple\"><g id=\"elem_E20\"><rect fill=\"#FFFFFF\" height=\"50.7031\" id=\"E20\" style=\"stroke:#181818;stroke-width:0.5;\" width=\"60\" x=\"1001.5\" y=\"604.5\"/><text fill=\"#000000\" font-family=\"sans-serif\" font-size=\"12\" font-style=\"italic\" lengthAdjust=\"spacing\" textLength=\"58\" x=\"1002.5\" y=\"621.957\">«port  def»</text><text fill=\"#000000\" font-family=\"sans-serif\" font-size=\"14\" lengthAdjust=\"spacing\" textLength=\"51\" x=\"1006\" y=\"639.127\">PowerIP</text><line style=\"stroke:#181818;stroke-width:0.5;\" x1=\"1002.5\" x2=\"1060.5\" y1=\"647.2031\" y2=\"647.2031\"/></g></a><!--MD5=[0a5eafc7463fe4c3b6356fe5913c4902]\n",
       "class E21--><a href=\"psysml:ccd3fde1-a294-45f0-a7ae-d577658c13c5\" target=\"_top\" title=\"psysml:ccd3fde1-a294-45f0-a7ae-d577658c13c5\" xlink:actuate=\"onRequest\" xlink:href=\"psysml:ccd3fde1-a294-45f0-a7ae-d577658c13c5\" xlink:show=\"new\" xlink:title=\"psysml:ccd3fde1-a294-45f0-a7ae-d577658c13c5\" xlink:type=\"simple\"><g id=\"elem_E21\"><rect fill=\"#FFFFFF\" height=\"50.7031\" id=\"E21\" rx=\"10\" ry=\"10\" style=\"stroke:#181818;stroke-width:0.5;\" width=\"99\" x=\"1324\" y=\"616.5\"/><text fill=\"#000000\" font-family=\"sans-serif\" font-size=\"12\" font-style=\"italic\" lengthAdjust=\"spacing\" textLength=\"38\" x=\"1354.5\" y=\"633.957\">«item»</text><text fill=\"#000000\" font-family=\"sans-serif\" font-size=\"14\" lengthAdjust=\"spacing\" textLength=\"85\" x=\"1327\" y=\"651.127\">power: Power</text><line style=\"stroke:#181818;stroke-width:0.5;\" x1=\"1325\" x2=\"1422\" y1=\"659.2031\" y2=\"659.2031\"/></g></a><!--MD5=[6284cf9f06086a212f4fa89d0d29ec03]\n",
       "class E22--><a href=\"psysml:d4ec1fc0-4a6d-4f98-9bed-4b988d9980ea\" target=\"_top\" title=\"psysml:d4ec1fc0-4a6d-4f98-9bed-4b988d9980ea\" xlink:actuate=\"onRequest\" xlink:href=\"psysml:d4ec1fc0-4a6d-4f98-9bed-4b988d9980ea\" xlink:show=\"new\" xlink:title=\"psysml:d4ec1fc0-4a6d-4f98-9bed-4b988d9980ea\" xlink:type=\"simple\"><g id=\"elem_E22\"><rect fill=\"#FFFFFF\" height=\"79.3563\" id=\"E22\" style=\"stroke:#181818;stroke-width:0.5;\" width=\"67\" x=\"1631\" y=\"670.5\"/><text fill=\"#000000\" font-family=\"sans-serif\" font-size=\"12\" font-style=\"italic\" lengthAdjust=\"spacing\" textLength=\"61\" x=\"1634\" y=\"687.957\">«item  def»</text><text fill=\"#000000\" font-family=\"sans-serif\" font-size=\"14\" lengthAdjust=\"spacing\" textLength=\"39\" x=\"1645\" y=\"705.127\">Power</text><line style=\"stroke:#181818;stroke-width:0.5;\" x1=\"1632\" x2=\"1697\" y1=\"713.2031\" y2=\"713.2031\"/><text fill=\"#000000\" font-family=\"sans-serif\" font-size=\"14\" lengthAdjust=\"spacing\" textLength=\"34\" x=\"1637\" y=\"742.7801\">value</text><text fill=\"#000000\" font-family=\"sans-serif\" font-size=\"14\" font-style=\"italic\" lengthAdjust=\"spacing\" textLength=\"59\" x=\"1635\" y=\"726.4316\">attributes</text></g></a><!--MD5=[a4184b15efaeca9fb90158e34dfc9305]\n",
       "class E23--><a href=\"psysml:9a4b02c0-7485-4ef8-b5f4-34fc58f20621\" target=\"_top\" title=\"psysml:9a4b02c0-7485-4ef8-b5f4-34fc58f20621\" xlink:actuate=\"onRequest\" xlink:href=\"psysml:9a4b02c0-7485-4ef8-b5f4-34fc58f20621\" xlink:show=\"new\" xlink:title=\"psysml:9a4b02c0-7485-4ef8-b5f4-34fc58f20621\" xlink:type=\"simple\"><g id=\"elem_E23\"><rect fill=\"#FFFFFF\" height=\"50.7031\" id=\"E23\" style=\"stroke:#181818;stroke-width:0.5;\" width=\"100\" x=\"542.5\" y=\"776.5\"/><text fill=\"#000000\" font-family=\"sans-serif\" font-size=\"12\" font-style=\"italic\" lengthAdjust=\"spacing\" textLength=\"84\" x=\"550.5\" y=\"793.957\">«interface  def»</text><text fill=\"#000000\" font-family=\"sans-serif\" font-size=\"14\" lengthAdjust=\"spacing\" textLength=\"94\" x=\"545.5\" y=\"811.127\">PowerInterface</text><line style=\"stroke:#181818;stroke-width:0.5;\" x1=\"543.5\" x2=\"641.5\" y1=\"819.2031\" y2=\"819.2031\"/></g></a><!--MD5=[d961d9d5dcc77964a221abceaadb3cc6]\n",
       "class E24--><a href=\"psysml:2a691a75-b4d8-49d0-829f-ba8eb29ba55d\" target=\"_top\" title=\"psysml:2a691a75-b4d8-49d0-829f-ba8eb29ba55d\" xlink:actuate=\"onRequest\" xlink:href=\"psysml:2a691a75-b4d8-49d0-829f-ba8eb29ba55d\" xlink:show=\"new\" xlink:title=\"psysml:2a691a75-b4d8-49d0-829f-ba8eb29ba55d\" xlink:type=\"simple\"><g id=\"elem_E24\"><rect fill=\"#FFFFFF\" height=\"50.7031\" id=\"E24\" rx=\"10\" ry=\"10\" style=\"stroke:#181818;stroke-width:0.5;\" width=\"149\" x=\"738\" y=\"690.5\"/><text fill=\"#000000\" font-family=\"sans-serif\" font-size=\"12\" font-style=\"italic\" lengthAdjust=\"spacing\" textLength=\"35\" x=\"795\" y=\"707.957\">«port»</text><text fill=\"#000000\" font-family=\"sans-serif\" font-size=\"14\" lengthAdjust=\"spacing\" textLength=\"135\" x=\"741\" y=\"725.127\">supplierPort: PowerIP</text><line style=\"stroke:#181818;stroke-width:0.5;\" x1=\"739\" x2=\"886\" y1=\"733.2031\" y2=\"733.2031\"/></g></a><!--MD5=[27602d2299176a43176dae1470eb318a]\n",
       "class E25--><a href=\"psysml:ccd3fde1-a294-45f0-a7ae-d577658c13c5\" target=\"_top\" title=\"psysml:ccd3fde1-a294-45f0-a7ae-d577658c13c5\" xlink:actuate=\"onRequest\" xlink:href=\"psysml:ccd3fde1-a294-45f0-a7ae-d577658c13c5\" xlink:show=\"new\" xlink:title=\"psysml:ccd3fde1-a294-45f0-a7ae-d577658c13c5\" xlink:type=\"simple\"><g id=\"elem_E25\"><rect fill=\"#FFFFFF\" height=\"50.7031\" id=\"E25\" rx=\"10\" ry=\"10\" style=\"stroke:#181818;stroke-width:0.5;\" width=\"104\" x=\"979.5\" y=\"690.5\"/><text fill=\"#000000\" font-family=\"sans-serif\" font-size=\"12\" font-style=\"italic\" lengthAdjust=\"spacing\" textLength=\"38\" x=\"1012.5\" y=\"707.957\">«item»</text><text fill=\"#000000\" font-family=\"sans-serif\" font-size=\"14\" lengthAdjust=\"spacing\" textLength=\"90\" x=\"982.5\" y=\"725.127\">^power: Power</text><line style=\"stroke:#181818;stroke-width:0.5;\" x1=\"980.5\" x2=\"1082.5\" y1=\"733.2031\" y2=\"733.2031\"/></g></a><!--MD5=[cd9920ba5ec815a2e5c5d0d6af8dfd7b]\n",
       "class E26--><a href=\"psysml:91d3d9b0-013d-4a8b-8b64-9c99f4b24625\" target=\"_top\" title=\"psysml:91d3d9b0-013d-4a8b-8b64-9c99f4b24625\" xlink:actuate=\"onRequest\" xlink:href=\"psysml:91d3d9b0-013d-4a8b-8b64-9c99f4b24625\" xlink:show=\"new\" xlink:title=\"psysml:91d3d9b0-013d-4a8b-8b64-9c99f4b24625\" xlink:type=\"simple\"><g id=\"elem_E26\"><rect fill=\"#FFFFFF\" height=\"50.7031\" id=\"E26\" rx=\"10\" ry=\"10\" style=\"stroke:#181818;stroke-width:0.5;\" width=\"169\" x=\"947\" y=\"776.5\"/><text fill=\"#000000\" font-family=\"sans-serif\" font-size=\"12\" font-style=\"italic\" lengthAdjust=\"spacing\" textLength=\"35\" x=\"1014\" y=\"793.957\">«port»</text><text fill=\"#000000\" font-family=\"sans-serif\" font-size=\"14\" lengthAdjust=\"spacing\" textLength=\"155\" x=\"950\" y=\"811.127\">consumerPort: ~PowerIP</text><line style=\"stroke:#181818;stroke-width:0.5;\" x1=\"948\" x2=\"1115\" y1=\"819.2031\" y2=\"819.2031\"/></g></a><!--MD5=[066bc520e5788adc19ecb36845367d7b]\n",
       "class E27--><a href=\"psysml:ccd3fde1-a294-45f0-a7ae-d577658c13c5\" target=\"_top\" title=\"psysml:ccd3fde1-a294-45f0-a7ae-d577658c13c5\" xlink:actuate=\"onRequest\" xlink:href=\"psysml:ccd3fde1-a294-45f0-a7ae-d577658c13c5\" xlink:show=\"new\" xlink:title=\"psysml:ccd3fde1-a294-45f0-a7ae-d577658c13c5\" xlink:type=\"simple\"><g id=\"elem_E27\"><rect fill=\"#FFFFFF\" height=\"50.7031\" id=\"E27\" rx=\"10\" ry=\"10\" style=\"stroke:#181818;stroke-width:0.5;\" width=\"104\" x=\"1321.5\" y=\"746.5\"/><text fill=\"#000000\" font-family=\"sans-serif\" font-size=\"12\" font-style=\"italic\" lengthAdjust=\"spacing\" textLength=\"38\" x=\"1354.5\" y=\"763.957\">«item»</text><text fill=\"#000000\" font-family=\"sans-serif\" font-size=\"14\" lengthAdjust=\"spacing\" textLength=\"90\" x=\"1324.5\" y=\"781.127\">^power: Power</text><line style=\"stroke:#181818;stroke-width:0.5;\" x1=\"1322.5\" x2=\"1424.5\" y1=\"789.2031\" y2=\"789.2031\"/></g></a><!--MD5=[4672eba38e49728da53d11aeb285b987]\n",
       "reverse link E3 to E4--><g id=\"link_E3_E4\"><a href=\"psysml:77bbba29-6fc6-45a0-ba2e-3a681c5f89e8\" target=\"_top\" title=\"psysml:77bbba29-6fc6-45a0-ba2e-3a681c5f89e8\" xlink:actuate=\"onRequest\" xlink:href=\"psysml:77bbba29-6fc6-45a0-ba2e-3a681c5f89e8\" xlink:show=\"new\" xlink:title=\"psysml:77bbba29-6fc6-45a0-ba2e-3a681c5f89e8\" xlink:type=\"simple\"><path d=\"M687.73,199 C687.73,199 787.42,199 787.42,199 \" fill=\"none\" id=\"E3-backto-E4\" style=\"stroke:#181818;stroke-width:1.0;\"/><polygon fill=\"#181818\" points=\"674.73,199,680.73,203,686.73,199,680.73,195,674.73,199\" style=\"stroke:#181818;stroke-width:1.0;\"/></a></g><!--MD5=[191cde3d490a3f6d7bb551fe3ddca469]\n",
       "reverse link E3 to E5--><g id=\"link_E3_E5\"><a href=\"psysml:5723f0fd-b379-4811-be9d-d3db85520cea\" target=\"_top\" title=\"psysml:5723f0fd-b379-4811-be9d-d3db85520cea\" xlink:actuate=\"onRequest\" xlink:href=\"psysml:5723f0fd-b379-4811-be9d-d3db85520cea\" xlink:show=\"new\" xlink:title=\"psysml:5723f0fd-b379-4811-be9d-d3db85520cea\" xlink:type=\"simple\"><path d=\"M687.73,142 C687.73,142 783.82,142 783.82,142 \" fill=\"none\" id=\"E3-backto-E5\" style=\"stroke:#181818;stroke-width:1.0;\"/><polygon fill=\"#181818\" points=\"674.73,142,680.73,146,686.73,142,680.73,138,674.73,142\" style=\"stroke:#181818;stroke-width:1.0;\"/></a></g><!--MD5=[a717450b82c80b9240a525fa862496af]\n",
       "link E6 to E3--><g id=\"link_E6_E3\"><a href=\"psysml:dd98a78e-c369-4a47-ba9e-18d03e011749\" target=\"_top\" title=\"psysml:dd98a78e-c369-4a47-ba9e-18d03e011749\" xlink:actuate=\"onRequest\" xlink:href=\"psysml:dd98a78e-c369-4a47-ba9e-18d03e011749\" xlink:show=\"new\" xlink:title=\"psysml:dd98a78e-c369-4a47-ba9e-18d03e011749\" xlink:type=\"simple\"><path d=\"M427,310.33 C427,254.26 427,177.5 427,177.5 C427,177.5 490.23,177.5 490.23,177.5 \" fill=\"none\" id=\"E6-to-E3\" style=\"stroke:#181818;stroke-width:1.0;\"/><polygon fill=\"none\" points=\"490.23,170.5,510.23,177.5,490.23,184.5,490.23,170.5\" style=\"stroke:#181818;stroke-width:1.0;\"/></a></g><!--MD5=[3f50a3473f1dfb74d3f76443e03635af]\n",
       "reverse link E6 to E7--><g id=\"link_E6_E7\"><a href=\"psysml:9401e601-1bbc-411e-abe1-e10e8853b062\" target=\"_top\" title=\"psysml:9401e601-1bbc-411e-abe1-e10e8853b062\" xlink:actuate=\"onRequest\" xlink:href=\"psysml:9401e601-1bbc-411e-abe1-e10e8853b062\" xlink:show=\"new\" xlink:title=\"psysml:9401e601-1bbc-411e-abe1-e10e8853b062\" xlink:type=\"simple\"><path d=\"M407,297.16 C407,297.16 407,68 407,68 C407,68 478.56,68 532.79,68 \" fill=\"none\" id=\"E6-backto-E7\" style=\"stroke:#181818;stroke-width:1.0;\"/><polygon fill=\"#181818\" points=\"407,310.16,411,304.16,407,298.16,403,304.16,407,310.16\" style=\"stroke:#181818;stroke-width:1.0;\"/></a></g><!--MD5=[4d1e63f6c5cc89ece832f1e02a2fb60c]\n",
       "link E7 to E5--><g id=\"link_E7_E5\"><a href=\"psysml:ecf8145c-ecb0-48de-876d-49a53773f250\" target=\"_top\" title=\"psysml:ecf8145c-ecb0-48de-876d-49a53773f250\" xlink:actuate=\"onRequest\" xlink:href=\"psysml:ecf8145c-ecb0-48de-876d-49a53773f250\" xlink:show=\"new\" xlink:title=\"psysml:ecf8145c-ecb0-48de-876d-49a53773f250\" xlink:type=\"simple\"><path d=\"M652.17,76.5 C717.47,76.5 813,76.5 813,76.5 C813,76.5 813,84.19 813,84.19 \" fill=\"none\" id=\"E7-to-E5\" style=\"stroke:#181818;stroke-width:1.0;\"/><polygon fill=\"#FFFFFF\" points=\"813,104.19,806,85.19,820,85.19,813,104.19\" style=\"stroke:#181818;stroke-width:1.0;\"/><line style=\"stroke:#181818;stroke-width:2.0;\" x1=\"806\" x2=\"820\" y1=\"81.39\" y2=\"81.39\"/></a></g><!--MD5=[dc164f5e8a733ab456ef1add180e9e34]\n",
       "reverse link E7 to E8--><g id=\"link_E7_E8\"><a href=\"psysml:87d9ed22-fcef-48dc-adea-54b812466827\" target=\"_top\" title=\"psysml:87d9ed22-fcef-48dc-adea-54b812466827\" xlink:actuate=\"onRequest\" xlink:href=\"psysml:87d9ed22-fcef-48dc-adea-54b812466827\" xlink:show=\"new\" xlink:title=\"psysml:87d9ed22-fcef-48dc-adea-54b812466827\" xlink:type=\"simple\"><path d=\"M665.23,59.5 C665.23,59.5 1032,59.5 1032,59.5 C1032,59.5 1032,88.65 1032,111.19 \" fill=\"none\" id=\"E7-backto-E8\" style=\"stroke:#181818;stroke-width:1.0;\"/><polygon fill=\"none\" points=\"652.23,59.5,658.23,63.5,664.23,59.5,658.23,55.5,652.23,59.5\" style=\"stroke:#181818;stroke-width:1.0;\"/></a></g><!--MD5=[e88d06e5a652d73a6b19930eefe025a8]\n",
       "reverse link E6 to E9--><g id=\"link_E6_E9\"><a href=\"psysml:2523a9c1-7bb1-4c83-88ab-32733c3abcf2\" target=\"_top\" title=\"psysml:2523a9c1-7bb1-4c83-88ab-32733c3abcf2\" xlink:actuate=\"onRequest\" xlink:href=\"psysml:2523a9c1-7bb1-4c83-88ab-32733c3abcf2\" xlink:show=\"new\" xlink:title=\"psysml:2523a9c1-7bb1-4c83-88ab-32733c3abcf2\" xlink:type=\"simple\"><path d=\"M247,438.86 C247,438.86 247,716 247,716 C247,716 481.15,716 563.93,716 \" fill=\"none\" id=\"E6-backto-E9\" style=\"stroke:#181818;stroke-width:1.0;\"/><polygon fill=\"#181818\" points=\"247,425.86,243,431.86,247,437.86,251,431.86,247,425.86\" style=\"stroke:#181818;stroke-width:1.0;\"/></a></g><!--MD5=[d0fef95800180166b62282c1bc977cec]\n",
       "reverse link E6 to E10--><g id=\"link_E6_E10\"><a href=\"psysml:4b3fe8bb-173c-498a-8863-cd769a9494b6\" target=\"_top\" title=\"psysml:4b3fe8bb-173c-498a-8863-cd769a9494b6\" xlink:actuate=\"onRequest\" xlink:href=\"psysml:4b3fe8bb-173c-498a-8863-cd769a9494b6\" xlink:show=\"new\" xlink:title=\"psysml:4b3fe8bb-173c-498a-8863-cd769a9494b6\" xlink:type=\"simple\"><path d=\"M314,438.82 C314,438.82 314,630 314,630 C314,630 503.2,630 569.71,630 \" fill=\"none\" id=\"E6-backto-E10\" style=\"stroke:#181818;stroke-width:1.0;\"/><polygon fill=\"#181818\" points=\"314,425.82,310,431.82,314,437.82,318,431.82,314,425.82\" style=\"stroke:#181818;stroke-width:1.0;\"/></a></g><!--MD5=[1f5f03483f7de0d5b3680a7f6650997f]\n",
       "reverse link E6 to E11--><g id=\"link_E6_E11\"><a href=\"psysml:e8bc50ea-13be-4e1d-a439-da9888233acf\" target=\"_top\" title=\"psysml:e8bc50ea-13be-4e1d-a439-da9888233acf\" xlink:actuate=\"onRequest\" xlink:href=\"psysml:e8bc50ea-13be-4e1d-a439-da9888233acf\" xlink:show=\"new\" xlink:title=\"psysml:e8bc50ea-13be-4e1d-a439-da9888233acf\" xlink:type=\"simple\"><path d=\"M460.22,347 C460.22,347 751.75,347 751.75,347 \" fill=\"none\" id=\"E6-backto-E11\" style=\"stroke:#181818;stroke-width:1.0;\"/><polygon fill=\"#181818\" points=\"447.22,347,453.22,351,459.22,347,453.22,343,447.22,347\" style=\"stroke:#181818;stroke-width:1.0;\"/></a></g><!--MD5=[121fe0e397de22fdbb429873968f84d2]\n",
       "reverse link E6 to E12--><g id=\"link_E6_E12\"><a href=\"psysml:98b54637-af13-42ff-8e87-0b3bc2eb6109\" target=\"_top\" title=\"psysml:98b54637-af13-42ff-8e87-0b3bc2eb6109\" xlink:actuate=\"onRequest\" xlink:href=\"psysml:98b54637-af13-42ff-8e87-0b3bc2eb6109\" xlink:show=\"new\" xlink:title=\"psysml:98b54637-af13-42ff-8e87-0b3bc2eb6109\" xlink:type=\"simple\"><path d=\"M460.28,321 C460.28,321 511.15,321 511.15,321 \" fill=\"none\" id=\"E6-backto-E12\" style=\"stroke:#181818;stroke-width:1.0;\"/><polygon fill=\"#181818\" points=\"447.28,321,453.28,325,459.28,321,453.28,317,447.28,321\" style=\"stroke:#181818;stroke-width:1.0;\"/></a></g><!--MD5=[dc3070f36b7e37334e331d97c845f2c3]\n",
       "link E12 to E11--><g id=\"link_E12_E11\"><a href=\"psysml:d8b2805d-ef11-4e55-b6e9-91651f7bcbbe\" target=\"_top\" title=\"psysml:d8b2805d-ef11-4e55-b6e9-91651f7bcbbe\" xlink:actuate=\"onRequest\" xlink:href=\"psysml:d8b2805d-ef11-4e55-b6e9-91651f7bcbbe\" xlink:show=\"new\" xlink:title=\"psysml:d8b2805d-ef11-4e55-b6e9-91651f7bcbbe\" xlink:type=\"simple\"><path d=\"M673.79,321.5 C673.79,321.5 731.83,321.5 731.83,321.5 \" fill=\"none\" id=\"E12-to-E11\" style=\"stroke:#181818;stroke-width:1.0;\"/><polygon fill=\"none\" points=\"731.83,314.5,751.83,321.5,731.83,328.5,731.83,314.5\" style=\"stroke:#181818;stroke-width:1.0;\"/></a></g><!--MD5=[c19e979a316814acfb7b40d702a900a6]\n",
       "reverse link E6 to E13--><g id=\"link_E6_E13\"><a href=\"psysml:af1c590c-7e49-4a86-a94a-e556496b554f\" target=\"_top\" title=\"psysml:af1c590c-7e49-4a86-a94a-e556496b554f\" xlink:actuate=\"onRequest\" xlink:href=\"psysml:af1c590c-7e49-4a86-a94a-e556496b554f\" xlink:show=\"new\" xlink:title=\"psysml:af1c590c-7e49-4a86-a94a-e556496b554f\" xlink:type=\"simple\"><path d=\"M460.28,415 C460.28,415 506.88,415 506.88,415 \" fill=\"none\" id=\"E6-backto-E13\" style=\"stroke:#181818;stroke-width:1.0;\"/><polygon fill=\"#181818\" points=\"447.28,415,453.28,419,459.28,415,453.28,411,447.28,415\" style=\"stroke:#181818;stroke-width:1.0;\"/></a></g><!--MD5=[2cfe899c895462254056921bfb67315f]\n",
       "link E13 to E11--><g id=\"link_E13_E11\"><a href=\"psysml:e763d73c-1fc5-4c44-8078-5bad05304977\" target=\"_top\" title=\"psysml:e763d73c-1fc5-4c44-8078-5bad05304977\" xlink:actuate=\"onRequest\" xlink:href=\"psysml:e763d73c-1fc5-4c44-8078-5bad05304977\" xlink:show=\"new\" xlink:title=\"psysml:e763d73c-1fc5-4c44-8078-5bad05304977\" xlink:type=\"simple\"><path d=\"M678.07,430 C740.05,430 813,430 813,430 C813,430 813,382.91 813,382.91 \" fill=\"none\" id=\"E13-to-E11\" style=\"stroke:#181818;stroke-width:1.0;\"/><polygon fill=\"none\" points=\"806,382.91,813,362.91,820,382.91,806,382.91\" style=\"stroke:#181818;stroke-width:1.0;\"/></a></g><!--MD5=[e87b0008af9aa3b816b6bda4b2c42e68]\n",
       "reverse link E6 to E14--><g id=\"link_E6_E14\"><a href=\"psysml:829f6078-815d-4860-ae8a-8dc364f43364\" target=\"_top\" title=\"psysml:829f6078-815d-4860-ae8a-8dc364f43364\" xlink:actuate=\"onRequest\" xlink:href=\"psysml:829f6078-815d-4860-ae8a-8dc364f43364\" xlink:show=\"new\" xlink:title=\"psysml:829f6078-815d-4860-ae8a-8dc364f43364\" xlink:type=\"simple\"><path d=\"M381,438.57 C381,438.57 381,530 381,530 C381,530 499.35,530 558.99,530 \" fill=\"none\" id=\"E6-backto-E14\" style=\"stroke:#181818;stroke-width:1.0;\"/><polygon fill=\"#181818\" points=\"381,425.57,377,431.57,381,437.57,385,431.57,381,425.57\" style=\"stroke:#181818;stroke-width:1.0;\"/></a></g><!--MD5=[17bf29720e4688890742b92d9a67fdf0]\n",
       "reverse link E14 to E15--><g id=\"link_E14_E15\"><a href=\"psysml:4080509a-02fb-4e3e-b221-f245b8e76dd0\" target=\"_top\" title=\"psysml:4080509a-02fb-4e3e-b221-f245b8e76dd0\" xlink:actuate=\"onRequest\" xlink:href=\"psysml:4080509a-02fb-4e3e-b221-f245b8e76dd0\" xlink:show=\"new\" xlink:title=\"psysml:4080509a-02fb-4e3e-b221-f245b8e76dd0\" xlink:type=\"simple\"><path d=\"M639.39,530 C639.39,530 743.95,530 743.95,530 \" fill=\"none\" id=\"E14-backto-E15\" style=\"stroke:#181818;stroke-width:1.0;\"/><polygon fill=\"none\" points=\"626.39,530,632.39,534,638.39,530,632.39,526,626.39,530\" style=\"stroke:#181818;stroke-width:1.0;\"/></a></g><!--MD5=[1b01d5b954197aaf3899ca0bde35faf5]\n",
       "link E15 to E8--><g id=\"link_E15_E8\"><a href=\"psysml:12412137-086e-4469-b74b-f928afa83fc2\" target=\"_top\" title=\"psysml:12412137-086e-4469-b74b-f928afa83fc2\" xlink:actuate=\"onRequest\" xlink:href=\"psysml:12412137-086e-4469-b74b-f928afa83fc2\" xlink:show=\"new\" xlink:title=\"psysml:12412137-086e-4469-b74b-f928afa83fc2\" xlink:type=\"simple\"><path d=\"M877,504.5 C877,420.68 877,159 877,159 C877,159 916.84,159 956.06,159 \" fill=\"none\" id=\"E15-E8\" style=\"stroke:#181818;stroke-width:3.0;\"/></a></g><!--MD5=[e49333780d67d857bd3452d50cf754dc]\n",
       "link E16 to E6--><g id=\"link_E16_E6\"><a href=\"psysml:219791b5-3e2b-480e-a70a-2fe419425198\" target=\"_top\" title=\"psysml:219791b5-3e2b-480e-a70a-2fe419425198\" xlink:actuate=\"onRequest\" xlink:href=\"psysml:219791b5-3e2b-480e-a70a-2fe419425198\" xlink:show=\"new\" xlink:title=\"psysml:219791b5-3e2b-480e-a70a-2fe419425198\" xlink:type=\"simple\"><path d=\"M120.12,325.5 C120.12,325.5 159.81,325.5 159.81,325.5 \" fill=\"none\" id=\"E16-to-E6\" style=\"stroke:#181818;stroke-width:1.0;\"/><polygon fill=\"none\" points=\"159.81,318.5,179.81,325.5,159.81,332.5,159.81,318.5\" style=\"stroke:#181818;stroke-width:1.0;\"/></a></g><!--MD5=[83b671efae201694a20ab4d5a8adffa0]\n",
       "reverse link E16 to E17--><g id=\"link_E16_E17\"><a href=\"psysml:b592afc5-da4b-421b-9182-39fb0a84ae20\" target=\"_top\" title=\"psysml:b592afc5-da4b-421b-9182-39fb0a84ae20\" xlink:actuate=\"onRequest\" xlink:href=\"psysml:b592afc5-da4b-421b-9182-39fb0a84ae20\" xlink:show=\"new\" xlink:title=\"psysml:b592afc5-da4b-421b-9182-39fb0a84ae20\" xlink:type=\"simple\"><path d=\"M114,276.29 C114,276.29 114,247 114,247 C114,247 183.87,247 240.91,247 \" fill=\"none\" id=\"E16-backto-E17\" style=\"stroke:#181818;stroke-width:1.0;\"/><polygon fill=\"#181818\" points=\"114,289.29,118,283.29,114,277.29,110,283.29,114,289.29\" style=\"stroke:#181818;stroke-width:1.0;\"/></a></g><!--MD5=[ec02213b688817ca196aadc754e14d5d]\n",
       "link E17 to E11--><g id=\"link_E17_E11\"><a href=\"psysml:aca13667-1d3f-4dba-b050-d73a67e32a7e\" target=\"_top\" title=\"psysml:aca13667-1d3f-4dba-b050-d73a67e32a7e\" xlink:actuate=\"onRequest\" xlink:href=\"psysml:aca13667-1d3f-4dba-b050-d73a67e32a7e\" xlink:show=\"new\" xlink:title=\"psysml:aca13667-1d3f-4dba-b050-d73a67e32a7e\" xlink:type=\"simple\"><path d=\"M386.02,257 C514.34,257 768,257 768,257 C768,257 768,291.25 768,291.25 \" fill=\"none\" id=\"E17-to-E11\" style=\"stroke:#181818;stroke-width:1.0;\"/><polygon fill=\"#FFFFFF\" points=\"768,311.25,761,292.25,775,292.25,768,311.25\" style=\"stroke:#181818;stroke-width:1.0;\"/><line style=\"stroke:#181818;stroke-width:2.0;\" x1=\"761\" x2=\"775\" y1=\"288.45\" y2=\"288.45\"/></a></g><!--MD5=[b8b66ebb69f736f02fe54aa8b5145c59]\n",
       "link E11 to E18--><g id=\"link_E11_E18\"><a href=\"psysml:e54302eb-9d7f-4151-9766-f5340279f235\" target=\"_top\" title=\"psysml:e54302eb-9d7f-4151-9766-f5340279f235\" xlink:actuate=\"onRequest\" xlink:href=\"psysml:e54302eb-9d7f-4151-9766-f5340279f235\" xlink:show=\"new\" xlink:title=\"psysml:e54302eb-9d7f-4151-9766-f5340279f235\" xlink:type=\"simple\"><path d=\"M873.21,337 C873.21,337 977.26,337 977.26,337 \" fill=\"none\" id=\"E11-to-E18\" style=\"stroke:#181818;stroke-width:1.0;\"/><polygon fill=\"#FFFFFF\" points=\"997.26,337,978.26,344,978.26,330,997.26,337\" style=\"stroke:#181818;stroke-width:1.0;\"/><ellipse cx=\"972.56\" cy=\"342\" fill=\"#181818\" rx=\"2\" ry=\"2\" style=\"stroke:#181818;stroke-width:1.0;\"/><ellipse cx=\"972.56\" cy=\"332\" fill=\"#181818\" rx=\"2\" ry=\"2\" style=\"stroke:#181818;stroke-width:1.0;\"/></a></g><!--MD5=[ccf7aa128b682f3a0ccda039adc0b7d4]\n",
       "reverse link E18 to E19--><g id=\"link_E18_E19\"><a href=\"psysml:68bfb0f8-78b7-44da-88ff-2d8d3e6b083d\" target=\"_top\" title=\"psysml:68bfb0f8-78b7-44da-88ff-2d8d3e6b083d\" xlink:actuate=\"onRequest\" xlink:href=\"psysml:68bfb0f8-78b7-44da-88ff-2d8d3e6b083d\" xlink:show=\"new\" xlink:title=\"psysml:68bfb0f8-78b7-44da-88ff-2d8d3e6b083d\" xlink:type=\"simple\"><path d=\"M1078.54,337 C1078.54,337 1175.7,337 1175.7,337 \" fill=\"none\" id=\"E18-backto-E19\" style=\"stroke:#181818;stroke-width:1.0;\"/><polygon fill=\"#181818\" points=\"1065.54,337,1071.54,341,1077.54,337,1071.54,333,1065.54,337\" style=\"stroke:#181818;stroke-width:1.0;\"/></a></g><!--MD5=[214c7322132207e1595becafda8599d7]\n",
       "link E15 to E20--><g id=\"link_E15_E20\"><a href=\"psysml:65e08484-9866-43ce-b723-2a8a0d175ea3\" target=\"_top\" title=\"psysml:65e08484-9866-43ce-b723-2a8a0d175ea3\" xlink:actuate=\"onRequest\" xlink:href=\"psysml:65e08484-9866-43ce-b723-2a8a0d175ea3\" xlink:show=\"new\" xlink:title=\"psysml:65e08484-9866-43ce-b723-2a8a0d175ea3\" xlink:type=\"simple\"><path d=\"M881.05,530 C945.45,530 1032,530 1032,530 C1032,530 1032,584.25 1032,584.25 \" fill=\"none\" id=\"E15-to-E20\" style=\"stroke:#181818;stroke-width:1.0;\"/><polygon fill=\"#FFFFFF\" points=\"1032,604.25,1025,585.25,1039,585.25,1032,604.25\" style=\"stroke:#181818;stroke-width:1.0;\"/><ellipse cx=\"1027\" cy=\"579.55\" fill=\"#181818\" rx=\"2\" ry=\"2\" style=\"stroke:#181818;stroke-width:1.0;\"/><ellipse cx=\"1037\" cy=\"579.55\" fill=\"#181818\" rx=\"2\" ry=\"2\" style=\"stroke:#181818;stroke-width:1.0;\"/></a></g><!--MD5=[1a6308b15a34c383117d799f6b35794f]\n",
       "reverse link E20 to E21--><g id=\"link_E20_E21\"><a href=\"psysml:eef009e1-9508-48f1-9cad-e62581d552b7\" target=\"_top\" title=\"psysml:eef009e1-9508-48f1-9cad-e62581d552b7\" xlink:actuate=\"onRequest\" xlink:href=\"psysml:eef009e1-9508-48f1-9cad-e62581d552b7\" xlink:show=\"new\" xlink:title=\"psysml:eef009e1-9508-48f1-9cad-e62581d552b7\" xlink:type=\"simple\"><path d=\"M1074.55,636 C1074.55,636 1323.76,636 1323.76,636 \" fill=\"none\" id=\"E20-backto-E21\" style=\"stroke:#181818;stroke-width:1.0;\"/><polygon fill=\"none\" points=\"1061.55,636,1067.55,640,1073.55,636,1067.55,632,1061.55,636\" style=\"stroke:#181818;stroke-width:1.0;\"/></a></g><!--MD5=[51b187ae0284ba3dc43b21346ebf4776]\n",
       "link E21 to E22--><g id=\"link_E21_E22\"><a href=\"psysml:0a9c4e03-8bc2-431c-b8e4-87766f977d1d\" target=\"_top\" title=\"psysml:0a9c4e03-8bc2-431c-b8e4-87766f977d1d\" xlink:actuate=\"onRequest\" xlink:href=\"psysml:0a9c4e03-8bc2-431c-b8e4-87766f977d1d\" xlink:show=\"new\" xlink:title=\"psysml:0a9c4e03-8bc2-431c-b8e4-87766f977d1d\" xlink:type=\"simple\"><path d=\"M1374,667.89 C1374,674.86 1374,680.5 1374,680.5 C1374,680.5 1610.89,680.5 1610.89,680.5 \" fill=\"none\" id=\"E21-to-E22\" style=\"stroke:#181818;stroke-width:1.0;\"/><polygon fill=\"#FFFFFF\" points=\"1630.89,680.5,1611.89,687.5,1611.89,673.5,1630.89,680.5\" style=\"stroke:#181818;stroke-width:1.0;\"/><ellipse cx=\"1606.19\" cy=\"685.5\" fill=\"#181818\" rx=\"2\" ry=\"2\" style=\"stroke:#181818;stroke-width:1.0;\"/><ellipse cx=\"1606.19\" cy=\"675.5\" fill=\"#181818\" rx=\"2\" ry=\"2\" style=\"stroke:#181818;stroke-width:1.0;\"/></a></g><!--MD5=[1d8c22e3f363ad2a662668374a511e29]\n",
       "reverse link E23 to E24--><g id=\"link_E23_E24\"><a href=\"psysml:acd674e6-431c-487a-814e-74eab3af7129\" target=\"_top\" title=\"psysml:acd674e6-431c-487a-814e-74eab3af7129\" xlink:actuate=\"onRequest\" xlink:href=\"psysml:acd674e6-431c-487a-814e-74eab3af7129\" xlink:show=\"new\" xlink:title=\"psysml:acd674e6-431c-487a-814e-74eab3af7129\" xlink:type=\"simple\"><path d=\"M635,763.2 C635,763.2 635,716 635,716 C635,716 689.42,716 738,716 \" fill=\"none\" id=\"E23-backto-E24\" style=\"stroke:#181818;stroke-width:1.0;\"/><polygon fill=\"none\" points=\"635,776.2,639,770.2,635,764.2,631,770.2,635,776.2\" style=\"stroke:#181818;stroke-width:1.0;\"/></a></g><!--MD5=[5fdcac5126942d33d6ccd00067079823]\n",
       "link E24 to E20--><g id=\"link_E24_E20\"><a href=\"psysml:54b674da-7f8a-4e74-a3ac-bb12c1f7023c\" target=\"_top\" title=\"psysml:54b674da-7f8a-4e74-a3ac-bb12c1f7023c\" xlink:actuate=\"onRequest\" xlink:href=\"psysml:54b674da-7f8a-4e74-a3ac-bb12c1f7023c\" xlink:show=\"new\" xlink:title=\"psysml:54b674da-7f8a-4e74-a3ac-bb12c1f7023c\" xlink:type=\"simple\"><path d=\"M813,690.2 C813,664.87 813,630 813,630 C813,630 981.12,630 981.12,630 \" fill=\"none\" id=\"E24-to-E20\" style=\"stroke:#181818;stroke-width:1.0;\"/><polygon fill=\"#FFFFFF\" points=\"1001.12,630,982.12,637,982.12,623,1001.12,630\" style=\"stroke:#181818;stroke-width:1.0;\"/><ellipse cx=\"976.42\" cy=\"635\" fill=\"#181818\" rx=\"2\" ry=\"2\" style=\"stroke:#181818;stroke-width:1.0;\"/><ellipse cx=\"976.42\" cy=\"625\" fill=\"#181818\" rx=\"2\" ry=\"2\" style=\"stroke:#181818;stroke-width:1.0;\"/></a></g><!--MD5=[62221375f35154e753917cb43ec12b45]\n",
       "reverse link E24 to E25--><g id=\"link_E24_E25\"><a href=\"psysml:eef009e1-9508-48f1-9cad-e62581d552b7\" target=\"_top\" title=\"psysml:eef009e1-9508-48f1-9cad-e62581d552b7\" xlink:actuate=\"onRequest\" xlink:href=\"psysml:eef009e1-9508-48f1-9cad-e62581d552b7\" xlink:show=\"new\" xlink:title=\"psysml:eef009e1-9508-48f1-9cad-e62581d552b7\" xlink:type=\"simple\"><path d=\"M900.25,716 C900.25,716 979.5,716 979.5,716 \" fill=\"none\" id=\"E24-backto-E25\" style=\"stroke:#181818;stroke-width:1.0;\"/><polygon fill=\"none\" points=\"887.25,716,893.25,720,899.25,716,893.25,712,887.25,716\" style=\"stroke:#181818;stroke-width:1.0;\"/></a></g><!--MD5=[30cb7641ccb067730e9b6a37d9307a73]\n",
       "link E25 to E22--><g id=\"link_E25_E22\"><a href=\"psysml:0a9c4e03-8bc2-431c-b8e4-87766f977d1d\" target=\"_top\" title=\"psysml:0a9c4e03-8bc2-431c-b8e4-87766f977d1d\" xlink:actuate=\"onRequest\" xlink:href=\"psysml:0a9c4e03-8bc2-431c-b8e4-87766f977d1d\" xlink:show=\"new\" xlink:title=\"psysml:0a9c4e03-8bc2-431c-b8e4-87766f977d1d\" xlink:type=\"simple\"><path d=\"M1083.57,716 C1083.57,716 1610.77,716 1610.77,716 \" fill=\"none\" id=\"E25-to-E22\" style=\"stroke:#181818;stroke-width:1.0;\"/><polygon fill=\"#FFFFFF\" points=\"1630.77,716,1611.77,723,1611.77,709,1630.77,716\" style=\"stroke:#181818;stroke-width:1.0;\"/><ellipse cx=\"1606.07\" cy=\"721\" fill=\"#181818\" rx=\"2\" ry=\"2\" style=\"stroke:#181818;stroke-width:1.0;\"/><ellipse cx=\"1606.07\" cy=\"711\" fill=\"#181818\" rx=\"2\" ry=\"2\" style=\"stroke:#181818;stroke-width:1.0;\"/></a></g><!--MD5=[146f16ca70d05cb3bc8e9706a3181fcd]\n",
       "reverse link E23 to E26--><g id=\"link_E23_E26\"><a href=\"psysml:bcb87df0-7bad-477d-9e24-c09cddd0e533\" target=\"_top\" title=\"psysml:bcb87df0-7bad-477d-9e24-c09cddd0e533\" xlink:actuate=\"onRequest\" xlink:href=\"psysml:bcb87df0-7bad-477d-9e24-c09cddd0e533\" xlink:show=\"new\" xlink:title=\"psysml:bcb87df0-7bad-477d-9e24-c09cddd0e533\" xlink:type=\"simple\"><path d=\"M655.86,802 C655.86,802 946.85,802 946.85,802 \" fill=\"none\" id=\"E23-backto-E26\" style=\"stroke:#181818;stroke-width:1.0;\"/><polygon fill=\"none\" points=\"642.86,802,648.86,806,654.86,802,648.86,798,642.86,802\" style=\"stroke:#181818;stroke-width:1.0;\"/></a></g><!--MD5=[768083b52c205097188b750740e4e13b]\n",
       "reverse link E26 to E27--><g id=\"link_E26_E27\"><a href=\"psysml:eef009e1-9508-48f1-9cad-e62581d552b7\" target=\"_top\" title=\"psysml:eef009e1-9508-48f1-9cad-e62581d552b7\" xlink:actuate=\"onRequest\" xlink:href=\"psysml:eef009e1-9508-48f1-9cad-e62581d552b7\" xlink:show=\"new\" xlink:title=\"psysml:eef009e1-9508-48f1-9cad-e62581d552b7\" xlink:type=\"simple\"><path d=\"M1129.04,787 C1129.04,787 1321.28,787 1321.28,787 \" fill=\"none\" id=\"E26-backto-E27\" style=\"stroke:#181818;stroke-width:1.0;\"/><polygon fill=\"none\" points=\"1116.04,787,1122.04,791,1128.04,787,1122.04,783,1116.04,787\" style=\"stroke:#181818;stroke-width:1.0;\"/></a></g><!--MD5=[4eaef51212fa10231595aedd33a7c92f]\n",
       "link E27 to E22--><g id=\"link_E27_E22\"><a href=\"psysml:0a9c4e03-8bc2-431c-b8e4-87766f977d1d\" target=\"_top\" title=\"psysml:0a9c4e03-8bc2-431c-b8e4-87766f977d1d\" xlink:actuate=\"onRequest\" xlink:href=\"psysml:0a9c4e03-8bc2-431c-b8e4-87766f977d1d\" xlink:show=\"new\" xlink:title=\"psysml:0a9c4e03-8bc2-431c-b8e4-87766f977d1d\" xlink:type=\"simple\"><path d=\"M1425.61,773.5 C1509.46,773.5 1665,773.5 1665,773.5 C1665,773.5 1665,769.85 1665,769.85 \" fill=\"none\" id=\"E27-to-E22\" style=\"stroke:#181818;stroke-width:1.0;\"/><polygon fill=\"#FFFFFF\" points=\"1665,749.85,1672,768.85,1658,768.85,1665,749.85\" style=\"stroke:#181818;stroke-width:1.0;\"/><ellipse cx=\"1670\" cy=\"774.55\" fill=\"#181818\" rx=\"2\" ry=\"2\" style=\"stroke:#181818;stroke-width:1.0;\"/><ellipse cx=\"1660\" cy=\"774.55\" fill=\"#181818\" rx=\"2\" ry=\"2\" style=\"stroke:#181818;stroke-width:1.0;\"/></a></g><!--MD5=[2fbdc973c2fecaffdac4492e35c02edb]\n",
       "link E25 to E27--><g id=\"link_E25_E27\"><a href=\"psysml:a3e0ed8d-4b81-4978-b888-8176ebdd44fc\" target=\"_top\" title=\"psysml:a3e0ed8d-4b81-4978-b888-8176ebdd44fc\" xlink:actuate=\"onRequest\" xlink:href=\"psysml:a3e0ed8d-4b81-4978-b888-8176ebdd44fc\" xlink:show=\"new\" xlink:title=\"psysml:a3e0ed8d-4b81-4978-b888-8176ebdd44fc\" xlink:type=\"simple\"><path d=\"M1032,741.68 C1032,752 1032,761.5 1032,761.5 C1032,761.5 1316.26,761.5 1316.26,761.5 \" fill=\"none\" id=\"E25-to-E27\" style=\"stroke:#181818;stroke-width:1.0;\"/><polygon fill=\"#181818\" points=\"1321.26,761.5,1312.26,757.5,1316.26,761.5,1312.26,765.5,1321.26,761.5\" style=\"stroke:#181818;stroke-width:1.0;\"/><text fill=\"#000000\" font-family=\"sans-serif\" font-size=\"13\" lengthAdjust=\"spacing\" textLength=\"44\" x=\"1119.22\" y=\"775.9951\">: Power</text></a></g><!--MD5=[14e1a71d9427647413b7b309373ee045]\n",
       "@startuml\r\n",
       "skin sysmlbw\r\n",
       "skinparam monochrome true\r\n",
       "skinparam wrapWidth 300\r\n",
       "hide circle\r\n",
       "left to right direction\r\n",
       "skinparam linetype ortho\r\n",
       "\r\n",
       "package \"Definitions\" as E1  [[psysml:842c835e-538a-4605-9984-10a6c92c3831 ]]  {\r\n",
       "comp def \"Hero\" as E2  <<(T,blue) item  def>> [[psysml:e31b8ba4-9798-4a93-980b-d9eee28ba0f6 ]] {\r\n",
       "}\r\n",
       "comp def \"Vehicle\" as E3  <<(T,blue) part  def>> [[psysml:4aa5f7ac-4c63-4489-8144-06877107bc63 ]] {\r\n",
       "##//attributes//##\r\n",
       "actualSpeed: SpeedUnit\r\n",
       "}\r\n",
       "comp usage \"driver  \" as E4  <<(T,blue) item>> [[psysml:f5dbe14f-e71e-4f8d-b24a-8ec55f5012ea ]] {\r\n",
       "}\r\n",
       "comp usage \"engine  \" as E5  <<(T,blue) part>> [[psysml:680e8c07-b50d-4248-8c4d-9ee9f3f66c6f ]] {\r\n",
       "}\r\n",
       "comp def \"Batmobile\" as E6  <<(T,blue) part  def>> [[psysml:deddc36a-888b-4c3e-a4b4-2e0e96b24885 ]] {\r\n",
       "##//interfaces//##\r\n",
       "battery2engine: PowerInterface connect battery.powerPort to batmobileEngine.enginePort\r\n",
       "}\r\n",
       "comp usage \"batmobileEngine  \" as E7  <<(T,blue) part>> [[psysml:de5c3b00-5a59-4f85-a781-79ef204e0e0f ]] {\r\n",
       "}\r\n",
       "comp usage \"enginePort: ~PowerIP  \" as E8  <<(T,blue) port>> [[psysml:3390072d-b832-43c6-9999-15e13f7e1703 ]] {\r\n",
       "}\r\n",
       "comp usage \"seat[2]  \" as E9  <<(T,blue) part>> [[psysml:e0af43df-5ded-48e9-adfa-8d4b8612df5b ]] {\r\n",
       "}\r\n",
       "comp usage \"body  \" as E10  <<(T,blue) part>> [[psysml:77e3ff5b-40ff-4c67-b9bb-b20f0fd51700 ]] {\r\n",
       "}\r\n",
       "comp usage \"wheels: Wheel[4]  \" as E11  <<(T,blue) part>> [[psysml:5b71d5ed-7bd8-4b50-a64f-c0e587475742 ]] {\r\n",
       "}\r\n",
       "comp usage \"frontLeftWheel :>wheels \" as E12  <<(T,blue) part>> [[psysml:79573f7d-5143-4de0-bfef-1581340469e5 ]] {\r\n",
       "}\r\n",
       "comp usage \"frontRightWheel :>wheels \" as E13  <<(T,blue) part>> [[psysml:7c2c87a6-fcee-4d9b-bbf0-59d771dcc08e ]] {\r\n",
       "}\r\n",
       "comp usage \"battery  \" as E14  <<(T,blue) part>> [[psysml:bee0b474-016b-4281-9f66-ec338ef16370 ]] {\r\n",
       "##//attributes//##\r\n",
       "capacity\r\n",
       "}\r\n",
       "comp usage \"powerPort: PowerIP  \" as E15  <<(T,blue) port>> [[psysml:728b616b-2244-4b94-9362-2438dfe53376 ]] {\r\n",
       "}\r\n",
       "comp def \"BatmobileNG\" as E16  <<(T,blue) part  def>> [[psysml:ef9eecb6-3fa3-46eb-a3b5-59a5620c5d11 ]] {\r\n",
       "}\r\n",
       "comp usage \"bulletProofWheels[4]  \" as E17  <<(T,blue) part>> [[psysml:aea09405-0683-496a-bba8-ac9bc3c1053d ]] {\r\n",
       "}\r\n",
       "comp def \"Wheel\" as E18  <<(T,blue) part  def>> [[psysml:3d6c80e1-2d88-4d8f-bfbc-68b815991e7e ]] {\r\n",
       "##//attributes//##\r\n",
       "pressure\r\n",
       "}\r\n",
       "comp usage \"boundingBox: RectangularCuboid[1] :>Item::boundingShapes \" as E19  <<(T,blue) item>> [[psysml:6ed6dbd1-dc3d-401c-a2f5-41e3116092b9 ]] {\r\n",
       "}\r\n",
       "comp def \"PowerIP\" as E20  <<(T,blue) port  def>> [[psysml:7ca81ccf-ed66-419c-ac79-15e8ac7a3dd7 ]] {\r\n",
       "}\r\n",
       "comp usage \"power: Power  \" as E21  <<(T,blue) item>> [[psysml:ccd3fde1-a294-45f0-a7ae-d577658c13c5 ]] {\r\n",
       "}\r\n",
       "comp def \"Power\" as E22  <<(T,blue) item  def>> [[psysml:d4ec1fc0-4a6d-4f98-9bed-4b988d9980ea ]] {\r\n",
       "##//attributes//##\r\n",
       "value\r\n",
       "}\r\n",
       "comp def \"PowerInterface\" as E23  <<(T,blue) interface  def>> [[psysml:9a4b02c0-7485-4ef8-b5f4-34fc58f20621 ]] {\r\n",
       "}\r\n",
       "comp usage \"supplierPort: PowerIP  \" as E24  <<(T,blue) port>> [[psysml:2a691a75-b4d8-49d0-829f-ba8eb29ba55d ]] {\r\n",
       "}\r\n",
       "comp usage \"^power: Power  \" as E25  <<(T,blue) item>> [[psysml:ccd3fde1-a294-45f0-a7ae-d577658c13c5 ]] {\r\n",
       "}\r\n",
       "comp usage \"consumerPort: ~PowerIP  \" as E26  <<(T,blue) port>> [[psysml:91d3d9b0-013d-4a8b-8b64-9c99f4b24625 ]] {\r\n",
       "}\r\n",
       "comp usage \"^power: Power  \" as E27  <<(T,blue) item>> [[psysml:ccd3fde1-a294-45f0-a7ae-d577658c13c5 ]] {\r\n",
       "}\r\n",
       "}\r\n",
       "E3 *- - E4 [[psysml:77bbba29-6fc6-45a0-ba2e-3a681c5f89e8 ]] \r\n",
       "E3 *- - E5 [[psysml:5723f0fd-b379-4811-be9d-d3db85520cea ]] \r\n",
       "E6 - -|> E3 [[psysml:dd98a78e-c369-4a47-ba9e-18d03e011749 ]] \r\n",
       "E6 *- - E7 [[psysml:9401e601-1bbc-411e-abe1-e10e8853b062 ]] \r\n",
       "E7 - -||> E5 [[psysml:ecf8145c-ecb0-48de-876d-49a53773f250 ]] \r\n",
       "E7 o- - E8 [[psysml:87d9ed22-fcef-48dc-adea-54b812466827 ]] \r\n",
       "E6 *- - E9 [[psysml:2523a9c1-7bb1-4c83-88ab-32733c3abcf2 ]] \r\n",
       "E6 *- - E10 [[psysml:4b3fe8bb-173c-498a-8863-cd769a9494b6 ]] \r\n",
       "E6 *- - E11 [[psysml:e8bc50ea-13be-4e1d-a439-da9888233acf ]] \r\n",
       "E6 *- - E12 [[psysml:98b54637-af13-42ff-8e87-0b3bc2eb6109 ]] \r\n",
       "E12 - -|> E11 [[psysml:d8b2805d-ef11-4e55-b6e9-91651f7bcbbe ]] \r\n",
       "E6 *- - E13 [[psysml:af1c590c-7e49-4a86-a94a-e556496b554f ]] \r\n",
       "E13 - -|> E11 [[psysml:e763d73c-1fc5-4c44-8078-5bad05304977 ]] \r\n",
       "E6 *- - E14 [[psysml:829f6078-815d-4860-ae8a-8dc364f43364 ]] \r\n",
       "E14 o- - E15 [[psysml:4080509a-02fb-4e3e-b221-f245b8e76dd0 ]] \r\n",
       "E15 -[thickness=3]- E8 [[psysml:12412137-086e-4469-b74b-f928afa83fc2 ]] \r\n",
       "E16 - -|> E6 [[psysml:219791b5-3e2b-480e-a70a-2fe419425198 ]] \r\n",
       "E16 *- - E17 [[psysml:b592afc5-da4b-421b-9182-39fb0a84ae20 ]] \r\n",
       "E17 - -||> E11 [[psysml:aca13667-1d3f-4dba-b050-d73a67e32a7e ]] \r\n",
       "E11 - -:|> E18 [[psysml:e54302eb-9d7f-4151-9766-f5340279f235 ]] \r\n",
       "E18 *- - E19 [[psysml:68bfb0f8-78b7-44da-88ff-2d8d3e6b083d ]] \r\n",
       "E15 - -:|> E20 [[psysml:65e08484-9866-43ce-b723-2a8a0d175ea3 ]] \r\n",
       "E20 o- - E21 [[psysml:eef009e1-9508-48f1-9cad-e62581d552b7 ]] \r\n",
       "E21 - -:|> E22 [[psysml:0a9c4e03-8bc2-431c-b8e4-87766f977d1d ]] \r\n",
       "E23 o- - E24 [[psysml:acd674e6-431c-487a-814e-74eab3af7129 ]] \r\n",
       "E24 - -:|> E20 [[psysml:54b674da-7f8a-4e74-a3ac-bb12c1f7023c ]] \r\n",
       "E24 o- - E25 [[psysml:eef009e1-9508-48f1-9cad-e62581d552b7 ]] \r\n",
       "E25 - -:|> E22 [[psysml:0a9c4e03-8bc2-431c-b8e4-87766f977d1d ]] \r\n",
       "E23 o- - E26 [[psysml:bcb87df0-7bad-477d-9e24-c09cddd0e533 ]] \r\n",
       "E26 o- - E27 [[psysml:eef009e1-9508-48f1-9cad-e62581d552b7 ]] \r\n",
       "E27 - -:|> E22 [[psysml:0a9c4e03-8bc2-431c-b8e4-87766f977d1d ]] \r\n",
       "E25 - -> E27 [[psysml:a3e0ed8d-4b81-4978-b888-8176ebdd44fc ]] : : Power\r\n",
       "@enduml\r\n",
       "\n",
       "PlantUML version 1.2022.7(Mon Aug 22 11:01:30 GMT-06:00 2022)\n",
       "(EPL source distribution)\n",
       "Java Runtime: OpenJDK Runtime Environment\n",
       "JVM: OpenJDK 64-Bit Server VM\n",
       "Default Encoding: UTF-8\n",
       "Language: en\n",
       "Country: US\n",
       "--></g></svg>"
      ]
     },
     "execution_count": 551,
     "metadata": {},
     "output_type": "execute_result"
    }
   ],
   "source": [
    "%viz --view=TREE --style=LR --style=ORTHOLINE Definitions"
   ]
  },
  {
   "cell_type": "code",
   "execution_count": 594,
   "id": "2ce3155a-0cd5-4f94-858f-4fd723d63436",
   "metadata": {
    "jupyter": {
     "source_hidden": true
    }
   },
   "outputs": [
    {
     "data": {
      "text/plain": [
       "Package Batmobile_Architecture (51014a36-12cd-441a-83d9-345cc3bcd030)\n"
      ]
     },
     "execution_count": 594,
     "metadata": {},
     "output_type": "execute_result"
    }
   ],
   "source": [
    "package Batmobile_Architecture {\n",
    "    // Inculed all stages\n",
    "}"
   ]
  },
  {
   "cell_type": "code",
   "execution_count": 606,
   "id": "7e29258c-1c01-4d0f-9d62-09d90a094f36",
   "metadata": {
    "jupyter": {
     "source_hidden": true
    }
   },
   "outputs": [
    {
     "data": {
      "text/plain": [
       "Package Stage_1_Capability (c793af8f-023c-403e-91a7-dcda0fde2c69)\n",
       "Comment comment_1 (0b054746-8ff6-43dd-b32a-500781e9ab7d)\n"
      ]
     },
     "execution_count": 606,
     "metadata": {},
     "output_type": "execute_result"
    }
   ],
   "source": [
    "package Stage_1_Capability {\n",
    "    /* comment\n",
    "    What the system does in the context?\n",
    "\n",
    "    Scope:\n",
    "    capability concept definition */\n",
    "}\n",
    "comment comment_1 about Stage_1_Capability /* not in scope */ "
   ]
  },
  {
   "cell_type": "code",
   "execution_count": 608,
   "id": "d4d47935-2cbd-40bb-b4ce-3b0b4006fde2",
   "metadata": {
    "collapsed": true,
    "jupyter": {
     "outputs_hidden": true
    }
   },
   "outputs": [
    {
     "data": {
      "image/svg+xml": [
       "<?xml version=\"1.0\" encoding=\"UTF-8\" standalone=\"no\"?><svg xmlns=\"http://www.w3.org/2000/svg\" xmlns:xlink=\"http://www.w3.org/1999/xlink\" contentStyleType=\"text/css\" height=\"217px\" preserveAspectRatio=\"none\" style=\"width:444px;height:217px;background:#FFFFFF;\" version=\"1.1\" viewBox=\"0 0 444 217\" width=\"444px\" zoomAndPan=\"magnify\"><defs/><g><!--MD5=[fbc87193dbaf4d95561dea2c320d4a47]\n",
       "cluster E1--><g id=\"cluster_E1\"><a href=\"psysml:c793af8f-023c-403e-91a7-dcda0fde2c69\" target=\"_top\" title=\"psysml:c793af8f-023c-403e-91a7-dcda0fde2c69\" xlink:actuate=\"onRequest\" xlink:href=\"psysml:c793af8f-023c-403e-91a7-dcda0fde2c69\" xlink:show=\"new\" xlink:title=\"psysml:c793af8f-023c-403e-91a7-dcda0fde2c69\" xlink:type=\"simple\"><polygon fill=\"none\" points=\"135.5,6,273.5,6,280.5,29.6094,427.5,29.6094,427.5,210.72,135.5,210.72,135.5,6\" style=\"stroke:#000000;stroke-width:1.5;\"/><line style=\"stroke:#000000;stroke-width:1.5;\" x1=\"135.5\" x2=\"280.5\" y1=\"29.6094\" y2=\"29.6094\"/><text fill=\"#000000\" font-family=\"sans-serif\" font-size=\"14\" font-weight=\"bold\" lengthAdjust=\"spacing\" textLength=\"132\" x=\"139.5\" y=\"22.5332\">Stage_1_Capability</text></a></g><g id=\"elem_E2\"><path d=\"M160,50 L160,141.7578 L403,141.7578 L403,60 L393,50 L160,50 \" fill=\"#FAFAFA\" style=\"stroke:#181818;stroke-width:0.5;\"/><path d=\"M393,50 L393,60 L403,60 L393,50 \" fill=\"#FAFAFA\" style=\"stroke:#181818;stroke-width:1.0;\"/><a href=\"psysml:b7cb1e0d-4aea-482d-86a0-65d228c9781b\" target=\"_top\" title=\"psysml:b7cb1e0d-4aea-482d-86a0-65d228c9781b\" xlink:actuate=\"onRequest\" xlink:href=\"psysml:b7cb1e0d-4aea-482d-86a0-65d228c9781b\" xlink:show=\"new\" xlink:title=\"psysml:b7cb1e0d-4aea-482d-86a0-65d228c9781b\" xlink:type=\"simple\"><text fill=\"#000000\" font-family=\"sans-serif\" font-size=\"13\" lengthAdjust=\"spacing\" text-decoration=\"underline\" textLength=\"13\" x=\"166\" y=\"68.4951\">@</text></a><text fill=\"#000000\" font-family=\"sans-serif\" font-size=\"13\" lengthAdjust=\"spacing\" textLength=\"54\" x=\"179\" y=\"68.4951\">comment</text><text fill=\"#000000\" font-family=\"sans-serif\" font-size=\"13\" lengthAdjust=\"spacing\" textLength=\"222\" x=\"166\" y=\"84.8467\">What the system does in the context?</text><text fill=\"#000000\" font-family=\"sans-serif\" font-size=\"13\" lengthAdjust=\"spacing\" textLength=\"4\" x=\"166\" y=\"101.1982\"> </text><text fill=\"#000000\" font-family=\"sans-serif\" font-size=\"13\" lengthAdjust=\"spacing\" textLength=\"41\" x=\"166\" y=\"117.5498\">Scope:</text><text fill=\"#000000\" font-family=\"sans-serif\" font-size=\"13\" lengthAdjust=\"spacing\" textLength=\"160\" x=\"166\" y=\"133.9014\">capability concept definition</text></g><g id=\"elem_E3\"><path d=\"M6,83 L6,109.3516 L111,109.3516 L111,93 L101,83 L6,83 \" fill=\"#FAFAFA\" style=\"stroke:#181818;stroke-width:0.5;\"/><path d=\"M101,83 L101,93 L111,93 L101,83 \" fill=\"#FAFAFA\" style=\"stroke:#181818;stroke-width:1.0;\"/><a href=\"psysml:0b054746-8ff6-43dd-b32a-500781e9ab7d\" target=\"_top\" title=\"psysml:0b054746-8ff6-43dd-b32a-500781e9ab7d\" xlink:actuate=\"onRequest\" xlink:href=\"psysml:0b054746-8ff6-43dd-b32a-500781e9ab7d\" xlink:show=\"new\" xlink:title=\"psysml:0b054746-8ff6-43dd-b32a-500781e9ab7d\" xlink:type=\"simple\"><text fill=\"#000000\" font-family=\"sans-serif\" font-size=\"13\" lengthAdjust=\"spacing\" text-decoration=\"underline\" textLength=\"13\" x=\"12\" y=\"101.4951\">@</text></a><text fill=\"#000000\" font-family=\"sans-serif\" font-size=\"13\" lengthAdjust=\"spacing\" textLength=\"71\" x=\"25\" y=\"101.4951\">not in scope</text></g><!--MD5=[f23a504beb17692cf1ec401fb4a5a911]\n",
       "link E2 to E1--><g id=\"link_E2_E1\"><a href=\"psysml:b7cb1e0d-4aea-482d-86a0-65d228c9781b\" target=\"_top\" title=\"psysml:b7cb1e0d-4aea-482d-86a0-65d228c9781b\" xlink:actuate=\"onRequest\" xlink:href=\"psysml:b7cb1e0d-4aea-482d-86a0-65d228c9781b\" xlink:show=\"new\" xlink:title=\"psysml:b7cb1e0d-4aea-482d-86a0-65d228c9781b\" xlink:type=\"simple\"><path d=\"M251.84,142.14 C233.72,169.71 213.79,200.04 212.56,201.91 \" fill=\"none\" id=\"E2-E1\" style=\"stroke:#181818;stroke-width:1.0;stroke-dasharray:7.0,7.0;\"/></a></g><!--MD5=[ce8a55680e2ecf030a1946113312eb05]\n",
       "link E3 to E1--><g id=\"link_E3_E1\"><a href=\"psysml:0b054746-8ff6-43dd-b32a-500781e9ab7d\" target=\"_top\" title=\"psysml:0b054746-8ff6-43dd-b32a-500781e9ab7d\" xlink:actuate=\"onRequest\" xlink:href=\"psysml:0b054746-8ff6-43dd-b32a-500781e9ab7d\" xlink:show=\"new\" xlink:title=\"psysml:0b054746-8ff6-43dd-b32a-500781e9ab7d\" xlink:type=\"simple\"><path d=\"M74.92,109.19 C83.415,115.45 94.505,123.555 106.4988,132.1437 C112.4956,136.4381 118.7184,140.8534 124.9558,145.2195 C128.0745,147.4026 131.1968,149.5733 134.2963,151.7105 C134.6837,151.9776 135.0708,152.2443 135.4575,152.5103 \" fill=\"none\" id=\"E3-E1\" style=\"stroke:#181818;stroke-width:1.0;stroke-dasharray:7.0,7.0;\"/></a></g><!--MD5=[32ad7728775e91763877495340d14f87]\n",
       "@startuml\r\n",
       "skin sysmlbw\r\n",
       "skinparam monochrome true\r\n",
       "skinparam wrapWidth 300\r\n",
       "hide circle\r\n",
       "\r\n",
       "package \"Stage_1_Capability\" as E1  [[psysml:c793af8f-023c-403e-91a7-dcda0fde2c69 ]]  {\r\n",
       "note as E2\r\n",
       "[[psysml:b7cb1e0d-4aea-482d-86a0-65d228c9781b @]]comment\r\n",
       "What the system does in the context?\r\n",
       "\r\n",
       "Scope:\r\n",
       "capability concept definition\r\n",
       "end note \r\n",
       "}\r\n",
       "note as E3\r\n",
       "[[psysml:0b054746-8ff6-43dd-b32a-500781e9ab7d @]]not in scope\r\n",
       "end note \r\n",
       "E2 .. E1 [[psysml:b7cb1e0d-4aea-482d-86a0-65d228c9781b ]] \r\n",
       "E3 .. E1 [[psysml:0b054746-8ff6-43dd-b32a-500781e9ab7d ]] \r\n",
       "@enduml\r\n",
       "\n",
       "PlantUML version 1.2022.7(Mon Aug 22 11:01:30 GMT-06:00 2022)\n",
       "(EPL source distribution)\n",
       "Java Runtime: OpenJDK Runtime Environment\n",
       "JVM: OpenJDK 64-Bit Server VM\n",
       "Default Encoding: UTF-8\n",
       "Language: en\n",
       "Country: US\n",
       "--></g></svg>"
      ]
     },
     "execution_count": 608,
     "metadata": {},
     "output_type": "execute_result"
    }
   ],
   "source": [
    "%viz Stage_1_Capability comment_1"
   ]
  },
  {
   "cell_type": "code",
   "execution_count": 752,
   "id": "992a9d41-7e0e-4c78-924e-9554368dc84f",
   "metadata": {
    "jupyter": {
     "source_hidden": true
    }
   },
   "outputs": [
    {
     "data": {
      "text/plain": [
       "Package Stage_2_Operational (9cd9b166-d2b5-4865-ba13-4562fcf89824)\n"
      ]
     },
     "execution_count": 752,
     "metadata": {},
     "output_type": "execute_result"
    }
   ],
   "source": [
    "package Stage_2_Operational {\n",
    "    /* comment\n",
    "    How the system is going to be used?\n",
    "    \n",
    "    Scope:\n",
    "    operational use cases\n",
    "    operational scenarios\n",
    "    operational mission */\n",
    "\n",
    "    private import Definitions::*;\n",
    "    item batman : Hero {\n",
    "        attribute realName = \"Bruce Wayne\";\n",
    "    }\n",
    "    item def ProductManagement;\n",
    "    use case def 'Activate rocket booster' {\n",
    "        subject bm : Batmobile;\n",
    "        actor driver subsets batman;\n",
    "        objective {\n",
    "            doc /* The driver wants to activate the rocket booster to increase the speed extremely. */\n",
    "        }\n",
    "    }\n",
    "    action def ActivateRocketBooster specializes 'Activate rocket booster' {\n",
    "        first start;\n",
    "        then action prepareBoost;\n",
    "        then action activateBoost;\n",
    "        then done;\n",
    "    }\n",
    "    part bm1 : Batmobile {\n",
    "        timeslice batmanDriving {\n",
    "            redefines driver = batman;\n",
    "            snapshot redefines start {\n",
    "                redefines battery.capacity = 40000 [SI::'watt hour'];\n",
    "            }\n",
    "            snapshot redefines done {\n",
    "                redefines battery.capacity = 42 [SI::'watt hour'];\n",
    "            }\n",
    "        }\n",
    "        then timeslice charging {\n",
    "            redefines driver = null;\n",
    "        }\n",
    "    }\n",
    "    action def Drive_Batmobile {\n",
    "        first start;\n",
    "        then action startBatmobile;\n",
    "        then action scanEnvironment {\n",
    "            out status : StatusKind;\n",
    "        }\n",
    "        then decide;\n",
    "            if scanEnvironment.status == StatusKind::safe then Switch_to_standard_mode;\n",
    "            if scanEnvironment.status == StatusKind::alert then Switch_to_alert_mode;\n",
    "        action Switch_to_standard_mode;\n",
    "        then endOfStatusCheck;\n",
    "        action Switch_to_alert_mode;\n",
    "        then endOfStatusCheck;\n",
    "        merge endOfStatusCheck;\n",
    "        then done;\n",
    "    }\n",
    "}"
   ]
  },
  {
   "cell_type": "code",
   "execution_count": 730,
   "id": "b2525e37-164f-4bb3-9dcf-d851671cc4f2",
   "metadata": {
    "collapsed": true,
    "jupyter": {
     "outputs_hidden": true
    }
   },
   "outputs": [
    {
     "data": {
      "image/svg+xml": [
       "<?xml version=\"1.0\" encoding=\"UTF-8\" standalone=\"no\"?><svg xmlns=\"http://www.w3.org/2000/svg\" xmlns:xlink=\"http://www.w3.org/1999/xlink\" contentStyleType=\"text/css\" height=\"427px\" preserveAspectRatio=\"none\" style=\"width:775px;height:427px;background:#FFFFFF;\" version=\"1.1\" viewBox=\"0 0 775 427\" width=\"775px\" zoomAndPan=\"magnify\"><defs/><g><!--MD5=[de5ec2e2e8f62f467e546659f5068c88]\n",
       "cluster E5--><g id=\"cluster_E5\"><a href=\"psysml:4931d314-d3a1-4eca-b6e1-c756937f1f4e\" target=\"_top\" title=\"psysml:4931d314-d3a1-4eca-b6e1-c756937f1f4e\" xlink:actuate=\"onRequest\" xlink:href=\"psysml:4931d314-d3a1-4eca-b6e1-c756937f1f4e\" xlink:show=\"new\" xlink:title=\"psysml:4931d314-d3a1-4eca-b6e1-c756937f1f4e\" xlink:type=\"simple\"><rect fill=\"#FFFFFF\" height=\"244.5\" id=\"E5\" style=\"stroke:#383838;stroke-width:1.5;\" width=\"178\" x=\"7\" y=\"7\"/><text fill=\"#000000\" font-family=\"sans-serif\" font-size=\"12\" font-style=\"italic\" lengthAdjust=\"spacing\" textLength=\"70\" x=\"61\" y=\"24.457\">«action  def»</text><text fill=\"#000000\" font-family=\"sans-serif\" font-size=\"14\" lengthAdjust=\"spacing\" textLength=\"143\" x=\"24.5\" y=\"41.627\">ActivateRocketBooster</text><line style=\"stroke:#383838;stroke-width:1.0;\" x1=\"7\" x2=\"185\" y1=\"49.7031\" y2=\"49.7031\"/></a></g><g><a href=\"psysml:e5c76a92-de88-4273-b49b-4390284baa08\" target=\"_top\" title=\"psysml:e5c76a92-de88-4273-b49b-4390284baa08\" xlink:actuate=\"onRequest\" xlink:href=\"psysml:e5c76a92-de88-4273-b49b-4390284baa08\" xlink:show=\"new\" xlink:title=\"psysml:e5c76a92-de88-4273-b49b-4390284baa08\" xlink:type=\"simple\"><rect fill=\"#FFFFFF\" height=\"47.7031\" id=\"E6\" rx=\"10\" ry=\"10\" style=\"stroke:#383838;stroke-width:1.5;\" width=\"97\" x=\"41.5\" y=\"69\"/><text fill=\"#000000\" font-family=\"sans-serif\" font-size=\"12\" font-style=\"italic\" lengthAdjust=\"spacing\" textLength=\"47\" x=\"66.5\" y=\"86.457\">«action»</text><text fill=\"#000000\" font-family=\"sans-serif\" font-size=\"14\" lengthAdjust=\"spacing\" textLength=\"86\" x=\"47\" y=\"103.627\">prepareBoost</text></a></g><g><a href=\"psysml:46900bc8-f1aa-497f-804a-08f7d72f8cc5\" target=\"_top\" title=\"psysml:46900bc8-f1aa-497f-804a-08f7d72f8cc5\" xlink:actuate=\"onRequest\" xlink:href=\"psysml:46900bc8-f1aa-497f-804a-08f7d72f8cc5\" xlink:show=\"new\" xlink:title=\"psysml:46900bc8-f1aa-497f-804a-08f7d72f8cc5\" xlink:type=\"simple\"><rect fill=\"#FFFFFF\" height=\"47.7031\" id=\"E7\" rx=\"10\" ry=\"10\" style=\"stroke:#383838;stroke-width:1.5;\" width=\"96\" x=\"42\" y=\"179.5\"/><text fill=\"#000000\" font-family=\"sans-serif\" font-size=\"12\" font-style=\"italic\" lengthAdjust=\"spacing\" textLength=\"47\" x=\"66.5\" y=\"196.957\">«action»</text><text fill=\"#000000\" font-family=\"sans-serif\" font-size=\"14\" lengthAdjust=\"spacing\" textLength=\"85\" x=\"47.5\" y=\"214.127\">activateBoost</text></a></g><!--MD5=[43c9051892ef23e1a46a86907403d788]\n",
       "class E1--><a href=\"psysml:97fea280-b4c0-4f26-8f14-db893a8ee998\" target=\"_top\" title=\"psysml:97fea280-b4c0-4f26-8f14-db893a8ee998\" xlink:actuate=\"onRequest\" xlink:href=\"psysml:97fea280-b4c0-4f26-8f14-db893a8ee998\" xlink:show=\"new\" xlink:title=\"psysml:97fea280-b4c0-4f26-8f14-db893a8ee998\" xlink:type=\"simple\"><g id=\"elem_E1\"><rect fill=\"#FFFFFF\" height=\"50.7031\" id=\"E1\" style=\"stroke:#181818;stroke-width:0.5;\" width=\"151\" x=\"209.5\" y=\"178\"/><text fill=\"#000000\" font-family=\"sans-serif\" font-size=\"12\" font-style=\"italic\" lengthAdjust=\"spacing\" textLength=\"86\" x=\"242\" y=\"195.457\">«use case  def»</text><text fill=\"#000000\" font-family=\"sans-serif\" font-size=\"14\" lengthAdjust=\"spacing\" textLength=\"145\" x=\"212.5\" y=\"212.627\">Activate rocket booster</text><line style=\"stroke:#181818;stroke-width:0.5;\" x1=\"210.5\" x2=\"359.5\" y1=\"220.7031\" y2=\"220.7031\"/></g></a><!--MD5=[b4997ac47864f28c2f74865a473b2911]\n",
       "class E2--><a href=\"psysml:ffdbf3bd-c1cf-408c-9279-44b65b6bc5fe\" target=\"_top\" title=\"psysml:ffdbf3bd-c1cf-408c-9279-44b65b6bc5fe\" xlink:actuate=\"onRequest\" xlink:href=\"psysml:ffdbf3bd-c1cf-408c-9279-44b65b6bc5fe\" xlink:show=\"new\" xlink:title=\"psysml:ffdbf3bd-c1cf-408c-9279-44b65b6bc5fe\" xlink:type=\"simple\"><g id=\"elem_E2\"><rect fill=\"#FFFFFF\" height=\"50.7031\" id=\"E2\" rx=\"10\" ry=\"10\" style=\"stroke:#181818;stroke-width:0.5;\" width=\"56\" x=\"55\" y=\"346.5\"/><text fill=\"#000000\" font-family=\"sans-serif\" font-size=\"12\" font-style=\"italic\" lengthAdjust=\"spacing\" textLength=\"54\" x=\"56\" y=\"363.957\">«subject»</text><text fill=\"#000000\" font-family=\"sans-serif\" font-size=\"14\" lengthAdjust=\"spacing\" textLength=\"19\" x=\"73.5\" y=\"381.127\">bm</text><line style=\"stroke:#181818;stroke-width:0.5;\" x1=\"56\" x2=\"110\" y1=\"389.2031\" y2=\"389.2031\"/></g></a><!--MD5=[09b614a08d8cba4a07c9adeb5e0fee81]\n",
       "class E3--><a href=\"psysml:c8c526e2-deeb-4e4e-a124-a4d63aa0fec7\" target=\"_top\" title=\"psysml:c8c526e2-deeb-4e4e-a124-a4d63aa0fec7\" xlink:actuate=\"onRequest\" xlink:href=\"psysml:c8c526e2-deeb-4e4e-a124-a4d63aa0fec7\" xlink:show=\"new\" xlink:title=\"psysml:c8c526e2-deeb-4e4e-a124-a4d63aa0fec7\" xlink:type=\"simple\"><g id=\"elem_E3\"><rect fill=\"#FFFFFF\" height=\"60.5938\" id=\"E3\" rx=\"10\" ry=\"10\" style=\"stroke:#181818;stroke-width:0.5;\" width=\"278\" x=\"146\" y=\"341.5\"/><text fill=\"#000000\" font-family=\"sans-serif\" font-size=\"12\" font-style=\"italic\" lengthAdjust=\"spacing\" textLength=\"35\" x=\"267.5\" y=\"358.957\">«part»</text><path d=\"M160,361.5938 C157.25,361.5938 155,364.3938 155,367.8438 C155,371.2938 157.25,374.0938 160,374.0938 C162.75,374.0938 165,371.2938 165,367.8438 C165,364.3938 162.75,361.5938 160,361.5938 M154.775,374.0938 C152.125,374.2188 150,376.3938 150,379.0938 L150,381.5938 L170,381.5938 L170,379.0938 C170,376.3938 167.9,374.2188 165.225,374.0938 C163.875,375.6188 162.025,376.5938 160,376.5938 C157.975,376.5938 156.125,375.6188 154.775,374.0938 \" fill=\"#000000\" style=\"stroke:;stroke-width:0.0;stroke-dasharray:;\"/><text fill=\"#000000\" font-family=\"sans-serif\" font-size=\"14\" lengthAdjust=\"spacing\" textLength=\"242\" x=\"175\" y=\"386.0176\">driver :&gt;Stage_2_Operational::batman</text><line style=\"stroke:#181818;stroke-width:0.5;\" x1=\"147\" x2=\"423\" y1=\"394.0938\" y2=\"394.0938\"/></g></a><!--MD5=[ebbe1d658d1005bcc118a6aa81145e00]\n",
       "class E4--><a href=\"psysml:7080f363-ef32-4f19-b4e2-e948df77d9e7\" target=\"_top\" title=\"psysml:7080f363-ef32-4f19-b4e2-e948df77d9e7\" xlink:actuate=\"onRequest\" xlink:href=\"psysml:7080f363-ef32-4f19-b4e2-e948df77d9e7\" xlink:show=\"new\" xlink:title=\"psysml:7080f363-ef32-4f19-b4e2-e948df77d9e7\" xlink:type=\"simple\"><g id=\"elem_E4\"><rect fill=\"#FFFFFF\" height=\"96.9656\" id=\"E4\" rx=\"10\" ry=\"10\" style=\"stroke:#181818;stroke-width:0.5;\" width=\"309\" x=\"459.5\" y=\"323.5\"/><text fill=\"#000000\" font-family=\"sans-serif\" font-size=\"12\" font-style=\"italic\" lengthAdjust=\"spacing\" textLength=\"81\" x=\"573.5\" y=\"340.957\">«requirement»</text><text fill=\"#000000\" font-family=\"sans-serif\" font-size=\"14\" lengthAdjust=\"spacing\" textLength=\"19\" x=\"600.5\" y=\"358.127\">obj</text><line style=\"stroke:#181818;stroke-width:0.5;\" x1=\"460.5\" x2=\"767.5\" y1=\"366.2031\" y2=\"366.2031\"/><text fill=\"#000000\" font-family=\"sans-serif\" font-size=\"14\" lengthAdjust=\"spacing\" textLength=\"293\" x=\"465.5\" y=\"395.7801\">The driver wants to activate the rocket booster</text><text fill=\"#000000\" font-family=\"sans-serif\" font-size=\"14\" lengthAdjust=\"spacing\" textLength=\"205\" x=\"465.5\" y=\"413.3895\">to increase the speed extremely.</text><text fill=\"#000000\" font-family=\"sans-serif\" font-size=\"14\" font-style=\"italic\" lengthAdjust=\"spacing\" textLength=\"23\" x=\"602.5\" y=\"379.4316\">doc</text></g></a><!--MD5=[a523cb2a0b79ecf9065ad8783f96c320]\n",
       "reverse link E1 to E2--><g id=\"link_E1_E2\"><a href=\"psysml:13ef2597-d73c-456f-b80b-cb1b72c58d4d\" target=\"_top\" title=\"psysml:13ef2597-d73c-456f-b80b-cb1b72c58d4d\" xlink:actuate=\"onRequest\" xlink:href=\"psysml:13ef2597-d73c-456f-b80b-cb1b72c58d4d\" xlink:show=\"new\" xlink:title=\"psysml:13ef2597-d73c-456f-b80b-cb1b72c58d4d\" xlink:type=\"simple\"><path d=\"M238.23,236.87 C206.16,259.79 163.21,291.96 128,323.5 C120.22,330.47 112.21,338.57 105.16,346.08 \" fill=\"none\" id=\"E1-backto-E2\" style=\"stroke:#181818;stroke-width:1.0;\"/><polygon fill=\"none\" points=\"249.09,229.16,241.8819,229.3667,239.3003,236.0999,246.5084,235.8932,249.09,229.16\" style=\"stroke:#181818;stroke-width:1.0;\"/></a></g><!--MD5=[5a52c8b875856e813bbf7898a393ae67]\n",
       "link E1 to E3--><g id=\"link_E1_E3\"><a href=\"psysml:11e36b55-93b5-4d2e-a4eb-fe32802629d3\" target=\"_top\" title=\"psysml:11e36b55-93b5-4d2e-a4eb-fe32802629d3\" xlink:actuate=\"onRequest\" xlink:href=\"psysml:11e36b55-93b5-4d2e-a4eb-fe32802629d3\" xlink:show=\"new\" xlink:title=\"psysml:11e36b55-93b5-4d2e-a4eb-fe32802629d3\" xlink:type=\"simple\"><path d=\"M285,229.07 C285,258.92 285,309.25 285,341.26 \" fill=\"none\" id=\"E1-E3\" style=\"stroke:#181818;stroke-width:1.0;\"/></a></g><!--MD5=[ee384bb554873b72f85793eae40e290c]\n",
       "link E1 to E4--><g id=\"link_E1_E4\"><a href=\"psysml:e2da5dae-3ab2-47db-bed7-a5c9fe8365c3\" target=\"_top\" title=\"psysml:e2da5dae-3ab2-47db-bed7-a5c9fe8365c3\" xlink:actuate=\"onRequest\" xlink:href=\"psysml:e2da5dae-3ab2-47db-bed7-a5c9fe8365c3\" xlink:show=\"new\" xlink:title=\"psysml:e2da5dae-3ab2-47db-bed7-a5c9fe8365c3\" xlink:type=\"simple\"><path d=\"M333.55,229.07 C380.52,252.84 453.17,289.61 512.75,319.76 \" fill=\"none\" id=\"E1-to-E4\" style=\"stroke:#181818;stroke-width:1.0;\"/><polygon fill=\"#181818\" points=\"519.95,323.4,514.1663,317.1112,511.4573,322.4649,519.95,323.4\" style=\"stroke:#181818;stroke-width:1.0;\"/><text fill=\"#000000\" font-family=\"sans-serif\" font-size=\"13\" lengthAdjust=\"spacing\" textLength=\"64\" x=\"460\" y=\"289.9951\">«objective»</text></a></g><!--MD5=[62f1a7026b5746ece68c476bcfdcffcd]\n",
       "link E5 to E1--><g id=\"link_E5_E1\"><a href=\"psysml:c37f348f-2193-44fe-b89f-bef297a7faee\" target=\"_top\" title=\"psysml:c37f348f-2193-44fe-b89f-bef297a7faee\" xlink:actuate=\"onRequest\" xlink:href=\"psysml:c37f348f-2193-44fe-b89f-bef297a7faee\" xlink:show=\"new\" xlink:title=\"psysml:c37f348f-2193-44fe-b89f-bef297a7faee\" xlink:type=\"simple\"><path d=\"M185.0062,102.0435 C185.0739,102.1115 185.1419,102.1799 185.2103,102.2486 C185.4839,102.5234 185.7632,102.8041 186.0483,103.0905 C186.6184,103.6632 187.2111,104.2587 187.8252,104.8756 C189.0534,106.1095 190.367,107.4293 191.756,108.8247 C194.5339,111.6155 197.6131,114.7091 200.9125,118.0237 C214.11,131.2825 230.83,148.08 245.88,163.2 \" fill=\"none\" id=\"E5-to-E1\" style=\"stroke:#181818;stroke-width:1.0;\"/><polygon fill=\"none\" points=\"251.21,158.64,260.36,177.75,241.29,168.51,251.21,158.64\" style=\"stroke:#181818;stroke-width:1.0;\"/></a></g><!--MD5=[02c70b7c851c11e3980e4e90450dc5dd]\n",
       "link E6 to E7--><g id=\"link_E6_E7\"><a href=\"psysml:7e0cca28-36b5-45c3-9b29-7dc93266ab2a\" target=\"_top\" title=\"psysml:7e0cca28-36b5-45c3-9b29-7dc93266ab2a\" xlink:actuate=\"onRequest\" xlink:href=\"psysml:7e0cca28-36b5-45c3-9b29-7dc93266ab2a\" xlink:show=\"new\" xlink:title=\"psysml:7e0cca28-36b5-45c3-9b29-7dc93266ab2a\" xlink:type=\"simple\"><path d=\"M90,117.01 C90,133.58 90,156.06 90,173.81 \" fill=\"none\" id=\"E6-to-E7\" style=\"stroke:#181818;stroke-width:1.0;\"/><polygon fill=\"#181818\" points=\"90,179.15,94,170.15,90,174.15,86,170.15,90,179.15\" style=\"stroke:#181818;stroke-width:1.0;\"/></a></g><!--MD5=[a7362a1f085a02b73a2653abe34e378f]\n",
       "@startuml\r\n",
       "skin sysmlbw\r\n",
       "skinparam monochrome true\r\n",
       "skinparam wrapWidth 300\r\n",
       "hide circle\r\n",
       "\r\n",
       "comp def \"Activate rocket booster\" as E1  <<(T,blue) use case  def>> [[psysml:97fea280-b4c0-4f26-8f14-db893a8ee998 ]] {\r\n",
       "}\r\n",
       "comp usage \"bm\" as E2 <<subject>>[[psysml:ffdbf3bd-c1cf-408c-9279-44b65b6bc5fe ]] {\r\n",
       "}\r\n",
       "comp usage \"<size:30><&person></size> driver :>Stage_2_Operational::batman \" as E3  <<(T,blue) part>> [[psysml:c8c526e2-deeb-4e4e-a124-a4d63aa0fec7 ]] {\r\n",
       "}\r\n",
       "comp usage \"obj  \" as E4  <<(T,blue) requirement>> [[psysml:7080f363-ef32-4f19-b4e2-e948df77d9e7 ]] {\r\n",
       "##//doc//##\r\n",
       "The driver wants to activate the rocket booster to increase the speed extremely.\r\n",
       "}\r\n",
       "rec def \"ActivateRocketBooster\" as E5  <<(T,blue) action  def>> [[psysml:4931d314-d3a1-4eca-b6e1-c756937f1f4e ]] {\r\n",
       "rec usage \"prepareBoost\" as E6  <<(T,blue) action>> [[psysml:e5c76a92-de88-4273-b49b-4390284baa08 ]] {\r\n",
       "}\r\n",
       "\r\n",
       "rec usage \"activateBoost\" as E7  <<(T,blue) action>> [[psysml:46900bc8-f1aa-497f-804a-08f7d72f8cc5 ]] {\r\n",
       "}\r\n",
       "\r\n",
       "}\r\n",
       "\r\n",
       "E1 o- - E2 [[psysml:13ef2597-d73c-456f-b80b-cb1b72c58d4d ]] \r\n",
       "E1 - - E3 [[psysml:11e36b55-93b5-4d2e-a4eb-fe32802629d3 ]] \r\n",
       "E1 - ->> E4 [[psysml:e2da5dae-3ab2-47db-bed7-a5c9fe8365c3 ]] : <<objective>>\r\n",
       "E5 - -|> E1 [[psysml:c37f348f-2193-44fe-b89f-bef297a7faee ]] \r\n",
       "E6 - -> E7 [[psysml:7e0cca28-36b5-45c3-9b29-7dc93266ab2a ]] \r\n",
       "@enduml\r\n",
       "\n",
       "PlantUML version 1.2022.7(Mon Aug 22 11:01:30 GMT-06:00 2022)\n",
       "(EPL source distribution)\n",
       "Java Runtime: OpenJDK Runtime Environment\n",
       "JVM: OpenJDK 64-Bit Server VM\n",
       "Default Encoding: UTF-8\n",
       "Language: en\n",
       "Country: US\n",
       "--></g></svg>"
      ]
     },
     "execution_count": 730,
     "metadata": {},
     "output_type": "execute_result"
    }
   ],
   "source": [
    "%viz --view=MIXED Stage_2_Operational::\"Activate rocket booster\" Stage_2_Operational::ActivateRocketBooster"
   ]
  },
  {
   "cell_type": "code",
   "execution_count": 704,
   "id": "e177c79e-98bc-47a8-a5b6-8b68fc1f1856",
   "metadata": {
    "collapsed": true,
    "jupyter": {
     "outputs_hidden": true
    }
   },
   "outputs": [
    {
     "data": {
      "image/svg+xml": [
       "<?xml version=\"1.0\" encoding=\"UTF-8\" standalone=\"no\"?><svg xmlns=\"http://www.w3.org/2000/svg\" xmlns:xlink=\"http://www.w3.org/1999/xlink\" contentStyleType=\"text/css\" height=\"615px\" preserveAspectRatio=\"none\" style=\"width:1465px;height:615px;background:#FFFFFF;\" version=\"1.1\" viewBox=\"0 0 1465 615\" width=\"1465px\" zoomAndPan=\"magnify\"><defs/><g><!--MD5=[fbc87193dbaf4d95561dea2c320d4a47]\n",
       "cluster E1--><g id=\"cluster_E1\"><a href=\"psysml:e79879f1-54fa-4b2f-9c90-bfbb49d31ea4\" target=\"_top\" title=\"psysml:e79879f1-54fa-4b2f-9c90-bfbb49d31ea4\" xlink:actuate=\"onRequest\" xlink:href=\"psysml:e79879f1-54fa-4b2f-9c90-bfbb49d31ea4\" xlink:show=\"new\" xlink:title=\"psysml:e79879f1-54fa-4b2f-9c90-bfbb49d31ea4\" xlink:type=\"simple\"><polygon fill=\"none\" points=\"16,6,168,6,175,29.6094,1448,29.6094,1448,608.72,16,608.72,16,6\" style=\"stroke:#000000;stroke-width:1.5;\"/><line style=\"stroke:#000000;stroke-width:1.5;\" x1=\"16\" x2=\"175\" y1=\"29.6094\" y2=\"29.6094\"/><text fill=\"#000000\" font-family=\"sans-serif\" font-size=\"14\" font-weight=\"bold\" lengthAdjust=\"spacing\" textLength=\"146\" x=\"20\" y=\"22.5332\">Stage_2_Operational</text></a></g><!--MD5=[09b614a08d8cba4a07c9adeb5e0fee81]\n",
       "class E3--><a href=\"psysml:fb955312-004e-44ff-882f-08fd767d6056\" target=\"_top\" title=\"psysml:fb955312-004e-44ff-882f-08fd767d6056\" xlink:actuate=\"onRequest\" xlink:href=\"psysml:fb955312-004e-44ff-882f-08fd767d6056\" xlink:show=\"new\" xlink:title=\"psysml:fb955312-004e-44ff-882f-08fd767d6056\" xlink:type=\"simple\"><g id=\"elem_E3\"><rect fill=\"#FFFFFF\" height=\"79.3563\" id=\"E3\" rx=\"10\" ry=\"10\" style=\"stroke:#181818;stroke-width:0.5;\" width=\"183\" x=\"1240.5\" y=\"255.5\"/><text fill=\"#000000\" font-family=\"sans-serif\" font-size=\"12\" font-style=\"italic\" lengthAdjust=\"spacing\" textLength=\"38\" x=\"1313\" y=\"272.957\">«item»</text><text fill=\"#000000\" font-family=\"sans-serif\" font-size=\"14\" lengthAdjust=\"spacing\" textLength=\"85\" x=\"1285.5\" y=\"290.127\">batman: Hero</text><line style=\"stroke:#181818;stroke-width:0.5;\" x1=\"1241.5\" x2=\"1422.5\" y1=\"298.2031\" y2=\"298.2031\"/><text fill=\"#000000\" font-family=\"sans-serif\" font-size=\"14\" lengthAdjust=\"spacing\" textLength=\"171\" x=\"1246.5\" y=\"327.7801\">realName = \"Bruce Wayne\"</text><text fill=\"#000000\" font-family=\"sans-serif\" font-size=\"14\" font-style=\"italic\" lengthAdjust=\"spacing\" textLength=\"59\" x=\"1302.5\" y=\"311.4316\">attributes</text></g></a><!--MD5=[ebbe1d658d1005bcc118a6aa81145e00]\n",
       "class E4--><a href=\"psysml:efdd28fb-ede3-4f50-8ab6-bb968fb2a442\" target=\"_top\" title=\"psysml:efdd28fb-ede3-4f50-8ab6-bb968fb2a442\" xlink:actuate=\"onRequest\" xlink:href=\"psysml:efdd28fb-ede3-4f50-8ab6-bb968fb2a442\" xlink:show=\"new\" xlink:title=\"psysml:efdd28fb-ede3-4f50-8ab6-bb968fb2a442\" xlink:type=\"simple\"><g id=\"elem_E4\"><rect fill=\"#FFFFFF\" height=\"152.6625\" id=\"E4\" style=\"stroke:#181818;stroke-width:0.5;\" width=\"250\" x=\"955\" y=\"218.5\"/><text fill=\"#000000\" font-family=\"sans-serif\" font-size=\"12\" font-style=\"italic\" lengthAdjust=\"spacing\" textLength=\"86\" x=\"1037\" y=\"235.957\">«use case  def»</text><text fill=\"#000000\" font-family=\"sans-serif\" font-size=\"14\" lengthAdjust=\"spacing\" textLength=\"159\" x=\"1000.5\" y=\"253.127\">Activate_Rocket_Booster</text><line style=\"stroke:#181818;stroke-width:0.5;\" x1=\"956\" x2=\"1204\" y1=\"261.2031\" y2=\"261.2031\"/><text fill=\"#000000\" font-family=\"sans-serif\" font-size=\"14\" lengthAdjust=\"spacing\" textLength=\"238\" x=\"961\" y=\"290.7801\">driver:&gt;Stage_2_Operational::batman</text><text fill=\"#000000\" font-family=\"sans-serif\" font-size=\"14\" font-style=\"italic\" lengthAdjust=\"spacing\" textLength=\"39\" x=\"1060.5\" y=\"274.4316\">actors</text><line style=\"stroke:#181818;stroke-width:1.0;\" x1=\"956\" x2=\"1204\" y1=\"297.8563\" y2=\"297.8563\"/><text fill=\"#000000\" font-family=\"sans-serif\" font-size=\"14\" lengthAdjust=\"spacing\" textLength=\"19\" x=\"961\" y=\"327.4332\">obj</text><text fill=\"#000000\" font-family=\"sans-serif\" font-size=\"14\" font-style=\"italic\" lengthAdjust=\"spacing\" textLength=\"62\" x=\"1049\" y=\"311.0848\">objectives</text><line style=\"stroke:#181818;stroke-width:1.0;\" x1=\"956\" x2=\"1204\" y1=\"334.5094\" y2=\"334.5094\"/><text fill=\"#000000\" font-family=\"sans-serif\" font-size=\"14\" lengthAdjust=\"spacing\" textLength=\"89\" x=\"961\" y=\"364.0863\">bm: Batmobile</text><text fill=\"#000000\" font-family=\"sans-serif\" font-size=\"14\" font-style=\"italic\" lengthAdjust=\"spacing\" textLength=\"45\" x=\"1057.5\" y=\"347.7379\">subject</text></g></a><!--MD5=[270fce915f116d4de14055a7c1d9a0f3]\n",
       "class E5--><a href=\"psysml:5fc0fd0b-e812-41d7-ba32-340eb1bed20c\" target=\"_top\" title=\"psysml:5fc0fd0b-e812-41d7-ba32-340eb1bed20c\" xlink:actuate=\"onRequest\" xlink:href=\"psysml:5fc0fd0b-e812-41d7-ba32-340eb1bed20c\" xlink:show=\"new\" xlink:title=\"psysml:5fc0fd0b-e812-41d7-ba32-340eb1bed20c\" xlink:type=\"simple\"><g id=\"elem_E5\"><rect fill=\"#FFFFFF\" height=\"133.6188\" id=\"E5\" rx=\"10\" ry=\"10\" style=\"stroke:#181818;stroke-width:0.5;\" width=\"276\" x=\"644\" y=\"228\"/><text fill=\"#000000\" font-family=\"sans-serif\" font-size=\"12\" font-style=\"italic\" lengthAdjust=\"spacing\" textLength=\"35\" x=\"764.5\" y=\"245.457\">«part»</text><text fill=\"#000000\" font-family=\"sans-serif\" font-size=\"14\" lengthAdjust=\"spacing\" textLength=\"97\" x=\"729.5\" y=\"262.627\">bm1: Batmobile</text><line style=\"stroke:#181818;stroke-width:0.5;\" x1=\"645\" x2=\"919\" y1=\"270.7031\" y2=\"270.7031\"/><text fill=\"#000000\" font-family=\"sans-serif\" font-size=\"14\" lengthAdjust=\"spacing\" textLength=\"91\" x=\"650\" y=\"300.2801\">batmanDriving</text><text fill=\"#000000\" font-family=\"sans-serif\" font-size=\"14\" lengthAdjust=\"spacing\" textLength=\"55\" x=\"650\" y=\"317.8895\">charging</text><text fill=\"#000000\" font-family=\"sans-serif\" font-size=\"14\" font-style=\"italic\" lengthAdjust=\"spacing\" textLength=\"78\" x=\"743\" y=\"283.9316\">occurrences</text><line style=\"stroke:#181818;stroke-width:1.0;\" x1=\"645\" x2=\"919\" y1=\"324.9656\" y2=\"324.9656\"/><text fill=\"#000000\" font-family=\"sans-serif\" font-size=\"14\" lengthAdjust=\"spacing\" textLength=\"264\" x=\"650\" y=\"354.5426\">noname first batmanDriving then charging</text><text fill=\"#000000\" font-family=\"sans-serif\" font-size=\"14\" font-style=\"italic\" lengthAdjust=\"spacing\" textLength=\"77\" x=\"743.5\" y=\"338.1941\">successions</text></g></a><!--MD5=[60a26617385b1d2d0262a64233df1f8d]\n",
       "class E6--><a href=\"psysml:f0f2ceaa-6baf-4e05-a5a1-c103ef12dec8\" target=\"_top\" title=\"psysml:f0f2ceaa-6baf-4e05-a5a1-c103ef12dec8\" xlink:actuate=\"onRequest\" xlink:href=\"psysml:f0f2ceaa-6baf-4e05-a5a1-c103ef12dec8\" xlink:show=\"new\" xlink:title=\"psysml:f0f2ceaa-6baf-4e05-a5a1-c103ef12dec8\" xlink:type=\"simple\"><g id=\"elem_E6\"><rect fill=\"#FFFFFF\" height=\"490.1094\" id=\"E6\" style=\"stroke:#181818;stroke-width:0.5;\" width=\"297\" x=\"311.5\" y=\"50\"/><text fill=\"#000000\" font-family=\"sans-serif\" font-size=\"12\" font-style=\"italic\" lengthAdjust=\"spacing\" textLength=\"70\" x=\"425\" y=\"67.457\">«action  def»</text><text fill=\"#000000\" font-family=\"sans-serif\" font-size=\"14\" lengthAdjust=\"spacing\" textLength=\"103\" x=\"408.5\" y=\"84.627\">Drive_Batmobile</text><line style=\"stroke:#181818;stroke-width:0.5;\" x1=\"312.5\" x2=\"607.5\" y1=\"92.7031\" y2=\"92.7031\"/><text fill=\"#000000\" font-family=\"sans-serif\" font-size=\"14\" lengthAdjust=\"spacing\" textLength=\"139\" x=\"317.5\" y=\"122.2801\">Switch_to_alert_mode</text><text fill=\"#000000\" font-family=\"sans-serif\" font-size=\"14\" lengthAdjust=\"spacing\" textLength=\"167\" x=\"317.5\" y=\"139.8895\">Switch_to_standard_mode</text><text fill=\"#000000\" font-family=\"sans-serif\" font-size=\"14\" lengthAdjust=\"spacing\" textLength=\"109\" x=\"317.5\" y=\"157.4988\">scanEnvironment</text><text fill=\"#000000\" font-family=\"sans-serif\" font-size=\"14\" lengthAdjust=\"spacing\" textLength=\"75\" x=\"317.5\" y=\"175.1082\">start: Action</text><text fill=\"#000000\" font-family=\"sans-serif\" font-size=\"14\" font-style=\"italic\" lengthAdjust=\"spacing\" textLength=\"159\" x=\"317.5\" y=\"192.7176\">:&gt;&gt;Occurrence::startShot</text><text fill=\"#000000\" font-family=\"sans-serif\" font-size=\"14\" lengthAdjust=\"spacing\" textLength=\"90\" x=\"317.5\" y=\"210.327\">startBatmobile</text><text fill=\"#000000\" font-family=\"sans-serif\" font-size=\"14\" font-style=\"italic\" lengthAdjust=\"spacing\" textLength=\"45\" x=\"437.5\" y=\"105.9316\">actions</text><line style=\"stroke:#181818;stroke-width:1.0;\" x1=\"312.5\" x2=\"607.5\" y1=\"217.4031\" y2=\"217.4031\"/><text fill=\"#000000\" font-family=\"sans-serif\" font-size=\"14\" lengthAdjust=\"spacing\" textLength=\"4\" x=\"317.5\" y=\"246.9801\"> </text><text fill=\"#000000\" font-family=\"sans-serif\" font-size=\"14\" font-style=\"italic\" lengthAdjust=\"spacing\" textLength=\"95\" x=\"412.5\" y=\"230.6316\">decision nodes</text><line style=\"stroke:#181818;stroke-width:1.0;\" x1=\"312.5\" x2=\"607.5\" y1=\"254.0562\" y2=\"254.0562\"/><text fill=\"#000000\" font-family=\"sans-serif\" font-size=\"14\" lengthAdjust=\"spacing\" textLength=\"119\" x=\"317.5\" y=\"283.6332\">endOfStatusCheck</text><text fill=\"#000000\" font-family=\"sans-serif\" font-size=\"14\" font-style=\"italic\" lengthAdjust=\"spacing\" textLength=\"83\" x=\"418.5\" y=\"267.2848\">merge nodes</text><line style=\"stroke:#181818;stroke-width:1.0;\" x1=\"312.5\" x2=\"607.5\" y1=\"290.7094\" y2=\"290.7094\"/><text fill=\"#000000\" font-family=\"sans-serif\" font-size=\"14\" lengthAdjust=\"spacing\" textLength=\"283\" x=\"317.5\" y=\"320.2863\">noname first Action::start then startBatmobile</text><text fill=\"#000000\" font-family=\"sans-serif\" font-size=\"14\" lengthAdjust=\"spacing\" textLength=\"204\" x=\"317.5\" y=\"337.8957\">noname first startBatmobile then</text><text fill=\"#000000\" font-family=\"sans-serif\" font-size=\"14\" lengthAdjust=\"spacing\" textLength=\"109\" x=\"317.5\" y=\"355.5051\">scanEnvironment</text><text fill=\"#000000\" font-family=\"sans-serif\" font-size=\"14\" lengthAdjust=\"spacing\" textLength=\"249\" x=\"317.5\" y=\"373.1145\">noname first scanEnvironment then null</text><text fill=\"#000000\" font-family=\"sans-serif\" font-size=\"14\" lengthAdjust=\"spacing\" textLength=\"281\" x=\"317.5\" y=\"390.7238\">noname first Switch_to_standard_mode then</text><text fill=\"#000000\" font-family=\"sans-serif\" font-size=\"14\" lengthAdjust=\"spacing\" textLength=\"119\" x=\"317.5\" y=\"408.3332\">endOfStatusCheck</text><text fill=\"#000000\" font-family=\"sans-serif\" font-size=\"14\" lengthAdjust=\"spacing\" textLength=\"253\" x=\"317.5\" y=\"425.9426\">noname first Switch_to_alert_mode then</text><text fill=\"#000000\" font-family=\"sans-serif\" font-size=\"14\" lengthAdjust=\"spacing\" textLength=\"119\" x=\"317.5\" y=\"443.552\">endOfStatusCheck</text><text fill=\"#000000\" font-family=\"sans-serif\" font-size=\"14\" lengthAdjust=\"spacing\" textLength=\"233\" x=\"317.5\" y=\"461.1613\">noname first endOfStatusCheck then</text><text fill=\"#000000\" font-family=\"sans-serif\" font-size=\"14\" lengthAdjust=\"spacing\" textLength=\"79\" x=\"317.5\" y=\"478.7707\">Action::done</text><text fill=\"#000000\" font-family=\"sans-serif\" font-size=\"14\" font-style=\"italic\" lengthAdjust=\"spacing\" textLength=\"77\" x=\"421.5\" y=\"303.9379\">successions</text><line style=\"stroke:#181818;stroke-width:1.0;\" x1=\"312.5\" x2=\"607.5\" y1=\"485.8469\" y2=\"485.8469\"/><text fill=\"#000000\" font-family=\"sans-serif\" font-size=\"14\" lengthAdjust=\"spacing\" textLength=\"4\" x=\"317.5\" y=\"515.4238\"> </text><text fill=\"#000000\" font-family=\"sans-serif\" font-size=\"14\" lengthAdjust=\"spacing\" textLength=\"4\" x=\"317.5\" y=\"533.0332\"> </text><text fill=\"#000000\" font-family=\"sans-serif\" font-size=\"14\" font-style=\"italic\" lengthAdjust=\"spacing\" textLength=\"65\" x=\"427.5\" y=\"499.0754\">transitions</text></g></a><g id=\"elem_E2\"><path d=\"M40,233 L40,357.4609 L276,357.4609 L276,243 L266,233 L40,233 \" fill=\"#FAFAFA\" style=\"stroke:#181818;stroke-width:0.5;\"/><path d=\"M266,233 L266,243 L276,243 L266,233 \" fill=\"#FAFAFA\" style=\"stroke:#181818;stroke-width:1.0;\"/><a href=\"psysml:449c69fc-2dd4-437e-b541-c1e86b0dd146\" target=\"_top\" title=\"psysml:449c69fc-2dd4-437e-b541-c1e86b0dd146\" xlink:actuate=\"onRequest\" xlink:href=\"psysml:449c69fc-2dd4-437e-b541-c1e86b0dd146\" xlink:show=\"new\" xlink:title=\"psysml:449c69fc-2dd4-437e-b541-c1e86b0dd146\" xlink:type=\"simple\"><text fill=\"#000000\" font-family=\"sans-serif\" font-size=\"13\" lengthAdjust=\"spacing\" text-decoration=\"underline\" textLength=\"13\" x=\"46\" y=\"251.4951\">@</text></a><text fill=\"#000000\" font-family=\"sans-serif\" font-size=\"13\" lengthAdjust=\"spacing\" textLength=\"54\" x=\"59\" y=\"251.4951\">comment</text><text fill=\"#000000\" font-family=\"sans-serif\" font-size=\"13\" lengthAdjust=\"spacing\" textLength=\"215\" x=\"46\" y=\"267.8467\">How the system is going to be used?</text><text fill=\"#000000\" font-family=\"sans-serif\" font-size=\"13\" lengthAdjust=\"spacing\" textLength=\"4\" x=\"46\" y=\"284.1982\"> </text><text fill=\"#000000\" font-family=\"sans-serif\" font-size=\"13\" lengthAdjust=\"spacing\" textLength=\"41\" x=\"46\" y=\"300.5498\">Scope:</text><text fill=\"#000000\" font-family=\"sans-serif\" font-size=\"13\" lengthAdjust=\"spacing\" textLength=\"127\" x=\"46\" y=\"316.9014\">operational use cases</text><text fill=\"#000000\" font-family=\"sans-serif\" font-size=\"13\" lengthAdjust=\"spacing\" textLength=\"123\" x=\"46\" y=\"333.2529\">operational scenarios</text><text fill=\"#000000\" font-family=\"sans-serif\" font-size=\"13\" lengthAdjust=\"spacing\" textLength=\"112\" x=\"46\" y=\"349.6045\">operational mission</text></g><!--MD5=[f23a504beb17692cf1ec401fb4a5a911]\n",
       "link E2 to E1--><g id=\"link_E2_E1\"><a href=\"psysml:449c69fc-2dd4-437e-b541-c1e86b0dd146\" target=\"_top\" title=\"psysml:449c69fc-2dd4-437e-b541-c1e86b0dd146\" xlink:actuate=\"onRequest\" xlink:href=\"psysml:449c69fc-2dd4-437e-b541-c1e86b0dd146\" xlink:show=\"new\" xlink:title=\"psysml:449c69fc-2dd4-437e-b541-c1e86b0dd146\" xlink:type=\"simple\"><path d=\"M158,357.15 C158,444.54 158,595.2 158,599.89 \" fill=\"none\" id=\"E2-E1\" style=\"stroke:#181818;stroke-width:1.0;stroke-dasharray:7.0,7.0;\"/></a></g><!--MD5=[965c68cc4e11171308c5f6c886e3cf43]\n",
       "@startuml\r\n",
       "skin sysmlbw\r\n",
       "skinparam monochrome true\r\n",
       "skinparam wrapWidth 300\r\n",
       "hide circle\r\n",
       " \r\n",
       "package \"Stage_2_Operational\" as E1  [[psysml:e79879f1-54fa-4b2f-9c90-bfbb49d31ea4 ]]  {\r\n",
       "comp usage \"batman: Hero  \" as E3  <<(T,blue) item>> [[psysml:fb955312-004e-44ff-882f-08fd767d6056 ]] {\r\n",
       "##//attributes//##\r\n",
       "realName <U+003D> \"Bruce Wayne\"\r\n",
       "}\r\n",
       "comp def \"Activate_Rocket_Booster\" as E4  <<(T,blue) use case  def>> [[psysml:efdd28fb-ede3-4f50-8ab6-bb968fb2a442 ]] {\r\n",
       "##//actors//##\r\n",
       "driver:>Stage_2_Operational::batman\r\n",
       "- -\r\n",
       "##//objectives//##\r\n",
       "obj\r\n",
       "- -\r\n",
       "##//subject//##\r\n",
       "bm: Batmobile\r\n",
       "}\r\n",
       "comp usage \"bm1: Batmobile  \" as E5  <<(T,blue) part>> [[psysml:5fc0fd0b-e812-41d7-ba32-340eb1bed20c ]] {\r\n",
       "##//occurrences//##\r\n",
       "batmanDriving\r\n",
       "charging\r\n",
       "- -\r\n",
       "##//successions//##\r\n",
       "noname first batmanDriving then charging\r\n",
       "}\r\n",
       "comp def \"Drive_Batmobile\" as E6  <<(T,blue) action  def>> [[psysml:f0f2ceaa-6baf-4e05-a5a1-c103ef12dec8 ]] {\r\n",
       "##//actions//##\r\n",
       "Switch_to_alert_mode\r\n",
       "Switch_to_standard_mode\r\n",
       "scanEnvironment\r\n",
       "start: Action\\n//:>>Occurrence::startShot// \r\n",
       "startBatmobile\r\n",
       "- -\r\n",
       "##//decision nodes//##\r\n",
       "\r\n",
       "- -\r\n",
       "##//merge nodes//##\r\n",
       "endOfStatusCheck\r\n",
       "- -\r\n",
       "##//successions//##\r\n",
       "noname first Action::start then startBatmobile\r\n",
       "noname first startBatmobile then scanEnvironment\r\n",
       "noname first scanEnvironment then null\r\n",
       "noname first Switch_to_standard_mode then endOfStatusCheck\r\n",
       "noname first Switch_to_alert_mode then endOfStatusCheck\r\n",
       "noname first endOfStatusCheck then Action::done\r\n",
       "- -\r\n",
       "##//transitions//##\r\n",
       "\r\n",
       "\r\n",
       "}\r\n",
       "note as E2\r\n",
       "[[psysml:449c69fc-2dd4-437e-b541-c1e86b0dd146 @]]comment\r\n",
       "How the system is going to be used?\r\n",
       "\r\n",
       "Scope:\r\n",
       "operational use cases\r\n",
       "operational scenarios\r\n",
       "operational mission\r\n",
       "end note \r\n",
       "}\r\n",
       "E2 .. E1 [[psysml:449c69fc-2dd4-437e-b541-c1e86b0dd146 ]] \r\n",
       "@enduml\r\n",
       "\n",
       "PlantUML version 1.2022.7(Mon Aug 22 11:01:30 GMT-06:00 2022)\n",
       "(EPL source distribution)\n",
       "Java Runtime: OpenJDK Runtime Environment\n",
       "JVM: OpenJDK 64-Bit Server VM\n",
       "Default Encoding: UTF-8\n",
       "Language: en\n",
       "Country: US\n",
       "--></g></svg>"
      ]
     },
     "execution_count": 704,
     "metadata": {},
     "output_type": "execute_result"
    }
   ],
   "source": [
    "%viz --view=TREE --style=COMPMOST Stage_2_Operational"
   ]
  },
  {
   "cell_type": "code",
   "execution_count": 686,
   "id": "705fdc6b-ded1-40ce-9388-dffd1a56ee1d",
   "metadata": {
    "collapsed": true,
    "jupyter": {
     "outputs_hidden": true
    }
   },
   "outputs": [
    {
     "data": {
      "image/svg+xml": [
       "<?xml version=\"1.0\" encoding=\"UTF-8\" standalone=\"no\"?><svg xmlns=\"http://www.w3.org/2000/svg\" xmlns:xlink=\"http://www.w3.org/1999/xlink\" contentStyleType=\"text/css\" height=\"484px\" preserveAspectRatio=\"none\" style=\"width:872px;height:484px;background:#FFFFFF;\" version=\"1.1\" viewBox=\"0 0 872 484\" width=\"872px\" zoomAndPan=\"magnify\"><defs/><g><!--MD5=[fbc87193dbaf4d95561dea2c320d4a47]\n",
       "cluster E1--><g id=\"cluster_E1\"><a href=\"psysml:3828698d-28a5-4711-8997-c788f9403599\" target=\"_top\" title=\"psysml:3828698d-28a5-4711-8997-c788f9403599\" xlink:actuate=\"onRequest\" xlink:href=\"psysml:3828698d-28a5-4711-8997-c788f9403599\" xlink:show=\"new\" xlink:title=\"psysml:3828698d-28a5-4711-8997-c788f9403599\" xlink:type=\"simple\"><rect fill=\"#FFFFFF\" height=\"471.86\" id=\"E1\" style=\"stroke:#383838;stroke-width:1.5;\" width=\"858\" x=\"7\" y=\"7\"/><text fill=\"#000000\" font-family=\"sans-serif\" font-size=\"12\" font-style=\"italic\" lengthAdjust=\"spacing\" textLength=\"70\" x=\"401\" y=\"24.457\">«action  def»</text><text fill=\"#000000\" font-family=\"sans-serif\" font-size=\"14\" lengthAdjust=\"spacing\" textLength=\"103\" x=\"384.5\" y=\"41.627\">Drive_Batmobile</text><line style=\"stroke:#383838;stroke-width:1.0;\" x1=\"7\" x2=\"865\" y1=\"49.7031\" y2=\"49.7031\"/></a></g><!--MD5=[d5e69f78d87373223dbae638b30a9c99]\n",
       "cluster E3--><g id=\"cluster_E3\"><a href=\"psysml:1faadaa0-c89a-4c71-ba6c-f2dc5f1f160d\" target=\"_top\" title=\"psysml:1faadaa0-c89a-4c71-ba6c-f2dc5f1f160d\" xlink:actuate=\"onRequest\" xlink:href=\"psysml:1faadaa0-c89a-4c71-ba6c-f2dc5f1f160d\" xlink:show=\"new\" xlink:title=\"psysml:1faadaa0-c89a-4c71-ba6c-f2dc5f1f160d\" xlink:type=\"simple\"><rect fill=\"#FFFFFF\" height=\"135.86\" id=\"E3\" rx=\"10\" ry=\"10\" style=\"stroke:#383838;stroke-width:1.5;\" width=\"150\" x=\"69\" y=\"171\"/><text fill=\"#000000\" font-family=\"sans-serif\" font-size=\"12\" font-style=\"italic\" lengthAdjust=\"spacing\" textLength=\"47\" x=\"120.5\" y=\"188.457\">«action»</text><text fill=\"#000000\" font-family=\"sans-serif\" font-size=\"14\" lengthAdjust=\"spacing\" textLength=\"109\" x=\"89.5\" y=\"205.627\">scanEnvironment</text><line style=\"stroke:#383838;stroke-width:1.0;\" x1=\"69\" x2=\"219\" y1=\"213.7031\" y2=\"213.7031\"/></a></g><g id=\"elem_E5\"><polygon fill=\"#FFFFFF\" points=\"270,265.86,282,277.86,270,289.86,258,277.86,270,265.86\" style=\"stroke:#181818;stroke-width:0.5;\"/></g><g id=\"elem_E8\"><polygon fill=\"#FFFFFF\" points=\"424,401.86,436,413.86,424,425.86,412,413.86,424,401.86\" style=\"stroke:#181818;stroke-width:0.5;\"/></g><ellipse cx=\"125\" cy=\"71\" fill=\"#222222\" rx=\"10\" ry=\"10\" style=\"stroke:none;stroke-width:1.0;\"/><ellipse cx=\"424\" cy=\"452.86\" fill=\"none\" rx=\"10\" ry=\"10\" style=\"stroke:#222222;stroke-width:1.0;\"/><ellipse cx=\"424.5\" cy=\"453.36\" fill=\"#222222\" rx=\"6\" ry=\"6\" style=\"stroke:none;stroke-width:1.0;\"/><g><a href=\"psysml:c9d28d8e-6ec5-4042-8728-779043c29702\" target=\"_top\" title=\"psysml:c9d28d8e-6ec5-4042-8728-779043c29702\" xlink:actuate=\"onRequest\" xlink:href=\"psysml:c9d28d8e-6ec5-4042-8728-779043c29702\" xlink:show=\"new\" xlink:title=\"psysml:c9d28d8e-6ec5-4042-8728-779043c29702\" xlink:type=\"simple\"><rect fill=\"#FFFFFF\" height=\"47.7031\" id=\"E2\" rx=\"10\" ry=\"10\" style=\"stroke:#383838;stroke-width:1.5;\" width=\"101\" x=\"74.5\" y=\"98\"/><text fill=\"#000000\" font-family=\"sans-serif\" font-size=\"12\" font-style=\"italic\" lengthAdjust=\"spacing\" textLength=\"47\" x=\"101.5\" y=\"115.457\">«action»</text><text fill=\"#000000\" font-family=\"sans-serif\" font-size=\"14\" lengthAdjust=\"spacing\" textLength=\"90\" x=\"80\" y=\"132.627\">startBatmobile</text></a></g><text fill=\"#000000\" font-family=\"sans-serif\" font-size=\"14\" lengthAdjust=\"spacing\" textLength=\"38\" x=\"68\" y=\"327.3932\">status</text><rect fill=\"#FFFFFF\" height=\"12\" style=\"stroke:#181818;stroke-width:1.5;\" width=\"12\" x=\"81\" y=\"300.86\"/><g><a href=\"psysml:1633f0b7-719f-456a-9434-87f5909c68bf\" target=\"_top\" title=\"psysml:1633f0b7-719f-456a-9434-87f5909c68bf\" xlink:actuate=\"onRequest\" xlink:href=\"psysml:1633f0b7-719f-456a-9434-87f5909c68bf\" xlink:show=\"new\" xlink:title=\"psysml:1633f0b7-719f-456a-9434-87f5909c68bf\" xlink:type=\"simple\"><rect fill=\"#FFFFFF\" height=\"47.7031\" id=\"E6\" rx=\"10\" ry=\"10\" style=\"stroke:#383838;stroke-width:1.5;\" width=\"178\" x=\"208\" y=\"336.86\"/><text fill=\"#000000\" font-family=\"sans-serif\" font-size=\"12\" font-style=\"italic\" lengthAdjust=\"spacing\" textLength=\"47\" x=\"273.5\" y=\"354.317\">«action»</text><text fill=\"#000000\" font-family=\"sans-serif\" font-size=\"14\" lengthAdjust=\"spacing\" textLength=\"167\" x=\"213.5\" y=\"371.487\">Switch_to_standard_mode</text></a></g><g><a href=\"psysml:4cfe0d1d-46fd-4779-b3cd-041848b9663c\" target=\"_top\" title=\"psysml:4cfe0d1d-46fd-4779-b3cd-041848b9663c\" xlink:actuate=\"onRequest\" xlink:href=\"psysml:4cfe0d1d-46fd-4779-b3cd-041848b9663c\" xlink:show=\"new\" xlink:title=\"psysml:4cfe0d1d-46fd-4779-b3cd-041848b9663c\" xlink:type=\"simple\"><rect fill=\"#FFFFFF\" height=\"47.7031\" id=\"E7\" rx=\"10\" ry=\"10\" style=\"stroke:#383838;stroke-width:1.5;\" width=\"150\" x=\"476\" y=\"336.86\"/><text fill=\"#000000\" font-family=\"sans-serif\" font-size=\"12\" font-style=\"italic\" lengthAdjust=\"spacing\" textLength=\"47\" x=\"527.5\" y=\"354.317\">«action»</text><text fill=\"#000000\" font-family=\"sans-serif\" font-size=\"14\" lengthAdjust=\"spacing\" textLength=\"139\" x=\"481.5\" y=\"371.487\">Switch_to_alert_mode</text></a></g><!--MD5=[cff944eb183b832d446717a4e202d613]\n",
       "link *start*E1 to E2--><g id=\"link_*start*E1_E2\"><a href=\"psysml:41eaf202-ea5d-4ca5-93d4-fb4812d740e2\" target=\"_top\" title=\"psysml:41eaf202-ea5d-4ca5-93d4-fb4812d740e2\" xlink:actuate=\"onRequest\" xlink:href=\"psysml:41eaf202-ea5d-4ca5-93d4-fb4812d740e2\" xlink:show=\"new\" xlink:title=\"psysml:41eaf202-ea5d-4ca5-93d4-fb4812d740e2\" xlink:type=\"simple\"><path d=\"M125,81.45 C125,84.73 125,88.61 125,92.62 \" fill=\"none\" id=\"*start*E1-to-E2\" style=\"stroke:#181818;stroke-width:1.0;stroke-dasharray:7.0,7.0;\"/><polygon fill=\"#181818\" points=\"125,97.76,129,88.76,125,92.76,121,88.76,125,97.76\" style=\"stroke:#181818;stroke-width:1.0;\"/></a></g><!--MD5=[5dced52a8686f144b98fdbf454ee78f2]\n",
       "link E8 to *end*E1--><g id=\"link_E8_*end*E1\"><a href=\"psysml:f6ec0ce2-9465-4c73-bdc6-62ac57ee9580\" target=\"_top\" title=\"psysml:f6ec0ce2-9465-4c73-bdc6-62ac57ee9580\" xlink:actuate=\"onRequest\" xlink:href=\"psysml:f6ec0ce2-9465-4c73-bdc6-62ac57ee9580\" xlink:show=\"new\" xlink:title=\"psysml:f6ec0ce2-9465-4c73-bdc6-62ac57ee9580\" xlink:type=\"simple\"><path d=\"M424,426.16 C424,429.7 424,433.66 424,437.39 \" fill=\"none\" id=\"E8-to-*end*E1\" style=\"stroke:#181818;stroke-width:1.0;stroke-dasharray:7.0,7.0;\"/><polygon fill=\"#181818\" points=\"424,442.61,428,433.61,424,437.61,420,433.61,424,442.61\" style=\"stroke:#181818;stroke-width:1.0;\"/></a></g><!--MD5=[2720a5a1f2c3fca2055b230370638851]\n",
       "link E2 to E3--><g id=\"link_E2_E3\"><a href=\"psysml:bf085f23-a579-4185-8f24-829ea2286a49\" target=\"_top\" title=\"psysml:bf085f23-a579-4185-8f24-829ea2286a49\" xlink:actuate=\"onRequest\" xlink:href=\"psysml:bf085f23-a579-4185-8f24-829ea2286a49\" xlink:show=\"new\" xlink:title=\"psysml:bf085f23-a579-4185-8f24-829ea2286a49\" xlink:type=\"simple\"><path d=\"M125,146.18 C125,153.73 125,162.3625 125,170.8588 \" fill=\"none\" id=\"E2-to-E3\" style=\"stroke:#181818;stroke-width:1.0;stroke-dasharray:7.0,7.0;\"/><polygon fill=\"#181818\" points=\"125,170.8588,129,161.8588,125,165.8588,121,161.8588,125,170.8588\" style=\"stroke:#181818;stroke-width:1.0;\"/></a></g><!--MD5=[0188b64bb0ae78505a997a81836e11e9]\n",
       "link E3 to E5--><g id=\"link_E3_E5\"><a href=\"psysml:512f00d5-5da6-4d44-9a5d-6d336f3d2238\" target=\"_top\" title=\"psysml:512f00d5-5da6-4d44-9a5d-6d336f3d2238\" xlink:actuate=\"onRequest\" xlink:href=\"psysml:512f00d5-5da6-4d44-9a5d-6d336f3d2238\" xlink:show=\"new\" xlink:title=\"psysml:512f00d5-5da6-4d44-9a5d-6d336f3d2238\" xlink:type=\"simple\"><path d=\"M219.051,255.1214 C219.1762,255.1748 219.3014,255.2282 219.4264,255.2815 C220.4269,255.7083 221.4211,256.1325 222.4084,256.5536 C224.383,257.3959 226.3295,258.2263 228.2409,259.0417 C232.0639,260.6726 235.7469,262.2438 239.2344,263.7317 C246.2094,266.7075 252.4025,269.35 257.37,271.47 \" fill=\"none\" id=\"E3-to-E5\" style=\"stroke:#181818;stroke-width:1.0;stroke-dasharray:7.0,7.0;\"/><polygon fill=\"#181818\" points=\"262.21,273.54,255.5215,266.3106,257.6165,271.5652,252.3619,273.6602,262.21,273.54\" style=\"stroke:#181818;stroke-width:1.0;\"/></a></g><!--MD5=[9120cf2e5df3bff93db8f754bbbc09b4]\n",
       "link E5 to E6--><g id=\"link_E5_E6\"><a href=\"psysml:921f65bb-1150-401e-ae74-9b755936cf4e\" target=\"_top\" title=\"psysml:921f65bb-1150-401e-ae74-9b755936cf4e\" xlink:actuate=\"onRequest\" xlink:href=\"psysml:921f65bb-1150-401e-ae74-9b755936cf4e\" xlink:show=\"new\" xlink:title=\"psysml:921f65bb-1150-401e-ae74-9b755936cf4e\" xlink:type=\"simple\"><path d=\"M267.33,287.36 C264.6,297.6 261.45,315.16 267,328.86 C267.49,330.07 268.06,331.27 268.68,332.44 \" fill=\"none\" id=\"E5-to-E6\" style=\"stroke:#181818;stroke-width:1.0;stroke-dasharray:7.0,7.0;\"/><polygon fill=\"#181818\" points=\"271.37,336.83,270.0835,327.0655,268.7599,332.5654,263.26,331.2417,271.37,336.83\" style=\"stroke:#181818;stroke-width:1.0;\"/><text fill=\"#000000\" font-family=\"sans-serif\" font-size=\"13\" lengthAdjust=\"spacing\" textLength=\"267\" x=\"268\" y=\"312.3551\">[scanEnvironment.status == StatusKind::safe]</text></a></g><!--MD5=[3a9b96bfbf6b6ad89c494e81751bda47]\n",
       "link E5 to E7--><g id=\"link_E5_E7\"><a href=\"psysml:ac1613da-7318-4e15-ab14-63c52b4f8ae2\" target=\"_top\" title=\"psysml:ac1613da-7318-4e15-ab14-63c52b4f8ae2\" xlink:actuate=\"onRequest\" xlink:href=\"psysml:ac1613da-7318-4e15-ab14-63c52b4f8ae2\" xlink:show=\"new\" xlink:title=\"psysml:ac1613da-7318-4e15-ab14-63c52b4f8ae2\" xlink:type=\"simple\"><path d=\"M281.33,278.85 C330.1,278.92 520.53,280.34 540,297.86 C549.31,306.24 552.49,319.55 553.16,331.69 \" fill=\"none\" id=\"E5-to-E7\" style=\"stroke:#181818;stroke-width:1.0;stroke-dasharray:7.0,7.0;\"/><polygon fill=\"#181818\" points=\"553.31,336.8,557.0513,327.6894,553.1672,331.802,549.0546,327.9179,553.31,336.8\" style=\"stroke:#181818;stroke-width:1.0;\"/><text fill=\"#000000\" font-family=\"sans-serif\" font-size=\"13\" lengthAdjust=\"spacing\" textLength=\"268\" x=\"553\" y=\"312.3551\">[scanEnvironment.status == StatusKind::alert]</text></a></g><!--MD5=[0a839d0f80c2d72d4b9b307f046d0de8]\n",
       "link E6 to E8--><g id=\"link_E6_E8\"><a href=\"psysml:bfb5438d-0a90-4af1-96cd-d4c148d13fd8\" target=\"_top\" title=\"psysml:bfb5438d-0a90-4af1-96cd-d4c148d13fd8\" xlink:actuate=\"onRequest\" xlink:href=\"psysml:bfb5438d-0a90-4af1-96cd-d4c148d13fd8\" xlink:show=\"new\" xlink:title=\"psysml:bfb5438d-0a90-4af1-96cd-d4c148d13fd8\" xlink:type=\"simple\"><path d=\"M354.55,384.97 C375.64,393.44 397.62,402.27 411.06,407.66 \" fill=\"none\" id=\"E6-to-E8\" style=\"stroke:#181818;stroke-width:1.0;stroke-dasharray:7.0,7.0;\"/><polygon fill=\"#181818\" points=\"415.94,409.62,409.088,402.5454,411.3026,407.7508,406.0972,409.9653,415.94,409.62\" style=\"stroke:#181818;stroke-width:1.0;\"/></a></g><!--MD5=[79bc8f324ef4d02c541433f2e6e513c3]\n",
       "link E7 to E8--><g id=\"link_E7_E8\"><a href=\"psysml:886ca9ac-785b-48d9-9ee0-d6d290f814b8\" target=\"_top\" title=\"psysml:886ca9ac-785b-48d9-9ee0-d6d290f814b8\" xlink:actuate=\"onRequest\" xlink:href=\"psysml:886ca9ac-785b-48d9-9ee0-d6d290f814b8\" xlink:show=\"new\" xlink:title=\"psysml:886ca9ac-785b-48d9-9ee0-d6d290f814b8\" xlink:type=\"simple\"><path d=\"M493.45,384.97 C472.36,393.44 450.38,402.27 436.94,407.66 \" fill=\"none\" id=\"E7-to-E8\" style=\"stroke:#181818;stroke-width:1.0;stroke-dasharray:7.0,7.0;\"/><polygon fill=\"#181818\" points=\"432.06,409.62,441.9028,409.9653,436.6974,407.7508,438.912,402.5454,432.06,409.62\" style=\"stroke:#181818;stroke-width:1.0;\"/></a></g><!--MD5=[e829d16e4ada40124f54c70db16b0bd1]\n",
       "@startuml\r\n",
       "skin sysmlbw\r\n",
       "skinparam monochrome true\r\n",
       "skinparam wrapWidth 300\r\n",
       "hide circle\r\n",
       "top to bottom direction\r\n",
       " skinparam ranksep 8\r\n",
       "\r\n",
       "rec def \"Drive_Batmobile\" as E1  <<(T,blue) action  def>> [[psysml:3828698d-28a5-4711-8997-c788f9403599 ]] {\r\n",
       "rec usage \"startBatmobile\" as E2  <<(T,blue) action>> [[psysml:c9d28d8e-6ec5-4042-8728-779043c29702 ]] {\r\n",
       "}\r\n",
       "\r\n",
       "rec usage \"scanEnvironment\" as E3  <<(T,blue) action>> [[psysml:1faadaa0-c89a-4c71-ba6c-f2dc5f1f160d ]] {\r\n",
       "portout \"status\" as E4  [[psysml:014e26ea-f9ce-4e4b-ae65-b163fdda5b8f ]] \r\n",
       "}\r\n",
       "\r\n",
       "choice \"<s>noname</s>\" as E5  [[psysml:ef58df1d-7514-43f5-aa95-95368363c29f ]] \r\n",
       "rec usage \"Switch_to_standard_mode\" as E6  <<(T,blue) action>> [[psysml:1633f0b7-719f-456a-9434-87f5909c68bf ]] {\r\n",
       "}\r\n",
       "\r\n",
       "rec usage \"Switch_to_alert_mode\" as E7  <<(T,blue) action>> [[psysml:4cfe0d1d-46fd-4779-b3cd-041848b9663c ]] {\r\n",
       "}\r\n",
       "\r\n",
       "choice \"endOfStatusCheck\" as E8  [[psysml:c3e1b572-7066-4154-96d8-87cccf914129 ]] \r\n",
       "[*] ..> E2 [[psysml:41eaf202-ea5d-4ca5-93d4-fb4812d740e2 ]] \r\n",
       "E8 ..> [*] [[psysml:f6ec0ce2-9465-4c73-bdc6-62ac57ee9580 ]] \r\n",
       "}\r\n",
       "\r\n",
       "E2 ..> E3 [[psysml:bf085f23-a579-4185-8f24-829ea2286a49 ]] \r\n",
       "E3 ..> E5 [[psysml:512f00d5-5da6-4d44-9a5d-6d336f3d2238 ]] \r\n",
       "E5 ..> E6 [[psysml:921f65bb-1150-401e-ae74-9b755936cf4e ]] : [scanEnvironment.status == StatusKind::safe]\r\n",
       "E5 ..> E7 [[psysml:ac1613da-7318-4e15-ab14-63c52b4f8ae2 ]] : [scanEnvironment.status == StatusKind::alert]\r\n",
       "E6 ..> E8 [[psysml:bfb5438d-0a90-4af1-96cd-d4c148d13fd8 ]] \r\n",
       "E7 ..> E8 [[psysml:886ca9ac-785b-48d9-9ee0-d6d290f814b8 ]] \r\n",
       "@enduml\r\n",
       "\n",
       "PlantUML version 1.2022.7(Mon Aug 22 11:01:30 GMT-06:00 2022)\n",
       "(EPL source distribution)\n",
       "Java Runtime: OpenJDK Runtime Environment\n",
       "JVM: OpenJDK 64-Bit Server VM\n",
       "Default Encoding: UTF-8\n",
       "Language: en\n",
       "Country: US\n",
       "--></g></svg>"
      ]
     },
     "execution_count": 686,
     "metadata": {},
     "output_type": "execute_result"
    }
   ],
   "source": [
    "%viz --view=ACTION --style=TB --style=COMPMOST Stage_2_Operational::Drive_Batmobile"
   ]
  },
  {
   "cell_type": "code",
   "execution_count": 588,
   "id": "638af891-f29e-4336-ae22-857f899e7949",
   "metadata": {
    "jupyter": {
     "source_hidden": true
    }
   },
   "outputs": [
    {
     "data": {
      "text/plain": [
       "Package Stage_3_Logical (87faba37-e280-4094-98c8-cc6689303f8f)\n"
      ]
     },
     "execution_count": 588,
     "metadata": {},
     "output_type": "execute_result"
    }
   ],
   "source": [
    "package Stage_3_Logical {\n",
    "    /* comment\n",
    "    What the system does?\n",
    "\n",
    "    Scope:\n",
    "    functional decomposition\n",
    "    functional interfaces\n",
    "    functional flows (energy, heat, matter, etc.)\n",
    "    behaviours */\n",
    "}"
   ]
  },
  {
   "cell_type": "code",
   "execution_count": 838,
   "id": "cb21b4d9-40fc-409f-aea5-87c5cf28be50",
   "metadata": {},
   "outputs": [
    {
     "data": {
      "text/plain": [
       "Package Stage_4_Physical (1c640ca6-227a-4ef9-a676-ef15132ac1e1)\n"
      ]
     },
     "execution_count": 838,
     "metadata": {},
     "output_type": "execute_result"
    }
   ],
   "source": [
    "package Stage_4_Physical {\n",
    "    /*  comment\n",
    "    How the system does it?\n",
    "        \n",
    "    Scope:\n",
    "    physical breakdown\n",
    "    physical interfaces (connectors)\n",
    "    physical flows\n",
    "    physical constrains\n",
    "    mapping to logical stage */\n",
    "\n",
    "    private import Requirements::*;\n",
    "    private import Definitions::*;\n",
    "    part batmobileDesignV23 : Batmobile;\n",
    "    satisfy batmobileSpecification by batmobileDesignV23;\n",
    "}"
   ]
  },
  {
   "cell_type": "code",
   "execution_count": 842,
   "id": "e653402e-d845-401d-afbe-d2941f43a569",
   "metadata": {},
   "outputs": [
    {
     "data": {
      "image/svg+xml": [
       "<?xml version=\"1.0\" encoding=\"UTF-8\" standalone=\"no\"?><svg xmlns=\"http://www.w3.org/2000/svg\" xmlns:xlink=\"http://www.w3.org/1999/xlink\" contentStyleType=\"text/css\" height=\"282px\" preserveAspectRatio=\"none\" style=\"width:536px;height:282px;background:#FFFFFF;\" version=\"1.1\" viewBox=\"0 0 536 282\" width=\"536px\" zoomAndPan=\"magnify\"><defs/><g><!--MD5=[fbc87193dbaf4d95561dea2c320d4a47]\n",
       "cluster E1--><g id=\"cluster_E1\"><a href=\"psysml:1c640ca6-227a-4ef9-a676-ef15132ac1e1\" target=\"_top\" title=\"psysml:1c640ca6-227a-4ef9-a676-ef15132ac1e1\" xlink:actuate=\"onRequest\" xlink:href=\"psysml:1c640ca6-227a-4ef9-a676-ef15132ac1e1\" xlink:show=\"new\" xlink:title=\"psysml:1c640ca6-227a-4ef9-a676-ef15132ac1e1\" xlink:type=\"simple\"><polygon fill=\"none\" points=\"16,6,143,6,150,29.6094,519,29.6094,519,275.72,16,275.72,16,6\" style=\"stroke:#000000;stroke-width:1.5;\"/><line style=\"stroke:#000000;stroke-width:1.5;\" x1=\"16\" x2=\"150\" y1=\"29.6094\" y2=\"29.6094\"/><text fill=\"#000000\" font-family=\"sans-serif\" font-size=\"14\" font-weight=\"bold\" lengthAdjust=\"spacing\" textLength=\"121\" x=\"20\" y=\"22.5332\">Stage_4_Physical</text></a></g><!--MD5=[09b614a08d8cba4a07c9adeb5e0fee81]\n",
       "class E3--><a href=\"psysml:06a45e4b-d66b-4929-bbec-fc45f9fd89f6\" target=\"_top\" title=\"psysml:06a45e4b-d66b-4929-bbec-fc45f9fd89f6\" xlink:actuate=\"onRequest\" xlink:href=\"psysml:06a45e4b-d66b-4929-bbec-fc45f9fd89f6\" xlink:show=\"new\" xlink:title=\"psysml:06a45e4b-d66b-4929-bbec-fc45f9fd89f6\" xlink:type=\"simple\"><g id=\"elem_E3\"><rect fill=\"#FFFFFF\" height=\"50.7031\" id=\"E3\" rx=\"10\" ry=\"10\" style=\"stroke:#181818;stroke-width:0.5;\" width=\"214\" x=\"281\" y=\"103\"/><text fill=\"#000000\" font-family=\"sans-serif\" font-size=\"12\" font-style=\"italic\" lengthAdjust=\"spacing\" textLength=\"35\" x=\"370.5\" y=\"120.457\">«part»</text><text fill=\"#000000\" font-family=\"sans-serif\" font-size=\"14\" lengthAdjust=\"spacing\" textLength=\"200\" x=\"284\" y=\"137.627\">batmobileDesignV23: Batmobile</text><line style=\"stroke:#181818;stroke-width:0.5;\" x1=\"282\" x2=\"494\" y1=\"145.7031\" y2=\"145.7031\"/></g></a><g id=\"elem_E2\"><path d=\"M40.5,50 L40.5,207.1641 L245.5,207.1641 L245.5,60 L235.5,50 L40.5,50 \" fill=\"#FAFAFA\" style=\"stroke:#181818;stroke-width:0.5;\"/><path d=\"M235.5,50 L235.5,60 L245.5,60 L235.5,50 \" fill=\"#FAFAFA\" style=\"stroke:#181818;stroke-width:1.0;\"/><a href=\"psysml:2735390a-939f-44f9-9f6e-f0cedce62260\" target=\"_top\" title=\"psysml:2735390a-939f-44f9-9f6e-f0cedce62260\" xlink:actuate=\"onRequest\" xlink:href=\"psysml:2735390a-939f-44f9-9f6e-f0cedce62260\" xlink:show=\"new\" xlink:title=\"psysml:2735390a-939f-44f9-9f6e-f0cedce62260\" xlink:type=\"simple\"><text fill=\"#000000\" font-family=\"sans-serif\" font-size=\"13\" lengthAdjust=\"spacing\" text-decoration=\"underline\" textLength=\"13\" x=\"46.5\" y=\"68.4951\">@</text></a><text fill=\"#000000\" font-family=\"sans-serif\" font-size=\"13\" lengthAdjust=\"spacing\" textLength=\"54\" x=\"59.5\" y=\"68.4951\">comment</text><text fill=\"#000000\" font-family=\"sans-serif\" font-size=\"13\" lengthAdjust=\"spacing\" textLength=\"144\" x=\"46.5\" y=\"84.8467\">How the system does it?</text><text fill=\"#000000\" font-family=\"sans-serif\" font-size=\"13\" lengthAdjust=\"spacing\" textLength=\"4\" x=\"46.5\" y=\"101.1982\"> </text><text fill=\"#000000\" font-family=\"sans-serif\" font-size=\"13\" lengthAdjust=\"spacing\" textLength=\"41\" x=\"46.5\" y=\"117.5498\">Scope:</text><text fill=\"#000000\" font-family=\"sans-serif\" font-size=\"13\" lengthAdjust=\"spacing\" textLength=\"114\" x=\"46.5\" y=\"133.9014\">physical breakdown</text><text fill=\"#000000\" font-family=\"sans-serif\" font-size=\"13\" lengthAdjust=\"spacing\" textLength=\"184\" x=\"46.5\" y=\"150.2529\">physical interfaces (connectors)</text><text fill=\"#000000\" font-family=\"sans-serif\" font-size=\"13\" lengthAdjust=\"spacing\" textLength=\"81\" x=\"46.5\" y=\"166.6045\">physical flows</text><text fill=\"#000000\" font-family=\"sans-serif\" font-size=\"13\" lengthAdjust=\"spacing\" textLength=\"112\" x=\"46.5\" y=\"182.9561\">physical constrains</text><text fill=\"#000000\" font-family=\"sans-serif\" font-size=\"13\" lengthAdjust=\"spacing\" textLength=\"141\" x=\"46.5\" y=\"199.3076\">mapping to logical stage</text></g><!--MD5=[f23a504beb17692cf1ec401fb4a5a911]\n",
       "link E2 to E1--><g id=\"link_E2_E1\"><a href=\"psysml:2735390a-939f-44f9-9f6e-f0cedce62260\" target=\"_top\" title=\"psysml:2735390a-939f-44f9-9f6e-f0cedce62260\" xlink:actuate=\"onRequest\" xlink:href=\"psysml:2735390a-939f-44f9-9f6e-f0cedce62260\" xlink:show=\"new\" xlink:title=\"psysml:2735390a-939f-44f9-9f6e-f0cedce62260\" xlink:type=\"simple\"><path d=\"M143,207.09 C143,237.3 143,265.2 143,266.92 \" fill=\"none\" id=\"E2-E1\" style=\"stroke:#181818;stroke-width:1.0;stroke-dasharray:7.0,7.0;\"/></a></g><!--MD5=[562ac7ff540d0b959ac3a5388fe7aad9]\n",
       "@startuml\r\n",
       "skin sysmlbw\r\n",
       "skinparam monochrome true\r\n",
       "skinparam wrapWidth 300\r\n",
       "hide circle\r\n",
       "\r\n",
       "package \"Stage_4_Physical\" as E1  [[psysml:1c640ca6-227a-4ef9-a676-ef15132ac1e1 ]]  {\r\n",
       "comp usage \"batmobileDesignV23: Batmobile  \" as E3  <<(T,blue) part>> [[psysml:06a45e4b-d66b-4929-bbec-fc45f9fd89f6 ]] {\r\n",
       "}\r\n",
       "note as E2\r\n",
       "[[psysml:2735390a-939f-44f9-9f6e-f0cedce62260 @]]comment\r\n",
       "How the system does it?\r\n",
       "\r\n",
       "Scope:\r\n",
       "physical breakdown\r\n",
       "physical interfaces (connectors)\r\n",
       "physical flows\r\n",
       "physical constrains\r\n",
       "mapping to logical stage\r\n",
       "end note \r\n",
       "}\r\n",
       "E2 .. E1 [[psysml:2735390a-939f-44f9-9f6e-f0cedce62260 ]] \r\n",
       "@enduml\r\n",
       "\n",
       "PlantUML version 1.2022.7(Mon Aug 22 11:01:30 GMT-06:00 2022)\n",
       "(EPL source distribution)\n",
       "Java Runtime: OpenJDK Runtime Environment\n",
       "JVM: OpenJDK 64-Bit Server VM\n",
       "Default Encoding: UTF-8\n",
       "Language: en\n",
       "Country: US\n",
       "--></g></svg>"
      ]
     },
     "execution_count": 842,
     "metadata": {},
     "output_type": "execute_result"
    }
   ],
   "source": [
    "%viz --view=MIXED Stage_4_Physical"
   ]
  },
  {
   "cell_type": "code",
   "execution_count": null,
   "id": "f76b704b-f798-4d53-9ff2-2f4553a963c5",
   "metadata": {},
   "outputs": [],
   "source": []
  }
 ],
 "metadata": {
  "kernelspec": {
   "display_name": "SysML [conda env:base] *",
   "language": "sysml",
   "name": "conda-base-sysml"
  },
  "language_info": {
   "codemirror_mode": "sysml",
   "file_extension": ".sysml",
   "mimetype": "text/x-sysml",
   "name": "SysML",
   "pygments_lexer": "java",
   "version": "1.0.0"
  }
 },
 "nbformat": 4,
 "nbformat_minor": 5
}
