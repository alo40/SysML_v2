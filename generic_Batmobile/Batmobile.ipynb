{
 "cells": [
  {
   "cell_type": "code",
   "execution_count": 7,
   "id": "d0d6d036-62c6-40fc-90ce-4bfd8f3cc75e",
   "metadata": {
    "collapsed": true,
    "jupyter": {
     "outputs_hidden": true
    },
    "scrolled": true
   },
   "outputs": [
    {
     "data": {
      "text/plain": [
       "The following SysML v2 magic commands are available.\n",
       "For help on a specific command, use \"%help <COMMAND>\" or \"%<cmd> -h\".\n",
       "\n",
       "%eval\t\tEvaluate a given expression.\n",
       "%export\t\tSave a file of the JSON representation of the abstract syntax tree rooted in the named element.\n",
       "%help\t\tGet a list of available commands or help on a specific command\n",
       "%list\t\tList loaded library packages or the results of a given query\n",
       "%show\t\tPrint the abstract syntax tree rooted in a named element\n",
       "%publish\tPublish to the repository the modele elements rooted in a named element\n",
       "%view\t\tRender the view specified by the named view usage\n",
       "%viz\t\tVisualize the name model elements\n"
      ]
     },
     "execution_count": 7,
     "metadata": {},
     "output_type": "execute_result"
    }
   ],
   "source": [
    "%help"
   ]
  },
  {
   "cell_type": "code",
   "execution_count": 5,
   "id": "9a0f293b-87a6-4850-9fda-14d960c0964c",
   "metadata": {},
   "outputs": [
    {
     "data": {
      "text/plain": [
       "Usage: %viz [--view=<VIEW>] [--style=<STYLE>...] <NAME> [<NAME>...]\n",
       "\n",
       "Visualize model elements of <NAME>(s). <NAME>s must be fully qualified.\n",
       "\n",
       "<VIEW> is case insensitive and possible candidates are:\n",
       "   DEFAULT\t\tAutomatically choose an appropriate view from the given model element names\n",
       "   TREE\t\t\tShow a tree-structural view, like a Block Definition Diagram (BDD)\n",
       "   INTERCONNECTION\tShow an interconnection view, like an Internal Block Diagram (IBD)\n",
       "   STATE\t\tShow state machines\n",
       "   ACTION\t\tShow actions like an activity diagram\n",
       "   SEQUENCE\t\tShow events and messages in a sequence diagram\n",
       "   MIXED\t\tShow multiple views\n",
       "\n",
       "<STYLE> is also case insensitive. Multiple --style options are allowed.  The possible style names are:\n",
       "  DEFAULT\t\tStandard B&&W\n",
       "  STDCOLOR\t\tStandard style with colors\n",
       "  PLANTUML\t\tPlantUML Style\n",
       "  TB\t\t\tTop-to-Bottom orientation\n",
       "  LR\t\t\tLeft-to-Right orientation\n",
       "  POLYLINE\t\tPolyline style\n",
       "  ORTHOLINE\t\tOrthogonal line style\n",
       "  SHOWLIB\t\tShow elements of the standard libraries\n",
       "  SHOWINHERITED\t\tShow inherited members\n",
       "  COMPMOST\t\tShow as many memberships in a compartment as possible\n",
       "  COMPTREE\t\tShow nested ports in a compartment\n",
       "  SHOWIMPORTED\t\tShow imported elements\n",
       "  HIDEMETADATA\t\tHide metadata\n",
       "  SHOWMETACLASS\t\tShow metaclasses of metaobjects\n",
       "  EVAL\t\tEvaluate expressions\n",
       "  NODEMULTIPLICITY\t\tShow multiplicities in nodes\n",
       "  EDGEMULTIPLICITY\t\tShow multiplicities on edges\n",
       "  IMPLICITMULTIPLICITY\t\tShow implicit multiplicities\n",
       "\n",
       "Example:\n",
       "\t%viz --view Tree --style LR --style ortholine Pkg1::PartDef Pkg1::Pkg2::partUsage\n",
       "should visualize Pkg1::PartDef and Pkg1::Pkg2::partUsage with a tree view ordered in the left-to-right direction with orthogonal lines.\n"
      ]
     },
     "execution_count": 5,
     "metadata": {},
     "output_type": "execute_result"
    }
   ],
   "source": [
    "%help %viz"
   ]
  },
  {
   "cell_type": "code",
   "execution_count": 910,
   "id": "89c5bc03-2024-4beb-b996-593ed326bcb9",
   "metadata": {
    "jupyter": {
     "source_hidden": true
    }
   },
   "outputs": [
    {
     "data": {
      "text/plain": [
       "Package Metamodel (ef60ddf2-a60e-440e-a116-4260125ee82e)\n"
      ]
     },
     "execution_count": 910,
     "metadata": {},
     "output_type": "execute_result"
    }
   ],
   "source": [
    "package Metamodel {\n",
    "    private import Definitions::*;\n",
    "    part def System {\n",
    "        doc /* Represents an engineered system ... */\n",
    "        attribute problemStatement : ScalarValues::String {\n",
    "            doc /* The problem is solved by the system. */\n",
    "        }\n",
    "        attribute systemIdea : ScalarValues::String {\n",
    "            doc /* The elevator pitch of how the system solves the problem. */\n",
    "        }\n",
    "    }\n",
    "    part systems[*] : System; // represents the set of all usages of the concept\n",
    "    metadata def <system> SystemDSM specializes Metaobjects::SemanticMetadata {\n",
    "        redefines baseType = systems meta SysML::Usage;\n",
    "    }\n",
    "    # system def Batmobile specializes Vehicle {\n",
    "        redefines problemStatement := \"As a Hero, Batman needs a cool vehicle.\";\n",
    "        redefines systemIdea := \"The Batmobile is a black vehicle ...\";\n",
    "    }\n",
    "}"
   ]
  },
  {
   "cell_type": "code",
   "execution_count": 912,
   "id": "9afff2d7-9375-4dd1-b309-f2517e89a6a9",
   "metadata": {
    "collapsed": true,
    "jupyter": {
     "outputs_hidden": true
    }
   },
   "outputs": [
    {
     "data": {
      "image/svg+xml": [
       "<?xml version=\"1.0\" encoding=\"UTF-8\" standalone=\"no\"?><svg xmlns=\"http://www.w3.org/2000/svg\" xmlns:xlink=\"http://www.w3.org/1999/xlink\" contentStyleType=\"text/css\" height=\"607px\" preserveAspectRatio=\"none\" style=\"width:1706px;height:607px;background:#FFFFFF;\" version=\"1.1\" viewBox=\"0 0 1706 607\" width=\"1706px\" zoomAndPan=\"magnify\"><defs/><g><!--MD5=[fbc87193dbaf4d95561dea2c320d4a47]\n",
       "cluster E1--><g id=\"cluster_E1\"><a href=\"psysml:ef60ddf2-a60e-440e-a116-4260125ee82e\" target=\"_top\" title=\"psysml:ef60ddf2-a60e-440e-a116-4260125ee82e\" xlink:actuate=\"onRequest\" xlink:href=\"psysml:ef60ddf2-a60e-440e-a116-4260125ee82e\" xlink:show=\"new\" xlink:title=\"psysml:ef60ddf2-a60e-440e-a116-4260125ee82e\" xlink:type=\"simple\"><polygon fill=\"none\" points=\"16,6,100,6,107,29.6094,867,29.6094,867,458,16,458,16,6\" style=\"stroke:#000000;stroke-width:1.5;\"/><line style=\"stroke:#000000;stroke-width:1.5;\" x1=\"16\" x2=\"107\" y1=\"29.6094\" y2=\"29.6094\"/><text fill=\"#000000\" font-family=\"sans-serif\" font-size=\"14\" font-weight=\"bold\" lengthAdjust=\"spacing\" textLength=\"78\" x=\"20\" y=\"22.5332\">Metamodel</text></a></g><!--MD5=[14e3b0961a2654348d326746436168a1]\n",
       "cluster E6--><g id=\"cluster_E6\"><a href=\"psysml:098f52f5-6d26-4503-a148-5de7730ab062\" target=\"_top\" title=\"psysml:098f52f5-6d26-4503-a148-5de7730ab062\" xlink:actuate=\"onRequest\" xlink:href=\"psysml:098f52f5-6d26-4503-a148-5de7730ab062\" xlink:show=\"new\" xlink:title=\"psysml:098f52f5-6d26-4503-a148-5de7730ab062\" xlink:type=\"simple\"><polygon fill=\"none\" points=\"907,283.5,989,283.5,996,307.1094,1138,307.1094,1138,600,907,600,907,283.5\" style=\"stroke:#000000;stroke-width:1.5;\"/><line style=\"stroke:#000000;stroke-width:1.5;\" x1=\"907\" x2=\"996\" y1=\"307.1094\" y2=\"307.1094\"/><text fill=\"#000000\" font-family=\"sans-serif\" font-size=\"14\" font-weight=\"bold\" lengthAdjust=\"spacing\" textLength=\"76\" x=\"911\" y=\"300.0332\">Definitions</text></a></g><!--MD5=[b4997ac47864f28c2f74865a473b2911]\n",
       "class E2--><a href=\"psysml:a14bbe20-2051-4e39-b015-bee832ed2bc8\" target=\"_top\" title=\"psysml:a14bbe20-2051-4e39-b015-bee832ed2bc8\" xlink:actuate=\"onRequest\" xlink:href=\"psysml:a14bbe20-2051-4e39-b015-bee832ed2bc8\" xlink:show=\"new\" xlink:title=\"psysml:a14bbe20-2051-4e39-b015-bee832ed2bc8\" xlink:type=\"simple\"><g id=\"elem_E2\"><rect fill=\"#FFFFFF\" height=\"133.6188\" id=\"E2\" style=\"stroke:#181818;stroke-width:0.5;\" width=\"245\" x=\"40.5\" y=\"300\"/><text fill=\"#000000\" font-family=\"sans-serif\" font-size=\"12\" font-style=\"italic\" lengthAdjust=\"spacing\" textLength=\"58\" x=\"134\" y=\"317.457\">«part  def»</text><text fill=\"#000000\" font-family=\"sans-serif\" font-size=\"14\" lengthAdjust=\"spacing\" textLength=\"46\" x=\"140\" y=\"334.627\">System</text><line style=\"stroke:#181818;stroke-width:0.5;\" x1=\"41.5\" x2=\"284.5\" y1=\"342.7031\" y2=\"342.7031\"/><text fill=\"#000000\" font-family=\"sans-serif\" font-size=\"14\" lengthAdjust=\"spacing\" textLength=\"233\" x=\"46.5\" y=\"372.2801\">Represents an engineered system ...</text><text fill=\"#000000\" font-family=\"sans-serif\" font-size=\"14\" font-style=\"italic\" lengthAdjust=\"spacing\" textLength=\"23\" x=\"151.5\" y=\"355.9316\">doc</text><line style=\"stroke:#181818;stroke-width:1.0;\" x1=\"41.5\" x2=\"284.5\" y1=\"379.3563\" y2=\"379.3563\"/><text fill=\"#000000\" font-family=\"sans-serif\" font-size=\"14\" lengthAdjust=\"spacing\" textLength=\"160\" x=\"46.5\" y=\"408.9332\">problemStatement: String</text><text fill=\"#000000\" font-family=\"sans-serif\" font-size=\"14\" lengthAdjust=\"spacing\" textLength=\"116\" x=\"46.5\" y=\"426.5426\">systemIdea: String</text><text fill=\"#000000\" font-family=\"sans-serif\" font-size=\"14\" font-style=\"italic\" lengthAdjust=\"spacing\" textLength=\"59\" x=\"133.5\" y=\"392.5848\">attributes</text></g></a><!--MD5=[09b614a08d8cba4a07c9adeb5e0fee81]\n",
       "class E3--><a href=\"psysml:6f030921-f7a9-49d0-9d98-ac1f2ab47c77\" target=\"_top\" title=\"psysml:6f030921-f7a9-49d0-9d98-ac1f2ab47c77\" xlink:actuate=\"onRequest\" xlink:href=\"psysml:6f030921-f7a9-49d0-9d98-ac1f2ab47c77\" xlink:show=\"new\" xlink:title=\"psysml:6f030921-f7a9-49d0-9d98-ac1f2ab47c77\" xlink:type=\"simple\"><g id=\"elem_E3\"><rect fill=\"#FFFFFF\" height=\"50.7031\" id=\"E3\" rx=\"10\" ry=\"10\" style=\"stroke:#181818;stroke-width:0.5;\" width=\"132\" x=\"40\" y=\"115.5\"/><text fill=\"#000000\" font-family=\"sans-serif\" font-size=\"12\" font-style=\"italic\" lengthAdjust=\"spacing\" textLength=\"35\" x=\"88.5\" y=\"132.957\">«part»</text><text fill=\"#000000\" font-family=\"sans-serif\" font-size=\"14\" lengthAdjust=\"spacing\" textLength=\"118\" x=\"43\" y=\"150.127\">systems: System[*]</text><line style=\"stroke:#181818;stroke-width:0.5;\" x1=\"41\" x2=\"171\" y1=\"158.2031\" y2=\"158.2031\"/></g></a><!--MD5=[ebbe1d658d1005bcc118a6aa81145e00]\n",
       "class E4--><a href=\"psysml:545b9027-ef39-4540-a161-5967ab7d137f\" target=\"_top\" title=\"psysml:545b9027-ef39-4540-a161-5967ab7d137f\" xlink:actuate=\"onRequest\" xlink:href=\"psysml:545b9027-ef39-4540-a161-5967ab7d137f\" xlink:show=\"new\" xlink:title=\"psysml:545b9027-ef39-4540-a161-5967ab7d137f\" xlink:type=\"simple\"><g id=\"elem_E4\"><rect fill=\"#FFFFFF\" height=\"96.9656\" id=\"E4\" style=\"stroke:#181818;stroke-width:0.5;\" width=\"271\" x=\"552.5\" y=\"92.5\"/><text fill=\"#000000\" font-family=\"sans-serif\" font-size=\"12\" font-style=\"italic\" lengthAdjust=\"spacing\" textLength=\"89\" x=\"643.5\" y=\"109.957\">«metadata  def»</text><text fill=\"#000000\" font-family=\"sans-serif\" font-size=\"14\" lengthAdjust=\"spacing\" textLength=\"140\" x=\"618\" y=\"127.127\">&lt;system&gt; SystemDSM</text><line style=\"stroke:#181818;stroke-width:0.5;\" x1=\"553.5\" x2=\"822.5\" y1=\"135.2031\" y2=\"135.2031\"/><text fill=\"#000000\" font-family=\"sans-serif\" font-size=\"14\" lengthAdjust=\"spacing\" textLength=\"259\" x=\"558.5\" y=\"164.7801\">baseType = systems meta SysML::Usage</text><text fill=\"#000000\" font-family=\"sans-serif\" font-size=\"14\" font-style=\"italic\" lengthAdjust=\"spacing\" textLength=\"209\" x=\"558.5\" y=\"182.3895\">:&gt;&gt;SemanticMetadata::baseType</text><text fill=\"#000000\" font-family=\"sans-serif\" font-size=\"14\" font-style=\"italic\" lengthAdjust=\"spacing\" textLength=\"68\" x=\"654\" y=\"148.4316\">references</text></g></a><!--MD5=[270fce915f116d4de14055a7c1d9a0f3]\n",
       "class E5--><a href=\"psysml:79bac8e0-41aa-4029-a9ee-0485178b4d84\" target=\"_top\" title=\"psysml:79bac8e0-41aa-4029-a9ee-0485178b4d84\" xlink:actuate=\"onRequest\" xlink:href=\"psysml:79bac8e0-41aa-4029-a9ee-0485178b4d84\" xlink:show=\"new\" xlink:title=\"psysml:79bac8e0-41aa-4029-a9ee-0485178b4d84\" xlink:type=\"simple\"><g id=\"elem_E5\"><rect fill=\"#FFFFFF\" height=\"182.4969\" id=\"E5\" style=\"stroke:#181818;stroke-width:0.5;\" width=\"310\" x=\"207\" y=\"50\"/><text fill=\"#000000\" font-family=\"sans-serif\" font-size=\"12\" font-style=\"italic\" lengthAdjust=\"spacing\" textLength=\"64\" x=\"330\" y=\"67.457\">«definition»</text><text fill=\"#000000\" font-family=\"sans-serif\" font-size=\"12\" font-style=\"italic\" lengthAdjust=\"spacing\" textLength=\"60\" x=\"332\" y=\"82.5508\">«#system»</text><text fill=\"#000000\" font-family=\"sans-serif\" font-size=\"14\" lengthAdjust=\"spacing\" textLength=\"62\" x=\"331\" y=\"99.7207\">Batmobile</text><line style=\"stroke:#181818;stroke-width:0.5;\" x1=\"208\" x2=\"516\" y1=\"107.7969\" y2=\"107.7969\"/><text fill=\"#000000\" font-family=\"sans-serif\" font-size=\"14\" lengthAdjust=\"spacing\" textLength=\"258\" x=\"213\" y=\"137.3738\">problemStatement := \"As a Hero, Batman</text><text fill=\"#000000\" font-family=\"sans-serif\" font-size=\"14\" lengthAdjust=\"spacing\" textLength=\"138\" x=\"213\" y=\"154.9832\">needs a cool vehicle.\"</text><text fill=\"#000000\" font-family=\"sans-serif\" font-size=\"14\" font-style=\"italic\" lengthAdjust=\"spacing\" textLength=\"189\" x=\"213\" y=\"172.5926\">:&gt;&gt;System::problemStatement</text><text fill=\"#000000\" font-family=\"sans-serif\" font-size=\"14\" lengthAdjust=\"spacing\" textLength=\"298\" x=\"213\" y=\"190.202\">systemIdea := \"The Batmobile is a black vehicle</text><text fill=\"#000000\" font-family=\"sans-serif\" font-size=\"14\" lengthAdjust=\"spacing\" textLength=\"17\" x=\"213\" y=\"207.8113\">...\"</text><text fill=\"#000000\" font-family=\"sans-serif\" font-size=\"14\" font-style=\"italic\" lengthAdjust=\"spacing\" textLength=\"146\" x=\"213\" y=\"225.4207\">:&gt;&gt;System::systemIdea</text><text fill=\"#000000\" font-family=\"sans-serif\" font-size=\"14\" font-style=\"italic\" lengthAdjust=\"spacing\" textLength=\"68\" x=\"328\" y=\"121.0254\">references</text></g></a><!--MD5=[2156ba9850f5573cc1fc38a6a4b2f02b]\n",
       "class E7--><a href=\"psysml:b7c41ecf-4245-481e-8a4f-e44a929b52b2\" target=\"_top\" title=\"psysml:b7c41ecf-4245-481e-8a4f-e44a929b52b2\" xlink:actuate=\"onRequest\" xlink:href=\"psysml:b7c41ecf-4245-481e-8a4f-e44a929b52b2\" xlink:show=\"new\" xlink:title=\"psysml:b7c41ecf-4245-481e-8a4f-e44a929b52b2\" xlink:type=\"simple\"><g id=\"elem_E7\"><rect fill=\"#FFFFFF\" height=\"79.3563\" id=\"E7\" style=\"stroke:#181818;stroke-width:0.5;\" width=\"164\" x=\"931\" y=\"327.5\"/><text fill=\"#000000\" font-family=\"sans-serif\" font-size=\"12\" font-style=\"italic\" lengthAdjust=\"spacing\" textLength=\"58\" x=\"984\" y=\"344.957\">«part  def»</text><text fill=\"#000000\" font-family=\"sans-serif\" font-size=\"14\" lengthAdjust=\"spacing\" textLength=\"46\" x=\"990\" y=\"362.127\">Vehicle</text><line style=\"stroke:#181818;stroke-width:0.5;\" x1=\"932\" x2=\"1094\" y1=\"370.2031\" y2=\"370.2031\"/><text fill=\"#000000\" font-family=\"sans-serif\" font-size=\"14\" lengthAdjust=\"spacing\" textLength=\"152\" x=\"937\" y=\"399.7801\">actualSpeed: SpeedUnit</text><text fill=\"#000000\" font-family=\"sans-serif\" font-size=\"14\" font-style=\"italic\" lengthAdjust=\"spacing\" textLength=\"59\" x=\"983.5\" y=\"383.4316\">attributes</text></g></a><!--MD5=[b9389687b975829384b498ac4b7476b2]\n",
       "class E8--><a href=\"psysml:f4735f64-c801-42cf-abef-dbb74d44c414\" target=\"_top\" title=\"psysml:f4735f64-c801-42cf-abef-dbb74d44c414\" xlink:actuate=\"onRequest\" xlink:href=\"psysml:f4735f64-c801-42cf-abef-dbb74d44c414\" xlink:show=\"new\" xlink:title=\"psysml:f4735f64-c801-42cf-abef-dbb74d44c414\" xlink:type=\"simple\"><g id=\"elem_E8\"><rect fill=\"#FFFFFF\" height=\"50.7031\" id=\"E8\" rx=\"10\" ry=\"10\" style=\"stroke:#181818;stroke-width:0.5;\" width=\"50\" x=\"941\" y=\"525\"/><text fill=\"#000000\" font-family=\"sans-serif\" font-size=\"12\" font-style=\"italic\" lengthAdjust=\"spacing\" textLength=\"38\" x=\"947\" y=\"542.457\">«item»</text><text fill=\"#000000\" font-family=\"sans-serif\" font-size=\"14\" lengthAdjust=\"spacing\" textLength=\"36\" x=\"944\" y=\"559.627\">driver</text><line style=\"stroke:#181818;stroke-width:0.5;\" x1=\"942\" x2=\"990\" y1=\"567.7031\" y2=\"567.7031\"/></g></a><!--MD5=[fd4143e9d270a159db93a4ea2a975926]\n",
       "class E9--><a href=\"psysml:c8ae15b1-c4a1-402f-837c-a126dd46f560\" target=\"_top\" title=\"psysml:c8ae15b1-c4a1-402f-837c-a126dd46f560\" xlink:actuate=\"onRequest\" xlink:href=\"psysml:c8ae15b1-c4a1-402f-837c-a126dd46f560\" xlink:show=\"new\" xlink:title=\"psysml:c8ae15b1-c4a1-402f-837c-a126dd46f560\" xlink:type=\"simple\"><g id=\"elem_E9\"><rect fill=\"#FFFFFF\" height=\"50.7031\" id=\"E9\" rx=\"10\" ry=\"10\" style=\"stroke:#181818;stroke-width:0.5;\" width=\"57\" x=\"1026.5\" y=\"525\"/><text fill=\"#000000\" font-family=\"sans-serif\" font-size=\"12\" font-style=\"italic\" lengthAdjust=\"spacing\" textLength=\"35\" x=\"1037.5\" y=\"542.457\">«part»</text><text fill=\"#000000\" font-family=\"sans-serif\" font-size=\"14\" lengthAdjust=\"spacing\" textLength=\"43\" x=\"1029.5\" y=\"559.627\">engine</text><line style=\"stroke:#181818;stroke-width:0.5;\" x1=\"1027.5\" x2=\"1082.5\" y1=\"567.7031\" y2=\"567.7031\"/></g></a><!--MD5=[96f4274e9e20536e775497830990834d]\n",
       "class E10--><a href=\"psysml:ce7328c2-6ebb-51b6-8feb-dceb1148085a\" target=\"_top\" title=\"psysml:ce7328c2-6ebb-51b6-8feb-dceb1148085a\" xlink:actuate=\"onRequest\" xlink:href=\"psysml:ce7328c2-6ebb-51b6-8feb-dceb1148085a\" xlink:show=\"new\" xlink:title=\"psysml:ce7328c2-6ebb-51b6-8feb-dceb1148085a\" xlink:type=\"simple\"><g id=\"elem_E10\"><rect fill=\"#FFFFFF\" height=\"149.7938\" id=\"E10\" style=\"stroke:#181818;stroke-width:0.5;\" width=\"312\" x=\"1165\" y=\"292\"/><text fill=\"#000000\" font-family=\"sans-serif\" font-size=\"12\" font-style=\"italic\" lengthAdjust=\"spacing\" textLength=\"70\" x=\"1286\" y=\"309.457\">«metaclass»</text><text fill=\"#000000\" font-family=\"sans-serif\" font-size=\"14\" font-style=\"italic\" lengthAdjust=\"spacing\" textLength=\"203\" x=\"1219.5\" y=\"326.627\">Metaobjects::SemanticMetadata</text><line style=\"stroke:#181818;stroke-width:0.5;\" x1=\"1166\" x2=\"1476\" y1=\"334.7031\" y2=\"334.7031\"/><text fill=\"#000000\" font-family=\"sans-serif\" font-size=\"14\" lengthAdjust=\"spacing\" textLength=\"300\" x=\"1171\" y=\"364.2801\">SemanticMetadata is a Metaobject that requires</text><text fill=\"#000000\" font-family=\"sans-serif\" font-size=\"14\" lengthAdjust=\"spacing\" textLength=\"297\" x=\"1171\" y=\"381.8895\">its single annotatedType to directly or indirectly</text><text fill=\"#000000\" font-family=\"sans-serif\" font-size=\"14\" lengthAdjust=\"spacing\" textLength=\"61\" x=\"1171\" y=\"399.4988\">specialize</text><text fill=\"#000000\" font-family=\"sans-serif\" font-size=\"14\" lengthAdjust=\"spacing\" textLength=\"288\" x=\"1171\" y=\"417.1082\">a baseType that models the semantics for the</text><text fill=\"#000000\" font-family=\"sans-serif\" font-size=\"14\" lengthAdjust=\"spacing\" textLength=\"100\" x=\"1171\" y=\"434.7176\">annotatedType.</text><text fill=\"#000000\" font-family=\"sans-serif\" font-size=\"14\" font-style=\"italic\" lengthAdjust=\"spacing\" textLength=\"23\" x=\"1309.5\" y=\"347.9316\">doc</text></g></a><!--MD5=[1dd1bfd58a279cf63c5f349dbc8fc6a1]\n",
       "class E11--><a href=\"psysml:2a8ddda1-4188-5a2c-948a-e6048de1639b\" target=\"_top\" title=\"psysml:2a8ddda1-4188-5a2c-948a-e6048de1639b\" xlink:actuate=\"onRequest\" xlink:href=\"psysml:2a8ddda1-4188-5a2c-948a-e6048de1639b\" xlink:show=\"new\" xlink:title=\"psysml:2a8ddda1-4188-5a2c-948a-e6048de1639b\" xlink:type=\"simple\"><g id=\"elem_E11\"><rect fill=\"#FFFFFF\" height=\"96.9656\" id=\"E11\" style=\"stroke:#181818;stroke-width:0.5;\" width=\"278\" x=\"1172\" y=\"502\"/><text fill=\"#000000\" font-family=\"sans-serif\" font-size=\"12\" font-style=\"italic\" lengthAdjust=\"spacing\" textLength=\"52\" x=\"1285\" y=\"519.457\">«feature»</text><text fill=\"#000000\" font-family=\"sans-serif\" font-size=\"14\" font-style=\"italic\" lengthAdjust=\"spacing\" textLength=\"115\" x=\"1221.5\" y=\"536.627\">annotatedElement</text><text fill=\"#000000\" font-family=\"sans-serif\" font-size=\"14\" lengthAdjust=\"spacing\" textLength=\"56\" x=\"1336.5\" y=\"536.627\">: Type[1]</text><line style=\"stroke:#181818;stroke-width:0.5;\" x1=\"1173\" x2=\"1449\" y1=\"544.7031\" y2=\"544.7031\"/><text fill=\"#000000\" font-family=\"sans-serif\" font-size=\"14\" lengthAdjust=\"spacing\" textLength=\"227\" x=\"1178\" y=\"574.2801\">The single annotatedElement of this</text><text fill=\"#000000\" font-family=\"sans-serif\" font-size=\"14\" lengthAdjust=\"spacing\" textLength=\"266\" x=\"1178\" y=\"591.8895\">SemanticMetadata, which must be a Type.</text><text fill=\"#000000\" font-family=\"sans-serif\" font-size=\"14\" font-style=\"italic\" lengthAdjust=\"spacing\" textLength=\"23\" x=\"1299.5\" y=\"557.9316\">doc</text></g></a><!--MD5=[49a0ec8f00dab7302a31f22d0f0fe584]\n",
       "class E12--><a href=\"psysml:4dea7712-ce02-5503-8f54-1e7318e6bf38\" target=\"_top\" title=\"psysml:4dea7712-ce02-5503-8f54-1e7318e6bf38\" xlink:actuate=\"onRequest\" xlink:href=\"psysml:4dea7712-ce02-5503-8f54-1e7318e6bf38\" xlink:show=\"new\" xlink:title=\"psysml:4dea7712-ce02-5503-8f54-1e7318e6bf38\" xlink:type=\"simple\"><g id=\"elem_E12\"><rect fill=\"#FFFFFF\" height=\"96.9656\" id=\"E12\" style=\"stroke:#181818;stroke-width:0.5;\" width=\"214\" x=\"1485\" y=\"502\"/><text fill=\"#000000\" font-family=\"sans-serif\" font-size=\"12\" font-style=\"italic\" lengthAdjust=\"spacing\" textLength=\"52\" x=\"1566\" y=\"519.457\">«feature»</text><text fill=\"#000000\" font-family=\"sans-serif\" font-size=\"14\" lengthAdjust=\"spacing\" textLength=\"119\" x=\"1528.5\" y=\"536.627\">baseType: Type[1]</text><line style=\"stroke:#181818;stroke-width:0.5;\" x1=\"1486\" x2=\"1698\" y1=\"544.7031\" y2=\"544.7031\"/><text fill=\"#000000\" font-family=\"sans-serif\" font-size=\"14\" lengthAdjust=\"spacing\" textLength=\"198\" x=\"1491\" y=\"574.2801\">The required base Type for the</text><text fill=\"#000000\" font-family=\"sans-serif\" font-size=\"14\" lengthAdjust=\"spacing\" textLength=\"100\" x=\"1491\" y=\"591.8895\">annotatedType.</text><text fill=\"#000000\" font-family=\"sans-serif\" font-size=\"14\" font-style=\"italic\" lengthAdjust=\"spacing\" textLength=\"23\" x=\"1580.5\" y=\"557.9316\">doc</text></g></a><!--MD5=[05d275557350bfb9b23a4ef7222b4c39]\n",
       "link E3 to E2--><g id=\"link_E3_E2\"><a href=\"psysml:5aff1e02-9ce3-4726-ac11-eaea26932597\" target=\"_top\" title=\"psysml:5aff1e02-9ce3-4726-ac11-eaea26932597\" xlink:actuate=\"onRequest\" xlink:href=\"psysml:5aff1e02-9ce3-4726-ac11-eaea26932597\" xlink:show=\"new\" xlink:title=\"psysml:5aff1e02-9ce3-4726-ac11-eaea26932597\" xlink:type=\"simple\"><path d=\"M106.25,166.93 C106.25,166.93 106.25,279.54 106.25,279.54 \" fill=\"none\" id=\"E3-to-E2\" style=\"stroke:#181818;stroke-width:1.0;\"/><polygon fill=\"#FFFFFF\" points=\"106.25,299.54,99.25,280.54,113.25,280.54,106.25,299.54\" style=\"stroke:#181818;stroke-width:1.0;\"/><ellipse cx=\"101.25\" cy=\"274.84\" fill=\"#181818\" rx=\"2\" ry=\"2\" style=\"stroke:#181818;stroke-width:1.0;\"/><ellipse cx=\"111.25\" cy=\"274.84\" fill=\"#181818\" rx=\"2\" ry=\"2\" style=\"stroke:#181818;stroke-width:1.0;\"/></a></g><!--MD5=[ccbd3af71bf83df0ec2a2db62d6d7130]\n",
       "link E1 to E6--><g id=\"link_E1_E6\"><a href=\"psysml:61f624bc-f274-471b-8c42-abcb0fdf8e08\" target=\"_top\" title=\"psysml:61f624bc-f274-471b-8c42-abcb0fdf8e08\" xlink:actuate=\"onRequest\" xlink:href=\"psysml:61f624bc-f274-471b-8c42-abcb0fdf8e08\" xlink:show=\"new\" xlink:title=\"psysml:61f624bc-f274-471b-8c42-abcb0fdf8e08\" xlink:type=\"simple\"><path d=\"M867.1145,141 C867.3064,141 867.5015,141 867.6996,141 C868.0958,141 868.5045,141 868.9253,141 C870.6085,141 872.486,141 874.5425,141 C882.7685,141 893.8576,141 906.8239,141 C932.7566,141 966.1981,141 999.2613,141 C1065.3875,141 1130,141 1130,141 C1130,141 1130,194.025 1130,248.7063 C1130,255.5414 1130,262.4024 1130,269.189 C1130,272.5823 1130,275.957 1130,279.3005 C1130,280.1364 1130,280.9703 1130,281.8021 C1130,282.218 1130,282.6334 1130,283.0482 \" fill=\"none\" id=\"E1-to-E6\" style=\"stroke:#181818;stroke-width:1.0;stroke-dasharray:7.0,7.0;\"/><polygon fill=\"#181818\" points=\"1130,283.0482,1134,274.0482,1130,278.0482,1126,274.0482,1130,283.0482\" style=\"stroke:#181818;stroke-width:1.0;\"/><text fill=\"#000000\" font-family=\"sans-serif\" font-size=\"13\" lengthAdjust=\"spacing\" textLength=\"55\" x=\"1051.4\" y=\"137.4951\">«import»*</text></a></g><!--MD5=[3a9b96bfbf6b6ad89c494e81751bda47]\n",
       "link E5 to E7--><g id=\"link_E5_E7\"><a href=\"psysml:90105d43-9729-4ad7-b92d-be2153610700\" target=\"_top\" title=\"psysml:90105d43-9729-4ad7-b92d-be2153610700\" xlink:actuate=\"onRequest\" xlink:href=\"psysml:90105d43-9729-4ad7-b92d-be2153610700\" xlink:show=\"new\" xlink:title=\"psysml:90105d43-9729-4ad7-b92d-be2153610700\" xlink:type=\"simple\"><path d=\"M517.1,211 C709.66,211 1013,211 1013,211 C1013,211 1013,307.23 1013,307.23 \" fill=\"none\" id=\"E5-to-E7\" style=\"stroke:#181818;stroke-width:1.0;\"/><polygon fill=\"none\" points=\"1020,307.23,1013,327.23,1006,307.23,1020,307.23\" style=\"stroke:#181818;stroke-width:1.0;\"/></a></g><!--MD5=[dc164f5e8a733ab456ef1add180e9e34]\n",
       "reverse link E7 to E8--><g id=\"link_E7_E8\"><a href=\"psysml:281d48d7-8f56-4544-85b1-5a5bfdaaff2c\" target=\"_top\" title=\"psysml:281d48d7-8f56-4544-85b1-5a5bfdaaff2c\" xlink:actuate=\"onRequest\" xlink:href=\"psysml:281d48d7-8f56-4544-85b1-5a5bfdaaff2c\" xlink:show=\"new\" xlink:title=\"psysml:281d48d7-8f56-4544-85b1-5a5bfdaaff2c\" xlink:type=\"simple\"><path d=\"M966,419.82 C966,419.82 966,524.88 966,524.88 \" fill=\"none\" id=\"E7-backto-E8\" style=\"stroke:#181818;stroke-width:1.0;\"/><polygon fill=\"#181818\" points=\"966,406.82,962,412.82,966,418.82,970,412.82,966,406.82\" style=\"stroke:#181818;stroke-width:1.0;\"/></a></g><!--MD5=[e4a10ef82d0e328e31cac39a31e58dda]\n",
       "reverse link E7 to E9--><g id=\"link_E7_E9\"><a href=\"psysml:eab3578a-c573-4023-87ea-9d58ba95d7c2\" target=\"_top\" title=\"psysml:eab3578a-c573-4023-87ea-9d58ba95d7c2\" xlink:actuate=\"onRequest\" xlink:href=\"psysml:eab3578a-c573-4023-87ea-9d58ba95d7c2\" xlink:show=\"new\" xlink:title=\"psysml:eab3578a-c573-4023-87ea-9d58ba95d7c2\" xlink:type=\"simple\"><path d=\"M1055,419.82 C1055,419.82 1055,524.88 1055,524.88 \" fill=\"none\" id=\"E7-backto-E9\" style=\"stroke:#181818;stroke-width:1.0;\"/><polygon fill=\"#181818\" points=\"1055,406.82,1051,412.82,1055,418.82,1059,412.82,1055,406.82\" style=\"stroke:#181818;stroke-width:1.0;\"/></a></g><!--MD5=[8937a7e686f4c0ed3d97df1c0560e6d1]\n",
       "link E4 to E10--><g id=\"link_E4_E10\"><a href=\"psysml:746427b2-d477-4805-ad4d-56c16d5b936f\" target=\"_top\" title=\"psysml:746427b2-d477-4805-ad4d-56c16d5b936f\" xlink:actuate=\"onRequest\" xlink:href=\"psysml:746427b2-d477-4805-ad4d-56c16d5b936f\" xlink:show=\"new\" xlink:title=\"psysml:746427b2-d477-4805-ad4d-56c16d5b936f\" xlink:type=\"simple\"><path d=\"M688,189.62 C688,235.07 688,296 688,296 C688,296 1144.93,296 1144.93,296 \" fill=\"none\" id=\"E4-to-E10\" style=\"stroke:#181818;stroke-width:1.0;\"/><polygon fill=\"none\" points=\"1144.93,289,1164.93,296,1144.93,303,1144.93,289\" style=\"stroke:#181818;stroke-width:1.0;\"/></a></g><!--MD5=[de308be4a2431766a05a907a031c07fc]\n",
       "reverse link E10 to E11--><g id=\"link_E10_E11\"><a href=\"psysml:840f1322-81b5-4c86-98f6-64afafb618e3\" target=\"_top\" title=\"psysml:840f1322-81b5-4c86-98f6-64afafb618e3\" xlink:actuate=\"onRequest\" xlink:href=\"psysml:840f1322-81b5-4c86-98f6-64afafb618e3\" xlink:show=\"new\" xlink:title=\"psysml:840f1322-81b5-4c86-98f6-64afafb618e3\" xlink:type=\"simple\"><path d=\"M1311,455.17 C1311,455.17 1311,501.98 1311,501.98 \" fill=\"none\" id=\"E10-backto-E11\" style=\"stroke:#181818;stroke-width:1.0;\"/><polygon fill=\"none\" points=\"1311,442.17,1307,448.17,1311,454.17,1315,448.17,1311,442.17\" style=\"stroke:#181818;stroke-width:1.0;\"/></a></g><!--MD5=[1d54f998c6d5961a1a9184be73a7eb6c]\n",
       "reverse link E10 to E12--><g id=\"link_E10_E12\"><a href=\"psysml:ba639c6b-d48b-4173-9671-2bee5f74691c\" target=\"_top\" title=\"psysml:ba639c6b-d48b-4173-9671-2bee5f74691c\" xlink:actuate=\"onRequest\" xlink:href=\"psysml:ba639c6b-d48b-4173-9671-2bee5f74691c\" xlink:show=\"new\" xlink:title=\"psysml:ba639c6b-d48b-4173-9671-2bee5f74691c\" xlink:type=\"simple\"><path d=\"M1463.5,455.11 C1463.5,455.11 1463.5,551 1463.5,551 C1463.5,551 1472.04,551 1484.72,551 \" fill=\"none\" id=\"E10-backto-E12\" style=\"stroke:#181818;stroke-width:1.0;\"/><polygon fill=\"none\" points=\"1463.5,442.11,1459.5,448.11,1463.5,454.11,1467.5,448.11,1463.5,442.11\" style=\"stroke:#181818;stroke-width:1.0;\"/></a></g><!--MD5=[ce1aaff5b0ebfc5b39db2b0702d14679]\n",
       "@startuml\r\n",
       "skin sysmlbw\r\n",
       "skinparam monochrome true\r\n",
       "skinparam wrapWidth 300\r\n",
       "hide circle\r\n",
       "  skinparam linetype ortho\r\n",
       "\r\n",
       "package \"Metamodel\" as E1  [[psysml:ef60ddf2-a60e-440e-a116-4260125ee82e ]]  {\r\n",
       "comp def \"System\" as E2  <<(T,blue) part  def>> [[psysml:a14bbe20-2051-4e39-b015-bee832ed2bc8 ]] {\r\n",
       "##//doc//##\r\n",
       "Represents an engineered system ...\r\n",
       "- -\r\n",
       "##//attributes//##\r\n",
       "problemStatement: String\r\n",
       "systemIdea: String\r\n",
       "}\r\n",
       "comp usage \"systems: System[*]  \" as E3  <<(T,blue) part>> [[psysml:6f030921-f7a9-49d0-9d98-ac1f2ab47c77 ]] {\r\n",
       "}\r\n",
       "comp def \"~<system> SystemDSM\" as E4  <<(T,blue) metadata  def>> [[psysml:545b9027-ef39-4540-a161-5967ab7d137f ]] {\r\n",
       "##//references//##\r\n",
       "baseType <U+003D> systems meta SysML::Usage\\n//:>>SemanticMetadata::baseType// \r\n",
       "}\r\n",
       "comp def \"Batmobile\" as E5  <<(T,blue) definition>> <<#system>>[[psysml:79bac8e0-41aa-4029-a9ee-0485178b4d84 ]] {\r\n",
       "##//references//##\r\n",
       "problemStatement :<U+003D> \"As a Hero, Batman needs a cool vehicle.\"\\n//:>>System::problemStatement// \r\n",
       "systemIdea :<U+003D> \"The Batmobile is a black vehicle ...\"\\n//:>>System::systemIdea// \r\n",
       "}\r\n",
       "}\r\n",
       "package \"Definitions\" as E6  [[psysml:098f52f5-6d26-4503-a148-5de7730ab062 ]]  {\r\n",
       "comp def \"Vehicle\" as E7  <<(T,blue) part  def>> [[psysml:b7c41ecf-4245-481e-8a4f-e44a929b52b2 ]] {\r\n",
       "##//attributes//##\r\n",
       "actualSpeed: SpeedUnit\r\n",
       "}\r\n",
       "comp usage \"driver  \" as E8  <<(T,blue) item>> [[psysml:f4735f64-c801-42cf-abef-dbb74d44c414 ]] {\r\n",
       "}\r\n",
       "comp usage \"engine  \" as E9  <<(T,blue) part>> [[psysml:c8ae15b1-c4a1-402f-837c-a126dd46f560 ]] {\r\n",
       "}\r\n",
       "}\r\n",
       "comp def \"<i>Metaobjects::SemanticMetadata</i>\" as E10  <<(T,blue) metaclass>> [[psysml:ce7328c2-6ebb-51b6-8feb-dceb1148085a ]] {\r\n",
       "##//doc//##\r\n",
       "SemanticMetadata is a Metaobject that requires its single annotatedType to directly or indirectly specialize \\na baseType that models the semantics for the annotatedType.\r\n",
       "}\r\n",
       "comp def \"<i>annotatedElement</i>: Type[1]  \" as E11  <<(T,blue) feature>> [[psysml:2a8ddda1-4188-5a2c-948a-e6048de1639b ]] {\r\n",
       "##//doc//##\r\n",
       "The single annotatedElement of this SemanticMetadata, which must be a Type.\r\n",
       "}\r\n",
       "comp def \"baseType: Type[1]  \" as E12  <<(T,blue) feature>> [[psysml:4dea7712-ce02-5503-8f54-1e7318e6bf38 ]] {\r\n",
       "##//doc//##\r\n",
       "The required base Type for the annotatedType.\r\n",
       "}\r\n",
       "E3 - -:|> E2 [[psysml:5aff1e02-9ce3-4726-ac11-eaea26932597 ]] \r\n",
       "E1 ..> E6 [[psysml:61f624bc-f274-471b-8c42-abcb0fdf8e08 ]] : <<import>>*\r\n",
       "E5 - -|> E7 [[psysml:90105d43-9729-4ad7-b92d-be2153610700 ]] \r\n",
       "E7 *- - E8 [[psysml:281d48d7-8f56-4544-85b1-5a5bfdaaff2c ]] \r\n",
       "E7 *- - E9 [[psysml:eab3578a-c573-4023-87ea-9d58ba95d7c2 ]] \r\n",
       "E4 - -|> E10 [[psysml:746427b2-d477-4805-ad4d-56c16d5b936f ]] \r\n",
       "E10 o- - E11 [[psysml:840f1322-81b5-4c86-98f6-64afafb618e3 ]] \r\n",
       "E10 o- - E12 [[psysml:ba639c6b-d48b-4173-9671-2bee5f74691c ]] \r\n",
       "@enduml\r\n",
       "\n",
       "PlantUML version 1.2022.7(Mon Aug 22 11:01:30 GMT-06:00 2022)\n",
       "(EPL source distribution)\n",
       "Java Runtime: OpenJDK Runtime Environment\n",
       "JVM: OpenJDK 64-Bit Server VM\n",
       "Default Encoding: UTF-8\n",
       "Language: en\n",
       "Country: US\n",
       "--></g></svg>"
      ]
     },
     "execution_count": 912,
     "metadata": {},
     "output_type": "execute_result"
    }
   ],
   "source": [
    "%viz --view=TREE --style=SHOWMETACLASS --style=SHOWIMPORTED --style=ORTHOLINE Metamodel"
   ]
  },
  {
   "cell_type": "code",
   "execution_count": 1048,
   "id": "5d72fa6b-cefa-4988-8c2b-df39ff8f3769",
   "metadata": {
    "jupyter": {
     "source_hidden": true
    }
   },
   "outputs": [
    {
     "data": {
      "text/plain": [
       "Package Viewpoints (377bfd83-4393-40e8-99c4-8e4db2cf7000)\n"
      ]
     },
     "execution_count": 1048,
     "metadata": {},
     "output_type": "execute_result"
    }
   ],
   "source": [
    "package Viewpoints {\n",
    "    part def HeroAssociation;\n",
    "    concern 'Reduce the number of special parts' {\n",
    "        doc /* Reduce the number of special parts ... */\n",
    "        // stakeholder heroAss:: HeroAssociation; // not working\n",
    "    }\n",
    "    viewpoint 'system components' {\n",
    "        frame 'Reduce the number of special parts';\n",
    "        require constraint {\n",
    "            doc /* Show the hierarchical part decomposition of a system. */\n",
    "        }\n",
    "    }\n",
    "    view def 'Part list' {\n",
    "        // satisfy 'system components'; // not working\n",
    "        filter @SysML::PartUsage;\n",
    "    }\n",
    "    view batmobileParts : 'Part list' {\n",
    "        expose Stage_4_Physical::batmobileDesignV23::*;\n",
    "        render Views::asElementTable;\n",
    "    }\n",
    "}"
   ]
  },
  {
   "cell_type": "code",
   "execution_count": 1050,
   "id": "79b91d38-b6af-416f-90e3-0dd0ae0c1e5d",
   "metadata": {
    "collapsed": true,
    "jupyter": {
     "outputs_hidden": true
    }
   },
   "outputs": [
    {
     "data": {
      "image/svg+xml": [
       "<?xml version=\"1.0\" encoding=\"UTF-8\" standalone=\"no\"?><svg xmlns=\"http://www.w3.org/2000/svg\" xmlns:xlink=\"http://www.w3.org/1999/xlink\" contentStyleType=\"text/css\" height=\"362px\" preserveAspectRatio=\"none\" style=\"width:1008px;height:362px;background:#FFFFFF;\" version=\"1.1\" viewBox=\"0 0 1008 362\" width=\"1008px\" zoomAndPan=\"magnify\"><defs/><g><!--MD5=[fbc87193dbaf4d95561dea2c320d4a47]\n",
       "cluster E1--><g id=\"cluster_E1\"><a href=\"psysml:377bfd83-4393-40e8-99c4-8e4db2cf7000\" target=\"_top\" title=\"psysml:377bfd83-4393-40e8-99c4-8e4db2cf7000\" xlink:actuate=\"onRequest\" xlink:href=\"psysml:377bfd83-4393-40e8-99c4-8e4db2cf7000\" xlink:show=\"new\" xlink:title=\"psysml:377bfd83-4393-40e8-99c4-8e4db2cf7000\" xlink:type=\"simple\"><polygon fill=\"none\" points=\"16,6,99,6,106,29.6094,991,29.6094,991,355,16,355,16,6\" style=\"stroke:#000000;stroke-width:1.5;\"/><line style=\"stroke:#000000;stroke-width:1.5;\" x1=\"16\" x2=\"106\" y1=\"29.6094\" y2=\"29.6094\"/><text fill=\"#000000\" font-family=\"sans-serif\" font-size=\"14\" font-weight=\"bold\" lengthAdjust=\"spacing\" textLength=\"77\" x=\"20\" y=\"22.5332\">Viewpoints</text></a></g><!--MD5=[b4997ac47864f28c2f74865a473b2911]\n",
       "class E2--><a href=\"psysml:7f419092-cdd9-4b59-a245-afc850257372\" target=\"_top\" title=\"psysml:7f419092-cdd9-4b59-a245-afc850257372\" xlink:actuate=\"onRequest\" xlink:href=\"psysml:7f419092-cdd9-4b59-a245-afc850257372\" xlink:show=\"new\" xlink:title=\"psysml:7f419092-cdd9-4b59-a245-afc850257372\" xlink:type=\"simple\"><g id=\"elem_E2\"><rect fill=\"#FFFFFF\" height=\"50.7031\" id=\"E2\" style=\"stroke:#181818;stroke-width:0.5;\" width=\"108\" x=\"867\" y=\"109.5\"/><text fill=\"#000000\" font-family=\"sans-serif\" font-size=\"12\" font-style=\"italic\" lengthAdjust=\"spacing\" textLength=\"58\" x=\"892\" y=\"126.957\">«part  def»</text><text fill=\"#000000\" font-family=\"sans-serif\" font-size=\"14\" lengthAdjust=\"spacing\" textLength=\"102\" x=\"870\" y=\"144.127\">HeroAssociation</text><line style=\"stroke:#181818;stroke-width:0.5;\" x1=\"868\" x2=\"974\" y1=\"152.2031\" y2=\"152.2031\"/></g></a><!--MD5=[09b614a08d8cba4a07c9adeb5e0fee81]\n",
       "class E3--><a href=\"psysml:006264d5-ea49-4d7f-9c8b-30eccd53c5d2\" target=\"_top\" title=\"psysml:006264d5-ea49-4d7f-9c8b-30eccd53c5d2\" xlink:actuate=\"onRequest\" xlink:href=\"psysml:006264d5-ea49-4d7f-9c8b-30eccd53c5d2\" xlink:show=\"new\" xlink:title=\"psysml:006264d5-ea49-4d7f-9c8b-30eccd53c5d2\" xlink:type=\"simple\"><g id=\"elem_E3\"><rect fill=\"#FFFFFF\" height=\"79.3563\" id=\"E3\" rx=\"10\" ry=\"10\" style=\"stroke:#181818;stroke-width:0.5;\" width=\"253\" x=\"578.5\" y=\"95.5\"/><text fill=\"#000000\" font-family=\"sans-serif\" font-size=\"12\" font-style=\"italic\" lengthAdjust=\"spacing\" textLength=\"58\" x=\"676\" y=\"112.957\">«concern»</text><text fill=\"#000000\" font-family=\"sans-serif\" font-size=\"14\" lengthAdjust=\"spacing\" textLength=\"225\" x=\"588.5\" y=\"130.127\">Reduce the number of special parts</text><line style=\"stroke:#181818;stroke-width:0.5;\" x1=\"579.5\" x2=\"830.5\" y1=\"138.2031\" y2=\"138.2031\"/><text fill=\"#000000\" font-family=\"sans-serif\" font-size=\"14\" lengthAdjust=\"spacing\" textLength=\"241\" x=\"584.5\" y=\"167.7801\">Reduce the number of special parts ...</text><text fill=\"#000000\" font-family=\"sans-serif\" font-size=\"14\" font-style=\"italic\" lengthAdjust=\"spacing\" textLength=\"23\" x=\"693.5\" y=\"151.4316\">doc</text></g></a><!--MD5=[ebbe1d658d1005bcc118a6aa81145e00]\n",
       "class E4--><a href=\"psysml:3a97917e-71d9-45ee-ab80-49007033bd44\" target=\"_top\" title=\"psysml:3a97917e-71d9-45ee-ab80-49007033bd44\" xlink:actuate=\"onRequest\" xlink:href=\"psysml:3a97917e-71d9-45ee-ab80-49007033bd44\" xlink:show=\"new\" xlink:title=\"psysml:3a97917e-71d9-45ee-ab80-49007033bd44\" xlink:type=\"simple\"><g id=\"elem_E4\"><rect fill=\"#FFFFFF\" height=\"186.4469\" id=\"E4\" rx=\"10\" ry=\"10\" style=\"stroke:#181818;stroke-width:0.5;\" width=\"312\" x=\"231\" y=\"42\"/><text fill=\"#000000\" font-family=\"sans-serif\" font-size=\"12\" font-style=\"italic\" lengthAdjust=\"spacing\" textLength=\"65\" x=\"354.5\" y=\"59.457\">«viewpoint»</text><text fill=\"#000000\" font-family=\"sans-serif\" font-size=\"14\" lengthAdjust=\"spacing\" textLength=\"125\" x=\"320.5\" y=\"76.627\">system components</text><line style=\"stroke:#181818;stroke-width:0.5;\" x1=\"232\" x2=\"542\" y1=\"84.7031\" y2=\"84.7031\"/><text fill=\"#000000\" font-family=\"sans-serif\" font-size=\"14\" font-weight=\"bold\" lengthAdjust=\"spacing\" textLength=\"52\" x=\"237\" y=\"114.2801\">require</text><text fill=\"#000000\" font-family=\"sans-serif\" font-size=\"14\" lengthAdjust=\"spacing\" textLength=\"241\" x=\"293\" y=\"114.2801\">Reduce the number of special parts::&gt;</text><text fill=\"#000000\" font-family=\"sans-serif\" font-size=\"14\" lengthAdjust=\"spacing\" textLength=\"300\" x=\"237\" y=\"131.8895\">Viewpoints::Reduce the number of special parts</text><text fill=\"#000000\" font-family=\"sans-serif\" font-size=\"14\" font-style=\"italic\" lengthAdjust=\"spacing\" textLength=\"58\" x=\"358\" y=\"97.9316\">concerns</text><line style=\"stroke:#181818;stroke-width:1.0;\" x1=\"232\" x2=\"542\" y1=\"138.9656\" y2=\"138.9656\"/><text fill=\"#000000\" font-family=\"sans-serif\" font-size=\"14\" font-weight=\"bold\" lengthAdjust=\"spacing\" textLength=\"52\" x=\"237\" y=\"168.5426\">require</text><text fill=\"#000000\" font-family=\"sans-serif\" font-size=\"14\" lengthAdjust=\"spacing\" textLength=\"5\" x=\"293\" y=\"168.5426\">{</text><text fill=\"#000000\" font-family=\"sans-serif\" font-size=\"14\" lengthAdjust=\"spacing\" textLength=\"204\" x=\"285\" y=\"186.152\">doc /* Show the hierarchical part</text><text fill=\"#000000\" font-family=\"sans-serif\" font-size=\"14\" lengthAdjust=\"spacing\" textLength=\"184\" x=\"237\" y=\"203.7613\">decomposition of a system. */</text><text fill=\"#000000\" font-family=\"sans-serif\" font-size=\"14\" lengthAdjust=\"spacing\" textLength=\"5\" x=\"269\" y=\"221.3707\">}</text><text fill=\"#000000\" font-family=\"sans-serif\" font-size=\"14\" font-style=\"italic\" lengthAdjust=\"spacing\" textLength=\"69\" x=\"352.5\" y=\"152.1941\">constraints</text></g></a><!--MD5=[270fce915f116d4de14055a7c1d9a0f3]\n",
       "class E5--><a href=\"psysml:250a4d9f-d918-4135-b4fa-99571406cb29\" target=\"_top\" title=\"psysml:250a4d9f-d918-4135-b4fa-99571406cb29\" xlink:actuate=\"onRequest\" xlink:href=\"psysml:250a4d9f-d918-4135-b4fa-99571406cb29\" xlink:show=\"new\" xlink:title=\"psysml:250a4d9f-d918-4135-b4fa-99571406cb29\" xlink:type=\"simple\"><g id=\"elem_E5\"><rect fill=\"#FFFFFF\" height=\"50.7031\" id=\"E5\" style=\"stroke:#181818;stroke-width:0.5;\" width=\"63\" x=\"57.5\" y=\"288\"/><text fill=\"#000000\" font-family=\"sans-serif\" font-size=\"12\" font-style=\"italic\" lengthAdjust=\"spacing\" textLength=\"61\" x=\"58.5\" y=\"305.457\">«view  def»</text><text fill=\"#000000\" font-family=\"sans-serif\" font-size=\"14\" lengthAdjust=\"spacing\" textLength=\"47\" x=\"65.5\" y=\"322.627\">Part list</text><line style=\"stroke:#181818;stroke-width:0.5;\" x1=\"58.5\" x2=\"119.5\" y1=\"330.7031\" y2=\"330.7031\"/></g></a><!--MD5=[60a26617385b1d2d0262a64233df1f8d]\n",
       "class E6--><a href=\"psysml:497c198d-2f34-475c-95f5-6023e1c32706\" target=\"_top\" title=\"psysml:497c198d-2f34-475c-95f5-6023e1c32706\" xlink:actuate=\"onRequest\" xlink:href=\"psysml:497c198d-2f34-475c-95f5-6023e1c32706\" xlink:show=\"new\" xlink:title=\"psysml:497c198d-2f34-475c-95f5-6023e1c32706\" xlink:type=\"simple\"><g id=\"elem_E6\"><rect fill=\"#FFFFFF\" height=\"50.7031\" id=\"E6\" rx=\"10\" ry=\"10\" style=\"stroke:#181818;stroke-width:0.5;\" width=\"163\" x=\"32.5\" y=\"109.5\"/><text fill=\"#000000\" font-family=\"sans-serif\" font-size=\"12\" font-style=\"italic\" lengthAdjust=\"spacing\" textLength=\"38\" x=\"95\" y=\"126.957\">«view»</text><text fill=\"#000000\" font-family=\"sans-serif\" font-size=\"14\" lengthAdjust=\"spacing\" textLength=\"149\" x=\"35.5\" y=\"144.127\">batmobileParts: Part list</text><line style=\"stroke:#181818;stroke-width:0.5;\" x1=\"33.5\" x2=\"194.5\" y1=\"152.2031\" y2=\"152.2031\"/></g></a><!--MD5=[2156ba9850f5573cc1fc38a6a4b2f02b]\n",
       "class E7--><a href=\"psysml:129f2c68-dc14-4433-a2c7-566eb9776f51\" target=\"_top\" title=\"psysml:129f2c68-dc14-4433-a2c7-566eb9776f51\" xlink:actuate=\"onRequest\" xlink:href=\"psysml:129f2c68-dc14-4433-a2c7-566eb9776f51\" xlink:show=\"new\" xlink:title=\"psysml:129f2c68-dc14-4433-a2c7-566eb9776f51\" xlink:type=\"simple\"><g id=\"elem_E7\"><rect fill=\"#FFFFFF\" height=\"50.7031\" id=\"E7\" rx=\"10\" ry=\"10\" style=\"stroke:#181818;stroke-width:0.5;\" width=\"112\" x=\"156\" y=\"288\"/><text fill=\"#000000\" font-family=\"sans-serif\" font-size=\"12\" font-style=\"italic\" lengthAdjust=\"spacing\" textLength=\"67\" x=\"178.5\" y=\"305.457\">«rendering»</text><text fill=\"#000000\" font-family=\"sans-serif\" font-size=\"14\" lengthAdjust=\"spacing\" textLength=\"102\" x=\"159\" y=\"322.627\">asElementTable</text><line style=\"stroke:#181818;stroke-width:0.5;\" x1=\"157\" x2=\"267\" y1=\"330.7031\" y2=\"330.7031\"/></g></a><!--MD5=[25b190c987b1e74e5126d372c5a73af1]\n",
       "link E6 to E5--><g id=\"link_E6_E5\"><a href=\"psysml:02119666-5936-440b-b6fb-6e7bcc54026f\" target=\"_top\" title=\"psysml:02119666-5936-440b-b6fb-6e7bcc54026f\" xlink:actuate=\"onRequest\" xlink:href=\"psysml:02119666-5936-440b-b6fb-6e7bcc54026f\" xlink:show=\"new\" xlink:title=\"psysml:02119666-5936-440b-b6fb-6e7bcc54026f\" xlink:type=\"simple\"><path d=\"M110.52,160.54 C106.6,188.26 100.13,233.92 95.31,267.97 \" fill=\"none\" id=\"E6-to-E5\" style=\"stroke:#181818;stroke-width:1.0;\"/><polygon fill=\"#FFFFFF\" points=\"92.49,287.88,88.2194,268.087,102.0814,270.0473,92.49,287.88\" style=\"stroke:#181818;stroke-width:1.0;\"/><ellipse cx=\"90.9978\" cy=\"262.7232\" fill=\"#181818\" rx=\"2\" ry=\"2\" style=\"stroke:#181818;stroke-width:1.0;\"/><ellipse cx=\"100.8993\" cy=\"264.1234\" fill=\"#181818\" rx=\"2\" ry=\"2\" style=\"stroke:#181818;stroke-width:1.0;\"/></a></g><!--MD5=[3f50a3473f1dfb74d3f76443e03635af]\n",
       "reverse link E6 to E7--><g id=\"link_E6_E7\"><a href=\"psysml:47f70dcb-2601-4b41-9c74-18427c3edba3\" target=\"_top\" title=\"psysml:47f70dcb-2601-4b41-9c74-18427c3edba3\" xlink:actuate=\"onRequest\" xlink:href=\"psysml:47f70dcb-2601-4b41-9c74-18427c3edba3\" xlink:show=\"new\" xlink:title=\"psysml:47f70dcb-2601-4b41-9c74-18427c3edba3\" xlink:type=\"simple\"><path d=\"M133.99,172 C153.17,206.54 181.61,257.77 198.33,287.88 \" fill=\"none\" id=\"E6-backto-E7\" style=\"stroke:#181818;stroke-width:1.0;\"/><polygon fill=\"#181818\" points=\"127.63,160.54,127.0457,167.7274,133.4555,171.0311,134.0398,163.8437,127.63,160.54\" style=\"stroke:#181818;stroke-width:1.0;\"/></a></g><!--MD5=[9aa7f4109b90c29a9b2a0a398cd7b2a4]\n",
       "@startuml\r\n",
       "skin sysmlbw\r\n",
       "skinparam monochrome true\r\n",
       "skinparam wrapWidth 300\r\n",
       "hide circle\r\n",
       "\r\n",
       "package \"Viewpoints\" as E1  [[psysml:377bfd83-4393-40e8-99c4-8e4db2cf7000 ]]  {\r\n",
       "comp def \"HeroAssociation\" as E2  <<(T,blue) part  def>> [[psysml:7f419092-cdd9-4b59-a245-afc850257372 ]] {\r\n",
       "}\r\n",
       "comp usage \"Reduce the number of special parts  \" as E3  <<(T,blue) concern>> [[psysml:006264d5-ea49-4d7f-9c8b-30eccd53c5d2 ]] {\r\n",
       "##//doc//##\r\n",
       "Reduce the number of special parts ...\r\n",
       "}\r\n",
       "comp usage \"system components  \" as E4  <<(T,blue) viewpoint>> [[psysml:3a97917e-71d9-45ee-ab80-49007033bd44 ]] {\r\n",
       "##//concerns//##\r\n",
       "<b>require</b> Reduce the number of special parts::> Viewpoints::Reduce the number of special parts\r\n",
       "- -\r\n",
       "##//constraints//##\r\n",
       "<b>require</b> {\\n            doc <U+002F><U+002A> Show the hierarchical part decomposition of a system. <U+002A><U+002F>\\n        }\r\n",
       "}\r\n",
       "comp def \"Part list\" as E5  <<(T,blue) view  def>> [[psysml:250a4d9f-d918-4135-b4fa-99571406cb29 ]] {\r\n",
       "}\r\n",
       "comp usage \"batmobileParts: Part list  \" as E6  <<(T,blue) view>> [[psysml:497c198d-2f34-475c-95f5-6023e1c32706 ]] {\r\n",
       "}\r\n",
       "comp usage \"asElementTable \" as E7  <<(T,blue) rendering>> [[psysml:129f2c68-dc14-4433-a2c7-566eb9776f51 ]] {\r\n",
       "}\r\n",
       "}\r\n",
       "E6 - -:|> E5 [[psysml:02119666-5936-440b-b6fb-6e7bcc54026f ]] \r\n",
       "E6 *- - E7 [[psysml:47f70dcb-2601-4b41-9c74-18427c3edba3 ]] \r\n",
       "@enduml\r\n",
       "\n",
       "PlantUML version 1.2022.7(Mon Aug 22 11:01:30 GMT-06:00 2022)\n",
       "(EPL source distribution)\n",
       "Java Runtime: OpenJDK Runtime Environment\n",
       "JVM: OpenJDK 64-Bit Server VM\n",
       "Default Encoding: UTF-8\n",
       "Language: en\n",
       "Country: US\n",
       "--></g></svg>"
      ]
     },
     "execution_count": 1050,
     "metadata": {},
     "output_type": "execute_result"
    }
   ],
   "source": [
    "%viz Viewpoints"
   ]
  },
  {
   "cell_type": "code",
   "execution_count": 986,
   "id": "87b32751-296d-4c40-b104-e004dd7161a1",
   "metadata": {},
   "outputs": [
    {
     "data": {
      "text/plain": [
       "Package Requirements (486364eb-de27-404d-9636-ba9354e5c13e)\n"
      ]
     },
     "execution_count": 986,
     "metadata": {},
     "output_type": "execute_result"
    }
   ],
   "source": [
    "package Requirements {\n",
    "    private import Definitions::*;\n",
    "    requirement def VehicleMaxSpeed {\n",
    "        doc /* The actual speed of the vehicle shall be less than the maximun speed. */\n",
    "        // stakeholder pm : ProductManagement; // not working\n",
    "        subject vehicle : Vehicle;\n",
    "        attribute maxSpeed : SI::SpeedUnit;\n",
    "    }\n",
    "    requirement batmobileSpecification {\n",
    "        requirement <'REQ42'>\n",
    "            batmobileMaxSpeed : VehicleMaxSpeed {\n",
    "                redefines maxSpeed = 230 [SI::'km/h'];\n",
    "            }\n",
    "        requirement <'REQ43'>\n",
    "            batmobileAcceleration;\n",
    "    }\n",
    "}"
   ]
  },
  {
   "cell_type": "code",
   "execution_count": 852,
   "id": "d9894260-deef-4c01-8d2d-940521ae4d37",
   "metadata": {
    "collapsed": true,
    "jupyter": {
     "outputs_hidden": true
    }
   },
   "outputs": [
    {
     "data": {
      "image/svg+xml": [
       "<?xml version=\"1.0\" encoding=\"UTF-8\" standalone=\"no\"?><svg xmlns=\"http://www.w3.org/2000/svg\" xmlns:xlink=\"http://www.w3.org/1999/xlink\" contentStyleType=\"text/css\" height=\"754px\" preserveAspectRatio=\"none\" style=\"width:1000px;height:754px;background:#FFFFFF;\" version=\"1.1\" viewBox=\"0 0 1000 754\" width=\"1000px\" zoomAndPan=\"magnify\"><defs/><g><!--MD5=[fbc87193dbaf4d95561dea2c320d4a47]\n",
       "cluster E1--><g id=\"cluster_E1\"><a href=\"psysml:e548bb99-db4e-4fd9-851f-b3e54a205fd3\" target=\"_top\" title=\"psysml:e548bb99-db4e-4fd9-851f-b3e54a205fd3\" xlink:actuate=\"onRequest\" xlink:href=\"psysml:e548bb99-db4e-4fd9-851f-b3e54a205fd3\" xlink:show=\"new\" xlink:title=\"psysml:e548bb99-db4e-4fd9-851f-b3e54a205fd3\" xlink:type=\"simple\"><polygon fill=\"none\" points=\"16,6,197,6,204,29.6094,983,29.6094,983,747,16,747,16,6\" style=\"stroke:#000000;stroke-width:1.5;\"/><line style=\"stroke:#000000;stroke-width:1.5;\" x1=\"16\" x2=\"204\" y1=\"29.6094\" y2=\"29.6094\"/><text fill=\"#000000\" font-family=\"sans-serif\" font-size=\"14\" font-weight=\"bold\" lengthAdjust=\"spacing\" textLength=\"175\" x=\"20\" y=\"22.5332\">Requirements_Definition</text></a></g><!--MD5=[b4997ac47864f28c2f74865a473b2911]\n",
       "class E2--><a href=\"psysml:7595f945-cf92-4a42-8008-9dd5273735f0\" target=\"_top\" title=\"psysml:7595f945-cf92-4a42-8008-9dd5273735f0\" xlink:actuate=\"onRequest\" xlink:href=\"psysml:7595f945-cf92-4a42-8008-9dd5273735f0\" xlink:show=\"new\" xlink:title=\"psysml:7595f945-cf92-4a42-8008-9dd5273735f0\" xlink:type=\"simple\"><g id=\"elem_E2\"><rect fill=\"#FFFFFF\" height=\"133.6188\" id=\"E2\" style=\"stroke:#181818;stroke-width:0.5;\" width=\"296\" x=\"222\" y=\"347\"/><text fill=\"#000000\" font-family=\"sans-serif\" font-size=\"12\" font-style=\"italic\" lengthAdjust=\"spacing\" textLength=\"104\" x=\"318\" y=\"364.457\">«requirement  def»</text><text fill=\"#000000\" font-family=\"sans-serif\" font-size=\"14\" lengthAdjust=\"spacing\" textLength=\"112\" x=\"314\" y=\"381.627\">VehicleMaxSpeed</text><line style=\"stroke:#181818;stroke-width:0.5;\" x1=\"223\" x2=\"517\" y1=\"389.7031\" y2=\"389.7031\"/><text fill=\"#000000\" font-family=\"sans-serif\" font-size=\"14\" lengthAdjust=\"spacing\" textLength=\"280\" x=\"228\" y=\"419.2801\">The actual speed of the vehicle shall be less</text><text fill=\"#000000\" font-family=\"sans-serif\" font-size=\"14\" lengthAdjust=\"spacing\" textLength=\"158\" x=\"228\" y=\"436.8895\">than the maximun speed.</text><text fill=\"#000000\" font-family=\"sans-serif\" font-size=\"14\" font-style=\"italic\" lengthAdjust=\"spacing\" textLength=\"23\" x=\"358.5\" y=\"402.9316\">doc</text><line style=\"stroke:#181818;stroke-width:1.0;\" x1=\"223\" x2=\"517\" y1=\"443.9656\" y2=\"443.9656\"/><text fill=\"#000000\" font-family=\"sans-serif\" font-size=\"14\" lengthAdjust=\"spacing\" textLength=\"139\" x=\"228\" y=\"473.5426\">maxSpeed: SpeedUnit</text><text fill=\"#000000\" font-family=\"sans-serif\" font-size=\"14\" font-style=\"italic\" lengthAdjust=\"spacing\" textLength=\"59\" x=\"340.5\" y=\"457.1941\">attributes</text></g></a><!--MD5=[09b614a08d8cba4a07c9adeb5e0fee81]\n",
       "class E3--><a href=\"psysml:b5ca7772-b108-4821-b34d-9558cade0aa1\" target=\"_top\" title=\"psysml:b5ca7772-b108-4821-b34d-9558cade0aa1\" xlink:actuate=\"onRequest\" xlink:href=\"psysml:b5ca7772-b108-4821-b34d-9558cade0aa1\" xlink:show=\"new\" xlink:title=\"psysml:b5ca7772-b108-4821-b34d-9558cade0aa1\" xlink:type=\"simple\"><g id=\"elem_E3\"><rect fill=\"#FFFFFF\" height=\"79.3563\" id=\"E3\" rx=\"10\" ry=\"10\" style=\"stroke:#181818;stroke-width:0.5;\" width=\"169\" x=\"285.5\" y=\"541\"/><text fill=\"#000000\" font-family=\"sans-serif\" font-size=\"12\" font-style=\"italic\" lengthAdjust=\"spacing\" textLength=\"54\" x=\"343\" y=\"558.457\">«subject»</text><text fill=\"#000000\" font-family=\"sans-serif\" font-size=\"14\" lengthAdjust=\"spacing\" textLength=\"44\" x=\"348\" y=\"575.627\">vehicle</text><line style=\"stroke:#181818;stroke-width:0.5;\" x1=\"286.5\" x2=\"453.5\" y1=\"583.7031\" y2=\"583.7031\"/><text fill=\"#000000\" font-family=\"sans-serif\" font-size=\"14\" lengthAdjust=\"spacing\" textLength=\"157\" x=\"291.5\" y=\"613.2801\">^actualSpeed: SpeedUnit</text><text fill=\"#000000\" font-family=\"sans-serif\" font-size=\"14\" font-style=\"italic\" lengthAdjust=\"spacing\" textLength=\"59\" x=\"340.5\" y=\"596.9316\">attributes</text></g></a><!--MD5=[ebbe1d658d1005bcc118a6aa81145e00]\n",
       "class E4--><a href=\"psysml:f4735f64-c801-42cf-abef-dbb74d44c414\" target=\"_top\" title=\"psysml:f4735f64-c801-42cf-abef-dbb74d44c414\" xlink:actuate=\"onRequest\" xlink:href=\"psysml:f4735f64-c801-42cf-abef-dbb74d44c414\" xlink:show=\"new\" xlink:title=\"psysml:f4735f64-c801-42cf-abef-dbb74d44c414\" xlink:type=\"simple\"><g id=\"elem_E4\"><rect fill=\"#FFFFFF\" height=\"50.7031\" id=\"E4\" rx=\"10\" ry=\"10\" style=\"stroke:#181818;stroke-width:0.5;\" width=\"55\" x=\"295.5\" y=\"680\"/><text fill=\"#000000\" font-family=\"sans-serif\" font-size=\"12\" font-style=\"italic\" lengthAdjust=\"spacing\" textLength=\"38\" x=\"304\" y=\"697.457\">«item»</text><text fill=\"#000000\" font-family=\"sans-serif\" font-size=\"14\" lengthAdjust=\"spacing\" textLength=\"41\" x=\"298.5\" y=\"714.627\">^driver</text><line style=\"stroke:#181818;stroke-width:0.5;\" x1=\"296.5\" x2=\"349.5\" y1=\"722.7031\" y2=\"722.7031\"/></g></a><!--MD5=[270fce915f116d4de14055a7c1d9a0f3]\n",
       "class E5--><a href=\"psysml:c8ae15b1-c4a1-402f-837c-a126dd46f560\" target=\"_top\" title=\"psysml:c8ae15b1-c4a1-402f-837c-a126dd46f560\" xlink:actuate=\"onRequest\" xlink:href=\"psysml:c8ae15b1-c4a1-402f-837c-a126dd46f560\" xlink:show=\"new\" xlink:title=\"psysml:c8ae15b1-c4a1-402f-837c-a126dd46f560\" xlink:type=\"simple\"><g id=\"elem_E5\"><rect fill=\"#FFFFFF\" height=\"50.7031\" id=\"E5\" rx=\"10\" ry=\"10\" style=\"stroke:#181818;stroke-width:0.5;\" width=\"62\" x=\"386\" y=\"680\"/><text fill=\"#000000\" font-family=\"sans-serif\" font-size=\"12\" font-style=\"italic\" lengthAdjust=\"spacing\" textLength=\"35\" x=\"399.5\" y=\"697.457\">«part»</text><text fill=\"#000000\" font-family=\"sans-serif\" font-size=\"14\" lengthAdjust=\"spacing\" textLength=\"48\" x=\"389\" y=\"714.627\">^engine</text><line style=\"stroke:#181818;stroke-width:0.5;\" x1=\"387\" x2=\"447\" y1=\"722.7031\" y2=\"722.7031\"/></g></a><!--MD5=[60a26617385b1d2d0262a64233df1f8d]\n",
       "class E6--><a href=\"psysml:88ab5370-7896-4f27-8751-bfd67c4f29ca\" target=\"_top\" title=\"psysml:88ab5370-7896-4f27-8751-bfd67c4f29ca\" xlink:actuate=\"onRequest\" xlink:href=\"psysml:88ab5370-7896-4f27-8751-bfd67c4f29ca\" xlink:show=\"new\" xlink:title=\"psysml:88ab5370-7896-4f27-8751-bfd67c4f29ca\" xlink:type=\"simple\"><g id=\"elem_E6\"><rect fill=\"#FFFFFF\" height=\"50.7031\" id=\"E6\" rx=\"10\" ry=\"10\" style=\"stroke:#181818;stroke-width:0.5;\" width=\"155\" x=\"625.5\" y=\"42\"/><text fill=\"#000000\" font-family=\"sans-serif\" font-size=\"12\" font-style=\"italic\" lengthAdjust=\"spacing\" textLength=\"81\" x=\"662.5\" y=\"59.457\">«requirement»</text><text fill=\"#000000\" font-family=\"sans-serif\" font-size=\"14\" lengthAdjust=\"spacing\" textLength=\"141\" x=\"628.5\" y=\"76.627\">batmobileSpecification</text><line style=\"stroke:#181818;stroke-width:0.5;\" x1=\"626.5\" x2=\"779.5\" y1=\"84.7031\" y2=\"84.7031\"/></g></a><!--MD5=[2156ba9850f5573cc1fc38a6a4b2f02b]\n",
       "class E7--><a href=\"psysml:602d6a70-f278-4812-991c-98496d3aac69\" target=\"_top\" title=\"psysml:602d6a70-f278-4812-991c-98496d3aac69\" xlink:actuate=\"onRequest\" xlink:href=\"psysml:602d6a70-f278-4812-991c-98496d3aac69\" xlink:show=\"new\" xlink:title=\"psysml:602d6a70-f278-4812-991c-98496d3aac69\" xlink:type=\"simple\"><g id=\"elem_E7\"><rect fill=\"#FFFFFF\" height=\"133.6188\" id=\"E7\" rx=\"10\" ry=\"10\" style=\"stroke:#181818;stroke-width:0.5;\" width=\"327\" x=\"385.5\" y=\"153\"/><text fill=\"#000000\" font-family=\"sans-serif\" font-size=\"12\" font-style=\"italic\" lengthAdjust=\"spacing\" textLength=\"81\" x=\"508.5\" y=\"170.457\">«requirement»</text><text fill=\"#000000\" font-family=\"sans-serif\" font-size=\"14\" lengthAdjust=\"spacing\" textLength=\"313\" x=\"388.5\" y=\"187.627\">&lt;REQ42&gt; batmobileMaxSpeed: VehicleMaxSpeed</text><line style=\"stroke:#181818;stroke-width:0.5;\" x1=\"386.5\" x2=\"711.5\" y1=\"195.7031\" y2=\"195.7031\"/><text fill=\"#000000\" font-family=\"sans-serif\" font-size=\"14\" lengthAdjust=\"spacing\" textLength=\"174\" x=\"391.5\" y=\"225.2801\">maxSpeed = 230 [SI::'km/h']</text><text fill=\"#000000\" font-family=\"sans-serif\" font-size=\"14\" font-style=\"italic\" lengthAdjust=\"spacing\" textLength=\"207\" x=\"391.5\" y=\"242.8895\">:&gt;&gt;VehicleMaxSpeed::maxSpeed</text><text fill=\"#000000\" font-family=\"sans-serif\" font-size=\"14\" font-style=\"italic\" lengthAdjust=\"spacing\" textLength=\"68\" x=\"515\" y=\"208.9316\">references</text><line style=\"stroke:#181818;stroke-width:1.0;\" x1=\"386.5\" x2=\"711.5\" y1=\"249.9656\" y2=\"249.9656\"/><text fill=\"#000000\" font-family=\"sans-serif\" font-size=\"14\" lengthAdjust=\"spacing\" textLength=\"44\" x=\"391.5\" y=\"279.5426\">vehicle</text><text fill=\"#000000\" font-family=\"sans-serif\" font-size=\"14\" font-style=\"italic\" lengthAdjust=\"spacing\" textLength=\"45\" x=\"526.5\" y=\"263.1941\">subject</text></g></a><!--MD5=[fd4143e9d270a159db93a4ea2a975926]\n",
       "class E9--><a href=\"psysml:36b45827-3aab-429d-ac92-7624097e69b7\" target=\"_top\" title=\"psysml:36b45827-3aab-429d-ac92-7624097e69b7\" xlink:actuate=\"onRequest\" xlink:href=\"psysml:36b45827-3aab-429d-ac92-7624097e69b7\" xlink:show=\"new\" xlink:title=\"psysml:36b45827-3aab-429d-ac92-7624097e69b7\" xlink:type=\"simple\"><g id=\"elem_E9\"><rect fill=\"#FFFFFF\" height=\"50.7031\" id=\"E9\" rx=\"10\" ry=\"10\" style=\"stroke:#181818;stroke-width:0.5;\" width=\"219\" x=\"747.5\" y=\"194.5\"/><text fill=\"#000000\" font-family=\"sans-serif\" font-size=\"12\" font-style=\"italic\" lengthAdjust=\"spacing\" textLength=\"81\" x=\"816.5\" y=\"211.957\">«requirement»</text><text fill=\"#000000\" font-family=\"sans-serif\" font-size=\"14\" lengthAdjust=\"spacing\" textLength=\"205\" x=\"750.5\" y=\"229.127\">&lt;REQ43&gt; batmobileAcceleration</text><line style=\"stroke:#181818;stroke-width:0.5;\" x1=\"748.5\" x2=\"965.5\" y1=\"237.2031\" y2=\"237.2031\"/></g></a><g id=\"elem_E8\"><path d=\"M32,198.5 L32,241.2031 A0,0 0 0 0 32,241.2031 L206.16,241.2031 L308.19,346.71 L214.16,241.2031 L350,241.2031 A0,0 0 0 0 350,241.2031 L350,208.5 L340,198.5 L32,198.5 A0,0 0 0 0 32,198.5 \" fill=\"#FAFAFA\" style=\"stroke:#181818;stroke-width:0.5;\"/><path d=\"M340,198.5 L340,208.5 L350,208.5 L340,198.5 \" fill=\"#FAFAFA\" style=\"stroke:#181818;stroke-width:0.5;\"/><a href=\"psysml:50cc3169-ea16-48f0-b5ac-10aa006413a3\" target=\"_top\" title=\"psysml:50cc3169-ea16-48f0-b5ac-10aa006413a3\" xlink:actuate=\"onRequest\" xlink:href=\"psysml:50cc3169-ea16-48f0-b5ac-10aa006413a3\" xlink:show=\"new\" xlink:title=\"psysml:50cc3169-ea16-48f0-b5ac-10aa006413a3\" xlink:type=\"simple\"><text fill=\"#000000\" font-family=\"sans-serif\" font-size=\"13\" lengthAdjust=\"spacing\" text-decoration=\"underline\" textLength=\"13\" x=\"38\" y=\"216.9951\">@</text></a><text fill=\"#000000\" font-family=\"sans-serif\" font-size=\"13\" lengthAdjust=\"spacing\" textLength=\"284\" x=\"51\" y=\"216.9951\">The actual speed of the vehicle shall be less than</text><text fill=\"#000000\" font-family=\"sans-serif\" font-size=\"13\" lengthAdjust=\"spacing\" textLength=\"118\" x=\"38\" y=\"233.3467\">the maximun speed.</text></g><!--MD5=[209b3feb70ccb6233bfe1053d122c12c]\n",
       "reverse link E2 to E3--><g id=\"link_E2_E3\"><a href=\"psysml:5865ff62-6217-42ec-a3f4-d1860d6c7c77\" target=\"_top\" title=\"psysml:5865ff62-6217-42ec-a3f4-d1860d6c7c77\" xlink:actuate=\"onRequest\" xlink:href=\"psysml:5865ff62-6217-42ec-a3f4-d1860d6c7c77\" xlink:show=\"new\" xlink:title=\"psysml:5865ff62-6217-42ec-a3f4-d1860d6c7c77\" xlink:type=\"simple\"><path d=\"M370,494.79 C370,510.8 370,526.93 370,540.75 \" fill=\"none\" id=\"E2-backto-E3\" style=\"stroke:#181818;stroke-width:1.0;\"/><polygon fill=\"none\" points=\"370,481.43,366,487.43,370,493.43,374,487.43,370,481.43\" style=\"stroke:#181818;stroke-width:1.0;\"/></a></g><!--MD5=[4672eba38e49728da53d11aeb285b987]\n",
       "reverse link E3 to E4--><g id=\"link_E3_E4\"><a href=\"psysml:281d48d7-8f56-4544-85b1-5a5bfdaaff2c\" target=\"_top\" title=\"psysml:281d48d7-8f56-4544-85b1-5a5bfdaaff2c\" xlink:actuate=\"onRequest\" xlink:href=\"psysml:281d48d7-8f56-4544-85b1-5a5bfdaaff2c\" xlink:show=\"new\" xlink:title=\"psysml:281d48d7-8f56-4544-85b1-5a5bfdaaff2c\" xlink:type=\"simple\"><path d=\"M350.56,632.38 C344.27,648.84 337.58,666.35 332.37,679.99 \" fill=\"none\" id=\"E3-backto-E4\" style=\"stroke:#181818;stroke-width:1.0;\"/><polygon fill=\"#181818\" points=\"355.26,620.08,349.381,624.2558,350.9744,631.2886,356.8534,627.1129,355.26,620.08\" style=\"stroke:#181818;stroke-width:1.0;\"/></a></g><!--MD5=[191cde3d490a3f6d7bb551fe3ddca469]\n",
       "reverse link E3 to E5--><g id=\"link_E3_E5\"><a href=\"psysml:eab3578a-c573-4023-87ea-9d58ba95d7c2\" target=\"_top\" title=\"psysml:eab3578a-c573-4023-87ea-9d58ba95d7c2\" xlink:actuate=\"onRequest\" xlink:href=\"psysml:eab3578a-c573-4023-87ea-9d58ba95d7c2\" xlink:show=\"new\" xlink:title=\"psysml:eab3578a-c573-4023-87ea-9d58ba95d7c2\" xlink:type=\"simple\"><path d=\"M389.44,632.38 C395.73,648.84 402.42,666.35 407.63,679.99 \" fill=\"none\" id=\"E3-backto-E5\" style=\"stroke:#181818;stroke-width:1.0;\"/><polygon fill=\"#181818\" points=\"384.74,620.08,383.1466,627.1129,389.0256,631.2886,390.619,624.2558,384.74,620.08\" style=\"stroke:#181818;stroke-width:1.0;\"/></a></g><!--MD5=[3f50a3473f1dfb74d3f76443e03635af]\n",
       "reverse link E6 to E7--><g id=\"link_E6_E7\"><a href=\"psysml:3121ca91-1227-49f9-bf06-4468506ae10e\" target=\"_top\" title=\"psysml:3121ca91-1227-49f9-bf06-4468506ae10e\" xlink:actuate=\"onRequest\" xlink:href=\"psysml:3121ca91-1227-49f9-bf06-4468506ae10e\" xlink:show=\"new\" xlink:title=\"psysml:3121ca91-1227-49f9-bf06-4468506ae10e\" xlink:type=\"simple\"><path d=\"M668.36,102.35 C653.05,117.32 634.49,135.46 616.61,152.92 \" fill=\"none\" id=\"E6-backto-E7\" style=\"stroke:#181818;stroke-width:1.0;\"/><polygon fill=\"#181818\" points=\"677.91,93.02,670.8229,94.3517,669.3264,101.4058,676.4135,100.0741,677.91,93.02\" style=\"stroke:#181818;stroke-width:1.0;\"/></a></g><!--MD5=[583832df87f4419a098336a29a52fa00]\n",
       "link E7 to E2--><g id=\"link_E7_E2\"><a href=\"psysml:3e8c869b-3bae-41c5-8add-c0625b987850\" target=\"_top\" title=\"psysml:3e8c869b-3bae-41c5-8add-c0625b987850\" xlink:actuate=\"onRequest\" xlink:href=\"psysml:3e8c869b-3bae-41c5-8add-c0625b987850\" xlink:show=\"new\" xlink:title=\"psysml:3e8c869b-3bae-41c5-8add-c0625b987850\" xlink:type=\"simple\"><path d=\"M487.4,287.08 C473.9,301.56 459.46,317.05 445.48,332.04 \" fill=\"none\" id=\"E7-to-E2\" style=\"stroke:#181818;stroke-width:1.0;\"/><polygon fill=\"#FFFFFF\" points=\"431.72,346.8,439.5595,328.1307,449.7979,337.6793,431.72,346.8\" style=\"stroke:#181818;stroke-width:1.0;\"/><ellipse cx=\"444.9098\" cy=\"325.3263\" fill=\"#181818\" rx=\"2\" ry=\"2\" style=\"stroke:#181818;stroke-width:1.0;\"/><ellipse cx=\"452.2229\" cy=\"332.1467\" fill=\"#181818\" rx=\"2\" ry=\"2\" style=\"stroke:#181818;stroke-width:1.0;\"/></a></g><!--MD5=[e88d06e5a652d73a6b19930eefe025a8]\n",
       "reverse link E6 to E9--><g id=\"link_E6_E9\"><a href=\"psysml:cfe1f01b-9020-4087-bd34-d4e387f15bea\" target=\"_top\" title=\"psysml:cfe1f01b-9020-4087-bd34-d4e387f15bea\" xlink:actuate=\"onRequest\" xlink:href=\"psysml:cfe1f01b-9020-4087-bd34-d4e387f15bea\" xlink:show=\"new\" xlink:title=\"psysml:cfe1f01b-9020-4087-bd34-d4e387f15bea\" xlink:type=\"simple\"><path d=\"M737.7,102.41 C766.35,130.41 806.31,169.46 831.93,194.5 \" fill=\"none\" id=\"E6-backto-E9\" style=\"stroke:#181818;stroke-width:1.0;\"/><polygon fill=\"#181818\" points=\"728.09,93.02,729.5865,100.0741,736.6736,101.4058,735.1771,94.3517,728.09,93.02\" style=\"stroke:#181818;stroke-width:1.0;\"/></a></g><!--MD5=[e9ff5920af3b1bcc036276d58acb79b7]\n",
       "@startuml\r\n",
       "skin sysmlbw\r\n",
       "skinparam monochrome true\r\n",
       "skinparam wrapWidth 300\r\n",
       "hide circle\r\n",
       " \r\n",
       "package \"Requirements_Definition\" as E1  [[psysml:e548bb99-db4e-4fd9-851f-b3e54a205fd3 ]]  {\r\n",
       "comp def \"VehicleMaxSpeed\" as E2  <<(T,blue) requirement  def>> [[psysml:7595f945-cf92-4a42-8008-9dd5273735f0 ]] {\r\n",
       "##//doc//##\r\n",
       "The actual speed of the vehicle shall be less than the maximun speed.\r\n",
       "- -\r\n",
       "##//attributes//##\r\n",
       "maxSpeed: SpeedUnit\r\n",
       "}\r\n",
       "comp usage \"vehicle\" as E3 <<subject>>[[psysml:b5ca7772-b108-4821-b34d-9558cade0aa1 ]] {\r\n",
       "##//attributes//##\r\n",
       "^actualSpeed: SpeedUnit\r\n",
       "}\r\n",
       "comp usage \"^driver  \" as E4  <<(T,blue) item>> [[psysml:f4735f64-c801-42cf-abef-dbb74d44c414 ]] {\r\n",
       "}\r\n",
       "comp usage \"^engine  \" as E5  <<(T,blue) part>> [[psysml:c8ae15b1-c4a1-402f-837c-a126dd46f560 ]] {\r\n",
       "}\r\n",
       "comp usage \"batmobileSpecification  \" as E6  <<(T,blue) requirement>> [[psysml:88ab5370-7896-4f27-8751-bfd67c4f29ca ]] {\r\n",
       "}\r\n",
       "comp usage \"~<REQ42> batmobileMaxSpeed: VehicleMaxSpeed  \" as E7  <<(T,blue) requirement>> [[psysml:602d6a70-f278-4812-991c-98496d3aac69 ]] {\r\n",
       "##//references//##\r\n",
       "maxSpeed <U+003D> 230 [SI::<U+0027>km<U+002F>h<U+0027>]\\n//:>>VehicleMaxSpeed::maxSpeed// \r\n",
       "- -\r\n",
       "##//subject//##\r\n",
       "vehicle\r\n",
       "}\r\n",
       "comp usage \"~<REQ43> batmobileAcceleration  \" as E9  <<(T,blue) requirement>> [[psysml:36b45827-3aab-429d-ac92-7624097e69b7 ]] {\r\n",
       "}\r\n",
       "note as E8\r\n",
       "[[psysml:50cc3169-ea16-48f0-b5ac-10aa006413a3 @]]The actual speed of the vehicle shall be less than the maximun speed.\r\n",
       "end note \r\n",
       "}\r\n",
       "E2 o- - E3 [[psysml:5865ff62-6217-42ec-a3f4-d1860d6c7c77 ]] \r\n",
       "E3 *- - E4 [[psysml:281d48d7-8f56-4544-85b1-5a5bfdaaff2c ]] \r\n",
       "E3 *- - E5 [[psysml:eab3578a-c573-4023-87ea-9d58ba95d7c2 ]] \r\n",
       "E6 *- - E7 [[psysml:3121ca91-1227-49f9-bf06-4468506ae10e ]] \r\n",
       "E7 - -:|> E2 [[psysml:3e8c869b-3bae-41c5-8add-c0625b987850 ]] \r\n",
       "E8 .. E2 [[psysml:50cc3169-ea16-48f0-b5ac-10aa006413a3 ]] \r\n",
       "E6 *- - E9 [[psysml:cfe1f01b-9020-4087-bd34-d4e387f15bea ]] \r\n",
       "@enduml\r\n",
       "\n",
       "PlantUML version 1.2022.7(Mon Aug 22 11:01:30 GMT-06:00 2022)\n",
       "(EPL source distribution)\n",
       "Java Runtime: OpenJDK Runtime Environment\n",
       "JVM: OpenJDK 64-Bit Server VM\n",
       "Default Encoding: UTF-8\n",
       "Language: en\n",
       "Country: US\n",
       "--></g></svg>"
      ]
     },
     "execution_count": 852,
     "metadata": {},
     "output_type": "execute_result"
    }
   ],
   "source": [
    "%viz --style=SHOWINHERITED Requirements_Definition"
   ]
  },
  {
   "cell_type": "code",
   "execution_count": 1080,
   "id": "d933dac4-5912-4d65-885a-6dc227798b70",
   "metadata": {},
   "outputs": [
    {
     "data": {
      "text/plain": [
       "Package Definitions (33b5fb58-c4a9-4110-bc89-668067509c8f)\n"
      ]
     },
     "execution_count": 1080,
     "metadata": {},
     "output_type": "execute_result"
    }
   ],
   "source": [
    "package Definitions {\n",
    "    private import Metamodel::*;\n",
    "    item def Hero;\n",
    "    part def Vehicle {\n",
    "        item driver;\n",
    "        part engine;\n",
    "        attribute actualSpeed : SI::SpeedUnit;\n",
    "    }\n",
    "    part def Batmobile specializes Vehicle {\n",
    "        part batmobileEngine : BatmobileEngine redefines engine {\n",
    "            port enginePort : ~PowerIP;\n",
    "        } \n",
    "        part seat[2];\n",
    "        part body;\n",
    "        part wheels[4] : Wheel;\n",
    "        part frontLeftWheel subsets wheels;\n",
    "        part frontRightWheel subsets wheels;\n",
    "        part battery {\n",
    "            port powerPort : PowerIP;\n",
    "            attribute capacity;\n",
    "        }\n",
    "        interface battery2engine : PowerInterface connect \n",
    "            battery.powerPort to batmobileEngine.enginePort;\n",
    "    }\n",
    "    part def BatmobileNG specializes Batmobile {\n",
    "        part bulletProofWheels[4] redefines wheels;\n",
    "    }\n",
    "    part def Wheel {\n",
    "        attribute pressure;\n",
    "        item boundingBox : ShapeItems::Box[1] subsets boundingShapes {\n",
    "            redefines length : ISQ::LengthUnit = 80 [SI::cm];\n",
    "            redefines width : ISQ::LengthUnit = 26 [SI::cm];\n",
    "            redefines height : ISQ::LengthUnit = 80 [SI::cm];\n",
    "        }\n",
    "    }\n",
    "    part def Engine {\n",
    "        perform action rocketBoost {\n",
    "            in cmd : EngineCommand = engineControl.cmd;\n",
    "        }\n",
    "        port engineControl {\n",
    "            in item cmd : EngineCommand;\n",
    "        }\n",
    "    }\n",
    "    part def BatmobileEngine;\n",
    "    item def EngineCommand;\n",
    "    port def PowerIP {\n",
    "        out item power : Power;\n",
    "    }\n",
    "    item def Power {\n",
    "        attribute value;\n",
    "    }\n",
    "    interface def PowerInterface {\n",
    "        end supplierPort : PowerIP;\n",
    "        end consumerPort : ~PowerIP;\n",
    "        flow of Power from supplierPort.power to consumerPort.power;\n",
    "    }\n",
    "    enum def StatusKind {\n",
    "        enum safe;\n",
    "        enum alert;\n",
    "    }\n",
    "}"
   ]
  },
  {
   "cell_type": "code",
   "execution_count": 974,
   "id": "ede36329-aea6-4794-b1fe-32d2124d0a04",
   "metadata": {
    "collapsed": true,
    "jupyter": {
     "outputs_hidden": true
    }
   },
   "outputs": [
    {
     "data": {
      "image/svg+xml": [
       "<?xml version=\"1.0\" encoding=\"UTF-8\" standalone=\"no\"?><svg xmlns=\"http://www.w3.org/2000/svg\" xmlns:xlink=\"http://www.w3.org/1999/xlink\" contentStyleType=\"text/css\" height=\"628px\" preserveAspectRatio=\"none\" style=\"width:1081px;height:628px;background:#FFFFFF;\" version=\"1.1\" viewBox=\"0 0 1081 628\" width=\"1081px\" zoomAndPan=\"magnify\"><defs/><g><!--MD5=[43c9051892ef23e1a46a86907403d788]\n",
       "class E1--><a href=\"psysml:86de5a63-85dd-48fc-96a6-3afee2e9a011\" target=\"_top\" title=\"psysml:86de5a63-85dd-48fc-96a6-3afee2e9a011\" xlink:actuate=\"onRequest\" xlink:href=\"psysml:86de5a63-85dd-48fc-96a6-3afee2e9a011\" xlink:show=\"new\" xlink:title=\"psysml:86de5a63-85dd-48fc-96a6-3afee2e9a011\" xlink:type=\"simple\"><g id=\"elem_E1\"><rect fill=\"#FFFFFF\" height=\"114.575\" id=\"E1\" style=\"stroke:#181818;stroke-width:0.5;\" width=\"267\" x=\"357\" y=\"7\"/><text fill=\"#000000\" font-family=\"sans-serif\" font-size=\"12\" font-style=\"italic\" lengthAdjust=\"spacing\" textLength=\"58\" x=\"461.5\" y=\"24.457\">«part  def»</text><text fill=\"#000000\" font-family=\"sans-serif\" font-size=\"14\" lengthAdjust=\"spacing\" textLength=\"62\" x=\"459.5\" y=\"41.627\">Batmobile</text><line style=\"stroke:#181818;stroke-width:0.5;\" x1=\"358\" x2=\"623\" y1=\"49.7031\" y2=\"49.7031\"/><text fill=\"#000000\" font-family=\"sans-serif\" font-size=\"14\" lengthAdjust=\"spacing\" textLength=\"251\" x=\"363\" y=\"79.2801\">battery2engine: PowerInterface connect</text><text fill=\"#000000\" font-family=\"sans-serif\" font-size=\"14\" lengthAdjust=\"spacing\" textLength=\"128\" x=\"363\" y=\"96.8895\">battery.powerPort to</text><text fill=\"#000000\" font-family=\"sans-serif\" font-size=\"14\" lengthAdjust=\"spacing\" textLength=\"178\" x=\"363\" y=\"114.4988\">batmobileEngine.enginePort</text><text fill=\"#000000\" font-family=\"sans-serif\" font-size=\"14\" font-style=\"italic\" lengthAdjust=\"spacing\" textLength=\"62\" x=\"459.5\" y=\"62.9316\">interfaces</text></g></a><!--MD5=[b4997ac47864f28c2f74865a473b2911]\n",
       "class E2--><a href=\"psysml:fa596ebb-72db-46d4-a16e-57b87d796d85\" target=\"_top\" title=\"psysml:fa596ebb-72db-46d4-a16e-57b87d796d85\" xlink:actuate=\"onRequest\" xlink:href=\"psysml:fa596ebb-72db-46d4-a16e-57b87d796d85\" xlink:show=\"new\" xlink:title=\"psysml:fa596ebb-72db-46d4-a16e-57b87d796d85\" xlink:type=\"simple\"><g id=\"elem_E2\"><rect fill=\"#FFFFFF\" height=\"50.7031\" id=\"E2\" rx=\"10\" ry=\"10\" style=\"stroke:#181818;stroke-width:0.5;\" width=\"119\" x=\"7\" y=\"196\"/><text fill=\"#000000\" font-family=\"sans-serif\" font-size=\"12\" font-style=\"italic\" lengthAdjust=\"spacing\" textLength=\"35\" x=\"49\" y=\"213.457\">«part»</text><text fill=\"#000000\" font-family=\"sans-serif\" font-size=\"14\" lengthAdjust=\"spacing\" textLength=\"105\" x=\"10\" y=\"230.627\">batmobileEngine</text><line style=\"stroke:#181818;stroke-width:0.5;\" x1=\"8\" x2=\"125\" y1=\"238.7031\" y2=\"238.7031\"/></g></a><!--MD5=[09b614a08d8cba4a07c9adeb5e0fee81]\n",
       "class E3--><a href=\"psysml:e8861c17-312f-40c1-a58c-75ba532b484e\" target=\"_top\" title=\"psysml:e8861c17-312f-40c1-a58c-75ba532b484e\" xlink:actuate=\"onRequest\" xlink:href=\"psysml:e8861c17-312f-40c1-a58c-75ba532b484e\" xlink:show=\"new\" xlink:title=\"psysml:e8861c17-312f-40c1-a58c-75ba532b484e\" xlink:type=\"simple\"><g id=\"elem_E3\"><rect fill=\"#FFFFFF\" height=\"50.7031\" id=\"E3\" rx=\"10\" ry=\"10\" style=\"stroke:#181818;stroke-width:0.5;\" width=\"150\" x=\"170.5\" y=\"446\"/><text fill=\"#000000\" font-family=\"sans-serif\" font-size=\"12\" font-style=\"italic\" lengthAdjust=\"spacing\" textLength=\"35\" x=\"228\" y=\"463.457\">«port»</text><text fill=\"#000000\" font-family=\"sans-serif\" font-size=\"14\" lengthAdjust=\"spacing\" textLength=\"136\" x=\"173.5\" y=\"480.627\">enginePort: ~PowerIP</text><line style=\"stroke:#181818;stroke-width:0.5;\" x1=\"171.5\" x2=\"319.5\" y1=\"488.7031\" y2=\"488.7031\"/></g></a><!--MD5=[ebbe1d658d1005bcc118a6aa81145e00]\n",
       "class E4--><a href=\"psysml:9d6648c3-87fe-4899-845c-9e48336b9e98\" target=\"_top\" title=\"psysml:9d6648c3-87fe-4899-845c-9e48336b9e98\" xlink:actuate=\"onRequest\" xlink:href=\"psysml:9d6648c3-87fe-4899-845c-9e48336b9e98\" xlink:show=\"new\" xlink:title=\"psysml:9d6648c3-87fe-4899-845c-9e48336b9e98\" xlink:type=\"simple\"><g id=\"elem_E4\"><rect fill=\"#FFFFFF\" height=\"50.7031\" id=\"E4\" rx=\"10\" ry=\"10\" style=\"stroke:#181818;stroke-width:0.5;\" width=\"57\" x=\"161\" y=\"196\"/><text fill=\"#000000\" font-family=\"sans-serif\" font-size=\"12\" font-style=\"italic\" lengthAdjust=\"spacing\" textLength=\"35\" x=\"172\" y=\"213.457\">«part»</text><text fill=\"#000000\" font-family=\"sans-serif\" font-size=\"14\" lengthAdjust=\"spacing\" textLength=\"43\" x=\"164\" y=\"230.627\">seat[2]</text><line style=\"stroke:#181818;stroke-width:0.5;\" x1=\"162\" x2=\"217\" y1=\"238.7031\" y2=\"238.7031\"/></g></a><!--MD5=[270fce915f116d4de14055a7c1d9a0f3]\n",
       "class E5--><a href=\"psysml:f36f73e6-cf54-41ad-9539-08628c995a82\" target=\"_top\" title=\"psysml:f36f73e6-cf54-41ad-9539-08628c995a82\" xlink:actuate=\"onRequest\" xlink:href=\"psysml:f36f73e6-cf54-41ad-9539-08628c995a82\" xlink:show=\"new\" xlink:title=\"psysml:f36f73e6-cf54-41ad-9539-08628c995a82\" xlink:type=\"simple\"><g id=\"elem_E5\"><rect fill=\"#FFFFFF\" height=\"50.7031\" id=\"E5\" rx=\"10\" ry=\"10\" style=\"stroke:#181818;stroke-width:0.5;\" width=\"45\" x=\"253\" y=\"196\"/><text fill=\"#000000\" font-family=\"sans-serif\" font-size=\"12\" font-style=\"italic\" lengthAdjust=\"spacing\" textLength=\"35\" x=\"258\" y=\"213.457\">«part»</text><text fill=\"#000000\" font-family=\"sans-serif\" font-size=\"14\" lengthAdjust=\"spacing\" textLength=\"31\" x=\"256\" y=\"230.627\">body</text><line style=\"stroke:#181818;stroke-width:0.5;\" x1=\"254\" x2=\"297\" y1=\"238.7031\" y2=\"238.7031\"/></g></a><!--MD5=[60a26617385b1d2d0262a64233df1f8d]\n",
       "class E6--><a href=\"psysml:fb4e4601-ddb1-4cfc-b804-25895ee3fc51\" target=\"_top\" title=\"psysml:fb4e4601-ddb1-4cfc-b804-25895ee3fc51\" xlink:actuate=\"onRequest\" xlink:href=\"psysml:fb4e4601-ddb1-4cfc-b804-25895ee3fc51\" xlink:show=\"new\" xlink:title=\"psysml:fb4e4601-ddb1-4cfc-b804-25895ee3fc51\" xlink:type=\"simple\"><g id=\"elem_E6\"><rect fill=\"#FFFFFF\" height=\"50.7031\" id=\"E6\" rx=\"10\" ry=\"10\" style=\"stroke:#181818;stroke-width:0.5;\" width=\"121\" x=\"799\" y=\"321\"/><text fill=\"#000000\" font-family=\"sans-serif\" font-size=\"12\" font-style=\"italic\" lengthAdjust=\"spacing\" textLength=\"35\" x=\"842\" y=\"338.457\">«part»</text><text fill=\"#000000\" font-family=\"sans-serif\" font-size=\"14\" lengthAdjust=\"spacing\" textLength=\"107\" x=\"802\" y=\"355.627\">wheels: Wheel[4]</text><line style=\"stroke:#181818;stroke-width:0.5;\" x1=\"800\" x2=\"919\" y1=\"363.7031\" y2=\"363.7031\"/></g></a><!--MD5=[2156ba9850f5573cc1fc38a6a4b2f02b]\n",
       "class E7--><a href=\"psysml:26fea9a0-cf59-4dbb-813e-42b1ef2c5cfd\" target=\"_top\" title=\"psysml:26fea9a0-cf59-4dbb-813e-42b1ef2c5cfd\" xlink:actuate=\"onRequest\" xlink:href=\"psysml:26fea9a0-cf59-4dbb-813e-42b1ef2c5cfd\" xlink:show=\"new\" xlink:title=\"psysml:26fea9a0-cf59-4dbb-813e-42b1ef2c5cfd\" xlink:type=\"simple\"><g id=\"elem_E7\"><rect fill=\"#FFFFFF\" height=\"50.7031\" id=\"E7\" rx=\"10\" ry=\"10\" style=\"stroke:#181818;stroke-width:0.5;\" width=\"162\" x=\"912.5\" y=\"196\"/><text fill=\"#000000\" font-family=\"sans-serif\" font-size=\"12\" font-style=\"italic\" lengthAdjust=\"spacing\" textLength=\"35\" x=\"976\" y=\"213.457\">«part»</text><text fill=\"#000000\" font-family=\"sans-serif\" font-size=\"14\" lengthAdjust=\"spacing\" textLength=\"152\" x=\"915.5\" y=\"230.627\">frontLeftWheel :&gt;wheels</text><line style=\"stroke:#181818;stroke-width:0.5;\" x1=\"913.5\" x2=\"1073.5\" y1=\"238.7031\" y2=\"238.7031\"/></g></a><!--MD5=[b9389687b975829384b498ac4b7476b2]\n",
       "class E8--><a href=\"psysml:cf6c1e60-926f-471d-bc6a-ef21d989e40c\" target=\"_top\" title=\"psysml:cf6c1e60-926f-471d-bc6a-ef21d989e40c\" xlink:actuate=\"onRequest\" xlink:href=\"psysml:cf6c1e60-926f-471d-bc6a-ef21d989e40c\" xlink:show=\"new\" xlink:title=\"psysml:cf6c1e60-926f-471d-bc6a-ef21d989e40c\" xlink:type=\"simple\"><g id=\"elem_E8\"><rect fill=\"#FFFFFF\" height=\"50.7031\" id=\"E8\" rx=\"10\" ry=\"10\" style=\"stroke:#181818;stroke-width:0.5;\" width=\"171\" x=\"635\" y=\"196\"/><text fill=\"#000000\" font-family=\"sans-serif\" font-size=\"12\" font-style=\"italic\" lengthAdjust=\"spacing\" textLength=\"35\" x=\"703\" y=\"213.457\">«part»</text><text fill=\"#000000\" font-family=\"sans-serif\" font-size=\"14\" lengthAdjust=\"spacing\" textLength=\"161\" x=\"638\" y=\"230.627\">frontRightWheel :&gt;wheels</text><line style=\"stroke:#181818;stroke-width:0.5;\" x1=\"636\" x2=\"805\" y1=\"238.7031\" y2=\"238.7031\"/></g></a><!--MD5=[fd4143e9d270a159db93a4ea2a975926]\n",
       "class E9--><a href=\"psysml:161d6600-eefd-4626-bb1f-17fc7e94cbae\" target=\"_top\" title=\"psysml:161d6600-eefd-4626-bb1f-17fc7e94cbae\" xlink:actuate=\"onRequest\" xlink:href=\"psysml:161d6600-eefd-4626-bb1f-17fc7e94cbae\" xlink:show=\"new\" xlink:title=\"psysml:161d6600-eefd-4626-bb1f-17fc7e94cbae\" xlink:type=\"simple\"><g id=\"elem_E9\"><rect fill=\"#FFFFFF\" height=\"79.3563\" id=\"E9\" rx=\"10\" ry=\"10\" style=\"stroke:#181818;stroke-width:0.5;\" width=\"67\" x=\"533\" y=\"182\"/><text fill=\"#000000\" font-family=\"sans-serif\" font-size=\"12\" font-style=\"italic\" lengthAdjust=\"spacing\" textLength=\"35\" x=\"549\" y=\"199.457\">«part»</text><text fill=\"#000000\" font-family=\"sans-serif\" font-size=\"14\" lengthAdjust=\"spacing\" textLength=\"44\" x=\"540.5\" y=\"216.627\">battery</text><line style=\"stroke:#181818;stroke-width:0.5;\" x1=\"534\" x2=\"599\" y1=\"224.7031\" y2=\"224.7031\"/><text fill=\"#000000\" font-family=\"sans-serif\" font-size=\"14\" lengthAdjust=\"spacing\" textLength=\"52\" x=\"539\" y=\"254.2801\">capacity</text><text fill=\"#000000\" font-family=\"sans-serif\" font-size=\"14\" font-style=\"italic\" lengthAdjust=\"spacing\" textLength=\"59\" x=\"537\" y=\"237.9316\">attributes</text></g></a><!--MD5=[96f4274e9e20536e775497830990834d]\n",
       "class E10--><a href=\"psysml:e3488f91-e023-49dc-8273-dd81e024a8bd\" target=\"_top\" title=\"psysml:e3488f91-e023-49dc-8273-dd81e024a8bd\" xlink:actuate=\"onRequest\" xlink:href=\"psysml:e3488f91-e023-49dc-8273-dd81e024a8bd\" xlink:show=\"new\" xlink:title=\"psysml:e3488f91-e023-49dc-8273-dd81e024a8bd\" xlink:type=\"simple\"><g id=\"elem_E10\"><rect fill=\"#FFFFFF\" height=\"50.7031\" id=\"E10\" rx=\"10\" ry=\"10\" style=\"stroke:#181818;stroke-width:0.5;\" width=\"137\" x=\"487\" y=\"321\"/><text fill=\"#000000\" font-family=\"sans-serif\" font-size=\"12\" font-style=\"italic\" lengthAdjust=\"spacing\" textLength=\"35\" x=\"538\" y=\"338.457\">«port»</text><text fill=\"#000000\" font-family=\"sans-serif\" font-size=\"14\" lengthAdjust=\"spacing\" textLength=\"123\" x=\"490\" y=\"355.627\">powerPort: PowerIP</text><line style=\"stroke:#181818;stroke-width:0.5;\" x1=\"488\" x2=\"623\" y1=\"363.7031\" y2=\"363.7031\"/></g></a><!--MD5=[1dd1bfd58a279cf63c5f349dbc8fc6a1]\n",
       "class E11--><a href=\"psysml:365cd67b-b8e6-4ee9-a5cb-4cc093b95b3d\" target=\"_top\" title=\"psysml:365cd67b-b8e6-4ee9-a5cb-4cc093b95b3d\" xlink:actuate=\"onRequest\" xlink:href=\"psysml:365cd67b-b8e6-4ee9-a5cb-4cc093b95b3d\" xlink:show=\"new\" xlink:title=\"psysml:365cd67b-b8e6-4ee9-a5cb-4cc093b95b3d\" xlink:type=\"simple\"><g id=\"elem_E11\"><rect fill=\"#FFFFFF\" height=\"79.3563\" id=\"E11\" style=\"stroke:#181818;stroke-width:0.5;\" width=\"164\" x=\"333.5\" y=\"182\"/><text fill=\"#000000\" font-family=\"sans-serif\" font-size=\"12\" font-style=\"italic\" lengthAdjust=\"spacing\" textLength=\"58\" x=\"386.5\" y=\"199.457\">«part  def»</text><text fill=\"#000000\" font-family=\"sans-serif\" font-size=\"14\" lengthAdjust=\"spacing\" textLength=\"120\" x=\"355.5\" y=\"216.627\">Definitions::Vehicle</text><line style=\"stroke:#181818;stroke-width:0.5;\" x1=\"334.5\" x2=\"496.5\" y1=\"224.7031\" y2=\"224.7031\"/><text fill=\"#000000\" font-family=\"sans-serif\" font-size=\"14\" lengthAdjust=\"spacing\" textLength=\"152\" x=\"339.5\" y=\"254.2801\">actualSpeed: SpeedUnit</text><text fill=\"#000000\" font-family=\"sans-serif\" font-size=\"14\" font-style=\"italic\" lengthAdjust=\"spacing\" textLength=\"59\" x=\"386\" y=\"237.9316\">attributes</text></g></a><!--MD5=[49a0ec8f00dab7302a31f22d0f0fe584]\n",
       "class E12--><a href=\"psysml:571d92b8-609a-4419-bc6f-9a4f7b025997\" target=\"_top\" title=\"psysml:571d92b8-609a-4419-bc6f-9a4f7b025997\" xlink:actuate=\"onRequest\" xlink:href=\"psysml:571d92b8-609a-4419-bc6f-9a4f7b025997\" xlink:show=\"new\" xlink:title=\"psysml:571d92b8-609a-4419-bc6f-9a4f7b025997\" xlink:type=\"simple\"><g id=\"elem_E12\"><rect fill=\"#FFFFFF\" height=\"50.7031\" id=\"E12\" rx=\"10\" ry=\"10\" style=\"stroke:#181818;stroke-width:0.5;\" width=\"50\" x=\"390.5\" y=\"321\"/><text fill=\"#000000\" font-family=\"sans-serif\" font-size=\"12\" font-style=\"italic\" lengthAdjust=\"spacing\" textLength=\"38\" x=\"396.5\" y=\"338.457\">«item»</text><text fill=\"#000000\" font-family=\"sans-serif\" font-size=\"14\" lengthAdjust=\"spacing\" textLength=\"36\" x=\"393.5\" y=\"355.627\">driver</text><line style=\"stroke:#181818;stroke-width:0.5;\" x1=\"391.5\" x2=\"439.5\" y1=\"363.7031\" y2=\"363.7031\"/></g></a><!--MD5=[ee3c913d1a06f366521f9ef512b67efe]\n",
       "class E13--><a href=\"psysml:81a3ef4d-0d23-4fa3-bb46-0875c974f77e\" target=\"_top\" title=\"psysml:81a3ef4d-0d23-4fa3-bb46-0875c974f77e\" xlink:actuate=\"onRequest\" xlink:href=\"psysml:81a3ef4d-0d23-4fa3-bb46-0875c974f77e\" xlink:show=\"new\" xlink:title=\"psysml:81a3ef4d-0d23-4fa3-bb46-0875c974f77e\" xlink:type=\"simple\"><g id=\"elem_E13\"><rect fill=\"#FFFFFF\" height=\"50.7031\" id=\"E13\" rx=\"10\" ry=\"10\" style=\"stroke:#181818;stroke-width:0.5;\" width=\"57\" x=\"254\" y=\"321\"/><text fill=\"#000000\" font-family=\"sans-serif\" font-size=\"12\" font-style=\"italic\" lengthAdjust=\"spacing\" textLength=\"35\" x=\"265\" y=\"338.457\">«part»</text><text fill=\"#000000\" font-family=\"sans-serif\" font-size=\"14\" lengthAdjust=\"spacing\" textLength=\"43\" x=\"257\" y=\"355.627\">engine</text><line style=\"stroke:#181818;stroke-width:0.5;\" x1=\"255\" x2=\"310\" y1=\"363.7031\" y2=\"363.7031\"/></g></a><!--MD5=[bee11217b2f71d958a27249dc326068c]\n",
       "class E14--><a href=\"psysml:6024d56c-ced4-4148-a31e-f817df926948\" target=\"_top\" title=\"psysml:6024d56c-ced4-4148-a31e-f817df926948\" xlink:actuate=\"onRequest\" xlink:href=\"psysml:6024d56c-ced4-4148-a31e-f817df926948\" xlink:show=\"new\" xlink:title=\"psysml:6024d56c-ced4-4148-a31e-f817df926948\" xlink:type=\"simple\"><g id=\"elem_E14\"><rect fill=\"#FFFFFF\" height=\"79.3563\" id=\"E14\" style=\"stroke:#181818;stroke-width:0.5;\" width=\"120\" x=\"799.5\" y=\"432\"/><text fill=\"#000000\" font-family=\"sans-serif\" font-size=\"12\" font-style=\"italic\" lengthAdjust=\"spacing\" textLength=\"58\" x=\"830.5\" y=\"449.457\">«part  def»</text><text fill=\"#000000\" font-family=\"sans-serif\" font-size=\"14\" lengthAdjust=\"spacing\" textLength=\"114\" x=\"802.5\" y=\"466.627\">Definitions::Wheel</text><line style=\"stroke:#181818;stroke-width:0.5;\" x1=\"800.5\" x2=\"918.5\" y1=\"474.7031\" y2=\"474.7031\"/><text fill=\"#000000\" font-family=\"sans-serif\" font-size=\"14\" lengthAdjust=\"spacing\" textLength=\"56\" x=\"805.5\" y=\"504.2801\">pressure</text><text fill=\"#000000\" font-family=\"sans-serif\" font-size=\"14\" font-style=\"italic\" lengthAdjust=\"spacing\" textLength=\"59\" x=\"830\" y=\"487.9316\">attributes</text></g></a><!--MD5=[0c48fb7552dae8cbbef69381101a84c8]\n",
       "class E15--><a href=\"psysml:938eb91a-2f6c-41c5-9344-583b97dbd1b3\" target=\"_top\" title=\"psysml:938eb91a-2f6c-41c5-9344-583b97dbd1b3\" xlink:actuate=\"onRequest\" xlink:href=\"psysml:938eb91a-2f6c-41c5-9344-583b97dbd1b3\" xlink:show=\"new\" xlink:title=\"psysml:938eb91a-2f6c-41c5-9344-583b97dbd1b3\" xlink:type=\"simple\"><g id=\"elem_E15\"><rect fill=\"#FFFFFF\" height=\"50.7031\" id=\"E15\" rx=\"10\" ry=\"10\" style=\"stroke:#181818;stroke-width:0.5;\" width=\"395\" x=\"662\" y=\"571\"/><text fill=\"#000000\" font-family=\"sans-serif\" font-size=\"12\" font-style=\"italic\" lengthAdjust=\"spacing\" textLength=\"38\" x=\"840.5\" y=\"588.457\">«item»</text><text fill=\"#000000\" font-family=\"sans-serif\" font-size=\"14\" lengthAdjust=\"spacing\" textLength=\"385\" x=\"665\" y=\"605.627\">boundingBox: RectangularCuboid[1] :&gt;Item::boundingShapes</text><line style=\"stroke:#181818;stroke-width:0.5;\" x1=\"663\" x2=\"1056\" y1=\"613.7031\" y2=\"613.7031\"/></g></a><!--MD5=[35f0587eaee8d5bb9a02e25b63afc23b]\n",
       "class E16--><a href=\"psysml:25b9a9de-c428-49d9-bbdf-355c5d10ff82\" target=\"_top\" title=\"psysml:25b9a9de-c428-49d9-bbdf-355c5d10ff82\" xlink:actuate=\"onRequest\" xlink:href=\"psysml:25b9a9de-c428-49d9-bbdf-355c5d10ff82\" xlink:show=\"new\" xlink:title=\"psysml:25b9a9de-c428-49d9-bbdf-355c5d10ff82\" xlink:type=\"simple\"><g id=\"elem_E16\"><rect fill=\"#FFFFFF\" height=\"50.7031\" id=\"E16\" style=\"stroke:#181818;stroke-width:0.5;\" width=\"131\" x=\"490\" y=\"446\"/><text fill=\"#000000\" font-family=\"sans-serif\" font-size=\"12\" font-style=\"italic\" lengthAdjust=\"spacing\" textLength=\"58\" x=\"526.5\" y=\"463.457\">«port  def»</text><text fill=\"#000000\" font-family=\"sans-serif\" font-size=\"14\" lengthAdjust=\"spacing\" textLength=\"125\" x=\"493\" y=\"480.627\">Definitions::PowerIP</text><line style=\"stroke:#181818;stroke-width:0.5;\" x1=\"491\" x2=\"620\" y1=\"488.7031\" y2=\"488.7031\"/></g></a><!--MD5=[60e55a4a9b2f0dc0a36787c5a2095786]\n",
       "class E17--><a href=\"psysml:9de02075-76fe-49ab-95d5-5204838bd8b8\" target=\"_top\" title=\"psysml:9de02075-76fe-49ab-95d5-5204838bd8b8\" xlink:actuate=\"onRequest\" xlink:href=\"psysml:9de02075-76fe-49ab-95d5-5204838bd8b8\" xlink:show=\"new\" xlink:title=\"psysml:9de02075-76fe-49ab-95d5-5204838bd8b8\" xlink:type=\"simple\"><g id=\"elem_E17\"><rect fill=\"#FFFFFF\" height=\"50.7031\" id=\"E17\" rx=\"10\" ry=\"10\" style=\"stroke:#181818;stroke-width:0.5;\" width=\"99\" x=\"506\" y=\"571\"/><text fill=\"#000000\" font-family=\"sans-serif\" font-size=\"12\" font-style=\"italic\" lengthAdjust=\"spacing\" textLength=\"38\" x=\"536.5\" y=\"588.457\">«item»</text><text fill=\"#000000\" font-family=\"sans-serif\" font-size=\"14\" lengthAdjust=\"spacing\" textLength=\"85\" x=\"509\" y=\"605.627\">power: Power</text><line style=\"stroke:#181818;stroke-width:0.5;\" x1=\"507\" x2=\"604\" y1=\"613.7031\" y2=\"613.7031\"/></g></a><!--MD5=[a523cb2a0b79ecf9065ad8783f96c320]\n",
       "reverse link E1 to E2--><g id=\"link_E1_E2\"><a href=\"psysml:36bbb09c-eb66-4136-9dcd-0ac0c06c8069\" target=\"_top\" title=\"psysml:36bbb09c-eb66-4136-9dcd-0ac0c06c8069\" xlink:actuate=\"onRequest\" xlink:href=\"psysml:36bbb09c-eb66-4136-9dcd-0ac0c06c8069\" xlink:show=\"new\" xlink:title=\"psysml:36bbb09c-eb66-4136-9dcd-0ac0c06c8069\" xlink:type=\"simple\"><path d=\"M343.91,109.7 C281.41,129.82 208.15,155.14 143.5,182 C133.56,186.13 123.12,190.98 113.25,195.82 \" fill=\"none\" id=\"E1-backto-E2\" style=\"stroke:#181818;stroke-width:1.0;\"/><polygon fill=\"#181818\" points=\"356.66,105.61,349.7252,103.633,345.2331,109.274,352.1679,111.251,356.66,105.61\" style=\"stroke:#181818;stroke-width:1.0;\"/></a></g><!--MD5=[209b3feb70ccb6233bfe1053d122c12c]\n",
       "reverse link E2 to E3--><g id=\"link_E2_E3\"><a href=\"psysml:bb9ed9e9-689f-4882-8b31-24ed6806f418\" target=\"_top\" title=\"psysml:bb9ed9e9-689f-4882-8b31-24ed6806f418\" xlink:actuate=\"onRequest\" xlink:href=\"psysml:bb9ed9e9-689f-4882-8b31-24ed6806f418\" xlink:show=\"new\" xlink:title=\"psysml:bb9ed9e9-689f-4882-8b31-24ed6806f418\" xlink:type=\"simple\"><path d=\"M92.13,258.01 C128.96,309.03 195.91,401.79 227.75,445.91 \" fill=\"none\" id=\"E2-backto-E3\" style=\"stroke:#181818;stroke-width:1.0;\"/><polygon fill=\"none\" points=\"84.32,247.19,84.5902,254.396,91.3459,256.9182,91.0757,249.7121,84.32,247.19\" style=\"stroke:#181818;stroke-width:1.0;\"/></a></g><!--MD5=[f2c5c03aa1e8c0ba21c10a05e6444b8e]\n",
       "reverse link E1 to E4--><g id=\"link_E1_E4\"><a href=\"psysml:f9d8bb15-d596-44e7-bd14-fab0cfdb8094\" target=\"_top\" title=\"psysml:f9d8bb15-d596-44e7-bd14-fab0cfdb8094\" xlink:actuate=\"onRequest\" xlink:href=\"psysml:f9d8bb15-d596-44e7-bd14-fab0cfdb8094\" xlink:show=\"new\" xlink:title=\"psysml:f9d8bb15-d596-44e7-bd14-fab0cfdb8094\" xlink:type=\"simple\"><path d=\"M345.07,123.8 C308.29,140.73 269.58,160.5 235.5,182 C229.16,186 222.74,190.8 216.8,195.62 \" fill=\"none\" id=\"E1-backto-E4\" style=\"stroke:#181818;stroke-width:1.0;\"/><polygon fill=\"#181818\" points=\"356.93,118.41,349.8119,117.2559,346.0088,123.3826,353.1269,124.5367,356.93,118.41\" style=\"stroke:#181818;stroke-width:1.0;\"/></a></g><!--MD5=[33238bef88d6431a141d8bc8fb12bca0]\n",
       "reverse link E1 to E5--><g id=\"link_E1_E5\"><a href=\"psysml:548f3740-64c2-4838-94c7-427067fedd46\" target=\"_top\" title=\"psysml:548f3740-64c2-4838-94c7-427067fedd46\" xlink:actuate=\"onRequest\" xlink:href=\"psysml:548f3740-64c2-4838-94c7-427067fedd46\" xlink:show=\"new\" xlink:title=\"psysml:548f3740-64c2-4838-94c7-427067fedd46\" xlink:type=\"simple\"><path d=\"M387.77,129.45 C363.47,145.77 338.08,163.86 315.5,182 C309.64,186.71 303.64,192.12 298.12,197.37 \" fill=\"none\" id=\"E1-backto-E5\" style=\"stroke:#181818;stroke-width:1.0;\"/><polygon fill=\"#181818\" points=\"398.84,122.08,391.6289,122.0822,388.8574,128.7394,396.0685,128.7372,398.84,122.08\" style=\"stroke:#181818;stroke-width:1.0;\"/></a></g><!--MD5=[aca2ef284c2b1b90e17e73bf3f292c07]\n",
       "reverse link E1 to E6--><g id=\"link_E1_E6\"><a href=\"psysml:61ef479c-b712-42c3-bac7-718502401cbe\" target=\"_top\" title=\"psysml:61ef479c-b712-42c3-bac7-718502401cbe\" xlink:actuate=\"onRequest\" xlink:href=\"psysml:61ef479c-b712-42c3-bac7-718502401cbe\" xlink:show=\"new\" xlink:title=\"psysml:61ef479c-b712-42c3-bac7-718502401cbe\" xlink:type=\"simple\"><path d=\"M637.23,84.03 C702.96,99.7 776.16,128.62 823.5,182 C858.12,221.03 861.89,285.71 861.05,320.88 \" fill=\"none\" id=\"E1-backto-E6\" style=\"stroke:#181818;stroke-width:1.0;\"/><polygon fill=\"#181818\" points=\"624.19,81.07,629.152,86.3024,635.8904,83.7346,630.9284,78.5021,624.19,81.07\" style=\"stroke:#181818;stroke-width:1.0;\"/></a></g><!--MD5=[fc9706a6b2cf8c0e423679d303750d3f]\n",
       "reverse link E1 to E7--><g id=\"link_E1_E7\"><a href=\"psysml:89faaec8-97e6-4e3a-9892-2563e7c824c1\" target=\"_top\" title=\"psysml:89faaec8-97e6-4e3a-9892-2563e7c824c1\" xlink:actuate=\"onRequest\" xlink:href=\"psysml:89faaec8-97e6-4e3a-9892-2563e7c824c1\" xlink:show=\"new\" xlink:title=\"psysml:89faaec8-97e6-4e3a-9892-2563e7c824c1\" xlink:type=\"simple\"><path d=\"M636.87,106.57 C711.58,128.06 803.72,155.39 885.5,182 C898.84,186.34 913.03,191.21 926.58,195.99 \" fill=\"none\" id=\"E1-backto-E7\" style=\"stroke:#181818;stroke-width:1.0;\"/><polygon fill=\"#181818\" points=\"624.09,102.9,628.7545,108.3994,635.6248,106.2088,630.9603,100.7095,624.09,102.9\" style=\"stroke:#181818;stroke-width:1.0;\"/></a></g><!--MD5=[fbb449814971db3a0b8220cf225b9e01]\n",
       "link E7 to E6--><g id=\"link_E7_E6\"><a href=\"psysml:8c9d8bf4-449c-4fa3-b576-66e82e355a1c\" target=\"_top\" title=\"psysml:8c9d8bf4-449c-4fa3-b576-66e82e355a1c\" xlink:actuate=\"onRequest\" xlink:href=\"psysml:8c9d8bf4-449c-4fa3-b576-66e82e355a1c\" xlink:show=\"new\" xlink:title=\"psysml:8c9d8bf4-449c-4fa3-b576-66e82e355a1c\" xlink:type=\"simple\"><path d=\"M966.71,247.1 C947.99,264.27 922.63,287.55 901.28,307.15 \" fill=\"none\" id=\"E7-to-E6\" style=\"stroke:#181818;stroke-width:1.0;\"/><polygon fill=\"none\" points=\"905.72,312.58,886.25,320.95,896.25,302.27,905.72,312.58\" style=\"stroke:#181818;stroke-width:1.0;\"/></a></g><!--MD5=[661cb7e25c535686a73d30316f0ecb18]\n",
       "reverse link E1 to E8--><g id=\"link_E1_E8\"><a href=\"psysml:e9b9654a-eabb-45b1-968d-279ecbc63804\" target=\"_top\" title=\"psysml:e9b9654a-eabb-45b1-968d-279ecbc63804\" xlink:actuate=\"onRequest\" xlink:href=\"psysml:e9b9654a-eabb-45b1-968d-279ecbc63804\" xlink:show=\"new\" xlink:title=\"psysml:e9b9654a-eabb-45b1-968d-279ecbc63804\" xlink:type=\"simple\"><path d=\"M585.65,129.62 C620.26,152.95 657.35,177.95 683.86,195.81 \" fill=\"none\" id=\"E1-backto-E8\" style=\"stroke:#181818;stroke-width:1.0;\"/><polygon fill=\"#181818\" points=\"574.51,122.12,577.251,128.7899,584.462,128.8251,581.721,122.1552,574.51,122.12\" style=\"stroke:#181818;stroke-width:1.0;\"/></a></g><!--MD5=[c5e8897d989ce984f93528998a7150fe]\n",
       "link E8 to E6--><g id=\"link_E8_E6\"><a href=\"psysml:10f710e5-4f5b-4790-a44b-c9efd57ee1cb\" target=\"_top\" title=\"psysml:10f710e5-4f5b-4790-a44b-c9efd57ee1cb\" xlink:actuate=\"onRequest\" xlink:href=\"psysml:10f710e5-4f5b-4790-a44b-c9efd57ee1cb\" xlink:show=\"new\" xlink:title=\"psysml:10f710e5-4f5b-4790-a44b-c9efd57ee1cb\" xlink:type=\"simple\"><path d=\"M748.29,247.1 C767.8,264.36 794.27,287.78 816.49,307.44 \" fill=\"none\" id=\"E8-to-E6\" style=\"stroke:#181818;stroke-width:1.0;\"/><polygon fill=\"none\" points=\"821.41,302.45,831.75,320.95,812.14,312.94,821.41,302.45\" style=\"stroke:#181818;stroke-width:1.0;\"/></a></g><!--MD5=[12b85c4d420790db1e7d6becd0483003]\n",
       "reverse link E1 to E9--><g id=\"link_E1_E9\"><a href=\"psysml:604d27d4-e676-4e76-b13a-ccb81a993617\" target=\"_top\" title=\"psysml:604d27d4-e676-4e76-b13a-ccb81a993617\" xlink:actuate=\"onRequest\" xlink:href=\"psysml:604d27d4-e676-4e76-b13a-ccb81a993617\" xlink:show=\"new\" xlink:title=\"psysml:604d27d4-e676-4e76-b13a-ccb81a993617\" xlink:type=\"simple\"><path d=\"M524.11,134.06 C532.1,150.34 540.34,167.16 547.42,181.58 \" fill=\"none\" id=\"E1-backto-E9\" style=\"stroke:#181818;stroke-width:1.0;\"/><polygon fill=\"#181818\" points=\"518.37,122.34,517.4158,129.4877,523.6467,133.1176,524.6009,125.9699,518.37,122.34\" style=\"stroke:#181818;stroke-width:1.0;\"/></a></g><!--MD5=[23ac544a70576c3e717098101004234c]\n",
       "reverse link E9 to E10--><g id=\"link_E9_E10\"><a href=\"psysml:c09879d3-12ed-4b3a-b281-40e2002efc44\" target=\"_top\" title=\"psysml:c09879d3-12ed-4b3a-b281-40e2002efc44\" xlink:actuate=\"onRequest\" xlink:href=\"psysml:c09879d3-12ed-4b3a-b281-40e2002efc44\" xlink:show=\"new\" xlink:title=\"psysml:c09879d3-12ed-4b3a-b281-40e2002efc44\" xlink:type=\"simple\"><path d=\"M561.86,274.35 C560.42,290.53 558.89,307.62 557.69,320.99 \" fill=\"none\" id=\"E9-backto-E10\" style=\"stroke:#181818;stroke-width:1.0;\"/><polygon fill=\"none\" points=\"563.05,261.08,558.5316,266.7,561.9814,273.0323,566.4998,267.4124,563.05,261.08\" style=\"stroke:#181818;stroke-width:1.0;\"/></a></g><!--MD5=[feeac5eb423634930294aa81f2d25a4c]\n",
       "link E10 to E3--><g id=\"link_E10_E3\"><a href=\"psysml:c1468fdc-3757-4f8a-97e0-9d648c3f7452\" target=\"_top\" title=\"psysml:c1468fdc-3757-4f8a-97e0-9d648c3f7452\" xlink:actuate=\"onRequest\" xlink:href=\"psysml:c1468fdc-3757-4f8a-97e0-9d648c3f7452\" xlink:show=\"new\" xlink:title=\"psysml:c1468fdc-3757-4f8a-97e0-9d648c3f7452\" xlink:type=\"simple\"><path d=\"M493.51,372.1 C439.44,393.55 361.42,424.51 307.38,445.95 \" fill=\"none\" id=\"E10-E3\" style=\"stroke:#181818;stroke-width:3.0;\"/></a></g><!--MD5=[f62b9c2fc30c09cb79d9e7ca1f09ebbe]\n",
       "link E1 to E11--><g id=\"link_E1_E11\"><a href=\"psysml:2dbba6e3-c756-40a0-b0e6-13a9798924bb\" target=\"_top\" title=\"psysml:2dbba6e3-c756-40a0-b0e6-13a9798924bb\" xlink:actuate=\"onRequest\" xlink:href=\"psysml:2dbba6e3-c756-40a0-b0e6-13a9798924bb\" xlink:show=\"new\" xlink:title=\"psysml:2dbba6e3-c756-40a0-b0e6-13a9798924bb\" xlink:type=\"simple\"><path d=\"M463,122.34 C456.52,135.73 449.61,150 443.13,163.4 \" fill=\"none\" id=\"E1-to-E11\" style=\"stroke:#181818;stroke-width:1.0;\"/><polygon fill=\"none\" points=\"449.34,166.63,434.33,181.58,436.74,160.53,449.34,166.63\" style=\"stroke:#181818;stroke-width:1.0;\"/></a></g><!--MD5=[94adabc162ce7e41b39f13be14fbaeb3]\n",
       "reverse link E11 to E12--><g id=\"link_E11_E12\"><a href=\"psysml:40a7c916-764f-4eb4-9e42-8244f438fae7\" target=\"_top\" title=\"psysml:40a7c916-764f-4eb4-9e42-8244f438fae7\" xlink:actuate=\"onRequest\" xlink:href=\"psysml:40a7c916-764f-4eb4-9e42-8244f438fae7\" xlink:show=\"new\" xlink:title=\"psysml:40a7c916-764f-4eb4-9e42-8244f438fae7\" xlink:type=\"simple\"><path d=\"M415.5,274.35 C415.5,290.53 415.5,307.62 415.5,320.99 \" fill=\"none\" id=\"E11-backto-E12\" style=\"stroke:#181818;stroke-width:1.0;\"/><polygon fill=\"#181818\" points=\"415.5,261.08,411.5,267.08,415.5,273.08,419.5,267.08,415.5,261.08\" style=\"stroke:#181818;stroke-width:1.0;\"/></a></g><!--MD5=[6ad312300f998f8ad026c37c13331d05]\n",
       "link E2 to E13--><g id=\"link_E2_E13\"><a href=\"psysml:62923887-21fd-41b3-bc24-e96e685d8b63\" target=\"_top\" title=\"psysml:62923887-21fd-41b3-bc24-e96e685d8b63\" xlink:actuate=\"onRequest\" xlink:href=\"psysml:62923887-21fd-41b3-bc24-e96e685d8b63\" xlink:show=\"new\" xlink:title=\"psysml:62923887-21fd-41b3-bc24-e96e685d8b63\" xlink:type=\"simple\"><path d=\"M109.69,247.1 C146.34,267.97 198.8,297.84 236.28,319.18 \" fill=\"none\" id=\"E2-to-E13\" style=\"stroke:#181818;stroke-width:1.0;\"/><polygon fill=\"#FFFFFF\" points=\"253.86,329.19,233.8866,325.8641,240.8185,313.7007,253.86,329.19\" style=\"stroke:#181818;stroke-width:1.0;\"/><line style=\"stroke:#181818;stroke-width:2.0;\" x1=\"230.5851\" x2=\"237.517\" y1=\"323.9825\" y2=\"311.8191\"/></a></g><!--MD5=[84dd46e4a08f5d46329d1e921cb44fba]\n",
       "reverse link E11 to E13--><g id=\"link_E11_E13\"><a href=\"psysml:fdcf9729-4832-42ec-a20f-b0bf51586a2c\" target=\"_top\" title=\"psysml:fdcf9729-4832-42ec-a20f-b0bf51586a2c\" xlink:actuate=\"onRequest\" xlink:href=\"psysml:fdcf9729-4832-42ec-a20f-b0bf51586a2c\" xlink:show=\"new\" xlink:title=\"psysml:fdcf9729-4832-42ec-a20f-b0bf51586a2c\" xlink:type=\"simple\"><path d=\"M364.13,270.01 C345.3,287.42 324.77,306.41 309,320.99 \" fill=\"none\" id=\"E11-backto-E13\" style=\"stroke:#181818;stroke-width:1.0;\"/><polygon fill=\"#181818\" points=\"373.78,261.08,366.6593,262.2184,364.9715,269.2292,372.0921,268.0908,373.78,261.08\" style=\"stroke:#181818;stroke-width:1.0;\"/></a></g><!--MD5=[afd2c169f81401a7fd7b29ee111bcc77]\n",
       "link E6 to E14--><g id=\"link_E6_E14\"><a href=\"psysml:78cfb474-de36-449d-98b5-a4639a5fc2f0\" target=\"_top\" title=\"psysml:78cfb474-de36-449d-98b5-a4639a5fc2f0\" xlink:actuate=\"onRequest\" xlink:href=\"psysml:78cfb474-de36-449d-98b5-a4639a5fc2f0\" xlink:show=\"new\" xlink:title=\"psysml:78cfb474-de36-449d-98b5-a4639a5fc2f0\" xlink:type=\"simple\"><path d=\"M859.5,372.1 C859.5,383.59 859.5,397.81 859.5,411.83 \" fill=\"none\" id=\"E6-to-E14\" style=\"stroke:#181818;stroke-width:1.0;\"/><polygon fill=\"#FFFFFF\" points=\"859.5,431.9,852.5,412.9,866.5,412.9,859.5,431.9\" style=\"stroke:#181818;stroke-width:1.0;\"/><ellipse cx=\"854.5\" cy=\"407.2\" fill=\"#181818\" rx=\"2\" ry=\"2\" style=\"stroke:#181818;stroke-width:1.0;\"/><ellipse cx=\"864.5\" cy=\"407.2\" fill=\"#181818\" rx=\"2\" ry=\"2\" style=\"stroke:#181818;stroke-width:1.0;\"/></a></g><!--MD5=[17bf29720e4688890742b92d9a67fdf0]\n",
       "reverse link E14 to E15--><g id=\"link_E14_E15\"><a href=\"psysml:952dfdb2-8495-4d9a-8ffc-5a00944a50f3\" target=\"_top\" title=\"psysml:952dfdb2-8495-4d9a-8ffc-5a00944a50f3\" xlink:actuate=\"onRequest\" xlink:href=\"psysml:952dfdb2-8495-4d9a-8ffc-5a00944a50f3\" xlink:show=\"new\" xlink:title=\"psysml:952dfdb2-8495-4d9a-8ffc-5a00944a50f3\" xlink:type=\"simple\"><path d=\"M859.5,524.35 C859.5,540.53 859.5,557.62 859.5,570.99 \" fill=\"none\" id=\"E14-backto-E15\" style=\"stroke:#181818;stroke-width:1.0;\"/><polygon fill=\"#181818\" points=\"859.5,511.08,855.5,517.08,859.5,523.08,863.5,517.08,859.5,511.08\" style=\"stroke:#181818;stroke-width:1.0;\"/></a></g><!--MD5=[410f2bec93cacbef887097f20ac5a745]\n",
       "link E10 to E16--><g id=\"link_E10_E16\"><a href=\"psysml:b188620f-2260-4917-9ee8-2152a0eb99b7\" target=\"_top\" title=\"psysml:b188620f-2260-4917-9ee8-2152a0eb99b7\" xlink:actuate=\"onRequest\" xlink:href=\"psysml:b188620f-2260-4917-9ee8-2152a0eb99b7\" xlink:show=\"new\" xlink:title=\"psysml:b188620f-2260-4917-9ee8-2152a0eb99b7\" xlink:type=\"simple\"><path d=\"M555.5,372.1 C555.5,387.43 555.5,407.62 555.5,425.73 \" fill=\"none\" id=\"E10-to-E16\" style=\"stroke:#181818;stroke-width:1.0;\"/><polygon fill=\"#FFFFFF\" points=\"555.5,445.95,548.5,426.95,562.5,426.95,555.5,445.95\" style=\"stroke:#181818;stroke-width:1.0;\"/><ellipse cx=\"550.5\" cy=\"421.25\" fill=\"#181818\" rx=\"2\" ry=\"2\" style=\"stroke:#181818;stroke-width:1.0;\"/><ellipse cx=\"560.5\" cy=\"421.25\" fill=\"#181818\" rx=\"2\" ry=\"2\" style=\"stroke:#181818;stroke-width:1.0;\"/></a></g><!--MD5=[83b671efae201694a20ab4d5a8adffa0]\n",
       "reverse link E16 to E17--><g id=\"link_E16_E17\"><a href=\"psysml:a20eb574-4ddf-4f6e-9f8d-a3e5b20aa4a3\" target=\"_top\" title=\"psysml:a20eb574-4ddf-4f6e-9f8d-a3e5b20aa4a3\" xlink:actuate=\"onRequest\" xlink:href=\"psysml:a20eb574-4ddf-4f6e-9f8d-a3e5b20aa4a3\" xlink:show=\"new\" xlink:title=\"psysml:a20eb574-4ddf-4f6e-9f8d-a3e5b20aa4a3\" xlink:type=\"simple\"><path d=\"M555.5,510.33 C555.5,530.05 555.5,553.61 555.5,570.95 \" fill=\"none\" id=\"E16-backto-E17\" style=\"stroke:#181818;stroke-width:1.0;\"/><polygon fill=\"none\" points=\"555.5,497.1,551.5,503.1,555.5,509.1,559.5,503.1,555.5,497.1\" style=\"stroke:#181818;stroke-width:1.0;\"/></a></g><!--MD5=[10506c54c9c8cd68eb857810ed5d5fc8]\n",
       "@startuml\r\n",
       "skin sysmlbw\r\n",
       "skinparam monochrome true\r\n",
       "skinparam wrapWidth 300\r\n",
       "hide circle\r\n",
       "top to bottom direction\r\n",
       " \r\n",
       "comp def \"Batmobile\" as E1  <<(T,blue) part  def>> [[psysml:86de5a63-85dd-48fc-96a6-3afee2e9a011 ]] {\r\n",
       "##//interfaces//##\r\n",
       "battery2engine: PowerInterface connect battery.powerPort to batmobileEngine.enginePort\r\n",
       "}\r\n",
       "comp usage \"batmobileEngine  \" as E2  <<(T,blue) part>> [[psysml:fa596ebb-72db-46d4-a16e-57b87d796d85 ]] {\r\n",
       "}\r\n",
       "comp usage \"enginePort: ~PowerIP  \" as E3  <<(T,blue) port>> [[psysml:e8861c17-312f-40c1-a58c-75ba532b484e ]] {\r\n",
       "}\r\n",
       "comp usage \"seat[2]  \" as E4  <<(T,blue) part>> [[psysml:9d6648c3-87fe-4899-845c-9e48336b9e98 ]] {\r\n",
       "}\r\n",
       "comp usage \"body  \" as E5  <<(T,blue) part>> [[psysml:f36f73e6-cf54-41ad-9539-08628c995a82 ]] {\r\n",
       "}\r\n",
       "comp usage \"wheels: Wheel[4]  \" as E6  <<(T,blue) part>> [[psysml:fb4e4601-ddb1-4cfc-b804-25895ee3fc51 ]] {\r\n",
       "}\r\n",
       "comp usage \"frontLeftWheel :>wheels \" as E7  <<(T,blue) part>> [[psysml:26fea9a0-cf59-4dbb-813e-42b1ef2c5cfd ]] {\r\n",
       "}\r\n",
       "comp usage \"frontRightWheel :>wheels \" as E8  <<(T,blue) part>> [[psysml:cf6c1e60-926f-471d-bc6a-ef21d989e40c ]] {\r\n",
       "}\r\n",
       "comp usage \"battery  \" as E9  <<(T,blue) part>> [[psysml:161d6600-eefd-4626-bb1f-17fc7e94cbae ]] {\r\n",
       "##//attributes//##\r\n",
       "capacity\r\n",
       "}\r\n",
       "comp usage \"powerPort: PowerIP  \" as E10  <<(T,blue) port>> [[psysml:e3488f91-e023-49dc-8273-dd81e024a8bd ]] {\r\n",
       "}\r\n",
       "comp def \"Definitions::Vehicle\" as E11  <<(T,blue) part  def>> [[psysml:365cd67b-b8e6-4ee9-a5cb-4cc093b95b3d ]] {\r\n",
       "##//attributes//##\r\n",
       "actualSpeed: SpeedUnit\r\n",
       "}\r\n",
       "comp usage \"driver  \" as E12  <<(T,blue) item>> [[psysml:571d92b8-609a-4419-bc6f-9a4f7b025997 ]] {\r\n",
       "}\r\n",
       "comp usage \"engine  \" as E13  <<(T,blue) part>> [[psysml:81a3ef4d-0d23-4fa3-bb46-0875c974f77e ]] {\r\n",
       "}\r\n",
       "comp def \"Definitions::Wheel\" as E14  <<(T,blue) part  def>> [[psysml:6024d56c-ced4-4148-a31e-f817df926948 ]] {\r\n",
       "##//attributes//##\r\n",
       "pressure\r\n",
       "}\r\n",
       "comp usage \"boundingBox: RectangularCuboid[1] :>Item::boundingShapes \" as E15  <<(T,blue) item>> [[psysml:938eb91a-2f6c-41c5-9344-583b97dbd1b3 ]] {\r\n",
       "}\r\n",
       "comp def \"Definitions::PowerIP\" as E16  <<(T,blue) port  def>> [[psysml:25b9a9de-c428-49d9-bbdf-355c5d10ff82 ]] {\r\n",
       "}\r\n",
       "comp usage \"power: Power  \" as E17  <<(T,blue) item>> [[psysml:9de02075-76fe-49ab-95d5-5204838bd8b8 ]] {\r\n",
       "}\r\n",
       "E1 *- - E2 [[psysml:36bbb09c-eb66-4136-9dcd-0ac0c06c8069 ]] \r\n",
       "E2 o- - E3 [[psysml:bb9ed9e9-689f-4882-8b31-24ed6806f418 ]] \r\n",
       "E1 *- - E4 [[psysml:f9d8bb15-d596-44e7-bd14-fab0cfdb8094 ]] \r\n",
       "E1 *- - E5 [[psysml:548f3740-64c2-4838-94c7-427067fedd46 ]] \r\n",
       "E1 *- - E6 [[psysml:61ef479c-b712-42c3-bac7-718502401cbe ]] \r\n",
       "E1 *- - E7 [[psysml:89faaec8-97e6-4e3a-9892-2563e7c824c1 ]] \r\n",
       "E7 - -|> E6 [[psysml:8c9d8bf4-449c-4fa3-b576-66e82e355a1c ]] \r\n",
       "E1 *- - E8 [[psysml:e9b9654a-eabb-45b1-968d-279ecbc63804 ]] \r\n",
       "E8 - -|> E6 [[psysml:10f710e5-4f5b-4790-a44b-c9efd57ee1cb ]] \r\n",
       "E1 *- - E9 [[psysml:604d27d4-e676-4e76-b13a-ccb81a993617 ]] \r\n",
       "E9 o- - E10 [[psysml:c09879d3-12ed-4b3a-b281-40e2002efc44 ]] \r\n",
       "E10 -[thickness=3]- E3 [[psysml:c1468fdc-3757-4f8a-97e0-9d648c3f7452 ]] \r\n",
       "E1 - -|> E11 [[psysml:2dbba6e3-c756-40a0-b0e6-13a9798924bb ]] \r\n",
       "E11 *- - E12 [[psysml:40a7c916-764f-4eb4-9e42-8244f438fae7 ]] \r\n",
       "E2 - -||> E13 [[psysml:62923887-21fd-41b3-bc24-e96e685d8b63 ]] \r\n",
       "E11 *- - E13 [[psysml:fdcf9729-4832-42ec-a20f-b0bf51586a2c ]] \r\n",
       "E6 - -:|> E14 [[psysml:78cfb474-de36-449d-98b5-a4639a5fc2f0 ]] \r\n",
       "E14 *- - E15 [[psysml:952dfdb2-8495-4d9a-8ffc-5a00944a50f3 ]] \r\n",
       "E10 - -:|> E16 [[psysml:b188620f-2260-4917-9ee8-2152a0eb99b7 ]] \r\n",
       "E16 o- - E17 [[psysml:a20eb574-4ddf-4f6e-9f8d-a3e5b20aa4a3 ]] \r\n",
       "@enduml\r\n",
       "\n",
       "PlantUML version 1.2022.7(Mon Aug 22 11:01:30 GMT-06:00 2022)\n",
       "(EPL source distribution)\n",
       "Java Runtime: OpenJDK Runtime Environment\n",
       "JVM: OpenJDK 64-Bit Server VM\n",
       "Default Encoding: UTF-8\n",
       "Language: en\n",
       "Country: US\n",
       "--></g></svg>"
      ]
     },
     "execution_count": 974,
     "metadata": {},
     "output_type": "execute_result"
    }
   ],
   "source": [
    "%viz --view=TREE --style=TB --style=SHOWIMPORTED Definitions::Batmobile"
   ]
  },
  {
   "cell_type": "code",
   "execution_count": 551,
   "id": "d43a968a-ac67-428b-8939-4cbc74a068a7",
   "metadata": {
    "collapsed": true,
    "jupyter": {
     "outputs_hidden": true
    }
   },
   "outputs": [
    {
     "data": {
      "image/svg+xml": [
       "<?xml version=\"1.0\" encoding=\"UTF-8\" standalone=\"no\"?><svg xmlns=\"http://www.w3.org/2000/svg\" xmlns:xlink=\"http://www.w3.org/1999/xlink\" contentStyleType=\"text/css\" height=\"851px\" preserveAspectRatio=\"none\" style=\"width:1731px;height:851px;background:#FFFFFF;\" version=\"1.1\" viewBox=\"0 0 1731 851\" width=\"1731px\" zoomAndPan=\"magnify\"><defs/><g><!--MD5=[fbc87193dbaf4d95561dea2c320d4a47]\n",
       "cluster E1--><g id=\"cluster_E1\"><a href=\"psysml:842c835e-538a-4605-9984-10a6c92c3831\" target=\"_top\" title=\"psysml:842c835e-538a-4605-9984-10a6c92c3831\" xlink:actuate=\"onRequest\" xlink:href=\"psysml:842c835e-538a-4605-9984-10a6c92c3831\" xlink:show=\"new\" xlink:title=\"psysml:842c835e-538a-4605-9984-10a6c92c3831\" xlink:type=\"simple\"><polygon fill=\"none\" points=\"16,6,98,6,105,29.6094,1714,29.6094,1714,844,16,844,16,6\" style=\"stroke:#000000;stroke-width:1.5;\"/><line style=\"stroke:#000000;stroke-width:1.5;\" x1=\"16\" x2=\"105\" y1=\"29.6094\" y2=\"29.6094\"/><text fill=\"#000000\" font-family=\"sans-serif\" font-size=\"14\" font-weight=\"bold\" lengthAdjust=\"spacing\" textLength=\"76\" x=\"20\" y=\"22.5332\">Definitions</text></a></g><!--MD5=[b4997ac47864f28c2f74865a473b2911]\n",
       "class E2--><a href=\"psysml:e31b8ba4-9798-4a93-980b-d9eee28ba0f6\" target=\"_top\" title=\"psysml:e31b8ba4-9798-4a93-980b-d9eee28ba0f6\" xlink:actuate=\"onRequest\" xlink:href=\"psysml:e31b8ba4-9798-4a93-980b-d9eee28ba0f6\" xlink:show=\"new\" xlink:title=\"psysml:e31b8ba4-9798-4a93-980b-d9eee28ba0f6\" xlink:type=\"simple\"><g id=\"elem_E2\"><rect fill=\"#FFFFFF\" height=\"50.7031\" id=\"E2\" style=\"stroke:#181818;stroke-width:0.5;\" width=\"63\" x=\"44.5\" y=\"96.5\"/><text fill=\"#000000\" font-family=\"sans-serif\" font-size=\"12\" font-style=\"italic\" lengthAdjust=\"spacing\" textLength=\"61\" x=\"45.5\" y=\"113.957\">«item  def»</text><text fill=\"#000000\" font-family=\"sans-serif\" font-size=\"14\" lengthAdjust=\"spacing\" textLength=\"30\" x=\"61\" y=\"131.127\">Hero</text><line style=\"stroke:#181818;stroke-width:0.5;\" x1=\"45.5\" x2=\"106.5\" y1=\"139.2031\" y2=\"139.2031\"/></g></a><!--MD5=[09b614a08d8cba4a07c9adeb5e0fee81]\n",
       "class E3--><a href=\"psysml:4aa5f7ac-4c63-4489-8144-06877107bc63\" target=\"_top\" title=\"psysml:4aa5f7ac-4c63-4489-8144-06877107bc63\" xlink:actuate=\"onRequest\" xlink:href=\"psysml:4aa5f7ac-4c63-4489-8144-06877107bc63\" xlink:show=\"new\" xlink:title=\"psysml:4aa5f7ac-4c63-4489-8144-06877107bc63\" xlink:type=\"simple\"><g id=\"elem_E3\"><rect fill=\"#FFFFFF\" height=\"79.3563\" id=\"E3\" style=\"stroke:#181818;stroke-width:0.5;\" width=\"164\" x=\"510.5\" y=\"128.5\"/><text fill=\"#000000\" font-family=\"sans-serif\" font-size=\"12\" font-style=\"italic\" lengthAdjust=\"spacing\" textLength=\"58\" x=\"563.5\" y=\"145.957\">«part  def»</text><text fill=\"#000000\" font-family=\"sans-serif\" font-size=\"14\" lengthAdjust=\"spacing\" textLength=\"46\" x=\"569.5\" y=\"163.127\">Vehicle</text><line style=\"stroke:#181818;stroke-width:0.5;\" x1=\"511.5\" x2=\"673.5\" y1=\"171.2031\" y2=\"171.2031\"/><text fill=\"#000000\" font-family=\"sans-serif\" font-size=\"14\" lengthAdjust=\"spacing\" textLength=\"152\" x=\"516.5\" y=\"200.7801\">actualSpeed: SpeedUnit</text><text fill=\"#000000\" font-family=\"sans-serif\" font-size=\"14\" font-style=\"italic\" lengthAdjust=\"spacing\" textLength=\"59\" x=\"563\" y=\"184.4316\">attributes</text></g></a><!--MD5=[ebbe1d658d1005bcc118a6aa81145e00]\n",
       "class E4--><a href=\"psysml:f5dbe14f-e71e-4f8d-b24a-8ec55f5012ea\" target=\"_top\" title=\"psysml:f5dbe14f-e71e-4f8d-b24a-8ec55f5012ea\" xlink:actuate=\"onRequest\" xlink:href=\"psysml:f5dbe14f-e71e-4f8d-b24a-8ec55f5012ea\" xlink:show=\"new\" xlink:title=\"psysml:f5dbe14f-e71e-4f8d-b24a-8ec55f5012ea\" xlink:type=\"simple\"><g id=\"elem_E4\"><rect fill=\"#FFFFFF\" height=\"50.7031\" id=\"E4\" rx=\"10\" ry=\"10\" style=\"stroke:#181818;stroke-width:0.5;\" width=\"50\" x=\"787.5\" y=\"190.5\"/><text fill=\"#000000\" font-family=\"sans-serif\" font-size=\"12\" font-style=\"italic\" lengthAdjust=\"spacing\" textLength=\"38\" x=\"793.5\" y=\"207.957\">«item»</text><text fill=\"#000000\" font-family=\"sans-serif\" font-size=\"14\" lengthAdjust=\"spacing\" textLength=\"36\" x=\"790.5\" y=\"225.127\">driver</text><line style=\"stroke:#181818;stroke-width:0.5;\" x1=\"788.5\" x2=\"836.5\" y1=\"233.2031\" y2=\"233.2031\"/></g></a><!--MD5=[270fce915f116d4de14055a7c1d9a0f3]\n",
       "class E5--><a href=\"psysml:680e8c07-b50d-4248-8c4d-9ee9f3f66c6f\" target=\"_top\" title=\"psysml:680e8c07-b50d-4248-8c4d-9ee9f3f66c6f\" xlink:actuate=\"onRequest\" xlink:href=\"psysml:680e8c07-b50d-4248-8c4d-9ee9f3f66c6f\" xlink:show=\"new\" xlink:title=\"psysml:680e8c07-b50d-4248-8c4d-9ee9f3f66c6f\" xlink:type=\"simple\"><g id=\"elem_E5\"><rect fill=\"#FFFFFF\" height=\"50.7031\" id=\"E5\" rx=\"10\" ry=\"10\" style=\"stroke:#181818;stroke-width:0.5;\" width=\"57\" x=\"784\" y=\"104.5\"/><text fill=\"#000000\" font-family=\"sans-serif\" font-size=\"12\" font-style=\"italic\" lengthAdjust=\"spacing\" textLength=\"35\" x=\"795\" y=\"121.957\">«part»</text><text fill=\"#000000\" font-family=\"sans-serif\" font-size=\"14\" lengthAdjust=\"spacing\" textLength=\"43\" x=\"787\" y=\"139.127\">engine</text><line style=\"stroke:#181818;stroke-width:0.5;\" x1=\"785\" x2=\"840\" y1=\"147.2031\" y2=\"147.2031\"/></g></a><!--MD5=[60a26617385b1d2d0262a64233df1f8d]\n",
       "class E6--><a href=\"psysml:deddc36a-888b-4c3e-a4b4-2e0e96b24885\" target=\"_top\" title=\"psysml:deddc36a-888b-4c3e-a4b4-2e0e96b24885\" xlink:actuate=\"onRequest\" xlink:href=\"psysml:deddc36a-888b-4c3e-a4b4-2e0e96b24885\" xlink:show=\"new\" xlink:title=\"psysml:deddc36a-888b-4c3e-a4b4-2e0e96b24885\" xlink:type=\"simple\"><g id=\"elem_E6\"><rect fill=\"#FFFFFF\" height=\"114.575\" id=\"E6\" style=\"stroke:#181818;stroke-width:0.5;\" width=\"267\" x=\"180\" y=\"310.5\"/><text fill=\"#000000\" font-family=\"sans-serif\" font-size=\"12\" font-style=\"italic\" lengthAdjust=\"spacing\" textLength=\"58\" x=\"284.5\" y=\"327.957\">«part  def»</text><text fill=\"#000000\" font-family=\"sans-serif\" font-size=\"14\" lengthAdjust=\"spacing\" textLength=\"62\" x=\"282.5\" y=\"345.127\">Batmobile</text><line style=\"stroke:#181818;stroke-width:0.5;\" x1=\"181\" x2=\"446\" y1=\"353.2031\" y2=\"353.2031\"/><text fill=\"#000000\" font-family=\"sans-serif\" font-size=\"14\" lengthAdjust=\"spacing\" textLength=\"251\" x=\"186\" y=\"382.7801\">battery2engine: PowerInterface connect</text><text fill=\"#000000\" font-family=\"sans-serif\" font-size=\"14\" lengthAdjust=\"spacing\" textLength=\"128\" x=\"186\" y=\"400.3895\">battery.powerPort to</text><text fill=\"#000000\" font-family=\"sans-serif\" font-size=\"14\" lengthAdjust=\"spacing\" textLength=\"178\" x=\"186\" y=\"417.9988\">batmobileEngine.enginePort</text><text fill=\"#000000\" font-family=\"sans-serif\" font-size=\"14\" font-style=\"italic\" lengthAdjust=\"spacing\" textLength=\"62\" x=\"282.5\" y=\"366.4316\">interfaces</text></g></a><!--MD5=[2156ba9850f5573cc1fc38a6a4b2f02b]\n",
       "class E7--><a href=\"psysml:de5c3b00-5a59-4f85-a781-79ef204e0e0f\" target=\"_top\" title=\"psysml:de5c3b00-5a59-4f85-a781-79ef204e0e0f\" xlink:actuate=\"onRequest\" xlink:href=\"psysml:de5c3b00-5a59-4f85-a781-79ef204e0e0f\" xlink:show=\"new\" xlink:title=\"psysml:de5c3b00-5a59-4f85-a781-79ef204e0e0f\" xlink:type=\"simple\"><g id=\"elem_E7\"><rect fill=\"#FFFFFF\" height=\"50.7031\" id=\"E7\" rx=\"10\" ry=\"10\" style=\"stroke:#181818;stroke-width:0.5;\" width=\"119\" x=\"533\" y=\"42.5\"/><text fill=\"#000000\" font-family=\"sans-serif\" font-size=\"12\" font-style=\"italic\" lengthAdjust=\"spacing\" textLength=\"35\" x=\"575\" y=\"59.957\">«part»</text><text fill=\"#000000\" font-family=\"sans-serif\" font-size=\"14\" lengthAdjust=\"spacing\" textLength=\"105\" x=\"536\" y=\"77.127\">batmobileEngine</text><line style=\"stroke:#181818;stroke-width:0.5;\" x1=\"534\" x2=\"651\" y1=\"85.2031\" y2=\"85.2031\"/></g></a><!--MD5=[b9389687b975829384b498ac4b7476b2]\n",
       "class E8--><a href=\"psysml:3390072d-b832-43c6-9999-15e13f7e1703\" target=\"_top\" title=\"psysml:3390072d-b832-43c6-9999-15e13f7e1703\" xlink:actuate=\"onRequest\" xlink:href=\"psysml:3390072d-b832-43c6-9999-15e13f7e1703\" xlink:show=\"new\" xlink:title=\"psysml:3390072d-b832-43c6-9999-15e13f7e1703\" xlink:type=\"simple\"><g id=\"elem_E8\"><rect fill=\"#FFFFFF\" height=\"50.7031\" id=\"E8\" rx=\"10\" ry=\"10\" style=\"stroke:#181818;stroke-width:0.5;\" width=\"150\" x=\"956.5\" y=\"111.5\"/><text fill=\"#000000\" font-family=\"sans-serif\" font-size=\"12\" font-style=\"italic\" lengthAdjust=\"spacing\" textLength=\"35\" x=\"1014\" y=\"128.957\">«port»</text><text fill=\"#000000\" font-family=\"sans-serif\" font-size=\"14\" lengthAdjust=\"spacing\" textLength=\"136\" x=\"959.5\" y=\"146.127\">enginePort: ~PowerIP</text><line style=\"stroke:#181818;stroke-width:0.5;\" x1=\"957.5\" x2=\"1105.5\" y1=\"154.2031\" y2=\"154.2031\"/></g></a><!--MD5=[fd4143e9d270a159db93a4ea2a975926]\n",
       "class E9--><a href=\"psysml:e0af43df-5ded-48e9-adfa-8d4b8612df5b\" target=\"_top\" title=\"psysml:e0af43df-5ded-48e9-adfa-8d4b8612df5b\" xlink:actuate=\"onRequest\" xlink:href=\"psysml:e0af43df-5ded-48e9-adfa-8d4b8612df5b\" xlink:show=\"new\" xlink:title=\"psysml:e0af43df-5ded-48e9-adfa-8d4b8612df5b\" xlink:type=\"simple\"><g id=\"elem_E9\"><rect fill=\"#FFFFFF\" height=\"50.7031\" id=\"E9\" rx=\"10\" ry=\"10\" style=\"stroke:#181818;stroke-width:0.5;\" width=\"57\" x=\"564\" y=\"690.5\"/><text fill=\"#000000\" font-family=\"sans-serif\" font-size=\"12\" font-style=\"italic\" lengthAdjust=\"spacing\" textLength=\"35\" x=\"575\" y=\"707.957\">«part»</text><text fill=\"#000000\" font-family=\"sans-serif\" font-size=\"14\" lengthAdjust=\"spacing\" textLength=\"43\" x=\"567\" y=\"725.127\">seat[2]</text><line style=\"stroke:#181818;stroke-width:0.5;\" x1=\"565\" x2=\"620\" y1=\"733.2031\" y2=\"733.2031\"/></g></a><!--MD5=[96f4274e9e20536e775497830990834d]\n",
       "class E10--><a href=\"psysml:77e3ff5b-40ff-4c67-b9bb-b20f0fd51700\" target=\"_top\" title=\"psysml:77e3ff5b-40ff-4c67-b9bb-b20f0fd51700\" xlink:actuate=\"onRequest\" xlink:href=\"psysml:77e3ff5b-40ff-4c67-b9bb-b20f0fd51700\" xlink:show=\"new\" xlink:title=\"psysml:77e3ff5b-40ff-4c67-b9bb-b20f0fd51700\" xlink:type=\"simple\"><g id=\"elem_E10\"><rect fill=\"#FFFFFF\" height=\"50.7031\" id=\"E10\" rx=\"10\" ry=\"10\" style=\"stroke:#181818;stroke-width:0.5;\" width=\"45\" x=\"570\" y=\"604.5\"/><text fill=\"#000000\" font-family=\"sans-serif\" font-size=\"12\" font-style=\"italic\" lengthAdjust=\"spacing\" textLength=\"35\" x=\"575\" y=\"621.957\">«part»</text><text fill=\"#000000\" font-family=\"sans-serif\" font-size=\"14\" lengthAdjust=\"spacing\" textLength=\"31\" x=\"573\" y=\"639.127\">body</text><line style=\"stroke:#181818;stroke-width:0.5;\" x1=\"571\" x2=\"614\" y1=\"647.2031\" y2=\"647.2031\"/></g></a><!--MD5=[1dd1bfd58a279cf63c5f349dbc8fc6a1]\n",
       "class E11--><a href=\"psysml:5b71d5ed-7bd8-4b50-a64f-c0e587475742\" target=\"_top\" title=\"psysml:5b71d5ed-7bd8-4b50-a64f-c0e587475742\" xlink:actuate=\"onRequest\" xlink:href=\"psysml:5b71d5ed-7bd8-4b50-a64f-c0e587475742\" xlink:show=\"new\" xlink:title=\"psysml:5b71d5ed-7bd8-4b50-a64f-c0e587475742\" xlink:type=\"simple\"><g id=\"elem_E11\"><rect fill=\"#FFFFFF\" height=\"50.7031\" id=\"E11\" rx=\"10\" ry=\"10\" style=\"stroke:#181818;stroke-width:0.5;\" width=\"121\" x=\"752\" y=\"311.5\"/><text fill=\"#000000\" font-family=\"sans-serif\" font-size=\"12\" font-style=\"italic\" lengthAdjust=\"spacing\" textLength=\"35\" x=\"795\" y=\"328.957\">«part»</text><text fill=\"#000000\" font-family=\"sans-serif\" font-size=\"14\" lengthAdjust=\"spacing\" textLength=\"107\" x=\"755\" y=\"346.127\">wheels: Wheel[4]</text><line style=\"stroke:#181818;stroke-width:0.5;\" x1=\"753\" x2=\"872\" y1=\"354.2031\" y2=\"354.2031\"/></g></a><!--MD5=[49a0ec8f00dab7302a31f22d0f0fe584]\n",
       "class E12--><a href=\"psysml:79573f7d-5143-4de0-bfef-1581340469e5\" target=\"_top\" title=\"psysml:79573f7d-5143-4de0-bfef-1581340469e5\" xlink:actuate=\"onRequest\" xlink:href=\"psysml:79573f7d-5143-4de0-bfef-1581340469e5\" xlink:show=\"new\" xlink:title=\"psysml:79573f7d-5143-4de0-bfef-1581340469e5\" xlink:type=\"simple\"><g id=\"elem_E12\"><rect fill=\"#FFFFFF\" height=\"50.7031\" id=\"E12\" rx=\"10\" ry=\"10\" style=\"stroke:#181818;stroke-width:0.5;\" width=\"162\" x=\"511.5\" y=\"280.5\"/><text fill=\"#000000\" font-family=\"sans-serif\" font-size=\"12\" font-style=\"italic\" lengthAdjust=\"spacing\" textLength=\"35\" x=\"575\" y=\"297.957\">«part»</text><text fill=\"#000000\" font-family=\"sans-serif\" font-size=\"14\" lengthAdjust=\"spacing\" textLength=\"152\" x=\"514.5\" y=\"315.127\">frontLeftWheel :&gt;wheels</text><line style=\"stroke:#181818;stroke-width:0.5;\" x1=\"512.5\" x2=\"672.5\" y1=\"323.2031\" y2=\"323.2031\"/></g></a><!--MD5=[ee3c913d1a06f366521f9ef512b67efe]\n",
       "class E13--><a href=\"psysml:7c2c87a6-fcee-4d9b-bbf0-59d771dcc08e\" target=\"_top\" title=\"psysml:7c2c87a6-fcee-4d9b-bbf0-59d771dcc08e\" xlink:actuate=\"onRequest\" xlink:href=\"psysml:7c2c87a6-fcee-4d9b-bbf0-59d771dcc08e\" xlink:show=\"new\" xlink:title=\"psysml:7c2c87a6-fcee-4d9b-bbf0-59d771dcc08e\" xlink:type=\"simple\"><g id=\"elem_E13\"><rect fill=\"#FFFFFF\" height=\"50.7031\" id=\"E13\" rx=\"10\" ry=\"10\" style=\"stroke:#181818;stroke-width:0.5;\" width=\"171\" x=\"507\" y=\"404.5\"/><text fill=\"#000000\" font-family=\"sans-serif\" font-size=\"12\" font-style=\"italic\" lengthAdjust=\"spacing\" textLength=\"35\" x=\"575\" y=\"421.957\">«part»</text><text fill=\"#000000\" font-family=\"sans-serif\" font-size=\"14\" lengthAdjust=\"spacing\" textLength=\"161\" x=\"510\" y=\"439.127\">frontRightWheel :&gt;wheels</text><line style=\"stroke:#181818;stroke-width:0.5;\" x1=\"508\" x2=\"677\" y1=\"447.2031\" y2=\"447.2031\"/></g></a><!--MD5=[bee11217b2f71d958a27249dc326068c]\n",
       "class E14--><a href=\"psysml:bee0b474-016b-4281-9f66-ec338ef16370\" target=\"_top\" title=\"psysml:bee0b474-016b-4281-9f66-ec338ef16370\" xlink:actuate=\"onRequest\" xlink:href=\"psysml:bee0b474-016b-4281-9f66-ec338ef16370\" xlink:show=\"new\" xlink:title=\"psysml:bee0b474-016b-4281-9f66-ec338ef16370\" xlink:type=\"simple\"><g id=\"elem_E14\"><rect fill=\"#FFFFFF\" height=\"79.3563\" id=\"E14\" rx=\"10\" ry=\"10\" style=\"stroke:#181818;stroke-width:0.5;\" width=\"67\" x=\"559\" y=\"490.5\"/><text fill=\"#000000\" font-family=\"sans-serif\" font-size=\"12\" font-style=\"italic\" lengthAdjust=\"spacing\" textLength=\"35\" x=\"575\" y=\"507.957\">«part»</text><text fill=\"#000000\" font-family=\"sans-serif\" font-size=\"14\" lengthAdjust=\"spacing\" textLength=\"44\" x=\"566.5\" y=\"525.127\">battery</text><line style=\"stroke:#181818;stroke-width:0.5;\" x1=\"560\" x2=\"625\" y1=\"533.2031\" y2=\"533.2031\"/><text fill=\"#000000\" font-family=\"sans-serif\" font-size=\"14\" lengthAdjust=\"spacing\" textLength=\"52\" x=\"565\" y=\"562.7801\">capacity</text><text fill=\"#000000\" font-family=\"sans-serif\" font-size=\"14\" font-style=\"italic\" lengthAdjust=\"spacing\" textLength=\"59\" x=\"563\" y=\"546.4316\">attributes</text></g></a><!--MD5=[0c48fb7552dae8cbbef69381101a84c8]\n",
       "class E15--><a href=\"psysml:728b616b-2244-4b94-9362-2438dfe53376\" target=\"_top\" title=\"psysml:728b616b-2244-4b94-9362-2438dfe53376\" xlink:actuate=\"onRequest\" xlink:href=\"psysml:728b616b-2244-4b94-9362-2438dfe53376\" xlink:show=\"new\" xlink:title=\"psysml:728b616b-2244-4b94-9362-2438dfe53376\" xlink:type=\"simple\"><g id=\"elem_E15\"><rect fill=\"#FFFFFF\" height=\"50.7031\" id=\"E15\" rx=\"10\" ry=\"10\" style=\"stroke:#181818;stroke-width:0.5;\" width=\"137\" x=\"744\" y=\"504.5\"/><text fill=\"#000000\" font-family=\"sans-serif\" font-size=\"12\" font-style=\"italic\" lengthAdjust=\"spacing\" textLength=\"35\" x=\"795\" y=\"521.957\">«port»</text><text fill=\"#000000\" font-family=\"sans-serif\" font-size=\"14\" lengthAdjust=\"spacing\" textLength=\"123\" x=\"747\" y=\"539.127\">powerPort: PowerIP</text><line style=\"stroke:#181818;stroke-width:0.5;\" x1=\"745\" x2=\"880\" y1=\"547.2031\" y2=\"547.2031\"/></g></a><!--MD5=[35f0587eaee8d5bb9a02e25b63afc23b]\n",
       "class E16--><a href=\"psysml:ef9eecb6-3fa3-46eb-a3b5-59a5620c5d11\" target=\"_top\" title=\"psysml:ef9eecb6-3fa3-46eb-a3b5-59a5620c5d11\" xlink:actuate=\"onRequest\" xlink:href=\"psysml:ef9eecb6-3fa3-46eb-a3b5-59a5620c5d11\" xlink:show=\"new\" xlink:title=\"psysml:ef9eecb6-3fa3-46eb-a3b5-59a5620c5d11\" xlink:type=\"simple\"><g id=\"elem_E16\"><rect fill=\"#FFFFFF\" height=\"50.7031\" id=\"E16\" style=\"stroke:#181818;stroke-width:0.5;\" width=\"88\" x=\"32\" y=\"289.5\"/><text fill=\"#000000\" font-family=\"sans-serif\" font-size=\"12\" font-style=\"italic\" lengthAdjust=\"spacing\" textLength=\"58\" x=\"47\" y=\"306.957\">«part  def»</text><text fill=\"#000000\" font-family=\"sans-serif\" font-size=\"14\" lengthAdjust=\"spacing\" textLength=\"82\" x=\"35\" y=\"324.127\">BatmobileNG</text><line style=\"stroke:#181818;stroke-width:0.5;\" x1=\"33\" x2=\"119\" y1=\"332.2031\" y2=\"332.2031\"/></g></a><!--MD5=[60e55a4a9b2f0dc0a36787c5a2095786]\n",
       "class E17--><a href=\"psysml:aea09405-0683-496a-bba8-ac9bc3c1053d\" target=\"_top\" title=\"psysml:aea09405-0683-496a-bba8-ac9bc3c1053d\" xlink:actuate=\"onRequest\" xlink:href=\"psysml:aea09405-0683-496a-bba8-ac9bc3c1053d\" xlink:show=\"new\" xlink:title=\"psysml:aea09405-0683-496a-bba8-ac9bc3c1053d\" xlink:type=\"simple\"><g id=\"elem_E17\"><rect fill=\"#FFFFFF\" height=\"50.7031\" id=\"E17\" rx=\"10\" ry=\"10\" style=\"stroke:#181818;stroke-width:0.5;\" width=\"145\" x=\"241\" y=\"221.5\"/><text fill=\"#000000\" font-family=\"sans-serif\" font-size=\"12\" font-style=\"italic\" lengthAdjust=\"spacing\" textLength=\"35\" x=\"296\" y=\"238.957\">«part»</text><text fill=\"#000000\" font-family=\"sans-serif\" font-size=\"14\" lengthAdjust=\"spacing\" textLength=\"131\" x=\"244\" y=\"256.127\">bulletProofWheels[4]</text><line style=\"stroke:#181818;stroke-width:0.5;\" x1=\"242\" x2=\"385\" y1=\"264.2031\" y2=\"264.2031\"/></g></a><!--MD5=[e3af68e2095dcd46cf4beab32f25c64b]\n",
       "class E18--><a href=\"psysml:3d6c80e1-2d88-4d8f-bfbc-68b815991e7e\" target=\"_top\" title=\"psysml:3d6c80e1-2d88-4d8f-bfbc-68b815991e7e\" xlink:actuate=\"onRequest\" xlink:href=\"psysml:3d6c80e1-2d88-4d8f-bfbc-68b815991e7e\" xlink:show=\"new\" xlink:title=\"psysml:3d6c80e1-2d88-4d8f-bfbc-68b815991e7e\" xlink:type=\"simple\"><g id=\"elem_E18\"><rect fill=\"#FFFFFF\" height=\"79.3563\" id=\"E18\" style=\"stroke:#181818;stroke-width:0.5;\" width=\"68\" x=\"997.5\" y=\"297.5\"/><text fill=\"#000000\" font-family=\"sans-serif\" font-size=\"12\" font-style=\"italic\" lengthAdjust=\"spacing\" textLength=\"58\" x=\"1002.5\" y=\"314.957\">«part  def»</text><text fill=\"#000000\" font-family=\"sans-serif\" font-size=\"14\" lengthAdjust=\"spacing\" textLength=\"40\" x=\"1011.5\" y=\"332.127\">Wheel</text><line style=\"stroke:#181818;stroke-width:0.5;\" x1=\"998.5\" x2=\"1064.5\" y1=\"340.2031\" y2=\"340.2031\"/><text fill=\"#000000\" font-family=\"sans-serif\" font-size=\"14\" lengthAdjust=\"spacing\" textLength=\"56\" x=\"1003.5\" y=\"369.7801\">pressure</text><text fill=\"#000000\" font-family=\"sans-serif\" font-size=\"14\" font-style=\"italic\" lengthAdjust=\"spacing\" textLength=\"59\" x=\"1002\" y=\"353.4316\">attributes</text></g></a><!--MD5=[2afd267d199484aabbd2f23ded056bb0]\n",
       "class E19--><a href=\"psysml:6ed6dbd1-dc3d-401c-a2f5-41e3116092b9\" target=\"_top\" title=\"psysml:6ed6dbd1-dc3d-401c-a2f5-41e3116092b9\" xlink:actuate=\"onRequest\" xlink:href=\"psysml:6ed6dbd1-dc3d-401c-a2f5-41e3116092b9\" xlink:show=\"new\" xlink:title=\"psysml:6ed6dbd1-dc3d-401c-a2f5-41e3116092b9\" xlink:type=\"simple\"><g id=\"elem_E19\"><rect fill=\"#FFFFFF\" height=\"50.7031\" id=\"E19\" rx=\"10\" ry=\"10\" style=\"stroke:#181818;stroke-width:0.5;\" width=\"395\" x=\"1176\" y=\"311.5\"/><text fill=\"#000000\" font-family=\"sans-serif\" font-size=\"12\" font-style=\"italic\" lengthAdjust=\"spacing\" textLength=\"38\" x=\"1354.5\" y=\"328.957\">«item»</text><text fill=\"#000000\" font-family=\"sans-serif\" font-size=\"14\" lengthAdjust=\"spacing\" textLength=\"385\" x=\"1179\" y=\"346.127\">boundingBox: RectangularCuboid[1] :&gt;Item::boundingShapes</text><line style=\"stroke:#181818;stroke-width:0.5;\" x1=\"1177\" x2=\"1570\" y1=\"354.2031\" y2=\"354.2031\"/></g></a><!--MD5=[98c62f1084e4f84a692d89b659ad1ae4]\n",
       "class E20--><a href=\"psysml:7ca81ccf-ed66-419c-ac79-15e8ac7a3dd7\" target=\"_top\" title=\"psysml:7ca81ccf-ed66-419c-ac79-15e8ac7a3dd7\" xlink:actuate=\"onRequest\" xlink:href=\"psysml:7ca81ccf-ed66-419c-ac79-15e8ac7a3dd7\" xlink:show=\"new\" xlink:title=\"psysml:7ca81ccf-ed66-419c-ac79-15e8ac7a3dd7\" xlink:type=\"simple\"><g id=\"elem_E20\"><rect fill=\"#FFFFFF\" height=\"50.7031\" id=\"E20\" style=\"stroke:#181818;stroke-width:0.5;\" width=\"60\" x=\"1001.5\" y=\"604.5\"/><text fill=\"#000000\" font-family=\"sans-serif\" font-size=\"12\" font-style=\"italic\" lengthAdjust=\"spacing\" textLength=\"58\" x=\"1002.5\" y=\"621.957\">«port  def»</text><text fill=\"#000000\" font-family=\"sans-serif\" font-size=\"14\" lengthAdjust=\"spacing\" textLength=\"51\" x=\"1006\" y=\"639.127\">PowerIP</text><line style=\"stroke:#181818;stroke-width:0.5;\" x1=\"1002.5\" x2=\"1060.5\" y1=\"647.2031\" y2=\"647.2031\"/></g></a><!--MD5=[0a5eafc7463fe4c3b6356fe5913c4902]\n",
       "class E21--><a href=\"psysml:ccd3fde1-a294-45f0-a7ae-d577658c13c5\" target=\"_top\" title=\"psysml:ccd3fde1-a294-45f0-a7ae-d577658c13c5\" xlink:actuate=\"onRequest\" xlink:href=\"psysml:ccd3fde1-a294-45f0-a7ae-d577658c13c5\" xlink:show=\"new\" xlink:title=\"psysml:ccd3fde1-a294-45f0-a7ae-d577658c13c5\" xlink:type=\"simple\"><g id=\"elem_E21\"><rect fill=\"#FFFFFF\" height=\"50.7031\" id=\"E21\" rx=\"10\" ry=\"10\" style=\"stroke:#181818;stroke-width:0.5;\" width=\"99\" x=\"1324\" y=\"616.5\"/><text fill=\"#000000\" font-family=\"sans-serif\" font-size=\"12\" font-style=\"italic\" lengthAdjust=\"spacing\" textLength=\"38\" x=\"1354.5\" y=\"633.957\">«item»</text><text fill=\"#000000\" font-family=\"sans-serif\" font-size=\"14\" lengthAdjust=\"spacing\" textLength=\"85\" x=\"1327\" y=\"651.127\">power: Power</text><line style=\"stroke:#181818;stroke-width:0.5;\" x1=\"1325\" x2=\"1422\" y1=\"659.2031\" y2=\"659.2031\"/></g></a><!--MD5=[6284cf9f06086a212f4fa89d0d29ec03]\n",
       "class E22--><a href=\"psysml:d4ec1fc0-4a6d-4f98-9bed-4b988d9980ea\" target=\"_top\" title=\"psysml:d4ec1fc0-4a6d-4f98-9bed-4b988d9980ea\" xlink:actuate=\"onRequest\" xlink:href=\"psysml:d4ec1fc0-4a6d-4f98-9bed-4b988d9980ea\" xlink:show=\"new\" xlink:title=\"psysml:d4ec1fc0-4a6d-4f98-9bed-4b988d9980ea\" xlink:type=\"simple\"><g id=\"elem_E22\"><rect fill=\"#FFFFFF\" height=\"79.3563\" id=\"E22\" style=\"stroke:#181818;stroke-width:0.5;\" width=\"67\" x=\"1631\" y=\"670.5\"/><text fill=\"#000000\" font-family=\"sans-serif\" font-size=\"12\" font-style=\"italic\" lengthAdjust=\"spacing\" textLength=\"61\" x=\"1634\" y=\"687.957\">«item  def»</text><text fill=\"#000000\" font-family=\"sans-serif\" font-size=\"14\" lengthAdjust=\"spacing\" textLength=\"39\" x=\"1645\" y=\"705.127\">Power</text><line style=\"stroke:#181818;stroke-width:0.5;\" x1=\"1632\" x2=\"1697\" y1=\"713.2031\" y2=\"713.2031\"/><text fill=\"#000000\" font-family=\"sans-serif\" font-size=\"14\" lengthAdjust=\"spacing\" textLength=\"34\" x=\"1637\" y=\"742.7801\">value</text><text fill=\"#000000\" font-family=\"sans-serif\" font-size=\"14\" font-style=\"italic\" lengthAdjust=\"spacing\" textLength=\"59\" x=\"1635\" y=\"726.4316\">attributes</text></g></a><!--MD5=[a4184b15efaeca9fb90158e34dfc9305]\n",
       "class E23--><a href=\"psysml:9a4b02c0-7485-4ef8-b5f4-34fc58f20621\" target=\"_top\" title=\"psysml:9a4b02c0-7485-4ef8-b5f4-34fc58f20621\" xlink:actuate=\"onRequest\" xlink:href=\"psysml:9a4b02c0-7485-4ef8-b5f4-34fc58f20621\" xlink:show=\"new\" xlink:title=\"psysml:9a4b02c0-7485-4ef8-b5f4-34fc58f20621\" xlink:type=\"simple\"><g id=\"elem_E23\"><rect fill=\"#FFFFFF\" height=\"50.7031\" id=\"E23\" style=\"stroke:#181818;stroke-width:0.5;\" width=\"100\" x=\"542.5\" y=\"776.5\"/><text fill=\"#000000\" font-family=\"sans-serif\" font-size=\"12\" font-style=\"italic\" lengthAdjust=\"spacing\" textLength=\"84\" x=\"550.5\" y=\"793.957\">«interface  def»</text><text fill=\"#000000\" font-family=\"sans-serif\" font-size=\"14\" lengthAdjust=\"spacing\" textLength=\"94\" x=\"545.5\" y=\"811.127\">PowerInterface</text><line style=\"stroke:#181818;stroke-width:0.5;\" x1=\"543.5\" x2=\"641.5\" y1=\"819.2031\" y2=\"819.2031\"/></g></a><!--MD5=[d961d9d5dcc77964a221abceaadb3cc6]\n",
       "class E24--><a href=\"psysml:2a691a75-b4d8-49d0-829f-ba8eb29ba55d\" target=\"_top\" title=\"psysml:2a691a75-b4d8-49d0-829f-ba8eb29ba55d\" xlink:actuate=\"onRequest\" xlink:href=\"psysml:2a691a75-b4d8-49d0-829f-ba8eb29ba55d\" xlink:show=\"new\" xlink:title=\"psysml:2a691a75-b4d8-49d0-829f-ba8eb29ba55d\" xlink:type=\"simple\"><g id=\"elem_E24\"><rect fill=\"#FFFFFF\" height=\"50.7031\" id=\"E24\" rx=\"10\" ry=\"10\" style=\"stroke:#181818;stroke-width:0.5;\" width=\"149\" x=\"738\" y=\"690.5\"/><text fill=\"#000000\" font-family=\"sans-serif\" font-size=\"12\" font-style=\"italic\" lengthAdjust=\"spacing\" textLength=\"35\" x=\"795\" y=\"707.957\">«port»</text><text fill=\"#000000\" font-family=\"sans-serif\" font-size=\"14\" lengthAdjust=\"spacing\" textLength=\"135\" x=\"741\" y=\"725.127\">supplierPort: PowerIP</text><line style=\"stroke:#181818;stroke-width:0.5;\" x1=\"739\" x2=\"886\" y1=\"733.2031\" y2=\"733.2031\"/></g></a><!--MD5=[27602d2299176a43176dae1470eb318a]\n",
       "class E25--><a href=\"psysml:ccd3fde1-a294-45f0-a7ae-d577658c13c5\" target=\"_top\" title=\"psysml:ccd3fde1-a294-45f0-a7ae-d577658c13c5\" xlink:actuate=\"onRequest\" xlink:href=\"psysml:ccd3fde1-a294-45f0-a7ae-d577658c13c5\" xlink:show=\"new\" xlink:title=\"psysml:ccd3fde1-a294-45f0-a7ae-d577658c13c5\" xlink:type=\"simple\"><g id=\"elem_E25\"><rect fill=\"#FFFFFF\" height=\"50.7031\" id=\"E25\" rx=\"10\" ry=\"10\" style=\"stroke:#181818;stroke-width:0.5;\" width=\"104\" x=\"979.5\" y=\"690.5\"/><text fill=\"#000000\" font-family=\"sans-serif\" font-size=\"12\" font-style=\"italic\" lengthAdjust=\"spacing\" textLength=\"38\" x=\"1012.5\" y=\"707.957\">«item»</text><text fill=\"#000000\" font-family=\"sans-serif\" font-size=\"14\" lengthAdjust=\"spacing\" textLength=\"90\" x=\"982.5\" y=\"725.127\">^power: Power</text><line style=\"stroke:#181818;stroke-width:0.5;\" x1=\"980.5\" x2=\"1082.5\" y1=\"733.2031\" y2=\"733.2031\"/></g></a><!--MD5=[cd9920ba5ec815a2e5c5d0d6af8dfd7b]\n",
       "class E26--><a href=\"psysml:91d3d9b0-013d-4a8b-8b64-9c99f4b24625\" target=\"_top\" title=\"psysml:91d3d9b0-013d-4a8b-8b64-9c99f4b24625\" xlink:actuate=\"onRequest\" xlink:href=\"psysml:91d3d9b0-013d-4a8b-8b64-9c99f4b24625\" xlink:show=\"new\" xlink:title=\"psysml:91d3d9b0-013d-4a8b-8b64-9c99f4b24625\" xlink:type=\"simple\"><g id=\"elem_E26\"><rect fill=\"#FFFFFF\" height=\"50.7031\" id=\"E26\" rx=\"10\" ry=\"10\" style=\"stroke:#181818;stroke-width:0.5;\" width=\"169\" x=\"947\" y=\"776.5\"/><text fill=\"#000000\" font-family=\"sans-serif\" font-size=\"12\" font-style=\"italic\" lengthAdjust=\"spacing\" textLength=\"35\" x=\"1014\" y=\"793.957\">«port»</text><text fill=\"#000000\" font-family=\"sans-serif\" font-size=\"14\" lengthAdjust=\"spacing\" textLength=\"155\" x=\"950\" y=\"811.127\">consumerPort: ~PowerIP</text><line style=\"stroke:#181818;stroke-width:0.5;\" x1=\"948\" x2=\"1115\" y1=\"819.2031\" y2=\"819.2031\"/></g></a><!--MD5=[066bc520e5788adc19ecb36845367d7b]\n",
       "class E27--><a href=\"psysml:ccd3fde1-a294-45f0-a7ae-d577658c13c5\" target=\"_top\" title=\"psysml:ccd3fde1-a294-45f0-a7ae-d577658c13c5\" xlink:actuate=\"onRequest\" xlink:href=\"psysml:ccd3fde1-a294-45f0-a7ae-d577658c13c5\" xlink:show=\"new\" xlink:title=\"psysml:ccd3fde1-a294-45f0-a7ae-d577658c13c5\" xlink:type=\"simple\"><g id=\"elem_E27\"><rect fill=\"#FFFFFF\" height=\"50.7031\" id=\"E27\" rx=\"10\" ry=\"10\" style=\"stroke:#181818;stroke-width:0.5;\" width=\"104\" x=\"1321.5\" y=\"746.5\"/><text fill=\"#000000\" font-family=\"sans-serif\" font-size=\"12\" font-style=\"italic\" lengthAdjust=\"spacing\" textLength=\"38\" x=\"1354.5\" y=\"763.957\">«item»</text><text fill=\"#000000\" font-family=\"sans-serif\" font-size=\"14\" lengthAdjust=\"spacing\" textLength=\"90\" x=\"1324.5\" y=\"781.127\">^power: Power</text><line style=\"stroke:#181818;stroke-width:0.5;\" x1=\"1322.5\" x2=\"1424.5\" y1=\"789.2031\" y2=\"789.2031\"/></g></a><!--MD5=[4672eba38e49728da53d11aeb285b987]\n",
       "reverse link E3 to E4--><g id=\"link_E3_E4\"><a href=\"psysml:77bbba29-6fc6-45a0-ba2e-3a681c5f89e8\" target=\"_top\" title=\"psysml:77bbba29-6fc6-45a0-ba2e-3a681c5f89e8\" xlink:actuate=\"onRequest\" xlink:href=\"psysml:77bbba29-6fc6-45a0-ba2e-3a681c5f89e8\" xlink:show=\"new\" xlink:title=\"psysml:77bbba29-6fc6-45a0-ba2e-3a681c5f89e8\" xlink:type=\"simple\"><path d=\"M687.73,199 C687.73,199 787.42,199 787.42,199 \" fill=\"none\" id=\"E3-backto-E4\" style=\"stroke:#181818;stroke-width:1.0;\"/><polygon fill=\"#181818\" points=\"674.73,199,680.73,203,686.73,199,680.73,195,674.73,199\" style=\"stroke:#181818;stroke-width:1.0;\"/></a></g><!--MD5=[191cde3d490a3f6d7bb551fe3ddca469]\n",
       "reverse link E3 to E5--><g id=\"link_E3_E5\"><a href=\"psysml:5723f0fd-b379-4811-be9d-d3db85520cea\" target=\"_top\" title=\"psysml:5723f0fd-b379-4811-be9d-d3db85520cea\" xlink:actuate=\"onRequest\" xlink:href=\"psysml:5723f0fd-b379-4811-be9d-d3db85520cea\" xlink:show=\"new\" xlink:title=\"psysml:5723f0fd-b379-4811-be9d-d3db85520cea\" xlink:type=\"simple\"><path d=\"M687.73,142 C687.73,142 783.82,142 783.82,142 \" fill=\"none\" id=\"E3-backto-E5\" style=\"stroke:#181818;stroke-width:1.0;\"/><polygon fill=\"#181818\" points=\"674.73,142,680.73,146,686.73,142,680.73,138,674.73,142\" style=\"stroke:#181818;stroke-width:1.0;\"/></a></g><!--MD5=[a717450b82c80b9240a525fa862496af]\n",
       "link E6 to E3--><g id=\"link_E6_E3\"><a href=\"psysml:dd98a78e-c369-4a47-ba9e-18d03e011749\" target=\"_top\" title=\"psysml:dd98a78e-c369-4a47-ba9e-18d03e011749\" xlink:actuate=\"onRequest\" xlink:href=\"psysml:dd98a78e-c369-4a47-ba9e-18d03e011749\" xlink:show=\"new\" xlink:title=\"psysml:dd98a78e-c369-4a47-ba9e-18d03e011749\" xlink:type=\"simple\"><path d=\"M427,310.33 C427,254.26 427,177.5 427,177.5 C427,177.5 490.23,177.5 490.23,177.5 \" fill=\"none\" id=\"E6-to-E3\" style=\"stroke:#181818;stroke-width:1.0;\"/><polygon fill=\"none\" points=\"490.23,170.5,510.23,177.5,490.23,184.5,490.23,170.5\" style=\"stroke:#181818;stroke-width:1.0;\"/></a></g><!--MD5=[3f50a3473f1dfb74d3f76443e03635af]\n",
       "reverse link E6 to E7--><g id=\"link_E6_E7\"><a href=\"psysml:9401e601-1bbc-411e-abe1-e10e8853b062\" target=\"_top\" title=\"psysml:9401e601-1bbc-411e-abe1-e10e8853b062\" xlink:actuate=\"onRequest\" xlink:href=\"psysml:9401e601-1bbc-411e-abe1-e10e8853b062\" xlink:show=\"new\" xlink:title=\"psysml:9401e601-1bbc-411e-abe1-e10e8853b062\" xlink:type=\"simple\"><path d=\"M407,297.16 C407,297.16 407,68 407,68 C407,68 478.56,68 532.79,68 \" fill=\"none\" id=\"E6-backto-E7\" style=\"stroke:#181818;stroke-width:1.0;\"/><polygon fill=\"#181818\" points=\"407,310.16,411,304.16,407,298.16,403,304.16,407,310.16\" style=\"stroke:#181818;stroke-width:1.0;\"/></a></g><!--MD5=[4d1e63f6c5cc89ece832f1e02a2fb60c]\n",
       "link E7 to E5--><g id=\"link_E7_E5\"><a href=\"psysml:ecf8145c-ecb0-48de-876d-49a53773f250\" target=\"_top\" title=\"psysml:ecf8145c-ecb0-48de-876d-49a53773f250\" xlink:actuate=\"onRequest\" xlink:href=\"psysml:ecf8145c-ecb0-48de-876d-49a53773f250\" xlink:show=\"new\" xlink:title=\"psysml:ecf8145c-ecb0-48de-876d-49a53773f250\" xlink:type=\"simple\"><path d=\"M652.17,76.5 C717.47,76.5 813,76.5 813,76.5 C813,76.5 813,84.19 813,84.19 \" fill=\"none\" id=\"E7-to-E5\" style=\"stroke:#181818;stroke-width:1.0;\"/><polygon fill=\"#FFFFFF\" points=\"813,104.19,806,85.19,820,85.19,813,104.19\" style=\"stroke:#181818;stroke-width:1.0;\"/><line style=\"stroke:#181818;stroke-width:2.0;\" x1=\"806\" x2=\"820\" y1=\"81.39\" y2=\"81.39\"/></a></g><!--MD5=[dc164f5e8a733ab456ef1add180e9e34]\n",
       "reverse link E7 to E8--><g id=\"link_E7_E8\"><a href=\"psysml:87d9ed22-fcef-48dc-adea-54b812466827\" target=\"_top\" title=\"psysml:87d9ed22-fcef-48dc-adea-54b812466827\" xlink:actuate=\"onRequest\" xlink:href=\"psysml:87d9ed22-fcef-48dc-adea-54b812466827\" xlink:show=\"new\" xlink:title=\"psysml:87d9ed22-fcef-48dc-adea-54b812466827\" xlink:type=\"simple\"><path d=\"M665.23,59.5 C665.23,59.5 1032,59.5 1032,59.5 C1032,59.5 1032,88.65 1032,111.19 \" fill=\"none\" id=\"E7-backto-E8\" style=\"stroke:#181818;stroke-width:1.0;\"/><polygon fill=\"none\" points=\"652.23,59.5,658.23,63.5,664.23,59.5,658.23,55.5,652.23,59.5\" style=\"stroke:#181818;stroke-width:1.0;\"/></a></g><!--MD5=[e88d06e5a652d73a6b19930eefe025a8]\n",
       "reverse link E6 to E9--><g id=\"link_E6_E9\"><a href=\"psysml:2523a9c1-7bb1-4c83-88ab-32733c3abcf2\" target=\"_top\" title=\"psysml:2523a9c1-7bb1-4c83-88ab-32733c3abcf2\" xlink:actuate=\"onRequest\" xlink:href=\"psysml:2523a9c1-7bb1-4c83-88ab-32733c3abcf2\" xlink:show=\"new\" xlink:title=\"psysml:2523a9c1-7bb1-4c83-88ab-32733c3abcf2\" xlink:type=\"simple\"><path d=\"M247,438.86 C247,438.86 247,716 247,716 C247,716 481.15,716 563.93,716 \" fill=\"none\" id=\"E6-backto-E9\" style=\"stroke:#181818;stroke-width:1.0;\"/><polygon fill=\"#181818\" points=\"247,425.86,243,431.86,247,437.86,251,431.86,247,425.86\" style=\"stroke:#181818;stroke-width:1.0;\"/></a></g><!--MD5=[d0fef95800180166b62282c1bc977cec]\n",
       "reverse link E6 to E10--><g id=\"link_E6_E10\"><a href=\"psysml:4b3fe8bb-173c-498a-8863-cd769a9494b6\" target=\"_top\" title=\"psysml:4b3fe8bb-173c-498a-8863-cd769a9494b6\" xlink:actuate=\"onRequest\" xlink:href=\"psysml:4b3fe8bb-173c-498a-8863-cd769a9494b6\" xlink:show=\"new\" xlink:title=\"psysml:4b3fe8bb-173c-498a-8863-cd769a9494b6\" xlink:type=\"simple\"><path d=\"M314,438.82 C314,438.82 314,630 314,630 C314,630 503.2,630 569.71,630 \" fill=\"none\" id=\"E6-backto-E10\" style=\"stroke:#181818;stroke-width:1.0;\"/><polygon fill=\"#181818\" points=\"314,425.82,310,431.82,314,437.82,318,431.82,314,425.82\" style=\"stroke:#181818;stroke-width:1.0;\"/></a></g><!--MD5=[1f5f03483f7de0d5b3680a7f6650997f]\n",
       "reverse link E6 to E11--><g id=\"link_E6_E11\"><a href=\"psysml:e8bc50ea-13be-4e1d-a439-da9888233acf\" target=\"_top\" title=\"psysml:e8bc50ea-13be-4e1d-a439-da9888233acf\" xlink:actuate=\"onRequest\" xlink:href=\"psysml:e8bc50ea-13be-4e1d-a439-da9888233acf\" xlink:show=\"new\" xlink:title=\"psysml:e8bc50ea-13be-4e1d-a439-da9888233acf\" xlink:type=\"simple\"><path d=\"M460.22,347 C460.22,347 751.75,347 751.75,347 \" fill=\"none\" id=\"E6-backto-E11\" style=\"stroke:#181818;stroke-width:1.0;\"/><polygon fill=\"#181818\" points=\"447.22,347,453.22,351,459.22,347,453.22,343,447.22,347\" style=\"stroke:#181818;stroke-width:1.0;\"/></a></g><!--MD5=[121fe0e397de22fdbb429873968f84d2]\n",
       "reverse link E6 to E12--><g id=\"link_E6_E12\"><a href=\"psysml:98b54637-af13-42ff-8e87-0b3bc2eb6109\" target=\"_top\" title=\"psysml:98b54637-af13-42ff-8e87-0b3bc2eb6109\" xlink:actuate=\"onRequest\" xlink:href=\"psysml:98b54637-af13-42ff-8e87-0b3bc2eb6109\" xlink:show=\"new\" xlink:title=\"psysml:98b54637-af13-42ff-8e87-0b3bc2eb6109\" xlink:type=\"simple\"><path d=\"M460.28,321 C460.28,321 511.15,321 511.15,321 \" fill=\"none\" id=\"E6-backto-E12\" style=\"stroke:#181818;stroke-width:1.0;\"/><polygon fill=\"#181818\" points=\"447.28,321,453.28,325,459.28,321,453.28,317,447.28,321\" style=\"stroke:#181818;stroke-width:1.0;\"/></a></g><!--MD5=[dc3070f36b7e37334e331d97c845f2c3]\n",
       "link E12 to E11--><g id=\"link_E12_E11\"><a href=\"psysml:d8b2805d-ef11-4e55-b6e9-91651f7bcbbe\" target=\"_top\" title=\"psysml:d8b2805d-ef11-4e55-b6e9-91651f7bcbbe\" xlink:actuate=\"onRequest\" xlink:href=\"psysml:d8b2805d-ef11-4e55-b6e9-91651f7bcbbe\" xlink:show=\"new\" xlink:title=\"psysml:d8b2805d-ef11-4e55-b6e9-91651f7bcbbe\" xlink:type=\"simple\"><path d=\"M673.79,321.5 C673.79,321.5 731.83,321.5 731.83,321.5 \" fill=\"none\" id=\"E12-to-E11\" style=\"stroke:#181818;stroke-width:1.0;\"/><polygon fill=\"none\" points=\"731.83,314.5,751.83,321.5,731.83,328.5,731.83,314.5\" style=\"stroke:#181818;stroke-width:1.0;\"/></a></g><!--MD5=[c19e979a316814acfb7b40d702a900a6]\n",
       "reverse link E6 to E13--><g id=\"link_E6_E13\"><a href=\"psysml:af1c590c-7e49-4a86-a94a-e556496b554f\" target=\"_top\" title=\"psysml:af1c590c-7e49-4a86-a94a-e556496b554f\" xlink:actuate=\"onRequest\" xlink:href=\"psysml:af1c590c-7e49-4a86-a94a-e556496b554f\" xlink:show=\"new\" xlink:title=\"psysml:af1c590c-7e49-4a86-a94a-e556496b554f\" xlink:type=\"simple\"><path d=\"M460.28,415 C460.28,415 506.88,415 506.88,415 \" fill=\"none\" id=\"E6-backto-E13\" style=\"stroke:#181818;stroke-width:1.0;\"/><polygon fill=\"#181818\" points=\"447.28,415,453.28,419,459.28,415,453.28,411,447.28,415\" style=\"stroke:#181818;stroke-width:1.0;\"/></a></g><!--MD5=[2cfe899c895462254056921bfb67315f]\n",
       "link E13 to E11--><g id=\"link_E13_E11\"><a href=\"psysml:e763d73c-1fc5-4c44-8078-5bad05304977\" target=\"_top\" title=\"psysml:e763d73c-1fc5-4c44-8078-5bad05304977\" xlink:actuate=\"onRequest\" xlink:href=\"psysml:e763d73c-1fc5-4c44-8078-5bad05304977\" xlink:show=\"new\" xlink:title=\"psysml:e763d73c-1fc5-4c44-8078-5bad05304977\" xlink:type=\"simple\"><path d=\"M678.07,430 C740.05,430 813,430 813,430 C813,430 813,382.91 813,382.91 \" fill=\"none\" id=\"E13-to-E11\" style=\"stroke:#181818;stroke-width:1.0;\"/><polygon fill=\"none\" points=\"806,382.91,813,362.91,820,382.91,806,382.91\" style=\"stroke:#181818;stroke-width:1.0;\"/></a></g><!--MD5=[e87b0008af9aa3b816b6bda4b2c42e68]\n",
       "reverse link E6 to E14--><g id=\"link_E6_E14\"><a href=\"psysml:829f6078-815d-4860-ae8a-8dc364f43364\" target=\"_top\" title=\"psysml:829f6078-815d-4860-ae8a-8dc364f43364\" xlink:actuate=\"onRequest\" xlink:href=\"psysml:829f6078-815d-4860-ae8a-8dc364f43364\" xlink:show=\"new\" xlink:title=\"psysml:829f6078-815d-4860-ae8a-8dc364f43364\" xlink:type=\"simple\"><path d=\"M381,438.57 C381,438.57 381,530 381,530 C381,530 499.35,530 558.99,530 \" fill=\"none\" id=\"E6-backto-E14\" style=\"stroke:#181818;stroke-width:1.0;\"/><polygon fill=\"#181818\" points=\"381,425.57,377,431.57,381,437.57,385,431.57,381,425.57\" style=\"stroke:#181818;stroke-width:1.0;\"/></a></g><!--MD5=[17bf29720e4688890742b92d9a67fdf0]\n",
       "reverse link E14 to E15--><g id=\"link_E14_E15\"><a href=\"psysml:4080509a-02fb-4e3e-b221-f245b8e76dd0\" target=\"_top\" title=\"psysml:4080509a-02fb-4e3e-b221-f245b8e76dd0\" xlink:actuate=\"onRequest\" xlink:href=\"psysml:4080509a-02fb-4e3e-b221-f245b8e76dd0\" xlink:show=\"new\" xlink:title=\"psysml:4080509a-02fb-4e3e-b221-f245b8e76dd0\" xlink:type=\"simple\"><path d=\"M639.39,530 C639.39,530 743.95,530 743.95,530 \" fill=\"none\" id=\"E14-backto-E15\" style=\"stroke:#181818;stroke-width:1.0;\"/><polygon fill=\"none\" points=\"626.39,530,632.39,534,638.39,530,632.39,526,626.39,530\" style=\"stroke:#181818;stroke-width:1.0;\"/></a></g><!--MD5=[1b01d5b954197aaf3899ca0bde35faf5]\n",
       "link E15 to E8--><g id=\"link_E15_E8\"><a href=\"psysml:12412137-086e-4469-b74b-f928afa83fc2\" target=\"_top\" title=\"psysml:12412137-086e-4469-b74b-f928afa83fc2\" xlink:actuate=\"onRequest\" xlink:href=\"psysml:12412137-086e-4469-b74b-f928afa83fc2\" xlink:show=\"new\" xlink:title=\"psysml:12412137-086e-4469-b74b-f928afa83fc2\" xlink:type=\"simple\"><path d=\"M877,504.5 C877,420.68 877,159 877,159 C877,159 916.84,159 956.06,159 \" fill=\"none\" id=\"E15-E8\" style=\"stroke:#181818;stroke-width:3.0;\"/></a></g><!--MD5=[e49333780d67d857bd3452d50cf754dc]\n",
       "link E16 to E6--><g id=\"link_E16_E6\"><a href=\"psysml:219791b5-3e2b-480e-a70a-2fe419425198\" target=\"_top\" title=\"psysml:219791b5-3e2b-480e-a70a-2fe419425198\" xlink:actuate=\"onRequest\" xlink:href=\"psysml:219791b5-3e2b-480e-a70a-2fe419425198\" xlink:show=\"new\" xlink:title=\"psysml:219791b5-3e2b-480e-a70a-2fe419425198\" xlink:type=\"simple\"><path d=\"M120.12,325.5 C120.12,325.5 159.81,325.5 159.81,325.5 \" fill=\"none\" id=\"E16-to-E6\" style=\"stroke:#181818;stroke-width:1.0;\"/><polygon fill=\"none\" points=\"159.81,318.5,179.81,325.5,159.81,332.5,159.81,318.5\" style=\"stroke:#181818;stroke-width:1.0;\"/></a></g><!--MD5=[83b671efae201694a20ab4d5a8adffa0]\n",
       "reverse link E16 to E17--><g id=\"link_E16_E17\"><a href=\"psysml:b592afc5-da4b-421b-9182-39fb0a84ae20\" target=\"_top\" title=\"psysml:b592afc5-da4b-421b-9182-39fb0a84ae20\" xlink:actuate=\"onRequest\" xlink:href=\"psysml:b592afc5-da4b-421b-9182-39fb0a84ae20\" xlink:show=\"new\" xlink:title=\"psysml:b592afc5-da4b-421b-9182-39fb0a84ae20\" xlink:type=\"simple\"><path d=\"M114,276.29 C114,276.29 114,247 114,247 C114,247 183.87,247 240.91,247 \" fill=\"none\" id=\"E16-backto-E17\" style=\"stroke:#181818;stroke-width:1.0;\"/><polygon fill=\"#181818\" points=\"114,289.29,118,283.29,114,277.29,110,283.29,114,289.29\" style=\"stroke:#181818;stroke-width:1.0;\"/></a></g><!--MD5=[ec02213b688817ca196aadc754e14d5d]\n",
       "link E17 to E11--><g id=\"link_E17_E11\"><a href=\"psysml:aca13667-1d3f-4dba-b050-d73a67e32a7e\" target=\"_top\" title=\"psysml:aca13667-1d3f-4dba-b050-d73a67e32a7e\" xlink:actuate=\"onRequest\" xlink:href=\"psysml:aca13667-1d3f-4dba-b050-d73a67e32a7e\" xlink:show=\"new\" xlink:title=\"psysml:aca13667-1d3f-4dba-b050-d73a67e32a7e\" xlink:type=\"simple\"><path d=\"M386.02,257 C514.34,257 768,257 768,257 C768,257 768,291.25 768,291.25 \" fill=\"none\" id=\"E17-to-E11\" style=\"stroke:#181818;stroke-width:1.0;\"/><polygon fill=\"#FFFFFF\" points=\"768,311.25,761,292.25,775,292.25,768,311.25\" style=\"stroke:#181818;stroke-width:1.0;\"/><line style=\"stroke:#181818;stroke-width:2.0;\" x1=\"761\" x2=\"775\" y1=\"288.45\" y2=\"288.45\"/></a></g><!--MD5=[b8b66ebb69f736f02fe54aa8b5145c59]\n",
       "link E11 to E18--><g id=\"link_E11_E18\"><a href=\"psysml:e54302eb-9d7f-4151-9766-f5340279f235\" target=\"_top\" title=\"psysml:e54302eb-9d7f-4151-9766-f5340279f235\" xlink:actuate=\"onRequest\" xlink:href=\"psysml:e54302eb-9d7f-4151-9766-f5340279f235\" xlink:show=\"new\" xlink:title=\"psysml:e54302eb-9d7f-4151-9766-f5340279f235\" xlink:type=\"simple\"><path d=\"M873.21,337 C873.21,337 977.26,337 977.26,337 \" fill=\"none\" id=\"E11-to-E18\" style=\"stroke:#181818;stroke-width:1.0;\"/><polygon fill=\"#FFFFFF\" points=\"997.26,337,978.26,344,978.26,330,997.26,337\" style=\"stroke:#181818;stroke-width:1.0;\"/><ellipse cx=\"972.56\" cy=\"342\" fill=\"#181818\" rx=\"2\" ry=\"2\" style=\"stroke:#181818;stroke-width:1.0;\"/><ellipse cx=\"972.56\" cy=\"332\" fill=\"#181818\" rx=\"2\" ry=\"2\" style=\"stroke:#181818;stroke-width:1.0;\"/></a></g><!--MD5=[ccf7aa128b682f3a0ccda039adc0b7d4]\n",
       "reverse link E18 to E19--><g id=\"link_E18_E19\"><a href=\"psysml:68bfb0f8-78b7-44da-88ff-2d8d3e6b083d\" target=\"_top\" title=\"psysml:68bfb0f8-78b7-44da-88ff-2d8d3e6b083d\" xlink:actuate=\"onRequest\" xlink:href=\"psysml:68bfb0f8-78b7-44da-88ff-2d8d3e6b083d\" xlink:show=\"new\" xlink:title=\"psysml:68bfb0f8-78b7-44da-88ff-2d8d3e6b083d\" xlink:type=\"simple\"><path d=\"M1078.54,337 C1078.54,337 1175.7,337 1175.7,337 \" fill=\"none\" id=\"E18-backto-E19\" style=\"stroke:#181818;stroke-width:1.0;\"/><polygon fill=\"#181818\" points=\"1065.54,337,1071.54,341,1077.54,337,1071.54,333,1065.54,337\" style=\"stroke:#181818;stroke-width:1.0;\"/></a></g><!--MD5=[214c7322132207e1595becafda8599d7]\n",
       "link E15 to E20--><g id=\"link_E15_E20\"><a href=\"psysml:65e08484-9866-43ce-b723-2a8a0d175ea3\" target=\"_top\" title=\"psysml:65e08484-9866-43ce-b723-2a8a0d175ea3\" xlink:actuate=\"onRequest\" xlink:href=\"psysml:65e08484-9866-43ce-b723-2a8a0d175ea3\" xlink:show=\"new\" xlink:title=\"psysml:65e08484-9866-43ce-b723-2a8a0d175ea3\" xlink:type=\"simple\"><path d=\"M881.05,530 C945.45,530 1032,530 1032,530 C1032,530 1032,584.25 1032,584.25 \" fill=\"none\" id=\"E15-to-E20\" style=\"stroke:#181818;stroke-width:1.0;\"/><polygon fill=\"#FFFFFF\" points=\"1032,604.25,1025,585.25,1039,585.25,1032,604.25\" style=\"stroke:#181818;stroke-width:1.0;\"/><ellipse cx=\"1027\" cy=\"579.55\" fill=\"#181818\" rx=\"2\" ry=\"2\" style=\"stroke:#181818;stroke-width:1.0;\"/><ellipse cx=\"1037\" cy=\"579.55\" fill=\"#181818\" rx=\"2\" ry=\"2\" style=\"stroke:#181818;stroke-width:1.0;\"/></a></g><!--MD5=[1a6308b15a34c383117d799f6b35794f]\n",
       "reverse link E20 to E21--><g id=\"link_E20_E21\"><a href=\"psysml:eef009e1-9508-48f1-9cad-e62581d552b7\" target=\"_top\" title=\"psysml:eef009e1-9508-48f1-9cad-e62581d552b7\" xlink:actuate=\"onRequest\" xlink:href=\"psysml:eef009e1-9508-48f1-9cad-e62581d552b7\" xlink:show=\"new\" xlink:title=\"psysml:eef009e1-9508-48f1-9cad-e62581d552b7\" xlink:type=\"simple\"><path d=\"M1074.55,636 C1074.55,636 1323.76,636 1323.76,636 \" fill=\"none\" id=\"E20-backto-E21\" style=\"stroke:#181818;stroke-width:1.0;\"/><polygon fill=\"none\" points=\"1061.55,636,1067.55,640,1073.55,636,1067.55,632,1061.55,636\" style=\"stroke:#181818;stroke-width:1.0;\"/></a></g><!--MD5=[51b187ae0284ba3dc43b21346ebf4776]\n",
       "link E21 to E22--><g id=\"link_E21_E22\"><a href=\"psysml:0a9c4e03-8bc2-431c-b8e4-87766f977d1d\" target=\"_top\" title=\"psysml:0a9c4e03-8bc2-431c-b8e4-87766f977d1d\" xlink:actuate=\"onRequest\" xlink:href=\"psysml:0a9c4e03-8bc2-431c-b8e4-87766f977d1d\" xlink:show=\"new\" xlink:title=\"psysml:0a9c4e03-8bc2-431c-b8e4-87766f977d1d\" xlink:type=\"simple\"><path d=\"M1374,667.89 C1374,674.86 1374,680.5 1374,680.5 C1374,680.5 1610.89,680.5 1610.89,680.5 \" fill=\"none\" id=\"E21-to-E22\" style=\"stroke:#181818;stroke-width:1.0;\"/><polygon fill=\"#FFFFFF\" points=\"1630.89,680.5,1611.89,687.5,1611.89,673.5,1630.89,680.5\" style=\"stroke:#181818;stroke-width:1.0;\"/><ellipse cx=\"1606.19\" cy=\"685.5\" fill=\"#181818\" rx=\"2\" ry=\"2\" style=\"stroke:#181818;stroke-width:1.0;\"/><ellipse cx=\"1606.19\" cy=\"675.5\" fill=\"#181818\" rx=\"2\" ry=\"2\" style=\"stroke:#181818;stroke-width:1.0;\"/></a></g><!--MD5=[1d8c22e3f363ad2a662668374a511e29]\n",
       "reverse link E23 to E24--><g id=\"link_E23_E24\"><a href=\"psysml:acd674e6-431c-487a-814e-74eab3af7129\" target=\"_top\" title=\"psysml:acd674e6-431c-487a-814e-74eab3af7129\" xlink:actuate=\"onRequest\" xlink:href=\"psysml:acd674e6-431c-487a-814e-74eab3af7129\" xlink:show=\"new\" xlink:title=\"psysml:acd674e6-431c-487a-814e-74eab3af7129\" xlink:type=\"simple\"><path d=\"M635,763.2 C635,763.2 635,716 635,716 C635,716 689.42,716 738,716 \" fill=\"none\" id=\"E23-backto-E24\" style=\"stroke:#181818;stroke-width:1.0;\"/><polygon fill=\"none\" points=\"635,776.2,639,770.2,635,764.2,631,770.2,635,776.2\" style=\"stroke:#181818;stroke-width:1.0;\"/></a></g><!--MD5=[5fdcac5126942d33d6ccd00067079823]\n",
       "link E24 to E20--><g id=\"link_E24_E20\"><a href=\"psysml:54b674da-7f8a-4e74-a3ac-bb12c1f7023c\" target=\"_top\" title=\"psysml:54b674da-7f8a-4e74-a3ac-bb12c1f7023c\" xlink:actuate=\"onRequest\" xlink:href=\"psysml:54b674da-7f8a-4e74-a3ac-bb12c1f7023c\" xlink:show=\"new\" xlink:title=\"psysml:54b674da-7f8a-4e74-a3ac-bb12c1f7023c\" xlink:type=\"simple\"><path d=\"M813,690.2 C813,664.87 813,630 813,630 C813,630 981.12,630 981.12,630 \" fill=\"none\" id=\"E24-to-E20\" style=\"stroke:#181818;stroke-width:1.0;\"/><polygon fill=\"#FFFFFF\" points=\"1001.12,630,982.12,637,982.12,623,1001.12,630\" style=\"stroke:#181818;stroke-width:1.0;\"/><ellipse cx=\"976.42\" cy=\"635\" fill=\"#181818\" rx=\"2\" ry=\"2\" style=\"stroke:#181818;stroke-width:1.0;\"/><ellipse cx=\"976.42\" cy=\"625\" fill=\"#181818\" rx=\"2\" ry=\"2\" style=\"stroke:#181818;stroke-width:1.0;\"/></a></g><!--MD5=[62221375f35154e753917cb43ec12b45]\n",
       "reverse link E24 to E25--><g id=\"link_E24_E25\"><a href=\"psysml:eef009e1-9508-48f1-9cad-e62581d552b7\" target=\"_top\" title=\"psysml:eef009e1-9508-48f1-9cad-e62581d552b7\" xlink:actuate=\"onRequest\" xlink:href=\"psysml:eef009e1-9508-48f1-9cad-e62581d552b7\" xlink:show=\"new\" xlink:title=\"psysml:eef009e1-9508-48f1-9cad-e62581d552b7\" xlink:type=\"simple\"><path d=\"M900.25,716 C900.25,716 979.5,716 979.5,716 \" fill=\"none\" id=\"E24-backto-E25\" style=\"stroke:#181818;stroke-width:1.0;\"/><polygon fill=\"none\" points=\"887.25,716,893.25,720,899.25,716,893.25,712,887.25,716\" style=\"stroke:#181818;stroke-width:1.0;\"/></a></g><!--MD5=[30cb7641ccb067730e9b6a37d9307a73]\n",
       "link E25 to E22--><g id=\"link_E25_E22\"><a href=\"psysml:0a9c4e03-8bc2-431c-b8e4-87766f977d1d\" target=\"_top\" title=\"psysml:0a9c4e03-8bc2-431c-b8e4-87766f977d1d\" xlink:actuate=\"onRequest\" xlink:href=\"psysml:0a9c4e03-8bc2-431c-b8e4-87766f977d1d\" xlink:show=\"new\" xlink:title=\"psysml:0a9c4e03-8bc2-431c-b8e4-87766f977d1d\" xlink:type=\"simple\"><path d=\"M1083.57,716 C1083.57,716 1610.77,716 1610.77,716 \" fill=\"none\" id=\"E25-to-E22\" style=\"stroke:#181818;stroke-width:1.0;\"/><polygon fill=\"#FFFFFF\" points=\"1630.77,716,1611.77,723,1611.77,709,1630.77,716\" style=\"stroke:#181818;stroke-width:1.0;\"/><ellipse cx=\"1606.07\" cy=\"721\" fill=\"#181818\" rx=\"2\" ry=\"2\" style=\"stroke:#181818;stroke-width:1.0;\"/><ellipse cx=\"1606.07\" cy=\"711\" fill=\"#181818\" rx=\"2\" ry=\"2\" style=\"stroke:#181818;stroke-width:1.0;\"/></a></g><!--MD5=[146f16ca70d05cb3bc8e9706a3181fcd]\n",
       "reverse link E23 to E26--><g id=\"link_E23_E26\"><a href=\"psysml:bcb87df0-7bad-477d-9e24-c09cddd0e533\" target=\"_top\" title=\"psysml:bcb87df0-7bad-477d-9e24-c09cddd0e533\" xlink:actuate=\"onRequest\" xlink:href=\"psysml:bcb87df0-7bad-477d-9e24-c09cddd0e533\" xlink:show=\"new\" xlink:title=\"psysml:bcb87df0-7bad-477d-9e24-c09cddd0e533\" xlink:type=\"simple\"><path d=\"M655.86,802 C655.86,802 946.85,802 946.85,802 \" fill=\"none\" id=\"E23-backto-E26\" style=\"stroke:#181818;stroke-width:1.0;\"/><polygon fill=\"none\" points=\"642.86,802,648.86,806,654.86,802,648.86,798,642.86,802\" style=\"stroke:#181818;stroke-width:1.0;\"/></a></g><!--MD5=[768083b52c205097188b750740e4e13b]\n",
       "reverse link E26 to E27--><g id=\"link_E26_E27\"><a href=\"psysml:eef009e1-9508-48f1-9cad-e62581d552b7\" target=\"_top\" title=\"psysml:eef009e1-9508-48f1-9cad-e62581d552b7\" xlink:actuate=\"onRequest\" xlink:href=\"psysml:eef009e1-9508-48f1-9cad-e62581d552b7\" xlink:show=\"new\" xlink:title=\"psysml:eef009e1-9508-48f1-9cad-e62581d552b7\" xlink:type=\"simple\"><path d=\"M1129.04,787 C1129.04,787 1321.28,787 1321.28,787 \" fill=\"none\" id=\"E26-backto-E27\" style=\"stroke:#181818;stroke-width:1.0;\"/><polygon fill=\"none\" points=\"1116.04,787,1122.04,791,1128.04,787,1122.04,783,1116.04,787\" style=\"stroke:#181818;stroke-width:1.0;\"/></a></g><!--MD5=[4eaef51212fa10231595aedd33a7c92f]\n",
       "link E27 to E22--><g id=\"link_E27_E22\"><a href=\"psysml:0a9c4e03-8bc2-431c-b8e4-87766f977d1d\" target=\"_top\" title=\"psysml:0a9c4e03-8bc2-431c-b8e4-87766f977d1d\" xlink:actuate=\"onRequest\" xlink:href=\"psysml:0a9c4e03-8bc2-431c-b8e4-87766f977d1d\" xlink:show=\"new\" xlink:title=\"psysml:0a9c4e03-8bc2-431c-b8e4-87766f977d1d\" xlink:type=\"simple\"><path d=\"M1425.61,773.5 C1509.46,773.5 1665,773.5 1665,773.5 C1665,773.5 1665,769.85 1665,769.85 \" fill=\"none\" id=\"E27-to-E22\" style=\"stroke:#181818;stroke-width:1.0;\"/><polygon fill=\"#FFFFFF\" points=\"1665,749.85,1672,768.85,1658,768.85,1665,749.85\" style=\"stroke:#181818;stroke-width:1.0;\"/><ellipse cx=\"1670\" cy=\"774.55\" fill=\"#181818\" rx=\"2\" ry=\"2\" style=\"stroke:#181818;stroke-width:1.0;\"/><ellipse cx=\"1660\" cy=\"774.55\" fill=\"#181818\" rx=\"2\" ry=\"2\" style=\"stroke:#181818;stroke-width:1.0;\"/></a></g><!--MD5=[2fbdc973c2fecaffdac4492e35c02edb]\n",
       "link E25 to E27--><g id=\"link_E25_E27\"><a href=\"psysml:a3e0ed8d-4b81-4978-b888-8176ebdd44fc\" target=\"_top\" title=\"psysml:a3e0ed8d-4b81-4978-b888-8176ebdd44fc\" xlink:actuate=\"onRequest\" xlink:href=\"psysml:a3e0ed8d-4b81-4978-b888-8176ebdd44fc\" xlink:show=\"new\" xlink:title=\"psysml:a3e0ed8d-4b81-4978-b888-8176ebdd44fc\" xlink:type=\"simple\"><path d=\"M1032,741.68 C1032,752 1032,761.5 1032,761.5 C1032,761.5 1316.26,761.5 1316.26,761.5 \" fill=\"none\" id=\"E25-to-E27\" style=\"stroke:#181818;stroke-width:1.0;\"/><polygon fill=\"#181818\" points=\"1321.26,761.5,1312.26,757.5,1316.26,761.5,1312.26,765.5,1321.26,761.5\" style=\"stroke:#181818;stroke-width:1.0;\"/><text fill=\"#000000\" font-family=\"sans-serif\" font-size=\"13\" lengthAdjust=\"spacing\" textLength=\"44\" x=\"1119.22\" y=\"775.9951\">: Power</text></a></g><!--MD5=[14e1a71d9427647413b7b309373ee045]\n",
       "@startuml\r\n",
       "skin sysmlbw\r\n",
       "skinparam monochrome true\r\n",
       "skinparam wrapWidth 300\r\n",
       "hide circle\r\n",
       "left to right direction\r\n",
       "skinparam linetype ortho\r\n",
       "\r\n",
       "package \"Definitions\" as E1  [[psysml:842c835e-538a-4605-9984-10a6c92c3831 ]]  {\r\n",
       "comp def \"Hero\" as E2  <<(T,blue) item  def>> [[psysml:e31b8ba4-9798-4a93-980b-d9eee28ba0f6 ]] {\r\n",
       "}\r\n",
       "comp def \"Vehicle\" as E3  <<(T,blue) part  def>> [[psysml:4aa5f7ac-4c63-4489-8144-06877107bc63 ]] {\r\n",
       "##//attributes//##\r\n",
       "actualSpeed: SpeedUnit\r\n",
       "}\r\n",
       "comp usage \"driver  \" as E4  <<(T,blue) item>> [[psysml:f5dbe14f-e71e-4f8d-b24a-8ec55f5012ea ]] {\r\n",
       "}\r\n",
       "comp usage \"engine  \" as E5  <<(T,blue) part>> [[psysml:680e8c07-b50d-4248-8c4d-9ee9f3f66c6f ]] {\r\n",
       "}\r\n",
       "comp def \"Batmobile\" as E6  <<(T,blue) part  def>> [[psysml:deddc36a-888b-4c3e-a4b4-2e0e96b24885 ]] {\r\n",
       "##//interfaces//##\r\n",
       "battery2engine: PowerInterface connect battery.powerPort to batmobileEngine.enginePort\r\n",
       "}\r\n",
       "comp usage \"batmobileEngine  \" as E7  <<(T,blue) part>> [[psysml:de5c3b00-5a59-4f85-a781-79ef204e0e0f ]] {\r\n",
       "}\r\n",
       "comp usage \"enginePort: ~PowerIP  \" as E8  <<(T,blue) port>> [[psysml:3390072d-b832-43c6-9999-15e13f7e1703 ]] {\r\n",
       "}\r\n",
       "comp usage \"seat[2]  \" as E9  <<(T,blue) part>> [[psysml:e0af43df-5ded-48e9-adfa-8d4b8612df5b ]] {\r\n",
       "}\r\n",
       "comp usage \"body  \" as E10  <<(T,blue) part>> [[psysml:77e3ff5b-40ff-4c67-b9bb-b20f0fd51700 ]] {\r\n",
       "}\r\n",
       "comp usage \"wheels: Wheel[4]  \" as E11  <<(T,blue) part>> [[psysml:5b71d5ed-7bd8-4b50-a64f-c0e587475742 ]] {\r\n",
       "}\r\n",
       "comp usage \"frontLeftWheel :>wheels \" as E12  <<(T,blue) part>> [[psysml:79573f7d-5143-4de0-bfef-1581340469e5 ]] {\r\n",
       "}\r\n",
       "comp usage \"frontRightWheel :>wheels \" as E13  <<(T,blue) part>> [[psysml:7c2c87a6-fcee-4d9b-bbf0-59d771dcc08e ]] {\r\n",
       "}\r\n",
       "comp usage \"battery  \" as E14  <<(T,blue) part>> [[psysml:bee0b474-016b-4281-9f66-ec338ef16370 ]] {\r\n",
       "##//attributes//##\r\n",
       "capacity\r\n",
       "}\r\n",
       "comp usage \"powerPort: PowerIP  \" as E15  <<(T,blue) port>> [[psysml:728b616b-2244-4b94-9362-2438dfe53376 ]] {\r\n",
       "}\r\n",
       "comp def \"BatmobileNG\" as E16  <<(T,blue) part  def>> [[psysml:ef9eecb6-3fa3-46eb-a3b5-59a5620c5d11 ]] {\r\n",
       "}\r\n",
       "comp usage \"bulletProofWheels[4]  \" as E17  <<(T,blue) part>> [[psysml:aea09405-0683-496a-bba8-ac9bc3c1053d ]] {\r\n",
       "}\r\n",
       "comp def \"Wheel\" as E18  <<(T,blue) part  def>> [[psysml:3d6c80e1-2d88-4d8f-bfbc-68b815991e7e ]] {\r\n",
       "##//attributes//##\r\n",
       "pressure\r\n",
       "}\r\n",
       "comp usage \"boundingBox: RectangularCuboid[1] :>Item::boundingShapes \" as E19  <<(T,blue) item>> [[psysml:6ed6dbd1-dc3d-401c-a2f5-41e3116092b9 ]] {\r\n",
       "}\r\n",
       "comp def \"PowerIP\" as E20  <<(T,blue) port  def>> [[psysml:7ca81ccf-ed66-419c-ac79-15e8ac7a3dd7 ]] {\r\n",
       "}\r\n",
       "comp usage \"power: Power  \" as E21  <<(T,blue) item>> [[psysml:ccd3fde1-a294-45f0-a7ae-d577658c13c5 ]] {\r\n",
       "}\r\n",
       "comp def \"Power\" as E22  <<(T,blue) item  def>> [[psysml:d4ec1fc0-4a6d-4f98-9bed-4b988d9980ea ]] {\r\n",
       "##//attributes//##\r\n",
       "value\r\n",
       "}\r\n",
       "comp def \"PowerInterface\" as E23  <<(T,blue) interface  def>> [[psysml:9a4b02c0-7485-4ef8-b5f4-34fc58f20621 ]] {\r\n",
       "}\r\n",
       "comp usage \"supplierPort: PowerIP  \" as E24  <<(T,blue) port>> [[psysml:2a691a75-b4d8-49d0-829f-ba8eb29ba55d ]] {\r\n",
       "}\r\n",
       "comp usage \"^power: Power  \" as E25  <<(T,blue) item>> [[psysml:ccd3fde1-a294-45f0-a7ae-d577658c13c5 ]] {\r\n",
       "}\r\n",
       "comp usage \"consumerPort: ~PowerIP  \" as E26  <<(T,blue) port>> [[psysml:91d3d9b0-013d-4a8b-8b64-9c99f4b24625 ]] {\r\n",
       "}\r\n",
       "comp usage \"^power: Power  \" as E27  <<(T,blue) item>> [[psysml:ccd3fde1-a294-45f0-a7ae-d577658c13c5 ]] {\r\n",
       "}\r\n",
       "}\r\n",
       "E3 *- - E4 [[psysml:77bbba29-6fc6-45a0-ba2e-3a681c5f89e8 ]] \r\n",
       "E3 *- - E5 [[psysml:5723f0fd-b379-4811-be9d-d3db85520cea ]] \r\n",
       "E6 - -|> E3 [[psysml:dd98a78e-c369-4a47-ba9e-18d03e011749 ]] \r\n",
       "E6 *- - E7 [[psysml:9401e601-1bbc-411e-abe1-e10e8853b062 ]] \r\n",
       "E7 - -||> E5 [[psysml:ecf8145c-ecb0-48de-876d-49a53773f250 ]] \r\n",
       "E7 o- - E8 [[psysml:87d9ed22-fcef-48dc-adea-54b812466827 ]] \r\n",
       "E6 *- - E9 [[psysml:2523a9c1-7bb1-4c83-88ab-32733c3abcf2 ]] \r\n",
       "E6 *- - E10 [[psysml:4b3fe8bb-173c-498a-8863-cd769a9494b6 ]] \r\n",
       "E6 *- - E11 [[psysml:e8bc50ea-13be-4e1d-a439-da9888233acf ]] \r\n",
       "E6 *- - E12 [[psysml:98b54637-af13-42ff-8e87-0b3bc2eb6109 ]] \r\n",
       "E12 - -|> E11 [[psysml:d8b2805d-ef11-4e55-b6e9-91651f7bcbbe ]] \r\n",
       "E6 *- - E13 [[psysml:af1c590c-7e49-4a86-a94a-e556496b554f ]] \r\n",
       "E13 - -|> E11 [[psysml:e763d73c-1fc5-4c44-8078-5bad05304977 ]] \r\n",
       "E6 *- - E14 [[psysml:829f6078-815d-4860-ae8a-8dc364f43364 ]] \r\n",
       "E14 o- - E15 [[psysml:4080509a-02fb-4e3e-b221-f245b8e76dd0 ]] \r\n",
       "E15 -[thickness=3]- E8 [[psysml:12412137-086e-4469-b74b-f928afa83fc2 ]] \r\n",
       "E16 - -|> E6 [[psysml:219791b5-3e2b-480e-a70a-2fe419425198 ]] \r\n",
       "E16 *- - E17 [[psysml:b592afc5-da4b-421b-9182-39fb0a84ae20 ]] \r\n",
       "E17 - -||> E11 [[psysml:aca13667-1d3f-4dba-b050-d73a67e32a7e ]] \r\n",
       "E11 - -:|> E18 [[psysml:e54302eb-9d7f-4151-9766-f5340279f235 ]] \r\n",
       "E18 *- - E19 [[psysml:68bfb0f8-78b7-44da-88ff-2d8d3e6b083d ]] \r\n",
       "E15 - -:|> E20 [[psysml:65e08484-9866-43ce-b723-2a8a0d175ea3 ]] \r\n",
       "E20 o- - E21 [[psysml:eef009e1-9508-48f1-9cad-e62581d552b7 ]] \r\n",
       "E21 - -:|> E22 [[psysml:0a9c4e03-8bc2-431c-b8e4-87766f977d1d ]] \r\n",
       "E23 o- - E24 [[psysml:acd674e6-431c-487a-814e-74eab3af7129 ]] \r\n",
       "E24 - -:|> E20 [[psysml:54b674da-7f8a-4e74-a3ac-bb12c1f7023c ]] \r\n",
       "E24 o- - E25 [[psysml:eef009e1-9508-48f1-9cad-e62581d552b7 ]] \r\n",
       "E25 - -:|> E22 [[psysml:0a9c4e03-8bc2-431c-b8e4-87766f977d1d ]] \r\n",
       "E23 o- - E26 [[psysml:bcb87df0-7bad-477d-9e24-c09cddd0e533 ]] \r\n",
       "E26 o- - E27 [[psysml:eef009e1-9508-48f1-9cad-e62581d552b7 ]] \r\n",
       "E27 - -:|> E22 [[psysml:0a9c4e03-8bc2-431c-b8e4-87766f977d1d ]] \r\n",
       "E25 - -> E27 [[psysml:a3e0ed8d-4b81-4978-b888-8176ebdd44fc ]] : : Power\r\n",
       "@enduml\r\n",
       "\n",
       "PlantUML version 1.2022.7(Mon Aug 22 11:01:30 GMT-06:00 2022)\n",
       "(EPL source distribution)\n",
       "Java Runtime: OpenJDK Runtime Environment\n",
       "JVM: OpenJDK 64-Bit Server VM\n",
       "Default Encoding: UTF-8\n",
       "Language: en\n",
       "Country: US\n",
       "--></g></svg>"
      ]
     },
     "execution_count": 551,
     "metadata": {},
     "output_type": "execute_result"
    }
   ],
   "source": [
    "%viz --view=TREE --style=LR --style=ORTHOLINE Definitions"
   ]
  },
  {
   "cell_type": "code",
   "execution_count": 1136,
   "id": "690302a8-6806-42cf-8056-822b9fb68f89",
   "metadata": {},
   "outputs": [
    {
     "data": {
      "text/plain": [
       "Package Variability (35887f08-1026-4158-9de8-34844f58320a)\n"
      ]
     },
     "execution_count": 1136,
     "metadata": {},
     "output_type": "execute_result"
    }
   ],
   "source": [
    "package Variability {\n",
    "    private import Definitions::*;\n",
    "    \n",
    "    part def StandardEngine specializes BatmobileEngine;\n",
    "    part def XtremeEngine specializes BatmobileEngine;\n",
    "    part def StandardWheel specializes Wheel;\n",
    "    part def XtremeWheel specializes Wheel;\n",
    "    \n",
    "    variation part def EngineChoices specializes BatmobileEngine {\n",
    "        variant part sEngine : StandardEngine;\n",
    "        variant part xEngine : XtremeEngine;\n",
    "    }\n",
    "    \n",
    "    variation part def WheelChoices specializes Wheel {\n",
    "        variant part sWheel : StandardWheel;\n",
    "        variant part xWheel : XtremeWheel;\n",
    "    }\n",
    "    \n",
    "    part def BatmobileConfigurations :> Batmobile {\n",
    "        part :>> batmobileEngine : EngineChoices;\n",
    "        part :>> wheels[4] : WheelChoices;\n",
    "        assert constraint {\n",
    "            (batmobileEngine == batmobileEngine::xEngine and wheels == wheels.xWheel)\n",
    "        }\n",
    "    }\n",
    "}"
   ]
  },
  {
   "cell_type": "code",
   "execution_count": 1142,
   "id": "684b963a-f14f-4233-8427-4e9b2d791be3",
   "metadata": {},
   "outputs": [
    {
     "data": {
      "image/svg+xml": [
       "<?xml version=\"1.0\" encoding=\"UTF-8\" standalone=\"no\"?><svg xmlns=\"http://www.w3.org/2000/svg\" xmlns:xlink=\"http://www.w3.org/1999/xlink\" contentStyleType=\"text/css\" height=\"604px\" preserveAspectRatio=\"none\" style=\"width:826px;height:604px;background:#FFFFFF;\" version=\"1.1\" viewBox=\"0 0 826 604\" width=\"826px\" zoomAndPan=\"magnify\"><defs/><g><!--MD5=[fbc87193dbaf4d95561dea2c320d4a47]\n",
       "cluster E1--><g id=\"cluster_E1\"><a href=\"psysml:35887f08-1026-4158-9de8-34844f58320a\" target=\"_top\" title=\"psysml:35887f08-1026-4158-9de8-34844f58320a\" xlink:actuate=\"onRequest\" xlink:href=\"psysml:35887f08-1026-4158-9de8-34844f58320a\" xlink:show=\"new\" xlink:title=\"psysml:35887f08-1026-4158-9de8-34844f58320a\" xlink:type=\"simple\"><polygon fill=\"none\" points=\"16,6,90,6,97,29.6094,809,29.6094,809,597,16,597,16,6\" style=\"stroke:#000000;stroke-width:1.5;\"/><line style=\"stroke:#000000;stroke-width:1.5;\" x1=\"16\" x2=\"97\" y1=\"29.6094\" y2=\"29.6094\"/><text fill=\"#000000\" font-family=\"sans-serif\" font-size=\"14\" font-weight=\"bold\" lengthAdjust=\"spacing\" textLength=\"68\" x=\"20\" y=\"22.5332\">Variability</text></a></g><!--MD5=[b4997ac47864f28c2f74865a473b2911]\n",
       "class E2--><a href=\"psysml:a651889c-1f3e-4518-a81f-304dd83c8ac7\" target=\"_top\" title=\"psysml:a651889c-1f3e-4518-a81f-304dd83c8ac7\" xlink:actuate=\"onRequest\" xlink:href=\"psysml:a651889c-1f3e-4518-a81f-304dd83c8ac7\" xlink:show=\"new\" xlink:title=\"psysml:a651889c-1f3e-4518-a81f-304dd83c8ac7\" xlink:type=\"simple\"><g id=\"elem_E2\"><rect fill=\"#FFFFFF\" height=\"50.7031\" id=\"E2\" style=\"stroke:#181818;stroke-width:0.5;\" width=\"108\" x=\"685\" y=\"42\"/><text fill=\"#000000\" font-family=\"sans-serif\" font-size=\"12\" font-style=\"italic\" lengthAdjust=\"spacing\" textLength=\"58\" x=\"710\" y=\"59.457\">«part  def»</text><text fill=\"#000000\" font-family=\"sans-serif\" font-size=\"14\" lengthAdjust=\"spacing\" textLength=\"102\" x=\"688\" y=\"76.627\">StandardEngine</text><line style=\"stroke:#181818;stroke-width:0.5;\" x1=\"686\" x2=\"792\" y1=\"84.7031\" y2=\"84.7031\"/></g></a><!--MD5=[09b614a08d8cba4a07c9adeb5e0fee81]\n",
       "class E3--><a href=\"psysml:5cc55066-2037-461c-aae5-acc66ded8b01\" target=\"_top\" title=\"psysml:5cc55066-2037-461c-aae5-acc66ded8b01\" xlink:actuate=\"onRequest\" xlink:href=\"psysml:5cc55066-2037-461c-aae5-acc66ded8b01\" xlink:show=\"new\" xlink:title=\"psysml:5cc55066-2037-461c-aae5-acc66ded8b01\" xlink:type=\"simple\"><g id=\"elem_E3\"><rect fill=\"#FFFFFF\" height=\"50.7031\" id=\"E3\" style=\"stroke:#181818;stroke-width:0.5;\" width=\"94\" x=\"556\" y=\"42\"/><text fill=\"#000000\" font-family=\"sans-serif\" font-size=\"12\" font-style=\"italic\" lengthAdjust=\"spacing\" textLength=\"58\" x=\"574\" y=\"59.457\">«part  def»</text><text fill=\"#000000\" font-family=\"sans-serif\" font-size=\"14\" lengthAdjust=\"spacing\" textLength=\"88\" x=\"559\" y=\"76.627\">XtremeEngine</text><line style=\"stroke:#181818;stroke-width:0.5;\" x1=\"557\" x2=\"649\" y1=\"84.7031\" y2=\"84.7031\"/></g></a><!--MD5=[ebbe1d658d1005bcc118a6aa81145e00]\n",
       "class E4--><a href=\"psysml:a8609dde-0aac-4327-8596-e351cc74ac3b\" target=\"_top\" title=\"psysml:a8609dde-0aac-4327-8596-e351cc74ac3b\" xlink:actuate=\"onRequest\" xlink:href=\"psysml:a8609dde-0aac-4327-8596-e351cc74ac3b\" xlink:show=\"new\" xlink:title=\"psysml:a8609dde-0aac-4327-8596-e351cc74ac3b\" xlink:type=\"simple\"><g id=\"elem_E4\"><rect fill=\"#FFFFFF\" height=\"50.7031\" id=\"E4\" style=\"stroke:#181818;stroke-width:0.5;\" width=\"104\" x=\"417\" y=\"42\"/><text fill=\"#000000\" font-family=\"sans-serif\" font-size=\"12\" font-style=\"italic\" lengthAdjust=\"spacing\" textLength=\"58\" x=\"440\" y=\"59.457\">«part  def»</text><text fill=\"#000000\" font-family=\"sans-serif\" font-size=\"14\" lengthAdjust=\"spacing\" textLength=\"98\" x=\"420\" y=\"76.627\">StandardWheel</text><line style=\"stroke:#181818;stroke-width:0.5;\" x1=\"418\" x2=\"520\" y1=\"84.7031\" y2=\"84.7031\"/></g></a><!--MD5=[270fce915f116d4de14055a7c1d9a0f3]\n",
       "class E5--><a href=\"psysml:cf4b5810-f4db-40b3-9717-22f6fd54963b\" target=\"_top\" title=\"psysml:cf4b5810-f4db-40b3-9717-22f6fd54963b\" xlink:actuate=\"onRequest\" xlink:href=\"psysml:cf4b5810-f4db-40b3-9717-22f6fd54963b\" xlink:show=\"new\" xlink:title=\"psysml:cf4b5810-f4db-40b3-9717-22f6fd54963b\" xlink:type=\"simple\"><g id=\"elem_E5\"><rect fill=\"#FFFFFF\" height=\"50.7031\" id=\"E5\" style=\"stroke:#181818;stroke-width:0.5;\" width=\"90\" x=\"292\" y=\"42\"/><text fill=\"#000000\" font-family=\"sans-serif\" font-size=\"12\" font-style=\"italic\" lengthAdjust=\"spacing\" textLength=\"58\" x=\"308\" y=\"59.457\">«part  def»</text><text fill=\"#000000\" font-family=\"sans-serif\" font-size=\"14\" lengthAdjust=\"spacing\" textLength=\"84\" x=\"295\" y=\"76.627\">XtremeWheel</text><line style=\"stroke:#181818;stroke-width:0.5;\" x1=\"293\" x2=\"381\" y1=\"84.7031\" y2=\"84.7031\"/></g></a><!--MD5=[60a26617385b1d2d0262a64233df1f8d]\n",
       "class E6--><a href=\"psysml:b9df95ad-6583-4db8-9e1c-64edd6d1601f\" target=\"_top\" title=\"psysml:b9df95ad-6583-4db8-9e1c-64edd6d1601f\" xlink:actuate=\"onRequest\" xlink:href=\"psysml:b9df95ad-6583-4db8-9e1c-64edd6d1601f\" xlink:show=\"new\" xlink:title=\"psysml:b9df95ad-6583-4db8-9e1c-64edd6d1601f\" xlink:type=\"simple\"><g id=\"elem_E6\"><rect fill=\"#FFFFFF\" height=\"65.7969\" id=\"E6\" style=\"stroke:#181818;stroke-width:0.5;\" width=\"101\" x=\"112.5\" y=\"328\"/><text fill=\"#000000\" font-family=\"sans-serif\" font-size=\"12\" font-style=\"italic\" lengthAdjust=\"spacing\" textLength=\"61\" x=\"132.5\" y=\"345.457\">«variation»</text><text fill=\"#000000\" font-family=\"sans-serif\" font-size=\"12\" font-style=\"italic\" lengthAdjust=\"spacing\" textLength=\"58\" x=\"134\" y=\"360.5508\">«part  def»</text><text fill=\"#000000\" font-family=\"sans-serif\" font-size=\"14\" font-style=\"italic\" lengthAdjust=\"spacing\" textLength=\"95\" x=\"115.5\" y=\"377.7207\">EngineChoices</text><line style=\"stroke:#181818;stroke-width:0.5;\" x1=\"113.5\" x2=\"212.5\" y1=\"385.7969\" y2=\"385.7969\"/></g></a><!--MD5=[2156ba9850f5573cc1fc38a6a4b2f02b]\n",
       "class E7--><a href=\"psysml:dc6ba70c-1e7f-4e90-a96d-56f91bcd6f18\" target=\"_top\" title=\"psysml:dc6ba70c-1e7f-4e90-a96d-56f91bcd6f18\" xlink:actuate=\"onRequest\" xlink:href=\"psysml:dc6ba70c-1e7f-4e90-a96d-56f91bcd6f18\" xlink:show=\"new\" xlink:title=\"psysml:dc6ba70c-1e7f-4e90-a96d-56f91bcd6f18\" xlink:type=\"simple\"><g id=\"elem_E7\"><rect fill=\"#FFFFFF\" height=\"65.7969\" id=\"E7\" rx=\"10\" ry=\"10\" style=\"stroke:#181818;stroke-width:0.5;\" width=\"175\" x=\"32.5\" y=\"515\"/><text fill=\"#000000\" font-family=\"sans-serif\" font-size=\"12\" font-style=\"italic\" lengthAdjust=\"spacing\" textLength=\"51\" x=\"94.5\" y=\"532.457\">«variant»</text><text fill=\"#000000\" font-family=\"sans-serif\" font-size=\"12\" font-style=\"italic\" lengthAdjust=\"spacing\" textLength=\"35\" x=\"102.5\" y=\"547.5508\">«part»</text><text fill=\"#000000\" font-family=\"sans-serif\" font-size=\"14\" lengthAdjust=\"spacing\" textLength=\"161\" x=\"35.5\" y=\"564.7207\">sEngine: StandardEngine</text><line style=\"stroke:#181818;stroke-width:0.5;\" x1=\"33.5\" x2=\"206.5\" y1=\"572.7969\" y2=\"572.7969\"/></g></a><!--MD5=[b9389687b975829384b498ac4b7476b2]\n",
       "class E8--><a href=\"psysml:860046f0-c6e1-4676-8a6e-c837af502449\" target=\"_top\" title=\"psysml:860046f0-c6e1-4676-8a6e-c837af502449\" xlink:actuate=\"onRequest\" xlink:href=\"psysml:860046f0-c6e1-4676-8a6e-c837af502449\" xlink:show=\"new\" xlink:title=\"psysml:860046f0-c6e1-4676-8a6e-c837af502449\" xlink:type=\"simple\"><g id=\"elem_E8\"><rect fill=\"#FFFFFF\" height=\"65.7969\" id=\"E8\" rx=\"10\" ry=\"10\" style=\"stroke:#181818;stroke-width:0.5;\" width=\"160\" x=\"243\" y=\"515\"/><text fill=\"#000000\" font-family=\"sans-serif\" font-size=\"12\" font-style=\"italic\" lengthAdjust=\"spacing\" textLength=\"51\" x=\"297.5\" y=\"532.457\">«variant»</text><text fill=\"#000000\" font-family=\"sans-serif\" font-size=\"12\" font-style=\"italic\" lengthAdjust=\"spacing\" textLength=\"35\" x=\"305.5\" y=\"547.5508\">«part»</text><text fill=\"#000000\" font-family=\"sans-serif\" font-size=\"14\" lengthAdjust=\"spacing\" textLength=\"146\" x=\"246\" y=\"564.7207\">xEngine: XtremeEngine</text><line style=\"stroke:#181818;stroke-width:0.5;\" x1=\"244\" x2=\"402\" y1=\"572.7969\" y2=\"572.7969\"/></g></a><!--MD5=[fd4143e9d270a159db93a4ea2a975926]\n",
       "class E9--><a href=\"psysml:c8648b01-bf35-4813-bb72-e5c4c5f906af\" target=\"_top\" title=\"psysml:c8648b01-bf35-4813-bb72-e5c4c5f906af\" xlink:actuate=\"onRequest\" xlink:href=\"psysml:c8648b01-bf35-4813-bb72-e5c4c5f906af\" xlink:show=\"new\" xlink:title=\"psysml:c8648b01-bf35-4813-bb72-e5c4c5f906af\" xlink:type=\"simple\"><g id=\"elem_E9\"><rect fill=\"#FFFFFF\" height=\"65.7969\" id=\"E9\" style=\"stroke:#181818;stroke-width:0.5;\" width=\"98\" x=\"473\" y=\"328\"/><text fill=\"#000000\" font-family=\"sans-serif\" font-size=\"12\" font-style=\"italic\" lengthAdjust=\"spacing\" textLength=\"61\" x=\"491.5\" y=\"345.457\">«variation»</text><text fill=\"#000000\" font-family=\"sans-serif\" font-size=\"12\" font-style=\"italic\" lengthAdjust=\"spacing\" textLength=\"58\" x=\"493\" y=\"360.5508\">«part  def»</text><text fill=\"#000000\" font-family=\"sans-serif\" font-size=\"14\" font-style=\"italic\" lengthAdjust=\"spacing\" textLength=\"92\" x=\"476\" y=\"377.7207\">WheelChoices</text><line style=\"stroke:#181818;stroke-width:0.5;\" x1=\"474\" x2=\"570\" y1=\"385.7969\" y2=\"385.7969\"/></g></a><!--MD5=[96f4274e9e20536e775497830990834d]\n",
       "class E10--><a href=\"psysml:e56d2555-f2c6-4454-8801-ff483cae9aff\" target=\"_top\" title=\"psysml:e56d2555-f2c6-4454-8801-ff483cae9aff\" xlink:actuate=\"onRequest\" xlink:href=\"psysml:e56d2555-f2c6-4454-8801-ff483cae9aff\" xlink:show=\"new\" xlink:title=\"psysml:e56d2555-f2c6-4454-8801-ff483cae9aff\" xlink:type=\"simple\"><g id=\"elem_E10\"><rect fill=\"#FFFFFF\" height=\"65.7969\" id=\"E10\" rx=\"10\" ry=\"10\" style=\"stroke:#181818;stroke-width:0.5;\" width=\"167\" x=\"438.5\" y=\"515\"/><text fill=\"#000000\" font-family=\"sans-serif\" font-size=\"12\" font-style=\"italic\" lengthAdjust=\"spacing\" textLength=\"51\" x=\"496.5\" y=\"532.457\">«variant»</text><text fill=\"#000000\" font-family=\"sans-serif\" font-size=\"12\" font-style=\"italic\" lengthAdjust=\"spacing\" textLength=\"35\" x=\"504.5\" y=\"547.5508\">«part»</text><text fill=\"#000000\" font-family=\"sans-serif\" font-size=\"14\" lengthAdjust=\"spacing\" textLength=\"153\" x=\"441.5\" y=\"564.7207\">sWheel: StandardWheel</text><line style=\"stroke:#181818;stroke-width:0.5;\" x1=\"439.5\" x2=\"604.5\" y1=\"572.7969\" y2=\"572.7969\"/></g></a><!--MD5=[1dd1bfd58a279cf63c5f349dbc8fc6a1]\n",
       "class E11--><a href=\"psysml:18eb2a9f-7864-4d31-b13f-795470b47430\" target=\"_top\" title=\"psysml:18eb2a9f-7864-4d31-b13f-795470b47430\" xlink:actuate=\"onRequest\" xlink:href=\"psysml:18eb2a9f-7864-4d31-b13f-795470b47430\" xlink:show=\"new\" xlink:title=\"psysml:18eb2a9f-7864-4d31-b13f-795470b47430\" xlink:type=\"simple\"><g id=\"elem_E11\"><rect fill=\"#FFFFFF\" height=\"65.7969\" id=\"E11\" rx=\"10\" ry=\"10\" style=\"stroke:#181818;stroke-width:0.5;\" width=\"152\" x=\"641\" y=\"515\"/><text fill=\"#000000\" font-family=\"sans-serif\" font-size=\"12\" font-style=\"italic\" lengthAdjust=\"spacing\" textLength=\"51\" x=\"691.5\" y=\"532.457\">«variant»</text><text fill=\"#000000\" font-family=\"sans-serif\" font-size=\"12\" font-style=\"italic\" lengthAdjust=\"spacing\" textLength=\"35\" x=\"699.5\" y=\"547.5508\">«part»</text><text fill=\"#000000\" font-family=\"sans-serif\" font-size=\"14\" lengthAdjust=\"spacing\" textLength=\"138\" x=\"644\" y=\"564.7207\">xWheel: XtremeWheel</text><line style=\"stroke:#181818;stroke-width:0.5;\" x1=\"642\" x2=\"792\" y1=\"572.7969\" y2=\"572.7969\"/></g></a><!--MD5=[49a0ec8f00dab7302a31f22d0f0fe584]\n",
       "class E12--><a href=\"psysml:03f92235-3724-4475-a8c6-899ac49d3d83\" target=\"_top\" title=\"psysml:03f92235-3724-4475-a8c6-899ac49d3d83\" xlink:actuate=\"onRequest\" xlink:href=\"psysml:03f92235-3724-4475-a8c6-899ac49d3d83\" xlink:show=\"new\" xlink:title=\"psysml:03f92235-3724-4475-a8c6-899ac49d3d83\" xlink:type=\"simple\"><g id=\"elem_E12\"><rect fill=\"#FFFFFF\" height=\"50.7031\" id=\"E12\" style=\"stroke:#181818;stroke-width:0.5;\" width=\"160\" x=\"97\" y=\"42\"/><text fill=\"#000000\" font-family=\"sans-serif\" font-size=\"12\" font-style=\"italic\" lengthAdjust=\"spacing\" textLength=\"58\" x=\"148\" y=\"59.457\">«part  def»</text><text fill=\"#000000\" font-family=\"sans-serif\" font-size=\"14\" lengthAdjust=\"spacing\" textLength=\"154\" x=\"100\" y=\"76.627\">BatmobileConfigurations</text><line style=\"stroke:#181818;stroke-width:0.5;\" x1=\"98\" x2=\"256\" y1=\"84.7031\" y2=\"84.7031\"/></g></a><!--MD5=[ee3c913d1a06f366521f9ef512b67efe]\n",
       "class E13--><a href=\"psysml:943b8757-f534-4393-b8ec-295ae538ab18\" target=\"_top\" title=\"psysml:943b8757-f534-4393-b8ec-295ae538ab18\" xlink:actuate=\"onRequest\" xlink:href=\"psysml:943b8757-f534-4393-b8ec-295ae538ab18\" xlink:show=\"new\" xlink:title=\"psysml:943b8757-f534-4393-b8ec-295ae538ab18\" xlink:type=\"simple\"><g id=\"elem_E13\"><rect fill=\"#FFFFFF\" height=\"50.7031\" id=\"E13\" rx=\"10\" ry=\"10\" style=\"stroke:#181818;stroke-width:0.5;\" width=\"222\" x=\"52\" y=\"185\"/><text fill=\"#000000\" font-family=\"sans-serif\" font-size=\"12\" font-style=\"italic\" lengthAdjust=\"spacing\" textLength=\"35\" x=\"145.5\" y=\"202.457\">«part»</text><text fill=\"#000000\" font-family=\"sans-serif\" font-size=\"14\" lengthAdjust=\"spacing\" textLength=\"208\" x=\"55\" y=\"219.627\">batmobileEngine: EngineChoices</text><line style=\"stroke:#181818;stroke-width:0.5;\" x1=\"53\" x2=\"273\" y1=\"227.7031\" y2=\"227.7031\"/></g></a><!--MD5=[bee11217b2f71d958a27249dc326068c]\n",
       "class E14--><a href=\"psysml:1f31a72d-b979-4998-9463-805a54751d43\" target=\"_top\" title=\"psysml:1f31a72d-b979-4998-9463-805a54751d43\" xlink:actuate=\"onRequest\" xlink:href=\"psysml:1f31a72d-b979-4998-9463-805a54751d43\" xlink:show=\"new\" xlink:title=\"psysml:1f31a72d-b979-4998-9463-805a54751d43\" xlink:type=\"simple\"><g id=\"elem_E14\"><rect fill=\"#FFFFFF\" height=\"50.7031\" id=\"E14\" rx=\"10\" ry=\"10\" style=\"stroke:#181818;stroke-width:0.5;\" width=\"156\" x=\"309\" y=\"185\"/><text fill=\"#000000\" font-family=\"sans-serif\" font-size=\"12\" font-style=\"italic\" lengthAdjust=\"spacing\" textLength=\"35\" x=\"369.5\" y=\"202.457\">«part»</text><text fill=\"#000000\" font-family=\"sans-serif\" font-size=\"14\" lengthAdjust=\"spacing\" textLength=\"142\" x=\"312\" y=\"219.627\">wheels: WheelChoices</text><line style=\"stroke:#181818;stroke-width:0.5;\" x1=\"310\" x2=\"464\" y1=\"227.7031\" y2=\"227.7031\"/></g></a><!--MD5=[0c48fb7552dae8cbbef69381101a84c8]\n",
       "class E15--><a href=\"psysml:590631f9-1286-428f-9ac3-2a585e773fd0\" target=\"_top\" title=\"psysml:590631f9-1286-428f-9ac3-2a585e773fd0\" xlink:actuate=\"onRequest\" xlink:href=\"psysml:590631f9-1286-428f-9ac3-2a585e773fd0\" xlink:show=\"new\" xlink:title=\"psysml:590631f9-1286-428f-9ac3-2a585e773fd0\" xlink:type=\"simple\"><g id=\"elem_E15\"><rect fill=\"#FFFFFF\" height=\"114.575\" id=\"E15\" rx=\"10\" ry=\"10\" style=\"stroke:#181818;stroke-width:0.5;\" width=\"274\" x=\"500\" y=\"153\"/><text fill=\"#000000\" font-family=\"sans-serif\" font-size=\"12\" font-style=\"italic\" lengthAdjust=\"spacing\" textLength=\"103\" x=\"585.5\" y=\"170.457\">«assert constraint»</text><text fill=\"#000000\" font-family=\"sans-serif\" font-size=\"14\" lengthAdjust=\"spacing\" text-decoration=\"line-through\" textLength=\"51\" x=\"607.5\" y=\"187.627\">noname</text><text fill=\"#000000\" font-family=\"sans-serif\" font-size=\"14\" lengthAdjust=\"spacing\" textLength=\"8\" x=\"658.5\" y=\"187.627\">  </text><line style=\"stroke:#181818;stroke-width:0.5;\" x1=\"501\" x2=\"773\" y1=\"195.7031\" y2=\"195.7031\"/><text fill=\"#000000\" font-family=\"sans-serif\" font-size=\"14\" lengthAdjust=\"spacing\" textLength=\"134\" x=\"506\" y=\"225.2801\">{ batmobileEngine ==</text><text fill=\"#000000\" font-family=\"sans-serif\" font-size=\"14\" lengthAdjust=\"spacing\" textLength=\"258\" x=\"506\" y=\"242.8895\">batmobileEngine::xEngine and wheels ==</text><text fill=\"#000000\" font-family=\"sans-serif\" font-size=\"14\" lengthAdjust=\"spacing\" textLength=\"102\" x=\"506\" y=\"260.4988\">wheels.xWheel }</text><text fill=\"#000000\" font-family=\"sans-serif\" font-size=\"14\" font-style=\"italic\" lengthAdjust=\"spacing\" textLength=\"133\" x=\"570.5\" y=\"208.9316\">operator expressions</text></g></a><!--MD5=[3f50a3473f1dfb74d3f76443e03635af]\n",
       "reverse link E6 to E7--><g id=\"link_E6_E7\"><a href=\"psysml:7ad5d725-fbdc-4e1d-8395-b8514a703269\" target=\"_top\" title=\"psysml:7ad5d725-fbdc-4e1d-8395-b8514a703269\" xlink:actuate=\"onRequest\" xlink:href=\"psysml:7ad5d725-fbdc-4e1d-8395-b8514a703269\" xlink:show=\"new\" xlink:title=\"psysml:7ad5d725-fbdc-4e1d-8395-b8514a703269\" xlink:type=\"simple\"><path d=\"M152.06,409.08 C144.36,442.19 134.26,485.63 127.48,514.83 \" fill=\"none\" id=\"E6-backto-E7\" style=\"stroke:#181818;stroke-width:1.0;\"/><ellipse cx=\"153.7044\" cy=\"402.0136\" fill=\"#FFFFFF\" rx=\"8\" ry=\"8\" style=\"stroke:#181818;stroke-width:1.0;\"/><line style=\"stroke:#181818;stroke-width:1.0;\" x1=\"151.8989\" x2=\"155.51\" y1=\"409.8072\" y2=\"394.22\"/><line style=\"stroke:#181818;stroke-width:1.0;\" x1=\"145.9109\" x2=\"161.498\" y1=\"400.208\" y2=\"403.8191\"/></a></g><!--MD5=[f4cf0736d43fd73c4ef68817c49d37d5]\n",
       "reverse link E6 to E8--><g id=\"link_E6_E8\"><a href=\"psysml:6dae29bb-948a-4dbf-ae84-9c67f259540e\" target=\"_top\" title=\"psysml:6dae29bb-948a-4dbf-ae84-9c67f259540e\" xlink:actuate=\"onRequest\" xlink:href=\"psysml:6dae29bb-948a-4dbf-ae84-9c67f259540e\" xlink:show=\"new\" xlink:title=\"psysml:6dae29bb-948a-4dbf-ae84-9c67f259540e\" xlink:type=\"simple\"><path d=\"M201.03,405.97 C229.96,439.43 269.12,484.71 295.18,514.83 \" fill=\"none\" id=\"E6-backto-E8\" style=\"stroke:#181818;stroke-width:1.0;\"/><ellipse cx=\"196.1001\" cy=\"400.2736\" fill=\"#FFFFFF\" rx=\"8\" ry=\"8\" style=\"stroke:#181818;stroke-width:1.0;\"/><line style=\"stroke:#181818;stroke-width:1.0;\" x1=\"201.3303\" x2=\"190.87\" y1=\"406.3271\" y2=\"394.22\"/><line style=\"stroke:#181818;stroke-width:1.0;\" x1=\"190.0466\" x2=\"202.1537\" y1=\"405.5037\" y2=\"395.0434\"/></a></g><!--MD5=[23ac544a70576c3e717098101004234c]\n",
       "reverse link E9 to E10--><g id=\"link_E9_E10\"><a href=\"psysml:0efc9edf-9d49-48ea-a227-e930bdd87dcb\" target=\"_top\" title=\"psysml:0efc9edf-9d49-48ea-a227-e930bdd87dcb\" xlink:actuate=\"onRequest\" xlink:href=\"psysml:0efc9edf-9d49-48ea-a227-e930bdd87dcb\" xlink:show=\"new\" xlink:title=\"psysml:0efc9edf-9d49-48ea-a227-e930bdd87dcb\" xlink:type=\"simple\"><path d=\"M522,409.53 C522,442.59 522,485.76 522,514.83 \" fill=\"none\" id=\"E9-backto-E10\" style=\"stroke:#181818;stroke-width:1.0;\"/><ellipse cx=\"522\" cy=\"402.22\" fill=\"#FFFFFF\" rx=\"8\" ry=\"8\" style=\"stroke:#181818;stroke-width:1.0;\"/><line style=\"stroke:#181818;stroke-width:1.0;\" x1=\"522\" x2=\"522\" y1=\"410.22\" y2=\"394.22\"/><line style=\"stroke:#181818;stroke-width:1.0;\" x1=\"514\" x2=\"530\" y1=\"402.22\" y2=\"402.22\"/></a></g><!--MD5=[1fc04a95fd77ad5ce46c1a3027516051]\n",
       "reverse link E9 to E11--><g id=\"link_E9_E11\"><a href=\"psysml:32825731-8245-4084-8327-2530b350ba83\" target=\"_top\" title=\"psysml:32825731-8245-4084-8327-2530b350ba83\" xlink:actuate=\"onRequest\" xlink:href=\"psysml:32825731-8245-4084-8327-2530b350ba83\" xlink:show=\"new\" xlink:title=\"psysml:32825731-8245-4084-8327-2530b350ba83\" xlink:type=\"simple\"><path d=\"M566.96,404.65 C602.35,438.23 650.92,484.31 683.1,514.83 \" fill=\"none\" id=\"E9-backto-E11\" style=\"stroke:#181818;stroke-width:1.0;\"/><ellipse cx=\"561.7772\" cy=\"399.7224\" fill=\"#FFFFFF\" rx=\"8\" ry=\"8\" style=\"stroke:#181818;stroke-width:1.0;\"/><line style=\"stroke:#181818;stroke-width:1.0;\" x1=\"567.5844\" x2=\"555.97\" y1=\"405.2248\" y2=\"394.22\"/><line style=\"stroke:#181818;stroke-width:1.0;\" x1=\"556.2748\" x2=\"567.2796\" y1=\"405.5296\" y2=\"393.9152\"/></a></g><!--MD5=[062ed86c389d1a88f61c6380d0491e17]\n",
       "reverse link E12 to E13--><g id=\"link_E12_E13\"><a href=\"psysml:e4d880b3-7c39-409d-879b-99b7f40a21d3\" target=\"_top\" title=\"psysml:e4d880b3-7c39-409d-879b-99b7f40a21d3\" xlink:actuate=\"onRequest\" xlink:href=\"psysml:e4d880b3-7c39-409d-879b-99b7f40a21d3\" xlink:show=\"new\" xlink:title=\"psysml:e4d880b3-7c39-409d-879b-99b7f40a21d3\" xlink:type=\"simple\"><path d=\"M173.27,106.07 C170.8,130.99 167.62,162.98 165.46,184.75 \" fill=\"none\" id=\"E12-backto-E13\" style=\"stroke:#181818;stroke-width:1.0;\"/><polygon fill=\"#181818\" points=\"174.56,93.06,169.9859,98.6347,173.3725,105.0011,177.9466,99.4264,174.56,93.06\" style=\"stroke:#181818;stroke-width:1.0;\"/></a></g><!--MD5=[0d20eb053aa991a84dce839e5d0e7fec]\n",
       "link E13 to E6--><g id=\"link_E13_E6\"><a href=\"psysml:709d7834-2ab6-4d87-8017-164db64cdb84\" target=\"_top\" title=\"psysml:709d7834-2ab6-4d87-8017-164db64cdb84\" xlink:actuate=\"onRequest\" xlink:href=\"psysml:709d7834-2ab6-4d87-8017-164db64cdb84\" xlink:show=\"new\" xlink:title=\"psysml:709d7834-2ab6-4d87-8017-164db64cdb84\" xlink:type=\"simple\"><path d=\"M163,236.02 C163,255.45 163,283.3 163,307.68 \" fill=\"none\" id=\"E13-to-E6\" style=\"stroke:#181818;stroke-width:1.0;\"/><polygon fill=\"#FFFFFF\" points=\"163,327.91,156,308.91,170,308.91,163,327.91\" style=\"stroke:#181818;stroke-width:1.0;\"/><ellipse cx=\"158\" cy=\"303.21\" fill=\"#181818\" rx=\"2\" ry=\"2\" style=\"stroke:#181818;stroke-width:1.0;\"/><ellipse cx=\"168\" cy=\"303.21\" fill=\"#181818\" rx=\"2\" ry=\"2\" style=\"stroke:#181818;stroke-width:1.0;\"/></a></g><!--MD5=[84572f992dc73728fd12bbb2da660424]\n",
       "reverse link E12 to E14--><g id=\"link_E12_E14\"><a href=\"psysml:b9a456f5-db24-4368-81b7-f18115021802\" target=\"_top\" title=\"psysml:b9a456f5-db24-4368-81b7-f18115021802\" xlink:actuate=\"onRequest\" xlink:href=\"psysml:b9a456f5-db24-4368-81b7-f18115021802\" xlink:show=\"new\" xlink:title=\"psysml:b9a456f5-db24-4368-81b7-f18115021802\" xlink:type=\"simple\"><path d=\"M224.43,100.35 C262.63,125.99 315.54,161.52 350.49,184.98 \" fill=\"none\" id=\"E12-backto-E14\" style=\"stroke:#181818;stroke-width:1.0;\"/><polygon fill=\"#181818\" points=\"213.58,93.06,216.3312,99.7257,223.5422,99.7499,220.7911,93.0842,213.58,93.06\" style=\"stroke:#181818;stroke-width:1.0;\"/><text fill=\"#000000\" font-family=\"sans-serif\" font-size=\"13\" lengthAdjust=\"spacing\" textLength=\"7\" x=\"333.2374\" y=\"173.9687\">4</text></a></g><!--MD5=[0c677eb374079406c87b74cd1f5a339d]\n",
       "link E14 to E9--><g id=\"link_E14_E9\"><a href=\"psysml:31bbb414-21bd-428c-b5ab-348bba42bb00\" target=\"_top\" title=\"psysml:31bbb414-21bd-428c-b5ab-348bba42bb00\" xlink:actuate=\"onRequest\" xlink:href=\"psysml:31bbb414-21bd-428c-b5ab-348bba42bb00\" xlink:show=\"new\" xlink:title=\"psysml:31bbb414-21bd-428c-b5ab-348bba42bb00\" xlink:type=\"simple\"><path d=\"M409.29,236.02 C428.21,256.83 455.89,287.28 479.08,312.79 \" fill=\"none\" id=\"E14-to-E9\" style=\"stroke:#181818;stroke-width:1.0;\"/><polygon fill=\"#FFFFFF\" points=\"492.83,327.91,474.8687,318.5616,485.227,309.1432,492.83,327.91\" style=\"stroke:#181818;stroke-width:1.0;\"/><ellipse cx=\"472.5138\" cy=\"312.9988\" fill=\"#181818\" rx=\"2\" ry=\"2\" style=\"stroke:#181818;stroke-width:1.0;\"/><ellipse cx=\"479.9126\" cy=\"306.2714\" fill=\"#181818\" rx=\"2\" ry=\"2\" style=\"stroke:#181818;stroke-width:1.0;\"/></a></g><!--MD5=[1484bc0e0b706d4be8097a7728d0629d]\n",
       "reverse link E12 to E15--><g id=\"link_E12_E15\"><a href=\"psysml:82b4eff4-4937-4f59-a745-98f6aa3db02c\" target=\"_top\" title=\"psysml:82b4eff4-4937-4f59-a745-98f6aa3db02c\" xlink:actuate=\"onRequest\" xlink:href=\"psysml:82b4eff4-4937-4f59-a745-98f6aa3db02c\" xlink:show=\"new\" xlink:title=\"psysml:82b4eff4-4937-4f59-a745-98f6aa3db02c\" xlink:type=\"simple\"><path d=\"M269.79,92 C330.77,107.96 412.08,130.24 483,153 C488.56,154.78 494.22,156.64 499.92,158.56 \" fill=\"none\" id=\"E12-backto-E15\" style=\"stroke:#181818;stroke-width:1.0;\"/><polygon fill=\"#181818\" points=\"257.1,88.69,261.9007,94.0708,268.7141,91.7089,263.9133,86.3281,257.1,88.69\" style=\"stroke:#181818;stroke-width:1.0;\"/></a></g><!--MD5=[48b5a6389478cde5f97409d683571063]\n",
       "@startuml\r\n",
       "skin sysmlbw\r\n",
       "skinparam monochrome true\r\n",
       "skinparam wrapWidth 300\r\n",
       "hide circle\r\n",
       "\r\n",
       "package \"Variability\" as E1  [[psysml:35887f08-1026-4158-9de8-34844f58320a ]]  {\r\n",
       "comp def \"StandardEngine\" as E2  <<(T,blue) part  def>> [[psysml:a651889c-1f3e-4518-a81f-304dd83c8ac7 ]] {\r\n",
       "}\r\n",
       "comp def \"XtremeEngine\" as E3  <<(T,blue) part  def>> [[psysml:5cc55066-2037-461c-aae5-acc66ded8b01 ]] {\r\n",
       "}\r\n",
       "comp def \"StandardWheel\" as E4  <<(T,blue) part  def>> [[psysml:a8609dde-0aac-4327-8596-e351cc74ac3b ]] {\r\n",
       "}\r\n",
       "comp def \"XtremeWheel\" as E5  <<(T,blue) part  def>> [[psysml:cf4b5810-f4db-40b3-9717-22f6fd54963b ]] {\r\n",
       "}\r\n",
       "comp def \"<i>EngineChoices</i>\" as E6  <<variation>>\\n <<(T,blue) part  def>> [[psysml:b9df95ad-6583-4db8-9e1c-64edd6d1601f ]] {\r\n",
       "}\r\n",
       "comp usage \"sEngine: StandardEngine  \" as E7 <<variant>>\\n <<(T,blue) part>> [[psysml:dc6ba70c-1e7f-4e90-a96d-56f91bcd6f18 ]] {\r\n",
       "}\r\n",
       "comp usage \"xEngine: XtremeEngine  \" as E8 <<variant>>\\n <<(T,blue) part>> [[psysml:860046f0-c6e1-4676-8a6e-c837af502449 ]] {\r\n",
       "}\r\n",
       "comp def \"<i>WheelChoices</i>\" as E9  <<variation>>\\n <<(T,blue) part  def>> [[psysml:c8648b01-bf35-4813-bb72-e5c4c5f906af ]] {\r\n",
       "}\r\n",
       "comp usage \"sWheel: StandardWheel  \" as E10 <<variant>>\\n <<(T,blue) part>> [[psysml:e56d2555-f2c6-4454-8801-ff483cae9aff ]] {\r\n",
       "}\r\n",
       "comp usage \"xWheel: XtremeWheel  \" as E11 <<variant>>\\n <<(T,blue) part>> [[psysml:18eb2a9f-7864-4d31-b13f-795470b47430 ]] {\r\n",
       "}\r\n",
       "comp def \"BatmobileConfigurations\" as E12  <<(T,blue) part  def>> [[psysml:03f92235-3724-4475-a8c6-899ac49d3d83 ]] {\r\n",
       "}\r\n",
       "comp usage \"batmobileEngine: EngineChoices  \" as E13  <<(T,blue) part>> [[psysml:943b8757-f534-4393-b8ec-295ae538ab18 ]] {\r\n",
       "}\r\n",
       "comp usage \"wheels: WheelChoices  \" as E14  <<(T,blue) part>> [[psysml:1f31a72d-b979-4998-9463-805a54751d43 ]] {\r\n",
       "}\r\n",
       "comp usage \"<s>noname</s>  \" as E15  <<(T,blue) assert constraint>> [[psysml:590631f9-1286-428f-9ac3-2a585e773fd0 ]] {\r\n",
       "##//operator expressions//##\r\n",
       " { batmobileEngine <U+003D><U+003D> batmobileEngine::xEngine and wheels <U+003D><U+003D> wheels.xWheel }\r\n",
       "}\r\n",
       "}\r\n",
       "E6 +- - - E7 [[psysml:7ad5d725-fbdc-4e1d-8395-b8514a703269 ]] \r\n",
       "E6 +- - - E8 [[psysml:6dae29bb-948a-4dbf-ae84-9c67f259540e ]] \r\n",
       "E9 +- - - E10 [[psysml:0efc9edf-9d49-48ea-a227-e930bdd87dcb ]] \r\n",
       "E9 +- - - E11 [[psysml:32825731-8245-4084-8327-2530b350ba83 ]] \r\n",
       "E12 *- - E13 [[psysml:e4d880b3-7c39-409d-879b-99b7f40a21d3 ]] \r\n",
       "E13 - -:|> E6 [[psysml:709d7834-2ab6-4d87-8017-164db64cdb84 ]] \r\n",
       "E12 *- - \"4\"E14 [[psysml:b9a456f5-db24-4368-81b7-f18115021802 ]] \r\n",
       "E14 - -:|> E9 [[psysml:31bbb414-21bd-428c-b5ab-348bba42bb00 ]] \r\n",
       "E12 *- - E15 [[psysml:82b4eff4-4937-4f59-a745-98f6aa3db02c ]] \r\n",
       "@enduml\r\n",
       "\n",
       "PlantUML version 1.2022.7(Mon Aug 22 11:01:30 GMT-06:00 2022)\n",
       "(EPL source distribution)\n",
       "Java Runtime: OpenJDK Runtime Environment\n",
       "JVM: OpenJDK 64-Bit Server VM\n",
       "Default Encoding: UTF-8\n",
       "Language: en\n",
       "Country: US\n",
       "--></g></svg>"
      ]
     },
     "execution_count": 1142,
     "metadata": {},
     "output_type": "execute_result"
    }
   ],
   "source": [
    "%viz --view=MIXED Variability"
   ]
  },
  {
   "cell_type": "code",
   "execution_count": 594,
   "id": "2ce3155a-0cd5-4f94-858f-4fd723d63436",
   "metadata": {
    "jupyter": {
     "source_hidden": true
    }
   },
   "outputs": [
    {
     "data": {
      "text/plain": [
       "Package Batmobile_Architecture (51014a36-12cd-441a-83d9-345cc3bcd030)\n"
      ]
     },
     "execution_count": 594,
     "metadata": {},
     "output_type": "execute_result"
    }
   ],
   "source": [
    "package Batmobile_Architecture {\n",
    "    // Inculed all stages\n",
    "}"
   ]
  },
  {
   "cell_type": "code",
   "execution_count": 606,
   "id": "7e29258c-1c01-4d0f-9d62-09d90a094f36",
   "metadata": {
    "jupyter": {
     "source_hidden": true
    }
   },
   "outputs": [
    {
     "data": {
      "text/plain": [
       "Package Stage_1_Capability (c793af8f-023c-403e-91a7-dcda0fde2c69)\n",
       "Comment comment_1 (0b054746-8ff6-43dd-b32a-500781e9ab7d)\n"
      ]
     },
     "execution_count": 606,
     "metadata": {},
     "output_type": "execute_result"
    }
   ],
   "source": [
    "package Stage_1_Capability {\n",
    "    /* comment\n",
    "    What the system does in the context?\n",
    "\n",
    "    Scope:\n",
    "    capability concept definition */\n",
    "}\n",
    "comment comment_1 about Stage_1_Capability /* not in scope */ "
   ]
  },
  {
   "cell_type": "code",
   "execution_count": 608,
   "id": "d4d47935-2cbd-40bb-b4ce-3b0b4006fde2",
   "metadata": {
    "collapsed": true,
    "jupyter": {
     "outputs_hidden": true
    }
   },
   "outputs": [
    {
     "data": {
      "image/svg+xml": [
       "<?xml version=\"1.0\" encoding=\"UTF-8\" standalone=\"no\"?><svg xmlns=\"http://www.w3.org/2000/svg\" xmlns:xlink=\"http://www.w3.org/1999/xlink\" contentStyleType=\"text/css\" height=\"217px\" preserveAspectRatio=\"none\" style=\"width:444px;height:217px;background:#FFFFFF;\" version=\"1.1\" viewBox=\"0 0 444 217\" width=\"444px\" zoomAndPan=\"magnify\"><defs/><g><!--MD5=[fbc87193dbaf4d95561dea2c320d4a47]\n",
       "cluster E1--><g id=\"cluster_E1\"><a href=\"psysml:c793af8f-023c-403e-91a7-dcda0fde2c69\" target=\"_top\" title=\"psysml:c793af8f-023c-403e-91a7-dcda0fde2c69\" xlink:actuate=\"onRequest\" xlink:href=\"psysml:c793af8f-023c-403e-91a7-dcda0fde2c69\" xlink:show=\"new\" xlink:title=\"psysml:c793af8f-023c-403e-91a7-dcda0fde2c69\" xlink:type=\"simple\"><polygon fill=\"none\" points=\"135.5,6,273.5,6,280.5,29.6094,427.5,29.6094,427.5,210.72,135.5,210.72,135.5,6\" style=\"stroke:#000000;stroke-width:1.5;\"/><line style=\"stroke:#000000;stroke-width:1.5;\" x1=\"135.5\" x2=\"280.5\" y1=\"29.6094\" y2=\"29.6094\"/><text fill=\"#000000\" font-family=\"sans-serif\" font-size=\"14\" font-weight=\"bold\" lengthAdjust=\"spacing\" textLength=\"132\" x=\"139.5\" y=\"22.5332\">Stage_1_Capability</text></a></g><g id=\"elem_E2\"><path d=\"M160,50 L160,141.7578 L403,141.7578 L403,60 L393,50 L160,50 \" fill=\"#FAFAFA\" style=\"stroke:#181818;stroke-width:0.5;\"/><path d=\"M393,50 L393,60 L403,60 L393,50 \" fill=\"#FAFAFA\" style=\"stroke:#181818;stroke-width:1.0;\"/><a href=\"psysml:b7cb1e0d-4aea-482d-86a0-65d228c9781b\" target=\"_top\" title=\"psysml:b7cb1e0d-4aea-482d-86a0-65d228c9781b\" xlink:actuate=\"onRequest\" xlink:href=\"psysml:b7cb1e0d-4aea-482d-86a0-65d228c9781b\" xlink:show=\"new\" xlink:title=\"psysml:b7cb1e0d-4aea-482d-86a0-65d228c9781b\" xlink:type=\"simple\"><text fill=\"#000000\" font-family=\"sans-serif\" font-size=\"13\" lengthAdjust=\"spacing\" text-decoration=\"underline\" textLength=\"13\" x=\"166\" y=\"68.4951\">@</text></a><text fill=\"#000000\" font-family=\"sans-serif\" font-size=\"13\" lengthAdjust=\"spacing\" textLength=\"54\" x=\"179\" y=\"68.4951\">comment</text><text fill=\"#000000\" font-family=\"sans-serif\" font-size=\"13\" lengthAdjust=\"spacing\" textLength=\"222\" x=\"166\" y=\"84.8467\">What the system does in the context?</text><text fill=\"#000000\" font-family=\"sans-serif\" font-size=\"13\" lengthAdjust=\"spacing\" textLength=\"4\" x=\"166\" y=\"101.1982\"> </text><text fill=\"#000000\" font-family=\"sans-serif\" font-size=\"13\" lengthAdjust=\"spacing\" textLength=\"41\" x=\"166\" y=\"117.5498\">Scope:</text><text fill=\"#000000\" font-family=\"sans-serif\" font-size=\"13\" lengthAdjust=\"spacing\" textLength=\"160\" x=\"166\" y=\"133.9014\">capability concept definition</text></g><g id=\"elem_E3\"><path d=\"M6,83 L6,109.3516 L111,109.3516 L111,93 L101,83 L6,83 \" fill=\"#FAFAFA\" style=\"stroke:#181818;stroke-width:0.5;\"/><path d=\"M101,83 L101,93 L111,93 L101,83 \" fill=\"#FAFAFA\" style=\"stroke:#181818;stroke-width:1.0;\"/><a href=\"psysml:0b054746-8ff6-43dd-b32a-500781e9ab7d\" target=\"_top\" title=\"psysml:0b054746-8ff6-43dd-b32a-500781e9ab7d\" xlink:actuate=\"onRequest\" xlink:href=\"psysml:0b054746-8ff6-43dd-b32a-500781e9ab7d\" xlink:show=\"new\" xlink:title=\"psysml:0b054746-8ff6-43dd-b32a-500781e9ab7d\" xlink:type=\"simple\"><text fill=\"#000000\" font-family=\"sans-serif\" font-size=\"13\" lengthAdjust=\"spacing\" text-decoration=\"underline\" textLength=\"13\" x=\"12\" y=\"101.4951\">@</text></a><text fill=\"#000000\" font-family=\"sans-serif\" font-size=\"13\" lengthAdjust=\"spacing\" textLength=\"71\" x=\"25\" y=\"101.4951\">not in scope</text></g><!--MD5=[f23a504beb17692cf1ec401fb4a5a911]\n",
       "link E2 to E1--><g id=\"link_E2_E1\"><a href=\"psysml:b7cb1e0d-4aea-482d-86a0-65d228c9781b\" target=\"_top\" title=\"psysml:b7cb1e0d-4aea-482d-86a0-65d228c9781b\" xlink:actuate=\"onRequest\" xlink:href=\"psysml:b7cb1e0d-4aea-482d-86a0-65d228c9781b\" xlink:show=\"new\" xlink:title=\"psysml:b7cb1e0d-4aea-482d-86a0-65d228c9781b\" xlink:type=\"simple\"><path d=\"M251.84,142.14 C233.72,169.71 213.79,200.04 212.56,201.91 \" fill=\"none\" id=\"E2-E1\" style=\"stroke:#181818;stroke-width:1.0;stroke-dasharray:7.0,7.0;\"/></a></g><!--MD5=[ce8a55680e2ecf030a1946113312eb05]\n",
       "link E3 to E1--><g id=\"link_E3_E1\"><a href=\"psysml:0b054746-8ff6-43dd-b32a-500781e9ab7d\" target=\"_top\" title=\"psysml:0b054746-8ff6-43dd-b32a-500781e9ab7d\" xlink:actuate=\"onRequest\" xlink:href=\"psysml:0b054746-8ff6-43dd-b32a-500781e9ab7d\" xlink:show=\"new\" xlink:title=\"psysml:0b054746-8ff6-43dd-b32a-500781e9ab7d\" xlink:type=\"simple\"><path d=\"M74.92,109.19 C83.415,115.45 94.505,123.555 106.4988,132.1437 C112.4956,136.4381 118.7184,140.8534 124.9558,145.2195 C128.0745,147.4026 131.1968,149.5733 134.2963,151.7105 C134.6837,151.9776 135.0708,152.2443 135.4575,152.5103 \" fill=\"none\" id=\"E3-E1\" style=\"stroke:#181818;stroke-width:1.0;stroke-dasharray:7.0,7.0;\"/></a></g><!--MD5=[32ad7728775e91763877495340d14f87]\n",
       "@startuml\r\n",
       "skin sysmlbw\r\n",
       "skinparam monochrome true\r\n",
       "skinparam wrapWidth 300\r\n",
       "hide circle\r\n",
       "\r\n",
       "package \"Stage_1_Capability\" as E1  [[psysml:c793af8f-023c-403e-91a7-dcda0fde2c69 ]]  {\r\n",
       "note as E2\r\n",
       "[[psysml:b7cb1e0d-4aea-482d-86a0-65d228c9781b @]]comment\r\n",
       "What the system does in the context?\r\n",
       "\r\n",
       "Scope:\r\n",
       "capability concept definition\r\n",
       "end note \r\n",
       "}\r\n",
       "note as E3\r\n",
       "[[psysml:0b054746-8ff6-43dd-b32a-500781e9ab7d @]]not in scope\r\n",
       "end note \r\n",
       "E2 .. E1 [[psysml:b7cb1e0d-4aea-482d-86a0-65d228c9781b ]] \r\n",
       "E3 .. E1 [[psysml:0b054746-8ff6-43dd-b32a-500781e9ab7d ]] \r\n",
       "@enduml\r\n",
       "\n",
       "PlantUML version 1.2022.7(Mon Aug 22 11:01:30 GMT-06:00 2022)\n",
       "(EPL source distribution)\n",
       "Java Runtime: OpenJDK Runtime Environment\n",
       "JVM: OpenJDK 64-Bit Server VM\n",
       "Default Encoding: UTF-8\n",
       "Language: en\n",
       "Country: US\n",
       "--></g></svg>"
      ]
     },
     "execution_count": 608,
     "metadata": {},
     "output_type": "execute_result"
    }
   ],
   "source": [
    "%viz Stage_1_Capability comment_1"
   ]
  },
  {
   "cell_type": "code",
   "execution_count": 752,
   "id": "992a9d41-7e0e-4c78-924e-9554368dc84f",
   "metadata": {
    "jupyter": {
     "source_hidden": true
    }
   },
   "outputs": [
    {
     "data": {
      "text/plain": [
       "Package Stage_2_Operational (9cd9b166-d2b5-4865-ba13-4562fcf89824)\n"
      ]
     },
     "execution_count": 752,
     "metadata": {},
     "output_type": "execute_result"
    }
   ],
   "source": [
    "package Stage_2_Operational {\n",
    "    /* comment\n",
    "    How the system is going to be used?\n",
    "    \n",
    "    Scope:\n",
    "    operational use cases\n",
    "    operational scenarios\n",
    "    operational mission */\n",
    "\n",
    "    private import Definitions::*;\n",
    "    item batman : Hero {\n",
    "        attribute realName = \"Bruce Wayne\";\n",
    "    }\n",
    "    item def ProductManagement;\n",
    "    use case def 'Activate rocket booster' {\n",
    "        subject bm : Batmobile;\n",
    "        actor driver subsets batman;\n",
    "        objective {\n",
    "            doc /* The driver wants to activate the rocket booster to increase the speed extremely. */\n",
    "        }\n",
    "    }\n",
    "    action def ActivateRocketBooster specializes 'Activate rocket booster' {\n",
    "        first start;\n",
    "        then action prepareBoost;\n",
    "        then action activateBoost;\n",
    "        then done;\n",
    "    }\n",
    "    part bm1 : Batmobile {\n",
    "        timeslice batmanDriving {\n",
    "            redefines driver = batman;\n",
    "            snapshot redefines start {\n",
    "                redefines battery.capacity = 40000 [SI::'watt hour'];\n",
    "            }\n",
    "            snapshot redefines done {\n",
    "                redefines battery.capacity = 42 [SI::'watt hour'];\n",
    "            }\n",
    "        }\n",
    "        then timeslice charging {\n",
    "            redefines driver = null;\n",
    "        }\n",
    "    }\n",
    "    action def Drive_Batmobile {\n",
    "        first start;\n",
    "        then action startBatmobile;\n",
    "        then action scanEnvironment {\n",
    "            out status : StatusKind;\n",
    "        }\n",
    "        then decide;\n",
    "            if scanEnvironment.status == StatusKind::safe then Switch_to_standard_mode;\n",
    "            if scanEnvironment.status == StatusKind::alert then Switch_to_alert_mode;\n",
    "        action Switch_to_standard_mode;\n",
    "        then endOfStatusCheck;\n",
    "        action Switch_to_alert_mode;\n",
    "        then endOfStatusCheck;\n",
    "        merge endOfStatusCheck;\n",
    "        then done;\n",
    "    }\n",
    "}"
   ]
  },
  {
   "cell_type": "code",
   "execution_count": 730,
   "id": "b2525e37-164f-4bb3-9dcf-d851671cc4f2",
   "metadata": {
    "collapsed": true,
    "jupyter": {
     "outputs_hidden": true
    }
   },
   "outputs": [
    {
     "data": {
      "image/svg+xml": [
       "<?xml version=\"1.0\" encoding=\"UTF-8\" standalone=\"no\"?><svg xmlns=\"http://www.w3.org/2000/svg\" xmlns:xlink=\"http://www.w3.org/1999/xlink\" contentStyleType=\"text/css\" height=\"427px\" preserveAspectRatio=\"none\" style=\"width:775px;height:427px;background:#FFFFFF;\" version=\"1.1\" viewBox=\"0 0 775 427\" width=\"775px\" zoomAndPan=\"magnify\"><defs/><g><!--MD5=[de5ec2e2e8f62f467e546659f5068c88]\n",
       "cluster E5--><g id=\"cluster_E5\"><a href=\"psysml:4931d314-d3a1-4eca-b6e1-c756937f1f4e\" target=\"_top\" title=\"psysml:4931d314-d3a1-4eca-b6e1-c756937f1f4e\" xlink:actuate=\"onRequest\" xlink:href=\"psysml:4931d314-d3a1-4eca-b6e1-c756937f1f4e\" xlink:show=\"new\" xlink:title=\"psysml:4931d314-d3a1-4eca-b6e1-c756937f1f4e\" xlink:type=\"simple\"><rect fill=\"#FFFFFF\" height=\"244.5\" id=\"E5\" style=\"stroke:#383838;stroke-width:1.5;\" width=\"178\" x=\"7\" y=\"7\"/><text fill=\"#000000\" font-family=\"sans-serif\" font-size=\"12\" font-style=\"italic\" lengthAdjust=\"spacing\" textLength=\"70\" x=\"61\" y=\"24.457\">«action  def»</text><text fill=\"#000000\" font-family=\"sans-serif\" font-size=\"14\" lengthAdjust=\"spacing\" textLength=\"143\" x=\"24.5\" y=\"41.627\">ActivateRocketBooster</text><line style=\"stroke:#383838;stroke-width:1.0;\" x1=\"7\" x2=\"185\" y1=\"49.7031\" y2=\"49.7031\"/></a></g><g><a href=\"psysml:e5c76a92-de88-4273-b49b-4390284baa08\" target=\"_top\" title=\"psysml:e5c76a92-de88-4273-b49b-4390284baa08\" xlink:actuate=\"onRequest\" xlink:href=\"psysml:e5c76a92-de88-4273-b49b-4390284baa08\" xlink:show=\"new\" xlink:title=\"psysml:e5c76a92-de88-4273-b49b-4390284baa08\" xlink:type=\"simple\"><rect fill=\"#FFFFFF\" height=\"47.7031\" id=\"E6\" rx=\"10\" ry=\"10\" style=\"stroke:#383838;stroke-width:1.5;\" width=\"97\" x=\"41.5\" y=\"69\"/><text fill=\"#000000\" font-family=\"sans-serif\" font-size=\"12\" font-style=\"italic\" lengthAdjust=\"spacing\" textLength=\"47\" x=\"66.5\" y=\"86.457\">«action»</text><text fill=\"#000000\" font-family=\"sans-serif\" font-size=\"14\" lengthAdjust=\"spacing\" textLength=\"86\" x=\"47\" y=\"103.627\">prepareBoost</text></a></g><g><a href=\"psysml:46900bc8-f1aa-497f-804a-08f7d72f8cc5\" target=\"_top\" title=\"psysml:46900bc8-f1aa-497f-804a-08f7d72f8cc5\" xlink:actuate=\"onRequest\" xlink:href=\"psysml:46900bc8-f1aa-497f-804a-08f7d72f8cc5\" xlink:show=\"new\" xlink:title=\"psysml:46900bc8-f1aa-497f-804a-08f7d72f8cc5\" xlink:type=\"simple\"><rect fill=\"#FFFFFF\" height=\"47.7031\" id=\"E7\" rx=\"10\" ry=\"10\" style=\"stroke:#383838;stroke-width:1.5;\" width=\"96\" x=\"42\" y=\"179.5\"/><text fill=\"#000000\" font-family=\"sans-serif\" font-size=\"12\" font-style=\"italic\" lengthAdjust=\"spacing\" textLength=\"47\" x=\"66.5\" y=\"196.957\">«action»</text><text fill=\"#000000\" font-family=\"sans-serif\" font-size=\"14\" lengthAdjust=\"spacing\" textLength=\"85\" x=\"47.5\" y=\"214.127\">activateBoost</text></a></g><!--MD5=[43c9051892ef23e1a46a86907403d788]\n",
       "class E1--><a href=\"psysml:97fea280-b4c0-4f26-8f14-db893a8ee998\" target=\"_top\" title=\"psysml:97fea280-b4c0-4f26-8f14-db893a8ee998\" xlink:actuate=\"onRequest\" xlink:href=\"psysml:97fea280-b4c0-4f26-8f14-db893a8ee998\" xlink:show=\"new\" xlink:title=\"psysml:97fea280-b4c0-4f26-8f14-db893a8ee998\" xlink:type=\"simple\"><g id=\"elem_E1\"><rect fill=\"#FFFFFF\" height=\"50.7031\" id=\"E1\" style=\"stroke:#181818;stroke-width:0.5;\" width=\"151\" x=\"209.5\" y=\"178\"/><text fill=\"#000000\" font-family=\"sans-serif\" font-size=\"12\" font-style=\"italic\" lengthAdjust=\"spacing\" textLength=\"86\" x=\"242\" y=\"195.457\">«use case  def»</text><text fill=\"#000000\" font-family=\"sans-serif\" font-size=\"14\" lengthAdjust=\"spacing\" textLength=\"145\" x=\"212.5\" y=\"212.627\">Activate rocket booster</text><line style=\"stroke:#181818;stroke-width:0.5;\" x1=\"210.5\" x2=\"359.5\" y1=\"220.7031\" y2=\"220.7031\"/></g></a><!--MD5=[b4997ac47864f28c2f74865a473b2911]\n",
       "class E2--><a href=\"psysml:ffdbf3bd-c1cf-408c-9279-44b65b6bc5fe\" target=\"_top\" title=\"psysml:ffdbf3bd-c1cf-408c-9279-44b65b6bc5fe\" xlink:actuate=\"onRequest\" xlink:href=\"psysml:ffdbf3bd-c1cf-408c-9279-44b65b6bc5fe\" xlink:show=\"new\" xlink:title=\"psysml:ffdbf3bd-c1cf-408c-9279-44b65b6bc5fe\" xlink:type=\"simple\"><g id=\"elem_E2\"><rect fill=\"#FFFFFF\" height=\"50.7031\" id=\"E2\" rx=\"10\" ry=\"10\" style=\"stroke:#181818;stroke-width:0.5;\" width=\"56\" x=\"55\" y=\"346.5\"/><text fill=\"#000000\" font-family=\"sans-serif\" font-size=\"12\" font-style=\"italic\" lengthAdjust=\"spacing\" textLength=\"54\" x=\"56\" y=\"363.957\">«subject»</text><text fill=\"#000000\" font-family=\"sans-serif\" font-size=\"14\" lengthAdjust=\"spacing\" textLength=\"19\" x=\"73.5\" y=\"381.127\">bm</text><line style=\"stroke:#181818;stroke-width:0.5;\" x1=\"56\" x2=\"110\" y1=\"389.2031\" y2=\"389.2031\"/></g></a><!--MD5=[09b614a08d8cba4a07c9adeb5e0fee81]\n",
       "class E3--><a href=\"psysml:c8c526e2-deeb-4e4e-a124-a4d63aa0fec7\" target=\"_top\" title=\"psysml:c8c526e2-deeb-4e4e-a124-a4d63aa0fec7\" xlink:actuate=\"onRequest\" xlink:href=\"psysml:c8c526e2-deeb-4e4e-a124-a4d63aa0fec7\" xlink:show=\"new\" xlink:title=\"psysml:c8c526e2-deeb-4e4e-a124-a4d63aa0fec7\" xlink:type=\"simple\"><g id=\"elem_E3\"><rect fill=\"#FFFFFF\" height=\"60.5938\" id=\"E3\" rx=\"10\" ry=\"10\" style=\"stroke:#181818;stroke-width:0.5;\" width=\"278\" x=\"146\" y=\"341.5\"/><text fill=\"#000000\" font-family=\"sans-serif\" font-size=\"12\" font-style=\"italic\" lengthAdjust=\"spacing\" textLength=\"35\" x=\"267.5\" y=\"358.957\">«part»</text><path d=\"M160,361.5938 C157.25,361.5938 155,364.3938 155,367.8438 C155,371.2938 157.25,374.0938 160,374.0938 C162.75,374.0938 165,371.2938 165,367.8438 C165,364.3938 162.75,361.5938 160,361.5938 M154.775,374.0938 C152.125,374.2188 150,376.3938 150,379.0938 L150,381.5938 L170,381.5938 L170,379.0938 C170,376.3938 167.9,374.2188 165.225,374.0938 C163.875,375.6188 162.025,376.5938 160,376.5938 C157.975,376.5938 156.125,375.6188 154.775,374.0938 \" fill=\"#000000\" style=\"stroke:;stroke-width:0.0;stroke-dasharray:;\"/><text fill=\"#000000\" font-family=\"sans-serif\" font-size=\"14\" lengthAdjust=\"spacing\" textLength=\"242\" x=\"175\" y=\"386.0176\">driver :&gt;Stage_2_Operational::batman</text><line style=\"stroke:#181818;stroke-width:0.5;\" x1=\"147\" x2=\"423\" y1=\"394.0938\" y2=\"394.0938\"/></g></a><!--MD5=[ebbe1d658d1005bcc118a6aa81145e00]\n",
       "class E4--><a href=\"psysml:7080f363-ef32-4f19-b4e2-e948df77d9e7\" target=\"_top\" title=\"psysml:7080f363-ef32-4f19-b4e2-e948df77d9e7\" xlink:actuate=\"onRequest\" xlink:href=\"psysml:7080f363-ef32-4f19-b4e2-e948df77d9e7\" xlink:show=\"new\" xlink:title=\"psysml:7080f363-ef32-4f19-b4e2-e948df77d9e7\" xlink:type=\"simple\"><g id=\"elem_E4\"><rect fill=\"#FFFFFF\" height=\"96.9656\" id=\"E4\" rx=\"10\" ry=\"10\" style=\"stroke:#181818;stroke-width:0.5;\" width=\"309\" x=\"459.5\" y=\"323.5\"/><text fill=\"#000000\" font-family=\"sans-serif\" font-size=\"12\" font-style=\"italic\" lengthAdjust=\"spacing\" textLength=\"81\" x=\"573.5\" y=\"340.957\">«requirement»</text><text fill=\"#000000\" font-family=\"sans-serif\" font-size=\"14\" lengthAdjust=\"spacing\" textLength=\"19\" x=\"600.5\" y=\"358.127\">obj</text><line style=\"stroke:#181818;stroke-width:0.5;\" x1=\"460.5\" x2=\"767.5\" y1=\"366.2031\" y2=\"366.2031\"/><text fill=\"#000000\" font-family=\"sans-serif\" font-size=\"14\" lengthAdjust=\"spacing\" textLength=\"293\" x=\"465.5\" y=\"395.7801\">The driver wants to activate the rocket booster</text><text fill=\"#000000\" font-family=\"sans-serif\" font-size=\"14\" lengthAdjust=\"spacing\" textLength=\"205\" x=\"465.5\" y=\"413.3895\">to increase the speed extremely.</text><text fill=\"#000000\" font-family=\"sans-serif\" font-size=\"14\" font-style=\"italic\" lengthAdjust=\"spacing\" textLength=\"23\" x=\"602.5\" y=\"379.4316\">doc</text></g></a><!--MD5=[a523cb2a0b79ecf9065ad8783f96c320]\n",
       "reverse link E1 to E2--><g id=\"link_E1_E2\"><a href=\"psysml:13ef2597-d73c-456f-b80b-cb1b72c58d4d\" target=\"_top\" title=\"psysml:13ef2597-d73c-456f-b80b-cb1b72c58d4d\" xlink:actuate=\"onRequest\" xlink:href=\"psysml:13ef2597-d73c-456f-b80b-cb1b72c58d4d\" xlink:show=\"new\" xlink:title=\"psysml:13ef2597-d73c-456f-b80b-cb1b72c58d4d\" xlink:type=\"simple\"><path d=\"M238.23,236.87 C206.16,259.79 163.21,291.96 128,323.5 C120.22,330.47 112.21,338.57 105.16,346.08 \" fill=\"none\" id=\"E1-backto-E2\" style=\"stroke:#181818;stroke-width:1.0;\"/><polygon fill=\"none\" points=\"249.09,229.16,241.8819,229.3667,239.3003,236.0999,246.5084,235.8932,249.09,229.16\" style=\"stroke:#181818;stroke-width:1.0;\"/></a></g><!--MD5=[5a52c8b875856e813bbf7898a393ae67]\n",
       "link E1 to E3--><g id=\"link_E1_E3\"><a href=\"psysml:11e36b55-93b5-4d2e-a4eb-fe32802629d3\" target=\"_top\" title=\"psysml:11e36b55-93b5-4d2e-a4eb-fe32802629d3\" xlink:actuate=\"onRequest\" xlink:href=\"psysml:11e36b55-93b5-4d2e-a4eb-fe32802629d3\" xlink:show=\"new\" xlink:title=\"psysml:11e36b55-93b5-4d2e-a4eb-fe32802629d3\" xlink:type=\"simple\"><path d=\"M285,229.07 C285,258.92 285,309.25 285,341.26 \" fill=\"none\" id=\"E1-E3\" style=\"stroke:#181818;stroke-width:1.0;\"/></a></g><!--MD5=[ee384bb554873b72f85793eae40e290c]\n",
       "link E1 to E4--><g id=\"link_E1_E4\"><a href=\"psysml:e2da5dae-3ab2-47db-bed7-a5c9fe8365c3\" target=\"_top\" title=\"psysml:e2da5dae-3ab2-47db-bed7-a5c9fe8365c3\" xlink:actuate=\"onRequest\" xlink:href=\"psysml:e2da5dae-3ab2-47db-bed7-a5c9fe8365c3\" xlink:show=\"new\" xlink:title=\"psysml:e2da5dae-3ab2-47db-bed7-a5c9fe8365c3\" xlink:type=\"simple\"><path d=\"M333.55,229.07 C380.52,252.84 453.17,289.61 512.75,319.76 \" fill=\"none\" id=\"E1-to-E4\" style=\"stroke:#181818;stroke-width:1.0;\"/><polygon fill=\"#181818\" points=\"519.95,323.4,514.1663,317.1112,511.4573,322.4649,519.95,323.4\" style=\"stroke:#181818;stroke-width:1.0;\"/><text fill=\"#000000\" font-family=\"sans-serif\" font-size=\"13\" lengthAdjust=\"spacing\" textLength=\"64\" x=\"460\" y=\"289.9951\">«objective»</text></a></g><!--MD5=[62f1a7026b5746ece68c476bcfdcffcd]\n",
       "link E5 to E1--><g id=\"link_E5_E1\"><a href=\"psysml:c37f348f-2193-44fe-b89f-bef297a7faee\" target=\"_top\" title=\"psysml:c37f348f-2193-44fe-b89f-bef297a7faee\" xlink:actuate=\"onRequest\" xlink:href=\"psysml:c37f348f-2193-44fe-b89f-bef297a7faee\" xlink:show=\"new\" xlink:title=\"psysml:c37f348f-2193-44fe-b89f-bef297a7faee\" xlink:type=\"simple\"><path d=\"M185.0062,102.0435 C185.0739,102.1115 185.1419,102.1799 185.2103,102.2486 C185.4839,102.5234 185.7632,102.8041 186.0483,103.0905 C186.6184,103.6632 187.2111,104.2587 187.8252,104.8756 C189.0534,106.1095 190.367,107.4293 191.756,108.8247 C194.5339,111.6155 197.6131,114.7091 200.9125,118.0237 C214.11,131.2825 230.83,148.08 245.88,163.2 \" fill=\"none\" id=\"E5-to-E1\" style=\"stroke:#181818;stroke-width:1.0;\"/><polygon fill=\"none\" points=\"251.21,158.64,260.36,177.75,241.29,168.51,251.21,158.64\" style=\"stroke:#181818;stroke-width:1.0;\"/></a></g><!--MD5=[02c70b7c851c11e3980e4e90450dc5dd]\n",
       "link E6 to E7--><g id=\"link_E6_E7\"><a href=\"psysml:7e0cca28-36b5-45c3-9b29-7dc93266ab2a\" target=\"_top\" title=\"psysml:7e0cca28-36b5-45c3-9b29-7dc93266ab2a\" xlink:actuate=\"onRequest\" xlink:href=\"psysml:7e0cca28-36b5-45c3-9b29-7dc93266ab2a\" xlink:show=\"new\" xlink:title=\"psysml:7e0cca28-36b5-45c3-9b29-7dc93266ab2a\" xlink:type=\"simple\"><path d=\"M90,117.01 C90,133.58 90,156.06 90,173.81 \" fill=\"none\" id=\"E6-to-E7\" style=\"stroke:#181818;stroke-width:1.0;\"/><polygon fill=\"#181818\" points=\"90,179.15,94,170.15,90,174.15,86,170.15,90,179.15\" style=\"stroke:#181818;stroke-width:1.0;\"/></a></g><!--MD5=[a7362a1f085a02b73a2653abe34e378f]\n",
       "@startuml\r\n",
       "skin sysmlbw\r\n",
       "skinparam monochrome true\r\n",
       "skinparam wrapWidth 300\r\n",
       "hide circle\r\n",
       "\r\n",
       "comp def \"Activate rocket booster\" as E1  <<(T,blue) use case  def>> [[psysml:97fea280-b4c0-4f26-8f14-db893a8ee998 ]] {\r\n",
       "}\r\n",
       "comp usage \"bm\" as E2 <<subject>>[[psysml:ffdbf3bd-c1cf-408c-9279-44b65b6bc5fe ]] {\r\n",
       "}\r\n",
       "comp usage \"<size:30><&person></size> driver :>Stage_2_Operational::batman \" as E3  <<(T,blue) part>> [[psysml:c8c526e2-deeb-4e4e-a124-a4d63aa0fec7 ]] {\r\n",
       "}\r\n",
       "comp usage \"obj  \" as E4  <<(T,blue) requirement>> [[psysml:7080f363-ef32-4f19-b4e2-e948df77d9e7 ]] {\r\n",
       "##//doc//##\r\n",
       "The driver wants to activate the rocket booster to increase the speed extremely.\r\n",
       "}\r\n",
       "rec def \"ActivateRocketBooster\" as E5  <<(T,blue) action  def>> [[psysml:4931d314-d3a1-4eca-b6e1-c756937f1f4e ]] {\r\n",
       "rec usage \"prepareBoost\" as E6  <<(T,blue) action>> [[psysml:e5c76a92-de88-4273-b49b-4390284baa08 ]] {\r\n",
       "}\r\n",
       "\r\n",
       "rec usage \"activateBoost\" as E7  <<(T,blue) action>> [[psysml:46900bc8-f1aa-497f-804a-08f7d72f8cc5 ]] {\r\n",
       "}\r\n",
       "\r\n",
       "}\r\n",
       "\r\n",
       "E1 o- - E2 [[psysml:13ef2597-d73c-456f-b80b-cb1b72c58d4d ]] \r\n",
       "E1 - - E3 [[psysml:11e36b55-93b5-4d2e-a4eb-fe32802629d3 ]] \r\n",
       "E1 - ->> E4 [[psysml:e2da5dae-3ab2-47db-bed7-a5c9fe8365c3 ]] : <<objective>>\r\n",
       "E5 - -|> E1 [[psysml:c37f348f-2193-44fe-b89f-bef297a7faee ]] \r\n",
       "E6 - -> E7 [[psysml:7e0cca28-36b5-45c3-9b29-7dc93266ab2a ]] \r\n",
       "@enduml\r\n",
       "\n",
       "PlantUML version 1.2022.7(Mon Aug 22 11:01:30 GMT-06:00 2022)\n",
       "(EPL source distribution)\n",
       "Java Runtime: OpenJDK Runtime Environment\n",
       "JVM: OpenJDK 64-Bit Server VM\n",
       "Default Encoding: UTF-8\n",
       "Language: en\n",
       "Country: US\n",
       "--></g></svg>"
      ]
     },
     "execution_count": 730,
     "metadata": {},
     "output_type": "execute_result"
    }
   ],
   "source": [
    "%viz --view=MIXED Stage_2_Operational::\"Activate rocket booster\" Stage_2_Operational::ActivateRocketBooster"
   ]
  },
  {
   "cell_type": "code",
   "execution_count": 704,
   "id": "e177c79e-98bc-47a8-a5b6-8b68fc1f1856",
   "metadata": {
    "collapsed": true,
    "jupyter": {
     "outputs_hidden": true
    }
   },
   "outputs": [
    {
     "data": {
      "image/svg+xml": [
       "<?xml version=\"1.0\" encoding=\"UTF-8\" standalone=\"no\"?><svg xmlns=\"http://www.w3.org/2000/svg\" xmlns:xlink=\"http://www.w3.org/1999/xlink\" contentStyleType=\"text/css\" height=\"615px\" preserveAspectRatio=\"none\" style=\"width:1465px;height:615px;background:#FFFFFF;\" version=\"1.1\" viewBox=\"0 0 1465 615\" width=\"1465px\" zoomAndPan=\"magnify\"><defs/><g><!--MD5=[fbc87193dbaf4d95561dea2c320d4a47]\n",
       "cluster E1--><g id=\"cluster_E1\"><a href=\"psysml:e79879f1-54fa-4b2f-9c90-bfbb49d31ea4\" target=\"_top\" title=\"psysml:e79879f1-54fa-4b2f-9c90-bfbb49d31ea4\" xlink:actuate=\"onRequest\" xlink:href=\"psysml:e79879f1-54fa-4b2f-9c90-bfbb49d31ea4\" xlink:show=\"new\" xlink:title=\"psysml:e79879f1-54fa-4b2f-9c90-bfbb49d31ea4\" xlink:type=\"simple\"><polygon fill=\"none\" points=\"16,6,168,6,175,29.6094,1448,29.6094,1448,608.72,16,608.72,16,6\" style=\"stroke:#000000;stroke-width:1.5;\"/><line style=\"stroke:#000000;stroke-width:1.5;\" x1=\"16\" x2=\"175\" y1=\"29.6094\" y2=\"29.6094\"/><text fill=\"#000000\" font-family=\"sans-serif\" font-size=\"14\" font-weight=\"bold\" lengthAdjust=\"spacing\" textLength=\"146\" x=\"20\" y=\"22.5332\">Stage_2_Operational</text></a></g><!--MD5=[09b614a08d8cba4a07c9adeb5e0fee81]\n",
       "class E3--><a href=\"psysml:fb955312-004e-44ff-882f-08fd767d6056\" target=\"_top\" title=\"psysml:fb955312-004e-44ff-882f-08fd767d6056\" xlink:actuate=\"onRequest\" xlink:href=\"psysml:fb955312-004e-44ff-882f-08fd767d6056\" xlink:show=\"new\" xlink:title=\"psysml:fb955312-004e-44ff-882f-08fd767d6056\" xlink:type=\"simple\"><g id=\"elem_E3\"><rect fill=\"#FFFFFF\" height=\"79.3563\" id=\"E3\" rx=\"10\" ry=\"10\" style=\"stroke:#181818;stroke-width:0.5;\" width=\"183\" x=\"1240.5\" y=\"255.5\"/><text fill=\"#000000\" font-family=\"sans-serif\" font-size=\"12\" font-style=\"italic\" lengthAdjust=\"spacing\" textLength=\"38\" x=\"1313\" y=\"272.957\">«item»</text><text fill=\"#000000\" font-family=\"sans-serif\" font-size=\"14\" lengthAdjust=\"spacing\" textLength=\"85\" x=\"1285.5\" y=\"290.127\">batman: Hero</text><line style=\"stroke:#181818;stroke-width:0.5;\" x1=\"1241.5\" x2=\"1422.5\" y1=\"298.2031\" y2=\"298.2031\"/><text fill=\"#000000\" font-family=\"sans-serif\" font-size=\"14\" lengthAdjust=\"spacing\" textLength=\"171\" x=\"1246.5\" y=\"327.7801\">realName = \"Bruce Wayne\"</text><text fill=\"#000000\" font-family=\"sans-serif\" font-size=\"14\" font-style=\"italic\" lengthAdjust=\"spacing\" textLength=\"59\" x=\"1302.5\" y=\"311.4316\">attributes</text></g></a><!--MD5=[ebbe1d658d1005bcc118a6aa81145e00]\n",
       "class E4--><a href=\"psysml:efdd28fb-ede3-4f50-8ab6-bb968fb2a442\" target=\"_top\" title=\"psysml:efdd28fb-ede3-4f50-8ab6-bb968fb2a442\" xlink:actuate=\"onRequest\" xlink:href=\"psysml:efdd28fb-ede3-4f50-8ab6-bb968fb2a442\" xlink:show=\"new\" xlink:title=\"psysml:efdd28fb-ede3-4f50-8ab6-bb968fb2a442\" xlink:type=\"simple\"><g id=\"elem_E4\"><rect fill=\"#FFFFFF\" height=\"152.6625\" id=\"E4\" style=\"stroke:#181818;stroke-width:0.5;\" width=\"250\" x=\"955\" y=\"218.5\"/><text fill=\"#000000\" font-family=\"sans-serif\" font-size=\"12\" font-style=\"italic\" lengthAdjust=\"spacing\" textLength=\"86\" x=\"1037\" y=\"235.957\">«use case  def»</text><text fill=\"#000000\" font-family=\"sans-serif\" font-size=\"14\" lengthAdjust=\"spacing\" textLength=\"159\" x=\"1000.5\" y=\"253.127\">Activate_Rocket_Booster</text><line style=\"stroke:#181818;stroke-width:0.5;\" x1=\"956\" x2=\"1204\" y1=\"261.2031\" y2=\"261.2031\"/><text fill=\"#000000\" font-family=\"sans-serif\" font-size=\"14\" lengthAdjust=\"spacing\" textLength=\"238\" x=\"961\" y=\"290.7801\">driver:&gt;Stage_2_Operational::batman</text><text fill=\"#000000\" font-family=\"sans-serif\" font-size=\"14\" font-style=\"italic\" lengthAdjust=\"spacing\" textLength=\"39\" x=\"1060.5\" y=\"274.4316\">actors</text><line style=\"stroke:#181818;stroke-width:1.0;\" x1=\"956\" x2=\"1204\" y1=\"297.8563\" y2=\"297.8563\"/><text fill=\"#000000\" font-family=\"sans-serif\" font-size=\"14\" lengthAdjust=\"spacing\" textLength=\"19\" x=\"961\" y=\"327.4332\">obj</text><text fill=\"#000000\" font-family=\"sans-serif\" font-size=\"14\" font-style=\"italic\" lengthAdjust=\"spacing\" textLength=\"62\" x=\"1049\" y=\"311.0848\">objectives</text><line style=\"stroke:#181818;stroke-width:1.0;\" x1=\"956\" x2=\"1204\" y1=\"334.5094\" y2=\"334.5094\"/><text fill=\"#000000\" font-family=\"sans-serif\" font-size=\"14\" lengthAdjust=\"spacing\" textLength=\"89\" x=\"961\" y=\"364.0863\">bm: Batmobile</text><text fill=\"#000000\" font-family=\"sans-serif\" font-size=\"14\" font-style=\"italic\" lengthAdjust=\"spacing\" textLength=\"45\" x=\"1057.5\" y=\"347.7379\">subject</text></g></a><!--MD5=[270fce915f116d4de14055a7c1d9a0f3]\n",
       "class E5--><a href=\"psysml:5fc0fd0b-e812-41d7-ba32-340eb1bed20c\" target=\"_top\" title=\"psysml:5fc0fd0b-e812-41d7-ba32-340eb1bed20c\" xlink:actuate=\"onRequest\" xlink:href=\"psysml:5fc0fd0b-e812-41d7-ba32-340eb1bed20c\" xlink:show=\"new\" xlink:title=\"psysml:5fc0fd0b-e812-41d7-ba32-340eb1bed20c\" xlink:type=\"simple\"><g id=\"elem_E5\"><rect fill=\"#FFFFFF\" height=\"133.6188\" id=\"E5\" rx=\"10\" ry=\"10\" style=\"stroke:#181818;stroke-width:0.5;\" width=\"276\" x=\"644\" y=\"228\"/><text fill=\"#000000\" font-family=\"sans-serif\" font-size=\"12\" font-style=\"italic\" lengthAdjust=\"spacing\" textLength=\"35\" x=\"764.5\" y=\"245.457\">«part»</text><text fill=\"#000000\" font-family=\"sans-serif\" font-size=\"14\" lengthAdjust=\"spacing\" textLength=\"97\" x=\"729.5\" y=\"262.627\">bm1: Batmobile</text><line style=\"stroke:#181818;stroke-width:0.5;\" x1=\"645\" x2=\"919\" y1=\"270.7031\" y2=\"270.7031\"/><text fill=\"#000000\" font-family=\"sans-serif\" font-size=\"14\" lengthAdjust=\"spacing\" textLength=\"91\" x=\"650\" y=\"300.2801\">batmanDriving</text><text fill=\"#000000\" font-family=\"sans-serif\" font-size=\"14\" lengthAdjust=\"spacing\" textLength=\"55\" x=\"650\" y=\"317.8895\">charging</text><text fill=\"#000000\" font-family=\"sans-serif\" font-size=\"14\" font-style=\"italic\" lengthAdjust=\"spacing\" textLength=\"78\" x=\"743\" y=\"283.9316\">occurrences</text><line style=\"stroke:#181818;stroke-width:1.0;\" x1=\"645\" x2=\"919\" y1=\"324.9656\" y2=\"324.9656\"/><text fill=\"#000000\" font-family=\"sans-serif\" font-size=\"14\" lengthAdjust=\"spacing\" textLength=\"264\" x=\"650\" y=\"354.5426\">noname first batmanDriving then charging</text><text fill=\"#000000\" font-family=\"sans-serif\" font-size=\"14\" font-style=\"italic\" lengthAdjust=\"spacing\" textLength=\"77\" x=\"743.5\" y=\"338.1941\">successions</text></g></a><!--MD5=[60a26617385b1d2d0262a64233df1f8d]\n",
       "class E6--><a href=\"psysml:f0f2ceaa-6baf-4e05-a5a1-c103ef12dec8\" target=\"_top\" title=\"psysml:f0f2ceaa-6baf-4e05-a5a1-c103ef12dec8\" xlink:actuate=\"onRequest\" xlink:href=\"psysml:f0f2ceaa-6baf-4e05-a5a1-c103ef12dec8\" xlink:show=\"new\" xlink:title=\"psysml:f0f2ceaa-6baf-4e05-a5a1-c103ef12dec8\" xlink:type=\"simple\"><g id=\"elem_E6\"><rect fill=\"#FFFFFF\" height=\"490.1094\" id=\"E6\" style=\"stroke:#181818;stroke-width:0.5;\" width=\"297\" x=\"311.5\" y=\"50\"/><text fill=\"#000000\" font-family=\"sans-serif\" font-size=\"12\" font-style=\"italic\" lengthAdjust=\"spacing\" textLength=\"70\" x=\"425\" y=\"67.457\">«action  def»</text><text fill=\"#000000\" font-family=\"sans-serif\" font-size=\"14\" lengthAdjust=\"spacing\" textLength=\"103\" x=\"408.5\" y=\"84.627\">Drive_Batmobile</text><line style=\"stroke:#181818;stroke-width:0.5;\" x1=\"312.5\" x2=\"607.5\" y1=\"92.7031\" y2=\"92.7031\"/><text fill=\"#000000\" font-family=\"sans-serif\" font-size=\"14\" lengthAdjust=\"spacing\" textLength=\"139\" x=\"317.5\" y=\"122.2801\">Switch_to_alert_mode</text><text fill=\"#000000\" font-family=\"sans-serif\" font-size=\"14\" lengthAdjust=\"spacing\" textLength=\"167\" x=\"317.5\" y=\"139.8895\">Switch_to_standard_mode</text><text fill=\"#000000\" font-family=\"sans-serif\" font-size=\"14\" lengthAdjust=\"spacing\" textLength=\"109\" x=\"317.5\" y=\"157.4988\">scanEnvironment</text><text fill=\"#000000\" font-family=\"sans-serif\" font-size=\"14\" lengthAdjust=\"spacing\" textLength=\"75\" x=\"317.5\" y=\"175.1082\">start: Action</text><text fill=\"#000000\" font-family=\"sans-serif\" font-size=\"14\" font-style=\"italic\" lengthAdjust=\"spacing\" textLength=\"159\" x=\"317.5\" y=\"192.7176\">:&gt;&gt;Occurrence::startShot</text><text fill=\"#000000\" font-family=\"sans-serif\" font-size=\"14\" lengthAdjust=\"spacing\" textLength=\"90\" x=\"317.5\" y=\"210.327\">startBatmobile</text><text fill=\"#000000\" font-family=\"sans-serif\" font-size=\"14\" font-style=\"italic\" lengthAdjust=\"spacing\" textLength=\"45\" x=\"437.5\" y=\"105.9316\">actions</text><line style=\"stroke:#181818;stroke-width:1.0;\" x1=\"312.5\" x2=\"607.5\" y1=\"217.4031\" y2=\"217.4031\"/><text fill=\"#000000\" font-family=\"sans-serif\" font-size=\"14\" lengthAdjust=\"spacing\" textLength=\"4\" x=\"317.5\" y=\"246.9801\"> </text><text fill=\"#000000\" font-family=\"sans-serif\" font-size=\"14\" font-style=\"italic\" lengthAdjust=\"spacing\" textLength=\"95\" x=\"412.5\" y=\"230.6316\">decision nodes</text><line style=\"stroke:#181818;stroke-width:1.0;\" x1=\"312.5\" x2=\"607.5\" y1=\"254.0562\" y2=\"254.0562\"/><text fill=\"#000000\" font-family=\"sans-serif\" font-size=\"14\" lengthAdjust=\"spacing\" textLength=\"119\" x=\"317.5\" y=\"283.6332\">endOfStatusCheck</text><text fill=\"#000000\" font-family=\"sans-serif\" font-size=\"14\" font-style=\"italic\" lengthAdjust=\"spacing\" textLength=\"83\" x=\"418.5\" y=\"267.2848\">merge nodes</text><line style=\"stroke:#181818;stroke-width:1.0;\" x1=\"312.5\" x2=\"607.5\" y1=\"290.7094\" y2=\"290.7094\"/><text fill=\"#000000\" font-family=\"sans-serif\" font-size=\"14\" lengthAdjust=\"spacing\" textLength=\"283\" x=\"317.5\" y=\"320.2863\">noname first Action::start then startBatmobile</text><text fill=\"#000000\" font-family=\"sans-serif\" font-size=\"14\" lengthAdjust=\"spacing\" textLength=\"204\" x=\"317.5\" y=\"337.8957\">noname first startBatmobile then</text><text fill=\"#000000\" font-family=\"sans-serif\" font-size=\"14\" lengthAdjust=\"spacing\" textLength=\"109\" x=\"317.5\" y=\"355.5051\">scanEnvironment</text><text fill=\"#000000\" font-family=\"sans-serif\" font-size=\"14\" lengthAdjust=\"spacing\" textLength=\"249\" x=\"317.5\" y=\"373.1145\">noname first scanEnvironment then null</text><text fill=\"#000000\" font-family=\"sans-serif\" font-size=\"14\" lengthAdjust=\"spacing\" textLength=\"281\" x=\"317.5\" y=\"390.7238\">noname first Switch_to_standard_mode then</text><text fill=\"#000000\" font-family=\"sans-serif\" font-size=\"14\" lengthAdjust=\"spacing\" textLength=\"119\" x=\"317.5\" y=\"408.3332\">endOfStatusCheck</text><text fill=\"#000000\" font-family=\"sans-serif\" font-size=\"14\" lengthAdjust=\"spacing\" textLength=\"253\" x=\"317.5\" y=\"425.9426\">noname first Switch_to_alert_mode then</text><text fill=\"#000000\" font-family=\"sans-serif\" font-size=\"14\" lengthAdjust=\"spacing\" textLength=\"119\" x=\"317.5\" y=\"443.552\">endOfStatusCheck</text><text fill=\"#000000\" font-family=\"sans-serif\" font-size=\"14\" lengthAdjust=\"spacing\" textLength=\"233\" x=\"317.5\" y=\"461.1613\">noname first endOfStatusCheck then</text><text fill=\"#000000\" font-family=\"sans-serif\" font-size=\"14\" lengthAdjust=\"spacing\" textLength=\"79\" x=\"317.5\" y=\"478.7707\">Action::done</text><text fill=\"#000000\" font-family=\"sans-serif\" font-size=\"14\" font-style=\"italic\" lengthAdjust=\"spacing\" textLength=\"77\" x=\"421.5\" y=\"303.9379\">successions</text><line style=\"stroke:#181818;stroke-width:1.0;\" x1=\"312.5\" x2=\"607.5\" y1=\"485.8469\" y2=\"485.8469\"/><text fill=\"#000000\" font-family=\"sans-serif\" font-size=\"14\" lengthAdjust=\"spacing\" textLength=\"4\" x=\"317.5\" y=\"515.4238\"> </text><text fill=\"#000000\" font-family=\"sans-serif\" font-size=\"14\" lengthAdjust=\"spacing\" textLength=\"4\" x=\"317.5\" y=\"533.0332\"> </text><text fill=\"#000000\" font-family=\"sans-serif\" font-size=\"14\" font-style=\"italic\" lengthAdjust=\"spacing\" textLength=\"65\" x=\"427.5\" y=\"499.0754\">transitions</text></g></a><g id=\"elem_E2\"><path d=\"M40,233 L40,357.4609 L276,357.4609 L276,243 L266,233 L40,233 \" fill=\"#FAFAFA\" style=\"stroke:#181818;stroke-width:0.5;\"/><path d=\"M266,233 L266,243 L276,243 L266,233 \" fill=\"#FAFAFA\" style=\"stroke:#181818;stroke-width:1.0;\"/><a href=\"psysml:449c69fc-2dd4-437e-b541-c1e86b0dd146\" target=\"_top\" title=\"psysml:449c69fc-2dd4-437e-b541-c1e86b0dd146\" xlink:actuate=\"onRequest\" xlink:href=\"psysml:449c69fc-2dd4-437e-b541-c1e86b0dd146\" xlink:show=\"new\" xlink:title=\"psysml:449c69fc-2dd4-437e-b541-c1e86b0dd146\" xlink:type=\"simple\"><text fill=\"#000000\" font-family=\"sans-serif\" font-size=\"13\" lengthAdjust=\"spacing\" text-decoration=\"underline\" textLength=\"13\" x=\"46\" y=\"251.4951\">@</text></a><text fill=\"#000000\" font-family=\"sans-serif\" font-size=\"13\" lengthAdjust=\"spacing\" textLength=\"54\" x=\"59\" y=\"251.4951\">comment</text><text fill=\"#000000\" font-family=\"sans-serif\" font-size=\"13\" lengthAdjust=\"spacing\" textLength=\"215\" x=\"46\" y=\"267.8467\">How the system is going to be used?</text><text fill=\"#000000\" font-family=\"sans-serif\" font-size=\"13\" lengthAdjust=\"spacing\" textLength=\"4\" x=\"46\" y=\"284.1982\"> </text><text fill=\"#000000\" font-family=\"sans-serif\" font-size=\"13\" lengthAdjust=\"spacing\" textLength=\"41\" x=\"46\" y=\"300.5498\">Scope:</text><text fill=\"#000000\" font-family=\"sans-serif\" font-size=\"13\" lengthAdjust=\"spacing\" textLength=\"127\" x=\"46\" y=\"316.9014\">operational use cases</text><text fill=\"#000000\" font-family=\"sans-serif\" font-size=\"13\" lengthAdjust=\"spacing\" textLength=\"123\" x=\"46\" y=\"333.2529\">operational scenarios</text><text fill=\"#000000\" font-family=\"sans-serif\" font-size=\"13\" lengthAdjust=\"spacing\" textLength=\"112\" x=\"46\" y=\"349.6045\">operational mission</text></g><!--MD5=[f23a504beb17692cf1ec401fb4a5a911]\n",
       "link E2 to E1--><g id=\"link_E2_E1\"><a href=\"psysml:449c69fc-2dd4-437e-b541-c1e86b0dd146\" target=\"_top\" title=\"psysml:449c69fc-2dd4-437e-b541-c1e86b0dd146\" xlink:actuate=\"onRequest\" xlink:href=\"psysml:449c69fc-2dd4-437e-b541-c1e86b0dd146\" xlink:show=\"new\" xlink:title=\"psysml:449c69fc-2dd4-437e-b541-c1e86b0dd146\" xlink:type=\"simple\"><path d=\"M158,357.15 C158,444.54 158,595.2 158,599.89 \" fill=\"none\" id=\"E2-E1\" style=\"stroke:#181818;stroke-width:1.0;stroke-dasharray:7.0,7.0;\"/></a></g><!--MD5=[965c68cc4e11171308c5f6c886e3cf43]\n",
       "@startuml\r\n",
       "skin sysmlbw\r\n",
       "skinparam monochrome true\r\n",
       "skinparam wrapWidth 300\r\n",
       "hide circle\r\n",
       " \r\n",
       "package \"Stage_2_Operational\" as E1  [[psysml:e79879f1-54fa-4b2f-9c90-bfbb49d31ea4 ]]  {\r\n",
       "comp usage \"batman: Hero  \" as E3  <<(T,blue) item>> [[psysml:fb955312-004e-44ff-882f-08fd767d6056 ]] {\r\n",
       "##//attributes//##\r\n",
       "realName <U+003D> \"Bruce Wayne\"\r\n",
       "}\r\n",
       "comp def \"Activate_Rocket_Booster\" as E4  <<(T,blue) use case  def>> [[psysml:efdd28fb-ede3-4f50-8ab6-bb968fb2a442 ]] {\r\n",
       "##//actors//##\r\n",
       "driver:>Stage_2_Operational::batman\r\n",
       "- -\r\n",
       "##//objectives//##\r\n",
       "obj\r\n",
       "- -\r\n",
       "##//subject//##\r\n",
       "bm: Batmobile\r\n",
       "}\r\n",
       "comp usage \"bm1: Batmobile  \" as E5  <<(T,blue) part>> [[psysml:5fc0fd0b-e812-41d7-ba32-340eb1bed20c ]] {\r\n",
       "##//occurrences//##\r\n",
       "batmanDriving\r\n",
       "charging\r\n",
       "- -\r\n",
       "##//successions//##\r\n",
       "noname first batmanDriving then charging\r\n",
       "}\r\n",
       "comp def \"Drive_Batmobile\" as E6  <<(T,blue) action  def>> [[psysml:f0f2ceaa-6baf-4e05-a5a1-c103ef12dec8 ]] {\r\n",
       "##//actions//##\r\n",
       "Switch_to_alert_mode\r\n",
       "Switch_to_standard_mode\r\n",
       "scanEnvironment\r\n",
       "start: Action\\n//:>>Occurrence::startShot// \r\n",
       "startBatmobile\r\n",
       "- -\r\n",
       "##//decision nodes//##\r\n",
       "\r\n",
       "- -\r\n",
       "##//merge nodes//##\r\n",
       "endOfStatusCheck\r\n",
       "- -\r\n",
       "##//successions//##\r\n",
       "noname first Action::start then startBatmobile\r\n",
       "noname first startBatmobile then scanEnvironment\r\n",
       "noname first scanEnvironment then null\r\n",
       "noname first Switch_to_standard_mode then endOfStatusCheck\r\n",
       "noname first Switch_to_alert_mode then endOfStatusCheck\r\n",
       "noname first endOfStatusCheck then Action::done\r\n",
       "- -\r\n",
       "##//transitions//##\r\n",
       "\r\n",
       "\r\n",
       "}\r\n",
       "note as E2\r\n",
       "[[psysml:449c69fc-2dd4-437e-b541-c1e86b0dd146 @]]comment\r\n",
       "How the system is going to be used?\r\n",
       "\r\n",
       "Scope:\r\n",
       "operational use cases\r\n",
       "operational scenarios\r\n",
       "operational mission\r\n",
       "end note \r\n",
       "}\r\n",
       "E2 .. E1 [[psysml:449c69fc-2dd4-437e-b541-c1e86b0dd146 ]] \r\n",
       "@enduml\r\n",
       "\n",
       "PlantUML version 1.2022.7(Mon Aug 22 11:01:30 GMT-06:00 2022)\n",
       "(EPL source distribution)\n",
       "Java Runtime: OpenJDK Runtime Environment\n",
       "JVM: OpenJDK 64-Bit Server VM\n",
       "Default Encoding: UTF-8\n",
       "Language: en\n",
       "Country: US\n",
       "--></g></svg>"
      ]
     },
     "execution_count": 704,
     "metadata": {},
     "output_type": "execute_result"
    }
   ],
   "source": [
    "%viz --view=TREE --style=COMPMOST Stage_2_Operational"
   ]
  },
  {
   "cell_type": "code",
   "execution_count": 686,
   "id": "705fdc6b-ded1-40ce-9388-dffd1a56ee1d",
   "metadata": {
    "collapsed": true,
    "jupyter": {
     "outputs_hidden": true
    }
   },
   "outputs": [
    {
     "data": {
      "image/svg+xml": [
       "<?xml version=\"1.0\" encoding=\"UTF-8\" standalone=\"no\"?><svg xmlns=\"http://www.w3.org/2000/svg\" xmlns:xlink=\"http://www.w3.org/1999/xlink\" contentStyleType=\"text/css\" height=\"484px\" preserveAspectRatio=\"none\" style=\"width:872px;height:484px;background:#FFFFFF;\" version=\"1.1\" viewBox=\"0 0 872 484\" width=\"872px\" zoomAndPan=\"magnify\"><defs/><g><!--MD5=[fbc87193dbaf4d95561dea2c320d4a47]\n",
       "cluster E1--><g id=\"cluster_E1\"><a href=\"psysml:3828698d-28a5-4711-8997-c788f9403599\" target=\"_top\" title=\"psysml:3828698d-28a5-4711-8997-c788f9403599\" xlink:actuate=\"onRequest\" xlink:href=\"psysml:3828698d-28a5-4711-8997-c788f9403599\" xlink:show=\"new\" xlink:title=\"psysml:3828698d-28a5-4711-8997-c788f9403599\" xlink:type=\"simple\"><rect fill=\"#FFFFFF\" height=\"471.86\" id=\"E1\" style=\"stroke:#383838;stroke-width:1.5;\" width=\"858\" x=\"7\" y=\"7\"/><text fill=\"#000000\" font-family=\"sans-serif\" font-size=\"12\" font-style=\"italic\" lengthAdjust=\"spacing\" textLength=\"70\" x=\"401\" y=\"24.457\">«action  def»</text><text fill=\"#000000\" font-family=\"sans-serif\" font-size=\"14\" lengthAdjust=\"spacing\" textLength=\"103\" x=\"384.5\" y=\"41.627\">Drive_Batmobile</text><line style=\"stroke:#383838;stroke-width:1.0;\" x1=\"7\" x2=\"865\" y1=\"49.7031\" y2=\"49.7031\"/></a></g><!--MD5=[d5e69f78d87373223dbae638b30a9c99]\n",
       "cluster E3--><g id=\"cluster_E3\"><a href=\"psysml:1faadaa0-c89a-4c71-ba6c-f2dc5f1f160d\" target=\"_top\" title=\"psysml:1faadaa0-c89a-4c71-ba6c-f2dc5f1f160d\" xlink:actuate=\"onRequest\" xlink:href=\"psysml:1faadaa0-c89a-4c71-ba6c-f2dc5f1f160d\" xlink:show=\"new\" xlink:title=\"psysml:1faadaa0-c89a-4c71-ba6c-f2dc5f1f160d\" xlink:type=\"simple\"><rect fill=\"#FFFFFF\" height=\"135.86\" id=\"E3\" rx=\"10\" ry=\"10\" style=\"stroke:#383838;stroke-width:1.5;\" width=\"150\" x=\"69\" y=\"171\"/><text fill=\"#000000\" font-family=\"sans-serif\" font-size=\"12\" font-style=\"italic\" lengthAdjust=\"spacing\" textLength=\"47\" x=\"120.5\" y=\"188.457\">«action»</text><text fill=\"#000000\" font-family=\"sans-serif\" font-size=\"14\" lengthAdjust=\"spacing\" textLength=\"109\" x=\"89.5\" y=\"205.627\">scanEnvironment</text><line style=\"stroke:#383838;stroke-width:1.0;\" x1=\"69\" x2=\"219\" y1=\"213.7031\" y2=\"213.7031\"/></a></g><g id=\"elem_E5\"><polygon fill=\"#FFFFFF\" points=\"270,265.86,282,277.86,270,289.86,258,277.86,270,265.86\" style=\"stroke:#181818;stroke-width:0.5;\"/></g><g id=\"elem_E8\"><polygon fill=\"#FFFFFF\" points=\"424,401.86,436,413.86,424,425.86,412,413.86,424,401.86\" style=\"stroke:#181818;stroke-width:0.5;\"/></g><ellipse cx=\"125\" cy=\"71\" fill=\"#222222\" rx=\"10\" ry=\"10\" style=\"stroke:none;stroke-width:1.0;\"/><ellipse cx=\"424\" cy=\"452.86\" fill=\"none\" rx=\"10\" ry=\"10\" style=\"stroke:#222222;stroke-width:1.0;\"/><ellipse cx=\"424.5\" cy=\"453.36\" fill=\"#222222\" rx=\"6\" ry=\"6\" style=\"stroke:none;stroke-width:1.0;\"/><g><a href=\"psysml:c9d28d8e-6ec5-4042-8728-779043c29702\" target=\"_top\" title=\"psysml:c9d28d8e-6ec5-4042-8728-779043c29702\" xlink:actuate=\"onRequest\" xlink:href=\"psysml:c9d28d8e-6ec5-4042-8728-779043c29702\" xlink:show=\"new\" xlink:title=\"psysml:c9d28d8e-6ec5-4042-8728-779043c29702\" xlink:type=\"simple\"><rect fill=\"#FFFFFF\" height=\"47.7031\" id=\"E2\" rx=\"10\" ry=\"10\" style=\"stroke:#383838;stroke-width:1.5;\" width=\"101\" x=\"74.5\" y=\"98\"/><text fill=\"#000000\" font-family=\"sans-serif\" font-size=\"12\" font-style=\"italic\" lengthAdjust=\"spacing\" textLength=\"47\" x=\"101.5\" y=\"115.457\">«action»</text><text fill=\"#000000\" font-family=\"sans-serif\" font-size=\"14\" lengthAdjust=\"spacing\" textLength=\"90\" x=\"80\" y=\"132.627\">startBatmobile</text></a></g><text fill=\"#000000\" font-family=\"sans-serif\" font-size=\"14\" lengthAdjust=\"spacing\" textLength=\"38\" x=\"68\" y=\"327.3932\">status</text><rect fill=\"#FFFFFF\" height=\"12\" style=\"stroke:#181818;stroke-width:1.5;\" width=\"12\" x=\"81\" y=\"300.86\"/><g><a href=\"psysml:1633f0b7-719f-456a-9434-87f5909c68bf\" target=\"_top\" title=\"psysml:1633f0b7-719f-456a-9434-87f5909c68bf\" xlink:actuate=\"onRequest\" xlink:href=\"psysml:1633f0b7-719f-456a-9434-87f5909c68bf\" xlink:show=\"new\" xlink:title=\"psysml:1633f0b7-719f-456a-9434-87f5909c68bf\" xlink:type=\"simple\"><rect fill=\"#FFFFFF\" height=\"47.7031\" id=\"E6\" rx=\"10\" ry=\"10\" style=\"stroke:#383838;stroke-width:1.5;\" width=\"178\" x=\"208\" y=\"336.86\"/><text fill=\"#000000\" font-family=\"sans-serif\" font-size=\"12\" font-style=\"italic\" lengthAdjust=\"spacing\" textLength=\"47\" x=\"273.5\" y=\"354.317\">«action»</text><text fill=\"#000000\" font-family=\"sans-serif\" font-size=\"14\" lengthAdjust=\"spacing\" textLength=\"167\" x=\"213.5\" y=\"371.487\">Switch_to_standard_mode</text></a></g><g><a href=\"psysml:4cfe0d1d-46fd-4779-b3cd-041848b9663c\" target=\"_top\" title=\"psysml:4cfe0d1d-46fd-4779-b3cd-041848b9663c\" xlink:actuate=\"onRequest\" xlink:href=\"psysml:4cfe0d1d-46fd-4779-b3cd-041848b9663c\" xlink:show=\"new\" xlink:title=\"psysml:4cfe0d1d-46fd-4779-b3cd-041848b9663c\" xlink:type=\"simple\"><rect fill=\"#FFFFFF\" height=\"47.7031\" id=\"E7\" rx=\"10\" ry=\"10\" style=\"stroke:#383838;stroke-width:1.5;\" width=\"150\" x=\"476\" y=\"336.86\"/><text fill=\"#000000\" font-family=\"sans-serif\" font-size=\"12\" font-style=\"italic\" lengthAdjust=\"spacing\" textLength=\"47\" x=\"527.5\" y=\"354.317\">«action»</text><text fill=\"#000000\" font-family=\"sans-serif\" font-size=\"14\" lengthAdjust=\"spacing\" textLength=\"139\" x=\"481.5\" y=\"371.487\">Switch_to_alert_mode</text></a></g><!--MD5=[cff944eb183b832d446717a4e202d613]\n",
       "link *start*E1 to E2--><g id=\"link_*start*E1_E2\"><a href=\"psysml:41eaf202-ea5d-4ca5-93d4-fb4812d740e2\" target=\"_top\" title=\"psysml:41eaf202-ea5d-4ca5-93d4-fb4812d740e2\" xlink:actuate=\"onRequest\" xlink:href=\"psysml:41eaf202-ea5d-4ca5-93d4-fb4812d740e2\" xlink:show=\"new\" xlink:title=\"psysml:41eaf202-ea5d-4ca5-93d4-fb4812d740e2\" xlink:type=\"simple\"><path d=\"M125,81.45 C125,84.73 125,88.61 125,92.62 \" fill=\"none\" id=\"*start*E1-to-E2\" style=\"stroke:#181818;stroke-width:1.0;stroke-dasharray:7.0,7.0;\"/><polygon fill=\"#181818\" points=\"125,97.76,129,88.76,125,92.76,121,88.76,125,97.76\" style=\"stroke:#181818;stroke-width:1.0;\"/></a></g><!--MD5=[5dced52a8686f144b98fdbf454ee78f2]\n",
       "link E8 to *end*E1--><g id=\"link_E8_*end*E1\"><a href=\"psysml:f6ec0ce2-9465-4c73-bdc6-62ac57ee9580\" target=\"_top\" title=\"psysml:f6ec0ce2-9465-4c73-bdc6-62ac57ee9580\" xlink:actuate=\"onRequest\" xlink:href=\"psysml:f6ec0ce2-9465-4c73-bdc6-62ac57ee9580\" xlink:show=\"new\" xlink:title=\"psysml:f6ec0ce2-9465-4c73-bdc6-62ac57ee9580\" xlink:type=\"simple\"><path d=\"M424,426.16 C424,429.7 424,433.66 424,437.39 \" fill=\"none\" id=\"E8-to-*end*E1\" style=\"stroke:#181818;stroke-width:1.0;stroke-dasharray:7.0,7.0;\"/><polygon fill=\"#181818\" points=\"424,442.61,428,433.61,424,437.61,420,433.61,424,442.61\" style=\"stroke:#181818;stroke-width:1.0;\"/></a></g><!--MD5=[2720a5a1f2c3fca2055b230370638851]\n",
       "link E2 to E3--><g id=\"link_E2_E3\"><a href=\"psysml:bf085f23-a579-4185-8f24-829ea2286a49\" target=\"_top\" title=\"psysml:bf085f23-a579-4185-8f24-829ea2286a49\" xlink:actuate=\"onRequest\" xlink:href=\"psysml:bf085f23-a579-4185-8f24-829ea2286a49\" xlink:show=\"new\" xlink:title=\"psysml:bf085f23-a579-4185-8f24-829ea2286a49\" xlink:type=\"simple\"><path d=\"M125,146.18 C125,153.73 125,162.3625 125,170.8588 \" fill=\"none\" id=\"E2-to-E3\" style=\"stroke:#181818;stroke-width:1.0;stroke-dasharray:7.0,7.0;\"/><polygon fill=\"#181818\" points=\"125,170.8588,129,161.8588,125,165.8588,121,161.8588,125,170.8588\" style=\"stroke:#181818;stroke-width:1.0;\"/></a></g><!--MD5=[0188b64bb0ae78505a997a81836e11e9]\n",
       "link E3 to E5--><g id=\"link_E3_E5\"><a href=\"psysml:512f00d5-5da6-4d44-9a5d-6d336f3d2238\" target=\"_top\" title=\"psysml:512f00d5-5da6-4d44-9a5d-6d336f3d2238\" xlink:actuate=\"onRequest\" xlink:href=\"psysml:512f00d5-5da6-4d44-9a5d-6d336f3d2238\" xlink:show=\"new\" xlink:title=\"psysml:512f00d5-5da6-4d44-9a5d-6d336f3d2238\" xlink:type=\"simple\"><path d=\"M219.051,255.1214 C219.1762,255.1748 219.3014,255.2282 219.4264,255.2815 C220.4269,255.7083 221.4211,256.1325 222.4084,256.5536 C224.383,257.3959 226.3295,258.2263 228.2409,259.0417 C232.0639,260.6726 235.7469,262.2438 239.2344,263.7317 C246.2094,266.7075 252.4025,269.35 257.37,271.47 \" fill=\"none\" id=\"E3-to-E5\" style=\"stroke:#181818;stroke-width:1.0;stroke-dasharray:7.0,7.0;\"/><polygon fill=\"#181818\" points=\"262.21,273.54,255.5215,266.3106,257.6165,271.5652,252.3619,273.6602,262.21,273.54\" style=\"stroke:#181818;stroke-width:1.0;\"/></a></g><!--MD5=[9120cf2e5df3bff93db8f754bbbc09b4]\n",
       "link E5 to E6--><g id=\"link_E5_E6\"><a href=\"psysml:921f65bb-1150-401e-ae74-9b755936cf4e\" target=\"_top\" title=\"psysml:921f65bb-1150-401e-ae74-9b755936cf4e\" xlink:actuate=\"onRequest\" xlink:href=\"psysml:921f65bb-1150-401e-ae74-9b755936cf4e\" xlink:show=\"new\" xlink:title=\"psysml:921f65bb-1150-401e-ae74-9b755936cf4e\" xlink:type=\"simple\"><path d=\"M267.33,287.36 C264.6,297.6 261.45,315.16 267,328.86 C267.49,330.07 268.06,331.27 268.68,332.44 \" fill=\"none\" id=\"E5-to-E6\" style=\"stroke:#181818;stroke-width:1.0;stroke-dasharray:7.0,7.0;\"/><polygon fill=\"#181818\" points=\"271.37,336.83,270.0835,327.0655,268.7599,332.5654,263.26,331.2417,271.37,336.83\" style=\"stroke:#181818;stroke-width:1.0;\"/><text fill=\"#000000\" font-family=\"sans-serif\" font-size=\"13\" lengthAdjust=\"spacing\" textLength=\"267\" x=\"268\" y=\"312.3551\">[scanEnvironment.status == StatusKind::safe]</text></a></g><!--MD5=[3a9b96bfbf6b6ad89c494e81751bda47]\n",
       "link E5 to E7--><g id=\"link_E5_E7\"><a href=\"psysml:ac1613da-7318-4e15-ab14-63c52b4f8ae2\" target=\"_top\" title=\"psysml:ac1613da-7318-4e15-ab14-63c52b4f8ae2\" xlink:actuate=\"onRequest\" xlink:href=\"psysml:ac1613da-7318-4e15-ab14-63c52b4f8ae2\" xlink:show=\"new\" xlink:title=\"psysml:ac1613da-7318-4e15-ab14-63c52b4f8ae2\" xlink:type=\"simple\"><path d=\"M281.33,278.85 C330.1,278.92 520.53,280.34 540,297.86 C549.31,306.24 552.49,319.55 553.16,331.69 \" fill=\"none\" id=\"E5-to-E7\" style=\"stroke:#181818;stroke-width:1.0;stroke-dasharray:7.0,7.0;\"/><polygon fill=\"#181818\" points=\"553.31,336.8,557.0513,327.6894,553.1672,331.802,549.0546,327.9179,553.31,336.8\" style=\"stroke:#181818;stroke-width:1.0;\"/><text fill=\"#000000\" font-family=\"sans-serif\" font-size=\"13\" lengthAdjust=\"spacing\" textLength=\"268\" x=\"553\" y=\"312.3551\">[scanEnvironment.status == StatusKind::alert]</text></a></g><!--MD5=[0a839d0f80c2d72d4b9b307f046d0de8]\n",
       "link E6 to E8--><g id=\"link_E6_E8\"><a href=\"psysml:bfb5438d-0a90-4af1-96cd-d4c148d13fd8\" target=\"_top\" title=\"psysml:bfb5438d-0a90-4af1-96cd-d4c148d13fd8\" xlink:actuate=\"onRequest\" xlink:href=\"psysml:bfb5438d-0a90-4af1-96cd-d4c148d13fd8\" xlink:show=\"new\" xlink:title=\"psysml:bfb5438d-0a90-4af1-96cd-d4c148d13fd8\" xlink:type=\"simple\"><path d=\"M354.55,384.97 C375.64,393.44 397.62,402.27 411.06,407.66 \" fill=\"none\" id=\"E6-to-E8\" style=\"stroke:#181818;stroke-width:1.0;stroke-dasharray:7.0,7.0;\"/><polygon fill=\"#181818\" points=\"415.94,409.62,409.088,402.5454,411.3026,407.7508,406.0972,409.9653,415.94,409.62\" style=\"stroke:#181818;stroke-width:1.0;\"/></a></g><!--MD5=[79bc8f324ef4d02c541433f2e6e513c3]\n",
       "link E7 to E8--><g id=\"link_E7_E8\"><a href=\"psysml:886ca9ac-785b-48d9-9ee0-d6d290f814b8\" target=\"_top\" title=\"psysml:886ca9ac-785b-48d9-9ee0-d6d290f814b8\" xlink:actuate=\"onRequest\" xlink:href=\"psysml:886ca9ac-785b-48d9-9ee0-d6d290f814b8\" xlink:show=\"new\" xlink:title=\"psysml:886ca9ac-785b-48d9-9ee0-d6d290f814b8\" xlink:type=\"simple\"><path d=\"M493.45,384.97 C472.36,393.44 450.38,402.27 436.94,407.66 \" fill=\"none\" id=\"E7-to-E8\" style=\"stroke:#181818;stroke-width:1.0;stroke-dasharray:7.0,7.0;\"/><polygon fill=\"#181818\" points=\"432.06,409.62,441.9028,409.9653,436.6974,407.7508,438.912,402.5454,432.06,409.62\" style=\"stroke:#181818;stroke-width:1.0;\"/></a></g><!--MD5=[e829d16e4ada40124f54c70db16b0bd1]\n",
       "@startuml\r\n",
       "skin sysmlbw\r\n",
       "skinparam monochrome true\r\n",
       "skinparam wrapWidth 300\r\n",
       "hide circle\r\n",
       "top to bottom direction\r\n",
       " skinparam ranksep 8\r\n",
       "\r\n",
       "rec def \"Drive_Batmobile\" as E1  <<(T,blue) action  def>> [[psysml:3828698d-28a5-4711-8997-c788f9403599 ]] {\r\n",
       "rec usage \"startBatmobile\" as E2  <<(T,blue) action>> [[psysml:c9d28d8e-6ec5-4042-8728-779043c29702 ]] {\r\n",
       "}\r\n",
       "\r\n",
       "rec usage \"scanEnvironment\" as E3  <<(T,blue) action>> [[psysml:1faadaa0-c89a-4c71-ba6c-f2dc5f1f160d ]] {\r\n",
       "portout \"status\" as E4  [[psysml:014e26ea-f9ce-4e4b-ae65-b163fdda5b8f ]] \r\n",
       "}\r\n",
       "\r\n",
       "choice \"<s>noname</s>\" as E5  [[psysml:ef58df1d-7514-43f5-aa95-95368363c29f ]] \r\n",
       "rec usage \"Switch_to_standard_mode\" as E6  <<(T,blue) action>> [[psysml:1633f0b7-719f-456a-9434-87f5909c68bf ]] {\r\n",
       "}\r\n",
       "\r\n",
       "rec usage \"Switch_to_alert_mode\" as E7  <<(T,blue) action>> [[psysml:4cfe0d1d-46fd-4779-b3cd-041848b9663c ]] {\r\n",
       "}\r\n",
       "\r\n",
       "choice \"endOfStatusCheck\" as E8  [[psysml:c3e1b572-7066-4154-96d8-87cccf914129 ]] \r\n",
       "[*] ..> E2 [[psysml:41eaf202-ea5d-4ca5-93d4-fb4812d740e2 ]] \r\n",
       "E8 ..> [*] [[psysml:f6ec0ce2-9465-4c73-bdc6-62ac57ee9580 ]] \r\n",
       "}\r\n",
       "\r\n",
       "E2 ..> E3 [[psysml:bf085f23-a579-4185-8f24-829ea2286a49 ]] \r\n",
       "E3 ..> E5 [[psysml:512f00d5-5da6-4d44-9a5d-6d336f3d2238 ]] \r\n",
       "E5 ..> E6 [[psysml:921f65bb-1150-401e-ae74-9b755936cf4e ]] : [scanEnvironment.status == StatusKind::safe]\r\n",
       "E5 ..> E7 [[psysml:ac1613da-7318-4e15-ab14-63c52b4f8ae2 ]] : [scanEnvironment.status == StatusKind::alert]\r\n",
       "E6 ..> E8 [[psysml:bfb5438d-0a90-4af1-96cd-d4c148d13fd8 ]] \r\n",
       "E7 ..> E8 [[psysml:886ca9ac-785b-48d9-9ee0-d6d290f814b8 ]] \r\n",
       "@enduml\r\n",
       "\n",
       "PlantUML version 1.2022.7(Mon Aug 22 11:01:30 GMT-06:00 2022)\n",
       "(EPL source distribution)\n",
       "Java Runtime: OpenJDK Runtime Environment\n",
       "JVM: OpenJDK 64-Bit Server VM\n",
       "Default Encoding: UTF-8\n",
       "Language: en\n",
       "Country: US\n",
       "--></g></svg>"
      ]
     },
     "execution_count": 686,
     "metadata": {},
     "output_type": "execute_result"
    }
   ],
   "source": [
    "%viz --view=ACTION --style=TB --style=COMPMOST Stage_2_Operational::Drive_Batmobile"
   ]
  },
  {
   "cell_type": "code",
   "execution_count": 588,
   "id": "638af891-f29e-4336-ae22-857f899e7949",
   "metadata": {
    "jupyter": {
     "source_hidden": true
    }
   },
   "outputs": [
    {
     "data": {
      "text/plain": [
       "Package Stage_3_Logical (87faba37-e280-4094-98c8-cc6689303f8f)\n"
      ]
     },
     "execution_count": 588,
     "metadata": {},
     "output_type": "execute_result"
    }
   ],
   "source": [
    "package Stage_3_Logical {\n",
    "    /* comment\n",
    "    What the system does?\n",
    "\n",
    "    Scope:\n",
    "    functional decomposition\n",
    "    functional interfaces\n",
    "    functional flows (energy, heat, matter, etc.)\n",
    "    behaviours */\n",
    "}"
   ]
  },
  {
   "cell_type": "code",
   "execution_count": 838,
   "id": "cb21b4d9-40fc-409f-aea5-87c5cf28be50",
   "metadata": {},
   "outputs": [
    {
     "data": {
      "text/plain": [
       "Package Stage_4_Physical (1c640ca6-227a-4ef9-a676-ef15132ac1e1)\n"
      ]
     },
     "execution_count": 838,
     "metadata": {},
     "output_type": "execute_result"
    }
   ],
   "source": [
    "package Stage_4_Physical {\n",
    "    /*  comment\n",
    "    How the system does it?\n",
    "        \n",
    "    Scope:\n",
    "    physical breakdown\n",
    "    physical interfaces (connectors)\n",
    "    physical flows\n",
    "    physical constrains\n",
    "    mapping to logical stage */\n",
    "\n",
    "    private import Requirements::*;\n",
    "    private import Definitions::*;\n",
    "    part batmobileDesignV23 : Batmobile;\n",
    "    satisfy batmobileSpecification by batmobileDesignV23;\n",
    "}"
   ]
  },
  {
   "cell_type": "code",
   "execution_count": 842,
   "id": "e653402e-d845-401d-afbe-d2941f43a569",
   "metadata": {},
   "outputs": [
    {
     "data": {
      "image/svg+xml": [
       "<?xml version=\"1.0\" encoding=\"UTF-8\" standalone=\"no\"?><svg xmlns=\"http://www.w3.org/2000/svg\" xmlns:xlink=\"http://www.w3.org/1999/xlink\" contentStyleType=\"text/css\" height=\"282px\" preserveAspectRatio=\"none\" style=\"width:536px;height:282px;background:#FFFFFF;\" version=\"1.1\" viewBox=\"0 0 536 282\" width=\"536px\" zoomAndPan=\"magnify\"><defs/><g><!--MD5=[fbc87193dbaf4d95561dea2c320d4a47]\n",
       "cluster E1--><g id=\"cluster_E1\"><a href=\"psysml:1c640ca6-227a-4ef9-a676-ef15132ac1e1\" target=\"_top\" title=\"psysml:1c640ca6-227a-4ef9-a676-ef15132ac1e1\" xlink:actuate=\"onRequest\" xlink:href=\"psysml:1c640ca6-227a-4ef9-a676-ef15132ac1e1\" xlink:show=\"new\" xlink:title=\"psysml:1c640ca6-227a-4ef9-a676-ef15132ac1e1\" xlink:type=\"simple\"><polygon fill=\"none\" points=\"16,6,143,6,150,29.6094,519,29.6094,519,275.72,16,275.72,16,6\" style=\"stroke:#000000;stroke-width:1.5;\"/><line style=\"stroke:#000000;stroke-width:1.5;\" x1=\"16\" x2=\"150\" y1=\"29.6094\" y2=\"29.6094\"/><text fill=\"#000000\" font-family=\"sans-serif\" font-size=\"14\" font-weight=\"bold\" lengthAdjust=\"spacing\" textLength=\"121\" x=\"20\" y=\"22.5332\">Stage_4_Physical</text></a></g><!--MD5=[09b614a08d8cba4a07c9adeb5e0fee81]\n",
       "class E3--><a href=\"psysml:06a45e4b-d66b-4929-bbec-fc45f9fd89f6\" target=\"_top\" title=\"psysml:06a45e4b-d66b-4929-bbec-fc45f9fd89f6\" xlink:actuate=\"onRequest\" xlink:href=\"psysml:06a45e4b-d66b-4929-bbec-fc45f9fd89f6\" xlink:show=\"new\" xlink:title=\"psysml:06a45e4b-d66b-4929-bbec-fc45f9fd89f6\" xlink:type=\"simple\"><g id=\"elem_E3\"><rect fill=\"#FFFFFF\" height=\"50.7031\" id=\"E3\" rx=\"10\" ry=\"10\" style=\"stroke:#181818;stroke-width:0.5;\" width=\"214\" x=\"281\" y=\"103\"/><text fill=\"#000000\" font-family=\"sans-serif\" font-size=\"12\" font-style=\"italic\" lengthAdjust=\"spacing\" textLength=\"35\" x=\"370.5\" y=\"120.457\">«part»</text><text fill=\"#000000\" font-family=\"sans-serif\" font-size=\"14\" lengthAdjust=\"spacing\" textLength=\"200\" x=\"284\" y=\"137.627\">batmobileDesignV23: Batmobile</text><line style=\"stroke:#181818;stroke-width:0.5;\" x1=\"282\" x2=\"494\" y1=\"145.7031\" y2=\"145.7031\"/></g></a><g id=\"elem_E2\"><path d=\"M40.5,50 L40.5,207.1641 L245.5,207.1641 L245.5,60 L235.5,50 L40.5,50 \" fill=\"#FAFAFA\" style=\"stroke:#181818;stroke-width:0.5;\"/><path d=\"M235.5,50 L235.5,60 L245.5,60 L235.5,50 \" fill=\"#FAFAFA\" style=\"stroke:#181818;stroke-width:1.0;\"/><a href=\"psysml:2735390a-939f-44f9-9f6e-f0cedce62260\" target=\"_top\" title=\"psysml:2735390a-939f-44f9-9f6e-f0cedce62260\" xlink:actuate=\"onRequest\" xlink:href=\"psysml:2735390a-939f-44f9-9f6e-f0cedce62260\" xlink:show=\"new\" xlink:title=\"psysml:2735390a-939f-44f9-9f6e-f0cedce62260\" xlink:type=\"simple\"><text fill=\"#000000\" font-family=\"sans-serif\" font-size=\"13\" lengthAdjust=\"spacing\" text-decoration=\"underline\" textLength=\"13\" x=\"46.5\" y=\"68.4951\">@</text></a><text fill=\"#000000\" font-family=\"sans-serif\" font-size=\"13\" lengthAdjust=\"spacing\" textLength=\"54\" x=\"59.5\" y=\"68.4951\">comment</text><text fill=\"#000000\" font-family=\"sans-serif\" font-size=\"13\" lengthAdjust=\"spacing\" textLength=\"144\" x=\"46.5\" y=\"84.8467\">How the system does it?</text><text fill=\"#000000\" font-family=\"sans-serif\" font-size=\"13\" lengthAdjust=\"spacing\" textLength=\"4\" x=\"46.5\" y=\"101.1982\"> </text><text fill=\"#000000\" font-family=\"sans-serif\" font-size=\"13\" lengthAdjust=\"spacing\" textLength=\"41\" x=\"46.5\" y=\"117.5498\">Scope:</text><text fill=\"#000000\" font-family=\"sans-serif\" font-size=\"13\" lengthAdjust=\"spacing\" textLength=\"114\" x=\"46.5\" y=\"133.9014\">physical breakdown</text><text fill=\"#000000\" font-family=\"sans-serif\" font-size=\"13\" lengthAdjust=\"spacing\" textLength=\"184\" x=\"46.5\" y=\"150.2529\">physical interfaces (connectors)</text><text fill=\"#000000\" font-family=\"sans-serif\" font-size=\"13\" lengthAdjust=\"spacing\" textLength=\"81\" x=\"46.5\" y=\"166.6045\">physical flows</text><text fill=\"#000000\" font-family=\"sans-serif\" font-size=\"13\" lengthAdjust=\"spacing\" textLength=\"112\" x=\"46.5\" y=\"182.9561\">physical constrains</text><text fill=\"#000000\" font-family=\"sans-serif\" font-size=\"13\" lengthAdjust=\"spacing\" textLength=\"141\" x=\"46.5\" y=\"199.3076\">mapping to logical stage</text></g><!--MD5=[f23a504beb17692cf1ec401fb4a5a911]\n",
       "link E2 to E1--><g id=\"link_E2_E1\"><a href=\"psysml:2735390a-939f-44f9-9f6e-f0cedce62260\" target=\"_top\" title=\"psysml:2735390a-939f-44f9-9f6e-f0cedce62260\" xlink:actuate=\"onRequest\" xlink:href=\"psysml:2735390a-939f-44f9-9f6e-f0cedce62260\" xlink:show=\"new\" xlink:title=\"psysml:2735390a-939f-44f9-9f6e-f0cedce62260\" xlink:type=\"simple\"><path d=\"M143,207.09 C143,237.3 143,265.2 143,266.92 \" fill=\"none\" id=\"E2-E1\" style=\"stroke:#181818;stroke-width:1.0;stroke-dasharray:7.0,7.0;\"/></a></g><!--MD5=[562ac7ff540d0b959ac3a5388fe7aad9]\n",
       "@startuml\r\n",
       "skin sysmlbw\r\n",
       "skinparam monochrome true\r\n",
       "skinparam wrapWidth 300\r\n",
       "hide circle\r\n",
       "\r\n",
       "package \"Stage_4_Physical\" as E1  [[psysml:1c640ca6-227a-4ef9-a676-ef15132ac1e1 ]]  {\r\n",
       "comp usage \"batmobileDesignV23: Batmobile  \" as E3  <<(T,blue) part>> [[psysml:06a45e4b-d66b-4929-bbec-fc45f9fd89f6 ]] {\r\n",
       "}\r\n",
       "note as E2\r\n",
       "[[psysml:2735390a-939f-44f9-9f6e-f0cedce62260 @]]comment\r\n",
       "How the system does it?\r\n",
       "\r\n",
       "Scope:\r\n",
       "physical breakdown\r\n",
       "physical interfaces (connectors)\r\n",
       "physical flows\r\n",
       "physical constrains\r\n",
       "mapping to logical stage\r\n",
       "end note \r\n",
       "}\r\n",
       "E2 .. E1 [[psysml:2735390a-939f-44f9-9f6e-f0cedce62260 ]] \r\n",
       "@enduml\r\n",
       "\n",
       "PlantUML version 1.2022.7(Mon Aug 22 11:01:30 GMT-06:00 2022)\n",
       "(EPL source distribution)\n",
       "Java Runtime: OpenJDK Runtime Environment\n",
       "JVM: OpenJDK 64-Bit Server VM\n",
       "Default Encoding: UTF-8\n",
       "Language: en\n",
       "Country: US\n",
       "--></g></svg>"
      ]
     },
     "execution_count": 842,
     "metadata": {},
     "output_type": "execute_result"
    }
   ],
   "source": [
    "%viz --view=MIXED Stage_4_Physical"
   ]
  },
  {
   "cell_type": "code",
   "execution_count": null,
   "id": "f76b704b-f798-4d53-9ff2-2f4553a963c5",
   "metadata": {},
   "outputs": [],
   "source": []
  }
 ],
 "metadata": {
  "kernelspec": {
   "display_name": "SysML [conda env:base] *",
   "language": "sysml",
   "name": "conda-base-sysml"
  },
  "language_info": {
   "codemirror_mode": "sysml",
   "file_extension": ".sysml",
   "mimetype": "text/x-sysml",
   "name": "SysML",
   "pygments_lexer": "java",
   "version": "1.0.0"
  }
 },
 "nbformat": 4,
 "nbformat_minor": 5
}
