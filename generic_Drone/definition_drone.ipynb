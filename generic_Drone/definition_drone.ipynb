{
 "cells": [
  {
   "cell_type": "code",
   "execution_count": 2,
   "id": "e918983b-067d-4c3e-9bd6-d2d1ec8c4b72",
   "metadata": {
    "collapsed": true,
    "jupyter": {
     "outputs_hidden": true
    },
    "scrolled": true
   },
   "outputs": [
    {
     "data": {
      "text/plain": [
       "The following SysML v2 magic commands are available.\n",
       "For help on a specific command, use \"%help <COMMAND>\" or \"%<cmd> -h\".\n",
       "\n",
       "%eval\t\tEvaluate a given expression.\n",
       "%export\t\tSave a file of the JSON representation of the abstract syntax tree rooted in the named element.\n",
       "%help\t\tGet a list of available commands or help on a specific command\n",
       "%list\t\tList loaded library packages or the results of a given query\n",
       "%show\t\tPrint the abstract syntax tree rooted in a named element\n",
       "%publish\tPublish to the repository the modele elements rooted in a named element\n",
       "%view\t\tRender the view specified by the named view usage\n",
       "%viz\t\tVisualize the name model elements\n"
      ]
     },
     "execution_count": 2,
     "metadata": {},
     "output_type": "execute_result"
    }
   ],
   "source": [
    "%help"
   ]
  },
  {
   "cell_type": "code",
   "execution_count": 9,
   "id": "b500c5a7-cc59-4175-b698-8a89b00dcb17",
   "metadata": {
    "collapsed": true,
    "jupyter": {
     "outputs_hidden": true
    },
    "scrolled": true
   },
   "outputs": [
    {
     "data": {
      "text/plain": [
       "Usage: %viz [--view=<VIEW>] [--style=<STYLE>...] <NAME> [<NAME>...]\n",
       "\n",
       "Visualize model elements of <NAME>(s). <NAME>s must be fully qualified.\n",
       "\n",
       "<VIEW> is case insensitive and possible candidates are:\n",
       "   DEFAULT\t\tAutomatically choose an appropriate view from the given model element names\n",
       "   TREE\t\t\tShow a tree-structural view, like a Block Definition Diagram (BDD)\n",
       "   INTERCONNECTION\tShow an interconnection view, like an Internal Block Diagram (IBD)\n",
       "   STATE\t\tShow state machines\n",
       "   ACTION\t\tShow actions like an activity diagram\n",
       "   SEQUENCE\t\tShow events and messages in a sequence diagram\n",
       "   MIXED\t\tShow multiple views\n",
       "\n",
       "<STYLE> is also case insensitive. Multiple --style options are allowed.  The possible style names are:\n",
       "  DEFAULT\t\tStandard B&&W\n",
       "  STDCOLOR\t\tStandard style with colors\n",
       "  PLANTUML\t\tPlantUML Style\n",
       "  TB\t\t\tTop-to-Bottom orientation\n",
       "  LR\t\t\tLeft-to-Right orientation\n",
       "  POLYLINE\t\tPolyline style\n",
       "  ORTHOLINE\t\tOrthogonal line style\n",
       "  SHOWLIB\t\tShow elements of the standard libraries\n",
       "  SHOWINHERITED\t\tShow inherited members\n",
       "  COMPMOST\t\tShow as many memberships in a compartment as possible\n",
       "  COMPTREE\t\tShow nested ports in a compartment\n",
       "  SHOWIMPORTED\t\tShow imported elements\n",
       "  HIDEMETADATA\t\tHide metadata\n",
       "  SHOWMETACLASS\t\tShow metaclasses of metaobjects\n",
       "  EVAL\t\tEvaluate expressions\n",
       "  NODEMULTIPLICITY\t\tShow multiplicities in nodes\n",
       "  EDGEMULTIPLICITY\t\tShow multiplicities on edges\n",
       "  IMPLICITMULTIPLICITY\t\tShow implicit multiplicities\n",
       "\n",
       "Example:\n",
       "\t%viz --view Tree --style LR --style ortholine Pkg1::PartDef Pkg1::Pkg2::partUsage\n",
       "should visualize Pkg1::PartDef and Pkg1::Pkg2::partUsage with a tree view ordered in the left-to-right direction with orthogonal lines.\n"
      ]
     },
     "execution_count": 9,
     "metadata": {},
     "output_type": "execute_result"
    }
   ],
   "source": [
    "%help %viz"
   ]
  },
  {
   "cell_type": "code",
   "execution_count": 11,
   "id": "f8c520ce-f51c-4fce-8309-d16511c370ec",
   "metadata": {},
   "outputs": [
    {
     "data": {
      "text/plain": [
       "Package SystemOfInterest (80d2fbe8-4dad-4c58-b45f-fd2ddcd1760d)\n"
      ]
     },
     "execution_count": 11,
     "metadata": {},
     "output_type": "execute_result"
    }
   ],
   "source": [
    "package SystemOfInterest {\n",
    "    part def FlyingRobot {\n",
    "        // Physical Components\n",
    "        part p_Battery;\n",
    "        part p_Camera;\n",
    "        part p_Transciever;\n",
    "        part p_Processing;\n",
    "        part p_Propulsion;\n",
    "        // Physical Interfaces\n",
    "        port i_Charging;\n",
    "        port i_Diagnostic;\n",
    "        port i_Programming;\n",
    "        // System Functions\n",
    "        action f_TakeOff;\n",
    "        action f_Landing;\n",
    "        action f_Flying;\n",
    "        action f_Communicate;\n",
    "        action f_AutonomousFlight;\n",
    "        action f_TakePicture;\n",
    "        action f_RecordVideo;\n",
    "    }\n",
    "    part Drone : FlyingRobot {\n",
    "        \n",
    "    }\n",
    "}"
   ]
  },
  {
   "cell_type": "code",
   "execution_count": 117,
   "id": "91dee5c6-bf89-487c-9653-db6a62ce2125",
   "metadata": {},
   "outputs": [
    {
     "data": {
      "image/svg+xml": [
       "<?xml version=\"1.0\" encoding=\"UTF-8\" standalone=\"no\"?><svg xmlns=\"http://www.w3.org/2000/svg\" xmlns:xlink=\"http://www.w3.org/1999/xlink\" contentStyleType=\"text/css\" height=\"429px\" preserveAspectRatio=\"none\" style=\"width:400px;height:429px;background:#FFFFFF;\" version=\"1.1\" viewBox=\"0 0 400 429\" width=\"400px\" zoomAndPan=\"magnify\"><defs/><g><!--MD5=[fbc87193dbaf4d95561dea2c320d4a47]\n",
       "cluster E1--><g id=\"cluster_E1\"><a href=\"psysml:a22fe013-d571-4ee1-bd61-471af42af267\" target=\"_top\" title=\"psysml:a22fe013-d571-4ee1-bd61-471af42af267\" xlink:actuate=\"onRequest\" xlink:href=\"psysml:a22fe013-d571-4ee1-bd61-471af42af267\" xlink:show=\"new\" xlink:title=\"psysml:a22fe013-d571-4ee1-bd61-471af42af267\" xlink:type=\"simple\"><polygon fill=\"none\" points=\"16,6,143,6,150,29.6094,383,29.6094,383,422,16,422,16,6\" style=\"stroke:#000000;stroke-width:1.5;\"/><line style=\"stroke:#000000;stroke-width:1.5;\" x1=\"16\" x2=\"150\" y1=\"29.6094\" y2=\"29.6094\"/><text fill=\"#000000\" font-family=\"sans-serif\" font-size=\"14\" font-weight=\"bold\" lengthAdjust=\"spacing\" textLength=\"121\" x=\"20\" y=\"22.5332\">SystemOfInterest</text></a></g><!--MD5=[b4997ac47864f28c2f74865a473b2911]\n",
       "class E2--><a href=\"psysml:849db476-3193-478b-81c6-2e28b4759858\" target=\"_top\" title=\"psysml:849db476-3193-478b-81c6-2e28b4759858\" xlink:actuate=\"onRequest\" xlink:href=\"psysml:849db476-3193-478b-81c6-2e28b4759858\" xlink:show=\"new\" xlink:title=\"psysml:849db476-3193-478b-81c6-2e28b4759858\" xlink:type=\"simple\"><g id=\"elem_E2\"><rect fill=\"#FFFFFF\" height=\"363.975\" id=\"E2\" style=\"stroke:#181818;stroke-width:0.5;\" width=\"138\" x=\"229\" y=\"42\"/><text fill=\"#000000\" font-family=\"sans-serif\" font-size=\"12\" font-style=\"italic\" lengthAdjust=\"spacing\" textLength=\"58\" x=\"269\" y=\"59.457\">«part  def»</text><text fill=\"#000000\" font-family=\"sans-serif\" font-size=\"14\" lengthAdjust=\"spacing\" textLength=\"76\" x=\"260\" y=\"76.627\">FlyingRobot</text><line style=\"stroke:#181818;stroke-width:0.5;\" x1=\"230\" x2=\"366\" y1=\"84.7031\" y2=\"84.7031\"/><text fill=\"#000000\" font-family=\"sans-serif\" font-size=\"14\" lengthAdjust=\"spacing\" textLength=\"126\" x=\"235\" y=\"114.2801\">f_AutonomousFlight</text><text fill=\"#000000\" font-family=\"sans-serif\" font-size=\"14\" lengthAdjust=\"spacing\" textLength=\"98\" x=\"235\" y=\"131.8895\">f_Communicate</text><text fill=\"#000000\" font-family=\"sans-serif\" font-size=\"14\" lengthAdjust=\"spacing\" textLength=\"50\" x=\"235\" y=\"149.4988\">f_Flying</text><text fill=\"#000000\" font-family=\"sans-serif\" font-size=\"14\" lengthAdjust=\"spacing\" textLength=\"63\" x=\"235\" y=\"167.1082\">f_Landing</text><text fill=\"#000000\" font-family=\"sans-serif\" font-size=\"14\" lengthAdjust=\"spacing\" textLength=\"94\" x=\"235\" y=\"184.7176\">f_RecordVideo</text><text fill=\"#000000\" font-family=\"sans-serif\" font-size=\"14\" lengthAdjust=\"spacing\" textLength=\"63\" x=\"235\" y=\"202.327\">f_TakeOff</text><text fill=\"#000000\" font-family=\"sans-serif\" font-size=\"14\" lengthAdjust=\"spacing\" textLength=\"88\" x=\"235\" y=\"219.9363\">f_TakePicture</text><text fill=\"#000000\" font-family=\"sans-serif\" font-size=\"14\" font-style=\"italic\" lengthAdjust=\"spacing\" textLength=\"45\" x=\"275.5\" y=\"97.9316\">actions</text><line style=\"stroke:#181818;stroke-width:1.0;\" x1=\"230\" x2=\"366\" y1=\"227.0125\" y2=\"227.0125\"/><text fill=\"#000000\" font-family=\"sans-serif\" font-size=\"14\" lengthAdjust=\"spacing\" textLength=\"61\" x=\"235\" y=\"256.5895\">p_Battery</text><text fill=\"#000000\" font-family=\"sans-serif\" font-size=\"14\" lengthAdjust=\"spacing\" textLength=\"66\" x=\"235\" y=\"274.1988\">p_Camera</text><text fill=\"#000000\" font-family=\"sans-serif\" font-size=\"14\" lengthAdjust=\"spacing\" textLength=\"86\" x=\"235\" y=\"291.8082\">p_Processing</text><text fill=\"#000000\" font-family=\"sans-serif\" font-size=\"14\" lengthAdjust=\"spacing\" textLength=\"83\" x=\"235\" y=\"309.4176\">p_Propulsion</text><text fill=\"#000000\" font-family=\"sans-serif\" font-size=\"14\" lengthAdjust=\"spacing\" textLength=\"91\" x=\"235\" y=\"327.027\">p_Transciever</text><text fill=\"#000000\" font-family=\"sans-serif\" font-size=\"14\" font-style=\"italic\" lengthAdjust=\"spacing\" textLength=\"32\" x=\"282\" y=\"240.241\">parts</text><line style=\"stroke:#181818;stroke-width:1.0;\" x1=\"230\" x2=\"366\" y1=\"334.1031\" y2=\"334.1031\"/><text fill=\"#000000\" font-family=\"sans-serif\" font-size=\"14\" lengthAdjust=\"spacing\" textLength=\"69\" x=\"235\" y=\"363.6801\">i_Charging</text><text fill=\"#000000\" font-family=\"sans-serif\" font-size=\"14\" lengthAdjust=\"spacing\" textLength=\"77\" x=\"235\" y=\"381.2895\">i_Diagnostic</text><text fill=\"#000000\" font-family=\"sans-serif\" font-size=\"14\" lengthAdjust=\"spacing\" textLength=\"95\" x=\"235\" y=\"398.8988\">i_Programming</text><text fill=\"#000000\" font-family=\"sans-serif\" font-size=\"14\" font-style=\"italic\" lengthAdjust=\"spacing\" textLength=\"32\" x=\"282\" y=\"347.3316\">ports</text></g></a><!--MD5=[09b614a08d8cba4a07c9adeb5e0fee81]\n",
       "class E3--><a href=\"psysml:cf2b2c4d-5eae-4197-a34e-db0108cd0d16\" target=\"_top\" title=\"psysml:cf2b2c4d-5eae-4197-a34e-db0108cd0d16\" xlink:actuate=\"onRequest\" xlink:href=\"psysml:cf2b2c4d-5eae-4197-a34e-db0108cd0d16\" xlink:show=\"new\" xlink:title=\"psysml:cf2b2c4d-5eae-4197-a34e-db0108cd0d16\" xlink:type=\"simple\"><g id=\"elem_E3\"><rect fill=\"#FFFFFF\" height=\"50.7031\" id=\"E3\" rx=\"10\" ry=\"10\" style=\"stroke:#181818;stroke-width:0.5;\" width=\"137\" x=\"32\" y=\"198.5\"/><text fill=\"#000000\" font-family=\"sans-serif\" font-size=\"12\" font-style=\"italic\" lengthAdjust=\"spacing\" textLength=\"35\" x=\"83\" y=\"215.957\">«part»</text><text fill=\"#000000\" font-family=\"sans-serif\" font-size=\"14\" lengthAdjust=\"spacing\" textLength=\"123\" x=\"35\" y=\"233.127\">Drone: FlyingRobot</text><line style=\"stroke:#181818;stroke-width:0.5;\" x1=\"33\" x2=\"168\" y1=\"241.2031\" y2=\"241.2031\"/></g></a><!--MD5=[05d275557350bfb9b23a4ef7222b4c39]\n",
       "link E3 to E2--><g id=\"link_E3_E2\"><a href=\"psysml:04c262bc-41cd-499b-b10a-001105b20194\" target=\"_top\" title=\"psysml:04c262bc-41cd-499b-b10a-001105b20194\" xlink:actuate=\"onRequest\" xlink:href=\"psysml:04c262bc-41cd-499b-b10a-001105b20194\" xlink:show=\"new\" xlink:title=\"psysml:04c262bc-41cd-499b-b10a-001105b20194\" xlink:type=\"simple\"><path d=\"M169.02,224 C169.02,224 208.93,224 208.93,224 \" fill=\"none\" id=\"E3-to-E2\" style=\"stroke:#181818;stroke-width:1.0;\"/><polygon fill=\"#FFFFFF\" points=\"228.93,224,209.93,231,209.93,217,228.93,224\" style=\"stroke:#181818;stroke-width:1.0;\"/><ellipse cx=\"204.23\" cy=\"229\" fill=\"#181818\" rx=\"2\" ry=\"2\" style=\"stroke:#181818;stroke-width:1.0;\"/><ellipse cx=\"204.23\" cy=\"219\" fill=\"#181818\" rx=\"2\" ry=\"2\" style=\"stroke:#181818;stroke-width:1.0;\"/></a></g><!--MD5=[a71e6aa78ae591231c8e4455c1b718b5]\n",
       "@startuml\r\n",
       "skin sysmlbw\r\n",
       "skinparam monochrome true\r\n",
       "skinparam wrapWidth 300\r\n",
       "hide circle\r\n",
       "left to right direction\r\n",
       "skinparam linetype ortho\r\n",
       " \r\n",
       "package \"SystemOfInterest\" as E1  [[psysml:a22fe013-d571-4ee1-bd61-471af42af267 ]]  {\r\n",
       "comp def \"FlyingRobot\" as E2  <<(T,blue) part  def>> [[psysml:849db476-3193-478b-81c6-2e28b4759858 ]] {\r\n",
       "##//actions//##\r\n",
       "f_AutonomousFlight\r\n",
       "f_Communicate\r\n",
       "f_Flying\r\n",
       "f_Landing\r\n",
       "f_RecordVideo\r\n",
       "f_TakeOff\r\n",
       "f_TakePicture\r\n",
       "- -\r\n",
       "##//parts//##\r\n",
       "p_Battery\r\n",
       "p_Camera\r\n",
       "p_Processing\r\n",
       "p_Propulsion\r\n",
       "p_Transciever\r\n",
       "- -\r\n",
       "##//ports//##\r\n",
       "i_Charging\r\n",
       "i_Diagnostic\r\n",
       "i_Programming\r\n",
       "}\r\n",
       "comp usage \"Drone: FlyingRobot  \" as E3  <<(T,blue) part>> [[psysml:cf2b2c4d-5eae-4197-a34e-db0108cd0d16 ]] {\r\n",
       "}\r\n",
       "}\r\n",
       "E3 - -:|> E2 [[psysml:04c262bc-41cd-499b-b10a-001105b20194 ]] \r\n",
       "@enduml\r\n",
       "\n",
       "PlantUML version 1.2022.7(Mon Aug 22 19:01:30 CEST 2022)\n",
       "(EPL source distribution)\n",
       "Java Runtime: OpenJDK Runtime Environment\n",
       "JVM: OpenJDK 64-Bit Server VM\n",
       "Default Encoding: UTF-8\n",
       "Language: en\n",
       "Country: US\n",
       "--></g></svg>"
      ]
     },
     "execution_count": 117,
     "metadata": {},
     "output_type": "execute_result"
    }
   ],
   "source": [
    "%viz --view Tree --style LR --style ortholine --style=COMPMOST SystemOfInterest"
   ]
  },
  {
   "cell_type": "code",
   "execution_count": 13,
   "id": "c11b240e-f8ee-431f-a201-9455ca40589d",
   "metadata": {},
   "outputs": [
    {
     "data": {
      "text/plain": [
       "Package External (a4f57412-4677-49c8-9d21-9a47f64afa22)\n"
      ]
     },
     "execution_count": 13,
     "metadata": {},
     "output_type": "execute_result"
    }
   ],
   "source": [
    "package External {\n",
    "    part ext_Environment;\n",
    "    part ext_PowerCharger;\n",
    "    part ext_Adversary;\n",
    "    part ext_ControlCenter;\n",
    "}"
   ]
  },
  {
   "cell_type": "code",
   "execution_count": 63,
   "id": "1eaa3124-3927-49e8-87af-a1348eaa700a",
   "metadata": {},
   "outputs": [
    {
     "data": {
      "image/svg+xml": [
       "<?xml version=\"1.0\" encoding=\"UTF-8\" standalone=\"no\"?><svg xmlns=\"http://www.w3.org/2000/svg\" xmlns:xlink=\"http://www.w3.org/1999/xlink\" contentStyleType=\"text/css\" height=\"116px\" preserveAspectRatio=\"none\" style=\"width:655px;height:116px;background:#FFFFFF;\" version=\"1.1\" viewBox=\"0 0 655 116\" width=\"655px\" zoomAndPan=\"magnify\"><defs/><g><!--MD5=[fbc87193dbaf4d95561dea2c320d4a47]\n",
       "cluster E1--><g id=\"cluster_E1\"><a href=\"psysml:69f6fa56-23f5-42a0-812e-a6f0c50483a0\" target=\"_top\" title=\"psysml:69f6fa56-23f5-42a0-812e-a6f0c50483a0\" xlink:actuate=\"onRequest\" xlink:href=\"psysml:69f6fa56-23f5-42a0-812e-a6f0c50483a0\" xlink:show=\"new\" xlink:title=\"psysml:69f6fa56-23f5-42a0-812e-a6f0c50483a0\" xlink:type=\"simple\"><polygon fill=\"none\" points=\"16,6,80,6,87,29.6094,638,29.6094,638,109,16,109,16,6\" style=\"stroke:#000000;stroke-width:1.5;\"/><line style=\"stroke:#000000;stroke-width:1.5;\" x1=\"16\" x2=\"87\" y1=\"29.6094\" y2=\"29.6094\"/><text fill=\"#000000\" font-family=\"sans-serif\" font-size=\"14\" font-weight=\"bold\" lengthAdjust=\"spacing\" textLength=\"58\" x=\"20\" y=\"22.5332\">External</text></a></g><!--MD5=[b4997ac47864f28c2f74865a473b2911]\n",
       "class E2--><a href=\"psysml:f0089579-cab0-4383-b5bd-77e827c3c051\" target=\"_top\" title=\"psysml:f0089579-cab0-4383-b5bd-77e827c3c051\" xlink:actuate=\"onRequest\" xlink:href=\"psysml:f0089579-cab0-4383-b5bd-77e827c3c051\" xlink:show=\"new\" xlink:title=\"psysml:f0089579-cab0-4383-b5bd-77e827c3c051\" xlink:type=\"simple\"><g id=\"elem_E2\"><rect fill=\"#FFFFFF\" height=\"50.7031\" id=\"E2\" rx=\"10\" ry=\"10\" style=\"stroke:#181818;stroke-width:0.5;\" width=\"119\" x=\"502.5\" y=\"42\"/><text fill=\"#000000\" font-family=\"sans-serif\" font-size=\"12\" font-style=\"italic\" lengthAdjust=\"spacing\" textLength=\"35\" x=\"544.5\" y=\"59.457\">«part»</text><text fill=\"#000000\" font-family=\"sans-serif\" font-size=\"14\" lengthAdjust=\"spacing\" textLength=\"105\" x=\"505.5\" y=\"76.627\">ext_Environment</text><line style=\"stroke:#181818;stroke-width:0.5;\" x1=\"503.5\" x2=\"620.5\" y1=\"84.7031\" y2=\"84.7031\"/></g></a><!--MD5=[09b614a08d8cba4a07c9adeb5e0fee81]\n",
       "class E3--><a href=\"psysml:f2992345-70ef-4cd9-a71b-0322ce9afc5f\" target=\"_top\" title=\"psysml:f2992345-70ef-4cd9-a71b-0322ce9afc5f\" xlink:actuate=\"onRequest\" xlink:href=\"psysml:f2992345-70ef-4cd9-a71b-0322ce9afc5f\" xlink:show=\"new\" xlink:title=\"psysml:f2992345-70ef-4cd9-a71b-0322ce9afc5f\" xlink:type=\"simple\"><g id=\"elem_E3\"><rect fill=\"#FFFFFF\" height=\"50.7031\" id=\"E3\" rx=\"10\" ry=\"10\" style=\"stroke:#181818;stroke-width:0.5;\" width=\"131\" x=\"336.5\" y=\"42\"/><text fill=\"#000000\" font-family=\"sans-serif\" font-size=\"12\" font-style=\"italic\" lengthAdjust=\"spacing\" textLength=\"35\" x=\"384.5\" y=\"59.457\">«part»</text><text fill=\"#000000\" font-family=\"sans-serif\" font-size=\"14\" lengthAdjust=\"spacing\" textLength=\"117\" x=\"339.5\" y=\"76.627\">ext_PowerCharger</text><line style=\"stroke:#181818;stroke-width:0.5;\" x1=\"337.5\" x2=\"466.5\" y1=\"84.7031\" y2=\"84.7031\"/></g></a><!--MD5=[ebbe1d658d1005bcc118a6aa81145e00]\n",
       "class E4--><a href=\"psysml:9f3c46f5-38eb-4dce-a27d-dd06771629d1\" target=\"_top\" title=\"psysml:9f3c46f5-38eb-4dce-a27d-dd06771629d1\" xlink:actuate=\"onRequest\" xlink:href=\"psysml:9f3c46f5-38eb-4dce-a27d-dd06771629d1\" xlink:show=\"new\" xlink:title=\"psysml:9f3c46f5-38eb-4dce-a27d-dd06771629d1\" xlink:type=\"simple\"><g id=\"elem_E4\"><rect fill=\"#FFFFFF\" height=\"50.7031\" id=\"E4\" rx=\"10\" ry=\"10\" style=\"stroke:#181818;stroke-width:0.5;\" width=\"104\" x=\"197\" y=\"42\"/><text fill=\"#000000\" font-family=\"sans-serif\" font-size=\"12\" font-style=\"italic\" lengthAdjust=\"spacing\" textLength=\"35\" x=\"231.5\" y=\"59.457\">«part»</text><text fill=\"#000000\" font-family=\"sans-serif\" font-size=\"14\" lengthAdjust=\"spacing\" textLength=\"90\" x=\"200\" y=\"76.627\">ext_Adversary</text><line style=\"stroke:#181818;stroke-width:0.5;\" x1=\"198\" x2=\"300\" y1=\"84.7031\" y2=\"84.7031\"/></g></a><!--MD5=[270fce915f116d4de14055a7c1d9a0f3]\n",
       "class E5--><a href=\"psysml:3c225bcf-0a98-419f-aaf1-1f97de7cfe29\" target=\"_top\" title=\"psysml:3c225bcf-0a98-419f-aaf1-1f97de7cfe29\" xlink:actuate=\"onRequest\" xlink:href=\"psysml:3c225bcf-0a98-419f-aaf1-1f97de7cfe29\" xlink:show=\"new\" xlink:title=\"psysml:3c225bcf-0a98-419f-aaf1-1f97de7cfe29\" xlink:type=\"simple\"><g id=\"elem_E5\"><rect fill=\"#FFFFFF\" height=\"50.7031\" id=\"E5\" rx=\"10\" ry=\"10\" style=\"stroke:#181818;stroke-width:0.5;\" width=\"129\" x=\"32.5\" y=\"42\"/><text fill=\"#000000\" font-family=\"sans-serif\" font-size=\"12\" font-style=\"italic\" lengthAdjust=\"spacing\" textLength=\"35\" x=\"79.5\" y=\"59.457\">«part»</text><text fill=\"#000000\" font-family=\"sans-serif\" font-size=\"14\" lengthAdjust=\"spacing\" textLength=\"115\" x=\"35.5\" y=\"76.627\">ext_ControlCenter</text><line style=\"stroke:#181818;stroke-width:0.5;\" x1=\"33.5\" x2=\"160.5\" y1=\"84.7031\" y2=\"84.7031\"/></g></a><!--MD5=[2a61ada7a3d48a843a19ada9d459f9df]\n",
       "@startuml\r\n",
       "skin sysmlbw\r\n",
       "skinparam monochrome true\r\n",
       "skinparam wrapWidth 300\r\n",
       "hide circle\r\n",
       "\r\n",
       "package \"External\" as E1  [[psysml:69f6fa56-23f5-42a0-812e-a6f0c50483a0 ]]  {\r\n",
       "comp usage \"ext_Environment  \" as E2  <<(T,blue) part>> [[psysml:f0089579-cab0-4383-b5bd-77e827c3c051 ]] {\r\n",
       "}\r\n",
       "comp usage \"ext_PowerCharger  \" as E3  <<(T,blue) part>> [[psysml:f2992345-70ef-4cd9-a71b-0322ce9afc5f ]] {\r\n",
       "}\r\n",
       "comp usage \"ext_Adversary  \" as E4  <<(T,blue) part>> [[psysml:9f3c46f5-38eb-4dce-a27d-dd06771629d1 ]] {\r\n",
       "}\r\n",
       "comp usage \"ext_ControlCenter  \" as E5  <<(T,blue) part>> [[psysml:3c225bcf-0a98-419f-aaf1-1f97de7cfe29 ]] {\r\n",
       "}\r\n",
       "}\r\n",
       "@enduml\r\n",
       "\n",
       "PlantUML version 1.2022.7(Mon Aug 22 19:01:30 CEST 2022)\n",
       "(EPL source distribution)\n",
       "Java Runtime: OpenJDK Runtime Environment\n",
       "JVM: OpenJDK 64-Bit Server VM\n",
       "Default Encoding: UTF-8\n",
       "Language: en\n",
       "Country: US\n",
       "--></g></svg>"
      ]
     },
     "execution_count": 63,
     "metadata": {},
     "output_type": "execute_result"
    }
   ],
   "source": [
    "%viz External"
   ]
  },
  {
   "cell_type": "code",
   "execution_count": 39,
   "id": "ce47d5f2-4a4f-4be7-989d-d455519eea97",
   "metadata": {},
   "outputs": [
    {
     "data": {
      "text/plain": [
       "Package Operation_Stage (1da83528-ab33-43bb-9665-5da7c304f334)\n"
      ]
     },
     "execution_count": 39,
     "metadata": {},
     "output_type": "execute_result"
    }
   ],
   "source": [
    "package Operation_Stage {\n",
    "    use case useCase1 {\n",
    "        subject system = SystemOfInterest::Drone;\n",
    "        actor actor0;\n",
    "        // actor actor1 : Actor1;\n",
    "        // actor actor2 : Actor2;\n",
    "        // actor actor3 : Actor3;\n",
    "        include useCase2;\n",
    "        include useCase3;\n",
    "    }\n",
    "    // actor def Actor1;\n",
    "    // actor def Actor2;\n",
    "    // actor def Actor3;\n",
    "    use case useCase2;\n",
    "    use case useCase3;\n",
    "}"
   ]
  },
  {
   "cell_type": "code",
   "execution_count": 41,
   "id": "5d51bd1e-9d23-4e86-b8c9-29b265377e09",
   "metadata": {},
   "outputs": [
    {
     "data": {
      "image/svg+xml": [
       "<?xml version=\"1.0\" encoding=\"UTF-8\" standalone=\"no\"?><svg xmlns=\"http://www.w3.org/2000/svg\" xmlns:xlink=\"http://www.w3.org/1999/xlink\" contentStyleType=\"text/css\" height=\"330px\" preserveAspectRatio=\"none\" style=\"width:597px;height:330px;background:#FFFFFF;\" version=\"1.1\" viewBox=\"0 0 597 330\" width=\"597px\" zoomAndPan=\"magnify\"><defs/><g><!--MD5=[fbc87193dbaf4d95561dea2c320d4a47]\n",
       "cluster E1--><g id=\"cluster_E1\"><a href=\"psysml:1da83528-ab33-43bb-9665-5da7c304f334\" target=\"_top\" title=\"psysml:1da83528-ab33-43bb-9665-5da7c304f334\" xlink:actuate=\"onRequest\" xlink:href=\"psysml:1da83528-ab33-43bb-9665-5da7c304f334\" xlink:show=\"new\" xlink:title=\"psysml:1da83528-ab33-43bb-9665-5da7c304f334\" xlink:type=\"simple\"><polygon fill=\"none\" points=\"16,6,140,6,147,29.6094,580,29.6094,580,323,16,323,16,6\" style=\"stroke:#000000;stroke-width:1.5;\"/><line style=\"stroke:#000000;stroke-width:1.5;\" x1=\"16\" x2=\"147\" y1=\"29.6094\" y2=\"29.6094\"/><text fill=\"#000000\" font-family=\"sans-serif\" font-size=\"14\" font-weight=\"bold\" lengthAdjust=\"spacing\" textLength=\"118\" x=\"20\" y=\"22.5332\">Operation_Stage</text></a></g><!--MD5=[e4f7fae6ed58524ba242bb0b0d3be6b7]\n",
       "cluster E2--><g id=\"cluster_E2\"><a href=\"psysml:887df350-2b6b-423c-9609-b055dd20d803\" target=\"_top\" title=\"psysml:887df350-2b6b-423c-9609-b055dd20d803\" xlink:actuate=\"onRequest\" xlink:href=\"psysml:887df350-2b6b-423c-9609-b055dd20d803\" xlink:show=\"new\" xlink:title=\"psysml:887df350-2b6b-423c-9609-b055dd20d803\" xlink:type=\"simple\"><rect fill=\"#FFFFFF\" height=\"134\" id=\"E2\" rx=\"10\" ry=\"10\" style=\"stroke:#383838;stroke-width:1.5;\" width=\"329\" x=\"219\" y=\"58\"/><text fill=\"#000000\" font-family=\"sans-serif\" font-size=\"12\" font-style=\"italic\" lengthAdjust=\"spacing\" textLength=\"63\" x=\"352\" y=\"75.457\">«use case»</text><text fill=\"#000000\" font-family=\"sans-serif\" font-size=\"14\" lengthAdjust=\"spacing\" textLength=\"64\" x=\"347.5\" y=\"92.627\">useCase1</text><line style=\"stroke:#383838;stroke-width:1.0;\" x1=\"219\" x2=\"548\" y1=\"100.7031\" y2=\"100.7031\"/></a></g><!--MD5=[09b614a08d8cba4a07c9adeb5e0fee81]\n",
       "class E3--><a href=\"psysml:ee1800df-ad7d-4248-bf58-0eb23116919e\" target=\"_top\" title=\"psysml:ee1800df-ad7d-4248-bf58-0eb23116919e\" xlink:actuate=\"onRequest\" xlink:href=\"psysml:ee1800df-ad7d-4248-bf58-0eb23116919e\" xlink:show=\"new\" xlink:title=\"psysml:ee1800df-ad7d-4248-bf58-0eb23116919e\" xlink:type=\"simple\"><g id=\"elem_E3\"><rect fill=\"#FFFFFF\" height=\"79.3563\" id=\"E3\" rx=\"10\" ry=\"10\" style=\"stroke:#181818;stroke-width:0.5;\" width=\"179\" x=\"32.5\" y=\"228\"/><text fill=\"#000000\" font-family=\"sans-serif\" font-size=\"12\" font-style=\"italic\" lengthAdjust=\"spacing\" textLength=\"54\" x=\"95\" y=\"245.457\">«subject»</text><text fill=\"#000000\" font-family=\"sans-serif\" font-size=\"14\" lengthAdjust=\"spacing\" textLength=\"44\" x=\"100\" y=\"262.627\">system</text><line style=\"stroke:#181818;stroke-width:0.5;\" x1=\"33.5\" x2=\"210.5\" y1=\"270.7031\" y2=\"270.7031\"/><text fill=\"#000000\" font-family=\"sans-serif\" font-size=\"14\" lengthAdjust=\"spacing\" textLength=\"167\" x=\"38.5\" y=\"300.2801\">= SystemOfInterest::Drone</text><text fill=\"#000000\" font-family=\"sans-serif\" font-size=\"14\" font-style=\"italic\" lengthAdjust=\"spacing\" textLength=\"40\" x=\"102\" y=\"283.9316\">values</text></g></a><!--MD5=[ebbe1d658d1005bcc118a6aa81145e00]\n",
       "class E4--><a href=\"psysml:26e70689-0711-4d1d-a0ff-bcc3e0925f53\" target=\"_top\" title=\"psysml:26e70689-0711-4d1d-a0ff-bcc3e0925f53\" xlink:actuate=\"onRequest\" xlink:href=\"psysml:26e70689-0711-4d1d-a0ff-bcc3e0925f53\" xlink:show=\"new\" xlink:title=\"psysml:26e70689-0711-4d1d-a0ff-bcc3e0925f53\" xlink:type=\"simple\"><g id=\"elem_E4\"><rect fill=\"#FFFFFF\" height=\"60.5938\" id=\"E4\" rx=\"10\" ry=\"10\" style=\"stroke:#181818;stroke-width:0.5;\" width=\"80\" x=\"247\" y=\"237\"/><text fill=\"#000000\" font-family=\"sans-serif\" font-size=\"12\" font-style=\"italic\" lengthAdjust=\"spacing\" textLength=\"35\" x=\"269.5\" y=\"254.457\">«part»</text><path d=\"M261,257.0938 C258.25,257.0938 256,259.8938 256,263.3438 C256,266.7938 258.25,269.5938 261,269.5938 C263.75,269.5938 266,266.7938 266,263.3438 C266,259.8938 263.75,257.0938 261,257.0938 M255.775,269.5938 C253.125,269.7188 251,271.8938 251,274.5938 L251,277.0938 L271,277.0938 L271,274.5938 C271,271.8938 268.9,269.7188 266.225,269.5938 C264.875,271.1188 263.025,272.0938 261,272.0938 C258.975,272.0938 257.125,271.1188 255.775,269.5938 \" fill=\"#000000\" style=\"stroke:;stroke-width:0.0;stroke-dasharray:;\"/><text fill=\"#000000\" font-family=\"sans-serif\" font-size=\"14\" lengthAdjust=\"spacing\" textLength=\"40\" x=\"276\" y=\"281.5176\">actor0</text><line style=\"stroke:#181818;stroke-width:0.5;\" x1=\"248\" x2=\"326\" y1=\"289.5938\" y2=\"289.5938\"/></g></a><g><a href=\"psysml:cb599153-6536-4c2f-b298-4a31ffa6370a\" target=\"_top\" title=\"psysml:cb599153-6536-4c2f-b298-4a31ffa6370a\" xlink:actuate=\"onRequest\" xlink:href=\"psysml:cb599153-6536-4c2f-b298-4a31ffa6370a\" xlink:show=\"new\" xlink:title=\"psysml:cb599153-6536-4c2f-b298-4a31ffa6370a\" xlink:type=\"simple\"><rect fill=\"#FFFFFF\" height=\"47.7031\" id=\"E5\" rx=\"10\" ry=\"10\" style=\"stroke:#383838;stroke-width:1.5;\" width=\"113\" x=\"262.5\" y=\"120\"/><text fill=\"#000000\" font-family=\"sans-serif\" font-size=\"12\" font-style=\"italic\" lengthAdjust=\"spacing\" textLength=\"106\" x=\"266\" y=\"137.457\">«include use case»</text><text fill=\"#000000\" font-family=\"sans-serif\" font-size=\"14\" lengthAdjust=\"spacing\" textLength=\"64\" x=\"285\" y=\"154.627\">useCase2</text></a></g><g><a href=\"psysml:c0367aba-0943-4efd-b390-a111074f32cf\" target=\"_top\" title=\"psysml:c0367aba-0943-4efd-b390-a111074f32cf\" xlink:actuate=\"onRequest\" xlink:href=\"psysml:c0367aba-0943-4efd-b390-a111074f32cf\" xlink:show=\"new\" xlink:title=\"psysml:c0367aba-0943-4efd-b390-a111074f32cf\" xlink:type=\"simple\"><rect fill=\"#FFFFFF\" height=\"47.7031\" id=\"E6\" rx=\"10\" ry=\"10\" style=\"stroke:#383838;stroke-width:1.5;\" width=\"113\" x=\"410.5\" y=\"120\"/><text fill=\"#000000\" font-family=\"sans-serif\" font-size=\"12\" font-style=\"italic\" lengthAdjust=\"spacing\" textLength=\"106\" x=\"414\" y=\"137.457\">«include use case»</text><text fill=\"#000000\" font-family=\"sans-serif\" font-size=\"14\" lengthAdjust=\"spacing\" textLength=\"64\" x=\"433\" y=\"154.627\">useCase3</text></a></g><g><a href=\"psysml:a4ca041e-21eb-4e8b-b2c3-91686637c335\" target=\"_top\" title=\"psysml:a4ca041e-21eb-4e8b-b2c3-91686637c335\" xlink:actuate=\"onRequest\" xlink:href=\"psysml:a4ca041e-21eb-4e8b-b2c3-91686637c335\" xlink:show=\"new\" xlink:title=\"psysml:a4ca041e-21eb-4e8b-b2c3-91686637c335\" xlink:type=\"simple\"><rect fill=\"#FFFFFF\" height=\"47.7031\" id=\"E7\" rx=\"10\" ry=\"10\" style=\"stroke:#383838;stroke-width:1.5;\" width=\"83\" x=\"362.5\" y=\"243.5\"/><text fill=\"#000000\" font-family=\"sans-serif\" font-size=\"12\" font-style=\"italic\" lengthAdjust=\"spacing\" textLength=\"63\" x=\"372.5\" y=\"260.957\">«use case»</text><text fill=\"#000000\" font-family=\"sans-serif\" font-size=\"14\" lengthAdjust=\"spacing\" textLength=\"64\" x=\"368\" y=\"278.127\">useCase2</text></a></g><g><a href=\"psysml:5121e813-88f1-43e3-9e99-21896c225534\" target=\"_top\" title=\"psysml:5121e813-88f1-43e3-9e99-21896c225534\" xlink:actuate=\"onRequest\" xlink:href=\"psysml:5121e813-88f1-43e3-9e99-21896c225534\" xlink:show=\"new\" xlink:title=\"psysml:5121e813-88f1-43e3-9e99-21896c225534\" xlink:type=\"simple\"><rect fill=\"#FFFFFF\" height=\"47.7031\" id=\"E8\" rx=\"10\" ry=\"10\" style=\"stroke:#383838;stroke-width:1.5;\" width=\"83\" x=\"480.5\" y=\"243.5\"/><text fill=\"#000000\" font-family=\"sans-serif\" font-size=\"12\" font-style=\"italic\" lengthAdjust=\"spacing\" textLength=\"63\" x=\"490.5\" y=\"260.957\">«use case»</text><text fill=\"#000000\" font-family=\"sans-serif\" font-size=\"14\" lengthAdjust=\"spacing\" textLength=\"64\" x=\"486\" y=\"278.127\">useCase3</text></a></g><!--MD5=[209b3feb70ccb6233bfe1053d122c12c]\n",
       "reverse link E2 to E3--><g id=\"link_E2_E3\"><a href=\"psysml:10e57513-9d90-4207-932f-5a1c249b12d0\" target=\"_top\" title=\"psysml:10e57513-9d90-4207-932f-5a1c249b12d0\" xlink:actuate=\"onRequest\" xlink:href=\"psysml:10e57513-9d90-4207-932f-5a1c249b12d0\" xlink:show=\"new\" xlink:title=\"psysml:10e57513-9d90-4207-932f-5a1c249b12d0\" xlink:type=\"simple\"><path d=\"M218.9356,154.3288 C218.8654,154.4102 218.7947,154.4919 218.7236,154.5741 C218.5815,154.7386 218.4378,154.9048 218.2926,155.0728 C218.0023,155.4088 217.7057,155.7519 217.4033,156.1018 C216.7984,156.8017 216.1698,157.529 215.5189,158.2821 C214.2171,159.7883 212.8261,161.3977 211.3574,163.097 C208.42,166.4956 205.1719,170.2538 201.705,174.265 C187.8375,190.31 170.47,210.405 155.49,227.74 \" fill=\"none\" id=\"E2-backto-E3\" style=\"stroke:#181818;stroke-width:1.0;\"/><polygon fill=\"none\" points=\"218.9356,154.3288,211.9859,156.2527,211.0888,163.4078,218.0386,161.4839,218.9356,154.3288\" style=\"stroke:#181818;stroke-width:1.0;\"/></a></g><!--MD5=[4d03bb2d0377dc85ccfab60ff574652b]\n",
       "link E2 to E4--><g id=\"link_E2_E4\"><a href=\"psysml:7d7c49e9-954b-4ad3-ab3c-a1a4cc28b810\" target=\"_top\" title=\"psysml:7d7c49e9-954b-4ad3-ab3c-a1a4cc28b810\" xlink:actuate=\"onRequest\" xlink:href=\"psysml:7d7c49e9-954b-4ad3-ab3c-a1a4cc28b810\" xlink:show=\"new\" xlink:title=\"psysml:7d7c49e9-954b-4ad3-ab3c-a1a4cc28b810\" xlink:type=\"simple\"><path d=\"M239.4487,192.2687 C239.5267,192.4848 239.6051,192.7008 239.6838,192.9167 C240.3139,194.6441 240.9678,196.3648 241.6456,198.0683 C243.0013,201.4753 244.4525,204.8138 246,208 C250.82,217.93 257.25,228.02 263.58,236.97 \" fill=\"none\" id=\"E2-E4\" style=\"stroke:#181818;stroke-width:1.0;\"/></a></g><!--MD5=[3a9b96bfbf6b6ad89c494e81751bda47]\n",
       "link E5 to E7--><g id=\"link_E5_E7\"><a href=\"psysml:ce50d879-6777-4531-82a5-db1199a088b9\" target=\"_top\" title=\"psysml:ce50d879-6777-4531-82a5-db1199a088b9\" xlink:actuate=\"onRequest\" xlink:href=\"psysml:ce50d879-6777-4531-82a5-db1199a088b9\" xlink:show=\"new\" xlink:title=\"psysml:ce50d879-6777-4531-82a5-db1199a088b9\" xlink:type=\"simple\"><path d=\"M335.19,168.14 C346.77,184.69 362.64,207.39 376.23,226.8 \" fill=\"none\" id=\"E5-to-E7\" style=\"stroke:#181818;stroke-width:1.0;\"/><polygon fill=\"none\" points=\"382.14,223.05,387.87,243.45,370.67,231.07,382.14,223.05\" style=\"stroke:#181818;stroke-width:1.0;\"/></a></g><!--MD5=[0a839d0f80c2d72d4b9b307f046d0de8]\n",
       "link E6 to E8--><g id=\"link_E6_E8\"><a href=\"psysml:af35b631-c7b4-4413-b238-5b18096fff5c\" target=\"_top\" title=\"psysml:af35b631-c7b4-4413-b238-5b18096fff5c\" xlink:actuate=\"onRequest\" xlink:href=\"psysml:af35b631-c7b4-4413-b238-5b18096fff5c\" xlink:show=\"new\" xlink:title=\"psysml:af35b631-c7b4-4413-b238-5b18096fff5c\" xlink:type=\"simple\"><path d=\"M477.47,168.14 C484.74,184.18 494.61,206 503.22,225.01 \" fill=\"none\" id=\"E6-to-E8\" style=\"stroke:#181818;stroke-width:1.0;\"/><polygon fill=\"none\" points=\"509.69,222.34,511.56,243.45,496.94,228.11,509.69,222.34\" style=\"stroke:#181818;stroke-width:1.0;\"/></a></g><!--MD5=[ccccef1ec02901ac5082f57d600083ef]\n",
       "@startuml\r\n",
       "skin sysmlbw\r\n",
       "skinparam monochrome true\r\n",
       "skinparam wrapWidth 300\r\n",
       "hide circle\r\n",
       " \r\n",
       "package \"Operation_Stage\" as E1  [[psysml:1da83528-ab33-43bb-9665-5da7c304f334 ]]  {\r\n",
       "rec usage \"useCase1  \" as E2  <<(T,blue) use case>> [[psysml:887df350-2b6b-423c-9609-b055dd20d803 ]] {\r\n",
       "rec usage \"useCase2 \" as E5  << include use case>> [[psysml:cb599153-6536-4c2f-b298-4a31ffa6370a ]] {\r\n",
       "}\r\n",
       "rec usage \"useCase3 \" as E6  << include use case>> [[psysml:c0367aba-0943-4efd-b390-a111074f32cf ]] {\r\n",
       "}\r\n",
       "}\r\n",
       "comp usage \"system\" as E3 <<subject>>[[psysml:ee1800df-ad7d-4248-bf58-0eb23116919e ]] {\r\n",
       "##//values//##\r\n",
       " <U+003D> SystemOfInterest::Drone\r\n",
       "}\r\n",
       "comp usage \"<size:30><&person></size> actor0  \" as E4  <<(T,blue) part>> [[psysml:26e70689-0711-4d1d-a0ff-bcc3e0925f53 ]] {\r\n",
       "}\r\n",
       "rec usage \"useCase2  \" as E7  <<(T,blue) use case>> [[psysml:a4ca041e-21eb-4e8b-b2c3-91686637c335 ]] {\r\n",
       "}\r\n",
       "rec usage \"useCase3  \" as E8  <<(T,blue) use case>> [[psysml:5121e813-88f1-43e3-9e99-21896c225534 ]] {\r\n",
       "}\r\n",
       "}\r\n",
       "E2 o- - E3 [[psysml:10e57513-9d90-4207-932f-5a1c249b12d0 ]] \r\n",
       "E2 - - E4 [[psysml:7d7c49e9-954b-4ad3-ab3c-a1a4cc28b810 ]] \r\n",
       "E5 - -|> E7 [[psysml:ce50d879-6777-4531-82a5-db1199a088b9 ]] \r\n",
       "E6 - -|> E8 [[psysml:af35b631-c7b4-4413-b238-5b18096fff5c ]] \r\n",
       "@enduml\r\n",
       "\n",
       "PlantUML version 1.2022.7(Mon Aug 22 11:01:30 GMT-06:00 2022)\n",
       "(EPL source distribution)\n",
       "Java Runtime: OpenJDK Runtime Environment\n",
       "JVM: OpenJDK 64-Bit Server VM\n",
       "Default Encoding: UTF-8\n",
       "Language: en\n",
       "Country: US\n",
       "--></g></svg>"
      ]
     },
     "execution_count": 41,
     "metadata": {},
     "output_type": "execute_result"
    }
   ],
   "source": [
    "%viz --view=MIXED --style=COMPMOST Operation_Stage"
   ]
  }
 ],
 "metadata": {
  "kernelspec": {
   "display_name": "SysML [conda env:base] *",
   "language": "sysml",
   "name": "conda-base-sysml"
  },
  "language_info": {
   "codemirror_mode": "sysml",
   "file_extension": ".sysml",
   "mimetype": "text/x-sysml",
   "name": "SysML",
   "pygments_lexer": "java",
   "version": "1.0.0"
  }
 },
 "nbformat": 4,
 "nbformat_minor": 5
}
