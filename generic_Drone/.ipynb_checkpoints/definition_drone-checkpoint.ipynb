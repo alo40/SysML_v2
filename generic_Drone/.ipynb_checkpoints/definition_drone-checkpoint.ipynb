{
 "cells": [
  {
   "cell_type": "code",
   "execution_count": 19,
   "id": "7e245ad4-5138-4122-b4db-181fdd36948c",
   "metadata": {
    "collapsed": true,
    "jupyter": {
     "outputs_hidden": true
    },
    "scrolled": true
   },
   "outputs": [
    {
     "data": {
      "text/plain": [
       "The following SysML v2 magic commands are available.\n",
       "For help on a specific command, use \"%help <COMMAND>\" or \"%<cmd> -h\".\n",
       "\n",
       "%eval\t\tEvaluate a given expression.\n",
       "%export\t\tSave a file of the JSON representation of the abstract syntax tree rooted in the named element.\n",
       "%help\t\tGet a list of available commands or help on a specific command\n",
       "%list\t\tList loaded library packages or the results of a given query\n",
       "%show\t\tPrint the abstract syntax tree rooted in a named element\n",
       "%publish\tPublish to the repository the modele elements rooted in a named element\n",
       "%view\t\tRender the view specified by the named view usage\n",
       "%viz\t\tVisualize the name model elements\n"
      ]
     },
     "execution_count": 19,
     "metadata": {},
     "output_type": "execute_result"
    }
   ],
   "source": [
    "%help"
   ]
  },
  {
   "cell_type": "code",
   "execution_count": 13,
   "id": "b1fef828-dca9-467f-bfc6-4bd6eb95b17f",
   "metadata": {
    "scrolled": true
   },
   "outputs": [
    {
     "data": {
      "text/plain": [
       "Usage: %viz [--view=<VIEW>] [--style=<STYLE>...] <NAME> [<NAME>...]\n",
       "\n",
       "Visualize model elements of <NAME>(s). <NAME>s must be fully qualified.\n",
       "\n",
       "<VIEW> is case insensitive and possible candidates are:\n",
       "   DEFAULT\t\tAutomatically choose an appropriate view from the given model element names\n",
       "   TREE\t\t\tShow a tree-structural view, like a Block Definition Diagram (BDD)\n",
       "   INTERCONNECTION\tShow an interconnection view, like an Internal Block Diagram (IBD)\n",
       "   STATE\t\tShow state machines\n",
       "   ACTION\t\tShow actions like an activity diagram\n",
       "   SEQUENCE\t\tShow events and messages in a sequence diagram\n",
       "   MIXED\t\tShow multiple views\n",
       "\n",
       "<STYLE> is also case insensitive. Multiple --style options are allowed.  The possible style names are:\n",
       "  DEFAULT\t\tStandard B&&W\n",
       "  STDCOLOR\t\tStandard style with colors\n",
       "  PLANTUML\t\tPlantUML Style\n",
       "  TB\t\t\tTop-to-Bottom orientation\n",
       "  LR\t\t\tLeft-to-Right orientation\n",
       "  POLYLINE\t\tPolyline style\n",
       "  ORTHOLINE\t\tOrthogonal line style\n",
       "  SHOWLIB\t\tShow elements of the standard libraries\n",
       "  SHOWINHERITED\t\tShow inherited members\n",
       "  COMPMOST\t\tShow as many memberships in a compartment as possible\n",
       "  COMPTREE\t\tShow nested ports in a compartment\n",
       "  SHOWIMPORTED\t\tShow imported elements\n",
       "  HIDEMETADATA\t\tHide metadata\n",
       "  SHOWMETACLASS\t\tShow metaclasses of metaobjects\n",
       "  EVAL\t\tEvaluate expressions\n",
       "  NODEMULTIPLICITY\t\tShow multiplicities in nodes\n",
       "  EDGEMULTIPLICITY\t\tShow multiplicities on edges\n",
       "  IMPLICITMULTIPLICITY\t\tShow implicit multiplicities\n",
       "\n",
       "Example:\n",
       "\t%viz --view Tree --style LR --style ortholine Pkg1::PartDef Pkg1::Pkg2::partUsage\n",
       "should visualize Pkg1::PartDef and Pkg1::Pkg2::partUsage with a tree view ordered in the left-to-right direction with orthogonal lines.\n"
      ]
     },
     "execution_count": 13,
     "metadata": {},
     "output_type": "execute_result"
    }
   ],
   "source": [
    "%help %viz"
   ]
  },
  {
   "cell_type": "code",
   "execution_count": 109,
   "id": "f8c520ce-f51c-4fce-8309-d16511c370ec",
   "metadata": {},
   "outputs": [
    {
     "data": {
      "text/plain": [
       "Package SystemOfInterest (a22fe013-d571-4ee1-bd61-471af42af267)\n"
      ]
     },
     "execution_count": 109,
     "metadata": {},
     "output_type": "execute_result"
    }
   ],
   "source": [
    "package SystemOfInterest {\n",
    "    part def FlyingRobot {\n",
    "        // Physical Components\n",
    "        part p_Battery;\n",
    "        part p_Camera;\n",
    "        part p_Transciever;\n",
    "        part p_Processing;\n",
    "        part p_Propulsion;\n",
    "        // Physical Interfaces\n",
    "        port i_Charging;\n",
    "        port i_Diagnostic;\n",
    "        port i_Programming;\n",
    "        // System Functions\n",
    "        action f_TakeOff;\n",
    "        action f_Landing;\n",
    "        action f_Flying;\n",
    "        action f_Communicate;\n",
    "        action f_AutonomousFlight;\n",
    "        action f_TakePicture;\n",
    "        action f_RecordVideo;\n",
    "    }\n",
    "    part Drone : FlyingRobot {\n",
    "        \n",
    "    }\n",
    "}"
   ]
  },
  {
   "cell_type": "code",
   "execution_count": 117,
   "id": "91dee5c6-bf89-487c-9653-db6a62ce2125",
   "metadata": {},
   "outputs": [
    {
     "data": {
      "image/svg+xml": [
       "<?xml version=\"1.0\" encoding=\"UTF-8\" standalone=\"no\"?><svg xmlns=\"http://www.w3.org/2000/svg\" xmlns:xlink=\"http://www.w3.org/1999/xlink\" contentStyleType=\"text/css\" height=\"429px\" preserveAspectRatio=\"none\" style=\"width:400px;height:429px;background:#FFFFFF;\" version=\"1.1\" viewBox=\"0 0 400 429\" width=\"400px\" zoomAndPan=\"magnify\"><defs/><g><!--MD5=[fbc87193dbaf4d95561dea2c320d4a47]\n",
       "cluster E1--><g id=\"cluster_E1\"><a href=\"psysml:a22fe013-d571-4ee1-bd61-471af42af267\" target=\"_top\" title=\"psysml:a22fe013-d571-4ee1-bd61-471af42af267\" xlink:actuate=\"onRequest\" xlink:href=\"psysml:a22fe013-d571-4ee1-bd61-471af42af267\" xlink:show=\"new\" xlink:title=\"psysml:a22fe013-d571-4ee1-bd61-471af42af267\" xlink:type=\"simple\"><polygon fill=\"none\" points=\"16,6,143,6,150,29.6094,383,29.6094,383,422,16,422,16,6\" style=\"stroke:#000000;stroke-width:1.5;\"/><line style=\"stroke:#000000;stroke-width:1.5;\" x1=\"16\" x2=\"150\" y1=\"29.6094\" y2=\"29.6094\"/><text fill=\"#000000\" font-family=\"sans-serif\" font-size=\"14\" font-weight=\"bold\" lengthAdjust=\"spacing\" textLength=\"121\" x=\"20\" y=\"22.5332\">SystemOfInterest</text></a></g><!--MD5=[b4997ac47864f28c2f74865a473b2911]\n",
       "class E2--><a href=\"psysml:849db476-3193-478b-81c6-2e28b4759858\" target=\"_top\" title=\"psysml:849db476-3193-478b-81c6-2e28b4759858\" xlink:actuate=\"onRequest\" xlink:href=\"psysml:849db476-3193-478b-81c6-2e28b4759858\" xlink:show=\"new\" xlink:title=\"psysml:849db476-3193-478b-81c6-2e28b4759858\" xlink:type=\"simple\"><g id=\"elem_E2\"><rect fill=\"#FFFFFF\" height=\"363.975\" id=\"E2\" style=\"stroke:#181818;stroke-width:0.5;\" width=\"138\" x=\"229\" y=\"42\"/><text fill=\"#000000\" font-family=\"sans-serif\" font-size=\"12\" font-style=\"italic\" lengthAdjust=\"spacing\" textLength=\"58\" x=\"269\" y=\"59.457\">«part  def»</text><text fill=\"#000000\" font-family=\"sans-serif\" font-size=\"14\" lengthAdjust=\"spacing\" textLength=\"76\" x=\"260\" y=\"76.627\">FlyingRobot</text><line style=\"stroke:#181818;stroke-width:0.5;\" x1=\"230\" x2=\"366\" y1=\"84.7031\" y2=\"84.7031\"/><text fill=\"#000000\" font-family=\"sans-serif\" font-size=\"14\" lengthAdjust=\"spacing\" textLength=\"126\" x=\"235\" y=\"114.2801\">f_AutonomousFlight</text><text fill=\"#000000\" font-family=\"sans-serif\" font-size=\"14\" lengthAdjust=\"spacing\" textLength=\"98\" x=\"235\" y=\"131.8895\">f_Communicate</text><text fill=\"#000000\" font-family=\"sans-serif\" font-size=\"14\" lengthAdjust=\"spacing\" textLength=\"50\" x=\"235\" y=\"149.4988\">f_Flying</text><text fill=\"#000000\" font-family=\"sans-serif\" font-size=\"14\" lengthAdjust=\"spacing\" textLength=\"63\" x=\"235\" y=\"167.1082\">f_Landing</text><text fill=\"#000000\" font-family=\"sans-serif\" font-size=\"14\" lengthAdjust=\"spacing\" textLength=\"94\" x=\"235\" y=\"184.7176\">f_RecordVideo</text><text fill=\"#000000\" font-family=\"sans-serif\" font-size=\"14\" lengthAdjust=\"spacing\" textLength=\"63\" x=\"235\" y=\"202.327\">f_TakeOff</text><text fill=\"#000000\" font-family=\"sans-serif\" font-size=\"14\" lengthAdjust=\"spacing\" textLength=\"88\" x=\"235\" y=\"219.9363\">f_TakePicture</text><text fill=\"#000000\" font-family=\"sans-serif\" font-size=\"14\" font-style=\"italic\" lengthAdjust=\"spacing\" textLength=\"45\" x=\"275.5\" y=\"97.9316\">actions</text><line style=\"stroke:#181818;stroke-width:1.0;\" x1=\"230\" x2=\"366\" y1=\"227.0125\" y2=\"227.0125\"/><text fill=\"#000000\" font-family=\"sans-serif\" font-size=\"14\" lengthAdjust=\"spacing\" textLength=\"61\" x=\"235\" y=\"256.5895\">p_Battery</text><text fill=\"#000000\" font-family=\"sans-serif\" font-size=\"14\" lengthAdjust=\"spacing\" textLength=\"66\" x=\"235\" y=\"274.1988\">p_Camera</text><text fill=\"#000000\" font-family=\"sans-serif\" font-size=\"14\" lengthAdjust=\"spacing\" textLength=\"86\" x=\"235\" y=\"291.8082\">p_Processing</text><text fill=\"#000000\" font-family=\"sans-serif\" font-size=\"14\" lengthAdjust=\"spacing\" textLength=\"83\" x=\"235\" y=\"309.4176\">p_Propulsion</text><text fill=\"#000000\" font-family=\"sans-serif\" font-size=\"14\" lengthAdjust=\"spacing\" textLength=\"91\" x=\"235\" y=\"327.027\">p_Transciever</text><text fill=\"#000000\" font-family=\"sans-serif\" font-size=\"14\" font-style=\"italic\" lengthAdjust=\"spacing\" textLength=\"32\" x=\"282\" y=\"240.241\">parts</text><line style=\"stroke:#181818;stroke-width:1.0;\" x1=\"230\" x2=\"366\" y1=\"334.1031\" y2=\"334.1031\"/><text fill=\"#000000\" font-family=\"sans-serif\" font-size=\"14\" lengthAdjust=\"spacing\" textLength=\"69\" x=\"235\" y=\"363.6801\">i_Charging</text><text fill=\"#000000\" font-family=\"sans-serif\" font-size=\"14\" lengthAdjust=\"spacing\" textLength=\"77\" x=\"235\" y=\"381.2895\">i_Diagnostic</text><text fill=\"#000000\" font-family=\"sans-serif\" font-size=\"14\" lengthAdjust=\"spacing\" textLength=\"95\" x=\"235\" y=\"398.8988\">i_Programming</text><text fill=\"#000000\" font-family=\"sans-serif\" font-size=\"14\" font-style=\"italic\" lengthAdjust=\"spacing\" textLength=\"32\" x=\"282\" y=\"347.3316\">ports</text></g></a><!--MD5=[09b614a08d8cba4a07c9adeb5e0fee81]\n",
       "class E3--><a href=\"psysml:cf2b2c4d-5eae-4197-a34e-db0108cd0d16\" target=\"_top\" title=\"psysml:cf2b2c4d-5eae-4197-a34e-db0108cd0d16\" xlink:actuate=\"onRequest\" xlink:href=\"psysml:cf2b2c4d-5eae-4197-a34e-db0108cd0d16\" xlink:show=\"new\" xlink:title=\"psysml:cf2b2c4d-5eae-4197-a34e-db0108cd0d16\" xlink:type=\"simple\"><g id=\"elem_E3\"><rect fill=\"#FFFFFF\" height=\"50.7031\" id=\"E3\" rx=\"10\" ry=\"10\" style=\"stroke:#181818;stroke-width:0.5;\" width=\"137\" x=\"32\" y=\"198.5\"/><text fill=\"#000000\" font-family=\"sans-serif\" font-size=\"12\" font-style=\"italic\" lengthAdjust=\"spacing\" textLength=\"35\" x=\"83\" y=\"215.957\">«part»</text><text fill=\"#000000\" font-family=\"sans-serif\" font-size=\"14\" lengthAdjust=\"spacing\" textLength=\"123\" x=\"35\" y=\"233.127\">Drone: FlyingRobot</text><line style=\"stroke:#181818;stroke-width:0.5;\" x1=\"33\" x2=\"168\" y1=\"241.2031\" y2=\"241.2031\"/></g></a><!--MD5=[05d275557350bfb9b23a4ef7222b4c39]\n",
       "link E3 to E2--><g id=\"link_E3_E2\"><a href=\"psysml:04c262bc-41cd-499b-b10a-001105b20194\" target=\"_top\" title=\"psysml:04c262bc-41cd-499b-b10a-001105b20194\" xlink:actuate=\"onRequest\" xlink:href=\"psysml:04c262bc-41cd-499b-b10a-001105b20194\" xlink:show=\"new\" xlink:title=\"psysml:04c262bc-41cd-499b-b10a-001105b20194\" xlink:type=\"simple\"><path d=\"M169.02,224 C169.02,224 208.93,224 208.93,224 \" fill=\"none\" id=\"E3-to-E2\" style=\"stroke:#181818;stroke-width:1.0;\"/><polygon fill=\"#FFFFFF\" points=\"228.93,224,209.93,231,209.93,217,228.93,224\" style=\"stroke:#181818;stroke-width:1.0;\"/><ellipse cx=\"204.23\" cy=\"229\" fill=\"#181818\" rx=\"2\" ry=\"2\" style=\"stroke:#181818;stroke-width:1.0;\"/><ellipse cx=\"204.23\" cy=\"219\" fill=\"#181818\" rx=\"2\" ry=\"2\" style=\"stroke:#181818;stroke-width:1.0;\"/></a></g><!--MD5=[a71e6aa78ae591231c8e4455c1b718b5]\n",
       "@startuml\r\n",
       "skin sysmlbw\r\n",
       "skinparam monochrome true\r\n",
       "skinparam wrapWidth 300\r\n",
       "hide circle\r\n",
       "left to right direction\r\n",
       "skinparam linetype ortho\r\n",
       " \r\n",
       "package \"SystemOfInterest\" as E1  [[psysml:a22fe013-d571-4ee1-bd61-471af42af267 ]]  {\r\n",
       "comp def \"FlyingRobot\" as E2  <<(T,blue) part  def>> [[psysml:849db476-3193-478b-81c6-2e28b4759858 ]] {\r\n",
       "##//actions//##\r\n",
       "f_AutonomousFlight\r\n",
       "f_Communicate\r\n",
       "f_Flying\r\n",
       "f_Landing\r\n",
       "f_RecordVideo\r\n",
       "f_TakeOff\r\n",
       "f_TakePicture\r\n",
       "- -\r\n",
       "##//parts//##\r\n",
       "p_Battery\r\n",
       "p_Camera\r\n",
       "p_Processing\r\n",
       "p_Propulsion\r\n",
       "p_Transciever\r\n",
       "- -\r\n",
       "##//ports//##\r\n",
       "i_Charging\r\n",
       "i_Diagnostic\r\n",
       "i_Programming\r\n",
       "}\r\n",
       "comp usage \"Drone: FlyingRobot  \" as E3  <<(T,blue) part>> [[psysml:cf2b2c4d-5eae-4197-a34e-db0108cd0d16 ]] {\r\n",
       "}\r\n",
       "}\r\n",
       "E3 - -:|> E2 [[psysml:04c262bc-41cd-499b-b10a-001105b20194 ]] \r\n",
       "@enduml\r\n",
       "\n",
       "PlantUML version 1.2022.7(Mon Aug 22 19:01:30 CEST 2022)\n",
       "(EPL source distribution)\n",
       "Java Runtime: OpenJDK Runtime Environment\n",
       "JVM: OpenJDK 64-Bit Server VM\n",
       "Default Encoding: UTF-8\n",
       "Language: en\n",
       "Country: US\n",
       "--></g></svg>"
      ]
     },
     "execution_count": 117,
     "metadata": {},
     "output_type": "execute_result"
    }
   ],
   "source": [
    "%viz --view Tree --style LR --style ortholine --style=COMPMOST SystemOfInterest"
   ]
  },
  {
   "cell_type": "code",
   "execution_count": 61,
   "id": "c11b240e-f8ee-431f-a201-9455ca40589d",
   "metadata": {},
   "outputs": [
    {
     "data": {
      "text/plain": [
       "Package External (69f6fa56-23f5-42a0-812e-a6f0c50483a0)\n"
      ]
     },
     "execution_count": 61,
     "metadata": {},
     "output_type": "execute_result"
    }
   ],
   "source": [
    "package External {\n",
    "    part ext_Environment;\n",
    "    part ext_PowerCharger;\n",
    "    part ext_Adversary;\n",
    "    part ext_ControlCenter;\n",
    "}"
   ]
  },
  {
   "cell_type": "code",
   "execution_count": 63,
   "id": "1eaa3124-3927-49e8-87af-a1348eaa700a",
   "metadata": {},
   "outputs": [
    {
     "data": {
      "image/svg+xml": [
       "<?xml version=\"1.0\" encoding=\"UTF-8\" standalone=\"no\"?><svg xmlns=\"http://www.w3.org/2000/svg\" xmlns:xlink=\"http://www.w3.org/1999/xlink\" contentStyleType=\"text/css\" height=\"116px\" preserveAspectRatio=\"none\" style=\"width:655px;height:116px;background:#FFFFFF;\" version=\"1.1\" viewBox=\"0 0 655 116\" width=\"655px\" zoomAndPan=\"magnify\"><defs/><g><!--MD5=[fbc87193dbaf4d95561dea2c320d4a47]\n",
       "cluster E1--><g id=\"cluster_E1\"><a href=\"psysml:69f6fa56-23f5-42a0-812e-a6f0c50483a0\" target=\"_top\" title=\"psysml:69f6fa56-23f5-42a0-812e-a6f0c50483a0\" xlink:actuate=\"onRequest\" xlink:href=\"psysml:69f6fa56-23f5-42a0-812e-a6f0c50483a0\" xlink:show=\"new\" xlink:title=\"psysml:69f6fa56-23f5-42a0-812e-a6f0c50483a0\" xlink:type=\"simple\"><polygon fill=\"none\" points=\"16,6,80,6,87,29.6094,638,29.6094,638,109,16,109,16,6\" style=\"stroke:#000000;stroke-width:1.5;\"/><line style=\"stroke:#000000;stroke-width:1.5;\" x1=\"16\" x2=\"87\" y1=\"29.6094\" y2=\"29.6094\"/><text fill=\"#000000\" font-family=\"sans-serif\" font-size=\"14\" font-weight=\"bold\" lengthAdjust=\"spacing\" textLength=\"58\" x=\"20\" y=\"22.5332\">External</text></a></g><!--MD5=[b4997ac47864f28c2f74865a473b2911]\n",
       "class E2--><a href=\"psysml:f0089579-cab0-4383-b5bd-77e827c3c051\" target=\"_top\" title=\"psysml:f0089579-cab0-4383-b5bd-77e827c3c051\" xlink:actuate=\"onRequest\" xlink:href=\"psysml:f0089579-cab0-4383-b5bd-77e827c3c051\" xlink:show=\"new\" xlink:title=\"psysml:f0089579-cab0-4383-b5bd-77e827c3c051\" xlink:type=\"simple\"><g id=\"elem_E2\"><rect fill=\"#FFFFFF\" height=\"50.7031\" id=\"E2\" rx=\"10\" ry=\"10\" style=\"stroke:#181818;stroke-width:0.5;\" width=\"119\" x=\"502.5\" y=\"42\"/><text fill=\"#000000\" font-family=\"sans-serif\" font-size=\"12\" font-style=\"italic\" lengthAdjust=\"spacing\" textLength=\"35\" x=\"544.5\" y=\"59.457\">«part»</text><text fill=\"#000000\" font-family=\"sans-serif\" font-size=\"14\" lengthAdjust=\"spacing\" textLength=\"105\" x=\"505.5\" y=\"76.627\">ext_Environment</text><line style=\"stroke:#181818;stroke-width:0.5;\" x1=\"503.5\" x2=\"620.5\" y1=\"84.7031\" y2=\"84.7031\"/></g></a><!--MD5=[09b614a08d8cba4a07c9adeb5e0fee81]\n",
       "class E3--><a href=\"psysml:f2992345-70ef-4cd9-a71b-0322ce9afc5f\" target=\"_top\" title=\"psysml:f2992345-70ef-4cd9-a71b-0322ce9afc5f\" xlink:actuate=\"onRequest\" xlink:href=\"psysml:f2992345-70ef-4cd9-a71b-0322ce9afc5f\" xlink:show=\"new\" xlink:title=\"psysml:f2992345-70ef-4cd9-a71b-0322ce9afc5f\" xlink:type=\"simple\"><g id=\"elem_E3\"><rect fill=\"#FFFFFF\" height=\"50.7031\" id=\"E3\" rx=\"10\" ry=\"10\" style=\"stroke:#181818;stroke-width:0.5;\" width=\"131\" x=\"336.5\" y=\"42\"/><text fill=\"#000000\" font-family=\"sans-serif\" font-size=\"12\" font-style=\"italic\" lengthAdjust=\"spacing\" textLength=\"35\" x=\"384.5\" y=\"59.457\">«part»</text><text fill=\"#000000\" font-family=\"sans-serif\" font-size=\"14\" lengthAdjust=\"spacing\" textLength=\"117\" x=\"339.5\" y=\"76.627\">ext_PowerCharger</text><line style=\"stroke:#181818;stroke-width:0.5;\" x1=\"337.5\" x2=\"466.5\" y1=\"84.7031\" y2=\"84.7031\"/></g></a><!--MD5=[ebbe1d658d1005bcc118a6aa81145e00]\n",
       "class E4--><a href=\"psysml:9f3c46f5-38eb-4dce-a27d-dd06771629d1\" target=\"_top\" title=\"psysml:9f3c46f5-38eb-4dce-a27d-dd06771629d1\" xlink:actuate=\"onRequest\" xlink:href=\"psysml:9f3c46f5-38eb-4dce-a27d-dd06771629d1\" xlink:show=\"new\" xlink:title=\"psysml:9f3c46f5-38eb-4dce-a27d-dd06771629d1\" xlink:type=\"simple\"><g id=\"elem_E4\"><rect fill=\"#FFFFFF\" height=\"50.7031\" id=\"E4\" rx=\"10\" ry=\"10\" style=\"stroke:#181818;stroke-width:0.5;\" width=\"104\" x=\"197\" y=\"42\"/><text fill=\"#000000\" font-family=\"sans-serif\" font-size=\"12\" font-style=\"italic\" lengthAdjust=\"spacing\" textLength=\"35\" x=\"231.5\" y=\"59.457\">«part»</text><text fill=\"#000000\" font-family=\"sans-serif\" font-size=\"14\" lengthAdjust=\"spacing\" textLength=\"90\" x=\"200\" y=\"76.627\">ext_Adversary</text><line style=\"stroke:#181818;stroke-width:0.5;\" x1=\"198\" x2=\"300\" y1=\"84.7031\" y2=\"84.7031\"/></g></a><!--MD5=[270fce915f116d4de14055a7c1d9a0f3]\n",
       "class E5--><a href=\"psysml:3c225bcf-0a98-419f-aaf1-1f97de7cfe29\" target=\"_top\" title=\"psysml:3c225bcf-0a98-419f-aaf1-1f97de7cfe29\" xlink:actuate=\"onRequest\" xlink:href=\"psysml:3c225bcf-0a98-419f-aaf1-1f97de7cfe29\" xlink:show=\"new\" xlink:title=\"psysml:3c225bcf-0a98-419f-aaf1-1f97de7cfe29\" xlink:type=\"simple\"><g id=\"elem_E5\"><rect fill=\"#FFFFFF\" height=\"50.7031\" id=\"E5\" rx=\"10\" ry=\"10\" style=\"stroke:#181818;stroke-width:0.5;\" width=\"129\" x=\"32.5\" y=\"42\"/><text fill=\"#000000\" font-family=\"sans-serif\" font-size=\"12\" font-style=\"italic\" lengthAdjust=\"spacing\" textLength=\"35\" x=\"79.5\" y=\"59.457\">«part»</text><text fill=\"#000000\" font-family=\"sans-serif\" font-size=\"14\" lengthAdjust=\"spacing\" textLength=\"115\" x=\"35.5\" y=\"76.627\">ext_ControlCenter</text><line style=\"stroke:#181818;stroke-width:0.5;\" x1=\"33.5\" x2=\"160.5\" y1=\"84.7031\" y2=\"84.7031\"/></g></a><!--MD5=[2a61ada7a3d48a843a19ada9d459f9df]\n",
       "@startuml\r\n",
       "skin sysmlbw\r\n",
       "skinparam monochrome true\r\n",
       "skinparam wrapWidth 300\r\n",
       "hide circle\r\n",
       "\r\n",
       "package \"External\" as E1  [[psysml:69f6fa56-23f5-42a0-812e-a6f0c50483a0 ]]  {\r\n",
       "comp usage \"ext_Environment  \" as E2  <<(T,blue) part>> [[psysml:f0089579-cab0-4383-b5bd-77e827c3c051 ]] {\r\n",
       "}\r\n",
       "comp usage \"ext_PowerCharger  \" as E3  <<(T,blue) part>> [[psysml:f2992345-70ef-4cd9-a71b-0322ce9afc5f ]] {\r\n",
       "}\r\n",
       "comp usage \"ext_Adversary  \" as E4  <<(T,blue) part>> [[psysml:9f3c46f5-38eb-4dce-a27d-dd06771629d1 ]] {\r\n",
       "}\r\n",
       "comp usage \"ext_ControlCenter  \" as E5  <<(T,blue) part>> [[psysml:3c225bcf-0a98-419f-aaf1-1f97de7cfe29 ]] {\r\n",
       "}\r\n",
       "}\r\n",
       "@enduml\r\n",
       "\n",
       "PlantUML version 1.2022.7(Mon Aug 22 19:01:30 CEST 2022)\n",
       "(EPL source distribution)\n",
       "Java Runtime: OpenJDK Runtime Environment\n",
       "JVM: OpenJDK 64-Bit Server VM\n",
       "Default Encoding: UTF-8\n",
       "Language: en\n",
       "Country: US\n",
       "--></g></svg>"
      ]
     },
     "execution_count": 63,
     "metadata": {},
     "output_type": "execute_result"
    }
   ],
   "source": [
    "%viz External"
   ]
  },
  {
   "cell_type": "code",
   "execution_count": 103,
   "id": "ce47d5f2-4a4f-4be7-989d-d455519eea97",
   "metadata": {},
   "outputs": [
    {
     "data": {
      "text/plain": [
       "UseCaseUsage useCase1 (f27d9c29-ff79-4d01-be03-c893c93f9c7c)\n"
      ]
     },
     "execution_count": 103,
     "metadata": {},
     "output_type": "execute_result"
    }
   ],
   "source": [
    "use case useCase1 {\n",
    "    subject system = SystemOfInterest::Drone;\n",
    "    actor actor0;\n",
    "    // actor actor1 : Actor1;\n",
    "    // actor actor2 : Actor2;\n",
    "    // actor actor3 : Actor3;\n",
    "    // include useCase2;\n",
    "    // include useCase3;\n",
    "}\n",
    "// actor def Actor1;\n",
    "// actor def Actor2;\n",
    "// actor def Actor3;\n",
    "// use case useCase2;\n",
    "// use case useCase3;"
   ]
  },
  {
   "cell_type": "code",
   "execution_count": 133,
   "id": "5d51bd1e-9d23-4e86-b8c9-29b265377e09",
   "metadata": {},
   "outputs": [
    {
     "data": {
      "image/svg+xml": [
       "<?xml version=\"1.0\" encoding=\"UTF-8\" standalone=\"no\"?><svg xmlns=\"http://www.w3.org/2000/svg\" xmlns:xlink=\"http://www.w3.org/1999/xlink\" contentStyleType=\"text/css\" height=\"227px\" preserveAspectRatio=\"none\" style=\"width:432px;height:227px;background:#FFFFFF;\" version=\"1.1\" viewBox=\"0 0 432 227\" width=\"432px\" zoomAndPan=\"magnify\"><defs><filter height=\"300%\" id=\"ft2k5ul6b0un5\" width=\"300%\" x=\"-1\" y=\"-1\"><feGaussianBlur result=\"blurOut\" stdDeviation=\"2.0\"/><feColorMatrix in=\"blurOut\" result=\"blurOut2\" type=\"matrix\" values=\"0 0 0 0 0 0 0 0 0 0 0 0 0 0 0 0 0 0 .4 0\"/><feOffset dx=\"4.0\" dy=\"4.0\" in=\"blurOut2\" result=\"blurOut3\"/><feBlend in=\"SourceGraphic\" in2=\"blurOut3\" mode=\"normal\"/></filter></defs><g><!--MD5=[43c9051892ef23e1a46a86907403d788]\n",
       "class E1--><a href=\"psysml:f27d9c29-ff79-4d01-be03-c893c93f9c7c\" target=\"_top\" title=\"psysml:f27d9c29-ff79-4d01-be03-c893c93f9c7c\" xlink:actuate=\"onRequest\" xlink:href=\"psysml:f27d9c29-ff79-4d01-be03-c893c93f9c7c\" xlink:show=\"new\" xlink:title=\"psysml:f27d9c29-ff79-4d01-be03-c893c93f9c7c\" xlink:type=\"simple\"><g id=\"elem_E1\"><rect fill=\"#FFFACD\" filter=\"url(#ft2k5ul6b0un5)\" height=\"50.7031\" id=\"E1\" rx=\"10\" ry=\"10\" style=\"stroke:#181818;stroke-width:0.5;\" width=\"78\" x=\"222.5\" y=\"7\"/><text fill=\"#000000\" font-family=\"sans-serif\" font-size=\"12\" font-style=\"italic\" lengthAdjust=\"spacing\" textLength=\"63\" x=\"230\" y=\"24.457\">«use case»</text><text fill=\"#000000\" font-family=\"sans-serif\" font-size=\"14\" lengthAdjust=\"spacing\" textLength=\"64\" x=\"225.5\" y=\"41.627\">useCase1</text><line style=\"stroke:#181818;stroke-width:0.5;\" x1=\"223.5\" x2=\"299.5\" y1=\"49.7031\" y2=\"49.7031\"/></g></a><!--MD5=[b4997ac47864f28c2f74865a473b2911]\n",
       "class E2--><a href=\"psysml:3b23116b-81ce-4a72-bf91-6bfa620ff60f\" target=\"_top\" title=\"psysml:3b23116b-81ce-4a72-bf91-6bfa620ff60f\" xlink:actuate=\"onRequest\" xlink:href=\"psysml:3b23116b-81ce-4a72-bf91-6bfa620ff60f\" xlink:show=\"new\" xlink:title=\"psysml:3b23116b-81ce-4a72-bf91-6bfa620ff60f\" xlink:type=\"simple\"><g id=\"elem_E2\"><rect fill=\"#FFFACD\" filter=\"url(#ft2k5ul6b0un5)\" height=\"79.3563\" id=\"E2\" rx=\"10\" ry=\"10\" style=\"stroke:#181818;stroke-width:0.5;\" width=\"179\" x=\"7\" y=\"136\"/><text fill=\"#000000\" font-family=\"sans-serif\" font-size=\"12\" font-style=\"italic\" lengthAdjust=\"spacing\" textLength=\"54\" x=\"69.5\" y=\"153.457\">«subject»</text><text fill=\"#000000\" font-family=\"sans-serif\" font-size=\"14\" lengthAdjust=\"spacing\" textLength=\"44\" x=\"74.5\" y=\"170.627\">system</text><line style=\"stroke:#181818;stroke-width:0.5;\" x1=\"8\" x2=\"185\" y1=\"178.7031\" y2=\"178.7031\"/><text fill=\"#000000\" font-family=\"sans-serif\" font-size=\"14\" lengthAdjust=\"spacing\" textLength=\"167\" x=\"13\" y=\"208.2801\">= SystemOfInterest::Drone</text><text fill=\"#000000\" font-family=\"sans-serif\" font-size=\"14\" font-style=\"italic\" lengthAdjust=\"spacing\" textLength=\"40\" x=\"76.5\" y=\"191.9316\">values</text></g></a><!--MD5=[09b614a08d8cba4a07c9adeb5e0fee81]\n",
       "class E3--><a href=\"psysml:52fba5cf-1588-4cb6-ae8a-6ad8606b5673\" target=\"_top\" title=\"psysml:52fba5cf-1588-4cb6-ae8a-6ad8606b5673\" xlink:actuate=\"onRequest\" xlink:href=\"psysml:52fba5cf-1588-4cb6-ae8a-6ad8606b5673\" xlink:show=\"new\" xlink:title=\"psysml:52fba5cf-1588-4cb6-ae8a-6ad8606b5673\" xlink:type=\"simple\"><g id=\"elem_E3\"><rect fill=\"#FFFACD\" filter=\"url(#ft2k5ul6b0un5)\" height=\"60.5938\" id=\"E3\" rx=\"10\" ry=\"10\" style=\"stroke:#181818;stroke-width:0.5;\" width=\"80\" x=\"221.5\" y=\"145\"/><text fill=\"#000000\" font-family=\"sans-serif\" font-size=\"12\" font-style=\"italic\" lengthAdjust=\"spacing\" textLength=\"35\" x=\"244\" y=\"162.457\">«part»</text><path d=\"M235.5,165.0938 C232.75,165.0938 230.5,167.8938 230.5,171.3438 C230.5,174.7938 232.75,177.5938 235.5,177.5938 C238.25,177.5938 240.5,174.7938 240.5,171.3438 C240.5,167.8938 238.25,165.0938 235.5,165.0938 M230.275,177.5938 C227.625,177.7188 225.5,179.8938 225.5,182.5938 L225.5,185.0938 L245.5,185.0938 L245.5,182.5938 C245.5,179.8938 243.4,177.7188 240.725,177.5938 C239.375,179.1188 237.525,180.0938 235.5,180.0938 C233.475,180.0938 231.625,179.1188 230.275,177.5938 \" fill=\"#000000\" style=\"stroke:;stroke-width:0.0;stroke-dasharray:;\"/><text fill=\"#000000\" font-family=\"sans-serif\" font-size=\"14\" lengthAdjust=\"spacing\" textLength=\"40\" x=\"250.5\" y=\"189.5176\">actor0</text><line style=\"stroke:#181818;stroke-width:0.5;\" x1=\"222.5\" x2=\"300.5\" y1=\"197.5938\" y2=\"197.5938\"/></g></a><!--MD5=[ebbe1d658d1005bcc118a6aa81145e00]\n",
       "class E4--><a href=\"psysml:196286d1-e721-44bc-a63a-ce6ec01d8950\" target=\"_top\" title=\"psysml:196286d1-e721-44bc-a63a-ce6ec01d8950\" xlink:actuate=\"onRequest\" xlink:href=\"psysml:196286d1-e721-44bc-a63a-ce6ec01d8950\" xlink:show=\"new\" xlink:title=\"psysml:196286d1-e721-44bc-a63a-ce6ec01d8950\" xlink:type=\"simple\"><g id=\"elem_E4\"><rect fill=\"#FFFACD\" filter=\"url(#ft2k5ul6b0un5)\" height=\"50.7031\" id=\"E4\" rx=\"10\" ry=\"10\" style=\"stroke:#181818;stroke-width:0.5;\" width=\"83\" x=\"337\" y=\"150\"/><text fill=\"#000000\" font-family=\"sans-serif\" font-size=\"12\" font-style=\"italic\" lengthAdjust=\"spacing\" textLength=\"81\" x=\"338\" y=\"167.457\">«requirement»</text><text fill=\"#000000\" font-family=\"sans-serif\" font-size=\"14\" lengthAdjust=\"spacing\" textLength=\"19\" x=\"365\" y=\"184.627\">obj</text><line style=\"stroke:#181818;stroke-width:0.5;\" x1=\"338\" x2=\"419\" y1=\"192.7031\" y2=\"192.7031\"/></g></a><!--MD5=[a523cb2a0b79ecf9065ad8783f96c320]\n",
       "reverse link E1 to E2--><g id=\"link_E1_E2\"><a href=\"psysml:dfbc2850-91c6-4171-a289-9367f5424e59\" target=\"_top\" title=\"psysml:dfbc2850-91c6-4171-a289-9367f5424e59\" xlink:actuate=\"onRequest\" xlink:href=\"psysml:dfbc2850-91c6-4171-a289-9367f5424e59\" xlink:show=\"new\" xlink:title=\"psysml:dfbc2850-91c6-4171-a289-9367f5424e59\" xlink:type=\"simple\"><path d=\"M222.83,66.55 C198.55,87.3 167.13,114.15 141.7,135.88 \" fill=\"none\" id=\"E1-backto-E2\" style=\"stroke:#181818;stroke-width:1.0;\"/><polygon fill=\"none\" points=\"232.76,58.06,225.6004,58.92,223.6405,65.8597,230.8002,64.9997,232.76,58.06\" style=\"stroke:#181818;stroke-width:1.0;\"/></a></g><!--MD5=[5a52c8b875856e813bbf7898a393ae67]\n",
       "link E1 to E3--><g id=\"link_E1_E3\"><a href=\"psysml:486b0e54-0061-440b-89fd-34be054676c9\" target=\"_top\" title=\"psysml:486b0e54-0061-440b-89fd-34be054676c9\" xlink:actuate=\"onRequest\" xlink:href=\"psysml:486b0e54-0061-440b-89fd-34be054676c9\" xlink:show=\"new\" xlink:title=\"psysml:486b0e54-0061-440b-89fd-34be054676c9\" xlink:type=\"simple\"><path d=\"M261.5,58.06 C261.5,82.2 261.5,119.08 261.5,144.85 \" fill=\"none\" id=\"E1-E3\" style=\"stroke:#181818;stroke-width:1.0;\"/></a></g><!--MD5=[ee384bb554873b72f85793eae40e290c]\n",
       "link E1 to E4--><g id=\"link_E1_E4\"><a href=\"psysml:6c0e1e59-d073-4863-b591-cb6359dfb6e8\" target=\"_top\" title=\"psysml:6c0e1e59-d073-4863-b591-cb6359dfb6e8\" xlink:actuate=\"onRequest\" xlink:href=\"psysml:6c0e1e59-d073-4863-b591-cb6359dfb6e8\" xlink:show=\"new\" xlink:title=\"psysml:6c0e1e59-d073-4863-b591-cb6359dfb6e8\" xlink:type=\"simple\"><path d=\"M281.88,58.06 C301.56,81.77 331.42,117.77 352.74,143.45 \" fill=\"none\" id=\"E1-to-E4\" style=\"stroke:#181818;stroke-width:1.0;\"/><polygon fill=\"#181818\" points=\"357.96,149.75,355.1561,141.6792,350.5406,145.5129,357.96,149.75\" style=\"stroke:#181818;stroke-width:1.0;\"/><text fill=\"#000000\" font-family=\"sans-serif\" font-size=\"13\" lengthAdjust=\"spacing\" textLength=\"64\" x=\"320.5\" y=\"102.4951\">«objective»</text></a></g><!--MD5=[eec4423dc5c783d8fae570eda3270a88]\n",
       "@startuml\r\n",
       "skin sysmlc\r\n",
       "skinparam wrapWidth 300\r\n",
       "hide circle\r\n",
       "\r\n",
       "comp usage \"useCase1  \" as E1  <<(T,blue) use case>> [[psysml:f27d9c29-ff79-4d01-be03-c893c93f9c7c ]] {\r\n",
       "}\r\n",
       "comp usage \"system\" as E2 <<subject>>[[psysml:3b23116b-81ce-4a72-bf91-6bfa620ff60f ]] {\r\n",
       "##//values//##\r\n",
       " <U+003D> SystemOfInterest::Drone\r\n",
       "}\r\n",
       "comp usage \"<size:30><&person></size> actor0  \" as E3  <<(T,blue) part>> [[psysml:52fba5cf-1588-4cb6-ae8a-6ad8606b5673 ]] {\r\n",
       "}\r\n",
       "comp usage \"obj  \" as E4  <<(T,blue) requirement>> [[psysml:196286d1-e721-44bc-a63a-ce6ec01d8950 ]] {\r\n",
       "}\r\n",
       "E1 o- - E2 [[psysml:dfbc2850-91c6-4171-a289-9367f5424e59 ]] \r\n",
       "E1 - - E3 [[psysml:486b0e54-0061-440b-89fd-34be054676c9 ]] \r\n",
       "E1 - ->> E4 [[psysml:6c0e1e59-d073-4863-b591-cb6359dfb6e8 ]] : <<objective>>\r\n",
       "@enduml\r\n",
       "\n",
       "PlantUML version 1.2022.7(Mon Aug 22 19:01:30 CEST 2022)\n",
       "(EPL source distribution)\n",
       "Java Runtime: OpenJDK Runtime Environment\n",
       "JVM: OpenJDK 64-Bit Server VM\n",
       "Default Encoding: UTF-8\n",
       "Language: en\n",
       "Country: US\n",
       "--></g></svg>"
      ]
     },
     "execution_count": 133,
     "metadata": {},
     "output_type": "execute_result"
    }
   ],
   "source": [
    "%viz --view=TREE --style=STDCOLOR useCase1"
   ]
  },
  {
   "cell_type": "code",
   "execution_count": null,
   "id": "e77e0538-b704-4bc7-ba68-938e0be8fd7e",
   "metadata": {},
   "outputs": [],
   "source": []
  }
 ],
 "metadata": {
  "kernelspec": {
   "display_name": "SysML [conda env:base] *",
   "language": "sysml",
   "name": "conda-base-sysml"
  },
  "language_info": {
   "codemirror_mode": "sysml",
   "file_extension": ".sysml",
   "mimetype": "text/x-sysml",
   "name": "SysML",
   "pygments_lexer": "java",
   "version": "1.0.0"
  }
 },
 "nbformat": 4,
 "nbformat_minor": 5
}
