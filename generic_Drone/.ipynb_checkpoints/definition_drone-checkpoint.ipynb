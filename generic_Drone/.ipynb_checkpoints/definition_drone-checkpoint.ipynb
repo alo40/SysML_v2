{
 "cells": [
  {
   "cell_type": "code",
   "execution_count": 19,
   "id": "7e245ad4-5138-4122-b4db-181fdd36948c",
   "metadata": {},
   "outputs": [
    {
     "data": {
      "text/plain": [
       "The following SysML v2 magic commands are available.\n",
       "For help on a specific command, use \"%help <COMMAND>\" or \"%<cmd> -h\".\n",
       "\n",
       "%eval\t\tEvaluate a given expression.\n",
       "%export\t\tSave a file of the JSON representation of the abstract syntax tree rooted in the named element.\n",
       "%help\t\tGet a list of available commands or help on a specific command\n",
       "%list\t\tList loaded library packages or the results of a given query\n",
       "%show\t\tPrint the abstract syntax tree rooted in a named element\n",
       "%publish\tPublish to the repository the modele elements rooted in a named element\n",
       "%view\t\tRender the view specified by the named view usage\n",
       "%viz\t\tVisualize the name model elements\n"
      ]
     },
     "execution_count": 19,
     "metadata": {},
     "output_type": "execute_result"
    }
   ],
   "source": [
    "%help"
   ]
  },
  {
   "cell_type": "code",
   "execution_count": 13,
   "id": "b1fef828-dca9-467f-bfc6-4bd6eb95b17f",
   "metadata": {},
   "outputs": [
    {
     "data": {
      "text/plain": [
       "Usage: %viz [--view=<VIEW>] [--style=<STYLE>...] <NAME> [<NAME>...]\n",
       "\n",
       "Visualize model elements of <NAME>(s). <NAME>s must be fully qualified.\n",
       "\n",
       "<VIEW> is case insensitive and possible candidates are:\n",
       "   DEFAULT\t\tAutomatically choose an appropriate view from the given model element names\n",
       "   TREE\t\t\tShow a tree-structural view, like a Block Definition Diagram (BDD)\n",
       "   INTERCONNECTION\tShow an interconnection view, like an Internal Block Diagram (IBD)\n",
       "   STATE\t\tShow state machines\n",
       "   ACTION\t\tShow actions like an activity diagram\n",
       "   SEQUENCE\t\tShow events and messages in a sequence diagram\n",
       "   MIXED\t\tShow multiple views\n",
       "\n",
       "<STYLE> is also case insensitive. Multiple --style options are allowed.  The possible style names are:\n",
       "  DEFAULT\t\tStandard B&&W\n",
       "  STDCOLOR\t\tStandard style with colors\n",
       "  PLANTUML\t\tPlantUML Style\n",
       "  TB\t\t\tTop-to-Bottom orientation\n",
       "  LR\t\t\tLeft-to-Right orientation\n",
       "  POLYLINE\t\tPolyline style\n",
       "  ORTHOLINE\t\tOrthogonal line style\n",
       "  SHOWLIB\t\tShow elements of the standard libraries\n",
       "  SHOWINHERITED\t\tShow inherited members\n",
       "  COMPMOST\t\tShow as many memberships in a compartment as possible\n",
       "  COMPTREE\t\tShow nested ports in a compartment\n",
       "  SHOWIMPORTED\t\tShow imported elements\n",
       "  HIDEMETADATA\t\tHide metadata\n",
       "  SHOWMETACLASS\t\tShow metaclasses of metaobjects\n",
       "  EVAL\t\tEvaluate expressions\n",
       "  NODEMULTIPLICITY\t\tShow multiplicities in nodes\n",
       "  EDGEMULTIPLICITY\t\tShow multiplicities on edges\n",
       "  IMPLICITMULTIPLICITY\t\tShow implicit multiplicities\n",
       "\n",
       "Example:\n",
       "\t%viz --view Tree --style LR --style ortholine Pkg1::PartDef Pkg1::Pkg2::partUsage\n",
       "should visualize Pkg1::PartDef and Pkg1::Pkg2::partUsage with a tree view ordered in the left-to-right direction with orthogonal lines.\n"
      ]
     },
     "execution_count": 13,
     "metadata": {},
     "output_type": "execute_result"
    }
   ],
   "source": [
    "%help %viz"
   ]
  },
  {
   "cell_type": "code",
   "execution_count": 1,
   "id": "f8c520ce-f51c-4fce-8309-d16511c370ec",
   "metadata": {},
   "outputs": [
    {
     "data": {
      "text/plain": [
       "PartDefinition Drone (12ff821e-606f-4930-9ce5-eeffe7d7bda3)\n"
      ]
     },
     "execution_count": 1,
     "metadata": {},
     "output_type": "execute_result"
    }
   ],
   "source": [
    "part def Drone {\n",
    "    // Physical Components\n",
    "    part Battery;\n",
    "    part Camera;\n",
    "    part Transciever;\n",
    "    part Processing;\n",
    "    part Propulsion;\n",
    "    // Physical Interfaces\n",
    "    port p_Charging;\n",
    "    port p_Diagnostic;\n",
    "    port p_Programming;\n",
    "    // Functions\n",
    "    action a_TakeOff;\n",
    "    action a_Landing;\n",
    "    action a_Flying;\n",
    "    action a_Communicate;\n",
    "    action a_AutonomousFlight;\n",
    "    action a_TakePicture;\n",
    "    action a_RecordVideo;\n",
    "}"
   ]
  },
  {
   "cell_type": "code",
   "execution_count": 17,
   "id": "91dee5c6-bf89-487c-9653-db6a62ce2125",
   "metadata": {},
   "outputs": [
    {
     "data": {
      "image/svg+xml": [
       "<?xml version=\"1.0\" encoding=\"UTF-8\" standalone=\"no\"?><svg xmlns=\"http://www.w3.org/2000/svg\" xmlns:xlink=\"http://www.w3.org/1999/xlink\" contentStyleType=\"text/css\" height=\"384px\" preserveAspectRatio=\"none\" style=\"width:163px;height:384px;background:#FFFFFF;\" version=\"1.1\" viewBox=\"0 0 163 384\" width=\"163px\" zoomAndPan=\"magnify\"><defs/><g><!--MD5=[43c9051892ef23e1a46a86907403d788]\n",
       "class E1--><a href=\"psysml:12ff821e-606f-4930-9ce5-eeffe7d7bda3\" target=\"_top\" title=\"psysml:12ff821e-606f-4930-9ce5-eeffe7d7bda3\" xlink:actuate=\"onRequest\" xlink:href=\"psysml:12ff821e-606f-4930-9ce5-eeffe7d7bda3\" xlink:show=\"new\" xlink:title=\"psysml:12ff821e-606f-4930-9ce5-eeffe7d7bda3\" xlink:type=\"simple\"><g id=\"elem_E1\"><rect fill=\"#FFFFFF\" height=\"363.975\" id=\"E1\" style=\"stroke:#181818;stroke-width:0.5;\" width=\"142\" x=\"7\" y=\"7\"/><text fill=\"#000000\" font-family=\"sans-serif\" font-size=\"12\" font-style=\"italic\" lengthAdjust=\"spacing\" textLength=\"58\" x=\"49\" y=\"24.457\">«part  def»</text><text fill=\"#000000\" font-family=\"sans-serif\" font-size=\"14\" lengthAdjust=\"spacing\" textLength=\"39\" x=\"58.5\" y=\"41.627\">Drone</text><line style=\"stroke:#181818;stroke-width:0.5;\" x1=\"8\" x2=\"148\" y1=\"49.7031\" y2=\"49.7031\"/><text fill=\"#000000\" font-family=\"sans-serif\" font-size=\"14\" lengthAdjust=\"spacing\" textLength=\"130\" x=\"13\" y=\"79.2801\">a_AutonomousFlight</text><text fill=\"#000000\" font-family=\"sans-serif\" font-size=\"14\" lengthAdjust=\"spacing\" textLength=\"102\" x=\"13\" y=\"96.8895\">a_Communicate</text><text fill=\"#000000\" font-family=\"sans-serif\" font-size=\"14\" lengthAdjust=\"spacing\" textLength=\"54\" x=\"13\" y=\"114.4988\">a_Flying</text><text fill=\"#000000\" font-family=\"sans-serif\" font-size=\"14\" lengthAdjust=\"spacing\" textLength=\"67\" x=\"13\" y=\"132.1082\">a_Landing</text><text fill=\"#000000\" font-family=\"sans-serif\" font-size=\"14\" lengthAdjust=\"spacing\" textLength=\"98\" x=\"13\" y=\"149.7176\">a_RecordVideo</text><text fill=\"#000000\" font-family=\"sans-serif\" font-size=\"14\" lengthAdjust=\"spacing\" textLength=\"67\" x=\"13\" y=\"167.327\">a_TakeOff</text><text fill=\"#000000\" font-family=\"sans-serif\" font-size=\"14\" lengthAdjust=\"spacing\" textLength=\"92\" x=\"13\" y=\"184.9363\">a_TakePicture</text><text fill=\"#000000\" font-family=\"sans-serif\" font-size=\"14\" font-style=\"italic\" lengthAdjust=\"spacing\" textLength=\"45\" x=\"55.5\" y=\"62.9316\">actions</text><line style=\"stroke:#181818;stroke-width:1.0;\" x1=\"8\" x2=\"148\" y1=\"192.0125\" y2=\"192.0125\"/><text fill=\"#000000\" font-family=\"sans-serif\" font-size=\"14\" lengthAdjust=\"spacing\" textLength=\"45\" x=\"13\" y=\"221.5895\">Battery</text><text fill=\"#000000\" font-family=\"sans-serif\" font-size=\"14\" lengthAdjust=\"spacing\" textLength=\"50\" x=\"13\" y=\"239.1988\">Camera</text><text fill=\"#000000\" font-family=\"sans-serif\" font-size=\"14\" lengthAdjust=\"spacing\" textLength=\"70\" x=\"13\" y=\"256.8082\">Processing</text><text fill=\"#000000\" font-family=\"sans-serif\" font-size=\"14\" lengthAdjust=\"spacing\" textLength=\"67\" x=\"13\" y=\"274.4176\">Propulsion</text><text fill=\"#000000\" font-family=\"sans-serif\" font-size=\"14\" lengthAdjust=\"spacing\" textLength=\"75\" x=\"13\" y=\"292.027\">Transciever</text><text fill=\"#000000\" font-family=\"sans-serif\" font-size=\"14\" font-style=\"italic\" lengthAdjust=\"spacing\" textLength=\"32\" x=\"62\" y=\"205.241\">parts</text><line style=\"stroke:#181818;stroke-width:1.0;\" x1=\"8\" x2=\"148\" y1=\"299.1031\" y2=\"299.1031\"/><text fill=\"#000000\" font-family=\"sans-serif\" font-size=\"14\" lengthAdjust=\"spacing\" textLength=\"74\" x=\"13\" y=\"328.6801\">p_Charging</text><text fill=\"#000000\" font-family=\"sans-serif\" font-size=\"14\" lengthAdjust=\"spacing\" textLength=\"82\" x=\"13\" y=\"346.2895\">p_Diagnostic</text><text fill=\"#000000\" font-family=\"sans-serif\" font-size=\"14\" lengthAdjust=\"spacing\" textLength=\"100\" x=\"13\" y=\"363.8988\">p_Programming</text><text fill=\"#000000\" font-family=\"sans-serif\" font-size=\"14\" font-style=\"italic\" lengthAdjust=\"spacing\" textLength=\"32\" x=\"62\" y=\"312.3316\">ports</text></g></a><!--MD5=[2466b3ac9eb7d09932273e9132aebccc]\n",
       "@startuml\r\n",
       "skin sysmlbw\r\n",
       "skinparam monochrome true\r\n",
       "skinparam wrapWidth 300\r\n",
       "hide circle\r\n",
       "left to right direction\r\n",
       "skinparam linetype ortho\r\n",
       " \r\n",
       "comp def \"Drone\" as E1  <<(T,blue) part  def>> [[psysml:12ff821e-606f-4930-9ce5-eeffe7d7bda3 ]] {\r\n",
       "##//actions//##\r\n",
       "a_AutonomousFlight\r\n",
       "a_Communicate\r\n",
       "a_Flying\r\n",
       "a_Landing\r\n",
       "a_RecordVideo\r\n",
       "a_TakeOff\r\n",
       "a_TakePicture\r\n",
       "- -\r\n",
       "##//parts//##\r\n",
       "Battery\r\n",
       "Camera\r\n",
       "Processing\r\n",
       "Propulsion\r\n",
       "Transciever\r\n",
       "- -\r\n",
       "##//ports//##\r\n",
       "p_Charging\r\n",
       "p_Diagnostic\r\n",
       "p_Programming\r\n",
       "}\r\n",
       "@enduml\r\n",
       "\n",
       "PlantUML version 1.2022.7(Mon Aug 22 19:01:30 CEST 2022)\n",
       "(EPL source distribution)\n",
       "Java Runtime: OpenJDK Runtime Environment\n",
       "JVM: OpenJDK 64-Bit Server VM\n",
       "Default Encoding: UTF-8\n",
       "Language: en\n",
       "Country: US\n",
       "--></g></svg>"
      ]
     },
     "execution_count": 17,
     "metadata": {},
     "output_type": "execute_result"
    }
   ],
   "source": [
    "%viz --view Tree --style LR --style ortholine --style=COMPMOST Drone"
   ]
  },
  {
   "cell_type": "code",
   "execution_count": null,
   "id": "c11b240e-f8ee-431f-a201-9455ca40589d",
   "metadata": {},
   "outputs": [],
   "source": []
  }
 ],
 "metadata": {
  "kernelspec": {
   "display_name": "SysML [conda env:base] *",
   "language": "sysml",
   "name": "conda-base-sysml"
  },
  "language_info": {
   "codemirror_mode": "sysml",
   "file_extension": ".sysml",
   "mimetype": "text/x-sysml",
   "name": "SysML",
   "pygments_lexer": "java",
   "version": "1.0.0"
  }
 },
 "nbformat": 4,
 "nbformat_minor": 5
}
