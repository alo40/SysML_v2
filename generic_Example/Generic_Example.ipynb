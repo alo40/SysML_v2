{
 "cells": [
  {
   "cell_type": "code",
   "execution_count": 3,
   "id": "2f3bf460-cec9-46d3-96d4-a2c307710dda",
   "metadata": {
    "collapsed": true,
    "jupyter": {
     "outputs_hidden": true
    }
   },
   "outputs": [
    {
     "data": {
      "text/plain": [
       "The following SysML v2 magic commands are available.\n",
       "For help on a specific command, use \"%help <COMMAND>\" or \"%<cmd> -h\".\n",
       "\n",
       "%eval\t\tEvaluate a given expression.\n",
       "%export\t\tSave a file of the JSON representation of the abstract syntax tree rooted in the named element.\n",
       "%help\t\tGet a list of available commands or help on a specific command\n",
       "%list\t\tList loaded library packages or the results of a given query\n",
       "%show\t\tPrint the abstract syntax tree rooted in a named element\n",
       "%publish\tPublish to the repository the modele elements rooted in a named element\n",
       "%view\t\tRender the view specified by the named view usage\n",
       "%viz\t\tVisualize the name model elements\n"
      ]
     },
     "execution_count": 3,
     "metadata": {},
     "output_type": "execute_result"
    }
   ],
   "source": [
    "%help"
   ]
  },
  {
   "cell_type": "code",
   "execution_count": 5,
   "id": "ee3800bd-ccb1-4a21-9f16-1c6dab032fcf",
   "metadata": {},
   "outputs": [
    {
     "data": {
      "text/plain": [
       "Usage: %viz [--view=<VIEW>] [--style=<STYLE>...] <NAME> [<NAME>...]\n",
       "\n",
       "Visualize model elements of <NAME>(s). <NAME>s must be fully qualified.\n",
       "\n",
       "<VIEW> is case insensitive and possible candidates are:\n",
       "   DEFAULT\t\tAutomatically choose an appropriate view from the given model element names\n",
       "   TREE\t\t\tShow a tree-structural view, like a Block Definition Diagram (BDD)\n",
       "   INTERCONNECTION\tShow an interconnection view, like an Internal Block Diagram (IBD)\n",
       "   STATE\t\tShow state machines\n",
       "   ACTION\t\tShow actions like an activity diagram\n",
       "   SEQUENCE\t\tShow events and messages in a sequence diagram\n",
       "   MIXED\t\tShow multiple views\n",
       "\n",
       "<STYLE> is also case insensitive. Multiple --style options are allowed.  The possible style names are:\n",
       "  DEFAULT\t\tStandard B&&W\n",
       "  STDCOLOR\t\tStandard style with colors\n",
       "  PLANTUML\t\tPlantUML Style\n",
       "  TB\t\t\tTop-to-Bottom orientation\n",
       "  LR\t\t\tLeft-to-Right orientation\n",
       "  POLYLINE\t\tPolyline style\n",
       "  ORTHOLINE\t\tOrthogonal line style\n",
       "  SHOWLIB\t\tShow elements of the standard libraries\n",
       "  SHOWINHERITED\t\tShow inherited members\n",
       "  COMPMOST\t\tShow as many memberships in a compartment as possible\n",
       "  COMPTREE\t\tShow nested ports in a compartment\n",
       "  SHOWIMPORTED\t\tShow imported elements\n",
       "  HIDEMETADATA\t\tHide metadata\n",
       "  SHOWMETACLASS\t\tShow metaclasses of metaobjects\n",
       "  EVAL\t\tEvaluate expressions\n",
       "  NODEMULTIPLICITY\t\tShow multiplicities in nodes\n",
       "  EDGEMULTIPLICITY\t\tShow multiplicities on edges\n",
       "  IMPLICITMULTIPLICITY\t\tShow implicit multiplicities\n",
       "\n",
       "Example:\n",
       "\t%viz --view Tree --style LR --style ortholine Pkg1::PartDef Pkg1::Pkg2::partUsage\n",
       "should visualize Pkg1::PartDef and Pkg1::Pkg2::partUsage with a tree view ordered in the left-to-right direction with orthogonal lines.\n"
      ]
     },
     "execution_count": 5,
     "metadata": {},
     "output_type": "execute_result"
    }
   ],
   "source": [
    "%help %viz"
   ]
  },
  {
   "cell_type": "code",
   "execution_count": 7,
   "id": "eadee52e-164c-4930-bff0-4138a7441d2f",
   "metadata": {},
   "outputs": [
    {
     "data": {
      "text/plain": [
       "Package Generic_Example (3b84e881-e6db-4bbf-afaf-4d43c673b68d)\n"
      ]
     },
     "execution_count": 7,
     "metadata": {},
     "output_type": "execute_result"
    }
   ],
   "source": [
    "package Generic_Example {\n",
    "    package Physical_Breakdown {\n",
    "        \n",
    "        part def SOI {\n",
    "            part Tech_1;\n",
    "            part Tech_2;\n",
    "            part Tech_3;\n",
    "            part Tech_4;\n",
    "            \n",
    "            port Port_Generic;\n",
    "        }\n",
    "        part def SOI_1 :> SOI;\n",
    "        part def Tech_1 {\n",
    "            action Acquistion;\n",
    "            action Conditioning;\n",
    "            action Evaluation;\n",
    "        }\n",
    "        \n",
    "        port def Port_1;\n",
    "        port def Port_2;\n",
    "        \n",
    "        flow def Data {\n",
    "            end port Port_1;\n",
    "            end port Port_2;\n",
    "        }\n",
    "        \n",
    "        part System_1 : SOI {\n",
    "            part HMI :>> Tech_1;\n",
    "            port input_1 :>> Port_Generic;\n",
    "            // flow of Data from Infotaiment to Processing;\n",
    "        }\n",
    "        part System_2 : SOI {\n",
    "             port output_2 : Port_2;\n",
    "        }\n",
    "        part System_3 : SOI;\n",
    "        flow : Data \n",
    "            from System_1.input_1 \n",
    "              to System_2.output_2;\n",
    "    }\n",
    "}"
   ]
  },
  {
   "cell_type": "code",
   "execution_count": 9,
   "id": "7d6175d1-01bb-4398-9e0b-d547abd2d691",
   "metadata": {},
   "outputs": [
    {
     "data": {
      "image/svg+xml": [
       "<?xml version=\"1.0\" encoding=\"UTF-8\" standalone=\"no\"?><svg xmlns=\"http://www.w3.org/2000/svg\" xmlns:xlink=\"http://www.w3.org/1999/xlink\" contentStyleType=\"text/css\" height=\"225px\" preserveAspectRatio=\"none\" style=\"width:169px;height:225px;background:#FFFFFF;\" version=\"1.1\" viewBox=\"0 0 169 225\" width=\"169px\" zoomAndPan=\"magnify\"><defs/><g><!--MD5=[43c9051892ef23e1a46a86907403d788]\n",
       "class E1--><a href=\"psysml:052bced2-1482-4ee1-89cf-c425cc6e8f80\" target=\"_top\" title=\"psysml:052bced2-1482-4ee1-89cf-c425cc6e8f80\" xlink:actuate=\"onRequest\" xlink:href=\"psysml:052bced2-1482-4ee1-89cf-c425cc6e8f80\" xlink:show=\"new\" xlink:title=\"psysml:052bced2-1482-4ee1-89cf-c425cc6e8f80\" xlink:type=\"simple\"><g id=\"elem_E1\"><rect fill=\"#FFFFFF\" height=\"204.0563\" id=\"E1\" rx=\"10\" ry=\"10\" style=\"stroke:#181818;stroke-width:0.5;\" width=\"148\" x=\"7\" y=\"7\"/><text fill=\"#000000\" font-family=\"sans-serif\" font-size=\"12\" font-style=\"italic\" lengthAdjust=\"spacing\" textLength=\"35\" x=\"63.5\" y=\"24.457\">«part»</text><text fill=\"#000000\" font-family=\"sans-serif\" font-size=\"14\" lengthAdjust=\"spacing\" textLength=\"93\" x=\"30.5\" y=\"41.627\">System_1: SOI</text><line style=\"stroke:#181818;stroke-width:0.5;\" x1=\"8\" x2=\"154\" y1=\"49.7031\" y2=\"49.7031\"/><text fill=\"#000000\" font-family=\"sans-serif\" font-size=\"14\" lengthAdjust=\"spacing\" textLength=\"23\" x=\"13\" y=\"79.2801\">HMI</text><text fill=\"#000000\" font-family=\"sans-serif\" font-size=\"14\" font-style=\"italic\" lengthAdjust=\"spacing\" textLength=\"100\" x=\"13\" y=\"96.8895\">:&gt;&gt;SOI::Tech_1</text><text fill=\"#000000\" font-family=\"sans-serif\" font-size=\"14\" lengthAdjust=\"spacing\" textLength=\"53\" x=\"13\" y=\"114.4988\">^Tech_2</text><text fill=\"#000000\" font-family=\"sans-serif\" font-size=\"14\" lengthAdjust=\"spacing\" textLength=\"53\" x=\"13\" y=\"132.1082\">^Tech_3</text><text fill=\"#000000\" font-family=\"sans-serif\" font-size=\"14\" lengthAdjust=\"spacing\" textLength=\"53\" x=\"13\" y=\"149.7176\">^Tech_4</text><text fill=\"#000000\" font-family=\"sans-serif\" font-size=\"14\" font-style=\"italic\" lengthAdjust=\"spacing\" textLength=\"32\" x=\"65\" y=\"62.9316\">parts</text><line style=\"stroke:#181818;stroke-width:1.0;\" x1=\"8\" x2=\"154\" y1=\"156.7938\" y2=\"156.7938\"/><text fill=\"#000000\" font-family=\"sans-serif\" font-size=\"14\" lengthAdjust=\"spacing\" textLength=\"47\" x=\"13\" y=\"186.3707\">input_1</text><text fill=\"#000000\" font-family=\"sans-serif\" font-size=\"14\" font-style=\"italic\" lengthAdjust=\"spacing\" textLength=\"136\" x=\"13\" y=\"203.9801\">:&gt;&gt;SOI::Port_Generic</text><text fill=\"#000000\" font-family=\"sans-serif\" font-size=\"14\" font-style=\"italic\" lengthAdjust=\"spacing\" textLength=\"32\" x=\"65\" y=\"170.0223\">ports</text></g></a><!--MD5=[132fec90f46b790f067b9db83aa33043]\n",
       "@startuml\r\n",
       "skin sysmlbw\r\n",
       "skinparam monochrome true\r\n",
       "skinparam wrapWidth 300\r\n",
       "hide circle\r\n",
       "  \r\n",
       "comp usage \"System_1: SOI  \" as E1  <<(T,blue) part>> [[psysml:052bced2-1482-4ee1-89cf-c425cc6e8f80 ]] {\r\n",
       "##//parts//##\r\n",
       "HMI\\n//:>>SOI::Tech_1// \r\n",
       "^Tech_2\r\n",
       "^Tech_3\r\n",
       "^Tech_4\r\n",
       "- -\r\n",
       "##//ports//##\r\n",
       "input_1\\n//:>>SOI::Port_Generic// \r\n",
       "}\r\n",
       "@enduml\r\n",
       "\n",
       "PlantUML version 1.2022.7(Mon Aug 22 11:01:30 GMT-06:00 2022)\n",
       "(EPL source distribution)\n",
       "Java Runtime: OpenJDK Runtime Environment\n",
       "JVM: OpenJDK 64-Bit Server VM\n",
       "Default Encoding: UTF-8\n",
       "Language: en\n",
       "Country: US\n",
       "--></g></svg>"
      ]
     },
     "execution_count": 9,
     "metadata": {},
     "output_type": "execute_result"
    }
   ],
   "source": [
    "%viz --view=TREE --style=COMPMOST --style=SHOWINHERITED Generic_Example::Physical_Breakdown::System_1"
   ]
  },
  {
   "cell_type": "code",
   "execution_count": null,
   "id": "7d17a3e9-64c8-4423-ba9b-fdb7f837f937",
   "metadata": {},
   "outputs": [],
   "source": []
  }
 ],
 "metadata": {
  "kernelspec": {
   "display_name": "SysML [conda env:base] *",
   "language": "sysml",
   "name": "conda-base-sysml"
  },
  "language_info": {
   "codemirror_mode": "sysml",
   "file_extension": ".sysml",
   "mimetype": "text/x-sysml",
   "name": "SysML",
   "pygments_lexer": "java",
   "version": "1.0.0"
  }
 },
 "nbformat": 4,
 "nbformat_minor": 5
}
