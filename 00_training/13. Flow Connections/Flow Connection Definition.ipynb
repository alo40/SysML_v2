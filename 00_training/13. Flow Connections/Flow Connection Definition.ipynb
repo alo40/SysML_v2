{
 "cells": [
  {
   "cell_type": "code",
   "execution_count": 10,
   "id": "5de790d6-db89-4830-b151-1cb4a3a8b545",
   "metadata": {
    "collapsed": true,
    "jupyter": {
     "outputs_hidden": true
    }
   },
   "outputs": [
    {
     "data": {
      "text/plain": [
       "Usage: %viz [--view=<VIEW>] [--style=<STYLE>...] <NAME> [<NAME>...]\n",
       "\n",
       "Visualize model elements of <NAME>(s). <NAME>s must be fully qualified.\n",
       "\n",
       "<VIEW> is case insensitive and possible candidates are:\n",
       "   DEFAULT\t\tAutomatically choose an appropriate view from the given model element names\n",
       "   TREE\t\t\tShow a tree-structural view, like a Block Definition Diagram (BDD)\n",
       "   INTERCONNECTION\tShow an interconnection view, like an Internal Block Diagram (IBD)\n",
       "   STATE\t\tShow state machines\n",
       "   ACTION\t\tShow actions like an activity diagram\n",
       "   SEQUENCE\t\tShow events and messages in a sequence diagram\n",
       "   MIXED\t\tShow multiple views\n",
       "\n",
       "<STYLE> is also case insensitive. Multiple --style options are allowed.  The possible style names are:\n",
       "  DEFAULT\t\tStandard B&&W\n",
       "  STDCOLOR\t\tStandard style with colors\n",
       "  PLANTUML\t\tPlantUML Style\n",
       "  TB\t\t\tTop-to-Bottom orientation\n",
       "  LR\t\t\tLeft-to-Right orientation\n",
       "  POLYLINE\t\tPolyline style\n",
       "  ORTHOLINE\t\tOrthogonal line style\n",
       "  SHOWLIB\t\tShow elements of the standard libraries\n",
       "  SHOWINHERITED\t\tShow inherited members\n",
       "  COMPMOST\t\tShow as many memberships in a compartment as possible\n",
       "  COMPTREE\t\tShow nested ports in a compartment\n",
       "  SHOWIMPORTED\t\tShow imported elements\n",
       "  HIDEMETADATA\t\tHide metadata\n",
       "  SHOWMETACLASS\t\tShow metaclasses of metaobjects\n",
       "  EVAL\t\tEvaluate expressions\n",
       "  NODEMULTIPLICITY\t\tShow multiplicities in nodes\n",
       "  EDGEMULTIPLICITY\t\tShow multiplicities on edges\n",
       "  IMPLICITMULTIPLICITY\t\tShow implicit multiplicities\n",
       "\n",
       "Example:\n",
       "\t%viz --view Tree --style LR --style ortholine Pkg1::PartDef Pkg1::Pkg2::partUsage\n",
       "should visualize Pkg1::PartDef and Pkg1::Pkg2::partUsage with a tree view ordered in the left-to-right direction with orthogonal lines.\n"
      ]
     },
     "execution_count": 10,
     "metadata": {},
     "output_type": "execute_result"
    }
   ],
   "source": [
    "%help %viz"
   ]
  },
  {
   "cell_type": "code",
   "execution_count": 4,
   "id": "afcbc137-9218-4d36-9a48-ef23bf520b01",
   "metadata": {
    "jupyter": {
     "source_hidden": true
    }
   },
   "outputs": [
    {
     "data": {
      "text/plain": [
       "Package Port Example (63c1a305-ee3f-4a5a-a014-08829c9d04ca)\n"
      ]
     },
     "execution_count": 4,
     "metadata": {},
     "output_type": "execute_result"
    }
   ],
   "source": [
    "package 'Port Example' {\n",
    "\t\n",
    "\tattribute def Temp;\n",
    "\t\n",
    "\tpart def Fuel;\n",
    "\t\n",
    "\tport def FuelOutPort {\n",
    "\t\tattribute temperature : Temp;\n",
    "\t\tout item fuelSupply : Fuel;\n",
    "\t\tin item fuelReturn : Fuel;\n",
    "\t}\n",
    "\t\n",
    "\tport def FuelInPort {\n",
    "\t\tattribute temperature : Temp;\n",
    "\t\tin item fuelSupply : Fuel;\n",
    "\t\tout item fuelReturn : Fuel;\n",
    "\t}\n",
    "\t\n",
    "\tpart def FuelTankAssembly {\n",
    "\t\tport fuelTankPort : FuelOutPort;\n",
    "\t}\n",
    "\t\n",
    "\tpart def Engine {\n",
    "\t\tport engineFuelPort : FuelInPort;\n",
    "\t}\n",
    "}"
   ]
  },
  {
   "cell_type": "code",
   "execution_count": 12,
   "id": "98e2764b-1062-44f3-beb7-1851a338fece",
   "metadata": {},
   "outputs": [
    {
     "data": {
      "text/plain": [
       "Package Flow_Connection_Definition_Example (46a0e8ae-e681-4ca0-b526-a2d617bdca03)\n"
      ]
     },
     "execution_count": 12,
     "metadata": {},
     "output_type": "execute_result"
    }
   ],
   "source": [
    "package Flow_Connection_Definition_Example {\n",
    "\tprivate import 'Port Example'::*;\n",
    "\t\n",
    "\tpart def Vehicle;\n",
    "\t\n",
    "\tflow def FuelFlow {\n",
    "\t\tref :>> payload : Fuel;\n",
    "\t\tend port supplierPort : FuelOutPort;\n",
    "\t\tend port consumerPort : FuelInPort;\n",
    "\t}\n",
    "\t\n",
    "\tpart vehicle : Vehicle {\n",
    "\t\tpart tankAssy : FuelTankAssembly;\n",
    "\t\tpart eng : Engine;\n",
    "\t\t\n",
    "\t\tflow : FuelFlow\n",
    "\t\t  from tankAssy.fuelTankPort.fuelSupply\n",
    "\t\t\tto eng.engineFuelPort.fuelSupply;\n",
    "\t\t\t\n",
    "\t} \n",
    "}"
   ]
  },
  {
   "cell_type": "code",
   "execution_count": 14,
   "id": "f0d1d1bc-54a7-47b6-b8dd-64dec0daa205",
   "metadata": {},
   "outputs": [
    {
     "data": {
      "image/svg+xml": [
       "<?xml version=\"1.0\" encoding=\"UTF-8\" standalone=\"no\"?><svg xmlns=\"http://www.w3.org/2000/svg\" xmlns:xlink=\"http://www.w3.org/1999/xlink\" contentStyleType=\"text/css\" height=\"461px\" preserveAspectRatio=\"none\" style=\"width:1122px;height:461px;background:#FFFFFF;\" version=\"1.1\" viewBox=\"0 0 1122 461\" width=\"1122px\" zoomAndPan=\"magnify\"><defs/><g><!--MD5=[fbc87193dbaf4d95561dea2c320d4a47]\n",
       "cluster E1--><g id=\"cluster_E1\"><a href=\"psysml:46a0e8ae-e681-4ca0-b526-a2d617bdca03\" target=\"_top\" title=\"psysml:46a0e8ae-e681-4ca0-b526-a2d617bdca03\" xlink:actuate=\"onRequest\" xlink:href=\"psysml:46a0e8ae-e681-4ca0-b526-a2d617bdca03\" xlink:show=\"new\" xlink:title=\"psysml:46a0e8ae-e681-4ca0-b526-a2d617bdca03\" xlink:type=\"simple\"><polygon fill=\"none\" points=\"16,6,287,6,294,29.6094,1105,29.6094,1105,454,16,454,16,6\" style=\"stroke:#000000;stroke-width:1.5;\"/><line style=\"stroke:#000000;stroke-width:1.5;\" x1=\"16\" x2=\"294\" y1=\"29.6094\" y2=\"29.6094\"/><text fill=\"#000000\" font-family=\"sans-serif\" font-size=\"14\" font-weight=\"bold\" lengthAdjust=\"spacing\" textLength=\"265\" x=\"20\" y=\"22.5332\">Flow_Connection_Definition_Example</text></a></g><!--MD5=[b4997ac47864f28c2f74865a473b2911]\n",
       "class E2--><a href=\"psysml:7115c401-8c12-4542-9ee9-428861018814\" target=\"_top\" title=\"psysml:7115c401-8c12-4542-9ee9-428861018814\" xlink:actuate=\"onRequest\" xlink:href=\"psysml:7115c401-8c12-4542-9ee9-428861018814\" xlink:show=\"new\" xlink:title=\"psysml:7115c401-8c12-4542-9ee9-428861018814\" xlink:type=\"simple\"><g id=\"elem_E2\"><rect fill=\"#FFFFFF\" height=\"50.7031\" id=\"E2\" style=\"stroke:#181818;stroke-width:0.5;\" width=\"60\" x=\"284.5\" y=\"386.5\"/><text fill=\"#000000\" font-family=\"sans-serif\" font-size=\"12\" font-style=\"italic\" lengthAdjust=\"spacing\" textLength=\"58\" x=\"285.5\" y=\"403.957\">«part  def»</text><text fill=\"#000000\" font-family=\"sans-serif\" font-size=\"14\" lengthAdjust=\"spacing\" textLength=\"46\" x=\"291.5\" y=\"421.127\">Vehicle</text><line style=\"stroke:#181818;stroke-width:0.5;\" x1=\"285.5\" x2=\"343.5\" y1=\"429.2031\" y2=\"429.2031\"/></g></a><!--MD5=[09b614a08d8cba4a07c9adeb5e0fee81]\n",
       "class E3--><a href=\"psysml:cfb08487-44a4-4498-a81d-8af034cf837f\" target=\"_top\" title=\"psysml:cfb08487-44a4-4498-a81d-8af034cf837f\" xlink:actuate=\"onRequest\" xlink:href=\"psysml:cfb08487-44a4-4498-a81d-8af034cf837f\" xlink:show=\"new\" xlink:title=\"psysml:cfb08487-44a4-4498-a81d-8af034cf837f\" xlink:type=\"simple\"><g id=\"elem_E3\"><rect fill=\"#FFFFFF\" height=\"50.7031\" id=\"E3\" style=\"stroke:#181818;stroke-width:0.5;\" width=\"123\" x=\"32\" y=\"85.5\"/><text fill=\"#000000\" font-family=\"sans-serif\" font-size=\"12\" font-style=\"italic\" lengthAdjust=\"spacing\" textLength=\"121\" x=\"33\" y=\"102.957\">«flow connection  def»</text><text fill=\"#000000\" font-family=\"sans-serif\" font-size=\"14\" lengthAdjust=\"spacing\" textLength=\"57\" x=\"65\" y=\"120.127\">FuelFlow</text><line style=\"stroke:#181818;stroke-width:0.5;\" x1=\"33\" x2=\"154\" y1=\"128.2031\" y2=\"128.2031\"/></g></a><!--MD5=[ebbe1d658d1005bcc118a6aa81145e00]\n",
       "class E4--><a href=\"psysml:35c2a8a4-36e8-42ef-b6a7-bc147eb42869\" target=\"_top\" title=\"psysml:35c2a8a4-36e8-42ef-b6a7-bc147eb42869\" xlink:actuate=\"onRequest\" xlink:href=\"psysml:35c2a8a4-36e8-42ef-b6a7-bc147eb42869\" xlink:show=\"new\" xlink:title=\"psysml:35c2a8a4-36e8-42ef-b6a7-bc147eb42869\" xlink:type=\"simple\"><g id=\"elem_E4\"><rect fill=\"#FFFFFF\" height=\"50.7031\" id=\"E4\" rx=\"10\" ry=\"10\" style=\"stroke:#181818;stroke-width:0.5;\" width=\"175\" x=\"227\" y=\"128.5\"/><text fill=\"#000000\" font-family=\"sans-serif\" font-size=\"12\" font-style=\"italic\" lengthAdjust=\"spacing\" textLength=\"35\" x=\"297\" y=\"145.957\">«port»</text><text fill=\"#000000\" font-family=\"sans-serif\" font-size=\"14\" lengthAdjust=\"spacing\" textLength=\"161\" x=\"230\" y=\"163.127\">supplierPort: FuelOutPort</text><line style=\"stroke:#181818;stroke-width:0.5;\" x1=\"228\" x2=\"401\" y1=\"171.2031\" y2=\"171.2031\"/></g></a><!--MD5=[270fce915f116d4de14055a7c1d9a0f3]\n",
       "class E5--><a href=\"psysml:d76c59ec-faf5-42c0-a580-d54231a9f2fa\" target=\"_top\" title=\"psysml:d76c59ec-faf5-42c0-a580-d54231a9f2fa\" xlink:actuate=\"onRequest\" xlink:href=\"psysml:d76c59ec-faf5-42c0-a580-d54231a9f2fa\" xlink:show=\"new\" xlink:title=\"psysml:d76c59ec-faf5-42c0-a580-d54231a9f2fa\" xlink:type=\"simple\"><g id=\"elem_E5\"><rect fill=\"#FFFFFF\" height=\"50.7031\" id=\"E5\" rx=\"10\" ry=\"10\" style=\"stroke:#181818;stroke-width:0.5;\" width=\"175\" x=\"227\" y=\"42.5\"/><text fill=\"#000000\" font-family=\"sans-serif\" font-size=\"12\" font-style=\"italic\" lengthAdjust=\"spacing\" textLength=\"35\" x=\"297\" y=\"59.957\">«port»</text><text fill=\"#000000\" font-family=\"sans-serif\" font-size=\"14\" lengthAdjust=\"spacing\" textLength=\"161\" x=\"230\" y=\"77.127\">consumerPort: FuelInPort</text><line style=\"stroke:#181818;stroke-width:0.5;\" x1=\"228\" x2=\"401\" y1=\"85.2031\" y2=\"85.2031\"/></g></a><!--MD5=[60a26617385b1d2d0262a64233df1f8d]\n",
       "class E6--><a href=\"psysml:763fed22-ae50-43e1-8578-63489cc1a52a\" target=\"_top\" title=\"psysml:763fed22-ae50-43e1-8578-63489cc1a52a\" xlink:actuate=\"onRequest\" xlink:href=\"psysml:763fed22-ae50-43e1-8578-63489cc1a52a\" xlink:show=\"new\" xlink:title=\"psysml:763fed22-ae50-43e1-8578-63489cc1a52a\" xlink:type=\"simple\"><g id=\"elem_E6\"><rect fill=\"#FFFFFF\" height=\"50.7031\" id=\"E6\" rx=\"10\" ry=\"10\" style=\"stroke:#181818;stroke-width:0.5;\" width=\"112\" x=\"37.5\" y=\"300.5\"/><text fill=\"#000000\" font-family=\"sans-serif\" font-size=\"12\" font-style=\"italic\" lengthAdjust=\"spacing\" textLength=\"35\" x=\"76\" y=\"317.957\">«part»</text><text fill=\"#000000\" font-family=\"sans-serif\" font-size=\"14\" lengthAdjust=\"spacing\" textLength=\"98\" x=\"40.5\" y=\"335.127\">vehicle: Vehicle</text><line style=\"stroke:#181818;stroke-width:0.5;\" x1=\"38.5\" x2=\"148.5\" y1=\"343.2031\" y2=\"343.2031\"/></g></a><!--MD5=[2156ba9850f5573cc1fc38a6a4b2f02b]\n",
       "class E7--><a href=\"psysml:3a4a46e1-9a51-46c4-8bfe-2f8d5aca470a\" target=\"_top\" title=\"psysml:3a4a46e1-9a51-46c4-8bfe-2f8d5aca470a\" xlink:actuate=\"onRequest\" xlink:href=\"psysml:3a4a46e1-9a51-46c4-8bfe-2f8d5aca470a\" xlink:show=\"new\" xlink:title=\"psysml:3a4a46e1-9a51-46c4-8bfe-2f8d5aca470a\" xlink:type=\"simple\"><g id=\"elem_E7\"><rect fill=\"#FFFFFF\" height=\"50.7031\" id=\"E7\" rx=\"10\" ry=\"10\" style=\"stroke:#181818;stroke-width:0.5;\" width=\"199\" x=\"215\" y=\"300.5\"/><text fill=\"#000000\" font-family=\"sans-serif\" font-size=\"12\" font-style=\"italic\" lengthAdjust=\"spacing\" textLength=\"35\" x=\"297\" y=\"317.957\">«part»</text><text fill=\"#000000\" font-family=\"sans-serif\" font-size=\"14\" lengthAdjust=\"spacing\" textLength=\"185\" x=\"218\" y=\"335.127\">tankAssy: FuelTankAssembly</text><line style=\"stroke:#181818;stroke-width:0.5;\" x1=\"216\" x2=\"413\" y1=\"343.2031\" y2=\"343.2031\"/></g></a><!--MD5=[b9389687b975829384b498ac4b7476b2]\n",
       "class E8--><a href=\"psysml:5791f43e-0cb3-4184-9874-db75b0b51730\" target=\"_top\" title=\"psysml:5791f43e-0cb3-4184-9874-db75b0b51730\" xlink:actuate=\"onRequest\" xlink:href=\"psysml:5791f43e-0cb3-4184-9874-db75b0b51730\" xlink:show=\"new\" xlink:title=\"psysml:5791f43e-0cb3-4184-9874-db75b0b51730\" xlink:type=\"simple\"><g id=\"elem_E8\"><rect fill=\"#FFFFFF\" height=\"50.7031\" id=\"E8\" rx=\"10\" ry=\"10\" style=\"stroke:#181818;stroke-width:0.5;\" width=\"185\" x=\"474\" y=\"300.5\"/><text fill=\"#000000\" font-family=\"sans-serif\" font-size=\"12\" font-style=\"italic\" lengthAdjust=\"spacing\" textLength=\"35\" x=\"549\" y=\"317.957\">«port»</text><text fill=\"#000000\" font-family=\"sans-serif\" font-size=\"14\" lengthAdjust=\"spacing\" textLength=\"171\" x=\"477\" y=\"335.127\">^fuelTankPort: FuelOutPort</text><line style=\"stroke:#181818;stroke-width:0.5;\" x1=\"475\" x2=\"658\" y1=\"343.2031\" y2=\"343.2031\"/></g></a><!--MD5=[fd4143e9d270a159db93a4ea2a975926]\n",
       "class E9--><a href=\"psysml:c74963ac-15fb-413b-a377-03c540c14fd8\" target=\"_top\" title=\"psysml:c74963ac-15fb-413b-a377-03c540c14fd8\" xlink:actuate=\"onRequest\" xlink:href=\"psysml:c74963ac-15fb-413b-a377-03c540c14fd8\" xlink:show=\"new\" xlink:title=\"psysml:c74963ac-15fb-413b-a377-03c540c14fd8\" xlink:type=\"simple\"><g id=\"elem_E9\"><rect fill=\"#FFFFFF\" height=\"50.7031\" id=\"E9\" rx=\"10\" ry=\"10\" style=\"stroke:#181818;stroke-width:0.5;\" width=\"121\" x=\"753\" y=\"300.5\"/><text fill=\"#000000\" font-family=\"sans-serif\" font-size=\"12\" font-style=\"italic\" lengthAdjust=\"spacing\" textLength=\"38\" x=\"794.5\" y=\"317.957\">«item»</text><text fill=\"#000000\" font-family=\"sans-serif\" font-size=\"14\" lengthAdjust=\"spacing\" textLength=\"107\" x=\"756\" y=\"335.127\">^fuelSupply: Fuel</text><line style=\"stroke:#181818;stroke-width:0.5;\" x1=\"754\" x2=\"873\" y1=\"343.2031\" y2=\"343.2031\"/></g></a><!--MD5=[96f4274e9e20536e775497830990834d]\n",
       "class E10--><a href=\"psysml:01cdede6-7452-4868-a7ff-aad93c3e4077\" target=\"_top\" title=\"psysml:01cdede6-7452-4868-a7ff-aad93c3e4077\" xlink:actuate=\"onRequest\" xlink:href=\"psysml:01cdede6-7452-4868-a7ff-aad93c3e4077\" xlink:show=\"new\" xlink:title=\"psysml:01cdede6-7452-4868-a7ff-aad93c3e4077\" xlink:type=\"simple\"><g id=\"elem_E10\"><rect fill=\"#FFFFFF\" height=\"50.7031\" id=\"E10\" rx=\"10\" ry=\"10\" style=\"stroke:#181818;stroke-width:0.5;\" width=\"90\" x=\"269.5\" y=\"214.5\"/><text fill=\"#000000\" font-family=\"sans-serif\" font-size=\"12\" font-style=\"italic\" lengthAdjust=\"spacing\" textLength=\"35\" x=\"297\" y=\"231.957\">«part»</text><text fill=\"#000000\" font-family=\"sans-serif\" font-size=\"14\" lengthAdjust=\"spacing\" textLength=\"76\" x=\"272.5\" y=\"249.127\">eng: Engine</text><line style=\"stroke:#181818;stroke-width:0.5;\" x1=\"270.5\" x2=\"358.5\" y1=\"257.2031\" y2=\"257.2031\"/></g></a><!--MD5=[1dd1bfd58a279cf63c5f349dbc8fc6a1]\n",
       "class E11--><a href=\"psysml:d5e710e2-9c56-4518-8e94-1c7aef47210b\" target=\"_top\" title=\"psysml:d5e710e2-9c56-4518-8e94-1c7aef47210b\" xlink:actuate=\"onRequest\" xlink:href=\"psysml:d5e710e2-9c56-4518-8e94-1c7aef47210b\" xlink:show=\"new\" xlink:title=\"psysml:d5e710e2-9c56-4518-8e94-1c7aef47210b\" xlink:type=\"simple\"><g id=\"elem_E11\"><rect fill=\"#FFFFFF\" height=\"50.7031\" id=\"E11\" rx=\"10\" ry=\"10\" style=\"stroke:#181818;stroke-width:0.5;\" width=\"189\" x=\"719\" y=\"214.5\"/><text fill=\"#000000\" font-family=\"sans-serif\" font-size=\"12\" font-style=\"italic\" lengthAdjust=\"spacing\" textLength=\"35\" x=\"796\" y=\"231.957\">«port»</text><text fill=\"#000000\" font-family=\"sans-serif\" font-size=\"14\" lengthAdjust=\"spacing\" textLength=\"175\" x=\"722\" y=\"249.127\">^engineFuelPort: FuelInPort</text><line style=\"stroke:#181818;stroke-width:0.5;\" x1=\"720\" x2=\"907\" y1=\"257.2031\" y2=\"257.2031\"/></g></a><!--MD5=[49a0ec8f00dab7302a31f22d0f0fe584]\n",
       "class E12--><a href=\"psysml:7223f80e-1d85-4d69-af0d-6bf142c1ac69\" target=\"_top\" title=\"psysml:7223f80e-1d85-4d69-af0d-6bf142c1ac69\" xlink:actuate=\"onRequest\" xlink:href=\"psysml:7223f80e-1d85-4d69-af0d-6bf142c1ac69\" xlink:show=\"new\" xlink:title=\"psysml:7223f80e-1d85-4d69-af0d-6bf142c1ac69\" xlink:type=\"simple\"><g id=\"elem_E12\"><rect fill=\"#FFFFFF\" height=\"50.7031\" id=\"E12\" rx=\"10\" ry=\"10\" style=\"stroke:#181818;stroke-width:0.5;\" width=\"121\" x=\"968\" y=\"257.5\"/><text fill=\"#000000\" font-family=\"sans-serif\" font-size=\"12\" font-style=\"italic\" lengthAdjust=\"spacing\" textLength=\"38\" x=\"1009.5\" y=\"274.957\">«item»</text><text fill=\"#000000\" font-family=\"sans-serif\" font-size=\"14\" lengthAdjust=\"spacing\" textLength=\"107\" x=\"971\" y=\"292.127\">^fuelSupply: Fuel</text><line style=\"stroke:#181818;stroke-width:0.5;\" x1=\"969\" x2=\"1088\" y1=\"300.2031\" y2=\"300.2031\"/></g></a><!--MD5=[4672eba38e49728da53d11aeb285b987]\n",
       "reverse link E3 to E4--><g id=\"link_E3_E4\"><a href=\"psysml:75144d59-476b-43bc-96ab-7602c2140170\" target=\"_top\" title=\"psysml:75144d59-476b-43bc-96ab-7602c2140170\" xlink:actuate=\"onRequest\" xlink:href=\"psysml:75144d59-476b-43bc-96ab-7602c2140170\" xlink:show=\"new\" xlink:title=\"psysml:75144d59-476b-43bc-96ab-7602c2140170\" xlink:type=\"simple\"><path d=\"M168.06,132.5 C168.06,132.5 226.84,132.5 226.84,132.5 \" fill=\"none\" id=\"E3-backto-E4\" style=\"stroke:#181818;stroke-width:1.0;\"/><polygon fill=\"none\" points=\"155.06,132.5,161.06,136.5,167.06,132.5,161.06,128.5,155.06,132.5\" style=\"stroke:#181818;stroke-width:1.0;\"/></a></g><!--MD5=[191cde3d490a3f6d7bb551fe3ddca469]\n",
       "reverse link E3 to E5--><g id=\"link_E3_E5\"><a href=\"psysml:ba2dea8b-4ee9-4076-b741-a1ff772d1a46\" target=\"_top\" title=\"psysml:ba2dea8b-4ee9-4076-b741-a1ff772d1a46\" xlink:actuate=\"onRequest\" xlink:href=\"psysml:ba2dea8b-4ee9-4076-b741-a1ff772d1a46\" xlink:show=\"new\" xlink:title=\"psysml:ba2dea8b-4ee9-4076-b741-a1ff772d1a46\" xlink:type=\"simple\"><path d=\"M168.06,89.5 C168.06,89.5 226.84,89.5 226.84,89.5 \" fill=\"none\" id=\"E3-backto-E5\" style=\"stroke:#181818;stroke-width:1.0;\"/><polygon fill=\"none\" points=\"155.06,89.5,161.06,93.5,167.06,89.5,161.06,85.5,155.06,89.5\" style=\"stroke:#181818;stroke-width:1.0;\"/></a></g><!--MD5=[2351f337d6de0f557b50152ba70847b5]\n",
       "link E6 to E2--><g id=\"link_E6_E2\"><a href=\"psysml:4b9189fb-b8aa-4cc0-86ce-e92fa2aad7e5\" target=\"_top\" title=\"psysml:4b9189fb-b8aa-4cc0-86ce-e92fa2aad7e5\" xlink:actuate=\"onRequest\" xlink:href=\"psysml:4b9189fb-b8aa-4cc0-86ce-e92fa2aad7e5\" xlink:show=\"new\" xlink:title=\"psysml:4b9189fb-b8aa-4cc0-86ce-e92fa2aad7e5\" xlink:type=\"simple\"><path d=\"M94,351.8 C94,377.13 94,412 94,412 C94,412 264.3,412 264.3,412 \" fill=\"none\" id=\"E6-to-E2\" style=\"stroke:#181818;stroke-width:1.0;\"/><polygon fill=\"#FFFFFF\" points=\"284.3,412,265.3,419,265.3,405,284.3,412\" style=\"stroke:#181818;stroke-width:1.0;\"/><ellipse cx=\"259.6\" cy=\"417\" fill=\"#181818\" rx=\"2\" ry=\"2\" style=\"stroke:#181818;stroke-width:1.0;\"/><ellipse cx=\"259.6\" cy=\"407\" fill=\"#181818\" rx=\"2\" ry=\"2\" style=\"stroke:#181818;stroke-width:1.0;\"/></a></g><!--MD5=[3f50a3473f1dfb74d3f76443e03635af]\n",
       "reverse link E6 to E7--><g id=\"link_E6_E7\"><a href=\"psysml:e668df5d-37f7-45bc-b45f-ff1efa953289\" target=\"_top\" title=\"psysml:e668df5d-37f7-45bc-b45f-ff1efa953289\" xlink:actuate=\"onRequest\" xlink:href=\"psysml:e668df5d-37f7-45bc-b45f-ff1efa953289\" xlink:show=\"new\" xlink:title=\"psysml:e668df5d-37f7-45bc-b45f-ff1efa953289\" xlink:type=\"simple\"><path d=\"M162.55,326 C162.55,326 214.66,326 214.66,326 \" fill=\"none\" id=\"E6-backto-E7\" style=\"stroke:#181818;stroke-width:1.0;\"/><polygon fill=\"#181818\" points=\"149.55,326,155.55,330,161.55,326,155.55,322,149.55,326\" style=\"stroke:#181818;stroke-width:1.0;\"/></a></g><!--MD5=[dc164f5e8a733ab456ef1add180e9e34]\n",
       "reverse link E7 to E8--><g id=\"link_E7_E8\"><a href=\"psysml:6169d66e-df76-4341-8922-510d8220682d\" target=\"_top\" title=\"psysml:6169d66e-df76-4341-8922-510d8220682d\" xlink:actuate=\"onRequest\" xlink:href=\"psysml:6169d66e-df76-4341-8922-510d8220682d\" xlink:show=\"new\" xlink:title=\"psysml:6169d66e-df76-4341-8922-510d8220682d\" xlink:type=\"simple\"><path d=\"M427.1,326 C427.1,326 473.78,326 473.78,326 \" fill=\"none\" id=\"E7-backto-E8\" style=\"stroke:#181818;stroke-width:1.0;\"/><polygon fill=\"none\" points=\"414.1,326,420.1,330,426.1,326,420.1,322,414.1,326\" style=\"stroke:#181818;stroke-width:1.0;\"/></a></g><!--MD5=[22f5b4bae7e060dce8a1c8021efdb95b]\n",
       "reverse link E8 to E9--><g id=\"link_E8_E9\"><a href=\"psysml:c7ecac30-7672-4e82-8d29-bbbe8765c310\" target=\"_top\" title=\"psysml:c7ecac30-7672-4e82-8d29-bbbe8765c310\" xlink:actuate=\"onRequest\" xlink:href=\"psysml:c7ecac30-7672-4e82-8d29-bbbe8765c310\" xlink:show=\"new\" xlink:title=\"psysml:c7ecac30-7672-4e82-8d29-bbbe8765c310\" xlink:type=\"simple\"><path d=\"M672.18,326 C672.18,326 752.91,326 752.91,326 \" fill=\"none\" id=\"E8-backto-E9\" style=\"stroke:#181818;stroke-width:1.0;\"/><polygon fill=\"none\" points=\"659.18,326,665.18,330,671.18,326,665.18,322,659.18,326\" style=\"stroke:#181818;stroke-width:1.0;\"/></a></g><!--MD5=[d0fef95800180166b62282c1bc977cec]\n",
       "reverse link E6 to E10--><g id=\"link_E6_E10\"><a href=\"psysml:125f9b0c-331b-4bf2-abef-495a8eea4299\" target=\"_top\" title=\"psysml:125f9b0c-331b-4bf2-abef-495a8eea4299\" xlink:actuate=\"onRequest\" xlink:href=\"psysml:125f9b0c-331b-4bf2-abef-495a8eea4299\" xlink:show=\"new\" xlink:title=\"psysml:125f9b0c-331b-4bf2-abef-495a8eea4299\" xlink:type=\"simple\"><path d=\"M94,287.2 C94,287.2 94,240 94,240 C94,240 204.84,240 269.35,240 \" fill=\"none\" id=\"E6-backto-E10\" style=\"stroke:#181818;stroke-width:1.0;\"/><polygon fill=\"#181818\" points=\"94,300.2,98,294.2,94,288.2,90,294.2,94,300.2\" style=\"stroke:#181818;stroke-width:1.0;\"/></a></g><!--MD5=[de308be4a2431766a05a907a031c07fc]\n",
       "reverse link E10 to E11--><g id=\"link_E10_E11\"><a href=\"psysml:c0c168b2-26b0-4547-aa2b-bbcbaf752c38\" target=\"_top\" title=\"psysml:c0c168b2-26b0-4547-aa2b-bbcbaf752c38\" xlink:actuate=\"onRequest\" xlink:href=\"psysml:c0c168b2-26b0-4547-aa2b-bbcbaf752c38\" xlink:show=\"new\" xlink:title=\"psysml:c0c168b2-26b0-4547-aa2b-bbcbaf752c38\" xlink:type=\"simple\"><path d=\"M372.66,240 C372.66,240 718.54,240 718.54,240 \" fill=\"none\" id=\"E10-backto-E11\" style=\"stroke:#181818;stroke-width:1.0;\"/><polygon fill=\"none\" points=\"359.66,240,365.66,244,371.66,240,365.66,236,359.66,240\" style=\"stroke:#181818;stroke-width:1.0;\"/></a></g><!--MD5=[94adabc162ce7e41b39f13be14fbaeb3]\n",
       "reverse link E11 to E12--><g id=\"link_E11_E12\"><a href=\"psysml:7e6dc185-b0de-4c56-a74b-82750bddfd25\" target=\"_top\" title=\"psysml:7e6dc185-b0de-4c56-a74b-82750bddfd25\" xlink:actuate=\"onRequest\" xlink:href=\"psysml:7e6dc185-b0de-4c56-a74b-82750bddfd25\" xlink:show=\"new\" xlink:title=\"psysml:7e6dc185-b0de-4c56-a74b-82750bddfd25\" xlink:type=\"simple\"><path d=\"M921.12,261.5 C921.12,261.5 967.87,261.5 967.87,261.5 \" fill=\"none\" id=\"E11-backto-E12\" style=\"stroke:#181818;stroke-width:1.0;\"/><polygon fill=\"none\" points=\"908.12,261.5,914.1244,265.4934,920.12,261.4868,914.1156,257.4934,908.12,261.5\" style=\"stroke:#181818;stroke-width:1.0;\"/></a></g><!--MD5=[01e7fb777ede19d6dea0886c93193d5b]\n",
       "link E9 to E12--><g id=\"link_E9_E12\"><a href=\"psysml:28d8bd63-b025-4b0d-b811-abc23eb6f26a\" target=\"_top\" title=\"psysml:28d8bd63-b025-4b0d-b811-abc23eb6f26a\" xlink:actuate=\"onRequest\" xlink:href=\"psysml:28d8bd63-b025-4b0d-b811-abc23eb6f26a\" xlink:show=\"new\" xlink:title=\"psysml:28d8bd63-b025-4b0d-b811-abc23eb6f26a\" xlink:type=\"simple\"><path d=\"M874.25,304.5 C874.25,304.5 962.9,304.5 962.9,304.5 \" fill=\"none\" id=\"E9-to-E12\" style=\"stroke:#181818;stroke-width:1.0;\"/><polygon fill=\"#181818\" points=\"967.9,304.5,958.9,300.5,962.9,304.5,958.9,308.5,967.9,304.5\" style=\"stroke:#181818;stroke-width:1.0;\"/></a></g><!--MD5=[8ec08565c96c2e2016b9aa35e90035a3]\n",
       "@startuml\r\n",
       "skin sysmlbw\r\n",
       "skinparam monochrome true\r\n",
       "skinparam wrapWidth 300\r\n",
       "hide circle\r\n",
       "left to right direction\r\n",
       "skinparam linetype ortho\r\n",
       "\r\n",
       "package \"Flow_Connection_Definition_Example\" as E1  [[psysml:46a0e8ae-e681-4ca0-b526-a2d617bdca03 ]]  {\r\n",
       "comp def \"Vehicle\" as E2  <<(T,blue) part  def>> [[psysml:7115c401-8c12-4542-9ee9-428861018814 ]] {\r\n",
       "}\r\n",
       "comp def \"FuelFlow\" as E3  <<(T,blue) flow connection  def>> [[psysml:cfb08487-44a4-4498-a81d-8af034cf837f ]] {\r\n",
       "}\r\n",
       "comp usage \"supplierPort: FuelOutPort  \" as E4  <<(T,blue) port>> [[psysml:35c2a8a4-36e8-42ef-b6a7-bc147eb42869 ]] {\r\n",
       "}\r\n",
       "comp usage \"consumerPort: FuelInPort  \" as E5  <<(T,blue) port>> [[psysml:d76c59ec-faf5-42c0-a580-d54231a9f2fa ]] {\r\n",
       "}\r\n",
       "comp usage \"vehicle: Vehicle  \" as E6  <<(T,blue) part>> [[psysml:763fed22-ae50-43e1-8578-63489cc1a52a ]] {\r\n",
       "}\r\n",
       "comp usage \"tankAssy: FuelTankAssembly  \" as E7  <<(T,blue) part>> [[psysml:3a4a46e1-9a51-46c4-8bfe-2f8d5aca470a ]] {\r\n",
       "}\r\n",
       "comp usage \"^fuelTankPort: FuelOutPort  \" as E8  <<(T,blue) port>> [[psysml:5791f43e-0cb3-4184-9874-db75b0b51730 ]] {\r\n",
       "}\r\n",
       "comp usage \"^fuelSupply: Fuel  \" as E9  <<(T,blue) item>> [[psysml:c74963ac-15fb-413b-a377-03c540c14fd8 ]] {\r\n",
       "}\r\n",
       "comp usage \"eng: Engine  \" as E10  <<(T,blue) part>> [[psysml:01cdede6-7452-4868-a7ff-aad93c3e4077 ]] {\r\n",
       "}\r\n",
       "comp usage \"^engineFuelPort: FuelInPort  \" as E11  <<(T,blue) port>> [[psysml:d5e710e2-9c56-4518-8e94-1c7aef47210b ]] {\r\n",
       "}\r\n",
       "comp usage \"^fuelSupply: Fuel  \" as E12  <<(T,blue) item>> [[psysml:7223f80e-1d85-4d69-af0d-6bf142c1ac69 ]] {\r\n",
       "}\r\n",
       "}\r\n",
       "E3 o- - E4 [[psysml:75144d59-476b-43bc-96ab-7602c2140170 ]] \r\n",
       "E3 o- - E5 [[psysml:ba2dea8b-4ee9-4076-b741-a1ff772d1a46 ]] \r\n",
       "E6 - -:|> E2 [[psysml:4b9189fb-b8aa-4cc0-86ce-e92fa2aad7e5 ]] \r\n",
       "E6 *- - E7 [[psysml:e668df5d-37f7-45bc-b45f-ff1efa953289 ]] \r\n",
       "E7 o- - E8 [[psysml:6169d66e-df76-4341-8922-510d8220682d ]] \r\n",
       "E8 o- - E9 [[psysml:c7ecac30-7672-4e82-8d29-bbbe8765c310 ]] \r\n",
       "E6 *- - E10 [[psysml:125f9b0c-331b-4bf2-abef-495a8eea4299 ]] \r\n",
       "E10 o- - E11 [[psysml:c0c168b2-26b0-4547-aa2b-bbcbaf752c38 ]] \r\n",
       "E11 o- - E12 [[psysml:7e6dc185-b0de-4c56-a74b-82750bddfd25 ]] \r\n",
       "E9 - -> E12 [[psysml:28d8bd63-b025-4b0d-b811-abc23eb6f26a ]] \r\n",
       "@enduml\r\n",
       "\n",
       "PlantUML version 1.2022.7(Mon Aug 22 11:01:30 GMT-06:00 2022)\n",
       "(EPL source distribution)\n",
       "Java Runtime: OpenJDK Runtime Environment\n",
       "JVM: OpenJDK 64-Bit Server VM\n",
       "Default Encoding: UTF-8\n",
       "Language: en\n",
       "Country: US\n",
       "--></g></svg>"
      ]
     },
     "execution_count": 14,
     "metadata": {},
     "output_type": "execute_result"
    }
   ],
   "source": [
    "%viz --view Tree --style=LR --style=ortholine Flow_Connection_Definition_Example"
   ]
  },
  {
   "cell_type": "code",
   "execution_count": 17,
   "id": "f8195924-f024-4df0-b42b-883565413dda",
   "metadata": {},
   "outputs": [
    {
     "data": {
      "text/plain": [
       "Package Flow_Connection_Interface_Example (bc0ad4d6-86e0-4866-bdbe-27d395aade10)\n"
      ]
     },
     "execution_count": 17,
     "metadata": {},
     "output_type": "execute_result"
    }
   ],
   "source": [
    "package Flow_Connection_Interface_Example {\n",
    "\tprivate import 'Port Example'::*;\n",
    "\t\n",
    "\tpart def Vehicle;\n",
    "\t\n",
    "\tinterface def FuelInterface {\n",
    "\t\tend supplierPort : FuelOutPort;\n",
    "\t\tend consumerPort : FuelInPort;\n",
    "\t\t\n",
    "\t\tflow supplierPort.fuelSupply to consumerPort.fuelSupply;\t\t\t\n",
    "\t\tflow consumerPort.fuelReturn to supplierPort.fuelReturn;\n",
    "\t}\n",
    "\t\n",
    "\tpart vehicle : Vehicle {\t\n",
    "\t\tpart tankAssy : FuelTankAssembly;\t\t\n",
    "\t\tpart eng : Engine;\n",
    "\t\t\n",
    "\t\tinterface : FuelInterface connect \n",
    "\t\t\tsupplierPort ::> tankAssy.fuelTankPort to \n",
    "\t\t\tconsumerPort ::> eng.engineFuelPort;\n",
    "\t} \n",
    "}"
   ]
  },
  {
   "cell_type": "code",
   "execution_count": 19,
   "id": "2a103e58-1da3-46c4-b848-55da8fb3e3f5",
   "metadata": {},
   "outputs": [
    {
     "data": {
      "image/svg+xml": [
       "<?xml version=\"1.0\" encoding=\"UTF-8\" standalone=\"no\"?><svg xmlns=\"http://www.w3.org/2000/svg\" xmlns:xlink=\"http://www.w3.org/1999/xlink\" contentStyleType=\"text/css\" height=\"450px\" preserveAspectRatio=\"none\" style=\"width:1117px;height:450px;background:#FFFFFF;\" version=\"1.1\" viewBox=\"0 0 1117 450\" width=\"1117px\" zoomAndPan=\"magnify\"><defs/><g><!--MD5=[fbc87193dbaf4d95561dea2c320d4a47]\n",
       "cluster E1--><g id=\"cluster_E1\"><a href=\"psysml:bc0ad4d6-86e0-4866-bdbe-27d395aade10\" target=\"_top\" title=\"psysml:bc0ad4d6-86e0-4866-bdbe-27d395aade10\" xlink:actuate=\"onRequest\" xlink:href=\"psysml:bc0ad4d6-86e0-4866-bdbe-27d395aade10\" xlink:show=\"new\" xlink:title=\"psysml:bc0ad4d6-86e0-4866-bdbe-27d395aade10\" xlink:type=\"simple\"><polygon fill=\"none\" points=\"16,6,282,6,289,29.6094,1100,29.6094,1100,443,16,443,16,6\" style=\"stroke:#000000;stroke-width:1.5;\"/><line style=\"stroke:#000000;stroke-width:1.5;\" x1=\"16\" x2=\"289\" y1=\"29.6094\" y2=\"29.6094\"/><text fill=\"#000000\" font-family=\"sans-serif\" font-size=\"14\" font-weight=\"bold\" lengthAdjust=\"spacing\" textLength=\"260\" x=\"20\" y=\"22.5332\">Flow_Connection_Interface_Example</text></a></g><!--MD5=[b4997ac47864f28c2f74865a473b2911]\n",
       "class E2--><a href=\"psysml:4f85d539-4aec-4229-8e97-c37a6f04af44\" target=\"_top\" title=\"psysml:4f85d539-4aec-4229-8e97-c37a6f04af44\" xlink:actuate=\"onRequest\" xlink:href=\"psysml:4f85d539-4aec-4229-8e97-c37a6f04af44\" xlink:show=\"new\" xlink:title=\"psysml:4f85d539-4aec-4229-8e97-c37a6f04af44\" xlink:type=\"simple\"><g id=\"elem_E2\"><rect fill=\"#FFFFFF\" height=\"50.7031\" id=\"E2\" style=\"stroke:#181818;stroke-width:0.5;\" width=\"60\" x=\"460.5\" y=\"251.5\"/><text fill=\"#000000\" font-family=\"sans-serif\" font-size=\"12\" font-style=\"italic\" lengthAdjust=\"spacing\" textLength=\"58\" x=\"461.5\" y=\"268.957\">«part  def»</text><text fill=\"#000000\" font-family=\"sans-serif\" font-size=\"14\" lengthAdjust=\"spacing\" textLength=\"46\" x=\"467.5\" y=\"286.127\">Vehicle</text><line style=\"stroke:#181818;stroke-width:0.5;\" x1=\"461.5\" x2=\"519.5\" y1=\"294.2031\" y2=\"294.2031\"/></g></a><!--MD5=[09b614a08d8cba4a07c9adeb5e0fee81]\n",
       "class E3--><a href=\"psysml:2ef62ea9-c355-45b6-af3f-8ae8e4b9d41d\" target=\"_top\" title=\"psysml:2ef62ea9-c355-45b6-af3f-8ae8e4b9d41d\" xlink:actuate=\"onRequest\" xlink:href=\"psysml:2ef62ea9-c355-45b6-af3f-8ae8e4b9d41d\" xlink:show=\"new\" xlink:title=\"psysml:2ef62ea9-c355-45b6-af3f-8ae8e4b9d41d\" xlink:type=\"simple\"><g id=\"elem_E3\"><rect fill=\"#FFFFFF\" height=\"50.7031\" id=\"E3\" style=\"stroke:#181818;stroke-width:0.5;\" width=\"89\" x=\"137\" y=\"122.5\"/><text fill=\"#000000\" font-family=\"sans-serif\" font-size=\"12\" font-style=\"italic\" lengthAdjust=\"spacing\" textLength=\"84\" x=\"139.5\" y=\"139.957\">«interface  def»</text><text fill=\"#000000\" font-family=\"sans-serif\" font-size=\"14\" lengthAdjust=\"spacing\" textLength=\"83\" x=\"140\" y=\"157.127\">FuelInterface</text><line style=\"stroke:#181818;stroke-width:0.5;\" x1=\"138\" x2=\"225\" y1=\"165.2031\" y2=\"165.2031\"/></g></a><!--MD5=[ebbe1d658d1005bcc118a6aa81145e00]\n",
       "class E4--><a href=\"psysml:06ee3950-4c03-4e51-a384-f37b1d3c4e15\" target=\"_top\" title=\"psysml:06ee3950-4c03-4e51-a384-f37b1d3c4e15\" xlink:actuate=\"onRequest\" xlink:href=\"psysml:06ee3950-4c03-4e51-a384-f37b1d3c4e15\" xlink:show=\"new\" xlink:title=\"psysml:06ee3950-4c03-4e51-a384-f37b1d3c4e15\" xlink:type=\"simple\"><g id=\"elem_E4\"><rect fill=\"#FFFFFF\" height=\"50.7031\" id=\"E4\" rx=\"10\" ry=\"10\" style=\"stroke:#181818;stroke-width:0.5;\" width=\"175\" x=\"403\" y=\"79.5\"/><text fill=\"#000000\" font-family=\"sans-serif\" font-size=\"12\" font-style=\"italic\" lengthAdjust=\"spacing\" textLength=\"35\" x=\"473\" y=\"96.957\">«port»</text><text fill=\"#000000\" font-family=\"sans-serif\" font-size=\"14\" lengthAdjust=\"spacing\" textLength=\"161\" x=\"406\" y=\"114.127\">supplierPort: FuelOutPort</text><line style=\"stroke:#181818;stroke-width:0.5;\" x1=\"404\" x2=\"577\" y1=\"122.2031\" y2=\"122.2031\"/></g></a><!--MD5=[270fce915f116d4de14055a7c1d9a0f3]\n",
       "class E5--><a href=\"psysml:3a0940e9-eae7-47e9-ad9d-0b4c9ddb7fb0\" target=\"_top\" title=\"psysml:3a0940e9-eae7-47e9-ad9d-0b4c9ddb7fb0\" xlink:actuate=\"onRequest\" xlink:href=\"psysml:3a0940e9-eae7-47e9-ad9d-0b4c9ddb7fb0\" xlink:show=\"new\" xlink:title=\"psysml:3a0940e9-eae7-47e9-ad9d-0b4c9ddb7fb0\" xlink:type=\"simple\"><g id=\"elem_E5\"><rect fill=\"#FFFFFF\" height=\"50.7031\" id=\"E5\" rx=\"10\" ry=\"10\" style=\"stroke:#181818;stroke-width:0.5;\" width=\"121\" x=\"929\" y=\"67.5\"/><text fill=\"#000000\" font-family=\"sans-serif\" font-size=\"12\" font-style=\"italic\" lengthAdjust=\"spacing\" textLength=\"38\" x=\"970.5\" y=\"84.957\">«item»</text><text fill=\"#000000\" font-family=\"sans-serif\" font-size=\"14\" lengthAdjust=\"spacing\" textLength=\"107\" x=\"932\" y=\"102.127\">^fuelReturn: Fuel</text><line style=\"stroke:#181818;stroke-width:0.5;\" x1=\"930\" x2=\"1049\" y1=\"110.2031\" y2=\"110.2031\"/></g></a><!--MD5=[60a26617385b1d2d0262a64233df1f8d]\n",
       "class E6--><a href=\"psysml:c74963ac-15fb-413b-a377-03c540c14fd8\" target=\"_top\" title=\"psysml:c74963ac-15fb-413b-a377-03c540c14fd8\" xlink:actuate=\"onRequest\" xlink:href=\"psysml:c74963ac-15fb-413b-a377-03c540c14fd8\" xlink:show=\"new\" xlink:title=\"psysml:c74963ac-15fb-413b-a377-03c540c14fd8\" xlink:type=\"simple\"><g id=\"elem_E6\"><rect fill=\"#FFFFFF\" height=\"50.7031\" id=\"E6\" rx=\"10\" ry=\"10\" style=\"stroke:#181818;stroke-width:0.5;\" width=\"121\" x=\"682\" y=\"79.5\"/><text fill=\"#000000\" font-family=\"sans-serif\" font-size=\"12\" font-style=\"italic\" lengthAdjust=\"spacing\" textLength=\"38\" x=\"723.5\" y=\"96.957\">«item»</text><text fill=\"#000000\" font-family=\"sans-serif\" font-size=\"14\" lengthAdjust=\"spacing\" textLength=\"107\" x=\"685\" y=\"114.127\">^fuelSupply: Fuel</text><line style=\"stroke:#181818;stroke-width:0.5;\" x1=\"683\" x2=\"802\" y1=\"122.2031\" y2=\"122.2031\"/></g></a><!--MD5=[2156ba9850f5573cc1fc38a6a4b2f02b]\n",
       "class E7--><a href=\"psysml:17d7bbd9-dd12-4775-8ed7-6e823e7059f3\" target=\"_top\" title=\"psysml:17d7bbd9-dd12-4775-8ed7-6e823e7059f3\" xlink:actuate=\"onRequest\" xlink:href=\"psysml:17d7bbd9-dd12-4775-8ed7-6e823e7059f3\" xlink:show=\"new\" xlink:title=\"psysml:17d7bbd9-dd12-4775-8ed7-6e823e7059f3\" xlink:type=\"simple\"><g id=\"elem_E7\"><rect fill=\"#FFFFFF\" height=\"50.7031\" id=\"E7\" rx=\"10\" ry=\"10\" style=\"stroke:#181818;stroke-width:0.5;\" width=\"175\" x=\"403\" y=\"165.5\"/><text fill=\"#000000\" font-family=\"sans-serif\" font-size=\"12\" font-style=\"italic\" lengthAdjust=\"spacing\" textLength=\"35\" x=\"473\" y=\"182.957\">«port»</text><text fill=\"#000000\" font-family=\"sans-serif\" font-size=\"14\" lengthAdjust=\"spacing\" textLength=\"161\" x=\"406\" y=\"200.127\">consumerPort: FuelInPort</text><line style=\"stroke:#181818;stroke-width:0.5;\" x1=\"404\" x2=\"577\" y1=\"208.2031\" y2=\"208.2031\"/></g></a><!--MD5=[b9389687b975829384b498ac4b7476b2]\n",
       "class E8--><a href=\"psysml:7223f80e-1d85-4d69-af0d-6bf142c1ac69\" target=\"_top\" title=\"psysml:7223f80e-1d85-4d69-af0d-6bf142c1ac69\" xlink:actuate=\"onRequest\" xlink:href=\"psysml:7223f80e-1d85-4d69-af0d-6bf142c1ac69\" xlink:show=\"new\" xlink:title=\"psysml:7223f80e-1d85-4d69-af0d-6bf142c1ac69\" xlink:type=\"simple\"><g id=\"elem_E8\"><rect fill=\"#FFFFFF\" height=\"50.7031\" id=\"E8\" rx=\"10\" ry=\"10\" style=\"stroke:#181818;stroke-width:0.5;\" width=\"121\" x=\"929\" y=\"202.5\"/><text fill=\"#000000\" font-family=\"sans-serif\" font-size=\"12\" font-style=\"italic\" lengthAdjust=\"spacing\" textLength=\"38\" x=\"970.5\" y=\"219.957\">«item»</text><text fill=\"#000000\" font-family=\"sans-serif\" font-size=\"14\" lengthAdjust=\"spacing\" textLength=\"107\" x=\"932\" y=\"237.127\">^fuelSupply: Fuel</text><line style=\"stroke:#181818;stroke-width:0.5;\" x1=\"930\" x2=\"1049\" y1=\"245.2031\" y2=\"245.2031\"/></g></a><!--MD5=[fd4143e9d270a159db93a4ea2a975926]\n",
       "class E9--><a href=\"psysml:72e7446a-ea15-444f-a183-9b0e1fe1a364\" target=\"_top\" title=\"psysml:72e7446a-ea15-444f-a183-9b0e1fe1a364\" xlink:actuate=\"onRequest\" xlink:href=\"psysml:72e7446a-ea15-444f-a183-9b0e1fe1a364\" xlink:show=\"new\" xlink:title=\"psysml:72e7446a-ea15-444f-a183-9b0e1fe1a364\" xlink:type=\"simple\"><g id=\"elem_E9\"><rect fill=\"#FFFFFF\" height=\"50.7031\" id=\"E9\" rx=\"10\" ry=\"10\" style=\"stroke:#181818;stroke-width:0.5;\" width=\"121\" x=\"682\" y=\"165.5\"/><text fill=\"#000000\" font-family=\"sans-serif\" font-size=\"12\" font-style=\"italic\" lengthAdjust=\"spacing\" textLength=\"38\" x=\"723.5\" y=\"182.957\">«item»</text><text fill=\"#000000\" font-family=\"sans-serif\" font-size=\"14\" lengthAdjust=\"spacing\" textLength=\"107\" x=\"685\" y=\"200.127\">^fuelReturn: Fuel</text><line style=\"stroke:#181818;stroke-width:0.5;\" x1=\"683\" x2=\"802\" y1=\"208.2031\" y2=\"208.2031\"/></g></a><!--MD5=[96f4274e9e20536e775497830990834d]\n",
       "class E10--><a href=\"psysml:46072c9b-c51b-42e7-aeb6-153b21b9472e\" target=\"_top\" title=\"psysml:46072c9b-c51b-42e7-aeb6-153b21b9472e\" xlink:actuate=\"onRequest\" xlink:href=\"psysml:46072c9b-c51b-42e7-aeb6-153b21b9472e\" xlink:show=\"new\" xlink:title=\"psysml:46072c9b-c51b-42e7-aeb6-153b21b9472e\" xlink:type=\"simple\"><g id=\"elem_E10\"><rect fill=\"#FFFFFF\" height=\"96.9656\" id=\"E10\" rx=\"10\" ry=\"10\" style=\"stroke:#181818;stroke-width:0.5;\" width=\"299\" x=\"32\" y=\"290.5\"/><text fill=\"#000000\" font-family=\"sans-serif\" font-size=\"12\" font-style=\"italic\" lengthAdjust=\"spacing\" textLength=\"35\" x=\"164\" y=\"307.957\">«part»</text><text fill=\"#000000\" font-family=\"sans-serif\" font-size=\"14\" lengthAdjust=\"spacing\" textLength=\"98\" x=\"128.5\" y=\"325.127\">vehicle: Vehicle</text><line style=\"stroke:#181818;stroke-width:0.5;\" x1=\"33\" x2=\"330\" y1=\"333.2031\" y2=\"333.2031\"/><text fill=\"#000000\" font-family=\"sans-serif\" font-size=\"14\" lengthAdjust=\"spacing\" textLength=\"196\" x=\"38\" y=\"362.7801\">noname: FuelInterface connect</text><text fill=\"#000000\" font-family=\"sans-serif\" font-size=\"14\" lengthAdjust=\"spacing\" textLength=\"287\" x=\"38\" y=\"380.3895\">tankAssy.fuelTankPort to eng.engineFuelPort</text><text fill=\"#000000\" font-family=\"sans-serif\" font-size=\"14\" font-style=\"italic\" lengthAdjust=\"spacing\" textLength=\"62\" x=\"150.5\" y=\"346.4316\">interfaces</text></g></a><!--MD5=[1dd1bfd58a279cf63c5f349dbc8fc6a1]\n",
       "class E11--><a href=\"psysml:12fe7dff-e2d1-472f-b72c-aa3a54da23c5\" target=\"_top\" title=\"psysml:12fe7dff-e2d1-472f-b72c-aa3a54da23c5\" xlink:actuate=\"onRequest\" xlink:href=\"psysml:12fe7dff-e2d1-472f-b72c-aa3a54da23c5\" xlink:show=\"new\" xlink:title=\"psysml:12fe7dff-e2d1-472f-b72c-aa3a54da23c5\" xlink:type=\"simple\"><g id=\"elem_E11\"><rect fill=\"#FFFFFF\" height=\"50.7031\" id=\"E11\" rx=\"10\" ry=\"10\" style=\"stroke:#181818;stroke-width:0.5;\" width=\"199\" x=\"391\" y=\"375.5\"/><text fill=\"#000000\" font-family=\"sans-serif\" font-size=\"12\" font-style=\"italic\" lengthAdjust=\"spacing\" textLength=\"35\" x=\"473\" y=\"392.957\">«part»</text><text fill=\"#000000\" font-family=\"sans-serif\" font-size=\"14\" lengthAdjust=\"spacing\" textLength=\"185\" x=\"394\" y=\"410.127\">tankAssy: FuelTankAssembly</text><line style=\"stroke:#181818;stroke-width:0.5;\" x1=\"392\" x2=\"589\" y1=\"418.2031\" y2=\"418.2031\"/></g></a><!--MD5=[49a0ec8f00dab7302a31f22d0f0fe584]\n",
       "class E12--><a href=\"psysml:5791f43e-0cb3-4184-9874-db75b0b51730\" target=\"_top\" title=\"psysml:5791f43e-0cb3-4184-9874-db75b0b51730\" xlink:actuate=\"onRequest\" xlink:href=\"psysml:5791f43e-0cb3-4184-9874-db75b0b51730\" xlink:show=\"new\" xlink:title=\"psysml:5791f43e-0cb3-4184-9874-db75b0b51730\" xlink:type=\"simple\"><g id=\"elem_E12\"><rect fill=\"#FFFFFF\" height=\"50.7031\" id=\"E12\" rx=\"10\" ry=\"10\" style=\"stroke:#181818;stroke-width:0.5;\" width=\"185\" x=\"650\" y=\"375.5\"/><text fill=\"#000000\" font-family=\"sans-serif\" font-size=\"12\" font-style=\"italic\" lengthAdjust=\"spacing\" textLength=\"35\" x=\"725\" y=\"392.957\">«port»</text><text fill=\"#000000\" font-family=\"sans-serif\" font-size=\"14\" lengthAdjust=\"spacing\" textLength=\"171\" x=\"653\" y=\"410.127\">^fuelTankPort: FuelOutPort</text><line style=\"stroke:#181818;stroke-width:0.5;\" x1=\"651\" x2=\"834\" y1=\"418.2031\" y2=\"418.2031\"/></g></a><!--MD5=[ee3c913d1a06f366521f9ef512b67efe]\n",
       "class E13--><a href=\"psysml:0b626451-6d08-466a-bd04-63efbbc7ca60\" target=\"_top\" title=\"psysml:0b626451-6d08-466a-bd04-63efbbc7ca60\" xlink:actuate=\"onRequest\" xlink:href=\"psysml:0b626451-6d08-466a-bd04-63efbbc7ca60\" xlink:show=\"new\" xlink:title=\"psysml:0b626451-6d08-466a-bd04-63efbbc7ca60\" xlink:type=\"simple\"><g id=\"elem_E13\"><rect fill=\"#FFFFFF\" height=\"50.7031\" id=\"E13\" rx=\"10\" ry=\"10\" style=\"stroke:#181818;stroke-width:0.5;\" width=\"90\" x=\"697.5\" y=\"289.5\"/><text fill=\"#000000\" font-family=\"sans-serif\" font-size=\"12\" font-style=\"italic\" lengthAdjust=\"spacing\" textLength=\"35\" x=\"725\" y=\"306.957\">«part»</text><text fill=\"#000000\" font-family=\"sans-serif\" font-size=\"14\" lengthAdjust=\"spacing\" textLength=\"76\" x=\"700.5\" y=\"324.127\">eng: Engine</text><line style=\"stroke:#181818;stroke-width:0.5;\" x1=\"698.5\" x2=\"786.5\" y1=\"332.2031\" y2=\"332.2031\"/></g></a><!--MD5=[bee11217b2f71d958a27249dc326068c]\n",
       "class E14--><a href=\"psysml:d5e710e2-9c56-4518-8e94-1c7aef47210b\" target=\"_top\" title=\"psysml:d5e710e2-9c56-4518-8e94-1c7aef47210b\" xlink:actuate=\"onRequest\" xlink:href=\"psysml:d5e710e2-9c56-4518-8e94-1c7aef47210b\" xlink:show=\"new\" xlink:title=\"psysml:d5e710e2-9c56-4518-8e94-1c7aef47210b\" xlink:type=\"simple\"><g id=\"elem_E14\"><rect fill=\"#FFFFFF\" height=\"50.7031\" id=\"E14\" rx=\"10\" ry=\"10\" style=\"stroke:#181818;stroke-width:0.5;\" width=\"189\" x=\"895\" y=\"319.5\"/><text fill=\"#000000\" font-family=\"sans-serif\" font-size=\"12\" font-style=\"italic\" lengthAdjust=\"spacing\" textLength=\"35\" x=\"972\" y=\"336.957\">«port»</text><text fill=\"#000000\" font-family=\"sans-serif\" font-size=\"14\" lengthAdjust=\"spacing\" textLength=\"175\" x=\"898\" y=\"354.127\">^engineFuelPort: FuelInPort</text><line style=\"stroke:#181818;stroke-width:0.5;\" x1=\"896\" x2=\"1083\" y1=\"362.2031\" y2=\"362.2031\"/></g></a><!--MD5=[4672eba38e49728da53d11aeb285b987]\n",
       "reverse link E3 to E4--><g id=\"link_E3_E4\"><a href=\"psysml:90aac024-9bf4-470e-a0b8-e202e5a890e2\" target=\"_top\" title=\"psysml:90aac024-9bf4-470e-a0b8-e202e5a890e2\" xlink:actuate=\"onRequest\" xlink:href=\"psysml:90aac024-9bf4-470e-a0b8-e202e5a890e2\" xlink:show=\"new\" xlink:title=\"psysml:90aac024-9bf4-470e-a0b8-e202e5a890e2\" xlink:type=\"simple\"><path d=\"M239.1,126.5 C239.1,126.5 402.85,126.5 402.85,126.5 \" fill=\"none\" id=\"E3-backto-E4\" style=\"stroke:#181818;stroke-width:1.0;\"/><polygon fill=\"none\" points=\"226.1,126.5,232.1,130.5,238.1,126.5,232.1,122.5,226.1,126.5\" style=\"stroke:#181818;stroke-width:1.0;\"/></a></g><!--MD5=[62aa6af11e70f752912c1cb0466f24f7]\n",
       "reverse link E4 to E5--><g id=\"link_E4_E5\"><a href=\"psysml:8a377aa9-259e-482c-b668-7757455b8f27\" target=\"_top\" title=\"psysml:8a377aa9-259e-482c-b668-7757455b8f27\" xlink:actuate=\"onRequest\" xlink:href=\"psysml:8a377aa9-259e-482c-b668-7757455b8f27\" xlink:show=\"new\" xlink:title=\"psysml:8a377aa9-259e-482c-b668-7757455b8f27\" xlink:type=\"simple\"><path d=\"M491,74.08 C491,74.08 491,73.5 491,73.5 C491,73.5 796.02,73.5 928.87,73.5 \" fill=\"none\" id=\"E4-backto-E5\" style=\"stroke:#181818;stroke-width:1.0;\"/><polygon fill=\"none\" points=\"491,79.28,495,73.28,491,67.28,487,73.28,491,79.28\" style=\"stroke:#181818;stroke-width:1.0;\"/></a></g><!--MD5=[6db378b65e1aef66a01cb3103812b399]\n",
       "reverse link E4 to E6--><g id=\"link_E4_E6\"><a href=\"psysml:c7ecac30-7672-4e82-8d29-bbbe8765c310\" target=\"_top\" title=\"psysml:c7ecac30-7672-4e82-8d29-bbbe8765c310\" xlink:actuate=\"onRequest\" xlink:href=\"psysml:c7ecac30-7672-4e82-8d29-bbbe8765c310\" xlink:show=\"new\" xlink:title=\"psysml:c7ecac30-7672-4e82-8d29-bbbe8765c310\" xlink:type=\"simple\"><path d=\"M591.28,105 C591.28,105 681.96,105 681.96,105 \" fill=\"none\" id=\"E4-backto-E6\" style=\"stroke:#181818;stroke-width:1.0;\"/><polygon fill=\"none\" points=\"578.28,105,584.28,109,590.28,105,584.28,101,578.28,105\" style=\"stroke:#181818;stroke-width:1.0;\"/></a></g><!--MD5=[85760999379eecfd2565a9fecdca67e4]\n",
       "reverse link E3 to E7--><g id=\"link_E3_E7\"><a href=\"psysml:316e1086-73e2-435e-85aa-0c3159722366\" target=\"_top\" title=\"psysml:316e1086-73e2-435e-85aa-0c3159722366\" xlink:actuate=\"onRequest\" xlink:href=\"psysml:316e1086-73e2-435e-85aa-0c3159722366\" xlink:show=\"new\" xlink:title=\"psysml:316e1086-73e2-435e-85aa-0c3159722366\" xlink:type=\"simple\"><path d=\"M239.1,169.5 C239.1,169.5 402.85,169.5 402.85,169.5 \" fill=\"none\" id=\"E3-backto-E7\" style=\"stroke:#181818;stroke-width:1.0;\"/><polygon fill=\"none\" points=\"226.1,169.5,232.1,173.5,238.1,169.5,232.1,165.5,226.1,169.5\" style=\"stroke:#181818;stroke-width:1.0;\"/></a></g><!--MD5=[dc164f5e8a733ab456ef1add180e9e34]\n",
       "reverse link E7 to E8--><g id=\"link_E7_E8\"><a href=\"psysml:7e6dc185-b0de-4c56-a74b-82750bddfd25\" target=\"_top\" title=\"psysml:7e6dc185-b0de-4c56-a74b-82750bddfd25\" xlink:actuate=\"onRequest\" xlink:href=\"psysml:7e6dc185-b0de-4c56-a74b-82750bddfd25\" xlink:show=\"new\" xlink:title=\"psysml:7e6dc185-b0de-4c56-a74b-82750bddfd25\" xlink:type=\"simple\"><path d=\"M550,229.51 C550,229.51 550,234 550,234 C550,234 808.28,234 928.85,234 \" fill=\"none\" id=\"E7-backto-E8\" style=\"stroke:#181818;stroke-width:1.0;\"/><polygon fill=\"none\" points=\"550,216.51,546,222.51,550,228.51,554,222.51,550,216.51\" style=\"stroke:#181818;stroke-width:1.0;\"/></a></g><!--MD5=[e4a10ef82d0e328e31cac39a31e58dda]\n",
       "reverse link E7 to E9--><g id=\"link_E7_E9\"><a href=\"psysml:b730f9b8-2aee-4b25-8522-24c1d8be48bf\" target=\"_top\" title=\"psysml:b730f9b8-2aee-4b25-8522-24c1d8be48bf\" xlink:actuate=\"onRequest\" xlink:href=\"psysml:b730f9b8-2aee-4b25-8522-24c1d8be48bf\" xlink:show=\"new\" xlink:title=\"psysml:b730f9b8-2aee-4b25-8522-24c1d8be48bf\" xlink:type=\"simple\"><path d=\"M591.28,191 C591.28,191 681.96,191 681.96,191 \" fill=\"none\" id=\"E7-backto-E9\" style=\"stroke:#181818;stroke-width:1.0;\"/><polygon fill=\"none\" points=\"578.28,191,584.28,195,590.28,191,584.28,187,578.28,191\" style=\"stroke:#181818;stroke-width:1.0;\"/></a></g><!--MD5=[0a839d0f80c2d72d4b9b307f046d0de8]\n",
       "link E6 to E8--><g id=\"link_E6_E8\"><a href=\"psysml:6df64304-71b9-442a-9c5a-1e2b88c883c2\" target=\"_top\" title=\"psysml:6df64304-71b9-442a-9c5a-1e2b88c883c2\" xlink:actuate=\"onRequest\" xlink:href=\"psysml:6df64304-71b9-442a-9c5a-1e2b88c883c2\" xlink:show=\"new\" xlink:title=\"psysml:6df64304-71b9-442a-9c5a-1e2b88c883c2\" xlink:type=\"simple\"><path d=\"M803.17,124.5 C870.56,124.5 970,124.5 970,124.5 C970,124.5 970,197.42 970,197.42 \" fill=\"none\" id=\"E6-to-E8\" style=\"stroke:#181818;stroke-width:1.0;\"/><polygon fill=\"#181818\" points=\"970,202.42,974,193.42,970,197.42,966,193.42,970,202.42\" style=\"stroke:#181818;stroke-width:1.0;\"/></a></g><!--MD5=[bfc3ddf2e613be37104f658f09af896c]\n",
       "link E9 to E5--><g id=\"link_E9_E5\"><a href=\"psysml:4f6ef349-c790-44fa-bee2-450b697d5295\" target=\"_top\" title=\"psysml:4f6ef349-c790-44fa-bee2-450b697d5295\" xlink:actuate=\"onRequest\" xlink:href=\"psysml:4f6ef349-c790-44fa-bee2-450b697d5295\" xlink:show=\"new\" xlink:title=\"psysml:4f6ef349-c790-44fa-bee2-450b697d5295\" xlink:type=\"simple\"><path d=\"M803.2,184 C882.12,184 1010,184 1010,184 C1010,184 1010,123.83 1010,123.83 \" fill=\"none\" id=\"E9-to-E5\" style=\"stroke:#181818;stroke-width:1.0;\"/><polygon fill=\"#181818\" points=\"1010,118.83,1006,127.83,1010,123.83,1014,127.83,1010,118.83\" style=\"stroke:#181818;stroke-width:1.0;\"/></a></g><!--MD5=[0f36bececdf0dff6e600d6f64214b0f1]\n",
       "link E10 to E2--><g id=\"link_E10_E2\"><a href=\"psysml:609a34b5-dc97-4c6c-a6df-65c8a096be17\" target=\"_top\" title=\"psysml:609a34b5-dc97-4c6c-a6df-65c8a096be17\" xlink:actuate=\"onRequest\" xlink:href=\"psysml:609a34b5-dc97-4c6c-a6df-65c8a096be17\" xlink:show=\"new\" xlink:title=\"psysml:609a34b5-dc97-4c6c-a6df-65c8a096be17\" xlink:type=\"simple\"><path d=\"M331.02,296.5 C331.02,296.5 440.26,296.5 440.26,296.5 \" fill=\"none\" id=\"E10-to-E2\" style=\"stroke:#181818;stroke-width:1.0;\"/><polygon fill=\"#FFFFFF\" points=\"460.26,296.5,441.26,303.5,441.26,289.5,460.26,296.5\" style=\"stroke:#181818;stroke-width:1.0;\"/><ellipse cx=\"435.56\" cy=\"301.5\" fill=\"#181818\" rx=\"2\" ry=\"2\" style=\"stroke:#181818;stroke-width:1.0;\"/><ellipse cx=\"435.56\" cy=\"291.5\" fill=\"#181818\" rx=\"2\" ry=\"2\" style=\"stroke:#181818;stroke-width:1.0;\"/></a></g><!--MD5=[de308be4a2431766a05a907a031c07fc]\n",
       "reverse link E10 to E11--><g id=\"link_E10_E11\"><a href=\"psysml:c2d2b27b-7fc6-4807-8e4f-2ff721b81170\" target=\"_top\" title=\"psysml:c2d2b27b-7fc6-4807-8e4f-2ff721b81170\" xlink:actuate=\"onRequest\" xlink:href=\"psysml:c2d2b27b-7fc6-4807-8e4f-2ff721b81170\" xlink:show=\"new\" xlink:title=\"psysml:c2d2b27b-7fc6-4807-8e4f-2ff721b81170\" xlink:type=\"simple\"><path d=\"M344.02,381.5 C344.02,381.5 390.96,381.5 390.96,381.5 \" fill=\"none\" id=\"E10-backto-E11\" style=\"stroke:#181818;stroke-width:1.0;\"/><polygon fill=\"#181818\" points=\"331.02,381.5,337.02,385.5,343.02,381.5,337.02,377.5,331.02,381.5\" style=\"stroke:#181818;stroke-width:1.0;\"/></a></g><!--MD5=[94adabc162ce7e41b39f13be14fbaeb3]\n",
       "reverse link E11 to E12--><g id=\"link_E11_E12\"><a href=\"psysml:6169d66e-df76-4341-8922-510d8220682d\" target=\"_top\" title=\"psysml:6169d66e-df76-4341-8922-510d8220682d\" xlink:actuate=\"onRequest\" xlink:href=\"psysml:6169d66e-df76-4341-8922-510d8220682d\" xlink:show=\"new\" xlink:title=\"psysml:6169d66e-df76-4341-8922-510d8220682d\" xlink:type=\"simple\"><path d=\"M603.1,401 C603.1,401 649.78,401 649.78,401 \" fill=\"none\" id=\"E11-backto-E12\" style=\"stroke:#181818;stroke-width:1.0;\"/><polygon fill=\"none\" points=\"590.1,401,596.1,405,602.1,401,596.1,397,590.1,401\" style=\"stroke:#181818;stroke-width:1.0;\"/></a></g><!--MD5=[45c2047ce13b04a4df90e095f38df898]\n",
       "reverse link E10 to E13--><g id=\"link_E10_E13\"><a href=\"psysml:35644c29-c95c-484d-865d-45d52f41d7f0\" target=\"_top\" title=\"psysml:35644c29-c95c-484d-865d-45d52f41d7f0\" xlink:actuate=\"onRequest\" xlink:href=\"psysml:35644c29-c95c-484d-865d-45d52f41d7f0\" xlink:show=\"new\" xlink:title=\"psysml:35644c29-c95c-484d-865d-45d52f41d7f0\" xlink:type=\"simple\"><path d=\"M344.1,321.5 C344.1,321.5 697.3,321.5 697.3,321.5 \" fill=\"none\" id=\"E10-backto-E13\" style=\"stroke:#181818;stroke-width:1.0;\"/><polygon fill=\"#181818\" points=\"331.1,321.5,337.1,325.5,343.1,321.5,337.1,317.5,331.1,321.5\" style=\"stroke:#181818;stroke-width:1.0;\"/></a></g><!--MD5=[01db00f33b28669d6d9febea71002831]\n",
       "reverse link E13 to E14--><g id=\"link_E13_E14\"><a href=\"psysml:c0c168b2-26b0-4547-aa2b-bbcbaf752c38\" target=\"_top\" title=\"psysml:c0c168b2-26b0-4547-aa2b-bbcbaf752c38\" xlink:actuate=\"onRequest\" xlink:href=\"psysml:c0c168b2-26b0-4547-aa2b-bbcbaf752c38\" xlink:show=\"new\" xlink:title=\"psysml:c0c168b2-26b0-4547-aa2b-bbcbaf752c38\" xlink:type=\"simple\"><path d=\"M800.52,330 C800.52,330 894.91,330 894.91,330 \" fill=\"none\" id=\"E13-backto-E14\" style=\"stroke:#181818;stroke-width:1.0;\"/><polygon fill=\"none\" points=\"787.52,330,793.52,334,799.52,330,793.52,326,787.52,330\" style=\"stroke:#181818;stroke-width:1.0;\"/></a></g><!--MD5=[d53cb08dffc8689d16e38c8e194e9adc]\n",
       "link E12 to E14--><g id=\"link_E12_E14\"><a href=\"psysml:26455fa8-c2fa-4a88-88b1-f8fb0a781e6d\" target=\"_top\" title=\"psysml:26455fa8-c2fa-4a88-88b1-f8fb0a781e6d\" xlink:actuate=\"onRequest\" xlink:href=\"psysml:26455fa8-c2fa-4a88-88b1-f8fb0a781e6d\" xlink:show=\"new\" xlink:title=\"psysml:26455fa8-c2fa-4a88-88b1-f8fb0a781e6d\" xlink:type=\"simple\"><path d=\"M819,375.32 C819,365 819,355.5 819,355.5 C819,355.5 855.53,355.5 894.78,355.5 \" fill=\"none\" id=\"E12-E14\" style=\"stroke:#181818;stroke-width:3.0;\"/></a></g><!--MD5=[aa86c3ea5d5d651909b26d591e8c586f]\n",
       "@startuml\r\n",
       "skin sysmlbw\r\n",
       "skinparam monochrome true\r\n",
       "skinparam wrapWidth 300\r\n",
       "hide circle\r\n",
       "left to right direction\r\n",
       "skinparam linetype ortho\r\n",
       "\r\n",
       "package \"Flow_Connection_Interface_Example\" as E1  [[psysml:bc0ad4d6-86e0-4866-bdbe-27d395aade10 ]]  {\r\n",
       "comp def \"Vehicle\" as E2  <<(T,blue) part  def>> [[psysml:4f85d539-4aec-4229-8e97-c37a6f04af44 ]] {\r\n",
       "}\r\n",
       "comp def \"FuelInterface\" as E3  <<(T,blue) interface  def>> [[psysml:2ef62ea9-c355-45b6-af3f-8ae8e4b9d41d ]] {\r\n",
       "}\r\n",
       "comp usage \"supplierPort: FuelOutPort  \" as E4  <<(T,blue) port>> [[psysml:06ee3950-4c03-4e51-a384-f37b1d3c4e15 ]] {\r\n",
       "}\r\n",
       "comp usage \"^fuelReturn: Fuel  \" as E5  <<(T,blue) item>> [[psysml:3a0940e9-eae7-47e9-ad9d-0b4c9ddb7fb0 ]] {\r\n",
       "}\r\n",
       "comp usage \"^fuelSupply: Fuel  \" as E6  <<(T,blue) item>> [[psysml:c74963ac-15fb-413b-a377-03c540c14fd8 ]] {\r\n",
       "}\r\n",
       "comp usage \"consumerPort: FuelInPort  \" as E7  <<(T,blue) port>> [[psysml:17d7bbd9-dd12-4775-8ed7-6e823e7059f3 ]] {\r\n",
       "}\r\n",
       "comp usage \"^fuelSupply: Fuel  \" as E8  <<(T,blue) item>> [[psysml:7223f80e-1d85-4d69-af0d-6bf142c1ac69 ]] {\r\n",
       "}\r\n",
       "comp usage \"^fuelReturn: Fuel  \" as E9  <<(T,blue) item>> [[psysml:72e7446a-ea15-444f-a183-9b0e1fe1a364 ]] {\r\n",
       "}\r\n",
       "comp usage \"vehicle: Vehicle  \" as E10  <<(T,blue) part>> [[psysml:46072c9b-c51b-42e7-aeb6-153b21b9472e ]] {\r\n",
       "##//interfaces//##\r\n",
       "noname: FuelInterface connect tankAssy.fuelTankPort to eng.engineFuelPort\r\n",
       "}\r\n",
       "comp usage \"tankAssy: FuelTankAssembly  \" as E11  <<(T,blue) part>> [[psysml:12fe7dff-e2d1-472f-b72c-aa3a54da23c5 ]] {\r\n",
       "}\r\n",
       "comp usage \"^fuelTankPort: FuelOutPort  \" as E12  <<(T,blue) port>> [[psysml:5791f43e-0cb3-4184-9874-db75b0b51730 ]] {\r\n",
       "}\r\n",
       "comp usage \"eng: Engine  \" as E13  <<(T,blue) part>> [[psysml:0b626451-6d08-466a-bd04-63efbbc7ca60 ]] {\r\n",
       "}\r\n",
       "comp usage \"^engineFuelPort: FuelInPort  \" as E14  <<(T,blue) port>> [[psysml:d5e710e2-9c56-4518-8e94-1c7aef47210b ]] {\r\n",
       "}\r\n",
       "}\r\n",
       "E3 o- - E4 [[psysml:90aac024-9bf4-470e-a0b8-e202e5a890e2 ]] \r\n",
       "E4 o- - E5 [[psysml:8a377aa9-259e-482c-b668-7757455b8f27 ]] \r\n",
       "E4 o- - E6 [[psysml:c7ecac30-7672-4e82-8d29-bbbe8765c310 ]] \r\n",
       "E3 o- - E7 [[psysml:316e1086-73e2-435e-85aa-0c3159722366 ]] \r\n",
       "E7 o- - E8 [[psysml:7e6dc185-b0de-4c56-a74b-82750bddfd25 ]] \r\n",
       "E7 o- - E9 [[psysml:b730f9b8-2aee-4b25-8522-24c1d8be48bf ]] \r\n",
       "E6 - -> E8 [[psysml:6df64304-71b9-442a-9c5a-1e2b88c883c2 ]] \r\n",
       "E9 - -> E5 [[psysml:4f6ef349-c790-44fa-bee2-450b697d5295 ]] \r\n",
       "E10 - -:|> E2 [[psysml:609a34b5-dc97-4c6c-a6df-65c8a096be17 ]] \r\n",
       "E10 *- - E11 [[psysml:c2d2b27b-7fc6-4807-8e4f-2ff721b81170 ]] \r\n",
       "E11 o- - E12 [[psysml:6169d66e-df76-4341-8922-510d8220682d ]] \r\n",
       "E10 *- - E13 [[psysml:35644c29-c95c-484d-865d-45d52f41d7f0 ]] \r\n",
       "E13 o- - E14 [[psysml:c0c168b2-26b0-4547-aa2b-bbcbaf752c38 ]] \r\n",
       "E12 -[thickness=3]- E14 [[psysml:26455fa8-c2fa-4a88-88b1-f8fb0a781e6d ]] \r\n",
       "@enduml\r\n",
       "\n",
       "PlantUML version 1.2022.7(Mon Aug 22 11:01:30 GMT-06:00 2022)\n",
       "(EPL source distribution)\n",
       "Java Runtime: OpenJDK Runtime Environment\n",
       "JVM: OpenJDK 64-Bit Server VM\n",
       "Default Encoding: UTF-8\n",
       "Language: en\n",
       "Country: US\n",
       "--></g></svg>"
      ]
     },
     "execution_count": 19,
     "metadata": {},
     "output_type": "execute_result"
    }
   ],
   "source": [
    "%viz --view Tree --style=LR --style=ortholine Flow_Connection_Interface_Example"
   ]
  },
  {
   "cell_type": "code",
   "execution_count": 22,
   "id": "d86a9986-b187-4255-bfe8-6e148c0e2916",
   "metadata": {},
   "outputs": [
    {
     "data": {
      "text/plain": [
       "Package Flow_Connection_Interface_Example (d7ba6b00-1730-4007-8d9d-9c397a41517d)\n"
      ]
     },
     "execution_count": 22,
     "metadata": {},
     "output_type": "execute_result"
    }
   ],
   "source": [
    "package Flow_Connection_Interface_Example {\n",
    "\tprivate import 'Port Example'::*;\n",
    "\t\n",
    "\tpart def Vehicle;\n",
    "\t\n",
    "\tpart vehicle : Vehicle {\n",
    "\t\tpart tankAssy : FuelTankAssembly;\n",
    "\t\tpart eng : Engine;\n",
    "\t\t\n",
    "\t\tflow of Fuel\n",
    "\t\t  from tankAssy.fuelTankPort.fuelSupply\n",
    "\t\t\tto eng.engineFuelPort.fuelSupply;\n",
    "\t\t\t\n",
    "\t\tflow of Fuel\n",
    "\t\t  from eng.engineFuelPort.fuelReturn\n",
    "\t\t\tto tankAssy.fuelTankPort.fuelReturn;\n",
    "\t} \n",
    "}"
   ]
  },
  {
   "cell_type": "code",
   "execution_count": 24,
   "id": "a9b34b2e-75a9-4803-b533-affb1ed4dbb3",
   "metadata": {},
   "outputs": [
    {
     "data": {
      "image/svg+xml": [
       "<?xml version=\"1.0\" encoding=\"UTF-8\" standalone=\"no\"?><svg xmlns=\"http://www.w3.org/2000/svg\" xmlns:xlink=\"http://www.w3.org/1999/xlink\" contentStyleType=\"text/css\" height=\"289px\" preserveAspectRatio=\"none\" style=\"width:1047px;height:289px;background:#FFFFFF;\" version=\"1.1\" viewBox=\"0 0 1047 289\" width=\"1047px\" zoomAndPan=\"magnify\"><defs/><g><!--MD5=[fbc87193dbaf4d95561dea2c320d4a47]\n",
       "cluster E1--><g id=\"cluster_E1\"><a href=\"psysml:d7ba6b00-1730-4007-8d9d-9c397a41517d\" target=\"_top\" title=\"psysml:d7ba6b00-1730-4007-8d9d-9c397a41517d\" xlink:actuate=\"onRequest\" xlink:href=\"psysml:d7ba6b00-1730-4007-8d9d-9c397a41517d\" xlink:show=\"new\" xlink:title=\"psysml:d7ba6b00-1730-4007-8d9d-9c397a41517d\" xlink:type=\"simple\"><polygon fill=\"none\" points=\"16,6,282,6,289,29.6094,1030,29.6094,1030,282,16,282,16,6\" style=\"stroke:#000000;stroke-width:1.5;\"/><line style=\"stroke:#000000;stroke-width:1.5;\" x1=\"16\" x2=\"289\" y1=\"29.6094\" y2=\"29.6094\"/><text fill=\"#000000\" font-family=\"sans-serif\" font-size=\"14\" font-weight=\"bold\" lengthAdjust=\"spacing\" textLength=\"260\" x=\"20\" y=\"22.5332\">Flow_Connection_Interface_Example</text></a></g><!--MD5=[b4997ac47864f28c2f74865a473b2911]\n",
       "class E2--><a href=\"psysml:4f26b0da-731f-4d78-a156-15e45ab8d893\" target=\"_top\" title=\"psysml:4f26b0da-731f-4d78-a156-15e45ab8d893\" xlink:actuate=\"onRequest\" xlink:href=\"psysml:4f26b0da-731f-4d78-a156-15e45ab8d893\" xlink:show=\"new\" xlink:title=\"psysml:4f26b0da-731f-4d78-a156-15e45ab8d893\" xlink:type=\"simple\"><g id=\"elem_E2\"><rect fill=\"#FFFFFF\" height=\"50.7031\" id=\"E2\" style=\"stroke:#181818;stroke-width:0.5;\" width=\"60\" x=\"273.5\" y=\"214.5\"/><text fill=\"#000000\" font-family=\"sans-serif\" font-size=\"12\" font-style=\"italic\" lengthAdjust=\"spacing\" textLength=\"58\" x=\"274.5\" y=\"231.957\">«part  def»</text><text fill=\"#000000\" font-family=\"sans-serif\" font-size=\"14\" lengthAdjust=\"spacing\" textLength=\"46\" x=\"280.5\" y=\"249.127\">Vehicle</text><line style=\"stroke:#181818;stroke-width:0.5;\" x1=\"274.5\" x2=\"332.5\" y1=\"257.2031\" y2=\"257.2031\"/></g></a><!--MD5=[09b614a08d8cba4a07c9adeb5e0fee81]\n",
       "class E3--><a href=\"psysml:0788a716-a896-49ad-b80c-8d90180ceb3a\" target=\"_top\" title=\"psysml:0788a716-a896-49ad-b80c-8d90180ceb3a\" xlink:actuate=\"onRequest\" xlink:href=\"psysml:0788a716-a896-49ad-b80c-8d90180ceb3a\" xlink:show=\"new\" xlink:title=\"psysml:0788a716-a896-49ad-b80c-8d90180ceb3a\" xlink:type=\"simple\"><g id=\"elem_E3\"><rect fill=\"#FFFFFF\" height=\"50.7031\" id=\"E3\" rx=\"10\" ry=\"10\" style=\"stroke:#181818;stroke-width:0.5;\" width=\"112\" x=\"32\" y=\"128.5\"/><text fill=\"#000000\" font-family=\"sans-serif\" font-size=\"12\" font-style=\"italic\" lengthAdjust=\"spacing\" textLength=\"35\" x=\"70.5\" y=\"145.957\">«part»</text><text fill=\"#000000\" font-family=\"sans-serif\" font-size=\"14\" lengthAdjust=\"spacing\" textLength=\"98\" x=\"35\" y=\"163.127\">vehicle: Vehicle</text><line style=\"stroke:#181818;stroke-width:0.5;\" x1=\"33\" x2=\"143\" y1=\"171.2031\" y2=\"171.2031\"/></g></a><!--MD5=[ebbe1d658d1005bcc118a6aa81145e00]\n",
       "class E4--><a href=\"psysml:5806076b-45ec-4f57-bc03-f733d4817dc7\" target=\"_top\" title=\"psysml:5806076b-45ec-4f57-bc03-f733d4817dc7\" xlink:actuate=\"onRequest\" xlink:href=\"psysml:5806076b-45ec-4f57-bc03-f733d4817dc7\" xlink:show=\"new\" xlink:title=\"psysml:5806076b-45ec-4f57-bc03-f733d4817dc7\" xlink:type=\"simple\"><g id=\"elem_E4\"><rect fill=\"#FFFFFF\" height=\"50.7031\" id=\"E4\" rx=\"10\" ry=\"10\" style=\"stroke:#181818;stroke-width:0.5;\" width=\"199\" x=\"204\" y=\"128.5\"/><text fill=\"#000000\" font-family=\"sans-serif\" font-size=\"12\" font-style=\"italic\" lengthAdjust=\"spacing\" textLength=\"35\" x=\"286\" y=\"145.957\">«part»</text><text fill=\"#000000\" font-family=\"sans-serif\" font-size=\"14\" lengthAdjust=\"spacing\" textLength=\"185\" x=\"207\" y=\"163.127\">tankAssy: FuelTankAssembly</text><line style=\"stroke:#181818;stroke-width:0.5;\" x1=\"205\" x2=\"402\" y1=\"171.2031\" y2=\"171.2031\"/></g></a><!--MD5=[270fce915f116d4de14055a7c1d9a0f3]\n",
       "class E5--><a href=\"psysml:5791f43e-0cb3-4184-9874-db75b0b51730\" target=\"_top\" title=\"psysml:5791f43e-0cb3-4184-9874-db75b0b51730\" xlink:actuate=\"onRequest\" xlink:href=\"psysml:5791f43e-0cb3-4184-9874-db75b0b51730\" xlink:show=\"new\" xlink:title=\"psysml:5791f43e-0cb3-4184-9874-db75b0b51730\" xlink:type=\"simple\"><g id=\"elem_E5\"><rect fill=\"#FFFFFF\" height=\"50.7031\" id=\"E5\" rx=\"10\" ry=\"10\" style=\"stroke:#181818;stroke-width:0.5;\" width=\"185\" x=\"465\" y=\"165.5\"/><text fill=\"#000000\" font-family=\"sans-serif\" font-size=\"12\" font-style=\"italic\" lengthAdjust=\"spacing\" textLength=\"35\" x=\"540\" y=\"182.957\">«port»</text><text fill=\"#000000\" font-family=\"sans-serif\" font-size=\"14\" lengthAdjust=\"spacing\" textLength=\"171\" x=\"468\" y=\"200.127\">^fuelTankPort: FuelOutPort</text><line style=\"stroke:#181818;stroke-width:0.5;\" x1=\"466\" x2=\"649\" y1=\"208.2031\" y2=\"208.2031\"/></g></a><!--MD5=[60a26617385b1d2d0262a64233df1f8d]\n",
       "class E6--><a href=\"psysml:3a0940e9-eae7-47e9-ad9d-0b4c9ddb7fb0\" target=\"_top\" title=\"psysml:3a0940e9-eae7-47e9-ad9d-0b4c9ddb7fb0\" xlink:actuate=\"onRequest\" xlink:href=\"psysml:3a0940e9-eae7-47e9-ad9d-0b4c9ddb7fb0\" xlink:show=\"new\" xlink:title=\"psysml:3a0940e9-eae7-47e9-ad9d-0b4c9ddb7fb0\" xlink:type=\"simple\"><g id=\"elem_E6\"><rect fill=\"#FFFFFF\" height=\"50.7031\" id=\"E6\" rx=\"10\" ry=\"10\" style=\"stroke:#181818;stroke-width:0.5;\" width=\"121\" x=\"893\" y=\"171.5\"/><text fill=\"#000000\" font-family=\"sans-serif\" font-size=\"12\" font-style=\"italic\" lengthAdjust=\"spacing\" textLength=\"38\" x=\"934.5\" y=\"188.957\">«item»</text><text fill=\"#000000\" font-family=\"sans-serif\" font-size=\"14\" lengthAdjust=\"spacing\" textLength=\"107\" x=\"896\" y=\"206.127\">^fuelReturn: Fuel</text><line style=\"stroke:#181818;stroke-width:0.5;\" x1=\"894\" x2=\"1013\" y1=\"214.2031\" y2=\"214.2031\"/></g></a><!--MD5=[2156ba9850f5573cc1fc38a6a4b2f02b]\n",
       "class E7--><a href=\"psysml:c74963ac-15fb-413b-a377-03c540c14fd8\" target=\"_top\" title=\"psysml:c74963ac-15fb-413b-a377-03c540c14fd8\" xlink:actuate=\"onRequest\" xlink:href=\"psysml:c74963ac-15fb-413b-a377-03c540c14fd8\" xlink:show=\"new\" xlink:title=\"psysml:c74963ac-15fb-413b-a377-03c540c14fd8\" xlink:type=\"simple\"><g id=\"elem_E7\"><rect fill=\"#FFFFFF\" height=\"50.7031\" id=\"E7\" rx=\"10\" ry=\"10\" style=\"stroke:#181818;stroke-width:0.5;\" width=\"121\" x=\"712\" y=\"165.5\"/><text fill=\"#000000\" font-family=\"sans-serif\" font-size=\"12\" font-style=\"italic\" lengthAdjust=\"spacing\" textLength=\"38\" x=\"753.5\" y=\"182.957\">«item»</text><text fill=\"#000000\" font-family=\"sans-serif\" font-size=\"14\" lengthAdjust=\"spacing\" textLength=\"107\" x=\"715\" y=\"200.127\">^fuelSupply: Fuel</text><line style=\"stroke:#181818;stroke-width:0.5;\" x1=\"713\" x2=\"832\" y1=\"208.2031\" y2=\"208.2031\"/></g></a><!--MD5=[b9389687b975829384b498ac4b7476b2]\n",
       "class E8--><a href=\"psysml:aba37b68-a75a-4377-9779-92a82071ebab\" target=\"_top\" title=\"psysml:aba37b68-a75a-4377-9779-92a82071ebab\" xlink:actuate=\"onRequest\" xlink:href=\"psysml:aba37b68-a75a-4377-9779-92a82071ebab\" xlink:show=\"new\" xlink:title=\"psysml:aba37b68-a75a-4377-9779-92a82071ebab\" xlink:type=\"simple\"><g id=\"elem_E8\"><rect fill=\"#FFFFFF\" height=\"50.7031\" id=\"E8\" rx=\"10\" ry=\"10\" style=\"stroke:#181818;stroke-width:0.5;\" width=\"90\" x=\"258.5\" y=\"42.5\"/><text fill=\"#000000\" font-family=\"sans-serif\" font-size=\"12\" font-style=\"italic\" lengthAdjust=\"spacing\" textLength=\"35\" x=\"286\" y=\"59.957\">«part»</text><text fill=\"#000000\" font-family=\"sans-serif\" font-size=\"14\" lengthAdjust=\"spacing\" textLength=\"76\" x=\"261.5\" y=\"77.127\">eng: Engine</text><line style=\"stroke:#181818;stroke-width:0.5;\" x1=\"259.5\" x2=\"347.5\" y1=\"85.2031\" y2=\"85.2031\"/></g></a><!--MD5=[fd4143e9d270a159db93a4ea2a975926]\n",
       "class E9--><a href=\"psysml:d5e710e2-9c56-4518-8e94-1c7aef47210b\" target=\"_top\" title=\"psysml:d5e710e2-9c56-4518-8e94-1c7aef47210b\" xlink:actuate=\"onRequest\" xlink:href=\"psysml:d5e710e2-9c56-4518-8e94-1c7aef47210b\" xlink:show=\"new\" xlink:title=\"psysml:d5e710e2-9c56-4518-8e94-1c7aef47210b\" xlink:type=\"simple\"><g id=\"elem_E9\"><rect fill=\"#FFFFFF\" height=\"50.7031\" id=\"E9\" rx=\"10\" ry=\"10\" style=\"stroke:#181818;stroke-width:0.5;\" width=\"189\" x=\"463\" y=\"42.5\"/><text fill=\"#000000\" font-family=\"sans-serif\" font-size=\"12\" font-style=\"italic\" lengthAdjust=\"spacing\" textLength=\"35\" x=\"540\" y=\"59.957\">«port»</text><text fill=\"#000000\" font-family=\"sans-serif\" font-size=\"14\" lengthAdjust=\"spacing\" textLength=\"175\" x=\"466\" y=\"77.127\">^engineFuelPort: FuelInPort</text><line style=\"stroke:#181818;stroke-width:0.5;\" x1=\"464\" x2=\"651\" y1=\"85.2031\" y2=\"85.2031\"/></g></a><!--MD5=[96f4274e9e20536e775497830990834d]\n",
       "class E10--><a href=\"psysml:7223f80e-1d85-4d69-af0d-6bf142c1ac69\" target=\"_top\" title=\"psysml:7223f80e-1d85-4d69-af0d-6bf142c1ac69\" xlink:actuate=\"onRequest\" xlink:href=\"psysml:7223f80e-1d85-4d69-af0d-6bf142c1ac69\" xlink:show=\"new\" xlink:title=\"psysml:7223f80e-1d85-4d69-af0d-6bf142c1ac69\" xlink:type=\"simple\"><g id=\"elem_E10\"><rect fill=\"#FFFFFF\" height=\"50.7031\" id=\"E10\" rx=\"10\" ry=\"10\" style=\"stroke:#181818;stroke-width:0.5;\" width=\"121\" x=\"893\" y=\"64.5\"/><text fill=\"#000000\" font-family=\"sans-serif\" font-size=\"12\" font-style=\"italic\" lengthAdjust=\"spacing\" textLength=\"38\" x=\"934.5\" y=\"81.957\">«item»</text><text fill=\"#000000\" font-family=\"sans-serif\" font-size=\"14\" lengthAdjust=\"spacing\" textLength=\"107\" x=\"896\" y=\"99.127\">^fuelSupply: Fuel</text><line style=\"stroke:#181818;stroke-width:0.5;\" x1=\"894\" x2=\"1013\" y1=\"107.2031\" y2=\"107.2031\"/></g></a><!--MD5=[1dd1bfd58a279cf63c5f349dbc8fc6a1]\n",
       "class E11--><a href=\"psysml:72e7446a-ea15-444f-a183-9b0e1fe1a364\" target=\"_top\" title=\"psysml:72e7446a-ea15-444f-a183-9b0e1fe1a364\" xlink:actuate=\"onRequest\" xlink:href=\"psysml:72e7446a-ea15-444f-a183-9b0e1fe1a364\" xlink:show=\"new\" xlink:title=\"psysml:72e7446a-ea15-444f-a183-9b0e1fe1a364\" xlink:type=\"simple\"><g id=\"elem_E11\"><rect fill=\"#FFFFFF\" height=\"50.7031\" id=\"E11\" rx=\"10\" ry=\"10\" style=\"stroke:#181818;stroke-width:0.5;\" width=\"121\" x=\"712\" y=\"79.5\"/><text fill=\"#000000\" font-family=\"sans-serif\" font-size=\"12\" font-style=\"italic\" lengthAdjust=\"spacing\" textLength=\"38\" x=\"753.5\" y=\"96.957\">«item»</text><text fill=\"#000000\" font-family=\"sans-serif\" font-size=\"14\" lengthAdjust=\"spacing\" textLength=\"107\" x=\"715\" y=\"114.127\">^fuelReturn: Fuel</text><line style=\"stroke:#181818;stroke-width:0.5;\" x1=\"713\" x2=\"832\" y1=\"122.2031\" y2=\"122.2031\"/></g></a><!--MD5=[05d275557350bfb9b23a4ef7222b4c39]\n",
       "link E3 to E2--><g id=\"link_E3_E2\"><a href=\"psysml:f52c21e5-6811-4df7-a323-a89cf3b6b2cc\" target=\"_top\" title=\"psysml:f52c21e5-6811-4df7-a323-a89cf3b6b2cc\" xlink:actuate=\"onRequest\" xlink:href=\"psysml:f52c21e5-6811-4df7-a323-a89cf3b6b2cc\" xlink:show=\"new\" xlink:title=\"psysml:f52c21e5-6811-4df7-a323-a89cf3b6b2cc\" xlink:type=\"simple\"><path d=\"M88,179.8 C88,205.13 88,240 88,240 C88,240 253.08,240 253.08,240 \" fill=\"none\" id=\"E3-to-E2\" style=\"stroke:#181818;stroke-width:1.0;\"/><polygon fill=\"#FFFFFF\" points=\"273.08,240,254.08,247,254.08,233,273.08,240\" style=\"stroke:#181818;stroke-width:1.0;\"/><ellipse cx=\"248.38\" cy=\"245\" fill=\"#181818\" rx=\"2\" ry=\"2\" style=\"stroke:#181818;stroke-width:1.0;\"/><ellipse cx=\"248.38\" cy=\"235\" fill=\"#181818\" rx=\"2\" ry=\"2\" style=\"stroke:#181818;stroke-width:1.0;\"/></a></g><!--MD5=[4672eba38e49728da53d11aeb285b987]\n",
       "reverse link E3 to E4--><g id=\"link_E3_E4\"><a href=\"psysml:17a1c7cc-6deb-4dcb-9f6f-aca529200a13\" target=\"_top\" title=\"psysml:17a1c7cc-6deb-4dcb-9f6f-aca529200a13\" xlink:actuate=\"onRequest\" xlink:href=\"psysml:17a1c7cc-6deb-4dcb-9f6f-aca529200a13\" xlink:show=\"new\" xlink:title=\"psysml:17a1c7cc-6deb-4dcb-9f6f-aca529200a13\" xlink:type=\"simple\"><path d=\"M157.06,154 C157.06,154 203.89,154 203.89,154 \" fill=\"none\" id=\"E3-backto-E4\" style=\"stroke:#181818;stroke-width:1.0;\"/><polygon fill=\"#181818\" points=\"144.06,154,150.06,158,156.06,154,150.06,150,144.06,154\" style=\"stroke:#181818;stroke-width:1.0;\"/></a></g><!--MD5=[62aa6af11e70f752912c1cb0466f24f7]\n",
       "reverse link E4 to E5--><g id=\"link_E4_E5\"><a href=\"psysml:6169d66e-df76-4341-8922-510d8220682d\" target=\"_top\" title=\"psysml:6169d66e-df76-4341-8922-510d8220682d\" xlink:actuate=\"onRequest\" xlink:href=\"psysml:6169d66e-df76-4341-8922-510d8220682d\" xlink:show=\"new\" xlink:title=\"psysml:6169d66e-df76-4341-8922-510d8220682d\" xlink:type=\"simple\"><path d=\"M416.16,172.5 C416.16,172.5 464.76,172.5 464.76,172.5 \" fill=\"none\" id=\"E4-backto-E5\" style=\"stroke:#181818;stroke-width:1.0;\"/><polygon fill=\"none\" points=\"403.16,172.5,409.16,176.5,415.16,172.5,409.16,168.5,403.16,172.5\" style=\"stroke:#181818;stroke-width:1.0;\"/></a></g><!--MD5=[85d356282659285ab4b2cfe2f634dd2b]\n",
       "reverse link E5 to E6--><g id=\"link_E5_E6\"><a href=\"psysml:8a377aa9-259e-482c-b668-7757455b8f27\" target=\"_top\" title=\"psysml:8a377aa9-259e-482c-b668-7757455b8f27\" xlink:actuate=\"onRequest\" xlink:href=\"psysml:8a377aa9-259e-482c-b668-7757455b8f27\" xlink:show=\"new\" xlink:title=\"psysml:8a377aa9-259e-482c-b668-7757455b8f27\" xlink:type=\"simple\"><path d=\"M558,152.49 C558,152.49 558,148 558,148 C558,148 934,148 934,148 C934,148 934,159.5 934,171.35 \" fill=\"none\" id=\"E5-backto-E6\" style=\"stroke:#181818;stroke-width:1.0;\"/><polygon fill=\"none\" points=\"558,165.49,562,159.49,558,153.49,554,159.49,558,165.49\" style=\"stroke:#181818;stroke-width:1.0;\"/></a></g><!--MD5=[452b418e7f8a40397a49b8c0a78acc5b]\n",
       "reverse link E5 to E7--><g id=\"link_E5_E7\"><a href=\"psysml:c7ecac30-7672-4e82-8d29-bbbe8765c310\" target=\"_top\" title=\"psysml:c7ecac30-7672-4e82-8d29-bbbe8765c310\" xlink:actuate=\"onRequest\" xlink:href=\"psysml:c7ecac30-7672-4e82-8d29-bbbe8765c310\" xlink:show=\"new\" xlink:title=\"psysml:c7ecac30-7672-4e82-8d29-bbbe8765c310\" xlink:type=\"simple\"><path d=\"M663.24,191 C663.24,191 711.69,191 711.69,191 \" fill=\"none\" id=\"E5-backto-E7\" style=\"stroke:#181818;stroke-width:1.0;\"/><polygon fill=\"none\" points=\"650.24,191,656.24,195,662.24,191,656.24,187,650.24,191\" style=\"stroke:#181818;stroke-width:1.0;\"/></a></g><!--MD5=[4cb75b73ec3682b8f7f8edc9cc86126a]\n",
       "reverse link E3 to E8--><g id=\"link_E3_E8\"><a href=\"psysml:394681e9-e59a-4a96-9e01-f2c2db74aee2\" target=\"_top\" title=\"psysml:394681e9-e59a-4a96-9e01-f2c2db74aee2\" xlink:actuate=\"onRequest\" xlink:href=\"psysml:394681e9-e59a-4a96-9e01-f2c2db74aee2\" xlink:show=\"new\" xlink:title=\"psysml:394681e9-e59a-4a96-9e01-f2c2db74aee2\" xlink:type=\"simple\"><path d=\"M88,115.2 C88,115.2 88,68 88,68 C88,68 195.13,68 258.32,68 \" fill=\"none\" id=\"E3-backto-E8\" style=\"stroke:#181818;stroke-width:1.0;\"/><polygon fill=\"#181818\" points=\"88,128.2,92,122.2,88,116.2,84,122.2,88,128.2\" style=\"stroke:#181818;stroke-width:1.0;\"/></a></g><!--MD5=[22f5b4bae7e060dce8a1c8021efdb95b]\n",
       "reverse link E8 to E9--><g id=\"link_E8_E9\"><a href=\"psysml:c0c168b2-26b0-4547-aa2b-bbcbaf752c38\" target=\"_top\" title=\"psysml:c0c168b2-26b0-4547-aa2b-bbcbaf752c38\" xlink:actuate=\"onRequest\" xlink:href=\"psysml:c0c168b2-26b0-4547-aa2b-bbcbaf752c38\" xlink:show=\"new\" xlink:title=\"psysml:c0c168b2-26b0-4547-aa2b-bbcbaf752c38\" xlink:type=\"simple\"><path d=\"M361.62,68 C361.62,68 462.83,68 462.83,68 \" fill=\"none\" id=\"E8-backto-E9\" style=\"stroke:#181818;stroke-width:1.0;\"/><polygon fill=\"none\" points=\"348.62,68,354.62,72,360.62,68,354.62,64,348.62,68\" style=\"stroke:#181818;stroke-width:1.0;\"/></a></g><!--MD5=[23ac544a70576c3e717098101004234c]\n",
       "reverse link E9 to E10--><g id=\"link_E9_E10\"><a href=\"psysml:7e6dc185-b0de-4c56-a74b-82750bddfd25\" target=\"_top\" title=\"psysml:7e6dc185-b0de-4c56-a74b-82750bddfd25\" xlink:actuate=\"onRequest\" xlink:href=\"psysml:7e6dc185-b0de-4c56-a74b-82750bddfd25\" xlink:show=\"new\" xlink:title=\"psysml:7e6dc185-b0de-4c56-a74b-82750bddfd25\" xlink:type=\"simple\"><path d=\"M665.1,72 C665.1,72 892.89,72 892.89,72 \" fill=\"none\" id=\"E9-backto-E10\" style=\"stroke:#181818;stroke-width:1.0;\"/><polygon fill=\"none\" points=\"652.1,72,658.1,76,664.1,72,658.1,68,652.1,72\" style=\"stroke:#181818;stroke-width:1.0;\"/></a></g><!--MD5=[1fc04a95fd77ad5ce46c1a3027516051]\n",
       "reverse link E9 to E11--><g id=\"link_E9_E11\"><a href=\"psysml:b730f9b8-2aee-4b25-8522-24c1d8be48bf\" target=\"_top\" title=\"psysml:b730f9b8-2aee-4b25-8522-24c1d8be48bf\" xlink:actuate=\"onRequest\" xlink:href=\"psysml:b730f9b8-2aee-4b25-8522-24c1d8be48bf\" xlink:show=\"new\" xlink:title=\"psysml:b730f9b8-2aee-4b25-8522-24c1d8be48bf\" xlink:type=\"simple\"><path d=\"M665.12,86.5 C665.12,86.5 711.87,86.5 711.87,86.5 \" fill=\"none\" id=\"E9-backto-E11\" style=\"stroke:#181818;stroke-width:1.0;\"/><polygon fill=\"none\" points=\"652.12,86.5,658.1244,90.4934,664.12,86.4868,658.1156,82.4934,652.12,86.5\" style=\"stroke:#181818;stroke-width:1.0;\"/></a></g><!--MD5=[989f225811f638790abf9f05f3edaf99]\n",
       "link E7 to E10--><g id=\"link_E7_E10\"><a href=\"psysml:9bfecf73-e9ee-4a76-8932-c89d251869ac\" target=\"_top\" title=\"psysml:9bfecf73-e9ee-4a76-8932-c89d251869ac\" xlink:actuate=\"onRequest\" xlink:href=\"psysml:9bfecf73-e9ee-4a76-8932-c89d251869ac\" xlink:show=\"new\" xlink:title=\"psysml:9bfecf73-e9ee-4a76-8932-c89d251869ac\" xlink:type=\"simple\"><path d=\"M833.12,194 C849.6,194 863,194 863,194 C863,194 863,97.5 863,97.5 C863,97.5 887.88,97.5 887.88,97.5 \" fill=\"none\" id=\"E7-to-E10\" style=\"stroke:#181818;stroke-width:1.0;\"/><polygon fill=\"#181818\" points=\"892.88,97.5,883.88,93.5,887.88,97.5,883.88,101.5,892.88,97.5\" style=\"stroke:#181818;stroke-width:1.0;\"/><text fill=\"#000000\" font-family=\"sans-serif\" font-size=\"13\" lengthAdjust=\"spacing\" textLength=\"33\" x=\"864\" y=\"162.7451\">: Fuel</text></a></g><!--MD5=[2192b6cdc794c412f24c2a771be11908]\n",
       "link E11 to E6--><g id=\"link_E11_E6\"><a href=\"psysml:8f3b2a29-6234-4f2b-a7bf-22487c65117a\" target=\"_top\" title=\"psysml:8f3b2a29-6234-4f2b-a7bf-22487c65117a\" xlink:actuate=\"onRequest\" xlink:href=\"psysml:8f3b2a29-6234-4f2b-a7bf-22487c65117a\" xlink:show=\"new\" xlink:title=\"psysml:8f3b2a29-6234-4f2b-a7bf-22487c65117a\" xlink:type=\"simple\"><path d=\"M833.23,123 C892.56,123 974,123 974,123 C974,123 974,166.12 974,166.12 \" fill=\"none\" id=\"E11-to-E6\" style=\"stroke:#181818;stroke-width:1.0;\"/><polygon fill=\"#181818\" points=\"974,171.12,978,162.12,974,166.12,970,162.12,974,171.12\" style=\"stroke:#181818;stroke-width:1.0;\"/><text fill=\"#000000\" font-family=\"sans-serif\" font-size=\"13\" lengthAdjust=\"spacing\" textLength=\"33\" x=\"891.17\" y=\"137.4951\">: Fuel</text></a></g><!--MD5=[a0ed399740b839cae24bfa0668d84aae]\n",
       "@startuml\r\n",
       "skin sysmlbw\r\n",
       "skinparam monochrome true\r\n",
       "skinparam wrapWidth 300\r\n",
       "hide circle\r\n",
       "left to right direction\r\n",
       "skinparam linetype ortho\r\n",
       "\r\n",
       "package \"Flow_Connection_Interface_Example\" as E1  [[psysml:d7ba6b00-1730-4007-8d9d-9c397a41517d ]]  {\r\n",
       "comp def \"Vehicle\" as E2  <<(T,blue) part  def>> [[psysml:4f26b0da-731f-4d78-a156-15e45ab8d893 ]] {\r\n",
       "}\r\n",
       "comp usage \"vehicle: Vehicle  \" as E3  <<(T,blue) part>> [[psysml:0788a716-a896-49ad-b80c-8d90180ceb3a ]] {\r\n",
       "}\r\n",
       "comp usage \"tankAssy: FuelTankAssembly  \" as E4  <<(T,blue) part>> [[psysml:5806076b-45ec-4f57-bc03-f733d4817dc7 ]] {\r\n",
       "}\r\n",
       "comp usage \"^fuelTankPort: FuelOutPort  \" as E5  <<(T,blue) port>> [[psysml:5791f43e-0cb3-4184-9874-db75b0b51730 ]] {\r\n",
       "}\r\n",
       "comp usage \"^fuelReturn: Fuel  \" as E6  <<(T,blue) item>> [[psysml:3a0940e9-eae7-47e9-ad9d-0b4c9ddb7fb0 ]] {\r\n",
       "}\r\n",
       "comp usage \"^fuelSupply: Fuel  \" as E7  <<(T,blue) item>> [[psysml:c74963ac-15fb-413b-a377-03c540c14fd8 ]] {\r\n",
       "}\r\n",
       "comp usage \"eng: Engine  \" as E8  <<(T,blue) part>> [[psysml:aba37b68-a75a-4377-9779-92a82071ebab ]] {\r\n",
       "}\r\n",
       "comp usage \"^engineFuelPort: FuelInPort  \" as E9  <<(T,blue) port>> [[psysml:d5e710e2-9c56-4518-8e94-1c7aef47210b ]] {\r\n",
       "}\r\n",
       "comp usage \"^fuelSupply: Fuel  \" as E10  <<(T,blue) item>> [[psysml:7223f80e-1d85-4d69-af0d-6bf142c1ac69 ]] {\r\n",
       "}\r\n",
       "comp usage \"^fuelReturn: Fuel  \" as E11  <<(T,blue) item>> [[psysml:72e7446a-ea15-444f-a183-9b0e1fe1a364 ]] {\r\n",
       "}\r\n",
       "}\r\n",
       "E3 - -:|> E2 [[psysml:f52c21e5-6811-4df7-a323-a89cf3b6b2cc ]] \r\n",
       "E3 *- - E4 [[psysml:17a1c7cc-6deb-4dcb-9f6f-aca529200a13 ]] \r\n",
       "E4 o- - E5 [[psysml:6169d66e-df76-4341-8922-510d8220682d ]] \r\n",
       "E5 o- - E6 [[psysml:8a377aa9-259e-482c-b668-7757455b8f27 ]] \r\n",
       "E5 o- - E7 [[psysml:c7ecac30-7672-4e82-8d29-bbbe8765c310 ]] \r\n",
       "E3 *- - E8 [[psysml:394681e9-e59a-4a96-9e01-f2c2db74aee2 ]] \r\n",
       "E8 o- - E9 [[psysml:c0c168b2-26b0-4547-aa2b-bbcbaf752c38 ]] \r\n",
       "E9 o- - E10 [[psysml:7e6dc185-b0de-4c56-a74b-82750bddfd25 ]] \r\n",
       "E9 o- - E11 [[psysml:b730f9b8-2aee-4b25-8522-24c1d8be48bf ]] \r\n",
       "E7 - -> E10 [[psysml:9bfecf73-e9ee-4a76-8932-c89d251869ac ]] : : Fuel\r\n",
       "E11 - -> E6 [[psysml:8f3b2a29-6234-4f2b-a7bf-22487c65117a ]] : : Fuel\r\n",
       "@enduml\r\n",
       "\n",
       "PlantUML version 1.2022.7(Mon Aug 22 11:01:30 GMT-06:00 2022)\n",
       "(EPL source distribution)\n",
       "Java Runtime: OpenJDK Runtime Environment\n",
       "JVM: OpenJDK 64-Bit Server VM\n",
       "Default Encoding: UTF-8\n",
       "Language: en\n",
       "Country: US\n",
       "--></g></svg>"
      ]
     },
     "execution_count": 24,
     "metadata": {},
     "output_type": "execute_result"
    }
   ],
   "source": [
    "%viz --view Tree --style=LR --style=ortholine Flow_Connection_Interface_Example"
   ]
  },
  {
   "cell_type": "code",
   "execution_count": null,
   "id": "27dc55b9-9138-4bfa-8117-44da98522c67",
   "metadata": {},
   "outputs": [],
   "source": []
  }
 ],
 "metadata": {
  "kernelspec": {
   "display_name": "SysML [conda env:base] *",
   "language": "sysml",
   "name": "conda-base-sysml"
  },
  "language_info": {
   "codemirror_mode": "sysml",
   "file_extension": ".sysml",
   "mimetype": "text/x-sysml",
   "name": "SysML",
   "pygments_lexer": "java",
   "version": "1.0.0"
  }
 },
 "nbformat": 4,
 "nbformat_minor": 5
}
