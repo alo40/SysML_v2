{
 "cells": [
  {
   "cell_type": "code",
   "execution_count": 1,
   "id": "1912d8cf-fbaf-4a5a-91dc-c07851c832c4",
   "metadata": {
    "scrolled": true
   },
   "outputs": [
    {
     "data": {
      "text/plain": [
       "Usage: %viz [--view=<VIEW>] [--style=<STYLE>...] <NAME> [<NAME>...]\n",
       "\n",
       "Visualize model elements of <NAME>(s). <NAME>s must be fully qualified.\n",
       "\n",
       "<VIEW> is case insensitive and possible candidates are:\n",
       "   DEFAULT\t\tAutomatically choose an appropriate view from the given model element names\n",
       "   TREE\t\t\tShow a tree-structural view, like a Block Definition Diagram (BDD)\n",
       "   INTERCONNECTION\tShow an interconnection view, like an Internal Block Diagram (IBD)\n",
       "   STATE\t\tShow state machines\n",
       "   ACTION\t\tShow actions like an activity diagram\n",
       "   SEQUENCE\t\tShow events and messages in a sequence diagram\n",
       "   MIXED\t\tShow multiple views\n",
       "\n",
       "<STYLE> is also case insensitive. Multiple --style options are allowed.  The possible style names are:\n",
       "  DEFAULT\t\tStandard B&&W\n",
       "  STDCOLOR\t\tStandard style with colors\n",
       "  PLANTUML\t\tPlantUML Style\n",
       "  TB\t\t\tTop-to-Bottom orientation\n",
       "  LR\t\t\tLeft-to-Right orientation\n",
       "  POLYLINE\t\tPolyline style\n",
       "  ORTHOLINE\t\tOrthogonal line style\n",
       "  SHOWLIB\t\tShow elements of the standard libraries\n",
       "  SHOWINHERITED\t\tShow inherited members\n",
       "  COMPMOST\t\tShow as many memberships in a compartment as possible\n",
       "  COMPTREE\t\tShow nested ports in a compartment\n",
       "  SHOWIMPORTED\t\tShow imported elements\n",
       "  HIDEMETADATA\t\tHide metadata\n",
       "  SHOWMETACLASS\t\tShow metaclasses of metaobjects\n",
       "  EVAL\t\tEvaluate expressions\n",
       "  NODEMULTIPLICITY\t\tShow multiplicities in nodes\n",
       "  EDGEMULTIPLICITY\t\tShow multiplicities on edges\n",
       "  IMPLICITMULTIPLICITY\t\tShow implicit multiplicities\n",
       "\n",
       "Example:\n",
       "\t%viz --view Tree --style LR --style ortholine Pkg1::PartDef Pkg1::Pkg2::partUsage\n",
       "should visualize Pkg1::PartDef and Pkg1::Pkg2::partUsage with a tree view ordered in the left-to-right direction with orthogonal lines.\n"
      ]
     },
     "execution_count": 1,
     "metadata": {},
     "output_type": "execute_result"
    }
   ],
   "source": [
    "%help %viz"
   ]
  },
  {
   "cell_type": "code",
   "execution_count": 32,
   "id": "73ef251a-f01e-4e1f-9769-0103a338e30e",
   "metadata": {},
   "outputs": [
    {
     "data": {
      "text/plain": [
       "Package Requirement Definitions (365f2864-bc39-4ac0-bed6-3c4a120cba7d)\n"
      ]
     },
     "execution_count": 32,
     "metadata": {},
     "output_type": "execute_result"
    }
   ],
   "source": [
    "package 'Requirement Definitions' {\n",
    "    private import SI::*;\n",
    "\n",
    "    part def Vehicle {\n",
    "        attribute fuelMass;\n",
    "        attribute fuelFullMass;\n",
    "    }\n",
    "\n",
    "    requirement <'1'> VehicleMassLimitationRequirement {\n",
    "        doc /* The actual mass of the subject shall be less or equal than 2000kg. */\n",
    "        attribute massReqd;\n",
    "        attribute MaxMass=2000[kg];\n",
    "        attribute actualMass=\"Fancy Rechnung\";\n",
    "        require constraint { actualMass <= MaxMass }\n",
    "    }\n",
    "}"
   ]
  },
  {
   "cell_type": "code",
   "execution_count": 36,
   "id": "91a807a7-c828-4fca-ba9d-e0c97f7b2c97",
   "metadata": {},
   "outputs": [
    {
     "name": "stderr",
     "output_type": "stream",
     "text": [
      "ERROR:A requirement must be typed by one requirement definition. (36.sysml line : 5 column : 2)\n",
      "ERROR:Features must have at least one type (36.sysml line : 5 column : 2)\n"
     ]
    },
    {
     "data": {
      "text/plain": []
     },
     "execution_count": 36,
     "metadata": {},
     "output_type": "execute_result"
    }
   ],
   "source": [
    "package 'Requirement Usages' {\n",
    "\tprivate import SI::*;\n",
    "\tprivate import 'Requirement Definitions'::*;\n",
    "\t\n",
    "\trequirement <'1.1'> fullVehicleMassLimit : VehicleMassLimitationRequirement {\n",
    "\t\tsubject vehicle : Vehicle;\n",
    "\t\tattribute :>> massReqd = 2000[kg];\n",
    "\t\t\n",
    "\t\t// assume constraint {\n",
    "\t\t// \tdoc /* Full tank is full. */\n",
    "\t\t// \tvehicle.fuelMass == vehicle.fuelFullMass\n",
    "\t\t// }\n",
    "\t}\n",
    "\t\n",
    "\t// requirement <'1.2'> emptyVehicleMassLimit : VehicleMassLimitationRequirement {\n",
    "\t// \tsubject vehicle : Vehicle;\n",
    "\t// \tattribute :>> massReqd = 1500[kg];\n",
    "\t\t\n",
    "\t// \tassume constraint {\n",
    "\t// \t\tdoc /* Full tank is empty. */\n",
    "\t// \t\tvehicle.fuelMass == 0[kg]\n",
    "\t// \t}\n",
    "\t// }\n",
    "\t\n",
    "}"
   ]
  },
  {
   "cell_type": "code",
   "execution_count": null,
   "id": "9d6de066-c0bd-4da1-8762-4ba1e84e4d21",
   "metadata": {},
   "outputs": [],
   "source": []
  }
 ],
 "metadata": {
  "kernelspec": {
   "display_name": "SysML [conda env:base] *",
   "language": "sysml",
   "name": "conda-base-sysml"
  },
  "language_info": {
   "codemirror_mode": "sysml",
   "file_extension": ".sysml",
   "mimetype": "text/x-sysml",
   "name": "SysML",
   "pygments_lexer": "java",
   "version": "1.0.0"
  }
 },
 "nbformat": 4,
 "nbformat_minor": 5
}
