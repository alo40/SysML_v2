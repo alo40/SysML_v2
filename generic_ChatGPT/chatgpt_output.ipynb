{
 "cells": [
  {
   "cell_type": "markdown",
   "id": "9439a2d6",
   "metadata": {},
   "source": [
    "User: create a basic template for an automotive system using sysmlv2"
   ]
  },
  {
   "cell_type": "code",
   "execution_count": null,
   "id": "0781c555-7044-4bc9-b5d7-b4be1b3fce6f",
   "metadata": {
    "vscode": {
     "languageId": "sysml"
    }
   },
   "outputs": [
    {
     "data": {
      "text/plain": [
       "Package AutomotiveSystem (a0fcf868-a6ee-4ad0-9da8-3abd24b2dc34)\n"
      ]
     },
     "execution_count": 1,
     "metadata": {},
     "output_type": "execute_result"
    }
   ],
   "source": [
    "package AutomotiveSystem {\n",
    "\n",
    "  part Vehicle {\n",
    "    part Subcomponent;\n",
    "    // attribute maxSpeed: km/h;\n",
    "    // attribute weight: kg;\n",
    "    // attribute fuelType: String;\n",
    "  }\n",
    "\n",
    "  part Engine {\n",
    "    // attribute power: kW;\n",
    "    // attribute displacement: L;\n",
    "  }\n",
    "\n",
    "  part Transmission {\n",
    "    // attribute type: String; // Manual, Automatic\n",
    "    // attribute gears: Integer;\n",
    "  }\n",
    "\n",
    "  part Wheel {\n",
    "    // attribute radius: cm;\n",
    "    // attribute type: String; // Alloy, Steel\n",
    "  }\n",
    "\n",
    "  part Chassis {\n",
    "    // attribute material: String;\n",
    "    // attribute frameType: String;\n",
    "  }\n",
    "\n",
    "  // // Relationships (NOT WORKING)\n",
    "  // association (Vehicle -> Engine);\n",
    "  // association (Vehicle -> Transmission);\n",
    "  // association (Vehicle -> Wheel[4]);\n",
    "  // association (Vehicle -> Chassis);\n",
    "\n",
    "  part Part_1 {\n",
    "\n",
    "  }\n",
    "}\n"
   ]
  },
  {
   "cell_type": "markdown",
   "id": "c381f098",
   "metadata": {},
   "source": []
  },
  {
   "cell_type": "code",
   "execution_count": 4,
   "id": "5e12e917-3333-41dc-ad0e-f7424da3fa5b",
   "metadata": {
    "vscode": {
     "languageId": "sysml"
    }
   },
   "outputs": [
    {
     "data": {
      "image/svg+xml": [
       "<?xml version=\"1.0\" encoding=\"UTF-8\" standalone=\"no\"?><svg xmlns=\"http://www.w3.org/2000/svg\" xmlns:xlink=\"http://www.w3.org/1999/xlink\" contentStyleType=\"text/css\" height=\"116px\" preserveAspectRatio=\"none\" style=\"width:539px;height:116px;background:#FFFFFF;\" version=\"1.1\" viewBox=\"0 0 539 116\" width=\"539px\" zoomAndPan=\"magnify\"><defs/><g><!--MD5=[fbc87193dbaf4d95561dea2c320d4a47]\n",
       "cluster E1--><g id=\"cluster_E1\"><a href=\"psysml:a0fcf868-a6ee-4ad0-9da8-3abd24b2dc34\" target=\"_top\" title=\"psysml:a0fcf868-a6ee-4ad0-9da8-3abd24b2dc34\" xlink:actuate=\"onRequest\" xlink:href=\"psysml:a0fcf868-a6ee-4ad0-9da8-3abd24b2dc34\" xlink:show=\"new\" xlink:title=\"psysml:a0fcf868-a6ee-4ad0-9da8-3abd24b2dc34\" xlink:type=\"simple\"><polygon fill=\"none\" points=\"16,6,152,6,159,29.6094,522,29.6094,522,109,16,109,16,6\" style=\"stroke:#000000;stroke-width:1.5;\"/><line style=\"stroke:#000000;stroke-width:1.5;\" x1=\"16\" x2=\"159\" y1=\"29.6094\" y2=\"29.6094\"/><text fill=\"#000000\" font-family=\"sans-serif\" font-size=\"14\" font-weight=\"bold\" lengthAdjust=\"spacing\" textLength=\"130\" x=\"20\" y=\"22.5332\">AutomotiveSystem</text></a></g><!--MD5=[b4997ac47864f28c2f74865a473b2911]\n",
       "class E2--><a href=\"psysml:7b259da1-298f-42ac-95f9-dd5ae11097b1\" target=\"_top\" title=\"psysml:7b259da1-298f-42ac-95f9-dd5ae11097b1\" xlink:actuate=\"onRequest\" xlink:href=\"psysml:7b259da1-298f-42ac-95f9-dd5ae11097b1\" xlink:show=\"new\" xlink:title=\"psysml:7b259da1-298f-42ac-95f9-dd5ae11097b1\" xlink:type=\"simple\"><g id=\"elem_E2\"><rect fill=\"#FFFFFF\" height=\"50.7031\" id=\"E2\" rx=\"10\" ry=\"10\" style=\"stroke:#181818;stroke-width:0.5;\" width=\"60\" x=\"446\" y=\"42\"/><text fill=\"#000000\" font-family=\"sans-serif\" font-size=\"12\" font-style=\"italic\" lengthAdjust=\"spacing\" textLength=\"35\" x=\"458.5\" y=\"59.457\">«part»</text><text fill=\"#000000\" font-family=\"sans-serif\" font-size=\"14\" lengthAdjust=\"spacing\" textLength=\"46\" x=\"449\" y=\"76.627\">Vehicle</text><line style=\"stroke:#181818;stroke-width:0.5;\" x1=\"447\" x2=\"505\" y1=\"84.7031\" y2=\"84.7031\"/></g></a><!--MD5=[09b614a08d8cba4a07c9adeb5e0fee81]\n",
       "class E3--><a href=\"psysml:7c494bc9-13c1-406a-a2a9-c26c0ecb7c17\" target=\"_top\" title=\"psysml:7c494bc9-13c1-406a-a2a9-c26c0ecb7c17\" xlink:actuate=\"onRequest\" xlink:href=\"psysml:7c494bc9-13c1-406a-a2a9-c26c0ecb7c17\" xlink:show=\"new\" xlink:title=\"psysml:7c494bc9-13c1-406a-a2a9-c26c0ecb7c17\" xlink:type=\"simple\"><g id=\"elem_E3\"><rect fill=\"#FFFFFF\" height=\"50.7031\" id=\"E3\" rx=\"10\" ry=\"10\" style=\"stroke:#181818;stroke-width:0.5;\" width=\"58\" x=\"353\" y=\"42\"/><text fill=\"#000000\" font-family=\"sans-serif\" font-size=\"12\" font-style=\"italic\" lengthAdjust=\"spacing\" textLength=\"35\" x=\"364.5\" y=\"59.457\">«part»</text><text fill=\"#000000\" font-family=\"sans-serif\" font-size=\"14\" lengthAdjust=\"spacing\" textLength=\"44\" x=\"356\" y=\"76.627\">Engine</text><line style=\"stroke:#181818;stroke-width:0.5;\" x1=\"354\" x2=\"410\" y1=\"84.7031\" y2=\"84.7031\"/></g></a><!--MD5=[ebbe1d658d1005bcc118a6aa81145e00]\n",
       "class E4--><a href=\"psysml:9d764da5-75b8-4dfc-a5e2-284446ed647f\" target=\"_top\" title=\"psysml:9d764da5-75b8-4dfc-a5e2-284446ed647f\" xlink:actuate=\"onRequest\" xlink:href=\"psysml:9d764da5-75b8-4dfc-a5e2-284446ed647f\" xlink:show=\"new\" xlink:title=\"psysml:9d764da5-75b8-4dfc-a5e2-284446ed647f\" xlink:type=\"simple\"><g id=\"elem_E4\"><rect fill=\"#FFFFFF\" height=\"50.7031\" id=\"E4\" rx=\"10\" ry=\"10\" style=\"stroke:#181818;stroke-width:0.5;\" width=\"98\" x=\"220\" y=\"42\"/><text fill=\"#000000\" font-family=\"sans-serif\" font-size=\"12\" font-style=\"italic\" lengthAdjust=\"spacing\" textLength=\"35\" x=\"251.5\" y=\"59.457\">«part»</text><text fill=\"#000000\" font-family=\"sans-serif\" font-size=\"14\" lengthAdjust=\"spacing\" textLength=\"84\" x=\"223\" y=\"76.627\">Transmission</text><line style=\"stroke:#181818;stroke-width:0.5;\" x1=\"221\" x2=\"317\" y1=\"84.7031\" y2=\"84.7031\"/></g></a><!--MD5=[270fce915f116d4de14055a7c1d9a0f3]\n",
       "class E5--><a href=\"psysml:06bfbd53-e532-4b4e-8919-0d1e59c92e0d\" target=\"_top\" title=\"psysml:06bfbd53-e532-4b4e-8919-0d1e59c92e0d\" xlink:actuate=\"onRequest\" xlink:href=\"psysml:06bfbd53-e532-4b4e-8919-0d1e59c92e0d\" xlink:show=\"new\" xlink:title=\"psysml:06bfbd53-e532-4b4e-8919-0d1e59c92e0d\" xlink:type=\"simple\"><g id=\"elem_E5\"><rect fill=\"#FFFFFF\" height=\"50.7031\" id=\"E5\" rx=\"10\" ry=\"10\" style=\"stroke:#181818;stroke-width:0.5;\" width=\"54\" x=\"131\" y=\"42\"/><text fill=\"#000000\" font-family=\"sans-serif\" font-size=\"12\" font-style=\"italic\" lengthAdjust=\"spacing\" textLength=\"35\" x=\"140.5\" y=\"59.457\">«part»</text><text fill=\"#000000\" font-family=\"sans-serif\" font-size=\"14\" lengthAdjust=\"spacing\" textLength=\"40\" x=\"134\" y=\"76.627\">Wheel</text><line style=\"stroke:#181818;stroke-width:0.5;\" x1=\"132\" x2=\"184\" y1=\"84.7031\" y2=\"84.7031\"/></g></a><!--MD5=[60a26617385b1d2d0262a64233df1f8d]\n",
       "class E6--><a href=\"psysml:e5ce9230-ea5a-4bac-8815-9533ea1c27b8\" target=\"_top\" title=\"psysml:e5ce9230-ea5a-4bac-8815-9533ea1c27b8\" xlink:actuate=\"onRequest\" xlink:href=\"psysml:e5ce9230-ea5a-4bac-8815-9533ea1c27b8\" xlink:show=\"new\" xlink:title=\"psysml:e5ce9230-ea5a-4bac-8815-9533ea1c27b8\" xlink:type=\"simple\"><g id=\"elem_E6\"><rect fill=\"#FFFFFF\" height=\"50.7031\" id=\"E6\" rx=\"10\" ry=\"10\" style=\"stroke:#181818;stroke-width:0.5;\" width=\"64\" x=\"32\" y=\"42\"/><text fill=\"#000000\" font-family=\"sans-serif\" font-size=\"12\" font-style=\"italic\" lengthAdjust=\"spacing\" textLength=\"35\" x=\"46.5\" y=\"59.457\">«part»</text><text fill=\"#000000\" font-family=\"sans-serif\" font-size=\"14\" lengthAdjust=\"spacing\" textLength=\"50\" x=\"35\" y=\"76.627\">Chassis</text><line style=\"stroke:#181818;stroke-width:0.5;\" x1=\"33\" x2=\"95\" y1=\"84.7031\" y2=\"84.7031\"/></g></a><!--MD5=[c6d73e25616a79505819cfcfc8df6b2d]\n",
       "@startuml\r\n",
       "skin sysmlbw\r\n",
       "skinparam monochrome true\r\n",
       "skinparam wrapWidth 300\r\n",
       "hide circle\r\n",
       "\r\n",
       "package \"AutomotiveSystem\" as E1  [[psysml:a0fcf868-a6ee-4ad0-9da8-3abd24b2dc34 ]]  {\r\n",
       "comp usage \"Vehicle  \" as E2  <<(T,blue) part>> [[psysml:7b259da1-298f-42ac-95f9-dd5ae11097b1 ]] {\r\n",
       "}\r\n",
       "comp usage \"Engine  \" as E3  <<(T,blue) part>> [[psysml:7c494bc9-13c1-406a-a2a9-c26c0ecb7c17 ]] {\r\n",
       "}\r\n",
       "comp usage \"Transmission  \" as E4  <<(T,blue) part>> [[psysml:9d764da5-75b8-4dfc-a5e2-284446ed647f ]] {\r\n",
       "}\r\n",
       "comp usage \"Wheel  \" as E5  <<(T,blue) part>> [[psysml:06bfbd53-e532-4b4e-8919-0d1e59c92e0d ]] {\r\n",
       "}\r\n",
       "comp usage \"Chassis  \" as E6  <<(T,blue) part>> [[psysml:e5ce9230-ea5a-4bac-8815-9533ea1c27b8 ]] {\r\n",
       "}\r\n",
       "}\r\n",
       "@enduml\r\n",
       "\n",
       "PlantUML version 1.2022.7(Mon Aug 22 11:01:30 GMT-06:00 2022)\n",
       "(EPL source distribution)\n",
       "Java Runtime: OpenJDK Runtime Environment\n",
       "JVM: OpenJDK 64-Bit Server VM\n",
       "Default Encoding: UTF-8\n",
       "Language: en\n",
       "Country: US\n",
       "--></g></svg>"
      ]
     },
     "execution_count": 4,
     "metadata": {},
     "output_type": "execute_result"
    }
   ],
   "source": [
    "%viz AutomotiveSystem"
   ]
  },
  {
   "cell_type": "code",
   "execution_count": null,
   "id": "5dc03ffd-533e-4df0-9051-85c8a000ae2c",
   "metadata": {
    "vscode": {
     "languageId": "sysml"
    }
   },
   "outputs": [],
   "source": []
  }
 ],
 "metadata": {
  "kernelspec": {
   "display_name": "SysML [conda env:base] *",
   "language": "sysml",
   "name": "conda-base-sysml"
  },
  "language_info": {
   "codemirror_mode": "sysml",
   "file_extension": ".sysml",
   "mimetype": "text/x-sysml",
   "name": "SysML",
   "pygments_lexer": "java",
   "version": "1.0.0"
  }
 },
 "nbformat": 4,
 "nbformat_minor": 5
}
